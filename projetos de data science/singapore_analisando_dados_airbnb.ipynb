{
 "cells": [
  {
   "cell_type": "markdown",
   "metadata": {
    "id": "kLI0gJtzDGuQ"
   },
   "source": [
    "\n",
    "\n",
    "---\n",
    "\n",
    "# Análise dos Dados do Airbnb - *Singapura*\n",
    " #### **by Alexandre Magno Galieta de Oliveira**\n",
    " \n",
    "\n",
    "O [Airbnb](https://www.airbnb.com.br/) já é considerado como sendo a **maior empresa hoteleira da atualidade**. Ah, o detalhe é que ele **não possui nenhum hotel**!\n",
    "\n",
    "Conectando pessoas que querem viajar (e se hospedar) com anfitriões que querem alugar seus imóveis de maneira prática, o Airbnb fornece uma plataforma inovadora para tornar essa hospedagem alternativa.\n",
    "\n",
    "No final de 2018, a Startup fundada 10 anos atrás, já havia **hospedado mais de 300 milhões** de pessoas ao redor de todo o mundo, desafiando as redes hoteleiras tradicionais.\n",
    "\n",
    "Uma das iniciativas do Airbnb é disponibilizar dados do site, para algumas das principais cidades do mundo. Por meio do portal [Inside Airbnb](http://insideairbnb.com/get-the-data.html), é possível baixar uma grande quantidade de dados para desenvolver projetos e soluções de *Data Science*.\n",
    "\n",
    "<center><img alt=\"Analisando Airbnb\" width=\"10%\" src=\"https://www.area360.com.au/wp-content/uploads/2017/09/airbnb-logo.jpg\"></center>\n",
    "\n",
    "\n",
    "#  *Singapura*\n",
    "\n",
    "Oficialmente, República de Singapura, é uma cidade-Estado insular localizada na ponta sul da Península Malaia, no Sudeste Asiático, 137 quilômetros ao norte do equador. Constituído por 63 ilhas, Singapura é seperado da Malásia pelo Estreito de Jor, ao norte, e das Ilhas Riau (Indonésia) pelo Estreito de Singapura, ao sul. O país é o que apresenta o maior Índice de Desenvolvimento Humano (IDH) dos países asiáticos (9o melhor do mundo em 2014). O seu território é altamente urbanizado, mas quase metade dele é coberto por vegetação. No entanto, mais terras estão sendo criadas para o desenvolvimento por meio do processo de aterramento marítimo.\n",
    "\n",
    "Singapura foi parte de diversos impérios locais desde que foi habitado no século II d.C.. O país moderno foi fundado como um posto comercial da Companhia Britânica das Índias Orientais por Sir Stamford Raffles em 1819 com a permissão do Sultanato de Jor. O Império Britânico obteve soberania completa da ilha em 1824 e a cidade se tornou um dos Estabelecimentos dos Estreitos em 1826. Singapura foi ocupada pelo Império do Japão durante a Segunda Guerra Mundial e voltou ao domínio britânico após o conflito. Tornou-se autogovernada internamente em 1959. O território uniu-se a outros ex-territórios britânicos para formar a Malásia em 1963 e tornou-se um Estado totalmente independente dois anos mais tarde. Desde então, teve um aumento maciço em termos de riqueza e é um dos quatro Tigres Asiáticos. A economia depende fortemente da indústria e dos serviços. O país é um líder mundial em diversas áreas: é o quarto principal centro financeiro do mundo, o segundo maior mercado de casinos e o terceiro maior centro de refinação de petróleo do mundo. Seu porto é um dos cinco mais movimentados do mundo. O país é o lar do maior número de famílias milionárias em dólares per capita do planeta. O Banco Mundial considera a cidade como o melhor lugar no mundo para se fazer negócios. O país tem o terceiro maior PIB per capita por paridade do poder de compra do mundo, tornando Singapura um dos países mais ricos do planeta. \n",
    "\n",
    "**Neste *notebook*, iremos analisar os dados referentes à cidade de Singapura, e ver quais insights podem ser extraídos a partir de dados brutos.**"
   ]
  },
  {
   "cell_type": "markdown",
   "metadata": {},
   "source": [
    "<img src=\"https://upload.wikimedia.org/wikipedia/commons/2/2d/Singapore_River_where_it_all_begins.jpg\" alt=\"https://upload.wikimedia.org/wikipedia/commons/2/2d/Singapore_River_where_it_all_begins.jpg\" class=\"overflowingVertical\">"
   ]
  },
  {
   "cell_type": "markdown",
   "metadata": {
    "id": "0zxQHhIUDF_2"
   },
   "source": [
    "## Obtenção dos Dados\n"
   ]
  },
  {
   "cell_type": "code",
   "execution_count": 2,
   "metadata": {
    "id": "Vhp2wMPgJ6zX"
   },
   "outputs": [],
   "source": [
    "# importar os pacotes necessarios\n",
    "import pandas as pd\n",
    "import matplotlib.pyplot as plt\n",
    "import seaborn as sns\n",
    "import matplotlib.colors as mcolors\n",
    "import matplotlib.cm as cm"
   ]
  },
  {
   "cell_type": "code",
   "execution_count": 3,
   "metadata": {
    "id": "tUmoAT8DLQ5T"
   },
   "outputs": [],
   "source": [
    "# importar o arquivo listings.csv para um DataFrame\n",
    "df = pd.read_csv('singapore_listings.csv')\n"
   ]
  },
  {
   "cell_type": "markdown",
   "metadata": {
    "id": "qb5By2nIMS6m"
   },
   "source": [
    "## Análise dos Dados\n"
   ]
  },
  {
   "cell_type": "markdown",
   "metadata": {
    "id": "RYgvuebKNg8-"
   },
   "source": [
    "**Dicionário das variáveis**\n",
    "\n",
    "* id - número de id gerado para identificar o imóvel\n",
    "* name - nome da propriedade anunciada\n",
    "* host_id - número de id do proprietário (anfitrião) da propriedade\n",
    "* host_name - Nome do anfitrião\n",
    "* neighbourhood_group - nome do distrito onde se encontra o bairro da propriedade\n",
    "* neighbourhood - nome do bairro\n",
    "* latitude - coordenada da latitude da propriedade\n",
    "* longitude - coordenada da longitude da propriedade\n",
    "* room_type - informa o tipo de quarto que é oferecido\n",
    "* price - preço para alugar o imóvel\n",
    "* minimum_nights - quantidade mínima de noites para reservar\n",
    "* number_of_reviews - número de reviews que a propriedade possui\n",
    "* last_review - data do último review\n",
    "* reviews_per_month - quantidade de reviews por mês\n",
    "* calculated_host_listings_count - quantidade de imóveis do mesmo anfitrião\n",
    "* availabitity_365 - número de dias de disponibilidade dentro de 365 dias\n",
    "\n",
    "Antes de iniciar qualquer análise, vamos verificar a cara do nosso *dataset*, analisando as 5 primeiras entradas."
   ]
  },
  {
   "cell_type": "code",
   "execution_count": 75,
   "metadata": {
    "id": "2iS_dae7YQtO"
   },
   "outputs": [
    {
     "data": {
      "text/html": [
       "<div>\n",
       "<style scoped>\n",
       "    .dataframe tbody tr th:only-of-type {\n",
       "        vertical-align: middle;\n",
       "    }\n",
       "\n",
       "    .dataframe tbody tr th {\n",
       "        vertical-align: top;\n",
       "    }\n",
       "\n",
       "    .dataframe thead th {\n",
       "        text-align: right;\n",
       "    }\n",
       "</style>\n",
       "<table border=\"1\" class=\"dataframe\">\n",
       "  <thead>\n",
       "    <tr style=\"text-align: right;\">\n",
       "      <th></th>\n",
       "      <th>id</th>\n",
       "      <th>name</th>\n",
       "      <th>host_id</th>\n",
       "      <th>host_name</th>\n",
       "      <th>neighbourhood_group</th>\n",
       "      <th>neighbourhood</th>\n",
       "      <th>latitude</th>\n",
       "      <th>longitude</th>\n",
       "      <th>room_type</th>\n",
       "      <th>price</th>\n",
       "      <th>minimum_nights</th>\n",
       "      <th>number_of_reviews</th>\n",
       "      <th>last_review</th>\n",
       "      <th>reviews_per_month</th>\n",
       "      <th>calculated_host_listings_count</th>\n",
       "      <th>availability_365</th>\n",
       "      <th>number_of_reviews_ltm</th>\n",
       "      <th>license</th>\n",
       "    </tr>\n",
       "  </thead>\n",
       "  <tbody>\n",
       "    <tr>\n",
       "      <th>0</th>\n",
       "      <td>50646</td>\n",
       "      <td>Pleasant Room along Bukit Timah</td>\n",
       "      <td>227796</td>\n",
       "      <td>Sujatha</td>\n",
       "      <td>Central Region</td>\n",
       "      <td>Bukit Timah</td>\n",
       "      <td>1.33432</td>\n",
       "      <td>103.78521</td>\n",
       "      <td>Private room</td>\n",
       "      <td>80</td>\n",
       "      <td>90</td>\n",
       "      <td>18</td>\n",
       "      <td>2014-07-08</td>\n",
       "      <td>0.21</td>\n",
       "      <td>1</td>\n",
       "      <td>364</td>\n",
       "      <td>0</td>\n",
       "      <td>NaN</td>\n",
       "    </tr>\n",
       "    <tr>\n",
       "      <th>1</th>\n",
       "      <td>71609</td>\n",
       "      <td>Ensuite Room (Room 1 &amp; 2) near EXPO</td>\n",
       "      <td>367042</td>\n",
       "      <td>Belinda</td>\n",
       "      <td>East Region</td>\n",
       "      <td>Tampines</td>\n",
       "      <td>1.34537</td>\n",
       "      <td>103.95887</td>\n",
       "      <td>Private room</td>\n",
       "      <td>178</td>\n",
       "      <td>90</td>\n",
       "      <td>20</td>\n",
       "      <td>2019-12-28</td>\n",
       "      <td>0.27</td>\n",
       "      <td>4</td>\n",
       "      <td>365</td>\n",
       "      <td>0</td>\n",
       "      <td>NaN</td>\n",
       "    </tr>\n",
       "    <tr>\n",
       "      <th>2</th>\n",
       "      <td>71896</td>\n",
       "      <td>B&amp;B  Room 1 near Airport &amp; EXPO</td>\n",
       "      <td>367042</td>\n",
       "      <td>Belinda</td>\n",
       "      <td>East Region</td>\n",
       "      <td>Tampines</td>\n",
       "      <td>1.34754</td>\n",
       "      <td>103.95958</td>\n",
       "      <td>Private room</td>\n",
       "      <td>81</td>\n",
       "      <td>90</td>\n",
       "      <td>24</td>\n",
       "      <td>2014-12-10</td>\n",
       "      <td>0.32</td>\n",
       "      <td>4</td>\n",
       "      <td>365</td>\n",
       "      <td>0</td>\n",
       "      <td>NaN</td>\n",
       "    </tr>\n",
       "    <tr>\n",
       "      <th>3</th>\n",
       "      <td>71903</td>\n",
       "      <td>Room 2-near Airport &amp; EXPO</td>\n",
       "      <td>367042</td>\n",
       "      <td>Belinda</td>\n",
       "      <td>East Region</td>\n",
       "      <td>Tampines</td>\n",
       "      <td>1.34531</td>\n",
       "      <td>103.96100</td>\n",
       "      <td>Private room</td>\n",
       "      <td>81</td>\n",
       "      <td>90</td>\n",
       "      <td>48</td>\n",
       "      <td>2019-10-21</td>\n",
       "      <td>0.64</td>\n",
       "      <td>4</td>\n",
       "      <td>365</td>\n",
       "      <td>0</td>\n",
       "      <td>NaN</td>\n",
       "    </tr>\n",
       "    <tr>\n",
       "      <th>4</th>\n",
       "      <td>275343</td>\n",
       "      <td>Conveniently located City Room!(1,2,3,4,5,6,7,8)</td>\n",
       "      <td>1439258</td>\n",
       "      <td>Joyce</td>\n",
       "      <td>Central Region</td>\n",
       "      <td>Bukit Merah</td>\n",
       "      <td>1.29015</td>\n",
       "      <td>103.80814</td>\n",
       "      <td>Private room</td>\n",
       "      <td>52</td>\n",
       "      <td>14</td>\n",
       "      <td>20</td>\n",
       "      <td>2019-10-17</td>\n",
       "      <td>0.19</td>\n",
       "      <td>50</td>\n",
       "      <td>364</td>\n",
       "      <td>0</td>\n",
       "      <td>NaN</td>\n",
       "    </tr>\n",
       "  </tbody>\n",
       "</table>\n",
       "</div>"
      ],
      "text/plain": [
       "       id                                              name  host_id  \\\n",
       "0   50646                   Pleasant Room along Bukit Timah   227796   \n",
       "1   71609               Ensuite Room (Room 1 & 2) near EXPO   367042   \n",
       "2   71896                   B&B  Room 1 near Airport & EXPO   367042   \n",
       "3   71903                        Room 2-near Airport & EXPO   367042   \n",
       "4  275343  Conveniently located City Room!(1,2,3,4,5,6,7,8)  1439258   \n",
       "\n",
       "  host_name neighbourhood_group neighbourhood  latitude  longitude  \\\n",
       "0   Sujatha      Central Region   Bukit Timah   1.33432  103.78521   \n",
       "1   Belinda         East Region      Tampines   1.34537  103.95887   \n",
       "2   Belinda         East Region      Tampines   1.34754  103.95958   \n",
       "3   Belinda         East Region      Tampines   1.34531  103.96100   \n",
       "4     Joyce      Central Region   Bukit Merah   1.29015  103.80814   \n",
       "\n",
       "      room_type  price  minimum_nights  number_of_reviews last_review  \\\n",
       "0  Private room     80              90                 18  2014-07-08   \n",
       "1  Private room    178              90                 20  2019-12-28   \n",
       "2  Private room     81              90                 24  2014-12-10   \n",
       "3  Private room     81              90                 48  2019-10-21   \n",
       "4  Private room     52              14                 20  2019-10-17   \n",
       "\n",
       "   reviews_per_month  calculated_host_listings_count  availability_365  \\\n",
       "0               0.21                               1               364   \n",
       "1               0.27                               4               365   \n",
       "2               0.32                               4               365   \n",
       "3               0.64                               4               365   \n",
       "4               0.19                              50               364   \n",
       "\n",
       "   number_of_reviews_ltm license  \n",
       "0                      0     NaN  \n",
       "1                      0     NaN  \n",
       "2                      0     NaN  \n",
       "3                      0     NaN  \n",
       "4                      0     NaN  "
      ]
     },
     "execution_count": 75,
     "metadata": {},
     "output_type": "execute_result"
    }
   ],
   "source": [
    "df.head()"
   ]
  },
  {
   "cell_type": "markdown",
   "metadata": {
    "id": "6-B_qtEaYEd-"
   },
   "source": [
    "### **Q1. Quantos atributos (variáveis) e quantas entradas o nosso conjunto de dados                         possui? Quais os tipos das variáveis?**"
   ]
  },
  {
   "cell_type": "code",
   "execution_count": 76,
   "metadata": {
    "id": "TFRK0tniLV-G"
   },
   "outputs": [
    {
     "name": "stdout",
     "output_type": "stream",
     "text": [
      "Entradas:\t 4221\n",
      "Variáveis:\t 18\n"
     ]
    },
    {
     "data": {
      "text/plain": [
       "id                                  int64\n",
       "name                               object\n",
       "host_id                             int64\n",
       "host_name                          object\n",
       "neighbourhood_group                object\n",
       "neighbourhood                      object\n",
       "latitude                          float64\n",
       "longitude                         float64\n",
       "room_type                          object\n",
       "price                               int64\n",
       "minimum_nights                      int64\n",
       "number_of_reviews                   int64\n",
       "last_review                        object\n",
       "reviews_per_month                 float64\n",
       "calculated_host_listings_count      int64\n",
       "availability_365                    int64\n",
       "number_of_reviews_ltm               int64\n",
       "license                            object\n",
       "dtype: object"
      ]
     },
     "metadata": {},
     "output_type": "display_data"
    }
   ],
   "source": [
    "print(\"Entradas:\\t {}\".format(df.shape[0]))\n",
    "print(\"Variáveis:\\t {}\".format(df.shape[1]))\n",
    "\n",
    "display(df.dtypes)"
   ]
  },
  {
   "cell_type": "markdown",
   "metadata": {
    "id": "yz1urSUGW9iE"
   },
   "source": [
    "### **Q2. Qual a porcentagem de valores ausentes no *dataset*?**\n",
    "\n",
    "* É possível verificar que a coluna license está praticamente com todos os valores faltando.\n",
    "* As variáveis **reviews_per_month** e **last_review** possuem uma proporção grande de valores faltantes       (43%) para as duas.\n"
   ]
  },
  {
   "cell_type": "code",
   "execution_count": 77,
   "metadata": {
    "id": "plk2FjbCXOqP"
   },
   "outputs": [
    {
     "data": {
      "text/plain": [
       "license                           0.997868\n",
       "reviews_per_month                 0.429045\n",
       "last_review                       0.429045\n",
       "host_name                         0.001895\n",
       "minimum_nights                    0.000000\n",
       "number_of_reviews_ltm             0.000000\n",
       "availability_365                  0.000000\n",
       "calculated_host_listings_count    0.000000\n",
       "number_of_reviews                 0.000000\n",
       "id                                0.000000\n",
       "name                              0.000000\n",
       "room_type                         0.000000\n",
       "longitude                         0.000000\n",
       "latitude                          0.000000\n",
       "neighbourhood                     0.000000\n",
       "neighbourhood_group               0.000000\n",
       "host_id                           0.000000\n",
       "price                             0.000000\n",
       "dtype: float64"
      ]
     },
     "execution_count": 77,
     "metadata": {},
     "output_type": "execute_result"
    }
   ],
   "source": [
    "(df.isnull().sum() / df.shape[0]).sort_values(ascending=False)"
   ]
  },
  {
   "cell_type": "markdown",
   "metadata": {},
   "source": [
    "### **Q3. Avaliando os Dados Numéricos e Limpando o Dataframe**"
   ]
  },
  {
   "cell_type": "code",
   "execution_count": 7,
   "metadata": {},
   "outputs": [
    {
     "data": {
      "text/html": [
       "<div>\n",
       "<style scoped>\n",
       "    .dataframe tbody tr th:only-of-type {\n",
       "        vertical-align: middle;\n",
       "    }\n",
       "\n",
       "    .dataframe tbody tr th {\n",
       "        vertical-align: top;\n",
       "    }\n",
       "\n",
       "    .dataframe thead th {\n",
       "        text-align: right;\n",
       "    }\n",
       "</style>\n",
       "<table border=\"1\" class=\"dataframe\">\n",
       "  <thead>\n",
       "    <tr style=\"text-align: right;\">\n",
       "      <th></th>\n",
       "      <th>id</th>\n",
       "      <th>host_id</th>\n",
       "      <th>latitude</th>\n",
       "      <th>longitude</th>\n",
       "      <th>price</th>\n",
       "      <th>minimum_nights</th>\n",
       "      <th>number_of_reviews</th>\n",
       "      <th>reviews_per_month</th>\n",
       "      <th>calculated_host_listings_count</th>\n",
       "      <th>availability_365</th>\n",
       "      <th>number_of_reviews_ltm</th>\n",
       "    </tr>\n",
       "  </thead>\n",
       "  <tbody>\n",
       "    <tr>\n",
       "      <th>count</th>\n",
       "      <td>4.221000e+03</td>\n",
       "      <td>4.221000e+03</td>\n",
       "      <td>4221.000000</td>\n",
       "      <td>4221.000000</td>\n",
       "      <td>4221.000000</td>\n",
       "      <td>4221.000000</td>\n",
       "      <td>4221.000000</td>\n",
       "      <td>2410.000000</td>\n",
       "      <td>4221.000000</td>\n",
       "      <td>4221.000000</td>\n",
       "      <td>4221.000000</td>\n",
       "    </tr>\n",
       "    <tr>\n",
       "      <th>mean</th>\n",
       "      <td>3.058462e+07</td>\n",
       "      <td>1.199927e+08</td>\n",
       "      <td>1.311694</td>\n",
       "      <td>103.845646</td>\n",
       "      <td>170.167733</td>\n",
       "      <td>30.097370</td>\n",
       "      <td>12.037906</td>\n",
       "      <td>0.647780</td>\n",
       "      <td>43.898365</td>\n",
       "      <td>255.043118</td>\n",
       "      <td>0.976546</td>\n",
       "    </tr>\n",
       "    <tr>\n",
       "      <th>std</th>\n",
       "      <td>1.422863e+07</td>\n",
       "      <td>1.117806e+08</td>\n",
       "      <td>0.031982</td>\n",
       "      <td>0.042829</td>\n",
       "      <td>345.224111</td>\n",
       "      <td>61.516909</td>\n",
       "      <td>32.259698</td>\n",
       "      <td>1.459616</td>\n",
       "      <td>57.690384</td>\n",
       "      <td>131.092824</td>\n",
       "      <td>5.494217</td>\n",
       "    </tr>\n",
       "    <tr>\n",
       "      <th>min</th>\n",
       "      <td>5.064600e+04</td>\n",
       "      <td>2.366600e+04</td>\n",
       "      <td>1.245350</td>\n",
       "      <td>103.648280</td>\n",
       "      <td>0.000000</td>\n",
       "      <td>1.000000</td>\n",
       "      <td>0.000000</td>\n",
       "      <td>0.010000</td>\n",
       "      <td>1.000000</td>\n",
       "      <td>0.000000</td>\n",
       "      <td>0.000000</td>\n",
       "    </tr>\n",
       "    <tr>\n",
       "      <th>25%</th>\n",
       "      <td>1.953525e+07</td>\n",
       "      <td>2.449636e+07</td>\n",
       "      <td>1.290230</td>\n",
       "      <td>103.834340</td>\n",
       "      <td>64.000000</td>\n",
       "      <td>2.000000</td>\n",
       "      <td>0.000000</td>\n",
       "      <td>0.070000</td>\n",
       "      <td>3.000000</td>\n",
       "      <td>124.000000</td>\n",
       "      <td>0.000000</td>\n",
       "    </tr>\n",
       "    <tr>\n",
       "      <th>50%</th>\n",
       "      <td>3.282593e+07</td>\n",
       "      <td>8.773175e+07</td>\n",
       "      <td>1.308210</td>\n",
       "      <td>103.847530</td>\n",
       "      <td>110.000000</td>\n",
       "      <td>7.000000</td>\n",
       "      <td>1.000000</td>\n",
       "      <td>0.200000</td>\n",
       "      <td>12.000000</td>\n",
       "      <td>335.000000</td>\n",
       "      <td>0.000000</td>\n",
       "    </tr>\n",
       "    <tr>\n",
       "      <th>75%</th>\n",
       "      <td>4.282991e+07</td>\n",
       "      <td>1.785841e+08</td>\n",
       "      <td>1.318010</td>\n",
       "      <td>103.861930</td>\n",
       "      <td>180.000000</td>\n",
       "      <td>30.000000</td>\n",
       "      <td>7.000000</td>\n",
       "      <td>0.750000</td>\n",
       "      <td>71.000000</td>\n",
       "      <td>364.000000</td>\n",
       "      <td>0.000000</td>\n",
       "    </tr>\n",
       "    <tr>\n",
       "      <th>max</th>\n",
       "      <td>5.250524e+07</td>\n",
       "      <td>4.232324e+08</td>\n",
       "      <td>1.453910</td>\n",
       "      <td>103.969660</td>\n",
       "      <td>10286.000000</td>\n",
       "      <td>1000.000000</td>\n",
       "      <td>370.000000</td>\n",
       "      <td>36.320000</td>\n",
       "      <td>188.000000</td>\n",
       "      <td>365.000000</td>\n",
       "      <td>185.000000</td>\n",
       "    </tr>\n",
       "  </tbody>\n",
       "</table>\n",
       "</div>"
      ],
      "text/plain": [
       "                 id       host_id     latitude    longitude         price  \\\n",
       "count  4.221000e+03  4.221000e+03  4221.000000  4221.000000   4221.000000   \n",
       "mean   3.058462e+07  1.199927e+08     1.311694   103.845646    170.167733   \n",
       "std    1.422863e+07  1.117806e+08     0.031982     0.042829    345.224111   \n",
       "min    5.064600e+04  2.366600e+04     1.245350   103.648280      0.000000   \n",
       "25%    1.953525e+07  2.449636e+07     1.290230   103.834340     64.000000   \n",
       "50%    3.282593e+07  8.773175e+07     1.308210   103.847530    110.000000   \n",
       "75%    4.282991e+07  1.785841e+08     1.318010   103.861930    180.000000   \n",
       "max    5.250524e+07  4.232324e+08     1.453910   103.969660  10286.000000   \n",
       "\n",
       "       minimum_nights  number_of_reviews  reviews_per_month  \\\n",
       "count     4221.000000        4221.000000        2410.000000   \n",
       "mean        30.097370          12.037906           0.647780   \n",
       "std         61.516909          32.259698           1.459616   \n",
       "min          1.000000           0.000000           0.010000   \n",
       "25%          2.000000           0.000000           0.070000   \n",
       "50%          7.000000           1.000000           0.200000   \n",
       "75%         30.000000           7.000000           0.750000   \n",
       "max       1000.000000         370.000000          36.320000   \n",
       "\n",
       "       calculated_host_listings_count  availability_365  number_of_reviews_ltm  \n",
       "count                     4221.000000       4221.000000            4221.000000  \n",
       "mean                        43.898365        255.043118               0.976546  \n",
       "std                         57.690384        131.092824               5.494217  \n",
       "min                          1.000000          0.000000               0.000000  \n",
       "25%                          3.000000        124.000000               0.000000  \n",
       "50%                         12.000000        335.000000               0.000000  \n",
       "75%                         71.000000        364.000000               0.000000  \n",
       "max                        188.000000        365.000000             185.000000  "
      ]
     },
     "execution_count": 7,
     "metadata": {},
     "output_type": "execute_result"
    }
   ],
   "source": [
    "df.describe()"
   ]
  },
  {
   "cell_type": "markdown",
   "metadata": {},
   "source": [
    "* Fazendo uma análise preliminar das variáveis numéricas, não faz muito sentido manter as colunas **id, host_id, latitude e longitude**. Além dessas as colunas com muitos dados faltantes e que não são relevantes a nossa análise: **license** (99%),**reviews_per_month** (42,9%) e **last_review** (42,9%)."
   ]
  },
  {
   "cell_type": "code",
   "execution_count": 8,
   "metadata": {},
   "outputs": [],
   "source": [
    "exclude_describe = ['id', 'host_id', 'latitude', 'longitude', 'license', 'reviews_per_month', 'last_review']"
   ]
  },
  {
   "cell_type": "code",
   "execution_count": 9,
   "metadata": {},
   "outputs": [
    {
     "data": {
      "text/html": [
       "<div>\n",
       "<style scoped>\n",
       "    .dataframe tbody tr th:only-of-type {\n",
       "        vertical-align: middle;\n",
       "    }\n",
       "\n",
       "    .dataframe tbody tr th {\n",
       "        vertical-align: top;\n",
       "    }\n",
       "\n",
       "    .dataframe thead th {\n",
       "        text-align: right;\n",
       "    }\n",
       "</style>\n",
       "<table border=\"1\" class=\"dataframe\">\n",
       "  <thead>\n",
       "    <tr style=\"text-align: right;\">\n",
       "      <th></th>\n",
       "      <th>minimum_nights</th>\n",
       "      <th>number_of_reviews_ltm</th>\n",
       "      <th>number_of_reviews</th>\n",
       "      <th>calculated_host_listings_count</th>\n",
       "      <th>price</th>\n",
       "      <th>availability_365</th>\n",
       "    </tr>\n",
       "  </thead>\n",
       "  <tbody>\n",
       "    <tr>\n",
       "      <th>count</th>\n",
       "      <td>4221.000000</td>\n",
       "      <td>4221.000000</td>\n",
       "      <td>4221.000000</td>\n",
       "      <td>4221.000000</td>\n",
       "      <td>4221.000000</td>\n",
       "      <td>4221.000000</td>\n",
       "    </tr>\n",
       "    <tr>\n",
       "      <th>mean</th>\n",
       "      <td>30.097370</td>\n",
       "      <td>0.976546</td>\n",
       "      <td>12.037906</td>\n",
       "      <td>43.898365</td>\n",
       "      <td>170.167733</td>\n",
       "      <td>255.043118</td>\n",
       "    </tr>\n",
       "    <tr>\n",
       "      <th>std</th>\n",
       "      <td>61.516909</td>\n",
       "      <td>5.494217</td>\n",
       "      <td>32.259698</td>\n",
       "      <td>57.690384</td>\n",
       "      <td>345.224111</td>\n",
       "      <td>131.092824</td>\n",
       "    </tr>\n",
       "    <tr>\n",
       "      <th>min</th>\n",
       "      <td>1.000000</td>\n",
       "      <td>0.000000</td>\n",
       "      <td>0.000000</td>\n",
       "      <td>1.000000</td>\n",
       "      <td>0.000000</td>\n",
       "      <td>0.000000</td>\n",
       "    </tr>\n",
       "    <tr>\n",
       "      <th>25%</th>\n",
       "      <td>2.000000</td>\n",
       "      <td>0.000000</td>\n",
       "      <td>0.000000</td>\n",
       "      <td>3.000000</td>\n",
       "      <td>64.000000</td>\n",
       "      <td>124.000000</td>\n",
       "    </tr>\n",
       "    <tr>\n",
       "      <th>50%</th>\n",
       "      <td>7.000000</td>\n",
       "      <td>0.000000</td>\n",
       "      <td>1.000000</td>\n",
       "      <td>12.000000</td>\n",
       "      <td>110.000000</td>\n",
       "      <td>335.000000</td>\n",
       "    </tr>\n",
       "    <tr>\n",
       "      <th>75%</th>\n",
       "      <td>30.000000</td>\n",
       "      <td>0.000000</td>\n",
       "      <td>7.000000</td>\n",
       "      <td>71.000000</td>\n",
       "      <td>180.000000</td>\n",
       "      <td>364.000000</td>\n",
       "    </tr>\n",
       "    <tr>\n",
       "      <th>max</th>\n",
       "      <td>1000.000000</td>\n",
       "      <td>185.000000</td>\n",
       "      <td>370.000000</td>\n",
       "      <td>188.000000</td>\n",
       "      <td>10286.000000</td>\n",
       "      <td>365.000000</td>\n",
       "    </tr>\n",
       "  </tbody>\n",
       "</table>\n",
       "</div>"
      ],
      "text/plain": [
       "       minimum_nights  number_of_reviews_ltm  number_of_reviews  \\\n",
       "count     4221.000000            4221.000000        4221.000000   \n",
       "mean        30.097370               0.976546          12.037906   \n",
       "std         61.516909               5.494217          32.259698   \n",
       "min          1.000000               0.000000           0.000000   \n",
       "25%          2.000000               0.000000           0.000000   \n",
       "50%          7.000000               0.000000           1.000000   \n",
       "75%         30.000000               0.000000           7.000000   \n",
       "max       1000.000000             185.000000         370.000000   \n",
       "\n",
       "       calculated_host_listings_count         price  availability_365  \n",
       "count                     4221.000000   4221.000000       4221.000000  \n",
       "mean                        43.898365    170.167733        255.043118  \n",
       "std                         57.690384    345.224111        131.092824  \n",
       "min                          1.000000      0.000000          0.000000  \n",
       "25%                          3.000000     64.000000        124.000000  \n",
       "50%                         12.000000    110.000000        335.000000  \n",
       "75%                         71.000000    180.000000        364.000000  \n",
       "max                        188.000000  10286.000000        365.000000  "
      ]
     },
     "execution_count": 9,
     "metadata": {},
     "output_type": "execute_result"
    }
   ],
   "source": [
    "df[list(set(df.columns) - set(exclude_describe))].describe()"
   ]
  },
  {
   "cell_type": "markdown",
   "metadata": {},
   "source": [
    "* Percebe-se pela coluna **calculated_host_listings_count** que parte significativa dos hosts possui entre 3 e 12 imóveis.\n",
    "O preço máximo é de 10,286 e o preço mínimo é zero o que não deveria ser normal, assim como um **minimum_nights** de 1000, \n",
    "que corresponde a mais de 3 anos."
   ]
  },
  {
   "cell_type": "markdown",
   "metadata": {},
   "source": [
    "### **Q4. Qual o tipo de distribuição das variáveis?** "
   ]
  },
  {
   "cell_type": "code",
   "execution_count": 10,
   "metadata": {},
   "outputs": [
    {
     "data": {
      "image/png": "[encoded data removed]",
      "text/plain": [
       "<Figure size 1080x720 with 6 Axes>"
      ]
     },
     "metadata": {
      "needs_background": "light"
     },
     "output_type": "display_data"
    }
   ],
   "source": [
    "df[list(set(df.columns) - set(exclude_describe))].hist(bins=10, figsize=(15,10));"
   ]
  },
  {
   "cell_type": "markdown",
   "metadata": {
    "id": "7x4aw1j5wNmn"
   },
   "source": [
    "### **Q5. Qual a média dos preços de aluguel?**"
   ]
  },
  {
   "cell_type": "code",
   "execution_count": 78,
   "metadata": {
    "id": "ff-8gUahLk-C"
   },
   "outputs": [
    {
     "data": {
      "text/plain": [
       "170.16773276474768"
      ]
     },
     "execution_count": 78,
     "metadata": {},
     "output_type": "execute_result"
    }
   ],
   "source": [
    "df.price.mean()"
   ]
  },
  {
   "cell_type": "markdown",
   "metadata": {},
   "source": [
    "* Conforme indicado acima, o número máximo em **minimum_nights** não faz sentido (1000 noites). \n",
    "talvez um critério de limpeza seja eliminar valores que representam menos de 1% de toda a base.\n",
    "Vamos ver qual limite de dias atende esse critério:"
   ]
  },
  {
   "cell_type": "code",
   "execution_count": 79,
   "metadata": {
    "scrolled": true
   },
   "outputs": [
    {
     "data": {
      "image/png": "[encoded data removed]",
      "text/plain": [
       "<Figure size 1080x216 with 1 Axes>"
      ]
     },
     "metadata": {
      "needs_background": "light"
     },
     "output_type": "display_data"
    },
    {
     "name": "stdout",
     "output_type": "stream",
     "text": [
      "minimum_nights: valores acima de 200:\n",
      "39 entradas\n",
      "0.9240%\n"
     ]
    }
   ],
   "source": [
    "\n",
    "limite_dias = 200\n",
    "\n",
    "df['minimum_nights'].plot(kind='box', vert=False, xlim=(-1, limite_dias + 5), \n",
    "                          figsize=(15, 3))\n",
    "plt.xticks([i for i in range(0, limite_dias + 5, 10)])\n",
    "plt.show()\n",
    "\n",
    "print(f\"minimum_nights: valores acima de {limite_dias}:\")\n",
    "print(\"{} entradas\".format(len(df[df.minimum_nights > limite_dias])))\n",
    "print(\"{:.4f}%\".format((len(df[df.minimum_nights > limite_dias]) / df.shape[0])*100))"
   ]
  },
  {
   "cell_type": "code",
   "execution_count": null,
   "metadata": {},
   "outputs": [],
   "source": [
    "* Eliminar entradas acima de 200 dias de mínimo elimina apenas 0,92% da base de dados, o que parece\n",
    "razoável. Vemos que 75% dos clientes ficam até 30 dias porém com média também de 30 dias o que mostra\n",
    "uma possível distorção."
   ]
  },
  {
   "cell_type": "code",
   "execution_count": 80,
   "metadata": {},
   "outputs": [
    {
     "data": {
      "image/png": "[encoded data removed]",
      "text/plain": [
       "<Figure size 1080x216 with 1 Axes>"
      ]
     },
     "metadata": {
      "needs_background": "light"
     },
     "output_type": "display_data"
    },
    {
     "name": "stdout",
     "output_type": "stream",
     "text": [
      "\n",
      "price: valores acima de 1000\n",
      "38 entradas\n",
      "0.9003%\n"
     ]
    }
   ],
   "source": [
    "\n",
    "limite_preco = 1000\n",
    "\n",
    "df['price'].plot(kind='box', vert=False, xlim=(-1, limite_preco + 5), figsize=(15, 3))\n",
    "plt.xticks([i for i in range(0, limite_preco + 5, 50)])\n",
    "plt.show()\n",
    "\n",
    "print(f\"\\nprice: valores acima de {limite_preco}\")\n",
    "print(\"{} entradas\".format(len(df[df.price > limite_preco])))\n",
    "print(\"{:.4f}%\".format((len(df[df.price > limite_preco]) / df.shape[0])*100))"
   ]
  },
  {
   "cell_type": "markdown",
   "metadata": {},
   "source": [
    "* Eliminar valores acima de 1000 dólares parece ser um bom critério. Como vimos no describe e no boxplot, 75% dos valores se encontram até 180 dólares e valores acima de 350 dólares já caem no critério de outliers.\n"
   ]
  },
  {
   "cell_type": "markdown",
   "metadata": {},
   "source": [
    "* A presença de valores elevados e, provavelmente, errôneos pode causar uma grande distorção da média\n",
    "frente a mediana, conforme abaixo:"
   ]
  },
  {
   "cell_type": "code",
   "execution_count": 53,
   "metadata": {},
   "outputs": [
    {
     "name": "stdout",
     "output_type": "stream",
     "text": [
      "Mediana:  110.0\n",
      "Média:  170.16773276474768\n"
     ]
    }
   ],
   "source": [
    "print('Mediana: ', df['price'].median())\n",
    "print('Média: ', df['price'].mean())"
   ]
  },
  {
   "cell_type": "markdown",
   "metadata": {},
   "source": [
    "### **Q6. Novo DataFrame**"
   ]
  },
  {
   "cell_type": "code",
   "execution_count": 54,
   "metadata": {},
   "outputs": [],
   "source": [
    "df_clean = df.copy()\n",
    "df_clean.drop(df_clean[df_clean['price'] > limite_preco].index, axis=0, inplace=True)\n",
    "df_clean.drop(df_clean[df_clean['minimum_nights'] > limite_dias].index, axis=0, inplace=True)"
   ]
  },
  {
   "cell_type": "markdown",
   "metadata": {},
   "source": [
    "* Describe desse novo DataFrame"
   ]
  },
  {
   "cell_type": "code",
   "execution_count": 56,
   "metadata": {},
   "outputs": [
    {
     "data": {
      "text/html": [
       "<div>\n",
       "<style scoped>\n",
       "    .dataframe tbody tr th:only-of-type {\n",
       "        vertical-align: middle;\n",
       "    }\n",
       "\n",
       "    .dataframe tbody tr th {\n",
       "        vertical-align: top;\n",
       "    }\n",
       "\n",
       "    .dataframe thead th {\n",
       "        text-align: right;\n",
       "    }\n",
       "</style>\n",
       "<table border=\"1\" class=\"dataframe\">\n",
       "  <thead>\n",
       "    <tr style=\"text-align: right;\">\n",
       "      <th></th>\n",
       "      <th>minimum_nights</th>\n",
       "      <th>number_of_reviews_ltm</th>\n",
       "      <th>number_of_reviews</th>\n",
       "      <th>calculated_host_listings_count</th>\n",
       "      <th>price</th>\n",
       "      <th>availability_365</th>\n",
       "    </tr>\n",
       "  </thead>\n",
       "  <tbody>\n",
       "    <tr>\n",
       "      <th>count</th>\n",
       "      <td>4146.000000</td>\n",
       "      <td>4146.000000</td>\n",
       "      <td>4146.000000</td>\n",
       "      <td>4146.000000</td>\n",
       "      <td>4146.000000</td>\n",
       "      <td>4146.000000</td>\n",
       "    </tr>\n",
       "    <tr>\n",
       "      <th>mean</th>\n",
       "      <td>26.180174</td>\n",
       "      <td>0.992523</td>\n",
       "      <td>12.145683</td>\n",
       "      <td>44.355041</td>\n",
       "      <td>146.346840</td>\n",
       "      <td>255.289194</td>\n",
       "    </tr>\n",
       "    <tr>\n",
       "      <th>std</th>\n",
       "      <td>39.445378</td>\n",
       "      <td>5.542222</td>\n",
       "      <td>32.480500</td>\n",
       "      <td>57.748206</td>\n",
       "      <td>131.258504</td>\n",
       "      <td>130.654672</td>\n",
       "    </tr>\n",
       "    <tr>\n",
       "      <th>min</th>\n",
       "      <td>1.000000</td>\n",
       "      <td>0.000000</td>\n",
       "      <td>0.000000</td>\n",
       "      <td>1.000000</td>\n",
       "      <td>0.000000</td>\n",
       "      <td>0.000000</td>\n",
       "    </tr>\n",
       "    <tr>\n",
       "      <th>25%</th>\n",
       "      <td>2.000000</td>\n",
       "      <td>0.000000</td>\n",
       "      <td>0.000000</td>\n",
       "      <td>3.000000</td>\n",
       "      <td>64.000000</td>\n",
       "      <td>130.000000</td>\n",
       "    </tr>\n",
       "    <tr>\n",
       "      <th>50%</th>\n",
       "      <td>7.000000</td>\n",
       "      <td>0.000000</td>\n",
       "      <td>1.000000</td>\n",
       "      <td>13.000000</td>\n",
       "      <td>109.500000</td>\n",
       "      <td>335.000000</td>\n",
       "    </tr>\n",
       "    <tr>\n",
       "      <th>75%</th>\n",
       "      <td>30.000000</td>\n",
       "      <td>0.000000</td>\n",
       "      <td>7.000000</td>\n",
       "      <td>71.000000</td>\n",
       "      <td>179.000000</td>\n",
       "      <td>364.000000</td>\n",
       "    </tr>\n",
       "    <tr>\n",
       "      <th>max</th>\n",
       "      <td>200.000000</td>\n",
       "      <td>185.000000</td>\n",
       "      <td>370.000000</td>\n",
       "      <td>188.000000</td>\n",
       "      <td>1000.000000</td>\n",
       "      <td>365.000000</td>\n",
       "    </tr>\n",
       "  </tbody>\n",
       "</table>\n",
       "</div>"
      ],
      "text/plain": [
       "       minimum_nights  number_of_reviews_ltm  number_of_reviews  \\\n",
       "count     4146.000000            4146.000000        4146.000000   \n",
       "mean        26.180174               0.992523          12.145683   \n",
       "std         39.445378               5.542222          32.480500   \n",
       "min          1.000000               0.000000           0.000000   \n",
       "25%          2.000000               0.000000           0.000000   \n",
       "50%          7.000000               0.000000           1.000000   \n",
       "75%         30.000000               0.000000           7.000000   \n",
       "max        200.000000             185.000000         370.000000   \n",
       "\n",
       "       calculated_host_listings_count        price  availability_365  \n",
       "count                     4146.000000  4146.000000       4146.000000  \n",
       "mean                        44.355041   146.346840        255.289194  \n",
       "std                         57.748206   131.258504        130.654672  \n",
       "min                          1.000000     0.000000          0.000000  \n",
       "25%                          3.000000    64.000000        130.000000  \n",
       "50%                         13.000000   109.500000        335.000000  \n",
       "75%                         71.000000   179.000000        364.000000  \n",
       "max                        188.000000  1000.000000        365.000000  "
      ]
     },
     "execution_count": 56,
     "metadata": {},
     "output_type": "execute_result"
    }
   ],
   "source": [
    "df_clean[list(set(df_clean.columns) - set(exclude_describe))].describe()"
   ]
  },
  {
   "cell_type": "markdown",
   "metadata": {},
   "source": [
    "* Vemos uma redução nos desvios padrão, tanto de price quanto de **minimum_nights**, devido a eliminação \n",
    "de menos de 1% dos valores da base para esses tópicos. As médias tiveram pouca variação e os demais \n",
    "dados estatísticos como min, 25%, 50% e 75% praticamente permaneceram constantes após a limpeza."
   ]
  },
  {
   "cell_type": "markdown",
   "metadata": {},
   "source": [
    "* Faz-se necessário um segundo olhar para os histogramas para as variáveis numéricas:"
   ]
  },
  {
   "cell_type": "code",
   "execution_count": 57,
   "metadata": {},
   "outputs": [
    {
     "data": {
      "image/png": "[encoded data removed]",
      "text/plain": [
       "<Figure size 1080x720 with 6 Axes>"
      ]
     },
     "metadata": {
      "needs_background": "light"
     },
     "output_type": "display_data"
    }
   ],
   "source": [
    "df_clean[list(set(df.columns) - set(exclude_describe))].hist(bins=10, figsize=(15,10));"
   ]
  },
  {
   "cell_type": "markdown",
   "metadata": {},
   "source": [
    "* Com a retirada dos valores extremos os perfis para o **price** e **minimum_nights** fazem mais sentido."
   ]
  },
  {
   "cell_type": "markdown",
   "metadata": {},
   "source": [
    "* Vemos que há um número não desprezível de ofertas para estadia de um mês. Considerando a escala do histograma,\n",
    "trata-se de cerca de 25 % do total de ofertas de aluguel. Isso explica o distanciamento entre média e mediana para a coluna **minimum_nights**:"
   ]
  },
  {
   "cell_type": "code",
   "execution_count": 58,
   "metadata": {},
   "outputs": [
    {
     "name": "stdout",
     "output_type": "stream",
     "text": [
      "Mediana:  7.0\n",
      "Média:  26.180173661360346\n"
     ]
    }
   ],
   "source": [
    "print('Mediana: ', df_clean['minimum_nights'].median())\n",
    "print('Média: ', df_clean['minimum_nights'].mean())"
   ]
  },
  {
   "cell_type": "markdown",
   "metadata": {},
   "source": [
    "* A média acaba por sofrer efeito dessa grande quantidade de valores mais elevados.\n",
    "\n",
    " No gráfico de preços, vemos agora claramente o quanto cai a oferta de aluguéis para valores acima de  300 dólares.\n"
   ]
  },
  {
   "cell_type": "markdown",
   "metadata": {
    "id": "IXn2oIo5qx-w"
   },
   "source": [
    "### **Q7. Qual a correlação existente entre as variáveis**"
   ]
  },
  {
   "cell_type": "code",
   "execution_count": 83,
   "metadata": {
    "id": "x2ayzBajqxyd"
   },
   "outputs": [
    {
     "data": {
      "text/html": [
       "<div>\n",
       "<style scoped>\n",
       "    .dataframe tbody tr th:only-of-type {\n",
       "        vertical-align: middle;\n",
       "    }\n",
       "\n",
       "    .dataframe tbody tr th {\n",
       "        vertical-align: top;\n",
       "    }\n",
       "\n",
       "    .dataframe thead th {\n",
       "        text-align: right;\n",
       "    }\n",
       "</style>\n",
       "<table border=\"1\" class=\"dataframe\">\n",
       "  <thead>\n",
       "    <tr style=\"text-align: right;\">\n",
       "      <th></th>\n",
       "      <th>price</th>\n",
       "      <th>minimum_nights</th>\n",
       "      <th>number_of_reviews</th>\n",
       "      <th>reviews_per_month</th>\n",
       "      <th>calculated_host_listings_count</th>\n",
       "      <th>availability_365</th>\n",
       "    </tr>\n",
       "  </thead>\n",
       "  <tbody>\n",
       "    <tr>\n",
       "      <th>price</th>\n",
       "      <td>1.000000</td>\n",
       "      <td>-0.120264</td>\n",
       "      <td>-0.119835</td>\n",
       "      <td>-0.039978</td>\n",
       "      <td>0.154826</td>\n",
       "      <td>0.066665</td>\n",
       "    </tr>\n",
       "    <tr>\n",
       "      <th>minimum_nights</th>\n",
       "      <td>-0.120264</td>\n",
       "      <td>1.000000</td>\n",
       "      <td>-0.063252</td>\n",
       "      <td>-0.084438</td>\n",
       "      <td>-0.000666</td>\n",
       "      <td>0.035074</td>\n",
       "    </tr>\n",
       "    <tr>\n",
       "      <th>number_of_reviews</th>\n",
       "      <td>-0.119835</td>\n",
       "      <td>-0.063252</td>\n",
       "      <td>1.000000</td>\n",
       "      <td>0.531863</td>\n",
       "      <td>-0.192333</td>\n",
       "      <td>-0.138569</td>\n",
       "    </tr>\n",
       "    <tr>\n",
       "      <th>reviews_per_month</th>\n",
       "      <td>-0.039978</td>\n",
       "      <td>-0.084438</td>\n",
       "      <td>0.531863</td>\n",
       "      <td>1.000000</td>\n",
       "      <td>-0.168861</td>\n",
       "      <td>-0.094164</td>\n",
       "    </tr>\n",
       "    <tr>\n",
       "      <th>calculated_host_listings_count</th>\n",
       "      <td>0.154826</td>\n",
       "      <td>-0.000666</td>\n",
       "      <td>-0.192333</td>\n",
       "      <td>-0.168861</td>\n",
       "      <td>1.000000</td>\n",
       "      <td>0.259495</td>\n",
       "    </tr>\n",
       "    <tr>\n",
       "      <th>availability_365</th>\n",
       "      <td>0.066665</td>\n",
       "      <td>0.035074</td>\n",
       "      <td>-0.138569</td>\n",
       "      <td>-0.094164</td>\n",
       "      <td>0.259495</td>\n",
       "      <td>1.000000</td>\n",
       "    </tr>\n",
       "  </tbody>\n",
       "</table>\n",
       "</div>"
      ],
      "text/plain": [
       "                                   price  minimum_nights  number_of_reviews  \\\n",
       "price                           1.000000       -0.120264          -0.119835   \n",
       "minimum_nights                 -0.120264        1.000000          -0.063252   \n",
       "number_of_reviews              -0.119835       -0.063252           1.000000   \n",
       "reviews_per_month              -0.039978       -0.084438           0.531863   \n",
       "calculated_host_listings_count  0.154826       -0.000666          -0.192333   \n",
       "availability_365                0.066665        0.035074          -0.138569   \n",
       "\n",
       "                                reviews_per_month  \\\n",
       "price                                   -0.039978   \n",
       "minimum_nights                          -0.084438   \n",
       "number_of_reviews                        0.531863   \n",
       "reviews_per_month                        1.000000   \n",
       "calculated_host_listings_count          -0.168861   \n",
       "availability_365                        -0.094164   \n",
       "\n",
       "                                calculated_host_listings_count  \\\n",
       "price                                                 0.154826   \n",
       "minimum_nights                                       -0.000666   \n",
       "number_of_reviews                                    -0.192333   \n",
       "reviews_per_month                                    -0.168861   \n",
       "calculated_host_listings_count                        1.000000   \n",
       "availability_365                                      0.259495   \n",
       "\n",
       "                                availability_365  \n",
       "price                                   0.066665  \n",
       "minimum_nights                          0.035074  \n",
       "number_of_reviews                      -0.138569  \n",
       "reviews_per_month                      -0.094164  \n",
       "calculated_host_listings_count          0.259495  \n",
       "availability_365                        1.000000  "
      ]
     },
     "metadata": {},
     "output_type": "display_data"
    }
   ],
   "source": [
    "corr = df_clean[['price', 'minimum_nights', 'number_of_reviews', 'reviews_per_month',\n",
    "                 'calculated_host_listings_count', 'availability_365']].corr()\n",
    "\n",
    "display(corr)"
   ]
  },
  {
   "cell_type": "code",
   "execution_count": 84,
   "metadata": {
    "id": "91UujDr6ueqE"
   },
   "outputs": [
    {
     "data": {
      "image/png": "[encoded data removed]",
      "text/plain": [
       "<Figure size 432x288 with 2 Axes>"
      ]
     },
     "metadata": {
      "needs_background": "light"
     },
     "output_type": "display_data"
    }
   ],
   "source": [
    "sns.heatmap(corr, cmap='RdBu', fmt='.2f', square=True, linecolor='white', annot=True);"
   ]
  },
  {
   "cell_type": "markdown",
   "metadata": {},
   "source": [
    "### Correlações Positivas:"
   ]
  },
  {
   "cell_type": "markdown",
   "metadata": {},
   "source": [
    "* **price x calculated_host_listinings_count**: com valor de 0,15 indica que proprietários com mais \n",
    "  anúncios listados cobram um preço maior.\n",
    "* **calculated_host_listings_count x availability_365**: com valor de 0,26 indica que proprietários com \n",
    "    mais anúncios listados oferecem mais dias no calendário.\n"
   ]
  },
  {
   "cell_type": "markdown",
   "metadata": {},
   "source": [
    "### Correlações Negativas:"
   ]
  },
  {
   "cell_type": "markdown",
   "metadata": {},
   "source": [
    "* **price x minimum_nights**: com valor de -0,12, indicando que quanto mais longa a estadia menor é o valor cobrado por noite."
   ]
  },
  {
   "cell_type": "markdown",
   "metadata": {
    "id": "7b6RMWpuHKN-"
   },
   "source": [
    "### **Q8. Qual o tipo de imóvel mais alugado no Airbnb?**"
   ]
  },
  {
   "cell_type": "code",
   "execution_count": 81,
   "metadata": {
    "id": "ueLPNWvPHgfB"
   },
   "outputs": [
    {
     "data": {
      "text/plain": [
       "Private room       2092\n",
       "Entire home/apt    1700\n",
       "Hotel room          187\n",
       "Shared room         167\n",
       "Name: room_type, dtype: int64"
      ]
     },
     "execution_count": 81,
     "metadata": {},
     "output_type": "execute_result"
    }
   ],
   "source": [
    "df_clean.room_type.value_counts()"
   ]
  },
  {
   "cell_type": "code",
   "execution_count": 82,
   "metadata": {
    "id": "EvwoO-XAHhIm"
   },
   "outputs": [
    {
     "data": {
      "text/plain": [
       "Private room       50.458273\n",
       "Entire home/apt    41.003377\n",
       "Hotel room          4.510371\n",
       "Shared room         4.027979\n",
       "Name: room_type, dtype: float64"
      ]
     },
     "execution_count": 82,
     "metadata": {},
     "output_type": "execute_result"
    }
   ],
   "source": [
    "df_clean.room_type.value_counts() / df_clean.shape[0] * 100"
   ]
  },
  {
   "cell_type": "markdown",
   "metadata": {},
   "source": [
    "* Verificamos que o mercado é dominado por ofertas de **todo o imóvel** ou **quartos privativos**, quartos de hotel e quartos compartilhados têm bem menos procura."
   ]
  },
  {
   "cell_type": "markdown",
   "metadata": {},
   "source": [
    "### **Q9. Variação de Preço por Localidade**"
   ]
  },
  {
   "cell_type": "markdown",
   "metadata": {},
   "source": [
    "* Análisando primeiramente por distrito"
   ]
  },
  {
   "cell_type": "code",
   "execution_count": 67,
   "metadata": {},
   "outputs": [
    {
     "data": {
      "text/plain": [
       "neighbourhood_group\n",
       "Central Region       3333\n",
       "West Region           285\n",
       "East Region           259\n",
       "North-East Region     142\n",
       "North Region          127\n",
       "Name: id, dtype: int64"
      ]
     },
     "execution_count": 67,
     "metadata": {},
     "output_type": "execute_result"
    }
   ],
   "source": [
    "df_clean.groupby(['neighbourhood_group']).count()['id'].sort_values(ascending=False)"
   ]
  },
  {
   "cell_type": "markdown",
   "metadata": {},
   "source": [
    "* A Central Region é a mais procurada, considerando que Singapure é uma ilha. \n",
    "* Ordenando os distritos pela média de preço dos imóveis ofertados:"
   ]
  },
  {
   "cell_type": "code",
   "execution_count": 69,
   "metadata": {},
   "outputs": [
    {
     "data": {
      "text/plain": [
       "neighbourhood_group\n",
       "Central Region       151.243324\n",
       "West Region          142.136842\n",
       "East Region          128.996139\n",
       "North-East Region    115.105634\n",
       "North Region          97.606299\n",
       "Name: price, dtype: float64"
      ]
     },
     "execution_count": 69,
     "metadata": {},
     "output_type": "execute_result"
    }
   ],
   "source": [
    "df_clean.groupby(['neighbourhood_group'])['price'].mean().sort_values(ascending=False)[:10]"
   ]
  },
  {
   "cell_type": "markdown",
   "metadata": {},
   "source": [
    "* A Central Region é a mais cara e nesse caso também a mais procurada.\n",
    "* Analisando por bairros:"
   ]
  },
  {
   "cell_type": "code",
   "execution_count": 71,
   "metadata": {},
   "outputs": [
    {
     "data": {
      "text/plain": [
       "neighbourhood  neighbourhood_group\n",
       "Kallang        Central Region         532\n",
       "Outram         Central Region         388\n",
       "Geylang        Central Region         379\n",
       "Rochor         Central Region         317\n",
       "Downtown Core  Central Region         309\n",
       "Bukit Merah    Central Region         234\n",
       "Novena         Central Region         231\n",
       "Queenstown     Central Region         231\n",
       "Bedok          East Region            193\n",
       "River Valley   Central Region         151\n",
       "Name: price, dtype: int64"
      ]
     },
     "execution_count": 71,
     "metadata": {},
     "output_type": "execute_result"
    }
   ],
   "source": [
    "df_clean.groupby(['neighbourhood', 'neighbourhood_group'])['price'].count().sort_values(ascending=False)[:10]"
   ]
  },
  {
   "cell_type": "markdown",
   "metadata": {},
   "source": [
    "* Como era de se esperar das primeiras 10 regiões, 9 são da Central Region e apenas 1 é da Bedok.\n",
    "* Ordenando por média de preço:"
   ]
  },
  {
   "cell_type": "code",
   "execution_count": 72,
   "metadata": {},
   "outputs": [
    {
     "data": {
      "text/plain": [
       "neighbourhood            neighbourhood_group\n",
       "Marina South             Central Region         478.000000\n",
       "Southern Islands         Central Region         427.000000\n",
       "Orchard                  Central Region         420.628205\n",
       "Lim Chu Kang             North Region           326.000000\n",
       "Pioneer                  West Region            305.000000\n",
       "Sungei Kadut             North Region           290.000000\n",
       "Singapore River          Central Region         256.065421\n",
       "Tanglin                  Central Region         250.244444\n",
       "Clementi                 West Region            226.177215\n",
       "Central Water Catchment  North Region           212.692308\n",
       "Name: price, dtype: float64"
      ]
     },
     "execution_count": 72,
     "metadata": {},
     "output_type": "execute_result"
    }
   ],
   "source": [
    "df_clean.groupby(['neighbourhood', 'neighbourhood_group'])['price'].mean().sort_values(ascending=False)[:10]"
   ]
  },
  {
   "cell_type": "markdown",
   "metadata": {},
   "source": [
    "* Quando ordenados por média de preços, vemos o predomínio da Marina South, Southern Islands e Orchard que são regiões mais ricas da ilha de Singapure."
   ]
  },
  {
   "cell_type": "markdown",
   "metadata": {},
   "source": [
    "<img src=\"https://upload.wikimedia.org/wikipedia/commons/6/64/Singapore_1994_CIA_map.jpg\" alt=\"https://upload.wikimedia.org/wikipedia/commons/6/64/Singapore_1994_CIA_map.jpg\" class=\"shrinkToFit\" width=\"897\" height=\"659\">"
   ]
  },
  {
   "cell_type": "markdown",
   "metadata": {
    "id": "UxVJqJ_3W59I"
   },
   "source": [
    "\n",
    "###  **Mapa de Distribuição de Preços**"
   ]
  },
  {
   "cell_type": "code",
   "execution_count": 74,
   "metadata": {},
   "outputs": [
    {
     "data": {
      "image/png": "[encoded data removed]",
      "text/plain": [
       "<Figure size 864x576 with 2 Axes>"
      ]
     },
     "metadata": {
      "needs_background": "light"
     },
     "output_type": "display_data"
    }
   ],
   "source": [
    "df_clean.plot(kind=\"scatter\", x='longitude', y='latitude', alpha=0.4, c=df_clean['price'], s=8,\n",
    "              cmap=plt.get_cmap('jet'), figsize=(12,8));"
   ]
  },
  {
   "cell_type": "markdown",
   "metadata": {
    "id": "GkvAg623RjoR"
   },
   "source": [
    "## Conclusões\n"
   ]
  },
  {
   "cell_type": "markdown",
   "metadata": {},
   "source": [
    "Com essa análise conseguimos relacionar a variação de preços das ofertas disponíveis no AirBnb de Singapure com a localização dos imóveis e características do anúncio como, por exemplo, tempo mínimo de estadia. Também se fez uma breve descrição dos principais locais da cidade.\n",
    "\n",
    "Análises mais completas poderão ser feitas no futuro com um número de dados mais abrangentes e detalhados.\n",
    "\n"
   ]
  }
 ],
 "metadata": {
  "colab": {
   "collapsed_sections": [],
   "name": "[Template] Analisando os Dados do Airbnb.ipynb",
   "provenance": []
  },
  "kernelspec": {
   "display_name": "Python 3",
   "language": "python",
   "name": "python3"
  },
  "language_info": {
   "codemirror_mode": {
    "name": "ipython",
    "version": 3
   },
   "file_extension": ".py",
   "mimetype": "text/x-python",
   "name": "python",
   "nbconvert_exporter": "python",
   "pygments_lexer": "ipython3",
   "version": "3.8.8"
  }
 },
 "nbformat": 4,
 "nbformat_minor": 1
}
