{
 "cells": [
  {
   "cell_type": "markdown",
   "metadata": {
    "collapsed": "true",
    "papermill": {
     "duration": 0.088975,
     "end_time": "2020-12-28T20:41:24.940384",
     "exception": false,
     "start_time": "2020-12-28T20:41:24.851409",
     "status": "completed"
    },
    "tags": []
   },
   "source": [
    "# Intro"
   ]
  },
  {
   "cell_type": "markdown",
   "metadata": {
    "papermill": {
     "duration": 0.084907,
     "end_time": "2020-12-28T20:41:25.113143",
     "exception": false,
     "start_time": "2020-12-28T20:41:25.028236",
     "status": "completed"
    },
    "tags": []
   },
   "source": [
    "In this notebook I'll apply different EDA (Exploratory Data Analysis) techniques on the [Graduate Admission 2 data](https://www.kaggle.com/mohansacharya/graduate-admissions).\n",
    "\n",
    "The goal in this data is to predict the *student's chance of admission* to a postgraduate education, given several *predictor* variables for the student."
   ]
  },
  {
   "cell_type": "markdown",
   "metadata": {
    "collapsed": "true",
    "papermill": {
     "duration": 0.085374,
     "end_time": "2020-12-28T20:41:25.283517",
     "exception": false,
     "start_time": "2020-12-28T20:41:25.198143",
     "status": "completed"
    },
    "tags": []
   },
   "source": [
    "# Import libraries"
   ]
  },
  {
   "cell_type": "code",
   "execution_count": 1,
   "metadata": {
    "_kg_hide-input": true,
    "_kg_hide-output": true,
    "execution": {
     "iopub.execute_input": "2020-12-28T20:41:25.455590Z",
     "iopub.status.busy": "2020-12-28T20:41:25.454893Z",
     "iopub.status.idle": "2020-12-28T20:41:37.455770Z",
     "shell.execute_reply": "2020-12-28T20:41:37.454932Z"
    },
    "papermill": {
     "duration": 12.08827,
     "end_time": "2020-12-28T20:41:37.455898",
     "exception": false,
     "start_time": "2020-12-28T20:41:25.367628",
     "status": "completed"
    },
    "tags": []
   },
   "outputs": [
    {
     "name": "stdout",
     "output_type": "stream",
     "text": [
      "Requirement already satisfied: seaborn in /opt/conda/lib/python3.7/site-packages (0.10.0)\r\n",
      "Collecting seaborn\r\n",
      "  Downloading seaborn-0.11.1-py3-none-any.whl (285 kB)\r\n",
      "\u001b[K     |████████████████████████████████| 285 kB 420 kB/s \r\n",
      "\u001b[?25hRequirement already satisfied: matplotlib>=2.2 in /opt/conda/lib/python3.7/site-packages (from seaborn) (3.2.1)\r\n",
      "Requirement already satisfied: pandas>=0.23 in /opt/conda/lib/python3.7/site-packages (from seaborn) (1.1.5)\r\n",
      "Requirement already satisfied: numpy>=1.15 in /opt/conda/lib/python3.7/site-packages (from seaborn) (1.18.5)\r\n",
      "Requirement already satisfied: scipy>=1.0 in /opt/conda/lib/python3.7/site-packages (from seaborn) (1.4.1)\r\n",
      "Requirement already satisfied: cycler>=0.10 in /opt/conda/lib/python3.7/site-packages (from matplotlib>=2.2->seaborn) (0.10.0)\r\n",
      "Requirement already satisfied: pyparsing!=2.0.4,!=2.1.2,!=2.1.6,>=2.0.1 in /opt/conda/lib/python3.7/site-packages (from matplotlib>=2.2->seaborn) (2.4.7)\r\n",
      "Requirement already satisfied: numpy>=1.15 in /opt/conda/lib/python3.7/site-packages (from seaborn) (1.18.5)\r\n",
      "Requirement already satisfied: python-dateutil>=2.1 in /opt/conda/lib/python3.7/site-packages (from matplotlib>=2.2->seaborn) (2.8.1)\r\n",
      "Requirement already satisfied: kiwisolver>=1.0.1 in /opt/conda/lib/python3.7/site-packages (from matplotlib>=2.2->seaborn) (1.2.0)\r\n",
      "Requirement already satisfied: six in /opt/conda/lib/python3.7/site-packages (from cycler>=0.10->matplotlib>=2.2->seaborn) (1.14.0)\r\n",
      "Requirement already satisfied: numpy>=1.15 in /opt/conda/lib/python3.7/site-packages (from seaborn) (1.18.5)\r\n",
      "Requirement already satisfied: pytz>=2017.2 in /opt/conda/lib/python3.7/site-packages (from pandas>=0.23->seaborn) (2019.3)\r\n",
      "Requirement already satisfied: python-dateutil>=2.1 in /opt/conda/lib/python3.7/site-packages (from matplotlib>=2.2->seaborn) (2.8.1)\r\n",
      "Requirement already satisfied: six in /opt/conda/lib/python3.7/site-packages (from cycler>=0.10->matplotlib>=2.2->seaborn) (1.14.0)\r\n",
      "Requirement already satisfied: numpy>=1.15 in /opt/conda/lib/python3.7/site-packages (from seaborn) (1.18.5)\r\n",
      "Installing collected packages: seaborn\r\n",
      "  Attempting uninstall: seaborn\r\n",
      "    Found existing installation: seaborn 0.10.0\r\n",
      "    Uninstalling seaborn-0.10.0:\r\n",
      "      Successfully uninstalled seaborn-0.10.0\r\n",
      "Successfully installed seaborn-0.11.1\r\n",
      "\u001b[33mWARNING: You are using pip version 20.3.1; however, version 20.3.3 is available.\r\n",
      "You should consider upgrading via the '/opt/conda/bin/python3.7 -m pip install --upgrade pip' command.\u001b[0m\r\n"
     ]
    }
   ],
   "source": [
    "! pip install seaborn --upgrade"
   ]
  },
  {
   "cell_type": "code",
   "execution_count": 2,
   "metadata": {
    "execution": {
     "iopub.execute_input": "2020-12-28T20:41:37.647685Z",
     "iopub.status.busy": "2020-12-28T20:41:37.646888Z",
     "iopub.status.idle": "2020-12-28T20:41:39.697252Z",
     "shell.execute_reply": "2020-12-28T20:41:39.696534Z"
    },
    "papermill": {
     "duration": 2.149012,
     "end_time": "2020-12-28T20:41:39.697379",
     "exception": false,
     "start_time": "2020-12-28T20:41:37.548367",
     "status": "completed"
    },
    "tags": []
   },
   "outputs": [],
   "source": [
    "import pandas as pd\n",
    "import numpy as np\n",
    "import seaborn as sns\n",
    "import plotly.express as px\n",
    "import matplotlib.pyplot as plt\n",
    "from scipy import stats\n",
    "\n",
    "# set seaborn theme\n",
    "sns.set_style(style=\"whitegrid\")"
   ]
  },
  {
   "cell_type": "markdown",
   "metadata": {
    "collapsed": "true",
    "papermill": {
     "duration": 0.092304,
     "end_time": "2020-12-28T20:41:39.881273",
     "exception": false,
     "start_time": "2020-12-28T20:41:39.788969",
     "status": "completed"
    },
    "tags": []
   },
   "source": [
    "# Load data"
   ]
  },
  {
   "cell_type": "markdown",
   "metadata": {
    "papermill": {
     "duration": 0.092323,
     "end_time": "2020-12-28T20:41:40.064654",
     "exception": false,
     "start_time": "2020-12-28T20:41:39.972331",
     "status": "completed"
    },
    "tags": []
   },
   "source": [
    "There are two data files:\n",
    "- `Admission_Predict.csv`\n",
    "- `Admission_Predict_Ver1.1.csv`\n",
    "Will use the second one, since it contains more data points."
   ]
  },
  {
   "cell_type": "code",
   "execution_count": 3,
   "metadata": {
    "execution": {
     "iopub.execute_input": "2020-12-28T20:41:40.259398Z",
     "iopub.status.busy": "2020-12-28T20:41:40.258646Z",
     "iopub.status.idle": "2020-12-28T20:41:40.274845Z",
     "shell.execute_reply": "2020-12-28T20:41:40.275398Z"
    },
    "papermill": {
     "duration": 0.119583,
     "end_time": "2020-12-28T20:41:40.275572",
     "exception": false,
     "start_time": "2020-12-28T20:41:40.155989",
     "status": "completed"
    },
    "tags": []
   },
   "outputs": [],
   "source": [
    "df = pd.read_csv(\"../input/graduate-admissions/Admission_Predict_Ver1.1.csv\")"
   ]
  },
  {
   "cell_type": "markdown",
   "metadata": {
    "papermill": {
     "duration": 0.091209,
     "end_time": "2020-12-28T20:41:40.458848",
     "exception": false,
     "start_time": "2020-12-28T20:41:40.367639",
     "status": "completed"
    },
    "tags": []
   },
   "source": [
    "According to the dataset author on Kaggle, the columns in this data represents:\n",
    "- `GRE Score`: The Graduate Record Examinations is a standardized test that is an admissions requirement for many graduate schools in the United States and Canada.\n",
    "- `TOEFL Score`: Score in TOEFL exam.\n",
    "- `University Rating`: Student undergraduate university ranking.\n",
    "- `SOP`: Statement of Purpose strength.\n",
    "- `LOR`: Letter of Recommendation strength.\n",
    "- `CGPA`: Undergraduate GPA.\n",
    "- `Research`: Whether student has research experience or not.\n",
    "- `Chance of Admit`: Admission chance."
   ]
  },
  {
   "cell_type": "markdown",
   "metadata": {
    "collapsed": "true",
    "papermill": {
     "duration": 0.091755,
     "end_time": "2020-12-28T20:41:40.641274",
     "exception": false,
     "start_time": "2020-12-28T20:41:40.549519",
     "status": "completed"
    },
    "tags": []
   },
   "source": [
    "# Getting to know the data"
   ]
  },
  {
   "cell_type": "markdown",
   "metadata": {
    "papermill": {
     "duration": 0.108936,
     "end_time": "2020-12-28T20:41:40.864274",
     "exception": false,
     "start_time": "2020-12-28T20:41:40.755338",
     "status": "completed"
    },
    "tags": []
   },
   "source": [
    "In this section, we'll take a quick look at the data, to see how many row are there, and whther there are any missing values or not, to decie what kind of preprocessing will be needed."
   ]
  },
  {
   "cell_type": "code",
   "execution_count": 4,
   "metadata": {
    "execution": {
     "iopub.execute_input": "2020-12-28T20:41:41.059641Z",
     "iopub.status.busy": "2020-12-28T20:41:41.058662Z",
     "iopub.status.idle": "2020-12-28T20:41:41.089042Z",
     "shell.execute_reply": "2020-12-28T20:41:41.088396Z"
    },
    "papermill": {
     "duration": 0.131969,
     "end_time": "2020-12-28T20:41:41.089190",
     "exception": false,
     "start_time": "2020-12-28T20:41:40.957221",
     "status": "completed"
    },
    "tags": []
   },
   "outputs": [
    {
     "data": {
      "text/html": [
       "<div>\n",
       "<style scoped>\n",
       "    .dataframe tbody tr th:only-of-type {\n",
       "        vertical-align: middle;\n",
       "    }\n",
       "\n",
       "    .dataframe tbody tr th {\n",
       "        vertical-align: top;\n",
       "    }\n",
       "\n",
       "    .dataframe thead th {\n",
       "        text-align: right;\n",
       "    }\n",
       "</style>\n",
       "<table border=\"1\" class=\"dataframe\">\n",
       "  <thead>\n",
       "    <tr style=\"text-align: right;\">\n",
       "      <th></th>\n",
       "      <th>Serial No.</th>\n",
       "      <th>GRE Score</th>\n",
       "      <th>TOEFL Score</th>\n",
       "      <th>University Rating</th>\n",
       "      <th>SOP</th>\n",
       "      <th>LOR</th>\n",
       "      <th>CGPA</th>\n",
       "      <th>Research</th>\n",
       "      <th>Chance of Admit</th>\n",
       "    </tr>\n",
       "  </thead>\n",
       "  <tbody>\n",
       "    <tr>\n",
       "      <th>0</th>\n",
       "      <td>1</td>\n",
       "      <td>337</td>\n",
       "      <td>118</td>\n",
       "      <td>4</td>\n",
       "      <td>4.5</td>\n",
       "      <td>4.5</td>\n",
       "      <td>9.65</td>\n",
       "      <td>1</td>\n",
       "      <td>0.92</td>\n",
       "    </tr>\n",
       "    <tr>\n",
       "      <th>1</th>\n",
       "      <td>2</td>\n",
       "      <td>324</td>\n",
       "      <td>107</td>\n",
       "      <td>4</td>\n",
       "      <td>4.0</td>\n",
       "      <td>4.5</td>\n",
       "      <td>8.87</td>\n",
       "      <td>1</td>\n",
       "      <td>0.76</td>\n",
       "    </tr>\n",
       "    <tr>\n",
       "      <th>2</th>\n",
       "      <td>3</td>\n",
       "      <td>316</td>\n",
       "      <td>104</td>\n",
       "      <td>3</td>\n",
       "      <td>3.0</td>\n",
       "      <td>3.5</td>\n",
       "      <td>8.00</td>\n",
       "      <td>1</td>\n",
       "      <td>0.72</td>\n",
       "    </tr>\n",
       "    <tr>\n",
       "      <th>3</th>\n",
       "      <td>4</td>\n",
       "      <td>322</td>\n",
       "      <td>110</td>\n",
       "      <td>3</td>\n",
       "      <td>3.5</td>\n",
       "      <td>2.5</td>\n",
       "      <td>8.67</td>\n",
       "      <td>1</td>\n",
       "      <td>0.80</td>\n",
       "    </tr>\n",
       "    <tr>\n",
       "      <th>4</th>\n",
       "      <td>5</td>\n",
       "      <td>314</td>\n",
       "      <td>103</td>\n",
       "      <td>2</td>\n",
       "      <td>2.0</td>\n",
       "      <td>3.0</td>\n",
       "      <td>8.21</td>\n",
       "      <td>0</td>\n",
       "      <td>0.65</td>\n",
       "    </tr>\n",
       "  </tbody>\n",
       "</table>\n",
       "</div>"
      ],
      "text/plain": [
       "   Serial No.  GRE Score  TOEFL Score  University Rating  SOP  LOR   CGPA  \\\n",
       "0           1        337          118                  4  4.5   4.5  9.65   \n",
       "1           2        324          107                  4  4.0   4.5  8.87   \n",
       "2           3        316          104                  3  3.0   3.5  8.00   \n",
       "3           4        322          110                  3  3.5   2.5  8.67   \n",
       "4           5        314          103                  2  2.0   3.0  8.21   \n",
       "\n",
       "   Research  Chance of Admit   \n",
       "0         1              0.92  \n",
       "1         1              0.76  \n",
       "2         1              0.72  \n",
       "3         1              0.80  \n",
       "4         0              0.65  "
      ]
     },
     "execution_count": 4,
     "metadata": {},
     "output_type": "execute_result"
    }
   ],
   "source": [
    "df.head()"
   ]
  },
  {
   "cell_type": "code",
   "execution_count": 5,
   "metadata": {
    "execution": {
     "iopub.execute_input": "2020-12-28T20:41:41.279489Z",
     "iopub.status.busy": "2020-12-28T20:41:41.278632Z",
     "iopub.status.idle": "2020-12-28T20:41:41.282685Z",
     "shell.execute_reply": "2020-12-28T20:41:41.283221Z"
    },
    "papermill": {
     "duration": 0.101873,
     "end_time": "2020-12-28T20:41:41.283368",
     "exception": false,
     "start_time": "2020-12-28T20:41:41.181495",
     "status": "completed"
    },
    "tags": []
   },
   "outputs": [
    {
     "data": {
      "text/plain": [
       "Index(['Serial No.', 'GRE Score', 'TOEFL Score', 'University Rating', 'SOP',\n",
       "       'LOR ', 'CGPA', 'Research', 'Chance of Admit '],\n",
       "      dtype='object')"
      ]
     },
     "execution_count": 5,
     "metadata": {},
     "output_type": "execute_result"
    }
   ],
   "source": [
    "df.columns"
   ]
  },
  {
   "cell_type": "code",
   "execution_count": 6,
   "metadata": {
    "execution": {
     "iopub.execute_input": "2020-12-28T20:41:41.475500Z",
     "iopub.status.busy": "2020-12-28T20:41:41.474640Z",
     "iopub.status.idle": "2020-12-28T20:41:41.477860Z",
     "shell.execute_reply": "2020-12-28T20:41:41.478363Z"
    },
    "papermill": {
     "duration": 0.102643,
     "end_time": "2020-12-28T20:41:41.478527",
     "exception": false,
     "start_time": "2020-12-28T20:41:41.375884",
     "status": "completed"
    },
    "tags": []
   },
   "outputs": [
    {
     "data": {
      "text/plain": [
       "(500, 9)"
      ]
     },
     "execution_count": 6,
     "metadata": {},
     "output_type": "execute_result"
    }
   ],
   "source": [
    "df.shape"
   ]
  },
  {
   "cell_type": "code",
   "execution_count": 7,
   "metadata": {
    "execution": {
     "iopub.execute_input": "2020-12-28T20:41:41.674279Z",
     "iopub.status.busy": "2020-12-28T20:41:41.673614Z",
     "iopub.status.idle": "2020-12-28T20:41:41.682177Z",
     "shell.execute_reply": "2020-12-28T20:41:41.682696Z"
    },
    "papermill": {
     "duration": 0.104465,
     "end_time": "2020-12-28T20:41:41.682859",
     "exception": false,
     "start_time": "2020-12-28T20:41:41.578394",
     "status": "completed"
    },
    "tags": []
   },
   "outputs": [
    {
     "data": {
      "text/plain": [
       "Serial No.           0\n",
       "GRE Score            0\n",
       "TOEFL Score          0\n",
       "University Rating    0\n",
       "SOP                  0\n",
       "LOR                  0\n",
       "CGPA                 0\n",
       "Research             0\n",
       "Chance of Admit      0\n",
       "dtype: int64"
      ]
     },
     "execution_count": 7,
     "metadata": {},
     "output_type": "execute_result"
    }
   ],
   "source": [
    "df.isnull().sum()"
   ]
  },
  {
   "cell_type": "code",
   "execution_count": 8,
   "metadata": {
    "execution": {
     "iopub.execute_input": "2020-12-28T20:41:41.875319Z",
     "iopub.status.busy": "2020-12-28T20:41:41.874535Z",
     "iopub.status.idle": "2020-12-28T20:41:41.880906Z",
     "shell.execute_reply": "2020-12-28T20:41:41.881428Z"
    },
    "papermill": {
     "duration": 0.104776,
     "end_time": "2020-12-28T20:41:41.881565",
     "exception": false,
     "start_time": "2020-12-28T20:41:41.776789",
     "status": "completed"
    },
    "tags": []
   },
   "outputs": [
    {
     "data": {
      "text/plain": [
       "Serial No.             int64\n",
       "GRE Score              int64\n",
       "TOEFL Score            int64\n",
       "University Rating      int64\n",
       "SOP                  float64\n",
       "LOR                  float64\n",
       "CGPA                 float64\n",
       "Research               int64\n",
       "Chance of Admit      float64\n",
       "dtype: object"
      ]
     },
     "execution_count": 8,
     "metadata": {},
     "output_type": "execute_result"
    }
   ],
   "source": [
    "df.dtypes"
   ]
  },
  {
   "cell_type": "markdown",
   "metadata": {
    "papermill": {
     "duration": 0.09353,
     "end_time": "2020-12-28T20:41:42.070110",
     "exception": false,
     "start_time": "2020-12-28T20:41:41.976580",
     "status": "completed"
    },
    "tags": []
   },
   "source": [
    "The dataset consists of 500 samples and 9 columns: 8 *predictors* and one *target* variable.\n",
    "\n",
    "There are no missing values (which is a very good thing!), but some column names need to be cleaned, and the `Serial No.` must be removed, as it has nothing to do with the student's overall admission chance.\n",
    "\n",
    "Lookin at the `dtypes` it seems that all columns are in the correct data type, discrete columns are in `int64` and continuous in `float64`."
   ]
  },
  {
   "cell_type": "markdown",
   "metadata": {
    "collapsed": "true",
    "papermill": {
     "duration": 0.096666,
     "end_time": "2020-12-28T20:41:42.260367",
     "exception": false,
     "start_time": "2020-12-28T20:41:42.163701",
     "status": "completed"
    },
    "tags": []
   },
   "source": [
    "# Data cleaning and Preprocessing"
   ]
  },
  {
   "cell_type": "markdown",
   "metadata": {
    "papermill": {
     "duration": 0.098251,
     "end_time": "2020-12-28T20:41:42.453121",
     "exception": false,
     "start_time": "2020-12-28T20:41:42.354870",
     "status": "completed"
    },
    "tags": []
   },
   "source": [
    "As stated in the previous section, only few *cleaning* will be performed, mainly:\n",
    "- remove extra whitespace from column names.\n",
    "- drop `Serial No.` column\n",
    "- convert `Research` column to bool."
   ]
  },
  {
   "cell_type": "code",
   "execution_count": 9,
   "metadata": {
    "execution": {
     "iopub.execute_input": "2020-12-28T20:41:42.648176Z",
     "iopub.status.busy": "2020-12-28T20:41:42.647429Z",
     "iopub.status.idle": "2020-12-28T20:41:42.652465Z",
     "shell.execute_reply": "2020-12-28T20:41:42.652966Z"
    },
    "papermill": {
     "duration": 0.102526,
     "end_time": "2020-12-28T20:41:42.653138",
     "exception": false,
     "start_time": "2020-12-28T20:41:42.550612",
     "status": "completed"
    },
    "tags": []
   },
   "outputs": [
    {
     "data": {
      "text/plain": [
       "Index(['Serial No.', 'GRE Score', 'TOEFL Score', 'University Rating', 'SOP',\n",
       "       'LOR ', 'CGPA', 'Research', 'Chance of Admit '],\n",
       "      dtype='object')"
      ]
     },
     "execution_count": 9,
     "metadata": {},
     "output_type": "execute_result"
    }
   ],
   "source": [
    "df.columns"
   ]
  },
  {
   "cell_type": "markdown",
   "metadata": {
    "papermill": {
     "duration": 0.096099,
     "end_time": "2020-12-28T20:41:42.845417",
     "exception": false,
     "start_time": "2020-12-28T20:41:42.749318",
     "status": "completed"
    },
    "tags": []
   },
   "source": [
    "Pandas has a great feature which allows us to apply multiple functions on the `DataFrame` in a sequential order: the [pipe](https://pandas.pydata.org/pandas-docs/stable/reference/api/pandas.DataFrame.pipe.html) method.\n",
    "\n",
    "Here, I'll define two separate functions for applying each processing step, and then call them using the `pipe` function."
   ]
  },
  {
   "cell_type": "code",
   "execution_count": 10,
   "metadata": {
    "execution": {
     "iopub.execute_input": "2020-12-28T20:41:43.038556Z",
     "iopub.status.busy": "2020-12-28T20:41:43.037908Z",
     "iopub.status.idle": "2020-12-28T20:41:43.043807Z",
     "shell.execute_reply": "2020-12-28T20:41:43.043029Z"
    },
    "papermill": {
     "duration": 0.102675,
     "end_time": "2020-12-28T20:41:43.043936",
     "exception": false,
     "start_time": "2020-12-28T20:41:42.941261",
     "status": "completed"
    },
    "tags": []
   },
   "outputs": [],
   "source": [
    "def read_data():\n",
    "    temp_df = pd.read_csv(\"../input/graduate-admissions/Admission_Predict_Ver1.1.csv\")\n",
    "    return temp_df"
   ]
  },
  {
   "cell_type": "code",
   "execution_count": 11,
   "metadata": {
    "execution": {
     "iopub.execute_input": "2020-12-28T20:41:43.240443Z",
     "iopub.status.busy": "2020-12-28T20:41:43.239785Z",
     "iopub.status.idle": "2020-12-28T20:41:43.243348Z",
     "shell.execute_reply": "2020-12-28T20:41:43.242772Z"
    },
    "papermill": {
     "duration": 0.1045,
     "end_time": "2020-12-28T20:41:43.243462",
     "exception": false,
     "start_time": "2020-12-28T20:41:43.138962",
     "status": "completed"
    },
    "tags": []
   },
   "outputs": [],
   "source": [
    "def normalize_column_names(temp_df):\n",
    "    return temp_df.rename(\n",
    "        columns={\"LOR \": \"LOR\", \"Chance of Admit \": \"Chance of Admit\"}\n",
    "    )"
   ]
  },
  {
   "cell_type": "code",
   "execution_count": 12,
   "metadata": {
    "execution": {
     "iopub.execute_input": "2020-12-28T20:41:43.439048Z",
     "iopub.status.busy": "2020-12-28T20:41:43.438050Z",
     "iopub.status.idle": "2020-12-28T20:41:43.441121Z",
     "shell.execute_reply": "2020-12-28T20:41:43.440489Z"
    },
    "papermill": {
     "duration": 0.102493,
     "end_time": "2020-12-28T20:41:43.441231",
     "exception": false,
     "start_time": "2020-12-28T20:41:43.338738",
     "status": "completed"
    },
    "tags": []
   },
   "outputs": [],
   "source": [
    "def drop_noisy_columns(temp_df):\n",
    "    return temp_df.drop(columns=[\"Serial No.\"])"
   ]
  },
  {
   "cell_type": "code",
   "execution_count": 13,
   "metadata": {
    "execution": {
     "iopub.execute_input": "2020-12-28T20:41:43.635996Z",
     "iopub.status.busy": "2020-12-28T20:41:43.634997Z",
     "iopub.status.idle": "2020-12-28T20:41:43.638560Z",
     "shell.execute_reply": "2020-12-28T20:41:43.637928Z"
    },
    "papermill": {
     "duration": 0.103824,
     "end_time": "2020-12-28T20:41:43.638693",
     "exception": false,
     "start_time": "2020-12-28T20:41:43.534869",
     "status": "completed"
    },
    "tags": []
   },
   "outputs": [],
   "source": [
    "def normalize_dtypes(temp_df):\n",
    "    return temp_df.astype({\"Research\": bool, \"University Rating\": str})"
   ]
  },
  {
   "cell_type": "code",
   "execution_count": 14,
   "metadata": {
    "execution": {
     "iopub.execute_input": "2020-12-28T20:41:43.835813Z",
     "iopub.status.busy": "2020-12-28T20:41:43.835025Z",
     "iopub.status.idle": "2020-12-28T20:41:43.838264Z",
     "shell.execute_reply": "2020-12-28T20:41:43.837718Z"
    },
    "papermill": {
     "duration": 0.104877,
     "end_time": "2020-12-28T20:41:43.838379",
     "exception": false,
     "start_time": "2020-12-28T20:41:43.733502",
     "status": "completed"
    },
    "tags": []
   },
   "outputs": [],
   "source": [
    "def sort_uni_ranking(temp_df):\n",
    "    return temp_df.sort_values(by=\"University Rating\")"
   ]
  },
  {
   "cell_type": "markdown",
   "metadata": {
    "papermill": {
     "duration": 0.096597,
     "end_time": "2020-12-28T20:41:44.030293",
     "exception": false,
     "start_time": "2020-12-28T20:41:43.933696",
     "status": "completed"
    },
    "tags": []
   },
   "source": [
    "Now, we plug them together:"
   ]
  },
  {
   "cell_type": "code",
   "execution_count": 15,
   "metadata": {
    "execution": {
     "iopub.execute_input": "2020-12-28T20:41:44.226633Z",
     "iopub.status.busy": "2020-12-28T20:41:44.225939Z",
     "iopub.status.idle": "2020-12-28T20:41:44.241145Z",
     "shell.execute_reply": "2020-12-28T20:41:44.240497Z"
    },
    "papermill": {
     "duration": 0.116303,
     "end_time": "2020-12-28T20:41:44.241263",
     "exception": false,
     "start_time": "2020-12-28T20:41:44.124960",
     "status": "completed"
    },
    "tags": []
   },
   "outputs": [],
   "source": [
    "df = (\n",
    "    read_data()\n",
    "    .pipe(normalize_column_names)\n",
    "    .pipe(drop_noisy_columns)\n",
    "    .pipe(normalize_dtypes)\n",
    "    .pipe(sort_uni_ranking)\n",
    ")"
   ]
  },
  {
   "cell_type": "code",
   "execution_count": 16,
   "metadata": {
    "execution": {
     "iopub.execute_input": "2020-12-28T20:41:44.438623Z",
     "iopub.status.busy": "2020-12-28T20:41:44.437538Z",
     "iopub.status.idle": "2020-12-28T20:41:44.444634Z",
     "shell.execute_reply": "2020-12-28T20:41:44.443958Z"
    },
    "papermill": {
     "duration": 0.106201,
     "end_time": "2020-12-28T20:41:44.444746",
     "exception": false,
     "start_time": "2020-12-28T20:41:44.338545",
     "status": "completed"
    },
    "tags": []
   },
   "outputs": [
    {
     "data": {
      "text/plain": [
       "Index(['GRE Score', 'TOEFL Score', 'University Rating', 'SOP', 'LOR', 'CGPA',\n",
       "       'Research', 'Chance of Admit'],\n",
       "      dtype='object')"
      ]
     },
     "execution_count": 16,
     "metadata": {},
     "output_type": "execute_result"
    }
   ],
   "source": [
    "df.columns"
   ]
  },
  {
   "cell_type": "code",
   "execution_count": 17,
   "metadata": {
    "execution": {
     "iopub.execute_input": "2020-12-28T20:41:44.652021Z",
     "iopub.status.busy": "2020-12-28T20:41:44.651357Z",
     "iopub.status.idle": "2020-12-28T20:41:44.654527Z",
     "shell.execute_reply": "2020-12-28T20:41:44.654994Z"
    },
    "papermill": {
     "duration": 0.106284,
     "end_time": "2020-12-28T20:41:44.655169",
     "exception": false,
     "start_time": "2020-12-28T20:41:44.548885",
     "status": "completed"
    },
    "tags": []
   },
   "outputs": [
    {
     "data": {
      "text/plain": [
       "(500, 8)"
      ]
     },
     "execution_count": 17,
     "metadata": {},
     "output_type": "execute_result"
    }
   ],
   "source": [
    "df.shape"
   ]
  },
  {
   "cell_type": "code",
   "execution_count": 18,
   "metadata": {
    "execution": {
     "iopub.execute_input": "2020-12-28T20:41:44.852164Z",
     "iopub.status.busy": "2020-12-28T20:41:44.851499Z",
     "iopub.status.idle": "2020-12-28T20:41:44.859150Z",
     "shell.execute_reply": "2020-12-28T20:41:44.858575Z"
    },
    "papermill": {
     "duration": 0.108027,
     "end_time": "2020-12-28T20:41:44.859263",
     "exception": false,
     "start_time": "2020-12-28T20:41:44.751236",
     "status": "completed"
    },
    "tags": []
   },
   "outputs": [
    {
     "data": {
      "text/plain": [
       "GRE Score              int64\n",
       "TOEFL Score            int64\n",
       "University Rating     object\n",
       "SOP                  float64\n",
       "LOR                  float64\n",
       "CGPA                 float64\n",
       "Research                bool\n",
       "Chance of Admit      float64\n",
       "dtype: object"
      ]
     },
     "execution_count": 18,
     "metadata": {},
     "output_type": "execute_result"
    }
   ],
   "source": [
    "df.dtypes"
   ]
  },
  {
   "cell_type": "markdown",
   "metadata": {
    "papermill": {
     "duration": 0.098083,
     "end_time": "2020-12-28T20:41:45.054484",
     "exception": false,
     "start_time": "2020-12-28T20:41:44.956401",
     "status": "completed"
    },
    "tags": []
   },
   "source": [
    "We *cleaned* the data with a *clean* code!"
   ]
  },
  {
   "cell_type": "markdown",
   "metadata": {
    "papermill": {
     "duration": 0.096185,
     "end_time": "2020-12-28T20:41:45.246998",
     "exception": false,
     "start_time": "2020-12-28T20:41:45.150813",
     "status": "completed"
    },
    "tags": []
   },
   "source": [
    "# Exploratory Data Analysis (EDA)"
   ]
  },
  {
   "cell_type": "markdown",
   "metadata": {
    "papermill": {
     "duration": 0.096635,
     "end_time": "2020-12-28T20:41:45.439926",
     "exception": false,
     "start_time": "2020-12-28T20:41:45.343291",
     "status": "completed"
    },
    "tags": []
   },
   "source": [
    "In this section, we'll explore the data *visually* and summarize it using *descriptive statistic* methods.\n",
    "\n",
    "To keep things simpler, we'll divide this section into three subsections:\n",
    "1. Univariate analysis: in this section we'll focus only at one variable at a time, and study the variable descriptive statistics with some charts like: Bar chart, Line chart, Histogram, Boxplot, etc ..., and how the variable is distributed, and if there is any *skewness* in the distribution.\n",
    "2. Bivariate analysis: in this section we'll study the relation between *two* variables, and present different statistics such as Correlation, Covariance, and will use some other charts like: scatterplot, and will make use of the `hue` parameter of the previous charts.\n",
    "3. Multivariate analysis: in this section we'll study the relation between three or more variables, and will use additional type of charts, such as parplot."
   ]
  },
  {
   "cell_type": "markdown",
   "metadata": {
    "collapsed": "true",
    "papermill": {
     "duration": 0.096328,
     "end_time": "2020-12-28T20:41:45.632959",
     "exception": false,
     "start_time": "2020-12-28T20:41:45.536631",
     "status": "completed"
    },
    "tags": []
   },
   "source": [
    "## Univariate Analysis"
   ]
  },
  {
   "cell_type": "markdown",
   "metadata": {
    "papermill": {
     "duration": 0.097129,
     "end_time": "2020-12-28T20:41:45.826762",
     "exception": false,
     "start_time": "2020-12-28T20:41:45.729633",
     "status": "completed"
    },
    "tags": []
   },
   "source": [
    "Here in this section, will perform analysis on each variable individually, but according to the variable type different methods and visualization will be used, main types of variables:\n",
    "- Numerical: numerical variables are variables which measures things like: counts, grades, etc ..., and they don't have a *finite* set of values, and they can be divided to:\n",
    "    - Continuous: continuous variables are continous measurements such as weight, height.\n",
    "    - Discrete: discrete variables represent counts such as number of children in a family, number of rooms in a house.\n",
    "- Categorical: a categorical variable is a variable which takes one of a limited values, and it can be further divided to:\n",
    "    - Nominal: nominal variable has a finite set of possible values, which don't have any ordereing relation among them, like countries, for example we can't say that `France` is higher than `Germany`: `France` > `Germany`, therfore, there's no sense of ordering between the values in a noinal variable.\n",
    "    - Ordinal: in contrast to `Nominal` variable, ordinal varible defines an ordering relation between the values, such as the student performance in an exam, which can be: `Bad`, `Good`, `Very Good`, and `Excellent` (there's an ordering relation among theses values, and we can say that `Bad` is lower than `Good`: `Bad` < `Good`)\n",
    "    - Binary: binary variables are a special case of nominal variables, but they only have *two* possible values, like admission status which can either be `Accepted` or `Not Accepted`.\n",
    "\n",
    "resources:\n",
    "- [Variable types and examples](https://www.statsandr.com/blog/variable-types-and-examples/)\n",
    "- [What is the difference between ordinal, interval and ratio variables? Why should I care?](https://www.graphpad.com/support/faq/what-is-the-difference-between-ordinal-interval-and-ratio-variables-why-should-i-care/)"
   ]
  },
  {
   "cell_type": "markdown",
   "metadata": {
    "papermill": {
     "duration": 0.096759,
     "end_time": "2020-12-28T20:41:46.022490",
     "exception": false,
     "start_time": "2020-12-28T20:41:45.925731",
     "status": "completed"
    },
    "tags": []
   },
   "source": [
    "Let's see what are the types of variables in our dataset:"
   ]
  },
  {
   "cell_type": "code",
   "execution_count": 19,
   "metadata": {
    "execution": {
     "iopub.execute_input": "2020-12-28T20:41:46.219868Z",
     "iopub.status.busy": "2020-12-28T20:41:46.219220Z",
     "iopub.status.idle": "2020-12-28T20:41:46.250964Z",
     "shell.execute_reply": "2020-12-28T20:41:46.250296Z"
    },
    "papermill": {
     "duration": 0.130921,
     "end_time": "2020-12-28T20:41:46.251096",
     "exception": false,
     "start_time": "2020-12-28T20:41:46.120175",
     "status": "completed"
    },
    "tags": []
   },
   "outputs": [
    {
     "data": {
      "text/html": [
       "<div>\n",
       "<style scoped>\n",
       "    .dataframe tbody tr th:only-of-type {\n",
       "        vertical-align: middle;\n",
       "    }\n",
       "\n",
       "    .dataframe tbody tr th {\n",
       "        vertical-align: top;\n",
       "    }\n",
       "\n",
       "    .dataframe thead th {\n",
       "        text-align: right;\n",
       "    }\n",
       "</style>\n",
       "<table border=\"1\" class=\"dataframe\">\n",
       "  <thead>\n",
       "    <tr style=\"text-align: right;\">\n",
       "      <th></th>\n",
       "      <th>GRE Score</th>\n",
       "      <th>TOEFL Score</th>\n",
       "      <th>SOP</th>\n",
       "      <th>LOR</th>\n",
       "      <th>CGPA</th>\n",
       "      <th>Chance of Admit</th>\n",
       "    </tr>\n",
       "  </thead>\n",
       "  <tbody>\n",
       "    <tr>\n",
       "      <th>count</th>\n",
       "      <td>500.000000</td>\n",
       "      <td>500.000000</td>\n",
       "      <td>500.000000</td>\n",
       "      <td>500.00000</td>\n",
       "      <td>500.000000</td>\n",
       "      <td>500.00000</td>\n",
       "    </tr>\n",
       "    <tr>\n",
       "      <th>mean</th>\n",
       "      <td>316.472000</td>\n",
       "      <td>107.192000</td>\n",
       "      <td>3.374000</td>\n",
       "      <td>3.48400</td>\n",
       "      <td>8.576440</td>\n",
       "      <td>0.72174</td>\n",
       "    </tr>\n",
       "    <tr>\n",
       "      <th>std</th>\n",
       "      <td>11.295148</td>\n",
       "      <td>6.081868</td>\n",
       "      <td>0.991004</td>\n",
       "      <td>0.92545</td>\n",
       "      <td>0.604813</td>\n",
       "      <td>0.14114</td>\n",
       "    </tr>\n",
       "    <tr>\n",
       "      <th>min</th>\n",
       "      <td>290.000000</td>\n",
       "      <td>92.000000</td>\n",
       "      <td>1.000000</td>\n",
       "      <td>1.00000</td>\n",
       "      <td>6.800000</td>\n",
       "      <td>0.34000</td>\n",
       "    </tr>\n",
       "    <tr>\n",
       "      <th>25%</th>\n",
       "      <td>308.000000</td>\n",
       "      <td>103.000000</td>\n",
       "      <td>2.500000</td>\n",
       "      <td>3.00000</td>\n",
       "      <td>8.127500</td>\n",
       "      <td>0.63000</td>\n",
       "    </tr>\n",
       "    <tr>\n",
       "      <th>50%</th>\n",
       "      <td>317.000000</td>\n",
       "      <td>107.000000</td>\n",
       "      <td>3.500000</td>\n",
       "      <td>3.50000</td>\n",
       "      <td>8.560000</td>\n",
       "      <td>0.72000</td>\n",
       "    </tr>\n",
       "    <tr>\n",
       "      <th>75%</th>\n",
       "      <td>325.000000</td>\n",
       "      <td>112.000000</td>\n",
       "      <td>4.000000</td>\n",
       "      <td>4.00000</td>\n",
       "      <td>9.040000</td>\n",
       "      <td>0.82000</td>\n",
       "    </tr>\n",
       "    <tr>\n",
       "      <th>max</th>\n",
       "      <td>340.000000</td>\n",
       "      <td>120.000000</td>\n",
       "      <td>5.000000</td>\n",
       "      <td>5.00000</td>\n",
       "      <td>9.920000</td>\n",
       "      <td>0.97000</td>\n",
       "    </tr>\n",
       "  </tbody>\n",
       "</table>\n",
       "</div>"
      ],
      "text/plain": [
       "        GRE Score  TOEFL Score         SOP        LOR        CGPA  \\\n",
       "count  500.000000   500.000000  500.000000  500.00000  500.000000   \n",
       "mean   316.472000   107.192000    3.374000    3.48400    8.576440   \n",
       "std     11.295148     6.081868    0.991004    0.92545    0.604813   \n",
       "min    290.000000    92.000000    1.000000    1.00000    6.800000   \n",
       "25%    308.000000   103.000000    2.500000    3.00000    8.127500   \n",
       "50%    317.000000   107.000000    3.500000    3.50000    8.560000   \n",
       "75%    325.000000   112.000000    4.000000    4.00000    9.040000   \n",
       "max    340.000000   120.000000    5.000000    5.00000    9.920000   \n",
       "\n",
       "       Chance of Admit  \n",
       "count        500.00000  \n",
       "mean           0.72174  \n",
       "std            0.14114  \n",
       "min            0.34000  \n",
       "25%            0.63000  \n",
       "50%            0.72000  \n",
       "75%            0.82000  \n",
       "max            0.97000  "
      ]
     },
     "execution_count": 19,
     "metadata": {},
     "output_type": "execute_result"
    }
   ],
   "source": [
    "df.describe()"
   ]
  },
  {
   "cell_type": "markdown",
   "metadata": {
    "papermill": {
     "duration": 0.098125,
     "end_time": "2020-12-28T20:41:46.448328",
     "exception": false,
     "start_time": "2020-12-28T20:41:46.350203",
     "status": "completed"
    },
    "tags": []
   },
   "source": [
    "- Discrete: `GRE Score` and `TOEFL Score` are discrete variables.\n",
    "- Continuous: `CGPA` and `Chance of Admit` are continuous variables.\n",
    "- Ordinal: `University Rating`, `SOP` and `LOR` are ordinal variables.\n",
    "- Binary: `Research` is a binary variable."
   ]
  },
  {
   "cell_type": "markdown",
   "metadata": {
    "papermill": {
     "duration": 0.099592,
     "end_time": "2020-12-28T20:41:46.646281",
     "exception": false,
     "start_time": "2020-12-28T20:41:46.546689",
     "status": "completed"
    },
    "tags": []
   },
   "source": [
    "### `GRE Score`"
   ]
  },
  {
   "cell_type": "markdown",
   "metadata": {
    "papermill": {
     "duration": 0.09693,
     "end_time": "2020-12-28T20:41:46.842330",
     "exception": false,
     "start_time": "2020-12-28T20:41:46.745400",
     "status": "completed"
    },
    "tags": []
   },
   "source": [
    "The `GRE Score` is a discrete variable."
   ]
  },
  {
   "cell_type": "code",
   "execution_count": 20,
   "metadata": {
    "execution": {
     "iopub.execute_input": "2020-12-28T20:41:47.051473Z",
     "iopub.status.busy": "2020-12-28T20:41:47.048385Z",
     "iopub.status.idle": "2020-12-28T20:41:47.056342Z",
     "shell.execute_reply": "2020-12-28T20:41:47.055742Z"
    },
    "papermill": {
     "duration": 0.114216,
     "end_time": "2020-12-28T20:41:47.056462",
     "exception": false,
     "start_time": "2020-12-28T20:41:46.942246",
     "status": "completed"
    },
    "tags": []
   },
   "outputs": [
    {
     "data": {
      "text/plain": [
       "count    500.000000\n",
       "mean     316.472000\n",
       "std       11.295148\n",
       "min      290.000000\n",
       "25%      308.000000\n",
       "50%      317.000000\n",
       "75%      325.000000\n",
       "max      340.000000\n",
       "Name: GRE Score, dtype: float64"
      ]
     },
     "execution_count": 20,
     "metadata": {},
     "output_type": "execute_result"
    }
   ],
   "source": [
    "df[\"GRE Score\"].describe()"
   ]
  },
  {
   "cell_type": "code",
   "execution_count": 21,
   "metadata": {
    "execution": {
     "iopub.execute_input": "2020-12-28T20:41:47.256138Z",
     "iopub.status.busy": "2020-12-28T20:41:47.255410Z",
     "iopub.status.idle": "2020-12-28T20:41:47.263023Z",
     "shell.execute_reply": "2020-12-28T20:41:47.262334Z"
    },
    "papermill": {
     "duration": 0.108128,
     "end_time": "2020-12-28T20:41:47.263160",
     "exception": false,
     "start_time": "2020-12-28T20:41:47.155032",
     "status": "completed"
    },
    "tags": []
   },
   "outputs": [
    {
     "name": "stdout",
     "output_type": "stream",
     "text": [
      "0    312\n",
      "dtype: int64\n"
     ]
    }
   ],
   "source": [
    "print(df[\"GRE Score\"].mode())"
   ]
  },
  {
   "cell_type": "code",
   "execution_count": 22,
   "metadata": {
    "execution": {
     "iopub.execute_input": "2020-12-28T20:41:47.467223Z",
     "iopub.status.busy": "2020-12-28T20:41:47.466546Z",
     "iopub.status.idle": "2020-12-28T20:41:47.471113Z",
     "shell.execute_reply": "2020-12-28T20:41:47.470458Z"
    },
    "papermill": {
     "duration": 0.109864,
     "end_time": "2020-12-28T20:41:47.471229",
     "exception": false,
     "start_time": "2020-12-28T20:41:47.361365",
     "status": "completed"
    },
    "tags": []
   },
   "outputs": [
    {
     "name": "stdout",
     "output_type": "stream",
     "text": [
      "-0.03972223277299966\n"
     ]
    }
   ],
   "source": [
    "print(stats.skew(df[\"GRE Score\"]))"
   ]
  },
  {
   "cell_type": "code",
   "execution_count": 23,
   "metadata": {
    "execution": {
     "iopub.execute_input": "2020-12-28T20:41:47.677783Z",
     "iopub.status.busy": "2020-12-28T20:41:47.677037Z",
     "iopub.status.idle": "2020-12-28T20:41:49.157223Z",
     "shell.execute_reply": "2020-12-28T20:41:49.156648Z"
    },
    "papermill": {
     "duration": 1.586439,
     "end_time": "2020-12-28T20:41:49.157340",
     "exception": false,
     "start_time": "2020-12-28T20:41:47.570901",
     "status": "completed"
    },
    "tags": []
   },
   "outputs": [
    {
     "data": {
      "text/html": [
       "        <script type=\"text/javascript\">\n",
       "        window.PlotlyConfig = {MathJaxConfig: 'local'};\n",
       "        if (window.MathJax) {MathJax.Hub.Config({SVG: {font: \"STIX-Web\"}});}\n",
       "        if (typeof require !== 'undefined') {\n",
       "        require.undef(\"plotly\");\n",
       "        requirejs.config({\n",
       "            paths: {\n",
       "                'plotly': ['https://cdn.plot.ly/plotly-latest.min']\n",
       "            }\n",
       "        });\n",
       "        require(['plotly'], function(Plotly) {\n",
       "            window._Plotly = Plotly;\n",
       "        });\n",
       "        }\n",
       "        </script>\n",
       "        "
      ]
     },
     "metadata": {},
     "output_type": "display_data"
    },
    {
     "data": {
      "text/html": [
       "<div>                            <div id=\"d0d58aea-2c9d-4110-a748-66c51b4a8290\" class=\"plotly-graph-div\" style=\"height:525px; width:100%;\"></div>            <script type=\"text/javascript\">                require([\"plotly\"], function(Plotly) {                    window.PLOTLYENV=window.PLOTLYENV || {};                                    if (document.getElementById(\"d0d58aea-2c9d-4110-a748-66c51b4a8290\")) {                    Plotly.newPlot(                        \"d0d58aea-2c9d-4110-a748-66c51b4a8290\",                        [{\"alignmentgroup\": \"True\", \"bingroup\": \"x\", \"hovertemplate\": \"GRE Score=%{x}<br>count=%{y}<extra></extra>\", \"legendgroup\": \"\", \"marker\": {\"color\": \"#636efa\"}, \"name\": \"\", \"nbinsx\": 20, \"offsetgroup\": \"\", \"orientation\": \"v\", \"showlegend\": false, \"type\": \"histogram\", \"x\": [318, 295, 301, 318, 294, 300, 304, 312, 315, 310, 317, 311, 312, 290, 300, 303, 300, 332, 311, 299, 298, 298, 297, 296, 295, 312, 302, 301, 316, 294, 302, 315, 300, 299, 317, 306, 316, 312, 296, 301, 299, 317, 316, 320, 304, 315, 314, 307, 299, 305, 300, 312, 302, 314, 297, 310, 321, 304, 293, 302, 307, 308, 309, 318, 316, 306, 309, 308, 325, 296, 312, 316, 311, 314, 306, 305, 308, 320, 311, 312, 309, 305, 316, 329, 332, 299, 320, 325, 320, 326, 298, 309, 318, 311, 298, 310, 300, 305, 315, 306, 295, 299, 307, 312, 316, 313, 295, 311, 312, 307, 306, 301, 308, 317, 314, 300, 297, 308, 305, 303, 296, 304, 315, 304, 295, 305, 304, 317, 297, 305, 310, 310, 306, 307, 298, 329, 301, 296, 317, 313, 322, 319, 311, 317, 313, 316, 315, 312, 298, 314, 308, 298, 315, 304, 309, 312, 311, 305, 316, 314, 325, 324, 318, 318, 316, 319, 320, 324, 313, 310, 320, 313, 324, 324, 317, 323, 315, 326, 299, 327, 308, 319, 301, 320, 313, 312, 326, 308, 313, 318, 322, 300, 327, 319, 320, 324, 312, 300, 319, 312, 324, 313, 314, 322, 322, 311, 317, 312, 321, 321, 324, 310, 320, 330, 305, 323, 321, 323, 309, 316, 321, 312, 307, 325, 311, 327, 318, 314, 327, 312, 304, 301, 315, 314, 299, 303, 331, 323, 322, 326, 316, 313, 301, 311, 315, 299, 320, 316, 308, 320, 313, 301, 316, 322, 321, 323, 325, 307, 311, 314, 317, 319, 318, 303, 312, 302, 322, 319, 327, 317, 321, 308, 318, 304, 300, 321, 322, 300, 319, 319, 313, 299, 316, 315, 323, 309, 300, 314, 317, 317, 297, 302, 298, 311, 313, 317, 302, 298, 310, 301, 311, 324, 312, 325, 316, 321, 319, 307, 311, 310, 312, 324, 326, 312, 326, 315, 318, 312, 315, 317, 326, 306, 334, 331, 328, 324, 330, 326, 322, 329, 333, 324, 330, 298, 316, 297, 327, 320, 336, 330, 324, 305, 314, 323, 326, 340, 307, 319, 327, 329, 327, 308, 321, 309, 325, 314, 323, 322, 327, 328, 337, 339, 310, 290, 310, 301, 314, 340, 325, 321, 334, 322, 323, 321, 320, 329, 327, 325, 329, 328, 338, 332, 324, 327, 328, 325, 338, 332, 327, 329, 334, 325, 328, 314, 340, 319, 316, 304, 324, 338, 327, 340, 321, 328, 335, 312, 308, 328, 324, 325, 307, 312, 325, 311, 314, 324, 327, 324, 308, 326, 322, 325, 321, 327, 331, 331, 324, 340, 320, 320, 332, 318, 336, 324, 322, 321, 333, 329, 330, 337, 332, 338, 330, 323, 332, 328, 339, 334, 340, 322, 304, 340, 331, 320, 326, 336, 336, 322, 327, 329, 325, 334, 329, 322, 334, 326, 330, 335, 331, 324, 324, 323, 322, 336, 340, 334, 330, 323, 331, 321, 340, 331, 304, 305, 327, 335, 328, 324, 321, 334, 335, 333, 339, 303, 309, 323, 333, 331, 332, 324], \"xaxis\": \"x\", \"yaxis\": \"y\"}, {\"alignmentgroup\": \"True\", \"hovertemplate\": \"GRE Score=%{x}<extra></extra>\", \"legendgroup\": \"\", \"marker\": {\"color\": \"#636efa\"}, \"name\": \"\", \"notched\": true, \"offsetgroup\": \"\", \"showlegend\": false, \"type\": \"box\", \"x\": [318, 295, 301, 318, 294, 300, 304, 312, 315, 310, 317, 311, 312, 290, 300, 303, 300, 332, 311, 299, 298, 298, 297, 296, 295, 312, 302, 301, 316, 294, 302, 315, 300, 299, 317, 306, 316, 312, 296, 301, 299, 317, 316, 320, 304, 315, 314, 307, 299, 305, 300, 312, 302, 314, 297, 310, 321, 304, 293, 302, 307, 308, 309, 318, 316, 306, 309, 308, 325, 296, 312, 316, 311, 314, 306, 305, 308, 320, 311, 312, 309, 305, 316, 329, 332, 299, 320, 325, 320, 326, 298, 309, 318, 311, 298, 310, 300, 305, 315, 306, 295, 299, 307, 312, 316, 313, 295, 311, 312, 307, 306, 301, 308, 317, 314, 300, 297, 308, 305, 303, 296, 304, 315, 304, 295, 305, 304, 317, 297, 305, 310, 310, 306, 307, 298, 329, 301, 296, 317, 313, 322, 319, 311, 317, 313, 316, 315, 312, 298, 314, 308, 298, 315, 304, 309, 312, 311, 305, 316, 314, 325, 324, 318, 318, 316, 319, 320, 324, 313, 310, 320, 313, 324, 324, 317, 323, 315, 326, 299, 327, 308, 319, 301, 320, 313, 312, 326, 308, 313, 318, 322, 300, 327, 319, 320, 324, 312, 300, 319, 312, 324, 313, 314, 322, 322, 311, 317, 312, 321, 321, 324, 310, 320, 330, 305, 323, 321, 323, 309, 316, 321, 312, 307, 325, 311, 327, 318, 314, 327, 312, 304, 301, 315, 314, 299, 303, 331, 323, 322, 326, 316, 313, 301, 311, 315, 299, 320, 316, 308, 320, 313, 301, 316, 322, 321, 323, 325, 307, 311, 314, 317, 319, 318, 303, 312, 302, 322, 319, 327, 317, 321, 308, 318, 304, 300, 321, 322, 300, 319, 319, 313, 299, 316, 315, 323, 309, 300, 314, 317, 317, 297, 302, 298, 311, 313, 317, 302, 298, 310, 301, 311, 324, 312, 325, 316, 321, 319, 307, 311, 310, 312, 324, 326, 312, 326, 315, 318, 312, 315, 317, 326, 306, 334, 331, 328, 324, 330, 326, 322, 329, 333, 324, 330, 298, 316, 297, 327, 320, 336, 330, 324, 305, 314, 323, 326, 340, 307, 319, 327, 329, 327, 308, 321, 309, 325, 314, 323, 322, 327, 328, 337, 339, 310, 290, 310, 301, 314, 340, 325, 321, 334, 322, 323, 321, 320, 329, 327, 325, 329, 328, 338, 332, 324, 327, 328, 325, 338, 332, 327, 329, 334, 325, 328, 314, 340, 319, 316, 304, 324, 338, 327, 340, 321, 328, 335, 312, 308, 328, 324, 325, 307, 312, 325, 311, 314, 324, 327, 324, 308, 326, 322, 325, 321, 327, 331, 331, 324, 340, 320, 320, 332, 318, 336, 324, 322, 321, 333, 329, 330, 337, 332, 338, 330, 323, 332, 328, 339, 334, 340, 322, 304, 340, 331, 320, 326, 336, 336, 322, 327, 329, 325, 334, 329, 322, 334, 326, 330, 335, 331, 324, 324, 323, 322, 336, 340, 334, 330, 323, 331, 321, 340, 331, 304, 305, 327, 335, 328, 324, 321, 334, 335, 333, 339, 303, 309, 323, 333, 331, 332, 324], \"xaxis\": \"x2\", \"yaxis\": \"y2\"}],                        {\"barmode\": \"relative\", \"legend\": {\"tracegroupgap\": 0}, \"margin\": {\"t\": 60}, \"template\": {\"data\": {\"bar\": [{\"error_x\": {\"color\": \"#2a3f5f\"}, \"error_y\": {\"color\": \"#2a3f5f\"}, \"marker\": {\"line\": {\"color\": \"#E5ECF6\", \"width\": 0.5}}, \"type\": \"bar\"}], \"barpolar\": [{\"marker\": {\"line\": {\"color\": \"#E5ECF6\", \"width\": 0.5}}, \"type\": \"barpolar\"}], \"carpet\": [{\"aaxis\": {\"endlinecolor\": \"#2a3f5f\", \"gridcolor\": \"white\", \"linecolor\": \"white\", \"minorgridcolor\": \"white\", \"startlinecolor\": \"#2a3f5f\"}, \"baxis\": {\"endlinecolor\": \"#2a3f5f\", \"gridcolor\": \"white\", \"linecolor\": \"white\", \"minorgridcolor\": \"white\", \"startlinecolor\": \"#2a3f5f\"}, \"type\": \"carpet\"}], \"choropleth\": [{\"colorbar\": {\"outlinewidth\": 0, \"ticks\": \"\"}, \"type\": \"choropleth\"}], \"contour\": [{\"colorbar\": {\"outlinewidth\": 0, \"ticks\": \"\"}, \"colorscale\": [[0.0, \"#0d0887\"], [0.1111111111111111, \"#46039f\"], [0.2222222222222222, \"#7201a8\"], [0.3333333333333333, \"#9c179e\"], [0.4444444444444444, \"#bd3786\"], [0.5555555555555556, \"#d8576b\"], [0.6666666666666666, \"#ed7953\"], [0.7777777777777778, \"#fb9f3a\"], [0.8888888888888888, \"#fdca26\"], [1.0, \"#f0f921\"]], \"type\": \"contour\"}], \"contourcarpet\": [{\"colorbar\": {\"outlinewidth\": 0, \"ticks\": \"\"}, \"type\": \"contourcarpet\"}], \"heatmap\": [{\"colorbar\": {\"outlinewidth\": 0, \"ticks\": \"\"}, \"colorscale\": [[0.0, \"#0d0887\"], [0.1111111111111111, \"#46039f\"], [0.2222222222222222, \"#7201a8\"], [0.3333333333333333, \"#9c179e\"], [0.4444444444444444, \"#bd3786\"], [0.5555555555555556, \"#d8576b\"], [0.6666666666666666, \"#ed7953\"], [0.7777777777777778, \"#fb9f3a\"], [0.8888888888888888, \"#fdca26\"], [1.0, \"#f0f921\"]], \"type\": \"heatmap\"}], \"heatmapgl\": [{\"colorbar\": {\"outlinewidth\": 0, \"ticks\": \"\"}, \"colorscale\": [[0.0, \"#0d0887\"], [0.1111111111111111, \"#46039f\"], [0.2222222222222222, \"#7201a8\"], [0.3333333333333333, \"#9c179e\"], [0.4444444444444444, \"#bd3786\"], [0.5555555555555556, \"#d8576b\"], [0.6666666666666666, \"#ed7953\"], [0.7777777777777778, \"#fb9f3a\"], [0.8888888888888888, \"#fdca26\"], [1.0, \"#f0f921\"]], \"type\": \"heatmapgl\"}], \"histogram\": [{\"marker\": {\"colorbar\": {\"outlinewidth\": 0, \"ticks\": \"\"}}, \"type\": \"histogram\"}], \"histogram2d\": [{\"colorbar\": {\"outlinewidth\": 0, \"ticks\": \"\"}, \"colorscale\": [[0.0, \"#0d0887\"], [0.1111111111111111, \"#46039f\"], [0.2222222222222222, \"#7201a8\"], [0.3333333333333333, \"#9c179e\"], [0.4444444444444444, \"#bd3786\"], [0.5555555555555556, \"#d8576b\"], [0.6666666666666666, \"#ed7953\"], [0.7777777777777778, \"#fb9f3a\"], [0.8888888888888888, \"#fdca26\"], [1.0, \"#f0f921\"]], \"type\": \"histogram2d\"}], \"histogram2dcontour\": [{\"colorbar\": {\"outlinewidth\": 0, \"ticks\": \"\"}, \"colorscale\": [[0.0, \"#0d0887\"], [0.1111111111111111, \"#46039f\"], [0.2222222222222222, \"#7201a8\"], [0.3333333333333333, \"#9c179e\"], [0.4444444444444444, \"#bd3786\"], [0.5555555555555556, \"#d8576b\"], [0.6666666666666666, \"#ed7953\"], [0.7777777777777778, \"#fb9f3a\"], [0.8888888888888888, \"#fdca26\"], [1.0, \"#f0f921\"]], \"type\": \"histogram2dcontour\"}], \"mesh3d\": [{\"colorbar\": {\"outlinewidth\": 0, \"ticks\": \"\"}, \"type\": \"mesh3d\"}], \"parcoords\": [{\"line\": {\"colorbar\": {\"outlinewidth\": 0, \"ticks\": \"\"}}, \"type\": \"parcoords\"}], \"pie\": [{\"automargin\": true, \"type\": \"pie\"}], \"scatter\": [{\"marker\": {\"colorbar\": {\"outlinewidth\": 0, \"ticks\": \"\"}}, \"type\": \"scatter\"}], \"scatter3d\": [{\"line\": {\"colorbar\": {\"outlinewidth\": 0, \"ticks\": \"\"}}, \"marker\": {\"colorbar\": {\"outlinewidth\": 0, \"ticks\": \"\"}}, \"type\": \"scatter3d\"}], \"scattercarpet\": [{\"marker\": {\"colorbar\": {\"outlinewidth\": 0, \"ticks\": \"\"}}, \"type\": \"scattercarpet\"}], \"scattergeo\": [{\"marker\": {\"colorbar\": {\"outlinewidth\": 0, \"ticks\": \"\"}}, \"type\": \"scattergeo\"}], \"scattergl\": [{\"marker\": {\"colorbar\": {\"outlinewidth\": 0, \"ticks\": \"\"}}, \"type\": \"scattergl\"}], \"scattermapbox\": [{\"marker\": {\"colorbar\": {\"outlinewidth\": 0, \"ticks\": \"\"}}, \"type\": \"scattermapbox\"}], \"scatterpolar\": [{\"marker\": {\"colorbar\": {\"outlinewidth\": 0, \"ticks\": \"\"}}, \"type\": \"scatterpolar\"}], \"scatterpolargl\": [{\"marker\": {\"colorbar\": {\"outlinewidth\": 0, \"ticks\": \"\"}}, \"type\": \"scatterpolargl\"}], \"scatterternary\": [{\"marker\": {\"colorbar\": {\"outlinewidth\": 0, \"ticks\": \"\"}}, \"type\": \"scatterternary\"}], \"surface\": [{\"colorbar\": {\"outlinewidth\": 0, \"ticks\": \"\"}, \"colorscale\": [[0.0, \"#0d0887\"], [0.1111111111111111, \"#46039f\"], [0.2222222222222222, \"#7201a8\"], [0.3333333333333333, \"#9c179e\"], [0.4444444444444444, \"#bd3786\"], [0.5555555555555556, \"#d8576b\"], [0.6666666666666666, \"#ed7953\"], [0.7777777777777778, \"#fb9f3a\"], [0.8888888888888888, \"#fdca26\"], [1.0, \"#f0f921\"]], \"type\": \"surface\"}], \"table\": [{\"cells\": {\"fill\": {\"color\": \"#EBF0F8\"}, \"line\": {\"color\": \"white\"}}, \"header\": {\"fill\": {\"color\": \"#C8D4E3\"}, \"line\": {\"color\": \"white\"}}, \"type\": \"table\"}]}, \"layout\": {\"annotationdefaults\": {\"arrowcolor\": \"#2a3f5f\", \"arrowhead\": 0, \"arrowwidth\": 1}, \"autotypenumbers\": \"strict\", \"coloraxis\": {\"colorbar\": {\"outlinewidth\": 0, \"ticks\": \"\"}}, \"colorscale\": {\"diverging\": [[0, \"#8e0152\"], [0.1, \"#c51b7d\"], [0.2, \"#de77ae\"], [0.3, \"#f1b6da\"], [0.4, \"#fde0ef\"], [0.5, \"#f7f7f7\"], [0.6, \"#e6f5d0\"], [0.7, \"#b8e186\"], [0.8, \"#7fbc41\"], [0.9, \"#4d9221\"], [1, \"#276419\"]], \"sequential\": [[0.0, \"#0d0887\"], [0.1111111111111111, \"#46039f\"], [0.2222222222222222, \"#7201a8\"], [0.3333333333333333, \"#9c179e\"], [0.4444444444444444, \"#bd3786\"], [0.5555555555555556, \"#d8576b\"], [0.6666666666666666, \"#ed7953\"], [0.7777777777777778, \"#fb9f3a\"], [0.8888888888888888, \"#fdca26\"], [1.0, \"#f0f921\"]], \"sequentialminus\": [[0.0, \"#0d0887\"], [0.1111111111111111, \"#46039f\"], [0.2222222222222222, \"#7201a8\"], [0.3333333333333333, \"#9c179e\"], [0.4444444444444444, \"#bd3786\"], [0.5555555555555556, \"#d8576b\"], [0.6666666666666666, \"#ed7953\"], [0.7777777777777778, \"#fb9f3a\"], [0.8888888888888888, \"#fdca26\"], [1.0, \"#f0f921\"]]}, \"colorway\": [\"#636efa\", \"#EF553B\", \"#00cc96\", \"#ab63fa\", \"#FFA15A\", \"#19d3f3\", \"#FF6692\", \"#B6E880\", \"#FF97FF\", \"#FECB52\"], \"font\": {\"color\": \"#2a3f5f\"}, \"geo\": {\"bgcolor\": \"white\", \"lakecolor\": \"white\", \"landcolor\": \"#E5ECF6\", \"showlakes\": true, \"showland\": true, \"subunitcolor\": \"white\"}, \"hoverlabel\": {\"align\": \"left\"}, \"hovermode\": \"closest\", \"mapbox\": {\"style\": \"light\"}, \"paper_bgcolor\": \"white\", \"plot_bgcolor\": \"#E5ECF6\", \"polar\": {\"angularaxis\": {\"gridcolor\": \"white\", \"linecolor\": \"white\", \"ticks\": \"\"}, \"bgcolor\": \"#E5ECF6\", \"radialaxis\": {\"gridcolor\": \"white\", \"linecolor\": \"white\", \"ticks\": \"\"}}, \"scene\": {\"xaxis\": {\"backgroundcolor\": \"#E5ECF6\", \"gridcolor\": \"white\", \"gridwidth\": 2, \"linecolor\": \"white\", \"showbackground\": true, \"ticks\": \"\", \"zerolinecolor\": \"white\"}, \"yaxis\": {\"backgroundcolor\": \"#E5ECF6\", \"gridcolor\": \"white\", \"gridwidth\": 2, \"linecolor\": \"white\", \"showbackground\": true, \"ticks\": \"\", \"zerolinecolor\": \"white\"}, \"zaxis\": {\"backgroundcolor\": \"#E5ECF6\", \"gridcolor\": \"white\", \"gridwidth\": 2, \"linecolor\": \"white\", \"showbackground\": true, \"ticks\": \"\", \"zerolinecolor\": \"white\"}}, \"shapedefaults\": {\"line\": {\"color\": \"#2a3f5f\"}}, \"ternary\": {\"aaxis\": {\"gridcolor\": \"white\", \"linecolor\": \"white\", \"ticks\": \"\"}, \"baxis\": {\"gridcolor\": \"white\", \"linecolor\": \"white\", \"ticks\": \"\"}, \"bgcolor\": \"#E5ECF6\", \"caxis\": {\"gridcolor\": \"white\", \"linecolor\": \"white\", \"ticks\": \"\"}}, \"title\": {\"x\": 0.05}, \"xaxis\": {\"automargin\": true, \"gridcolor\": \"white\", \"linecolor\": \"white\", \"ticks\": \"\", \"title\": {\"standoff\": 15}, \"zerolinecolor\": \"white\", \"zerolinewidth\": 2}, \"yaxis\": {\"automargin\": true, \"gridcolor\": \"white\", \"linecolor\": \"white\", \"ticks\": \"\", \"title\": {\"standoff\": 15}, \"zerolinecolor\": \"white\", \"zerolinewidth\": 2}}}, \"xaxis\": {\"anchor\": \"y\", \"domain\": [0.0, 1.0], \"title\": {\"text\": \"GRE Score\"}}, \"xaxis2\": {\"anchor\": \"y2\", \"domain\": [0.0, 1.0], \"matches\": \"x\", \"showgrid\": true, \"showticklabels\": false}, \"yaxis\": {\"anchor\": \"x\", \"domain\": [0.0, 0.8316], \"title\": {\"text\": \"count\"}}, \"yaxis2\": {\"anchor\": \"x2\", \"domain\": [0.8416, 1.0], \"matches\": \"y2\", \"showgrid\": false, \"showline\": false, \"showticklabels\": false, \"ticks\": \"\"}},                        {\"responsive\": true}                    ).then(function(){\n",
       "                            \n",
       "var gd = document.getElementById('d0d58aea-2c9d-4110-a748-66c51b4a8290');\n",
       "var x = new MutationObserver(function (mutations, observer) {{\n",
       "        var display = window.getComputedStyle(gd).display;\n",
       "        if (!display || display === 'none') {{\n",
       "            console.log([gd, 'removed!']);\n",
       "            Plotly.purge(gd);\n",
       "            observer.disconnect();\n",
       "        }}\n",
       "}});\n",
       "\n",
       "// Listen for the removal of the full notebook cells\n",
       "var notebookContainer = gd.closest('#notebook-container');\n",
       "if (notebookContainer) {{\n",
       "    x.observe(notebookContainer, {childList: true});\n",
       "}}\n",
       "\n",
       "// Listen for the clearing of the current output cell\n",
       "var outputEl = gd.closest('.output');\n",
       "if (outputEl) {{\n",
       "    x.observe(outputEl, {childList: true});\n",
       "}}\n",
       "\n",
       "                        })                };                });            </script>        </div>"
      ]
     },
     "metadata": {},
     "output_type": "display_data"
    }
   ],
   "source": [
    "px.histogram(df, x=\"GRE Score\", nbins=20, marginal=\"box\")"
   ]
  },
  {
   "cell_type": "code",
   "execution_count": 24,
   "metadata": {
    "execution": {
     "iopub.execute_input": "2020-12-28T20:41:49.370766Z",
     "iopub.status.busy": "2020-12-28T20:41:49.370090Z",
     "iopub.status.idle": "2020-12-28T20:41:50.056042Z",
     "shell.execute_reply": "2020-12-28T20:41:50.054932Z"
    },
    "papermill": {
     "duration": 0.798275,
     "end_time": "2020-12-28T20:41:50.056185",
     "exception": false,
     "start_time": "2020-12-28T20:41:49.257910",
     "status": "completed"
    },
    "tags": []
   },
   "outputs": [
    {
     "data": {
      "text/plain": [
       "<seaborn.axisgrid.FacetGrid at 0x7f82a075b310>"
      ]
     },
     "execution_count": 24,
     "metadata": {},
     "output_type": "execute_result"
    },
    {
     "data": {
      "image/png": "[encoded data removed]",
      "text/plain": [
       "<Figure size 360x360 with 1 Axes>"
      ]
     },
     "metadata": {},
     "output_type": "display_data"
    }
   ],
   "source": [
    "sns.displot(df, x=\"GRE Score\", kind=\"hist\", kde=True)"
   ]
  },
  {
   "cell_type": "markdown",
   "metadata": {
    "papermill": {
     "duration": 0.138053,
     "end_time": "2020-12-28T20:41:50.300355",
     "exception": false,
     "start_time": "2020-12-28T20:41:50.162302",
     "status": "completed"
    },
    "tags": []
   },
   "source": [
    "We can conclude from the previous charts the following:\n",
    "\n",
    "- The GRE scores are *very close* to a normal distribution, with a small negative skewnewss (left skewed).\n",
    "- The most common scores are between `310` and `325`.\n",
    "- The average score is `316` with a standard deviation of `11.2`.\n",
    "- There are no outliers.\n",
    "\n",
    "This variable doesn't need any further processing."
   ]
  },
  {
   "cell_type": "markdown",
   "metadata": {
    "papermill": {
     "duration": 0.102173,
     "end_time": "2020-12-28T20:41:50.506571",
     "exception": false,
     "start_time": "2020-12-28T20:41:50.404398",
     "status": "completed"
    },
    "tags": []
   },
   "source": [
    "### `TOEFL Score`"
   ]
  },
  {
   "cell_type": "markdown",
   "metadata": {
    "papermill": {
     "duration": 0.102994,
     "end_time": "2020-12-28T20:41:50.713494",
     "exception": false,
     "start_time": "2020-12-28T20:41:50.610500",
     "status": "completed"
    },
    "tags": []
   },
   "source": [
    "The `TOEFL Score` is a discrete variable."
   ]
  },
  {
   "cell_type": "code",
   "execution_count": 25,
   "metadata": {
    "execution": {
     "iopub.execute_input": "2020-12-28T20:41:50.926959Z",
     "iopub.status.busy": "2020-12-28T20:41:50.925816Z",
     "iopub.status.idle": "2020-12-28T20:41:50.933968Z",
     "shell.execute_reply": "2020-12-28T20:41:50.934488Z"
    },
    "papermill": {
     "duration": 0.119494,
     "end_time": "2020-12-28T20:41:50.934651",
     "exception": false,
     "start_time": "2020-12-28T20:41:50.815157",
     "status": "completed"
    },
    "tags": []
   },
   "outputs": [
    {
     "data": {
      "text/plain": [
       "count    500.000000\n",
       "mean     107.192000\n",
       "std        6.081868\n",
       "min       92.000000\n",
       "25%      103.000000\n",
       "50%      107.000000\n",
       "75%      112.000000\n",
       "max      120.000000\n",
       "Name: TOEFL Score, dtype: float64"
      ]
     },
     "execution_count": 25,
     "metadata": {},
     "output_type": "execute_result"
    }
   ],
   "source": [
    "df[\"TOEFL Score\"].describe()"
   ]
  },
  {
   "cell_type": "code",
   "execution_count": 26,
   "metadata": {
    "execution": {
     "iopub.execute_input": "2020-12-28T20:41:51.148744Z",
     "iopub.status.busy": "2020-12-28T20:41:51.147692Z",
     "iopub.status.idle": "2020-12-28T20:41:51.154833Z",
     "shell.execute_reply": "2020-12-28T20:41:51.154266Z"
    },
    "papermill": {
     "duration": 0.114248,
     "end_time": "2020-12-28T20:41:51.154952",
     "exception": false,
     "start_time": "2020-12-28T20:41:51.040704",
     "status": "completed"
    },
    "tags": []
   },
   "outputs": [
    {
     "name": "stdout",
     "output_type": "stream",
     "text": [
      "0    110\n",
      "dtype: int64\n"
     ]
    }
   ],
   "source": [
    "print(df[\"TOEFL Score\"].mode())"
   ]
  },
  {
   "cell_type": "code",
   "execution_count": 27,
   "metadata": {
    "execution": {
     "iopub.execute_input": "2020-12-28T20:41:51.375817Z",
     "iopub.status.busy": "2020-12-28T20:41:51.375135Z",
     "iopub.status.idle": "2020-12-28T20:41:51.378332Z",
     "shell.execute_reply": "2020-12-28T20:41:51.378852Z"
    },
    "papermill": {
     "duration": 0.113381,
     "end_time": "2020-12-28T20:41:51.378995",
     "exception": false,
     "start_time": "2020-12-28T20:41:51.265614",
     "status": "completed"
    },
    "tags": []
   },
   "outputs": [
    {
     "name": "stdout",
     "output_type": "stream",
     "text": [
      "0.09531393010261811\n"
     ]
    }
   ],
   "source": [
    "print(stats.skew(df[\"TOEFL Score\"]))"
   ]
  },
  {
   "cell_type": "code",
   "execution_count": 28,
   "metadata": {
    "execution": {
     "iopub.execute_input": "2020-12-28T20:41:51.592740Z",
     "iopub.status.busy": "2020-12-28T20:41:51.592018Z",
     "iopub.status.idle": "2020-12-28T20:41:51.684683Z",
     "shell.execute_reply": "2020-12-28T20:41:51.685323Z"
    },
    "papermill": {
     "duration": 0.200343,
     "end_time": "2020-12-28T20:41:51.685476",
     "exception": false,
     "start_time": "2020-12-28T20:41:51.485133",
     "status": "completed"
    },
    "tags": []
   },
   "outputs": [
    {
     "data": {
      "text/html": [
       "<div>                            <div id=\"529a6b26-c30e-4f79-99d0-c8f8a04391ac\" class=\"plotly-graph-div\" style=\"height:525px; width:100%;\"></div>            <script type=\"text/javascript\">                require([\"plotly\"], function(Plotly) {                    window.PLOTLYENV=window.PLOTLYENV || {};                                    if (document.getElementById(\"529a6b26-c30e-4f79-99d0-c8f8a04391ac\")) {                    Plotly.newPlot(                        \"529a6b26-c30e-4f79-99d0-c8f8a04391ac\",                        [{\"alignmentgroup\": \"True\", \"bingroup\": \"x\", \"hovertemplate\": \"TOEFL Score=%{x}<br>count=%{y}<extra></extra>\", \"legendgroup\": \"\", \"marker\": {\"color\": \"#636efa\"}, \"name\": \"\", \"nbinsx\": 15, \"offsetgroup\": \"\", \"orientation\": \"v\", \"showlegend\": false, \"type\": \"histogram\", \"x\": [110, 93, 98, 109, 95, 105, 105, 99, 100, 110, 106, 98, 100, 100, 99, 98, 99, 112, 99, 100, 92, 99, 100, 101, 99, 98, 99, 96, 98, 93, 102, 103, 98, 94, 104, 100, 106, 109, 99, 97, 100, 100, 101, 110, 101, 105, 107, 105, 100, 102, 102, 105, 99, 106, 96, 105, 107, 102, 97, 101, 105, 102, 111, 100, 99, 106, 104, 103, 110, 97, 105, 103, 106, 105, 105, 104, 103, 101, 104, 105, 105, 107, 100, 110, 118, 96, 112, 112, 113, 116, 98, 106, 106, 101, 98, 99, 97, 106, 99, 103, 99, 106, 108, 107, 105, 107, 101, 105, 110, 105, 110, 104, 109, 106, 103, 95, 98, 101, 105, 100, 99, 100, 105, 97, 96, 103, 100, 104, 96, 102, 106, 103, 105, 107, 97, 114, 99, 95, 103, 106, 105, 108, 99, 107, 94, 107, 110, 101, 99, 107, 104, 101, 107, 105, 100, 100, 104, 105, 102, 102, 114, 115, 106, 112, 105, 106, 104, 110, 104, 104, 108, 109, 100, 111, 106, 104, 104, 116, 100, 113, 106, 108, 100, 104, 102, 107, 110, 106, 101, 107, 110, 102, 109, 110, 104, 110, 108, 100, 105, 104, 111, 102, 107, 104, 110, 102, 110, 106, 111, 109, 110, 107, 120, 114, 112, 107, 109, 110, 99, 110, 111, 104, 101, 111, 103, 114, 109, 106, 112, 105, 107, 102, 106, 108, 97, 99, 120, 113, 107, 112, 110, 103, 107, 105, 101, 102, 108, 102, 108, 103, 98, 99, 104, 110, 109, 108, 106, 109, 104, 105, 107, 106, 110, 102, 107, 110, 112, 102, 103, 106, 102, 110, 103, 104, 101, 110, 110, 100, 103, 112, 102, 100, 103, 104, 113, 108, 104, 110, 107, 101, 101, 102, 100, 104, 107, 103, 99, 105, 102, 104, 101, 109, 103, 107, 109, 112, 110, 102, 104, 101, 106, 105, 108, 103, 114, 105, 109, 109, 105, 105, 112, 103, 116, 116, 116, 113, 116, 112, 103, 111, 117, 112, 116, 101, 111, 99, 118, 112, 119, 114, 110, 96, 99, 110, 114, 113, 105, 105, 115, 113, 116, 105, 110, 105, 110, 102, 107, 112, 106, 113, 118, 116, 106, 104, 106, 106, 109, 120, 110, 109, 114, 110, 113, 111, 111, 119, 113, 108, 111, 110, 117, 119, 107, 111, 112, 114, 118, 117, 111, 111, 116, 112, 115, 108, 120, 103, 109, 100, 112, 120, 113, 112, 114, 108, 115, 103, 110, 110, 112, 112, 110, 107, 112, 107, 104, 111, 113, 110, 108, 102, 112, 111, 109, 113, 119, 117, 113, 115, 110, 110, 118, 101, 112, 114, 115, 111, 119, 114, 120, 117, 108, 115, 115, 108, 118, 116, 119, 119, 120, 109, 103, 114, 112, 110, 113, 118, 119, 110, 108, 113, 114, 119, 114, 110, 117, 111, 113, 118, 115, 112, 111, 110, 114, 118, 120, 120, 116, 111, 116, 112, 115, 116, 103, 108, 104, 117, 116, 113, 114, 119, 117, 118, 114, 105, 105, 112, 113, 115, 116, 107], \"xaxis\": \"x\", \"yaxis\": \"y\"}, {\"alignmentgroup\": \"True\", \"hovertemplate\": \"TOEFL Score=%{x}<extra></extra>\", \"legendgroup\": \"\", \"marker\": {\"color\": \"#636efa\"}, \"name\": \"\", \"notched\": true, \"offsetgroup\": \"\", \"showlegend\": false, \"type\": \"box\", \"x\": [110, 93, 98, 109, 95, 105, 105, 99, 100, 110, 106, 98, 100, 100, 99, 98, 99, 112, 99, 100, 92, 99, 100, 101, 99, 98, 99, 96, 98, 93, 102, 103, 98, 94, 104, 100, 106, 109, 99, 97, 100, 100, 101, 110, 101, 105, 107, 105, 100, 102, 102, 105, 99, 106, 96, 105, 107, 102, 97, 101, 105, 102, 111, 100, 99, 106, 104, 103, 110, 97, 105, 103, 106, 105, 105, 104, 103, 101, 104, 105, 105, 107, 100, 110, 118, 96, 112, 112, 113, 116, 98, 106, 106, 101, 98, 99, 97, 106, 99, 103, 99, 106, 108, 107, 105, 107, 101, 105, 110, 105, 110, 104, 109, 106, 103, 95, 98, 101, 105, 100, 99, 100, 105, 97, 96, 103, 100, 104, 96, 102, 106, 103, 105, 107, 97, 114, 99, 95, 103, 106, 105, 108, 99, 107, 94, 107, 110, 101, 99, 107, 104, 101, 107, 105, 100, 100, 104, 105, 102, 102, 114, 115, 106, 112, 105, 106, 104, 110, 104, 104, 108, 109, 100, 111, 106, 104, 104, 116, 100, 113, 106, 108, 100, 104, 102, 107, 110, 106, 101, 107, 110, 102, 109, 110, 104, 110, 108, 100, 105, 104, 111, 102, 107, 104, 110, 102, 110, 106, 111, 109, 110, 107, 120, 114, 112, 107, 109, 110, 99, 110, 111, 104, 101, 111, 103, 114, 109, 106, 112, 105, 107, 102, 106, 108, 97, 99, 120, 113, 107, 112, 110, 103, 107, 105, 101, 102, 108, 102, 108, 103, 98, 99, 104, 110, 109, 108, 106, 109, 104, 105, 107, 106, 110, 102, 107, 110, 112, 102, 103, 106, 102, 110, 103, 104, 101, 110, 110, 100, 103, 112, 102, 100, 103, 104, 113, 108, 104, 110, 107, 101, 101, 102, 100, 104, 107, 103, 99, 105, 102, 104, 101, 109, 103, 107, 109, 112, 110, 102, 104, 101, 106, 105, 108, 103, 114, 105, 109, 109, 105, 105, 112, 103, 116, 116, 116, 113, 116, 112, 103, 111, 117, 112, 116, 101, 111, 99, 118, 112, 119, 114, 110, 96, 99, 110, 114, 113, 105, 105, 115, 113, 116, 105, 110, 105, 110, 102, 107, 112, 106, 113, 118, 116, 106, 104, 106, 106, 109, 120, 110, 109, 114, 110, 113, 111, 111, 119, 113, 108, 111, 110, 117, 119, 107, 111, 112, 114, 118, 117, 111, 111, 116, 112, 115, 108, 120, 103, 109, 100, 112, 120, 113, 112, 114, 108, 115, 103, 110, 110, 112, 112, 110, 107, 112, 107, 104, 111, 113, 110, 108, 102, 112, 111, 109, 113, 119, 117, 113, 115, 110, 110, 118, 101, 112, 114, 115, 111, 119, 114, 120, 117, 108, 115, 115, 108, 118, 116, 119, 119, 120, 109, 103, 114, 112, 110, 113, 118, 119, 110, 108, 113, 114, 119, 114, 110, 117, 111, 113, 118, 115, 112, 111, 110, 114, 118, 120, 120, 116, 111, 116, 112, 115, 116, 103, 108, 104, 117, 116, 113, 114, 119, 117, 118, 114, 105, 105, 112, 113, 115, 116, 107], \"xaxis\": \"x2\", \"yaxis\": \"y2\"}],                        {\"barmode\": \"relative\", \"legend\": {\"tracegroupgap\": 0}, \"margin\": {\"t\": 60}, \"template\": {\"data\": {\"bar\": [{\"error_x\": {\"color\": \"#2a3f5f\"}, \"error_y\": {\"color\": \"#2a3f5f\"}, \"marker\": {\"line\": {\"color\": \"#E5ECF6\", \"width\": 0.5}}, \"type\": \"bar\"}], \"barpolar\": [{\"marker\": {\"line\": {\"color\": \"#E5ECF6\", \"width\": 0.5}}, \"type\": \"barpolar\"}], \"carpet\": [{\"aaxis\": {\"endlinecolor\": \"#2a3f5f\", \"gridcolor\": \"white\", \"linecolor\": \"white\", \"minorgridcolor\": \"white\", \"startlinecolor\": \"#2a3f5f\"}, \"baxis\": {\"endlinecolor\": \"#2a3f5f\", \"gridcolor\": \"white\", \"linecolor\": \"white\", \"minorgridcolor\": \"white\", \"startlinecolor\": \"#2a3f5f\"}, \"type\": \"carpet\"}], \"choropleth\": [{\"colorbar\": {\"outlinewidth\": 0, \"ticks\": \"\"}, \"type\": \"choropleth\"}], \"contour\": [{\"colorbar\": {\"outlinewidth\": 0, \"ticks\": \"\"}, \"colorscale\": [[0.0, \"#0d0887\"], [0.1111111111111111, \"#46039f\"], [0.2222222222222222, \"#7201a8\"], [0.3333333333333333, \"#9c179e\"], [0.4444444444444444, \"#bd3786\"], [0.5555555555555556, \"#d8576b\"], [0.6666666666666666, \"#ed7953\"], [0.7777777777777778, \"#fb9f3a\"], [0.8888888888888888, \"#fdca26\"], [1.0, \"#f0f921\"]], \"type\": \"contour\"}], \"contourcarpet\": [{\"colorbar\": {\"outlinewidth\": 0, \"ticks\": \"\"}, \"type\": \"contourcarpet\"}], \"heatmap\": [{\"colorbar\": {\"outlinewidth\": 0, \"ticks\": \"\"}, \"colorscale\": [[0.0, \"#0d0887\"], [0.1111111111111111, \"#46039f\"], [0.2222222222222222, \"#7201a8\"], [0.3333333333333333, \"#9c179e\"], [0.4444444444444444, \"#bd3786\"], [0.5555555555555556, \"#d8576b\"], [0.6666666666666666, \"#ed7953\"], [0.7777777777777778, \"#fb9f3a\"], [0.8888888888888888, \"#fdca26\"], [1.0, \"#f0f921\"]], \"type\": \"heatmap\"}], \"heatmapgl\": [{\"colorbar\": {\"outlinewidth\": 0, \"ticks\": \"\"}, \"colorscale\": [[0.0, \"#0d0887\"], [0.1111111111111111, \"#46039f\"], [0.2222222222222222, \"#7201a8\"], [0.3333333333333333, \"#9c179e\"], [0.4444444444444444, \"#bd3786\"], [0.5555555555555556, \"#d8576b\"], [0.6666666666666666, \"#ed7953\"], [0.7777777777777778, \"#fb9f3a\"], [0.8888888888888888, \"#fdca26\"], [1.0, \"#f0f921\"]], \"type\": \"heatmapgl\"}], \"histogram\": [{\"marker\": {\"colorbar\": {\"outlinewidth\": 0, \"ticks\": \"\"}}, \"type\": \"histogram\"}], \"histogram2d\": [{\"colorbar\": {\"outlinewidth\": 0, \"ticks\": \"\"}, \"colorscale\": [[0.0, \"#0d0887\"], [0.1111111111111111, \"#46039f\"], [0.2222222222222222, \"#7201a8\"], [0.3333333333333333, \"#9c179e\"], [0.4444444444444444, \"#bd3786\"], [0.5555555555555556, \"#d8576b\"], [0.6666666666666666, \"#ed7953\"], [0.7777777777777778, \"#fb9f3a\"], [0.8888888888888888, \"#fdca26\"], [1.0, \"#f0f921\"]], \"type\": \"histogram2d\"}], \"histogram2dcontour\": [{\"colorbar\": {\"outlinewidth\": 0, \"ticks\": \"\"}, \"colorscale\": [[0.0, \"#0d0887\"], [0.1111111111111111, \"#46039f\"], [0.2222222222222222, \"#7201a8\"], [0.3333333333333333, \"#9c179e\"], [0.4444444444444444, \"#bd3786\"], [0.5555555555555556, \"#d8576b\"], [0.6666666666666666, \"#ed7953\"], [0.7777777777777778, \"#fb9f3a\"], [0.8888888888888888, \"#fdca26\"], [1.0, \"#f0f921\"]], \"type\": \"histogram2dcontour\"}], \"mesh3d\": [{\"colorbar\": {\"outlinewidth\": 0, \"ticks\": \"\"}, \"type\": \"mesh3d\"}], \"parcoords\": [{\"line\": {\"colorbar\": {\"outlinewidth\": 0, \"ticks\": \"\"}}, \"type\": \"parcoords\"}], \"pie\": [{\"automargin\": true, \"type\": \"pie\"}], \"scatter\": [{\"marker\": {\"colorbar\": {\"outlinewidth\": 0, \"ticks\": \"\"}}, \"type\": \"scatter\"}], \"scatter3d\": [{\"line\": {\"colorbar\": {\"outlinewidth\": 0, \"ticks\": \"\"}}, \"marker\": {\"colorbar\": {\"outlinewidth\": 0, \"ticks\": \"\"}}, \"type\": \"scatter3d\"}], \"scattercarpet\": [{\"marker\": {\"colorbar\": {\"outlinewidth\": 0, \"ticks\": \"\"}}, \"type\": \"scattercarpet\"}], \"scattergeo\": [{\"marker\": {\"colorbar\": {\"outlinewidth\": 0, \"ticks\": \"\"}}, \"type\": \"scattergeo\"}], \"scattergl\": [{\"marker\": {\"colorbar\": {\"outlinewidth\": 0, \"ticks\": \"\"}}, \"type\": \"scattergl\"}], \"scattermapbox\": [{\"marker\": {\"colorbar\": {\"outlinewidth\": 0, \"ticks\": \"\"}}, \"type\": \"scattermapbox\"}], \"scatterpolar\": [{\"marker\": {\"colorbar\": {\"outlinewidth\": 0, \"ticks\": \"\"}}, \"type\": \"scatterpolar\"}], \"scatterpolargl\": [{\"marker\": {\"colorbar\": {\"outlinewidth\": 0, \"ticks\": \"\"}}, \"type\": \"scatterpolargl\"}], \"scatterternary\": [{\"marker\": {\"colorbar\": {\"outlinewidth\": 0, \"ticks\": \"\"}}, \"type\": \"scatterternary\"}], \"surface\": [{\"colorbar\": {\"outlinewidth\": 0, \"ticks\": \"\"}, \"colorscale\": [[0.0, \"#0d0887\"], [0.1111111111111111, \"#46039f\"], [0.2222222222222222, \"#7201a8\"], [0.3333333333333333, \"#9c179e\"], [0.4444444444444444, \"#bd3786\"], [0.5555555555555556, \"#d8576b\"], [0.6666666666666666, \"#ed7953\"], [0.7777777777777778, \"#fb9f3a\"], [0.8888888888888888, \"#fdca26\"], [1.0, \"#f0f921\"]], \"type\": \"surface\"}], \"table\": [{\"cells\": {\"fill\": {\"color\": \"#EBF0F8\"}, \"line\": {\"color\": \"white\"}}, \"header\": {\"fill\": {\"color\": \"#C8D4E3\"}, \"line\": {\"color\": \"white\"}}, \"type\": \"table\"}]}, \"layout\": {\"annotationdefaults\": {\"arrowcolor\": \"#2a3f5f\", \"arrowhead\": 0, \"arrowwidth\": 1}, \"autotypenumbers\": \"strict\", \"coloraxis\": {\"colorbar\": {\"outlinewidth\": 0, \"ticks\": \"\"}}, \"colorscale\": {\"diverging\": [[0, \"#8e0152\"], [0.1, \"#c51b7d\"], [0.2, \"#de77ae\"], [0.3, \"#f1b6da\"], [0.4, \"#fde0ef\"], [0.5, \"#f7f7f7\"], [0.6, \"#e6f5d0\"], [0.7, \"#b8e186\"], [0.8, \"#7fbc41\"], [0.9, \"#4d9221\"], [1, \"#276419\"]], \"sequential\": [[0.0, \"#0d0887\"], [0.1111111111111111, \"#46039f\"], [0.2222222222222222, \"#7201a8\"], [0.3333333333333333, \"#9c179e\"], [0.4444444444444444, \"#bd3786\"], [0.5555555555555556, \"#d8576b\"], [0.6666666666666666, \"#ed7953\"], [0.7777777777777778, \"#fb9f3a\"], [0.8888888888888888, \"#fdca26\"], [1.0, \"#f0f921\"]], \"sequentialminus\": [[0.0, \"#0d0887\"], [0.1111111111111111, \"#46039f\"], [0.2222222222222222, \"#7201a8\"], [0.3333333333333333, \"#9c179e\"], [0.4444444444444444, \"#bd3786\"], [0.5555555555555556, \"#d8576b\"], [0.6666666666666666, \"#ed7953\"], [0.7777777777777778, \"#fb9f3a\"], [0.8888888888888888, \"#fdca26\"], [1.0, \"#f0f921\"]]}, \"colorway\": [\"#636efa\", \"#EF553B\", \"#00cc96\", \"#ab63fa\", \"#FFA15A\", \"#19d3f3\", \"#FF6692\", \"#B6E880\", \"#FF97FF\", \"#FECB52\"], \"font\": {\"color\": \"#2a3f5f\"}, \"geo\": {\"bgcolor\": \"white\", \"lakecolor\": \"white\", \"landcolor\": \"#E5ECF6\", \"showlakes\": true, \"showland\": true, \"subunitcolor\": \"white\"}, \"hoverlabel\": {\"align\": \"left\"}, \"hovermode\": \"closest\", \"mapbox\": {\"style\": \"light\"}, \"paper_bgcolor\": \"white\", \"plot_bgcolor\": \"#E5ECF6\", \"polar\": {\"angularaxis\": {\"gridcolor\": \"white\", \"linecolor\": \"white\", \"ticks\": \"\"}, \"bgcolor\": \"#E5ECF6\", \"radialaxis\": {\"gridcolor\": \"white\", \"linecolor\": \"white\", \"ticks\": \"\"}}, \"scene\": {\"xaxis\": {\"backgroundcolor\": \"#E5ECF6\", \"gridcolor\": \"white\", \"gridwidth\": 2, \"linecolor\": \"white\", \"showbackground\": true, \"ticks\": \"\", \"zerolinecolor\": \"white\"}, \"yaxis\": {\"backgroundcolor\": \"#E5ECF6\", \"gridcolor\": \"white\", \"gridwidth\": 2, \"linecolor\": \"white\", \"showbackground\": true, \"ticks\": \"\", \"zerolinecolor\": \"white\"}, \"zaxis\": {\"backgroundcolor\": \"#E5ECF6\", \"gridcolor\": \"white\", \"gridwidth\": 2, \"linecolor\": \"white\", \"showbackground\": true, \"ticks\": \"\", \"zerolinecolor\": \"white\"}}, \"shapedefaults\": {\"line\": {\"color\": \"#2a3f5f\"}}, \"ternary\": {\"aaxis\": {\"gridcolor\": \"white\", \"linecolor\": \"white\", \"ticks\": \"\"}, \"baxis\": {\"gridcolor\": \"white\", \"linecolor\": \"white\", \"ticks\": \"\"}, \"bgcolor\": \"#E5ECF6\", \"caxis\": {\"gridcolor\": \"white\", \"linecolor\": \"white\", \"ticks\": \"\"}}, \"title\": {\"x\": 0.05}, \"xaxis\": {\"automargin\": true, \"gridcolor\": \"white\", \"linecolor\": \"white\", \"ticks\": \"\", \"title\": {\"standoff\": 15}, \"zerolinecolor\": \"white\", \"zerolinewidth\": 2}, \"yaxis\": {\"automargin\": true, \"gridcolor\": \"white\", \"linecolor\": \"white\", \"ticks\": \"\", \"title\": {\"standoff\": 15}, \"zerolinecolor\": \"white\", \"zerolinewidth\": 2}}}, \"xaxis\": {\"anchor\": \"y\", \"domain\": [0.0, 1.0], \"title\": {\"text\": \"TOEFL Score\"}}, \"xaxis2\": {\"anchor\": \"y2\", \"domain\": [0.0, 1.0], \"matches\": \"x\", \"showgrid\": true, \"showticklabels\": false}, \"yaxis\": {\"anchor\": \"x\", \"domain\": [0.0, 0.8316], \"title\": {\"text\": \"count\"}}, \"yaxis2\": {\"anchor\": \"x2\", \"domain\": [0.8416, 1.0], \"matches\": \"y2\", \"showgrid\": false, \"showline\": false, \"showticklabels\": false, \"ticks\": \"\"}},                        {\"responsive\": true}                    ).then(function(){\n",
       "                            \n",
       "var gd = document.getElementById('529a6b26-c30e-4f79-99d0-c8f8a04391ac');\n",
       "var x = new MutationObserver(function (mutations, observer) {{\n",
       "        var display = window.getComputedStyle(gd).display;\n",
       "        if (!display || display === 'none') {{\n",
       "            console.log([gd, 'removed!']);\n",
       "            Plotly.purge(gd);\n",
       "            observer.disconnect();\n",
       "        }}\n",
       "}});\n",
       "\n",
       "// Listen for the removal of the full notebook cells\n",
       "var notebookContainer = gd.closest('#notebook-container');\n",
       "if (notebookContainer) {{\n",
       "    x.observe(notebookContainer, {childList: true});\n",
       "}}\n",
       "\n",
       "// Listen for the clearing of the current output cell\n",
       "var outputEl = gd.closest('.output');\n",
       "if (outputEl) {{\n",
       "    x.observe(outputEl, {childList: true});\n",
       "}}\n",
       "\n",
       "                        })                };                });            </script>        </div>"
      ]
     },
     "metadata": {},
     "output_type": "display_data"
    }
   ],
   "source": [
    "px.histogram(df, x=\"TOEFL Score\", marginal=\"box\", nbins=15)"
   ]
  },
  {
   "cell_type": "code",
   "execution_count": 29,
   "metadata": {
    "execution": {
     "iopub.execute_input": "2020-12-28T20:41:51.899344Z",
     "iopub.status.busy": "2020-12-28T20:41:51.898687Z",
     "iopub.status.idle": "2020-12-28T20:41:52.620396Z",
     "shell.execute_reply": "2020-12-28T20:41:52.619754Z"
    },
    "papermill": {
     "duration": 0.830125,
     "end_time": "2020-12-28T20:41:52.620532",
     "exception": false,
     "start_time": "2020-12-28T20:41:51.790407",
     "status": "completed"
    },
    "tags": []
   },
   "outputs": [
    {
     "data": {
      "text/plain": [
       "<seaborn.axisgrid.FacetGrid at 0x7f829e229610>"
      ]
     },
     "execution_count": 29,
     "metadata": {},
     "output_type": "execute_result"
    },
    {
     "data": {
      "image/png": "[encoded data removed]",
      "text/plain": [
       "<Figure size 360x360 with 1 Axes>"
      ]
     },
     "metadata": {},
     "output_type": "display_data"
    }
   ],
   "source": [
    "sns.displot(df, x=\"GRE Score\", kind=\"hist\", kde=True)"
   ]
  },
  {
   "cell_type": "code",
   "execution_count": 30,
   "metadata": {
    "execution": {
     "iopub.execute_input": "2020-12-28T20:41:52.848842Z",
     "iopub.status.busy": "2020-12-28T20:41:52.847704Z",
     "iopub.status.idle": "2020-12-28T20:41:52.852232Z",
     "shell.execute_reply": "2020-12-28T20:41:52.851691Z"
    },
    "papermill": {
     "duration": 0.123731,
     "end_time": "2020-12-28T20:41:52.852351",
     "exception": false,
     "start_time": "2020-12-28T20:41:52.728620",
     "status": "completed"
    },
    "tags": []
   },
   "outputs": [
    {
     "data": {
      "text/plain": [
       "110    44\n",
       "105    37\n",
       "104    29\n",
       "112    28\n",
       "Name: TOEFL Score, dtype: int64"
      ]
     },
     "execution_count": 30,
     "metadata": {},
     "output_type": "execute_result"
    }
   ],
   "source": [
    "df[\"TOEFL Score\"].value_counts()[:4]"
   ]
  },
  {
   "cell_type": "markdown",
   "metadata": {
    "papermill": {
     "duration": 0.120434,
     "end_time": "2020-12-28T20:41:53.081123",
     "exception": false,
     "start_time": "2020-12-28T20:41:52.960689",
     "status": "completed"
    },
    "tags": []
   },
   "source": [
    "From the previous charts, we can conclude:\n",
    "- TOEFL scores are also normally distributed, with a small positive (right skewness).\n",
    "- The average TOEFL score is `107` with a standard deviation `6`.\n",
    "- The most common scores are: `110`, `105`, `104` and `112`.\n",
    "- There are no outliers."
   ]
  },
  {
   "cell_type": "markdown",
   "metadata": {
    "papermill": {
     "duration": 0.112222,
     "end_time": "2020-12-28T20:41:53.300332",
     "exception": false,
     "start_time": "2020-12-28T20:41:53.188110",
     "status": "completed"
    },
    "tags": []
   },
   "source": [
    "The variable doesn't need any further processing."
   ]
  },
  {
   "cell_type": "markdown",
   "metadata": {
    "papermill": {
     "duration": 0.105165,
     "end_time": "2020-12-28T20:41:53.511271",
     "exception": false,
     "start_time": "2020-12-28T20:41:53.406106",
     "status": "completed"
    },
    "tags": []
   },
   "source": [
    "### `University Rating`"
   ]
  },
  {
   "cell_type": "markdown",
   "metadata": {
    "papermill": {
     "duration": 0.107004,
     "end_time": "2020-12-28T20:41:53.724779",
     "exception": false,
     "start_time": "2020-12-28T20:41:53.617775",
     "status": "completed"
    },
    "tags": []
   },
   "source": [
    "The `University Rating` is an ordinal variable, it represents the student's undergraduate university ranking on a scale 1-5."
   ]
  },
  {
   "cell_type": "code",
   "execution_count": 31,
   "metadata": {
    "execution": {
     "iopub.execute_input": "2020-12-28T20:41:53.947360Z",
     "iopub.status.busy": "2020-12-28T20:41:53.946581Z",
     "iopub.status.idle": "2020-12-28T20:41:53.950491Z",
     "shell.execute_reply": "2020-12-28T20:41:53.949816Z"
    },
    "papermill": {
     "duration": 0.11929,
     "end_time": "2020-12-28T20:41:53.950622",
     "exception": false,
     "start_time": "2020-12-28T20:41:53.831332",
     "status": "completed"
    },
    "tags": []
   },
   "outputs": [
    {
     "data": {
      "text/plain": [
       "3    162\n",
       "2    126\n",
       "4    105\n",
       "5     73\n",
       "1     34\n",
       "Name: University Rating, dtype: int64"
      ]
     },
     "execution_count": 31,
     "metadata": {},
     "output_type": "execute_result"
    }
   ],
   "source": [
    "df[\"University Rating\"].value_counts()"
   ]
  },
  {
   "cell_type": "code",
   "execution_count": 32,
   "metadata": {
    "execution": {
     "iopub.execute_input": "2020-12-28T20:41:54.185765Z",
     "iopub.status.busy": "2020-12-28T20:41:54.184684Z",
     "iopub.status.idle": "2020-12-28T20:41:54.542097Z",
     "shell.execute_reply": "2020-12-28T20:41:54.542629Z"
    },
    "papermill": {
     "duration": 0.478419,
     "end_time": "2020-12-28T20:41:54.542768",
     "exception": false,
     "start_time": "2020-12-28T20:41:54.064349",
     "status": "completed"
    },
    "tags": []
   },
   "outputs": [
    {
     "data": {
      "text/plain": [
       "<seaborn.axisgrid.FacetGrid at 0x7f829e192ad0>"
      ]
     },
     "execution_count": 32,
     "metadata": {},
     "output_type": "execute_result"
    },
    {
     "data": {
      "image/png": "[encoded data removed]",
      "text/plain": [
       "<Figure size 360x360 with 1 Axes>"
      ]
     },
     "metadata": {},
     "output_type": "display_data"
    }
   ],
   "source": [
    "sns.catplot(data=df, x=\"University Rating\", kind=\"count\")"
   ]
  },
  {
   "cell_type": "code",
   "execution_count": 33,
   "metadata": {
    "execution": {
     "iopub.execute_input": "2020-12-28T20:41:54.773825Z",
     "iopub.status.busy": "2020-12-28T20:41:54.773087Z",
     "iopub.status.idle": "2020-12-28T20:41:54.783678Z",
     "shell.execute_reply": "2020-12-28T20:41:54.784225Z"
    },
    "papermill": {
     "duration": 0.129447,
     "end_time": "2020-12-28T20:41:54.784388",
     "exception": false,
     "start_time": "2020-12-28T20:41:54.654941",
     "status": "completed"
    },
    "tags": []
   },
   "outputs": [],
   "source": [
    "temp_df = df.groupby(by=\"University Rating\", as_index=False).agg(\n",
    "    counts=pd.NamedAgg(column=\"University Rating\", aggfunc=\"count\")\n",
    ")"
   ]
  },
  {
   "cell_type": "code",
   "execution_count": 34,
   "metadata": {
    "execution": {
     "iopub.execute_input": "2020-12-28T20:41:55.009419Z",
     "iopub.status.busy": "2020-12-28T20:41:55.008677Z",
     "iopub.status.idle": "2020-12-28T20:41:55.015134Z",
     "shell.execute_reply": "2020-12-28T20:41:55.014515Z"
    },
    "papermill": {
     "duration": 0.118866,
     "end_time": "2020-12-28T20:41:55.015279",
     "exception": false,
     "start_time": "2020-12-28T20:41:54.896413",
     "status": "completed"
    },
    "tags": []
   },
   "outputs": [],
   "source": [
    "temp_df[\"University Rating\"] = temp_df[\"University Rating\"].astype(str)"
   ]
  },
  {
   "cell_type": "code",
   "execution_count": 35,
   "metadata": {
    "execution": {
     "iopub.execute_input": "2020-12-28T20:41:55.286584Z",
     "iopub.status.busy": "2020-12-28T20:41:55.285501Z",
     "iopub.status.idle": "2020-12-28T20:41:55.405043Z",
     "shell.execute_reply": "2020-12-28T20:41:55.404237Z"
    },
    "papermill": {
     "duration": 0.28237,
     "end_time": "2020-12-28T20:41:55.405194",
     "exception": false,
     "start_time": "2020-12-28T20:41:55.122824",
     "status": "completed"
    },
    "tags": []
   },
   "outputs": [
    {
     "data": {
      "text/html": [
       "<div>                            <div id=\"d37f4d83-f390-45eb-8b4c-a610144b2147\" class=\"plotly-graph-div\" style=\"height:525px; width:100%;\"></div>            <script type=\"text/javascript\">                require([\"plotly\"], function(Plotly) {                    window.PLOTLYENV=window.PLOTLYENV || {};                                    if (document.getElementById(\"d37f4d83-f390-45eb-8b4c-a610144b2147\")) {                    Plotly.newPlot(                        \"d37f4d83-f390-45eb-8b4c-a610144b2147\",                        [{\"alignmentgroup\": \"True\", \"hovertemplate\": \"University Rating=%{x}<br>counts=%{y}<extra></extra>\", \"legendgroup\": \"1\", \"marker\": {\"color\": \"#1F77B4\"}, \"name\": \"1\", \"offsetgroup\": \"1\", \"orientation\": \"v\", \"showlegend\": true, \"textposition\": \"auto\", \"type\": \"bar\", \"x\": [\"1\"], \"xaxis\": \"x\", \"y\": [34], \"yaxis\": \"y\"}, {\"alignmentgroup\": \"True\", \"hovertemplate\": \"University Rating=%{x}<br>counts=%{y}<extra></extra>\", \"legendgroup\": \"2\", \"marker\": {\"color\": \"#FF7F0E\"}, \"name\": \"2\", \"offsetgroup\": \"2\", \"orientation\": \"v\", \"showlegend\": true, \"textposition\": \"auto\", \"type\": \"bar\", \"x\": [\"2\"], \"xaxis\": \"x\", \"y\": [126], \"yaxis\": \"y\"}, {\"alignmentgroup\": \"True\", \"hovertemplate\": \"University Rating=%{x}<br>counts=%{y}<extra></extra>\", \"legendgroup\": \"3\", \"marker\": {\"color\": \"#2CA02C\"}, \"name\": \"3\", \"offsetgroup\": \"3\", \"orientation\": \"v\", \"showlegend\": true, \"textposition\": \"auto\", \"type\": \"bar\", \"x\": [\"3\"], \"xaxis\": \"x\", \"y\": [162], \"yaxis\": \"y\"}, {\"alignmentgroup\": \"True\", \"hovertemplate\": \"University Rating=%{x}<br>counts=%{y}<extra></extra>\", \"legendgroup\": \"4\", \"marker\": {\"color\": \"#D62728\"}, \"name\": \"4\", \"offsetgroup\": \"4\", \"orientation\": \"v\", \"showlegend\": true, \"textposition\": \"auto\", \"type\": \"bar\", \"x\": [\"4\"], \"xaxis\": \"x\", \"y\": [105], \"yaxis\": \"y\"}, {\"alignmentgroup\": \"True\", \"hovertemplate\": \"University Rating=%{x}<br>counts=%{y}<extra></extra>\", \"legendgroup\": \"5\", \"marker\": {\"color\": \"#9467BD\"}, \"name\": \"5\", \"offsetgroup\": \"5\", \"orientation\": \"v\", \"showlegend\": true, \"textposition\": \"auto\", \"type\": \"bar\", \"x\": [\"5\"], \"xaxis\": \"x\", \"y\": [73], \"yaxis\": \"y\"}],                        {\"barmode\": \"relative\", \"legend\": {\"title\": {\"text\": \"University Rating\"}, \"tracegroupgap\": 0}, \"margin\": {\"t\": 60}, \"template\": {\"data\": {\"bar\": [{\"error_x\": {\"color\": \"#2a3f5f\"}, \"error_y\": {\"color\": \"#2a3f5f\"}, \"marker\": {\"line\": {\"color\": \"#E5ECF6\", \"width\": 0.5}}, \"type\": \"bar\"}], \"barpolar\": [{\"marker\": {\"line\": {\"color\": \"#E5ECF6\", \"width\": 0.5}}, \"type\": \"barpolar\"}], \"carpet\": [{\"aaxis\": {\"endlinecolor\": \"#2a3f5f\", \"gridcolor\": \"white\", \"linecolor\": \"white\", \"minorgridcolor\": \"white\", \"startlinecolor\": \"#2a3f5f\"}, \"baxis\": {\"endlinecolor\": \"#2a3f5f\", \"gridcolor\": \"white\", \"linecolor\": \"white\", \"minorgridcolor\": \"white\", \"startlinecolor\": \"#2a3f5f\"}, \"type\": \"carpet\"}], \"choropleth\": [{\"colorbar\": {\"outlinewidth\": 0, \"ticks\": \"\"}, \"type\": \"choropleth\"}], \"contour\": [{\"colorbar\": {\"outlinewidth\": 0, \"ticks\": \"\"}, \"colorscale\": [[0.0, \"#0d0887\"], [0.1111111111111111, \"#46039f\"], [0.2222222222222222, \"#7201a8\"], [0.3333333333333333, \"#9c179e\"], [0.4444444444444444, \"#bd3786\"], [0.5555555555555556, \"#d8576b\"], [0.6666666666666666, \"#ed7953\"], [0.7777777777777778, \"#fb9f3a\"], [0.8888888888888888, \"#fdca26\"], [1.0, \"#f0f921\"]], \"type\": \"contour\"}], \"contourcarpet\": [{\"colorbar\": {\"outlinewidth\": 0, \"ticks\": \"\"}, \"type\": \"contourcarpet\"}], \"heatmap\": [{\"colorbar\": {\"outlinewidth\": 0, \"ticks\": \"\"}, \"colorscale\": [[0.0, \"#0d0887\"], [0.1111111111111111, \"#46039f\"], [0.2222222222222222, \"#7201a8\"], [0.3333333333333333, \"#9c179e\"], [0.4444444444444444, \"#bd3786\"], [0.5555555555555556, \"#d8576b\"], [0.6666666666666666, \"#ed7953\"], [0.7777777777777778, \"#fb9f3a\"], [0.8888888888888888, \"#fdca26\"], [1.0, \"#f0f921\"]], \"type\": \"heatmap\"}], \"heatmapgl\": [{\"colorbar\": {\"outlinewidth\": 0, \"ticks\": \"\"}, \"colorscale\": [[0.0, \"#0d0887\"], [0.1111111111111111, \"#46039f\"], [0.2222222222222222, \"#7201a8\"], [0.3333333333333333, \"#9c179e\"], [0.4444444444444444, \"#bd3786\"], [0.5555555555555556, \"#d8576b\"], [0.6666666666666666, \"#ed7953\"], [0.7777777777777778, \"#fb9f3a\"], [0.8888888888888888, \"#fdca26\"], [1.0, \"#f0f921\"]], \"type\": \"heatmapgl\"}], \"histogram\": [{\"marker\": {\"colorbar\": {\"outlinewidth\": 0, \"ticks\": \"\"}}, \"type\": \"histogram\"}], \"histogram2d\": [{\"colorbar\": {\"outlinewidth\": 0, \"ticks\": \"\"}, \"colorscale\": [[0.0, \"#0d0887\"], [0.1111111111111111, \"#46039f\"], [0.2222222222222222, \"#7201a8\"], [0.3333333333333333, \"#9c179e\"], [0.4444444444444444, \"#bd3786\"], [0.5555555555555556, \"#d8576b\"], [0.6666666666666666, \"#ed7953\"], [0.7777777777777778, \"#fb9f3a\"], [0.8888888888888888, \"#fdca26\"], [1.0, \"#f0f921\"]], \"type\": \"histogram2d\"}], \"histogram2dcontour\": [{\"colorbar\": {\"outlinewidth\": 0, \"ticks\": \"\"}, \"colorscale\": [[0.0, \"#0d0887\"], [0.1111111111111111, \"#46039f\"], [0.2222222222222222, \"#7201a8\"], [0.3333333333333333, \"#9c179e\"], [0.4444444444444444, \"#bd3786\"], [0.5555555555555556, \"#d8576b\"], [0.6666666666666666, \"#ed7953\"], [0.7777777777777778, \"#fb9f3a\"], [0.8888888888888888, \"#fdca26\"], [1.0, \"#f0f921\"]], \"type\": \"histogram2dcontour\"}], \"mesh3d\": [{\"colorbar\": {\"outlinewidth\": 0, \"ticks\": \"\"}, \"type\": \"mesh3d\"}], \"parcoords\": [{\"line\": {\"colorbar\": {\"outlinewidth\": 0, \"ticks\": \"\"}}, \"type\": \"parcoords\"}], \"pie\": [{\"automargin\": true, \"type\": \"pie\"}], \"scatter\": [{\"marker\": {\"colorbar\": {\"outlinewidth\": 0, \"ticks\": \"\"}}, \"type\": \"scatter\"}], \"scatter3d\": [{\"line\": {\"colorbar\": {\"outlinewidth\": 0, \"ticks\": \"\"}}, \"marker\": {\"colorbar\": {\"outlinewidth\": 0, \"ticks\": \"\"}}, \"type\": \"scatter3d\"}], \"scattercarpet\": [{\"marker\": {\"colorbar\": {\"outlinewidth\": 0, \"ticks\": \"\"}}, \"type\": \"scattercarpet\"}], \"scattergeo\": [{\"marker\": {\"colorbar\": {\"outlinewidth\": 0, \"ticks\": \"\"}}, \"type\": \"scattergeo\"}], \"scattergl\": [{\"marker\": {\"colorbar\": {\"outlinewidth\": 0, \"ticks\": \"\"}}, \"type\": \"scattergl\"}], \"scattermapbox\": [{\"marker\": {\"colorbar\": {\"outlinewidth\": 0, \"ticks\": \"\"}}, \"type\": \"scattermapbox\"}], \"scatterpolar\": [{\"marker\": {\"colorbar\": {\"outlinewidth\": 0, \"ticks\": \"\"}}, \"type\": \"scatterpolar\"}], \"scatterpolargl\": [{\"marker\": {\"colorbar\": {\"outlinewidth\": 0, \"ticks\": \"\"}}, \"type\": \"scatterpolargl\"}], \"scatterternary\": [{\"marker\": {\"colorbar\": {\"outlinewidth\": 0, \"ticks\": \"\"}}, \"type\": \"scatterternary\"}], \"surface\": [{\"colorbar\": {\"outlinewidth\": 0, \"ticks\": \"\"}, \"colorscale\": [[0.0, \"#0d0887\"], [0.1111111111111111, \"#46039f\"], [0.2222222222222222, \"#7201a8\"], [0.3333333333333333, \"#9c179e\"], [0.4444444444444444, \"#bd3786\"], [0.5555555555555556, \"#d8576b\"], [0.6666666666666666, \"#ed7953\"], [0.7777777777777778, \"#fb9f3a\"], [0.8888888888888888, \"#fdca26\"], [1.0, \"#f0f921\"]], \"type\": \"surface\"}], \"table\": [{\"cells\": {\"fill\": {\"color\": \"#EBF0F8\"}, \"line\": {\"color\": \"white\"}}, \"header\": {\"fill\": {\"color\": \"#C8D4E3\"}, \"line\": {\"color\": \"white\"}}, \"type\": \"table\"}]}, \"layout\": {\"annotationdefaults\": {\"arrowcolor\": \"#2a3f5f\", \"arrowhead\": 0, \"arrowwidth\": 1}, \"autotypenumbers\": \"strict\", \"coloraxis\": {\"colorbar\": {\"outlinewidth\": 0, \"ticks\": \"\"}}, \"colorscale\": {\"diverging\": [[0, \"#8e0152\"], [0.1, \"#c51b7d\"], [0.2, \"#de77ae\"], [0.3, \"#f1b6da\"], [0.4, \"#fde0ef\"], [0.5, \"#f7f7f7\"], [0.6, \"#e6f5d0\"], [0.7, \"#b8e186\"], [0.8, \"#7fbc41\"], [0.9, \"#4d9221\"], [1, \"#276419\"]], \"sequential\": [[0.0, \"#0d0887\"], [0.1111111111111111, \"#46039f\"], [0.2222222222222222, \"#7201a8\"], [0.3333333333333333, \"#9c179e\"], [0.4444444444444444, \"#bd3786\"], [0.5555555555555556, \"#d8576b\"], [0.6666666666666666, \"#ed7953\"], [0.7777777777777778, \"#fb9f3a\"], [0.8888888888888888, \"#fdca26\"], [1.0, \"#f0f921\"]], \"sequentialminus\": [[0.0, \"#0d0887\"], [0.1111111111111111, \"#46039f\"], [0.2222222222222222, \"#7201a8\"], [0.3333333333333333, \"#9c179e\"], [0.4444444444444444, \"#bd3786\"], [0.5555555555555556, \"#d8576b\"], [0.6666666666666666, \"#ed7953\"], [0.7777777777777778, \"#fb9f3a\"], [0.8888888888888888, \"#fdca26\"], [1.0, \"#f0f921\"]]}, \"colorway\": [\"#636efa\", \"#EF553B\", \"#00cc96\", \"#ab63fa\", \"#FFA15A\", \"#19d3f3\", \"#FF6692\", \"#B6E880\", \"#FF97FF\", \"#FECB52\"], \"font\": {\"color\": \"#2a3f5f\"}, \"geo\": {\"bgcolor\": \"white\", \"lakecolor\": \"white\", \"landcolor\": \"#E5ECF6\", \"showlakes\": true, \"showland\": true, \"subunitcolor\": \"white\"}, \"hoverlabel\": {\"align\": \"left\"}, \"hovermode\": \"closest\", \"mapbox\": {\"style\": \"light\"}, \"paper_bgcolor\": \"white\", \"plot_bgcolor\": \"#E5ECF6\", \"polar\": {\"angularaxis\": {\"gridcolor\": \"white\", \"linecolor\": \"white\", \"ticks\": \"\"}, \"bgcolor\": \"#E5ECF6\", \"radialaxis\": {\"gridcolor\": \"white\", \"linecolor\": \"white\", \"ticks\": \"\"}}, \"scene\": {\"xaxis\": {\"backgroundcolor\": \"#E5ECF6\", \"gridcolor\": \"white\", \"gridwidth\": 2, \"linecolor\": \"white\", \"showbackground\": true, \"ticks\": \"\", \"zerolinecolor\": \"white\"}, \"yaxis\": {\"backgroundcolor\": \"#E5ECF6\", \"gridcolor\": \"white\", \"gridwidth\": 2, \"linecolor\": \"white\", \"showbackground\": true, \"ticks\": \"\", \"zerolinecolor\": \"white\"}, \"zaxis\": {\"backgroundcolor\": \"#E5ECF6\", \"gridcolor\": \"white\", \"gridwidth\": 2, \"linecolor\": \"white\", \"showbackground\": true, \"ticks\": \"\", \"zerolinecolor\": \"white\"}}, \"shapedefaults\": {\"line\": {\"color\": \"#2a3f5f\"}}, \"ternary\": {\"aaxis\": {\"gridcolor\": \"white\", \"linecolor\": \"white\", \"ticks\": \"\"}, \"baxis\": {\"gridcolor\": \"white\", \"linecolor\": \"white\", \"ticks\": \"\"}, \"bgcolor\": \"#E5ECF6\", \"caxis\": {\"gridcolor\": \"white\", \"linecolor\": \"white\", \"ticks\": \"\"}}, \"title\": {\"x\": 0.05}, \"xaxis\": {\"automargin\": true, \"gridcolor\": \"white\", \"linecolor\": \"white\", \"ticks\": \"\", \"title\": {\"standoff\": 15}, \"zerolinecolor\": \"white\", \"zerolinewidth\": 2}, \"yaxis\": {\"automargin\": true, \"gridcolor\": \"white\", \"linecolor\": \"white\", \"ticks\": \"\", \"title\": {\"standoff\": 15}, \"zerolinecolor\": \"white\", \"zerolinewidth\": 2}}}, \"xaxis\": {\"anchor\": \"y\", \"categoryarray\": [\"1\", \"2\", \"3\", \"4\", \"5\"], \"categoryorder\": \"array\", \"domain\": [0.0, 1.0], \"title\": {\"text\": \"University Rating\"}}, \"yaxis\": {\"anchor\": \"x\", \"domain\": [0.0, 1.0], \"title\": {\"text\": \"counts\"}}},                        {\"responsive\": true}                    ).then(function(){\n",
       "                            \n",
       "var gd = document.getElementById('d37f4d83-f390-45eb-8b4c-a610144b2147');\n",
       "var x = new MutationObserver(function (mutations, observer) {{\n",
       "        var display = window.getComputedStyle(gd).display;\n",
       "        if (!display || display === 'none') {{\n",
       "            console.log([gd, 'removed!']);\n",
       "            Plotly.purge(gd);\n",
       "            observer.disconnect();\n",
       "        }}\n",
       "}});\n",
       "\n",
       "// Listen for the removal of the full notebook cells\n",
       "var notebookContainer = gd.closest('#notebook-container');\n",
       "if (notebookContainer) {{\n",
       "    x.observe(notebookContainer, {childList: true});\n",
       "}}\n",
       "\n",
       "// Listen for the clearing of the current output cell\n",
       "var outputEl = gd.closest('.output');\n",
       "if (outputEl) {{\n",
       "    x.observe(outputEl, {childList: true});\n",
       "}}\n",
       "\n",
       "                        })                };                });            </script>        </div>"
      ]
     },
     "metadata": {},
     "output_type": "display_data"
    }
   ],
   "source": [
    "px.bar(\n",
    "    data_frame=temp_df,\n",
    "    x=\"University Rating\",\n",
    "    y=\"counts\",\n",
    "    color=\"University Rating\",\n",
    "    color_discrete_sequence=px.colors.qualitative.D3,\n",
    ")"
   ]
  },
  {
   "cell_type": "markdown",
   "metadata": {
    "papermill": {
     "duration": 0.118811,
     "end_time": "2020-12-28T20:41:55.642922",
     "exception": false,
     "start_time": "2020-12-28T20:41:55.524111",
     "status": "completed"
    },
    "tags": []
   },
   "source": [
    "We can see that the most common rating is in the middle: `3`. The chart shows that the ratings are distributed in a similar fashion to the normal distrbution."
   ]
  },
  {
   "cell_type": "markdown",
   "metadata": {
    "papermill": {
     "duration": 0.110005,
     "end_time": "2020-12-28T20:41:55.865853",
     "exception": false,
     "start_time": "2020-12-28T20:41:55.755848",
     "status": "completed"
    },
    "tags": []
   },
   "source": [
    "### `SOP`"
   ]
  },
  {
   "cell_type": "markdown",
   "metadata": {
    "papermill": {
     "duration": 0.11272,
     "end_time": "2020-12-28T20:41:56.090020",
     "exception": false,
     "start_time": "2020-12-28T20:41:55.977300",
     "status": "completed"
    },
    "tags": []
   },
   "source": [
    "`SOP` stands for the strength of *Statement of Purpose* which is a necessary document for graduate applications. The values were (mostly) entered by the students, and it's on scale 1-5, so this is an ordinal variable."
   ]
  },
  {
   "cell_type": "code",
   "execution_count": 36,
   "metadata": {
    "execution": {
     "iopub.execute_input": "2020-12-28T20:41:56.324749Z",
     "iopub.status.busy": "2020-12-28T20:41:56.323758Z",
     "iopub.status.idle": "2020-12-28T20:41:56.328816Z",
     "shell.execute_reply": "2020-12-28T20:41:56.328042Z"
    },
    "papermill": {
     "duration": 0.12748,
     "end_time": "2020-12-28T20:41:56.328941",
     "exception": false,
     "start_time": "2020-12-28T20:41:56.201461",
     "status": "completed"
    },
    "tags": []
   },
   "outputs": [
    {
     "data": {
      "text/plain": [
       "4.0    89\n",
       "3.5    88\n",
       "3.0    80\n",
       "2.5    64\n",
       "4.5    63\n",
       "2.0    43\n",
       "5.0    42\n",
       "1.5    25\n",
       "1.0     6\n",
       "Name: SOP, dtype: int64"
      ]
     },
     "execution_count": 36,
     "metadata": {},
     "output_type": "execute_result"
    }
   ],
   "source": [
    "df[\"SOP\"].value_counts()"
   ]
  },
  {
   "cell_type": "code",
   "execution_count": 37,
   "metadata": {
    "execution": {
     "iopub.execute_input": "2020-12-28T20:41:56.563714Z",
     "iopub.status.busy": "2020-12-28T20:41:56.562988Z",
     "iopub.status.idle": "2020-12-28T20:41:56.567454Z",
     "shell.execute_reply": "2020-12-28T20:41:56.566855Z"
    },
    "papermill": {
     "duration": 0.12786,
     "end_time": "2020-12-28T20:41:56.567588",
     "exception": false,
     "start_time": "2020-12-28T20:41:56.439728",
     "status": "completed"
    },
    "tags": []
   },
   "outputs": [],
   "source": [
    "temp_df = df.groupby(by=\"SOP\", as_index=False).agg(\n",
    "    counts=pd.NamedAgg(column=\"SOP\", aggfunc=\"count\")\n",
    ")"
   ]
  },
  {
   "cell_type": "code",
   "execution_count": 38,
   "metadata": {
    "execution": {
     "iopub.execute_input": "2020-12-28T20:41:56.800954Z",
     "iopub.status.busy": "2020-12-28T20:41:56.799949Z",
     "iopub.status.idle": "2020-12-28T20:41:56.802685Z",
     "shell.execute_reply": "2020-12-28T20:41:56.802016Z"
    },
    "papermill": {
     "duration": 0.119269,
     "end_time": "2020-12-28T20:41:56.802798",
     "exception": false,
     "start_time": "2020-12-28T20:41:56.683529",
     "status": "completed"
    },
    "tags": []
   },
   "outputs": [],
   "source": [
    "temp_df[\"SOP\"] = temp_df[\"SOP\"].astype(str)"
   ]
  },
  {
   "cell_type": "code",
   "execution_count": 39,
   "metadata": {
    "execution": {
     "iopub.execute_input": "2020-12-28T20:41:57.088788Z",
     "iopub.status.busy": "2020-12-28T20:41:57.053445Z",
     "iopub.status.idle": "2020-12-28T20:41:57.148022Z",
     "shell.execute_reply": "2020-12-28T20:41:57.147434Z"
    },
    "papermill": {
     "duration": 0.219456,
     "end_time": "2020-12-28T20:41:57.148155",
     "exception": false,
     "start_time": "2020-12-28T20:41:56.928699",
     "status": "completed"
    },
    "tags": []
   },
   "outputs": [
    {
     "data": {
      "text/html": [
       "<div>                            <div id=\"d2cbfd42-3b92-4e7f-bf73-28a4779f568a\" class=\"plotly-graph-div\" style=\"height:525px; width:100%;\"></div>            <script type=\"text/javascript\">                require([\"plotly\"], function(Plotly) {                    window.PLOTLYENV=window.PLOTLYENV || {};                                    if (document.getElementById(\"d2cbfd42-3b92-4e7f-bf73-28a4779f568a\")) {                    Plotly.newPlot(                        \"d2cbfd42-3b92-4e7f-bf73-28a4779f568a\",                        [{\"alignmentgroup\": \"True\", \"hovertemplate\": \"SOP=%{x}<br>counts=%{y}<extra></extra>\", \"legendgroup\": \"1.0\", \"marker\": {\"color\": \"rgb(95, 70, 144)\"}, \"name\": \"1.0\", \"offsetgroup\": \"1.0\", \"orientation\": \"v\", \"showlegend\": true, \"textposition\": \"auto\", \"type\": \"bar\", \"x\": [\"1.0\"], \"xaxis\": \"x\", \"y\": [6], \"yaxis\": \"y\"}, {\"alignmentgroup\": \"True\", \"hovertemplate\": \"SOP=%{x}<br>counts=%{y}<extra></extra>\", \"legendgroup\": \"1.5\", \"marker\": {\"color\": \"rgb(29, 105, 150)\"}, \"name\": \"1.5\", \"offsetgroup\": \"1.5\", \"orientation\": \"v\", \"showlegend\": true, \"textposition\": \"auto\", \"type\": \"bar\", \"x\": [\"1.5\"], \"xaxis\": \"x\", \"y\": [25], \"yaxis\": \"y\"}, {\"alignmentgroup\": \"True\", \"hovertemplate\": \"SOP=%{x}<br>counts=%{y}<extra></extra>\", \"legendgroup\": \"2.0\", \"marker\": {\"color\": \"rgb(56, 166, 165)\"}, \"name\": \"2.0\", \"offsetgroup\": \"2.0\", \"orientation\": \"v\", \"showlegend\": true, \"textposition\": \"auto\", \"type\": \"bar\", \"x\": [\"2.0\"], \"xaxis\": \"x\", \"y\": [43], \"yaxis\": \"y\"}, {\"alignmentgroup\": \"True\", \"hovertemplate\": \"SOP=%{x}<br>counts=%{y}<extra></extra>\", \"legendgroup\": \"2.5\", \"marker\": {\"color\": \"rgb(15, 133, 84)\"}, \"name\": \"2.5\", \"offsetgroup\": \"2.5\", \"orientation\": \"v\", \"showlegend\": true, \"textposition\": \"auto\", \"type\": \"bar\", \"x\": [\"2.5\"], \"xaxis\": \"x\", \"y\": [64], \"yaxis\": \"y\"}, {\"alignmentgroup\": \"True\", \"hovertemplate\": \"SOP=%{x}<br>counts=%{y}<extra></extra>\", \"legendgroup\": \"3.0\", \"marker\": {\"color\": \"rgb(115, 175, 72)\"}, \"name\": \"3.0\", \"offsetgroup\": \"3.0\", \"orientation\": \"v\", \"showlegend\": true, \"textposition\": \"auto\", \"type\": \"bar\", \"x\": [\"3.0\"], \"xaxis\": \"x\", \"y\": [80], \"yaxis\": \"y\"}, {\"alignmentgroup\": \"True\", \"hovertemplate\": \"SOP=%{x}<br>counts=%{y}<extra></extra>\", \"legendgroup\": \"3.5\", \"marker\": {\"color\": \"rgb(237, 173, 8)\"}, \"name\": \"3.5\", \"offsetgroup\": \"3.5\", \"orientation\": \"v\", \"showlegend\": true, \"textposition\": \"auto\", \"type\": \"bar\", \"x\": [\"3.5\"], \"xaxis\": \"x\", \"y\": [88], \"yaxis\": \"y\"}, {\"alignmentgroup\": \"True\", \"hovertemplate\": \"SOP=%{x}<br>counts=%{y}<extra></extra>\", \"legendgroup\": \"4.0\", \"marker\": {\"color\": \"rgb(225, 124, 5)\"}, \"name\": \"4.0\", \"offsetgroup\": \"4.0\", \"orientation\": \"v\", \"showlegend\": true, \"textposition\": \"auto\", \"type\": \"bar\", \"x\": [\"4.0\"], \"xaxis\": \"x\", \"y\": [89], \"yaxis\": \"y\"}, {\"alignmentgroup\": \"True\", \"hovertemplate\": \"SOP=%{x}<br>counts=%{y}<extra></extra>\", \"legendgroup\": \"4.5\", \"marker\": {\"color\": \"rgb(204, 80, 62)\"}, \"name\": \"4.5\", \"offsetgroup\": \"4.5\", \"orientation\": \"v\", \"showlegend\": true, \"textposition\": \"auto\", \"type\": \"bar\", \"x\": [\"4.5\"], \"xaxis\": \"x\", \"y\": [63], \"yaxis\": \"y\"}, {\"alignmentgroup\": \"True\", \"hovertemplate\": \"SOP=%{x}<br>counts=%{y}<extra></extra>\", \"legendgroup\": \"5.0\", \"marker\": {\"color\": \"rgb(148, 52, 110)\"}, \"name\": \"5.0\", \"offsetgroup\": \"5.0\", \"orientation\": \"v\", \"showlegend\": true, \"textposition\": \"auto\", \"type\": \"bar\", \"x\": [\"5.0\"], \"xaxis\": \"x\", \"y\": [42], \"yaxis\": \"y\"}],                        {\"barmode\": \"relative\", \"legend\": {\"title\": {\"text\": \"SOP\"}, \"tracegroupgap\": 0}, \"margin\": {\"t\": 60}, \"template\": {\"data\": {\"bar\": [{\"error_x\": {\"color\": \"#2a3f5f\"}, \"error_y\": {\"color\": \"#2a3f5f\"}, \"marker\": {\"line\": {\"color\": \"#E5ECF6\", \"width\": 0.5}}, \"type\": \"bar\"}], \"barpolar\": [{\"marker\": {\"line\": {\"color\": \"#E5ECF6\", \"width\": 0.5}}, \"type\": \"barpolar\"}], \"carpet\": [{\"aaxis\": {\"endlinecolor\": \"#2a3f5f\", \"gridcolor\": \"white\", \"linecolor\": \"white\", \"minorgridcolor\": \"white\", \"startlinecolor\": \"#2a3f5f\"}, \"baxis\": {\"endlinecolor\": \"#2a3f5f\", \"gridcolor\": \"white\", \"linecolor\": \"white\", \"minorgridcolor\": \"white\", \"startlinecolor\": \"#2a3f5f\"}, \"type\": \"carpet\"}], \"choropleth\": [{\"colorbar\": {\"outlinewidth\": 0, \"ticks\": \"\"}, \"type\": \"choropleth\"}], \"contour\": [{\"colorbar\": {\"outlinewidth\": 0, \"ticks\": \"\"}, \"colorscale\": [[0.0, \"#0d0887\"], [0.1111111111111111, \"#46039f\"], [0.2222222222222222, \"#7201a8\"], [0.3333333333333333, \"#9c179e\"], [0.4444444444444444, \"#bd3786\"], [0.5555555555555556, \"#d8576b\"], [0.6666666666666666, \"#ed7953\"], [0.7777777777777778, \"#fb9f3a\"], [0.8888888888888888, \"#fdca26\"], [1.0, \"#f0f921\"]], \"type\": \"contour\"}], \"contourcarpet\": [{\"colorbar\": {\"outlinewidth\": 0, \"ticks\": \"\"}, \"type\": \"contourcarpet\"}], \"heatmap\": [{\"colorbar\": {\"outlinewidth\": 0, \"ticks\": \"\"}, \"colorscale\": [[0.0, \"#0d0887\"], [0.1111111111111111, \"#46039f\"], [0.2222222222222222, \"#7201a8\"], [0.3333333333333333, \"#9c179e\"], [0.4444444444444444, \"#bd3786\"], [0.5555555555555556, \"#d8576b\"], [0.6666666666666666, \"#ed7953\"], [0.7777777777777778, \"#fb9f3a\"], [0.8888888888888888, \"#fdca26\"], [1.0, \"#f0f921\"]], \"type\": \"heatmap\"}], \"heatmapgl\": [{\"colorbar\": {\"outlinewidth\": 0, \"ticks\": \"\"}, \"colorscale\": [[0.0, \"#0d0887\"], [0.1111111111111111, \"#46039f\"], [0.2222222222222222, \"#7201a8\"], [0.3333333333333333, \"#9c179e\"], [0.4444444444444444, \"#bd3786\"], [0.5555555555555556, \"#d8576b\"], [0.6666666666666666, \"#ed7953\"], [0.7777777777777778, \"#fb9f3a\"], [0.8888888888888888, \"#fdca26\"], [1.0, \"#f0f921\"]], \"type\": \"heatmapgl\"}], \"histogram\": [{\"marker\": {\"colorbar\": {\"outlinewidth\": 0, \"ticks\": \"\"}}, \"type\": \"histogram\"}], \"histogram2d\": [{\"colorbar\": {\"outlinewidth\": 0, \"ticks\": \"\"}, \"colorscale\": [[0.0, \"#0d0887\"], [0.1111111111111111, \"#46039f\"], [0.2222222222222222, \"#7201a8\"], [0.3333333333333333, \"#9c179e\"], [0.4444444444444444, \"#bd3786\"], [0.5555555555555556, \"#d8576b\"], [0.6666666666666666, \"#ed7953\"], [0.7777777777777778, \"#fb9f3a\"], [0.8888888888888888, \"#fdca26\"], [1.0, \"#f0f921\"]], \"type\": \"histogram2d\"}], \"histogram2dcontour\": [{\"colorbar\": {\"outlinewidth\": 0, \"ticks\": \"\"}, \"colorscale\": [[0.0, \"#0d0887\"], [0.1111111111111111, \"#46039f\"], [0.2222222222222222, \"#7201a8\"], [0.3333333333333333, \"#9c179e\"], [0.4444444444444444, \"#bd3786\"], [0.5555555555555556, \"#d8576b\"], [0.6666666666666666, \"#ed7953\"], [0.7777777777777778, \"#fb9f3a\"], [0.8888888888888888, \"#fdca26\"], [1.0, \"#f0f921\"]], \"type\": \"histogram2dcontour\"}], \"mesh3d\": [{\"colorbar\": {\"outlinewidth\": 0, \"ticks\": \"\"}, \"type\": \"mesh3d\"}], \"parcoords\": [{\"line\": {\"colorbar\": {\"outlinewidth\": 0, \"ticks\": \"\"}}, \"type\": \"parcoords\"}], \"pie\": [{\"automargin\": true, \"type\": \"pie\"}], \"scatter\": [{\"marker\": {\"colorbar\": {\"outlinewidth\": 0, \"ticks\": \"\"}}, \"type\": \"scatter\"}], \"scatter3d\": [{\"line\": {\"colorbar\": {\"outlinewidth\": 0, \"ticks\": \"\"}}, \"marker\": {\"colorbar\": {\"outlinewidth\": 0, \"ticks\": \"\"}}, \"type\": \"scatter3d\"}], \"scattercarpet\": [{\"marker\": {\"colorbar\": {\"outlinewidth\": 0, \"ticks\": \"\"}}, \"type\": \"scattercarpet\"}], \"scattergeo\": [{\"marker\": {\"colorbar\": {\"outlinewidth\": 0, \"ticks\": \"\"}}, \"type\": \"scattergeo\"}], \"scattergl\": [{\"marker\": {\"colorbar\": {\"outlinewidth\": 0, \"ticks\": \"\"}}, \"type\": \"scattergl\"}], \"scattermapbox\": [{\"marker\": {\"colorbar\": {\"outlinewidth\": 0, \"ticks\": \"\"}}, \"type\": \"scattermapbox\"}], \"scatterpolar\": [{\"marker\": {\"colorbar\": {\"outlinewidth\": 0, \"ticks\": \"\"}}, \"type\": \"scatterpolar\"}], \"scatterpolargl\": [{\"marker\": {\"colorbar\": {\"outlinewidth\": 0, \"ticks\": \"\"}}, \"type\": \"scatterpolargl\"}], \"scatterternary\": [{\"marker\": {\"colorbar\": {\"outlinewidth\": 0, \"ticks\": \"\"}}, \"type\": \"scatterternary\"}], \"surface\": [{\"colorbar\": {\"outlinewidth\": 0, \"ticks\": \"\"}, \"colorscale\": [[0.0, \"#0d0887\"], [0.1111111111111111, \"#46039f\"], [0.2222222222222222, \"#7201a8\"], [0.3333333333333333, \"#9c179e\"], [0.4444444444444444, \"#bd3786\"], [0.5555555555555556, \"#d8576b\"], [0.6666666666666666, \"#ed7953\"], [0.7777777777777778, \"#fb9f3a\"], [0.8888888888888888, \"#fdca26\"], [1.0, \"#f0f921\"]], \"type\": \"surface\"}], \"table\": [{\"cells\": {\"fill\": {\"color\": \"#EBF0F8\"}, \"line\": {\"color\": \"white\"}}, \"header\": {\"fill\": {\"color\": \"#C8D4E3\"}, \"line\": {\"color\": \"white\"}}, \"type\": \"table\"}]}, \"layout\": {\"annotationdefaults\": {\"arrowcolor\": \"#2a3f5f\", \"arrowhead\": 0, \"arrowwidth\": 1}, \"autotypenumbers\": \"strict\", \"coloraxis\": {\"colorbar\": {\"outlinewidth\": 0, \"ticks\": \"\"}}, \"colorscale\": {\"diverging\": [[0, \"#8e0152\"], [0.1, \"#c51b7d\"], [0.2, \"#de77ae\"], [0.3, \"#f1b6da\"], [0.4, \"#fde0ef\"], [0.5, \"#f7f7f7\"], [0.6, \"#e6f5d0\"], [0.7, \"#b8e186\"], [0.8, \"#7fbc41\"], [0.9, \"#4d9221\"], [1, \"#276419\"]], \"sequential\": [[0.0, \"#0d0887\"], [0.1111111111111111, \"#46039f\"], [0.2222222222222222, \"#7201a8\"], [0.3333333333333333, \"#9c179e\"], [0.4444444444444444, \"#bd3786\"], [0.5555555555555556, \"#d8576b\"], [0.6666666666666666, \"#ed7953\"], [0.7777777777777778, \"#fb9f3a\"], [0.8888888888888888, \"#fdca26\"], [1.0, \"#f0f921\"]], \"sequentialminus\": [[0.0, \"#0d0887\"], [0.1111111111111111, \"#46039f\"], [0.2222222222222222, \"#7201a8\"], [0.3333333333333333, \"#9c179e\"], [0.4444444444444444, \"#bd3786\"], [0.5555555555555556, \"#d8576b\"], [0.6666666666666666, \"#ed7953\"], [0.7777777777777778, \"#fb9f3a\"], [0.8888888888888888, \"#fdca26\"], [1.0, \"#f0f921\"]]}, \"colorway\": [\"#636efa\", \"#EF553B\", \"#00cc96\", \"#ab63fa\", \"#FFA15A\", \"#19d3f3\", \"#FF6692\", \"#B6E880\", \"#FF97FF\", \"#FECB52\"], \"font\": {\"color\": \"#2a3f5f\"}, \"geo\": {\"bgcolor\": \"white\", \"lakecolor\": \"white\", \"landcolor\": \"#E5ECF6\", \"showlakes\": true, \"showland\": true, \"subunitcolor\": \"white\"}, \"hoverlabel\": {\"align\": \"left\"}, \"hovermode\": \"closest\", \"mapbox\": {\"style\": \"light\"}, \"paper_bgcolor\": \"white\", \"plot_bgcolor\": \"#E5ECF6\", \"polar\": {\"angularaxis\": {\"gridcolor\": \"white\", \"linecolor\": \"white\", \"ticks\": \"\"}, \"bgcolor\": \"#E5ECF6\", \"radialaxis\": {\"gridcolor\": \"white\", \"linecolor\": \"white\", \"ticks\": \"\"}}, \"scene\": {\"xaxis\": {\"backgroundcolor\": \"#E5ECF6\", \"gridcolor\": \"white\", \"gridwidth\": 2, \"linecolor\": \"white\", \"showbackground\": true, \"ticks\": \"\", \"zerolinecolor\": \"white\"}, \"yaxis\": {\"backgroundcolor\": \"#E5ECF6\", \"gridcolor\": \"white\", \"gridwidth\": 2, \"linecolor\": \"white\", \"showbackground\": true, \"ticks\": \"\", \"zerolinecolor\": \"white\"}, \"zaxis\": {\"backgroundcolor\": \"#E5ECF6\", \"gridcolor\": \"white\", \"gridwidth\": 2, \"linecolor\": \"white\", \"showbackground\": true, \"ticks\": \"\", \"zerolinecolor\": \"white\"}}, \"shapedefaults\": {\"line\": {\"color\": \"#2a3f5f\"}}, \"ternary\": {\"aaxis\": {\"gridcolor\": \"white\", \"linecolor\": \"white\", \"ticks\": \"\"}, \"baxis\": {\"gridcolor\": \"white\", \"linecolor\": \"white\", \"ticks\": \"\"}, \"bgcolor\": \"#E5ECF6\", \"caxis\": {\"gridcolor\": \"white\", \"linecolor\": \"white\", \"ticks\": \"\"}}, \"title\": {\"x\": 0.05}, \"xaxis\": {\"automargin\": true, \"gridcolor\": \"white\", \"linecolor\": \"white\", \"ticks\": \"\", \"title\": {\"standoff\": 15}, \"zerolinecolor\": \"white\", \"zerolinewidth\": 2}, \"yaxis\": {\"automargin\": true, \"gridcolor\": \"white\", \"linecolor\": \"white\", \"ticks\": \"\", \"title\": {\"standoff\": 15}, \"zerolinecolor\": \"white\", \"zerolinewidth\": 2}}}, \"xaxis\": {\"anchor\": \"y\", \"categoryarray\": [\"1.0\", \"1.5\", \"2.0\", \"2.5\", \"3.0\", \"3.5\", \"4.0\", \"4.5\", \"5.0\"], \"categoryorder\": \"array\", \"domain\": [0.0, 1.0], \"title\": {\"text\": \"SOP\"}}, \"yaxis\": {\"anchor\": \"x\", \"domain\": [0.0, 1.0], \"title\": {\"text\": \"counts\"}}},                        {\"responsive\": true}                    ).then(function(){\n",
       "                            \n",
       "var gd = document.getElementById('d2cbfd42-3b92-4e7f-bf73-28a4779f568a');\n",
       "var x = new MutationObserver(function (mutations, observer) {{\n",
       "        var display = window.getComputedStyle(gd).display;\n",
       "        if (!display || display === 'none') {{\n",
       "            console.log([gd, 'removed!']);\n",
       "            Plotly.purge(gd);\n",
       "            observer.disconnect();\n",
       "        }}\n",
       "}});\n",
       "\n",
       "// Listen for the removal of the full notebook cells\n",
       "var notebookContainer = gd.closest('#notebook-container');\n",
       "if (notebookContainer) {{\n",
       "    x.observe(notebookContainer, {childList: true});\n",
       "}}\n",
       "\n",
       "// Listen for the clearing of the current output cell\n",
       "var outputEl = gd.closest('.output');\n",
       "if (outputEl) {{\n",
       "    x.observe(outputEl, {childList: true});\n",
       "}}\n",
       "\n",
       "                        })                };                });            </script>        </div>"
      ]
     },
     "metadata": {},
     "output_type": "display_data"
    }
   ],
   "source": [
    "px.bar(\n",
    "    data_frame=temp_df,\n",
    "    x=\"SOP\",\n",
    "    y=\"counts\",\n",
    "    color=\"SOP\",\n",
    "    color_discrete_sequence=px.colors.qualitative.Prism,\n",
    ")"
   ]
  },
  {
   "cell_type": "markdown",
   "metadata": {
    "papermill": {
     "duration": 0.113722,
     "end_time": "2020-12-28T20:41:57.379996",
     "exception": false,
     "start_time": "2020-12-28T20:41:57.266274",
     "status": "completed"
    },
    "tags": []
   },
   "source": [
    "Most students estimated the strength of their *Statement of Purpose* between `3` and `4`."
   ]
  },
  {
   "cell_type": "markdown",
   "metadata": {
    "papermill": {
     "duration": 0.113514,
     "end_time": "2020-12-28T20:41:57.607031",
     "exception": false,
     "start_time": "2020-12-28T20:41:57.493517",
     "status": "completed"
    },
    "tags": []
   },
   "source": [
    "### `LOR`"
   ]
  },
  {
   "cell_type": "markdown",
   "metadata": {
    "papermill": {
     "duration": 0.113306,
     "end_time": "2020-12-28T20:41:57.837600",
     "exception": false,
     "start_time": "2020-12-28T20:41:57.724294",
     "status": "completed"
    },
    "tags": []
   },
   "source": [
    "`LOR` stands for the strength of *Letter of Recommendation*. The values were (mostly) entered by the students, and it's on scale 1-5, so this is an ordinal variable."
   ]
  },
  {
   "cell_type": "code",
   "execution_count": 40,
   "metadata": {
    "execution": {
     "iopub.execute_input": "2020-12-28T20:41:58.077011Z",
     "iopub.status.busy": "2020-12-28T20:41:58.076136Z",
     "iopub.status.idle": "2020-12-28T20:41:58.080603Z",
     "shell.execute_reply": "2020-12-28T20:41:58.081076Z"
    },
    "papermill": {
     "duration": 0.126457,
     "end_time": "2020-12-28T20:41:58.081227",
     "exception": false,
     "start_time": "2020-12-28T20:41:57.954770",
     "status": "completed"
    },
    "tags": []
   },
   "outputs": [
    {
     "data": {
      "text/plain": [
       "3.0    99\n",
       "4.0    94\n",
       "3.5    86\n",
       "4.5    63\n",
       "5.0    50\n",
       "2.5    50\n",
       "2.0    46\n",
       "1.5    11\n",
       "1.0     1\n",
       "Name: LOR, dtype: int64"
      ]
     },
     "execution_count": 40,
     "metadata": {},
     "output_type": "execute_result"
    }
   ],
   "source": [
    "df[\"LOR\"].value_counts()"
   ]
  },
  {
   "cell_type": "code",
   "execution_count": 41,
   "metadata": {
    "execution": {
     "iopub.execute_input": "2020-12-28T20:41:58.319776Z",
     "iopub.status.busy": "2020-12-28T20:41:58.319052Z",
     "iopub.status.idle": "2020-12-28T20:41:58.332102Z",
     "shell.execute_reply": "2020-12-28T20:41:58.331490Z"
    },
    "papermill": {
     "duration": 0.137989,
     "end_time": "2020-12-28T20:41:58.332241",
     "exception": false,
     "start_time": "2020-12-28T20:41:58.194252",
     "status": "completed"
    },
    "tags": []
   },
   "outputs": [],
   "source": [
    "temp_df = df.groupby(by=\"LOR\", as_index=False).agg(\n",
    "    counts=pd.NamedAgg(column=\"LOR\", aggfunc=\"count\")\n",
    ")"
   ]
  },
  {
   "cell_type": "code",
   "execution_count": 42,
   "metadata": {
    "execution": {
     "iopub.execute_input": "2020-12-28T20:41:58.560412Z",
     "iopub.status.busy": "2020-12-28T20:41:58.559743Z",
     "iopub.status.idle": "2020-12-28T20:41:58.564696Z",
     "shell.execute_reply": "2020-12-28T20:41:58.565281Z"
    },
    "papermill": {
     "duration": 0.119906,
     "end_time": "2020-12-28T20:41:58.565437",
     "exception": false,
     "start_time": "2020-12-28T20:41:58.445531",
     "status": "completed"
    },
    "tags": []
   },
   "outputs": [],
   "source": [
    "temp_df[\"LOR\"] = temp_df[\"LOR\"].astype(str)"
   ]
  },
  {
   "cell_type": "code",
   "execution_count": 43,
   "metadata": {
    "execution": {
     "iopub.execute_input": "2020-12-28T20:41:58.792179Z",
     "iopub.status.busy": "2020-12-28T20:41:58.791547Z",
     "iopub.status.idle": "2020-12-28T20:41:58.897221Z",
     "shell.execute_reply": "2020-12-28T20:41:58.896618Z"
    },
    "papermill": {
     "duration": 0.22026,
     "end_time": "2020-12-28T20:41:58.897360",
     "exception": false,
     "start_time": "2020-12-28T20:41:58.677100",
     "status": "completed"
    },
    "tags": []
   },
   "outputs": [
    {
     "data": {
      "text/html": [
       "<div>                            <div id=\"4ca3e88f-3f5c-487f-9a47-f4c96b9f0148\" class=\"plotly-graph-div\" style=\"height:525px; width:100%;\"></div>            <script type=\"text/javascript\">                require([\"plotly\"], function(Plotly) {                    window.PLOTLYENV=window.PLOTLYENV || {};                                    if (document.getElementById(\"4ca3e88f-3f5c-487f-9a47-f4c96b9f0148\")) {                    Plotly.newPlot(                        \"4ca3e88f-3f5c-487f-9a47-f4c96b9f0148\",                        [{\"alignmentgroup\": \"True\", \"hovertemplate\": \"LOR=%{x}<br>counts=%{y}<extra></extra>\", \"legendgroup\": \"1.0\", \"marker\": {\"color\": \"rgb(95, 70, 144)\"}, \"name\": \"1.0\", \"offsetgroup\": \"1.0\", \"orientation\": \"v\", \"showlegend\": true, \"textposition\": \"auto\", \"type\": \"bar\", \"x\": [\"1.0\"], \"xaxis\": \"x\", \"y\": [1], \"yaxis\": \"y\"}, {\"alignmentgroup\": \"True\", \"hovertemplate\": \"LOR=%{x}<br>counts=%{y}<extra></extra>\", \"legendgroup\": \"1.5\", \"marker\": {\"color\": \"rgb(29, 105, 150)\"}, \"name\": \"1.5\", \"offsetgroup\": \"1.5\", \"orientation\": \"v\", \"showlegend\": true, \"textposition\": \"auto\", \"type\": \"bar\", \"x\": [\"1.5\"], \"xaxis\": \"x\", \"y\": [11], \"yaxis\": \"y\"}, {\"alignmentgroup\": \"True\", \"hovertemplate\": \"LOR=%{x}<br>counts=%{y}<extra></extra>\", \"legendgroup\": \"2.0\", \"marker\": {\"color\": \"rgb(56, 166, 165)\"}, \"name\": \"2.0\", \"offsetgroup\": \"2.0\", \"orientation\": \"v\", \"showlegend\": true, \"textposition\": \"auto\", \"type\": \"bar\", \"x\": [\"2.0\"], \"xaxis\": \"x\", \"y\": [46], \"yaxis\": \"y\"}, {\"alignmentgroup\": \"True\", \"hovertemplate\": \"LOR=%{x}<br>counts=%{y}<extra></extra>\", \"legendgroup\": \"2.5\", \"marker\": {\"color\": \"rgb(15, 133, 84)\"}, \"name\": \"2.5\", \"offsetgroup\": \"2.5\", \"orientation\": \"v\", \"showlegend\": true, \"textposition\": \"auto\", \"type\": \"bar\", \"x\": [\"2.5\"], \"xaxis\": \"x\", \"y\": [50], \"yaxis\": \"y\"}, {\"alignmentgroup\": \"True\", \"hovertemplate\": \"LOR=%{x}<br>counts=%{y}<extra></extra>\", \"legendgroup\": \"3.0\", \"marker\": {\"color\": \"rgb(115, 175, 72)\"}, \"name\": \"3.0\", \"offsetgroup\": \"3.0\", \"orientation\": \"v\", \"showlegend\": true, \"textposition\": \"auto\", \"type\": \"bar\", \"x\": [\"3.0\"], \"xaxis\": \"x\", \"y\": [99], \"yaxis\": \"y\"}, {\"alignmentgroup\": \"True\", \"hovertemplate\": \"LOR=%{x}<br>counts=%{y}<extra></extra>\", \"legendgroup\": \"3.5\", \"marker\": {\"color\": \"rgb(237, 173, 8)\"}, \"name\": \"3.5\", \"offsetgroup\": \"3.5\", \"orientation\": \"v\", \"showlegend\": true, \"textposition\": \"auto\", \"type\": \"bar\", \"x\": [\"3.5\"], \"xaxis\": \"x\", \"y\": [86], \"yaxis\": \"y\"}, {\"alignmentgroup\": \"True\", \"hovertemplate\": \"LOR=%{x}<br>counts=%{y}<extra></extra>\", \"legendgroup\": \"4.0\", \"marker\": {\"color\": \"rgb(225, 124, 5)\"}, \"name\": \"4.0\", \"offsetgroup\": \"4.0\", \"orientation\": \"v\", \"showlegend\": true, \"textposition\": \"auto\", \"type\": \"bar\", \"x\": [\"4.0\"], \"xaxis\": \"x\", \"y\": [94], \"yaxis\": \"y\"}, {\"alignmentgroup\": \"True\", \"hovertemplate\": \"LOR=%{x}<br>counts=%{y}<extra></extra>\", \"legendgroup\": \"4.5\", \"marker\": {\"color\": \"rgb(204, 80, 62)\"}, \"name\": \"4.5\", \"offsetgroup\": \"4.5\", \"orientation\": \"v\", \"showlegend\": true, \"textposition\": \"auto\", \"type\": \"bar\", \"x\": [\"4.5\"], \"xaxis\": \"x\", \"y\": [63], \"yaxis\": \"y\"}, {\"alignmentgroup\": \"True\", \"hovertemplate\": \"LOR=%{x}<br>counts=%{y}<extra></extra>\", \"legendgroup\": \"5.0\", \"marker\": {\"color\": \"rgb(148, 52, 110)\"}, \"name\": \"5.0\", \"offsetgroup\": \"5.0\", \"orientation\": \"v\", \"showlegend\": true, \"textposition\": \"auto\", \"type\": \"bar\", \"x\": [\"5.0\"], \"xaxis\": \"x\", \"y\": [50], \"yaxis\": \"y\"}],                        {\"barmode\": \"relative\", \"legend\": {\"title\": {\"text\": \"LOR\"}, \"tracegroupgap\": 0}, \"margin\": {\"t\": 60}, \"template\": {\"data\": {\"bar\": [{\"error_x\": {\"color\": \"#2a3f5f\"}, \"error_y\": {\"color\": \"#2a3f5f\"}, \"marker\": {\"line\": {\"color\": \"#E5ECF6\", \"width\": 0.5}}, \"type\": \"bar\"}], \"barpolar\": [{\"marker\": {\"line\": {\"color\": \"#E5ECF6\", \"width\": 0.5}}, \"type\": \"barpolar\"}], \"carpet\": [{\"aaxis\": {\"endlinecolor\": \"#2a3f5f\", \"gridcolor\": \"white\", \"linecolor\": \"white\", \"minorgridcolor\": \"white\", \"startlinecolor\": \"#2a3f5f\"}, \"baxis\": {\"endlinecolor\": \"#2a3f5f\", \"gridcolor\": \"white\", \"linecolor\": \"white\", \"minorgridcolor\": \"white\", \"startlinecolor\": \"#2a3f5f\"}, \"type\": \"carpet\"}], \"choropleth\": [{\"colorbar\": {\"outlinewidth\": 0, \"ticks\": \"\"}, \"type\": \"choropleth\"}], \"contour\": [{\"colorbar\": {\"outlinewidth\": 0, \"ticks\": \"\"}, \"colorscale\": [[0.0, \"#0d0887\"], [0.1111111111111111, \"#46039f\"], [0.2222222222222222, \"#7201a8\"], [0.3333333333333333, \"#9c179e\"], [0.4444444444444444, \"#bd3786\"], [0.5555555555555556, \"#d8576b\"], [0.6666666666666666, \"#ed7953\"], [0.7777777777777778, \"#fb9f3a\"], [0.8888888888888888, \"#fdca26\"], [1.0, \"#f0f921\"]], \"type\": \"contour\"}], \"contourcarpet\": [{\"colorbar\": {\"outlinewidth\": 0, \"ticks\": \"\"}, \"type\": \"contourcarpet\"}], \"heatmap\": [{\"colorbar\": {\"outlinewidth\": 0, \"ticks\": \"\"}, \"colorscale\": [[0.0, \"#0d0887\"], [0.1111111111111111, \"#46039f\"], [0.2222222222222222, \"#7201a8\"], [0.3333333333333333, \"#9c179e\"], [0.4444444444444444, \"#bd3786\"], [0.5555555555555556, \"#d8576b\"], [0.6666666666666666, \"#ed7953\"], [0.7777777777777778, \"#fb9f3a\"], [0.8888888888888888, \"#fdca26\"], [1.0, \"#f0f921\"]], \"type\": \"heatmap\"}], \"heatmapgl\": [{\"colorbar\": {\"outlinewidth\": 0, \"ticks\": \"\"}, \"colorscale\": [[0.0, \"#0d0887\"], [0.1111111111111111, \"#46039f\"], [0.2222222222222222, \"#7201a8\"], [0.3333333333333333, \"#9c179e\"], [0.4444444444444444, \"#bd3786\"], [0.5555555555555556, \"#d8576b\"], [0.6666666666666666, \"#ed7953\"], [0.7777777777777778, \"#fb9f3a\"], [0.8888888888888888, \"#fdca26\"], [1.0, \"#f0f921\"]], \"type\": \"heatmapgl\"}], \"histogram\": [{\"marker\": {\"colorbar\": {\"outlinewidth\": 0, \"ticks\": \"\"}}, \"type\": \"histogram\"}], \"histogram2d\": [{\"colorbar\": {\"outlinewidth\": 0, \"ticks\": \"\"}, \"colorscale\": [[0.0, \"#0d0887\"], [0.1111111111111111, \"#46039f\"], [0.2222222222222222, \"#7201a8\"], [0.3333333333333333, \"#9c179e\"], [0.4444444444444444, \"#bd3786\"], [0.5555555555555556, \"#d8576b\"], [0.6666666666666666, \"#ed7953\"], [0.7777777777777778, \"#fb9f3a\"], [0.8888888888888888, \"#fdca26\"], [1.0, \"#f0f921\"]], \"type\": \"histogram2d\"}], \"histogram2dcontour\": [{\"colorbar\": {\"outlinewidth\": 0, \"ticks\": \"\"}, \"colorscale\": [[0.0, \"#0d0887\"], [0.1111111111111111, \"#46039f\"], [0.2222222222222222, \"#7201a8\"], [0.3333333333333333, \"#9c179e\"], [0.4444444444444444, \"#bd3786\"], [0.5555555555555556, \"#d8576b\"], [0.6666666666666666, \"#ed7953\"], [0.7777777777777778, \"#fb9f3a\"], [0.8888888888888888, \"#fdca26\"], [1.0, \"#f0f921\"]], \"type\": \"histogram2dcontour\"}], \"mesh3d\": [{\"colorbar\": {\"outlinewidth\": 0, \"ticks\": \"\"}, \"type\": \"mesh3d\"}], \"parcoords\": [{\"line\": {\"colorbar\": {\"outlinewidth\": 0, \"ticks\": \"\"}}, \"type\": \"parcoords\"}], \"pie\": [{\"automargin\": true, \"type\": \"pie\"}], \"scatter\": [{\"marker\": {\"colorbar\": {\"outlinewidth\": 0, \"ticks\": \"\"}}, \"type\": \"scatter\"}], \"scatter3d\": [{\"line\": {\"colorbar\": {\"outlinewidth\": 0, \"ticks\": \"\"}}, \"marker\": {\"colorbar\": {\"outlinewidth\": 0, \"ticks\": \"\"}}, \"type\": \"scatter3d\"}], \"scattercarpet\": [{\"marker\": {\"colorbar\": {\"outlinewidth\": 0, \"ticks\": \"\"}}, \"type\": \"scattercarpet\"}], \"scattergeo\": [{\"marker\": {\"colorbar\": {\"outlinewidth\": 0, \"ticks\": \"\"}}, \"type\": \"scattergeo\"}], \"scattergl\": [{\"marker\": {\"colorbar\": {\"outlinewidth\": 0, \"ticks\": \"\"}}, \"type\": \"scattergl\"}], \"scattermapbox\": [{\"marker\": {\"colorbar\": {\"outlinewidth\": 0, \"ticks\": \"\"}}, \"type\": \"scattermapbox\"}], \"scatterpolar\": [{\"marker\": {\"colorbar\": {\"outlinewidth\": 0, \"ticks\": \"\"}}, \"type\": \"scatterpolar\"}], \"scatterpolargl\": [{\"marker\": {\"colorbar\": {\"outlinewidth\": 0, \"ticks\": \"\"}}, \"type\": \"scatterpolargl\"}], \"scatterternary\": [{\"marker\": {\"colorbar\": {\"outlinewidth\": 0, \"ticks\": \"\"}}, \"type\": \"scatterternary\"}], \"surface\": [{\"colorbar\": {\"outlinewidth\": 0, \"ticks\": \"\"}, \"colorscale\": [[0.0, \"#0d0887\"], [0.1111111111111111, \"#46039f\"], [0.2222222222222222, \"#7201a8\"], [0.3333333333333333, \"#9c179e\"], [0.4444444444444444, \"#bd3786\"], [0.5555555555555556, \"#d8576b\"], [0.6666666666666666, \"#ed7953\"], [0.7777777777777778, \"#fb9f3a\"], [0.8888888888888888, \"#fdca26\"], [1.0, \"#f0f921\"]], \"type\": \"surface\"}], \"table\": [{\"cells\": {\"fill\": {\"color\": \"#EBF0F8\"}, \"line\": {\"color\": \"white\"}}, \"header\": {\"fill\": {\"color\": \"#C8D4E3\"}, \"line\": {\"color\": \"white\"}}, \"type\": \"table\"}]}, \"layout\": {\"annotationdefaults\": {\"arrowcolor\": \"#2a3f5f\", \"arrowhead\": 0, \"arrowwidth\": 1}, \"autotypenumbers\": \"strict\", \"coloraxis\": {\"colorbar\": {\"outlinewidth\": 0, \"ticks\": \"\"}}, \"colorscale\": {\"diverging\": [[0, \"#8e0152\"], [0.1, \"#c51b7d\"], [0.2, \"#de77ae\"], [0.3, \"#f1b6da\"], [0.4, \"#fde0ef\"], [0.5, \"#f7f7f7\"], [0.6, \"#e6f5d0\"], [0.7, \"#b8e186\"], [0.8, \"#7fbc41\"], [0.9, \"#4d9221\"], [1, \"#276419\"]], \"sequential\": [[0.0, \"#0d0887\"], [0.1111111111111111, \"#46039f\"], [0.2222222222222222, \"#7201a8\"], [0.3333333333333333, \"#9c179e\"], [0.4444444444444444, \"#bd3786\"], [0.5555555555555556, \"#d8576b\"], [0.6666666666666666, \"#ed7953\"], [0.7777777777777778, \"#fb9f3a\"], [0.8888888888888888, \"#fdca26\"], [1.0, \"#f0f921\"]], \"sequentialminus\": [[0.0, \"#0d0887\"], [0.1111111111111111, \"#46039f\"], [0.2222222222222222, \"#7201a8\"], [0.3333333333333333, \"#9c179e\"], [0.4444444444444444, \"#bd3786\"], [0.5555555555555556, \"#d8576b\"], [0.6666666666666666, \"#ed7953\"], [0.7777777777777778, \"#fb9f3a\"], [0.8888888888888888, \"#fdca26\"], [1.0, \"#f0f921\"]]}, \"colorway\": [\"#636efa\", \"#EF553B\", \"#00cc96\", \"#ab63fa\", \"#FFA15A\", \"#19d3f3\", \"#FF6692\", \"#B6E880\", \"#FF97FF\", \"#FECB52\"], \"font\": {\"color\": \"#2a3f5f\"}, \"geo\": {\"bgcolor\": \"white\", \"lakecolor\": \"white\", \"landcolor\": \"#E5ECF6\", \"showlakes\": true, \"showland\": true, \"subunitcolor\": \"white\"}, \"hoverlabel\": {\"align\": \"left\"}, \"hovermode\": \"closest\", \"mapbox\": {\"style\": \"light\"}, \"paper_bgcolor\": \"white\", \"plot_bgcolor\": \"#E5ECF6\", \"polar\": {\"angularaxis\": {\"gridcolor\": \"white\", \"linecolor\": \"white\", \"ticks\": \"\"}, \"bgcolor\": \"#E5ECF6\", \"radialaxis\": {\"gridcolor\": \"white\", \"linecolor\": \"white\", \"ticks\": \"\"}}, \"scene\": {\"xaxis\": {\"backgroundcolor\": \"#E5ECF6\", \"gridcolor\": \"white\", \"gridwidth\": 2, \"linecolor\": \"white\", \"showbackground\": true, \"ticks\": \"\", \"zerolinecolor\": \"white\"}, \"yaxis\": {\"backgroundcolor\": \"#E5ECF6\", \"gridcolor\": \"white\", \"gridwidth\": 2, \"linecolor\": \"white\", \"showbackground\": true, \"ticks\": \"\", \"zerolinecolor\": \"white\"}, \"zaxis\": {\"backgroundcolor\": \"#E5ECF6\", \"gridcolor\": \"white\", \"gridwidth\": 2, \"linecolor\": \"white\", \"showbackground\": true, \"ticks\": \"\", \"zerolinecolor\": \"white\"}}, \"shapedefaults\": {\"line\": {\"color\": \"#2a3f5f\"}}, \"ternary\": {\"aaxis\": {\"gridcolor\": \"white\", \"linecolor\": \"white\", \"ticks\": \"\"}, \"baxis\": {\"gridcolor\": \"white\", \"linecolor\": \"white\", \"ticks\": \"\"}, \"bgcolor\": \"#E5ECF6\", \"caxis\": {\"gridcolor\": \"white\", \"linecolor\": \"white\", \"ticks\": \"\"}}, \"title\": {\"x\": 0.05}, \"xaxis\": {\"automargin\": true, \"gridcolor\": \"white\", \"linecolor\": \"white\", \"ticks\": \"\", \"title\": {\"standoff\": 15}, \"zerolinecolor\": \"white\", \"zerolinewidth\": 2}, \"yaxis\": {\"automargin\": true, \"gridcolor\": \"white\", \"linecolor\": \"white\", \"ticks\": \"\", \"title\": {\"standoff\": 15}, \"zerolinecolor\": \"white\", \"zerolinewidth\": 2}}}, \"xaxis\": {\"anchor\": \"y\", \"categoryarray\": [\"1.0\", \"1.5\", \"2.0\", \"2.5\", \"3.0\", \"3.5\", \"4.0\", \"4.5\", \"5.0\"], \"categoryorder\": \"array\", \"domain\": [0.0, 1.0], \"title\": {\"text\": \"LOR\"}}, \"yaxis\": {\"anchor\": \"x\", \"domain\": [0.0, 1.0], \"title\": {\"text\": \"counts\"}}},                        {\"responsive\": true}                    ).then(function(){\n",
       "                            \n",
       "var gd = document.getElementById('4ca3e88f-3f5c-487f-9a47-f4c96b9f0148');\n",
       "var x = new MutationObserver(function (mutations, observer) {{\n",
       "        var display = window.getComputedStyle(gd).display;\n",
       "        if (!display || display === 'none') {{\n",
       "            console.log([gd, 'removed!']);\n",
       "            Plotly.purge(gd);\n",
       "            observer.disconnect();\n",
       "        }}\n",
       "}});\n",
       "\n",
       "// Listen for the removal of the full notebook cells\n",
       "var notebookContainer = gd.closest('#notebook-container');\n",
       "if (notebookContainer) {{\n",
       "    x.observe(notebookContainer, {childList: true});\n",
       "}}\n",
       "\n",
       "// Listen for the clearing of the current output cell\n",
       "var outputEl = gd.closest('.output');\n",
       "if (outputEl) {{\n",
       "    x.observe(outputEl, {childList: true});\n",
       "}}\n",
       "\n",
       "                        })                };                });            </script>        </div>"
      ]
     },
     "metadata": {},
     "output_type": "display_data"
    }
   ],
   "source": [
    "px.bar(\n",
    "    data_frame=temp_df,\n",
    "    x=\"LOR\",\n",
    "    y=\"counts\",\n",
    "    color=\"LOR\",\n",
    "    color_discrete_sequence=px.colors.qualitative.Prism,\n",
    ")"
   ]
  },
  {
   "cell_type": "markdown",
   "metadata": {
    "papermill": {
     "duration": 0.114513,
     "end_time": "2020-12-28T20:41:59.125371",
     "exception": false,
     "start_time": "2020-12-28T20:41:59.010858",
     "status": "completed"
    },
    "tags": []
   },
   "source": [
    "Most of the students rated the strength of ther *Letter of Recommendation* between `3` and `4`."
   ]
  },
  {
   "cell_type": "markdown",
   "metadata": {
    "papermill": {
     "duration": 0.117808,
     "end_time": "2020-12-28T20:41:59.363659",
     "exception": false,
     "start_time": "2020-12-28T20:41:59.245851",
     "status": "completed"
    },
    "tags": []
   },
   "source": [
    "### `CGPA`"
   ]
  },
  {
   "cell_type": "markdown",
   "metadata": {
    "papermill": {
     "duration": 0.115909,
     "end_time": "2020-12-28T20:41:59.594725",
     "exception": false,
     "start_time": "2020-12-28T20:41:59.478816",
     "status": "completed"
    },
    "tags": []
   },
   "source": [
    "The `CGPA` stands for the student's *cumulative grade point average*, which represents the average of grade points obtained in all the subjects by the student.\n",
    "\n",
    "It's a continuous variable, on a scale 0-10."
   ]
  },
  {
   "cell_type": "code",
   "execution_count": 44,
   "metadata": {
    "execution": {
     "iopub.execute_input": "2020-12-28T20:41:59.841910Z",
     "iopub.status.busy": "2020-12-28T20:41:59.837994Z",
     "iopub.status.idle": "2020-12-28T20:41:59.846172Z",
     "shell.execute_reply": "2020-12-28T20:41:59.846807Z"
    },
    "papermill": {
     "duration": 0.133352,
     "end_time": "2020-12-28T20:41:59.846954",
     "exception": false,
     "start_time": "2020-12-28T20:41:59.713602",
     "status": "completed"
    },
    "tags": []
   },
   "outputs": [
    {
     "data": {
      "text/plain": [
       "count    500.000000\n",
       "mean       8.576440\n",
       "std        0.604813\n",
       "min        6.800000\n",
       "25%        8.127500\n",
       "50%        8.560000\n",
       "75%        9.040000\n",
       "max        9.920000\n",
       "Name: CGPA, dtype: float64"
      ]
     },
     "execution_count": 44,
     "metadata": {},
     "output_type": "execute_result"
    }
   ],
   "source": [
    "df[\"CGPA\"].describe()"
   ]
  },
  {
   "cell_type": "code",
   "execution_count": 45,
   "metadata": {
    "execution": {
     "iopub.execute_input": "2020-12-28T20:42:00.087674Z",
     "iopub.status.busy": "2020-12-28T20:42:00.086629Z",
     "iopub.status.idle": "2020-12-28T20:42:00.093716Z",
     "shell.execute_reply": "2020-12-28T20:42:00.094303Z"
    },
    "papermill": {
     "duration": 0.127724,
     "end_time": "2020-12-28T20:42:00.094455",
     "exception": false,
     "start_time": "2020-12-28T20:41:59.966731",
     "status": "completed"
    },
    "tags": []
   },
   "outputs": [
    {
     "name": "stdout",
     "output_type": "stream",
     "text": [
      "-0.026532613141817388\n"
     ]
    }
   ],
   "source": [
    "print(stats.skew(df[\"CGPA\"]))"
   ]
  },
  {
   "cell_type": "code",
   "execution_count": 46,
   "metadata": {
    "execution": {
     "iopub.execute_input": "2020-12-28T20:42:00.332150Z",
     "iopub.status.busy": "2020-12-28T20:42:00.331090Z",
     "iopub.status.idle": "2020-12-28T20:42:00.422470Z",
     "shell.execute_reply": "2020-12-28T20:42:00.422931Z"
    },
    "papermill": {
     "duration": 0.212795,
     "end_time": "2020-12-28T20:42:00.423096",
     "exception": false,
     "start_time": "2020-12-28T20:42:00.210301",
     "status": "completed"
    },
    "tags": []
   },
   "outputs": [
    {
     "data": {
      "text/html": [
       "<div>                            <div id=\"62f775b2-19a9-4135-99f0-8739eed2ae0a\" class=\"plotly-graph-div\" style=\"height:525px; width:100%;\"></div>            <script type=\"text/javascript\">                require([\"plotly\"], function(Plotly) {                    window.PLOTLYENV=window.PLOTLYENV || {};                                    if (document.getElementById(\"62f775b2-19a9-4135-99f0-8739eed2ae0a\")) {                    Plotly.newPlot(                        \"62f775b2-19a9-4135-99f0-8739eed2ae0a\",                        [{\"alignmentgroup\": \"True\", \"bingroup\": \"x\", \"hovertemplate\": \"CGPA=%{x}<br>count=%{y}<extra></extra>\", \"legendgroup\": \"\", \"marker\": {\"color\": \"#636efa\"}, \"name\": \"\", \"nbinsx\": 12, \"offsetgroup\": \"\", \"orientation\": \"v\", \"showlegend\": false, \"type\": \"histogram\", \"x\": [8.54, 7.2, 8.03, 9.12, 7.64, 7.8, 7.5, 8.01, 7.95, 7.23, 7.65, 7.46, 8.53, 7.56, 8.01, 7.65, 6.8, 8.66, 8.43, 7.89, 7.88, 7.46, 7.9, 7.68, 7.57, 8.18, 7.25, 7.56, 7.43, 7.36, 8.0, 7.86, 8.02, 7.34, 8.47, 8.0, 8.32, 9.02, 7.28, 7.88, 7.88, 8.57, 8.32, 8.56, 7.66, 7.65, 8.56, 7.65, 7.88, 7.64, 7.87, 8.12, 7.97, 8.25, 7.43, 8.01, 8.44, 8.73, 7.8, 7.96, 8.1, 7.98, 8.03, 8.54, 9.0, 8.14, 8.26, 8.36, 8.76, 7.8, 8.45, 8.74, 8.26, 7.64, 8.22, 7.79, 8.49, 8.62, 8.48, 8.46, 7.68, 8.42, 8.16, 9.15, 9.36, 7.86, 8.78, 8.96, 8.64, 9.08, 8.03, 8.0, 7.92, 8.34, 7.5, 7.3, 8.1, 8.16, 7.89, 8.36, 7.65, 8.4, 7.7, 8.27, 8.2, 8.5, 7.86, 8.12, 8.53, 8.12, 8.45, 7.89, 8.45, 8.12, 8.21, 8.22, 7.67, 7.9, 8.23, 8.06, 8.03, 8.22, 8.34, 7.64, 7.34, 8.13, 8.07, 8.76, 7.89, 8.18, 8.33, 8.24, 8.26, 8.52, 7.21, 8.56, 8.22, 7.54, 8.15, 8.43, 8.45, 8.76, 7.98, 8.28, 8.13, 8.64, 8.46, 8.04, 7.6, 8.27, 8.07, 7.86, 8.5, 8.2, 8.1, 7.9, 8.3, 8.13, 8.15, 8.24, 9.04, 8.76, 8.65, 8.67, 8.73, 8.33, 8.57, 8.87, 8.65, 8.37, 8.44, 9.0, 8.64, 8.8, 8.5, 8.44, 8.33, 9.14, 8.02, 8.66, 8.21, 8.54, 8.04, 8.34, 8.9, 8.46, 8.76, 8.24, 8.04, 8.27, 8.64, 8.17, 8.77, 8.79, 8.74, 9.22, 8.53, 8.26, 8.67, 8.09, 8.79, 8.68, 8.17, 8.84, 8.96, 8.64, 9.11, 8.79, 8.9, 8.54, 9.04, 8.67, 9.11, 9.24, 8.65, 8.55, 8.8, 9.1, 8.56, 8.56, 8.83, 8.42, 8.2, 8.7, 8.09, 9.02, 9.22, 8.9, 8.72, 8.02, 7.86, 8.13, 8.42, 8.14, 7.66, 7.66, 8.96, 8.88, 8.46, 9.05, 8.78, 8.75, 8.34, 8.45, 9.13, 8.62, 8.97, 7.4, 8.22, 7.7, 8.3, 8.45, 8.0, 8.67, 8.2, 8.6, 8.4, 8.0, 8.2, 8.3, 8.7, 8.0, 8.8, 8.5, 7.9, 8.5, 8.62, 8.37, 8.3, 7.89, 9.01, 8.0, 8.49, 8.12, 7.88, 8.85, 8.0, 8.66, 8.76, 8.71, 8.27, 7.42, 7.68, 8.1, 9.32, 8.12, 8.16, 8.8, 8.68, 7.94, 7.67, 8.33, 7.95, 8.43, 8.69, 8.54, 7.45, 8.54, 8.02, 8.12, 7.64, 8.94, 8.78, 9.11, 8.76, 8.95, 9.04, 8.27, 8.13, 8.65, 8.57, 8.75, 8.89, 8.45, 9.11, 8.34, 8.5, 8.69, 8.48, 8.56, 9.1, 8.21, 9.54, 9.44, 9.6, 9.25, 9.45, 9.12, 8.02, 9.23, 9.66, 9.22, 9.23, 7.69, 8.54, 7.81, 9.67, 8.86, 9.62, 9.17, 9.15, 8.26, 8.73, 8.88, 9.16, 9.74, 7.94, 8.66, 9.14, 9.36, 9.48, 7.95, 8.35, 8.18, 8.96, 7.88, 8.48, 9.02, 8.75, 8.77, 9.65, 9.8, 9.04, 7.46, 8.36, 8.47, 8.77, 9.92, 8.67, 8.68, 9.43, 9.13, 9.23, 8.97, 8.87, 9.16, 9.11, 9.06, 9.01, 9.14, 9.46, 9.24, 8.87, 9.0, 9.1, 8.4, 9.4, 9.1, 8.4, 9.18, 8.0, 8.92, 9.16, 9.04, 9.5, 8.66, 8.76, 7.84, 8.1, 9.66, 9.04, 9.66, 9.12, 9.18, 9.68, 8.43, 8.6, 9.02, 8.77, 9.0, 8.37, 8.65, 9.17, 9.0, 9.02, 9.01, 8.69, 8.97, 8.34, 8.76, 9.26, 9.11, 9.13, 9.14, 9.34, 9.42, 8.79, 9.45, 9.22, 9.27, 9.64, 8.78, 9.76, 9.08, 9.36, 9.45, 9.78, 9.3, 9.56, 9.87, 9.02, 9.23, 9.34, 8.74, 9.47, 9.5, 9.7, 9.7, 9.6, 8.8, 7.92, 9.6, 9.8, 9.2, 9.4, 9.19, 9.8, 9.1, 9.13, 9.45, 9.46, 9.54, 9.19, 8.97, 9.07, 9.23, 9.31, 9.44, 9.36, 9.08, 9.16, 8.98, 8.94, 9.53, 9.91, 9.87, 9.36, 9.86, 9.26, 9.06, 9.06, 9.38, 8.64, 8.48, 8.84, 9.56, 9.08, 9.25, 9.16, 9.48, 9.82, 9.35, 9.76, 8.65, 8.56, 8.78, 9.28, 9.44, 9.28, 8.66], \"xaxis\": \"x\", \"yaxis\": \"y\"}, {\"alignmentgroup\": \"True\", \"hovertemplate\": \"CGPA=%{x}<extra></extra>\", \"legendgroup\": \"\", \"marker\": {\"color\": \"#636efa\"}, \"name\": \"\", \"notched\": true, \"offsetgroup\": \"\", \"showlegend\": false, \"type\": \"box\", \"x\": [8.54, 7.2, 8.03, 9.12, 7.64, 7.8, 7.5, 8.01, 7.95, 7.23, 7.65, 7.46, 8.53, 7.56, 8.01, 7.65, 6.8, 8.66, 8.43, 7.89, 7.88, 7.46, 7.9, 7.68, 7.57, 8.18, 7.25, 7.56, 7.43, 7.36, 8.0, 7.86, 8.02, 7.34, 8.47, 8.0, 8.32, 9.02, 7.28, 7.88, 7.88, 8.57, 8.32, 8.56, 7.66, 7.65, 8.56, 7.65, 7.88, 7.64, 7.87, 8.12, 7.97, 8.25, 7.43, 8.01, 8.44, 8.73, 7.8, 7.96, 8.1, 7.98, 8.03, 8.54, 9.0, 8.14, 8.26, 8.36, 8.76, 7.8, 8.45, 8.74, 8.26, 7.64, 8.22, 7.79, 8.49, 8.62, 8.48, 8.46, 7.68, 8.42, 8.16, 9.15, 9.36, 7.86, 8.78, 8.96, 8.64, 9.08, 8.03, 8.0, 7.92, 8.34, 7.5, 7.3, 8.1, 8.16, 7.89, 8.36, 7.65, 8.4, 7.7, 8.27, 8.2, 8.5, 7.86, 8.12, 8.53, 8.12, 8.45, 7.89, 8.45, 8.12, 8.21, 8.22, 7.67, 7.9, 8.23, 8.06, 8.03, 8.22, 8.34, 7.64, 7.34, 8.13, 8.07, 8.76, 7.89, 8.18, 8.33, 8.24, 8.26, 8.52, 7.21, 8.56, 8.22, 7.54, 8.15, 8.43, 8.45, 8.76, 7.98, 8.28, 8.13, 8.64, 8.46, 8.04, 7.6, 8.27, 8.07, 7.86, 8.5, 8.2, 8.1, 7.9, 8.3, 8.13, 8.15, 8.24, 9.04, 8.76, 8.65, 8.67, 8.73, 8.33, 8.57, 8.87, 8.65, 8.37, 8.44, 9.0, 8.64, 8.8, 8.5, 8.44, 8.33, 9.14, 8.02, 8.66, 8.21, 8.54, 8.04, 8.34, 8.9, 8.46, 8.76, 8.24, 8.04, 8.27, 8.64, 8.17, 8.77, 8.79, 8.74, 9.22, 8.53, 8.26, 8.67, 8.09, 8.79, 8.68, 8.17, 8.84, 8.96, 8.64, 9.11, 8.79, 8.9, 8.54, 9.04, 8.67, 9.11, 9.24, 8.65, 8.55, 8.8, 9.1, 8.56, 8.56, 8.83, 8.42, 8.2, 8.7, 8.09, 9.02, 9.22, 8.9, 8.72, 8.02, 7.86, 8.13, 8.42, 8.14, 7.66, 7.66, 8.96, 8.88, 8.46, 9.05, 8.78, 8.75, 8.34, 8.45, 9.13, 8.62, 8.97, 7.4, 8.22, 7.7, 8.3, 8.45, 8.0, 8.67, 8.2, 8.6, 8.4, 8.0, 8.2, 8.3, 8.7, 8.0, 8.8, 8.5, 7.9, 8.5, 8.62, 8.37, 8.3, 7.89, 9.01, 8.0, 8.49, 8.12, 7.88, 8.85, 8.0, 8.66, 8.76, 8.71, 8.27, 7.42, 7.68, 8.1, 9.32, 8.12, 8.16, 8.8, 8.68, 7.94, 7.67, 8.33, 7.95, 8.43, 8.69, 8.54, 7.45, 8.54, 8.02, 8.12, 7.64, 8.94, 8.78, 9.11, 8.76, 8.95, 9.04, 8.27, 8.13, 8.65, 8.57, 8.75, 8.89, 8.45, 9.11, 8.34, 8.5, 8.69, 8.48, 8.56, 9.1, 8.21, 9.54, 9.44, 9.6, 9.25, 9.45, 9.12, 8.02, 9.23, 9.66, 9.22, 9.23, 7.69, 8.54, 7.81, 9.67, 8.86, 9.62, 9.17, 9.15, 8.26, 8.73, 8.88, 9.16, 9.74, 7.94, 8.66, 9.14, 9.36, 9.48, 7.95, 8.35, 8.18, 8.96, 7.88, 8.48, 9.02, 8.75, 8.77, 9.65, 9.8, 9.04, 7.46, 8.36, 8.47, 8.77, 9.92, 8.67, 8.68, 9.43, 9.13, 9.23, 8.97, 8.87, 9.16, 9.11, 9.06, 9.01, 9.14, 9.46, 9.24, 8.87, 9.0, 9.1, 8.4, 9.4, 9.1, 8.4, 9.18, 8.0, 8.92, 9.16, 9.04, 9.5, 8.66, 8.76, 7.84, 8.1, 9.66, 9.04, 9.66, 9.12, 9.18, 9.68, 8.43, 8.6, 9.02, 8.77, 9.0, 8.37, 8.65, 9.17, 9.0, 9.02, 9.01, 8.69, 8.97, 8.34, 8.76, 9.26, 9.11, 9.13, 9.14, 9.34, 9.42, 8.79, 9.45, 9.22, 9.27, 9.64, 8.78, 9.76, 9.08, 9.36, 9.45, 9.78, 9.3, 9.56, 9.87, 9.02, 9.23, 9.34, 8.74, 9.47, 9.5, 9.7, 9.7, 9.6, 8.8, 7.92, 9.6, 9.8, 9.2, 9.4, 9.19, 9.8, 9.1, 9.13, 9.45, 9.46, 9.54, 9.19, 8.97, 9.07, 9.23, 9.31, 9.44, 9.36, 9.08, 9.16, 8.98, 8.94, 9.53, 9.91, 9.87, 9.36, 9.86, 9.26, 9.06, 9.06, 9.38, 8.64, 8.48, 8.84, 9.56, 9.08, 9.25, 9.16, 9.48, 9.82, 9.35, 9.76, 8.65, 8.56, 8.78, 9.28, 9.44, 9.28, 8.66], \"xaxis\": \"x2\", \"yaxis\": \"y2\"}],                        {\"barmode\": \"relative\", \"legend\": {\"tracegroupgap\": 0}, \"margin\": {\"t\": 60}, \"template\": {\"data\": {\"bar\": [{\"error_x\": {\"color\": \"#2a3f5f\"}, \"error_y\": {\"color\": \"#2a3f5f\"}, \"marker\": {\"line\": {\"color\": \"#E5ECF6\", \"width\": 0.5}}, \"type\": \"bar\"}], \"barpolar\": [{\"marker\": {\"line\": {\"color\": \"#E5ECF6\", \"width\": 0.5}}, \"type\": \"barpolar\"}], \"carpet\": [{\"aaxis\": {\"endlinecolor\": \"#2a3f5f\", \"gridcolor\": \"white\", \"linecolor\": \"white\", \"minorgridcolor\": \"white\", \"startlinecolor\": \"#2a3f5f\"}, \"baxis\": {\"endlinecolor\": \"#2a3f5f\", \"gridcolor\": \"white\", \"linecolor\": \"white\", \"minorgridcolor\": \"white\", \"startlinecolor\": \"#2a3f5f\"}, \"type\": \"carpet\"}], \"choropleth\": [{\"colorbar\": {\"outlinewidth\": 0, \"ticks\": \"\"}, \"type\": \"choropleth\"}], \"contour\": [{\"colorbar\": {\"outlinewidth\": 0, \"ticks\": \"\"}, \"colorscale\": [[0.0, \"#0d0887\"], [0.1111111111111111, \"#46039f\"], [0.2222222222222222, \"#7201a8\"], [0.3333333333333333, \"#9c179e\"], [0.4444444444444444, \"#bd3786\"], [0.5555555555555556, \"#d8576b\"], [0.6666666666666666, \"#ed7953\"], [0.7777777777777778, \"#fb9f3a\"], [0.8888888888888888, \"#fdca26\"], [1.0, \"#f0f921\"]], \"type\": \"contour\"}], \"contourcarpet\": [{\"colorbar\": {\"outlinewidth\": 0, \"ticks\": \"\"}, \"type\": \"contourcarpet\"}], \"heatmap\": [{\"colorbar\": {\"outlinewidth\": 0, \"ticks\": \"\"}, \"colorscale\": [[0.0, \"#0d0887\"], [0.1111111111111111, \"#46039f\"], [0.2222222222222222, \"#7201a8\"], [0.3333333333333333, \"#9c179e\"], [0.4444444444444444, \"#bd3786\"], [0.5555555555555556, \"#d8576b\"], [0.6666666666666666, \"#ed7953\"], [0.7777777777777778, \"#fb9f3a\"], [0.8888888888888888, \"#fdca26\"], [1.0, \"#f0f921\"]], \"type\": \"heatmap\"}], \"heatmapgl\": [{\"colorbar\": {\"outlinewidth\": 0, \"ticks\": \"\"}, \"colorscale\": [[0.0, \"#0d0887\"], [0.1111111111111111, \"#46039f\"], [0.2222222222222222, \"#7201a8\"], [0.3333333333333333, \"#9c179e\"], [0.4444444444444444, \"#bd3786\"], [0.5555555555555556, \"#d8576b\"], [0.6666666666666666, \"#ed7953\"], [0.7777777777777778, \"#fb9f3a\"], [0.8888888888888888, \"#fdca26\"], [1.0, \"#f0f921\"]], \"type\": \"heatmapgl\"}], \"histogram\": [{\"marker\": {\"colorbar\": {\"outlinewidth\": 0, \"ticks\": \"\"}}, \"type\": \"histogram\"}], \"histogram2d\": [{\"colorbar\": {\"outlinewidth\": 0, \"ticks\": \"\"}, \"colorscale\": [[0.0, \"#0d0887\"], [0.1111111111111111, \"#46039f\"], [0.2222222222222222, \"#7201a8\"], [0.3333333333333333, \"#9c179e\"], [0.4444444444444444, \"#bd3786\"], [0.5555555555555556, \"#d8576b\"], [0.6666666666666666, \"#ed7953\"], [0.7777777777777778, \"#fb9f3a\"], [0.8888888888888888, \"#fdca26\"], [1.0, \"#f0f921\"]], \"type\": \"histogram2d\"}], \"histogram2dcontour\": [{\"colorbar\": {\"outlinewidth\": 0, \"ticks\": \"\"}, \"colorscale\": [[0.0, \"#0d0887\"], [0.1111111111111111, \"#46039f\"], [0.2222222222222222, \"#7201a8\"], [0.3333333333333333, \"#9c179e\"], [0.4444444444444444, \"#bd3786\"], [0.5555555555555556, \"#d8576b\"], [0.6666666666666666, \"#ed7953\"], [0.7777777777777778, \"#fb9f3a\"], [0.8888888888888888, \"#fdca26\"], [1.0, \"#f0f921\"]], \"type\": \"histogram2dcontour\"}], \"mesh3d\": [{\"colorbar\": {\"outlinewidth\": 0, \"ticks\": \"\"}, \"type\": \"mesh3d\"}], \"parcoords\": [{\"line\": {\"colorbar\": {\"outlinewidth\": 0, \"ticks\": \"\"}}, \"type\": \"parcoords\"}], \"pie\": [{\"automargin\": true, \"type\": \"pie\"}], \"scatter\": [{\"marker\": {\"colorbar\": {\"outlinewidth\": 0, \"ticks\": \"\"}}, \"type\": \"scatter\"}], \"scatter3d\": [{\"line\": {\"colorbar\": {\"outlinewidth\": 0, \"ticks\": \"\"}}, \"marker\": {\"colorbar\": {\"outlinewidth\": 0, \"ticks\": \"\"}}, \"type\": \"scatter3d\"}], \"scattercarpet\": [{\"marker\": {\"colorbar\": {\"outlinewidth\": 0, \"ticks\": \"\"}}, \"type\": \"scattercarpet\"}], \"scattergeo\": [{\"marker\": {\"colorbar\": {\"outlinewidth\": 0, \"ticks\": \"\"}}, \"type\": \"scattergeo\"}], \"scattergl\": [{\"marker\": {\"colorbar\": {\"outlinewidth\": 0, \"ticks\": \"\"}}, \"type\": \"scattergl\"}], \"scattermapbox\": [{\"marker\": {\"colorbar\": {\"outlinewidth\": 0, \"ticks\": \"\"}}, \"type\": \"scattermapbox\"}], \"scatterpolar\": [{\"marker\": {\"colorbar\": {\"outlinewidth\": 0, \"ticks\": \"\"}}, \"type\": \"scatterpolar\"}], \"scatterpolargl\": [{\"marker\": {\"colorbar\": {\"outlinewidth\": 0, \"ticks\": \"\"}}, \"type\": \"scatterpolargl\"}], \"scatterternary\": [{\"marker\": {\"colorbar\": {\"outlinewidth\": 0, \"ticks\": \"\"}}, \"type\": \"scatterternary\"}], \"surface\": [{\"colorbar\": {\"outlinewidth\": 0, \"ticks\": \"\"}, \"colorscale\": [[0.0, \"#0d0887\"], [0.1111111111111111, \"#46039f\"], [0.2222222222222222, \"#7201a8\"], [0.3333333333333333, \"#9c179e\"], [0.4444444444444444, \"#bd3786\"], [0.5555555555555556, \"#d8576b\"], [0.6666666666666666, \"#ed7953\"], [0.7777777777777778, \"#fb9f3a\"], [0.8888888888888888, \"#fdca26\"], [1.0, \"#f0f921\"]], \"type\": \"surface\"}], \"table\": [{\"cells\": {\"fill\": {\"color\": \"#EBF0F8\"}, \"line\": {\"color\": \"white\"}}, \"header\": {\"fill\": {\"color\": \"#C8D4E3\"}, \"line\": {\"color\": \"white\"}}, \"type\": \"table\"}]}, \"layout\": {\"annotationdefaults\": {\"arrowcolor\": \"#2a3f5f\", \"arrowhead\": 0, \"arrowwidth\": 1}, \"autotypenumbers\": \"strict\", \"coloraxis\": {\"colorbar\": {\"outlinewidth\": 0, \"ticks\": \"\"}}, \"colorscale\": {\"diverging\": [[0, \"#8e0152\"], [0.1, \"#c51b7d\"], [0.2, \"#de77ae\"], [0.3, \"#f1b6da\"], [0.4, \"#fde0ef\"], [0.5, \"#f7f7f7\"], [0.6, \"#e6f5d0\"], [0.7, \"#b8e186\"], [0.8, \"#7fbc41\"], [0.9, \"#4d9221\"], [1, \"#276419\"]], \"sequential\": [[0.0, \"#0d0887\"], [0.1111111111111111, \"#46039f\"], [0.2222222222222222, \"#7201a8\"], [0.3333333333333333, \"#9c179e\"], [0.4444444444444444, \"#bd3786\"], [0.5555555555555556, \"#d8576b\"], [0.6666666666666666, \"#ed7953\"], [0.7777777777777778, \"#fb9f3a\"], [0.8888888888888888, \"#fdca26\"], [1.0, \"#f0f921\"]], \"sequentialminus\": [[0.0, \"#0d0887\"], [0.1111111111111111, \"#46039f\"], [0.2222222222222222, \"#7201a8\"], [0.3333333333333333, \"#9c179e\"], [0.4444444444444444, \"#bd3786\"], [0.5555555555555556, \"#d8576b\"], [0.6666666666666666, \"#ed7953\"], [0.7777777777777778, \"#fb9f3a\"], [0.8888888888888888, \"#fdca26\"], [1.0, \"#f0f921\"]]}, \"colorway\": [\"#636efa\", \"#EF553B\", \"#00cc96\", \"#ab63fa\", \"#FFA15A\", \"#19d3f3\", \"#FF6692\", \"#B6E880\", \"#FF97FF\", \"#FECB52\"], \"font\": {\"color\": \"#2a3f5f\"}, \"geo\": {\"bgcolor\": \"white\", \"lakecolor\": \"white\", \"landcolor\": \"#E5ECF6\", \"showlakes\": true, \"showland\": true, \"subunitcolor\": \"white\"}, \"hoverlabel\": {\"align\": \"left\"}, \"hovermode\": \"closest\", \"mapbox\": {\"style\": \"light\"}, \"paper_bgcolor\": \"white\", \"plot_bgcolor\": \"#E5ECF6\", \"polar\": {\"angularaxis\": {\"gridcolor\": \"white\", \"linecolor\": \"white\", \"ticks\": \"\"}, \"bgcolor\": \"#E5ECF6\", \"radialaxis\": {\"gridcolor\": \"white\", \"linecolor\": \"white\", \"ticks\": \"\"}}, \"scene\": {\"xaxis\": {\"backgroundcolor\": \"#E5ECF6\", \"gridcolor\": \"white\", \"gridwidth\": 2, \"linecolor\": \"white\", \"showbackground\": true, \"ticks\": \"\", \"zerolinecolor\": \"white\"}, \"yaxis\": {\"backgroundcolor\": \"#E5ECF6\", \"gridcolor\": \"white\", \"gridwidth\": 2, \"linecolor\": \"white\", \"showbackground\": true, \"ticks\": \"\", \"zerolinecolor\": \"white\"}, \"zaxis\": {\"backgroundcolor\": \"#E5ECF6\", \"gridcolor\": \"white\", \"gridwidth\": 2, \"linecolor\": \"white\", \"showbackground\": true, \"ticks\": \"\", \"zerolinecolor\": \"white\"}}, \"shapedefaults\": {\"line\": {\"color\": \"#2a3f5f\"}}, \"ternary\": {\"aaxis\": {\"gridcolor\": \"white\", \"linecolor\": \"white\", \"ticks\": \"\"}, \"baxis\": {\"gridcolor\": \"white\", \"linecolor\": \"white\", \"ticks\": \"\"}, \"bgcolor\": \"#E5ECF6\", \"caxis\": {\"gridcolor\": \"white\", \"linecolor\": \"white\", \"ticks\": \"\"}}, \"title\": {\"x\": 0.05}, \"xaxis\": {\"automargin\": true, \"gridcolor\": \"white\", \"linecolor\": \"white\", \"ticks\": \"\", \"title\": {\"standoff\": 15}, \"zerolinecolor\": \"white\", \"zerolinewidth\": 2}, \"yaxis\": {\"automargin\": true, \"gridcolor\": \"white\", \"linecolor\": \"white\", \"ticks\": \"\", \"title\": {\"standoff\": 15}, \"zerolinecolor\": \"white\", \"zerolinewidth\": 2}}}, \"xaxis\": {\"anchor\": \"y\", \"domain\": [0.0, 1.0], \"title\": {\"text\": \"CGPA\"}}, \"xaxis2\": {\"anchor\": \"y2\", \"domain\": [0.0, 1.0], \"matches\": \"x\", \"showgrid\": true, \"showticklabels\": false}, \"yaxis\": {\"anchor\": \"x\", \"domain\": [0.0, 0.8316], \"title\": {\"text\": \"count\"}}, \"yaxis2\": {\"anchor\": \"x2\", \"domain\": [0.8416, 1.0], \"matches\": \"y2\", \"showgrid\": false, \"showline\": false, \"showticklabels\": false, \"ticks\": \"\"}},                        {\"responsive\": true}                    ).then(function(){\n",
       "                            \n",
       "var gd = document.getElementById('62f775b2-19a9-4135-99f0-8739eed2ae0a');\n",
       "var x = new MutationObserver(function (mutations, observer) {{\n",
       "        var display = window.getComputedStyle(gd).display;\n",
       "        if (!display || display === 'none') {{\n",
       "            console.log([gd, 'removed!']);\n",
       "            Plotly.purge(gd);\n",
       "            observer.disconnect();\n",
       "        }}\n",
       "}});\n",
       "\n",
       "// Listen for the removal of the full notebook cells\n",
       "var notebookContainer = gd.closest('#notebook-container');\n",
       "if (notebookContainer) {{\n",
       "    x.observe(notebookContainer, {childList: true});\n",
       "}}\n",
       "\n",
       "// Listen for the clearing of the current output cell\n",
       "var outputEl = gd.closest('.output');\n",
       "if (outputEl) {{\n",
       "    x.observe(outputEl, {childList: true});\n",
       "}}\n",
       "\n",
       "                        })                };                });            </script>        </div>"
      ]
     },
     "metadata": {},
     "output_type": "display_data"
    }
   ],
   "source": [
    "px.histogram(data_frame=df, x=\"CGPA\", marginal=\"box\", nbins=12)"
   ]
  },
  {
   "cell_type": "markdown",
   "metadata": {
    "papermill": {
     "duration": 0.114634,
     "end_time": "2020-12-28T20:42:00.653960",
     "exception": false,
     "start_time": "2020-12-28T20:42:00.539326",
     "status": "completed"
    },
    "tags": []
   },
   "source": [
    "As we can see, this variable is *very* close to a normal distribution, with a small negative (left) skewness, and there are no outliers."
   ]
  },
  {
   "cell_type": "markdown",
   "metadata": {
    "papermill": {
     "duration": 0.121276,
     "end_time": "2020-12-28T20:42:00.891938",
     "exception": false,
     "start_time": "2020-12-28T20:42:00.770662",
     "status": "completed"
    },
    "tags": []
   },
   "source": [
    "### `Research`"
   ]
  },
  {
   "cell_type": "markdown",
   "metadata": {
    "papermill": {
     "duration": 0.116389,
     "end_time": "2020-12-28T20:42:01.128692",
     "exception": false,
     "start_time": "2020-12-28T20:42:01.012303",
     "status": "completed"
    },
    "tags": []
   },
   "source": [
    "The `Research` variable indicates whether the student has any research experience or not, so it's a `Binary` variable.\n",
    "\n",
    "Although, it would be better to have a variable like `Research duration` which expresses for how long was the student involved in a research activity."
   ]
  },
  {
   "cell_type": "code",
   "execution_count": 47,
   "metadata": {
    "execution": {
     "iopub.execute_input": "2020-12-28T20:42:01.374736Z",
     "iopub.status.busy": "2020-12-28T20:42:01.373643Z",
     "iopub.status.idle": "2020-12-28T20:42:01.381201Z",
     "shell.execute_reply": "2020-12-28T20:42:01.380680Z"
    },
    "papermill": {
     "duration": 0.131222,
     "end_time": "2020-12-28T20:42:01.381319",
     "exception": false,
     "start_time": "2020-12-28T20:42:01.250097",
     "status": "completed"
    },
    "tags": []
   },
   "outputs": [
    {
     "data": {
      "text/plain": [
       "True     280\n",
       "False    220\n",
       "Name: Research, dtype: int64"
      ]
     },
     "execution_count": 47,
     "metadata": {},
     "output_type": "execute_result"
    }
   ],
   "source": [
    "df[\"Research\"].value_counts()"
   ]
  },
  {
   "cell_type": "code",
   "execution_count": 48,
   "metadata": {
    "execution": {
     "iopub.execute_input": "2020-12-28T20:42:01.619296Z",
     "iopub.status.busy": "2020-12-28T20:42:01.618607Z",
     "iopub.status.idle": "2020-12-28T20:42:01.922574Z",
     "shell.execute_reply": "2020-12-28T20:42:01.921955Z"
    },
    "papermill": {
     "duration": 0.42481,
     "end_time": "2020-12-28T20:42:01.922690",
     "exception": false,
     "start_time": "2020-12-28T20:42:01.497880",
     "status": "completed"
    },
    "tags": []
   },
   "outputs": [
    {
     "data": {
      "text/plain": [
       "<seaborn.axisgrid.FacetGrid at 0x7f829e0b1650>"
      ]
     },
     "execution_count": 48,
     "metadata": {},
     "output_type": "execute_result"
    },
    {
     "data": {
      "image/png": "[encoded data removed]",
      "text/plain": [
       "<Figure size 360x360 with 1 Axes>"
      ]
     },
     "metadata": {},
     "output_type": "display_data"
    }
   ],
   "source": [
    "sns.catplot(data=df, x=\"Research\", kind=\"count\")"
   ]
  },
  {
   "cell_type": "code",
   "execution_count": 49,
   "metadata": {
    "execution": {
     "iopub.execute_input": "2020-12-28T20:42:02.174919Z",
     "iopub.status.busy": "2020-12-28T20:42:02.172721Z",
     "iopub.status.idle": "2020-12-28T20:42:02.179726Z",
     "shell.execute_reply": "2020-12-28T20:42:02.179137Z"
    },
    "papermill": {
     "duration": 0.13524,
     "end_time": "2020-12-28T20:42:02.179840",
     "exception": false,
     "start_time": "2020-12-28T20:42:02.044600",
     "status": "completed"
    },
    "tags": []
   },
   "outputs": [],
   "source": [
    "temp_df = df.groupby(by=\"Research\", as_index=False).agg(\n",
    "    counts=pd.NamedAgg(column=\"Research\", aggfunc=\"count\")\n",
    ")"
   ]
  },
  {
   "cell_type": "code",
   "execution_count": 50,
   "metadata": {
    "execution": {
     "iopub.execute_input": "2020-12-28T20:42:02.429160Z",
     "iopub.status.busy": "2020-12-28T20:42:02.428234Z",
     "iopub.status.idle": "2020-12-28T20:42:02.490400Z",
     "shell.execute_reply": "2020-12-28T20:42:02.490859Z"
    },
    "papermill": {
     "duration": 0.195351,
     "end_time": "2020-12-28T20:42:02.491008",
     "exception": false,
     "start_time": "2020-12-28T20:42:02.295657",
     "status": "completed"
    },
    "tags": []
   },
   "outputs": [
    {
     "data": {
      "text/html": [
       "<div>                            <div id=\"88f4f45f-59a4-4b9f-a1a6-2e8c8ff3e3fd\" class=\"plotly-graph-div\" style=\"height:525px; width:100%;\"></div>            <script type=\"text/javascript\">                require([\"plotly\"], function(Plotly) {                    window.PLOTLYENV=window.PLOTLYENV || {};                                    if (document.getElementById(\"88f4f45f-59a4-4b9f-a1a6-2e8c8ff3e3fd\")) {                    Plotly.newPlot(                        \"88f4f45f-59a4-4b9f-a1a6-2e8c8ff3e3fd\",                        [{\"alignmentgroup\": \"True\", \"hovertemplate\": \"Research=%{x}<br>counts=%{y}<extra></extra>\", \"legendgroup\": \"False\", \"marker\": {\"color\": \"#636efa\"}, \"name\": \"False\", \"offsetgroup\": \"False\", \"orientation\": \"v\", \"showlegend\": true, \"textposition\": \"auto\", \"type\": \"bar\", \"x\": [false], \"xaxis\": \"x\", \"y\": [220], \"yaxis\": \"y\"}, {\"alignmentgroup\": \"True\", \"hovertemplate\": \"Research=%{x}<br>counts=%{y}<extra></extra>\", \"legendgroup\": \"True\", \"marker\": {\"color\": \"#EF553B\"}, \"name\": \"True\", \"offsetgroup\": \"True\", \"orientation\": \"v\", \"showlegend\": true, \"textposition\": \"auto\", \"type\": \"bar\", \"x\": [true], \"xaxis\": \"x\", \"y\": [280], \"yaxis\": \"y\"}],                        {\"barmode\": \"relative\", \"legend\": {\"title\": {\"text\": \"Research\"}, \"tracegroupgap\": 0}, \"margin\": {\"t\": 60}, \"template\": {\"data\": {\"bar\": [{\"error_x\": {\"color\": \"#2a3f5f\"}, \"error_y\": {\"color\": \"#2a3f5f\"}, \"marker\": {\"line\": {\"color\": \"#E5ECF6\", \"width\": 0.5}}, \"type\": \"bar\"}], \"barpolar\": [{\"marker\": {\"line\": {\"color\": \"#E5ECF6\", \"width\": 0.5}}, \"type\": \"barpolar\"}], \"carpet\": [{\"aaxis\": {\"endlinecolor\": \"#2a3f5f\", \"gridcolor\": \"white\", \"linecolor\": \"white\", \"minorgridcolor\": \"white\", \"startlinecolor\": \"#2a3f5f\"}, \"baxis\": {\"endlinecolor\": \"#2a3f5f\", \"gridcolor\": \"white\", \"linecolor\": \"white\", \"minorgridcolor\": \"white\", \"startlinecolor\": \"#2a3f5f\"}, \"type\": \"carpet\"}], \"choropleth\": [{\"colorbar\": {\"outlinewidth\": 0, \"ticks\": \"\"}, \"type\": \"choropleth\"}], \"contour\": [{\"colorbar\": {\"outlinewidth\": 0, \"ticks\": \"\"}, \"colorscale\": [[0.0, \"#0d0887\"], [0.1111111111111111, \"#46039f\"], [0.2222222222222222, \"#7201a8\"], [0.3333333333333333, \"#9c179e\"], [0.4444444444444444, \"#bd3786\"], [0.5555555555555556, \"#d8576b\"], [0.6666666666666666, \"#ed7953\"], [0.7777777777777778, \"#fb9f3a\"], [0.8888888888888888, \"#fdca26\"], [1.0, \"#f0f921\"]], \"type\": \"contour\"}], \"contourcarpet\": [{\"colorbar\": {\"outlinewidth\": 0, \"ticks\": \"\"}, \"type\": \"contourcarpet\"}], \"heatmap\": [{\"colorbar\": {\"outlinewidth\": 0, \"ticks\": \"\"}, \"colorscale\": [[0.0, \"#0d0887\"], [0.1111111111111111, \"#46039f\"], [0.2222222222222222, \"#7201a8\"], [0.3333333333333333, \"#9c179e\"], [0.4444444444444444, \"#bd3786\"], [0.5555555555555556, \"#d8576b\"], [0.6666666666666666, \"#ed7953\"], [0.7777777777777778, \"#fb9f3a\"], [0.8888888888888888, \"#fdca26\"], [1.0, \"#f0f921\"]], \"type\": \"heatmap\"}], \"heatmapgl\": [{\"colorbar\": {\"outlinewidth\": 0, \"ticks\": \"\"}, \"colorscale\": [[0.0, \"#0d0887\"], [0.1111111111111111, \"#46039f\"], [0.2222222222222222, \"#7201a8\"], [0.3333333333333333, \"#9c179e\"], [0.4444444444444444, \"#bd3786\"], [0.5555555555555556, \"#d8576b\"], [0.6666666666666666, \"#ed7953\"], [0.7777777777777778, \"#fb9f3a\"], [0.8888888888888888, \"#fdca26\"], [1.0, \"#f0f921\"]], \"type\": \"heatmapgl\"}], \"histogram\": [{\"marker\": {\"colorbar\": {\"outlinewidth\": 0, \"ticks\": \"\"}}, \"type\": \"histogram\"}], \"histogram2d\": [{\"colorbar\": {\"outlinewidth\": 0, \"ticks\": \"\"}, \"colorscale\": [[0.0, \"#0d0887\"], [0.1111111111111111, \"#46039f\"], [0.2222222222222222, \"#7201a8\"], [0.3333333333333333, \"#9c179e\"], [0.4444444444444444, \"#bd3786\"], [0.5555555555555556, \"#d8576b\"], [0.6666666666666666, \"#ed7953\"], [0.7777777777777778, \"#fb9f3a\"], [0.8888888888888888, \"#fdca26\"], [1.0, \"#f0f921\"]], \"type\": \"histogram2d\"}], \"histogram2dcontour\": [{\"colorbar\": {\"outlinewidth\": 0, \"ticks\": \"\"}, \"colorscale\": [[0.0, \"#0d0887\"], [0.1111111111111111, \"#46039f\"], [0.2222222222222222, \"#7201a8\"], [0.3333333333333333, \"#9c179e\"], [0.4444444444444444, \"#bd3786\"], [0.5555555555555556, \"#d8576b\"], [0.6666666666666666, \"#ed7953\"], [0.7777777777777778, \"#fb9f3a\"], [0.8888888888888888, \"#fdca26\"], [1.0, \"#f0f921\"]], \"type\": \"histogram2dcontour\"}], \"mesh3d\": [{\"colorbar\": {\"outlinewidth\": 0, \"ticks\": \"\"}, \"type\": \"mesh3d\"}], \"parcoords\": [{\"line\": {\"colorbar\": {\"outlinewidth\": 0, \"ticks\": \"\"}}, \"type\": \"parcoords\"}], \"pie\": [{\"automargin\": true, \"type\": \"pie\"}], \"scatter\": [{\"marker\": {\"colorbar\": {\"outlinewidth\": 0, \"ticks\": \"\"}}, \"type\": \"scatter\"}], \"scatter3d\": [{\"line\": {\"colorbar\": {\"outlinewidth\": 0, \"ticks\": \"\"}}, \"marker\": {\"colorbar\": {\"outlinewidth\": 0, \"ticks\": \"\"}}, \"type\": \"scatter3d\"}], \"scattercarpet\": [{\"marker\": {\"colorbar\": {\"outlinewidth\": 0, \"ticks\": \"\"}}, \"type\": \"scattercarpet\"}], \"scattergeo\": [{\"marker\": {\"colorbar\": {\"outlinewidth\": 0, \"ticks\": \"\"}}, \"type\": \"scattergeo\"}], \"scattergl\": [{\"marker\": {\"colorbar\": {\"outlinewidth\": 0, \"ticks\": \"\"}}, \"type\": \"scattergl\"}], \"scattermapbox\": [{\"marker\": {\"colorbar\": {\"outlinewidth\": 0, \"ticks\": \"\"}}, \"type\": \"scattermapbox\"}], \"scatterpolar\": [{\"marker\": {\"colorbar\": {\"outlinewidth\": 0, \"ticks\": \"\"}}, \"type\": \"scatterpolar\"}], \"scatterpolargl\": [{\"marker\": {\"colorbar\": {\"outlinewidth\": 0, \"ticks\": \"\"}}, \"type\": \"scatterpolargl\"}], \"scatterternary\": [{\"marker\": {\"colorbar\": {\"outlinewidth\": 0, \"ticks\": \"\"}}, \"type\": \"scatterternary\"}], \"surface\": [{\"colorbar\": {\"outlinewidth\": 0, \"ticks\": \"\"}, \"colorscale\": [[0.0, \"#0d0887\"], [0.1111111111111111, \"#46039f\"], [0.2222222222222222, \"#7201a8\"], [0.3333333333333333, \"#9c179e\"], [0.4444444444444444, \"#bd3786\"], [0.5555555555555556, \"#d8576b\"], [0.6666666666666666, \"#ed7953\"], [0.7777777777777778, \"#fb9f3a\"], [0.8888888888888888, \"#fdca26\"], [1.0, \"#f0f921\"]], \"type\": \"surface\"}], \"table\": [{\"cells\": {\"fill\": {\"color\": \"#EBF0F8\"}, \"line\": {\"color\": \"white\"}}, \"header\": {\"fill\": {\"color\": \"#C8D4E3\"}, \"line\": {\"color\": \"white\"}}, \"type\": \"table\"}]}, \"layout\": {\"annotationdefaults\": {\"arrowcolor\": \"#2a3f5f\", \"arrowhead\": 0, \"arrowwidth\": 1}, \"autotypenumbers\": \"strict\", \"coloraxis\": {\"colorbar\": {\"outlinewidth\": 0, \"ticks\": \"\"}}, \"colorscale\": {\"diverging\": [[0, \"#8e0152\"], [0.1, \"#c51b7d\"], [0.2, \"#de77ae\"], [0.3, \"#f1b6da\"], [0.4, \"#fde0ef\"], [0.5, \"#f7f7f7\"], [0.6, \"#e6f5d0\"], [0.7, \"#b8e186\"], [0.8, \"#7fbc41\"], [0.9, \"#4d9221\"], [1, \"#276419\"]], \"sequential\": [[0.0, \"#0d0887\"], [0.1111111111111111, \"#46039f\"], [0.2222222222222222, \"#7201a8\"], [0.3333333333333333, \"#9c179e\"], [0.4444444444444444, \"#bd3786\"], [0.5555555555555556, \"#d8576b\"], [0.6666666666666666, \"#ed7953\"], [0.7777777777777778, \"#fb9f3a\"], [0.8888888888888888, \"#fdca26\"], [1.0, \"#f0f921\"]], \"sequentialminus\": [[0.0, \"#0d0887\"], [0.1111111111111111, \"#46039f\"], [0.2222222222222222, \"#7201a8\"], [0.3333333333333333, \"#9c179e\"], [0.4444444444444444, \"#bd3786\"], [0.5555555555555556, \"#d8576b\"], [0.6666666666666666, \"#ed7953\"], [0.7777777777777778, \"#fb9f3a\"], [0.8888888888888888, \"#fdca26\"], [1.0, \"#f0f921\"]]}, \"colorway\": [\"#636efa\", \"#EF553B\", \"#00cc96\", \"#ab63fa\", \"#FFA15A\", \"#19d3f3\", \"#FF6692\", \"#B6E880\", \"#FF97FF\", \"#FECB52\"], \"font\": {\"color\": \"#2a3f5f\"}, \"geo\": {\"bgcolor\": \"white\", \"lakecolor\": \"white\", \"landcolor\": \"#E5ECF6\", \"showlakes\": true, \"showland\": true, \"subunitcolor\": \"white\"}, \"hoverlabel\": {\"align\": \"left\"}, \"hovermode\": \"closest\", \"mapbox\": {\"style\": \"light\"}, \"paper_bgcolor\": \"white\", \"plot_bgcolor\": \"#E5ECF6\", \"polar\": {\"angularaxis\": {\"gridcolor\": \"white\", \"linecolor\": \"white\", \"ticks\": \"\"}, \"bgcolor\": \"#E5ECF6\", \"radialaxis\": {\"gridcolor\": \"white\", \"linecolor\": \"white\", \"ticks\": \"\"}}, \"scene\": {\"xaxis\": {\"backgroundcolor\": \"#E5ECF6\", \"gridcolor\": \"white\", \"gridwidth\": 2, \"linecolor\": \"white\", \"showbackground\": true, \"ticks\": \"\", \"zerolinecolor\": \"white\"}, \"yaxis\": {\"backgroundcolor\": \"#E5ECF6\", \"gridcolor\": \"white\", \"gridwidth\": 2, \"linecolor\": \"white\", \"showbackground\": true, \"ticks\": \"\", \"zerolinecolor\": \"white\"}, \"zaxis\": {\"backgroundcolor\": \"#E5ECF6\", \"gridcolor\": \"white\", \"gridwidth\": 2, \"linecolor\": \"white\", \"showbackground\": true, \"ticks\": \"\", \"zerolinecolor\": \"white\"}}, \"shapedefaults\": {\"line\": {\"color\": \"#2a3f5f\"}}, \"ternary\": {\"aaxis\": {\"gridcolor\": \"white\", \"linecolor\": \"white\", \"ticks\": \"\"}, \"baxis\": {\"gridcolor\": \"white\", \"linecolor\": \"white\", \"ticks\": \"\"}, \"bgcolor\": \"#E5ECF6\", \"caxis\": {\"gridcolor\": \"white\", \"linecolor\": \"white\", \"ticks\": \"\"}}, \"title\": {\"x\": 0.05}, \"xaxis\": {\"automargin\": true, \"gridcolor\": \"white\", \"linecolor\": \"white\", \"ticks\": \"\", \"title\": {\"standoff\": 15}, \"zerolinecolor\": \"white\", \"zerolinewidth\": 2}, \"yaxis\": {\"automargin\": true, \"gridcolor\": \"white\", \"linecolor\": \"white\", \"ticks\": \"\", \"title\": {\"standoff\": 15}, \"zerolinecolor\": \"white\", \"zerolinewidth\": 2}}}, \"xaxis\": {\"anchor\": \"y\", \"categoryarray\": [false, true], \"categoryorder\": \"array\", \"domain\": [0.0, 1.0], \"title\": {\"text\": \"Research\"}}, \"yaxis\": {\"anchor\": \"x\", \"domain\": [0.0, 1.0], \"title\": {\"text\": \"counts\"}}},                        {\"responsive\": true}                    ).then(function(){\n",
       "                            \n",
       "var gd = document.getElementById('88f4f45f-59a4-4b9f-a1a6-2e8c8ff3e3fd');\n",
       "var x = new MutationObserver(function (mutations, observer) {{\n",
       "        var display = window.getComputedStyle(gd).display;\n",
       "        if (!display || display === 'none') {{\n",
       "            console.log([gd, 'removed!']);\n",
       "            Plotly.purge(gd);\n",
       "            observer.disconnect();\n",
       "        }}\n",
       "}});\n",
       "\n",
       "// Listen for the removal of the full notebook cells\n",
       "var notebookContainer = gd.closest('#notebook-container');\n",
       "if (notebookContainer) {{\n",
       "    x.observe(notebookContainer, {childList: true});\n",
       "}}\n",
       "\n",
       "// Listen for the clearing of the current output cell\n",
       "var outputEl = gd.closest('.output');\n",
       "if (outputEl) {{\n",
       "    x.observe(outputEl, {childList: true});\n",
       "}}\n",
       "\n",
       "                        })                };                });            </script>        </div>"
      ]
     },
     "metadata": {},
     "output_type": "display_data"
    }
   ],
   "source": [
    "px.bar(\n",
    "    data_frame=temp_df,\n",
    "    x=\"Research\",\n",
    "    y=\"counts\",\n",
    "    color=\"Research\",\n",
    "    color_continuous_scale=px.colors.qualitative.D3,\n",
    ")"
   ]
  },
  {
   "cell_type": "markdown",
   "metadata": {
    "papermill": {
     "duration": 0.145191,
     "end_time": "2020-12-28T20:42:02.752919",
     "exception": false,
     "start_time": "2020-12-28T20:42:02.607728",
     "status": "completed"
    },
    "tags": []
   },
   "source": [
    "From this plot, we can see that the number of students who have a research experience is *almost* equal to the number of students who don't.\n",
    "\n",
    "Later, we'll study the relation of this variable with other variables."
   ]
  },
  {
   "cell_type": "markdown",
   "metadata": {
    "papermill": {
     "duration": 0.121803,
     "end_time": "2020-12-28T20:42:03.009684",
     "exception": false,
     "start_time": "2020-12-28T20:42:02.887881",
     "status": "completed"
    },
    "tags": []
   },
   "source": [
    "### `Chance of Admit`"
   ]
  },
  {
   "cell_type": "markdown",
   "metadata": {
    "papermill": {
     "duration": 0.130439,
     "end_time": "2020-12-28T20:42:03.269310",
     "exception": false,
     "start_time": "2020-12-28T20:42:03.138871",
     "status": "completed"
    },
    "tags": []
   },
   "source": [
    "Quoting the dataste author from this [thread](https://www.kaggle.com/mohansacharya/graduate-admissions/discussion/79063#464899):\n",
    "\n",
    "> chance of admit is a parameter that was asked to individuals (some values manually entered) before the results of the application"
   ]
  },
  {
   "cell_type": "markdown",
   "metadata": {
    "papermill": {
     "duration": 0.12397,
     "end_time": "2020-12-28T20:42:03.518901",
     "exception": false,
     "start_time": "2020-12-28T20:42:03.394931",
     "status": "completed"
    },
    "tags": []
   },
   "source": [
    "So thie column is not an actual *probability of admission* estimated by the universities or something, rather, it's an estimation by the student themselves of how likely they'll be admitted to the university."
   ]
  },
  {
   "cell_type": "code",
   "execution_count": 51,
   "metadata": {
    "execution": {
     "iopub.execute_input": "2020-12-28T20:42:03.763581Z",
     "iopub.status.busy": "2020-12-28T20:42:03.762775Z",
     "iopub.status.idle": "2020-12-28T20:42:03.766115Z",
     "shell.execute_reply": "2020-12-28T20:42:03.766626Z"
    },
    "papermill": {
     "duration": 0.1305,
     "end_time": "2020-12-28T20:42:03.766770",
     "exception": false,
     "start_time": "2020-12-28T20:42:03.636270",
     "status": "completed"
    },
    "tags": []
   },
   "outputs": [
    {
     "data": {
      "text/plain": [
       "count    500.00000\n",
       "mean       0.72174\n",
       "std        0.14114\n",
       "min        0.34000\n",
       "25%        0.63000\n",
       "50%        0.72000\n",
       "75%        0.82000\n",
       "max        0.97000\n",
       "Name: Chance of Admit, dtype: float64"
      ]
     },
     "execution_count": 51,
     "metadata": {},
     "output_type": "execute_result"
    }
   ],
   "source": [
    "df[\"Chance of Admit\"].describe()"
   ]
  },
  {
   "cell_type": "code",
   "execution_count": 52,
   "metadata": {
    "execution": {
     "iopub.execute_input": "2020-12-28T20:42:04.023548Z",
     "iopub.status.busy": "2020-12-28T20:42:04.022561Z",
     "iopub.status.idle": "2020-12-28T20:42:04.025923Z",
     "shell.execute_reply": "2020-12-28T20:42:04.026487Z"
    },
    "papermill": {
     "duration": 0.139421,
     "end_time": "2020-12-28T20:42:04.026642",
     "exception": false,
     "start_time": "2020-12-28T20:42:03.887221",
     "status": "completed"
    },
    "tags": []
   },
   "outputs": [
    {
     "name": "stdout",
     "output_type": "stream",
     "text": [
      "-0.2890955854789938\n"
     ]
    }
   ],
   "source": [
    "print(stats.skew(df[\"Chance of Admit\"]))"
   ]
  },
  {
   "cell_type": "code",
   "execution_count": 53,
   "metadata": {
    "execution": {
     "iopub.execute_input": "2020-12-28T20:42:04.267421Z",
     "iopub.status.busy": "2020-12-28T20:42:04.266419Z",
     "iopub.status.idle": "2020-12-28T20:42:04.846896Z",
     "shell.execute_reply": "2020-12-28T20:42:04.847406Z"
    },
    "papermill": {
     "duration": 0.702308,
     "end_time": "2020-12-28T20:42:04.847574",
     "exception": false,
     "start_time": "2020-12-28T20:42:04.145266",
     "status": "completed"
    },
    "tags": []
   },
   "outputs": [
    {
     "data": {
      "text/plain": [
       "<seaborn.axisgrid.FacetGrid at 0x7f829df53d10>"
      ]
     },
     "execution_count": 53,
     "metadata": {},
     "output_type": "execute_result"
    },
    {
     "data": {
      "image/png": "[encoded data removed]",
      "text/plain": [
       "<Figure size 360x360 with 1 Axes>"
      ]
     },
     "metadata": {},
     "output_type": "display_data"
    }
   ],
   "source": [
    "sns.displot(data=df, x=\"Chance of Admit\")"
   ]
  },
  {
   "cell_type": "code",
   "execution_count": 54,
   "metadata": {
    "execution": {
     "iopub.execute_input": "2020-12-28T20:42:05.101937Z",
     "iopub.status.busy": "2020-12-28T20:42:05.100887Z",
     "iopub.status.idle": "2020-12-28T20:42:05.186960Z",
     "shell.execute_reply": "2020-12-28T20:42:05.186287Z"
    },
    "papermill": {
     "duration": 0.219128,
     "end_time": "2020-12-28T20:42:05.187095",
     "exception": false,
     "start_time": "2020-12-28T20:42:04.967967",
     "status": "completed"
    },
    "tags": []
   },
   "outputs": [
    {
     "data": {
      "text/html": [
       "<div>                            <div id=\"d76dbbab-b67a-4763-a713-adcae0b43e0d\" class=\"plotly-graph-div\" style=\"height:525px; width:100%;\"></div>            <script type=\"text/javascript\">                require([\"plotly\"], function(Plotly) {                    window.PLOTLYENV=window.PLOTLYENV || {};                                    if (document.getElementById(\"d76dbbab-b67a-4763-a713-adcae0b43e0d\")) {                    Plotly.newPlot(                        \"d76dbbab-b67a-4763-a713-adcae0b43e0d\",                        [{\"alignmentgroup\": \"True\", \"bingroup\": \"x\", \"hovertemplate\": \"Chance of Admit=%{x}<br>count=%{y}<extra></extra>\", \"legendgroup\": \"\", \"marker\": {\"color\": \"#636efa\"}, \"name\": \"\", \"offsetgroup\": \"\", \"orientation\": \"v\", \"showlegend\": false, \"type\": \"histogram\", \"x\": [0.67, 0.46, 0.67, 0.78, 0.49, 0.58, 0.52, 0.52, 0.58, 0.58, 0.61, 0.57, 0.69, 0.47, 0.58, 0.56, 0.36, 0.79, 0.71, 0.59, 0.51, 0.53, 0.52, 0.6, 0.37, 0.64, 0.57, 0.54, 0.49, 0.46, 0.5, 0.57, 0.61, 0.42, 0.57, 0.48, 0.72, 0.8, 0.47, 0.44, 0.51, 0.68, 0.61, 0.72, 0.38, 0.39, 0.63, 0.58, 0.68, 0.59, 0.56, 0.64, 0.56, 0.62, 0.34, 0.71, 0.81, 0.67, 0.64, 0.46, 0.53, 0.58, 0.6, 0.71, 0.7, 0.61, 0.65, 0.7, 0.75, 0.49, 0.72, 0.69, 0.79, 0.7, 0.72, 0.53, 0.66, 0.7, 0.71, 0.66, 0.55, 0.71, 0.71, 0.84, 0.9, 0.54, 0.73, 0.8, 0.81, 0.8, 0.34, 0.62, 0.64, 0.7, 0.44, 0.54, 0.65, 0.64, 0.63, 0.69, 0.57, 0.64, 0.48, 0.69, 0.49, 0.53, 0.69, 0.73, 0.64, 0.67, 0.63, 0.68, 0.71, 0.73, 0.65, 0.62, 0.59, 0.68, 0.67, 0.64, 0.61, 0.63, 0.66, 0.47, 0.47, 0.59, 0.64, 0.77, 0.43, 0.62, 0.73, 0.72, 0.73, 0.78, 0.45, 0.72, 0.64, 0.44, 0.65, 0.62, 0.65, 0.66, 0.65, 0.66, 0.56, 0.57, 0.72, 0.68, 0.46, 0.72, 0.65, 0.54, 0.56, 0.54, 0.48, 0.56, 0.42, 0.66, 0.67, 0.64, 0.76, 0.7, 0.71, 0.71, 0.72, 0.74, 0.74, 0.8, 0.73, 0.7, 0.76, 0.79, 0.78, 0.79, 0.75, 0.73, 0.67, 0.81, 0.63, 0.8, 0.75, 0.71, 0.67, 0.74, 0.77, 0.75, 0.79, 0.58, 0.62, 0.74, 0.85, 0.63, 0.79, 0.72, 0.76, 0.89, 0.69, 0.62, 0.73, 0.71, 0.7, 0.71, 0.73, 0.78, 0.78, 0.68, 0.8, 0.81, 0.8, 0.79, 0.82, 0.76, 0.86, 0.9, 0.71, 0.73, 0.74, 0.79, 0.76, 0.75, 0.77, 0.74, 0.47, 0.52, 0.64, 0.61, 0.68, 0.74, 0.74, 0.5, 0.57, 0.68, 0.72, 0.64, 0.38, 0.36, 0.86, 0.79, 0.71, 0.74, 0.69, 0.76, 0.62, 0.59, 0.79, 0.56, 0.84, 0.64, 0.61, 0.64, 0.76, 0.68, 0.72, 0.8, 0.75, 0.45, 0.52, 0.62, 0.61, 0.54, 0.66, 0.65, 0.63, 0.62, 0.64, 0.65, 0.76, 0.68, 0.74, 0.73, 0.8, 0.46, 0.71, 0.62, 0.59, 0.82, 0.7, 0.64, 0.73, 0.78, 0.64, 0.42, 0.52, 0.65, 0.85, 0.72, 0.71, 0.75, 0.84, 0.49, 0.57, 0.65, 0.58, 0.7, 0.72, 0.73, 0.52, 0.69, 0.66, 0.68, 0.62, 0.78, 0.67, 0.84, 0.77, 0.77, 0.82, 0.73, 0.74, 0.71, 0.71, 0.79, 0.8, 0.76, 0.83, 0.7, 0.67, 0.77, 0.75, 0.68, 0.84, 0.64, 0.93, 0.92, 0.93, 0.89, 0.91, 0.84, 0.61, 0.89, 0.95, 0.86, 0.91, 0.53, 0.71, 0.54, 0.93, 0.82, 0.95, 0.86, 0.82, 0.54, 0.71, 0.81, 0.86, 0.96, 0.62, 0.77, 0.79, 0.89, 0.9, 0.67, 0.72, 0.65, 0.79, 0.59, 0.78, 0.73, 0.76, 0.83, 0.92, 0.96, 0.66, 0.45, 0.57, 0.57, 0.82, 0.97, 0.73, 0.69, 0.93, 0.86, 0.89, 0.87, 0.85, 0.9, 0.89, 0.79, 0.81, 0.82, 0.91, 0.9, 0.76, 0.84, 0.78, 0.7, 0.91, 0.87, 0.78, 0.87, 0.78, 0.55, 0.78, 0.84, 0.96, 0.76, 0.74, 0.42, 0.72, 0.95, 0.84, 0.94, 0.85, 0.84, 0.93, 0.73, 0.7, 0.81, 0.8, 0.8, 0.79, 0.73, 0.85, 0.78, 0.82, 0.82, 0.8, 0.84, 0.77, 0.77, 0.91, 0.83, 0.85, 0.83, 0.9, 0.94, 0.76, 0.94, 0.92, 0.87, 0.94, 0.78, 0.96, 0.89, 0.92, 0.93, 0.96, 0.86, 0.93, 0.96, 0.87, 0.91, 0.9, 0.81, 0.94, 0.94, 0.89, 0.95, 0.94, 0.76, 0.71, 0.9, 0.94, 0.88, 0.91, 0.92, 0.97, 0.88, 0.87, 0.89, 0.91, 0.94, 0.86, 0.78, 0.89, 0.88, 0.91, 0.93, 0.93, 0.88, 0.9, 0.87, 0.86, 0.94, 0.97, 0.97, 0.93, 0.92, 0.93, 0.86, 0.95, 0.93, 0.68, 0.61, 0.71, 0.94, 0.91, 0.92, 0.87, 0.94, 0.96, 0.92, 0.96, 0.77, 0.71, 0.79, 0.89, 0.92, 0.94, 0.81], \"xaxis\": \"x\", \"yaxis\": \"y\"}, {\"alignmentgroup\": \"True\", \"hovertemplate\": \"Chance of Admit=%{x}<extra></extra>\", \"legendgroup\": \"\", \"marker\": {\"color\": \"#636efa\"}, \"name\": \"\", \"notched\": true, \"offsetgroup\": \"\", \"showlegend\": false, \"type\": \"box\", \"x\": [0.67, 0.46, 0.67, 0.78, 0.49, 0.58, 0.52, 0.52, 0.58, 0.58, 0.61, 0.57, 0.69, 0.47, 0.58, 0.56, 0.36, 0.79, 0.71, 0.59, 0.51, 0.53, 0.52, 0.6, 0.37, 0.64, 0.57, 0.54, 0.49, 0.46, 0.5, 0.57, 0.61, 0.42, 0.57, 0.48, 0.72, 0.8, 0.47, 0.44, 0.51, 0.68, 0.61, 0.72, 0.38, 0.39, 0.63, 0.58, 0.68, 0.59, 0.56, 0.64, 0.56, 0.62, 0.34, 0.71, 0.81, 0.67, 0.64, 0.46, 0.53, 0.58, 0.6, 0.71, 0.7, 0.61, 0.65, 0.7, 0.75, 0.49, 0.72, 0.69, 0.79, 0.7, 0.72, 0.53, 0.66, 0.7, 0.71, 0.66, 0.55, 0.71, 0.71, 0.84, 0.9, 0.54, 0.73, 0.8, 0.81, 0.8, 0.34, 0.62, 0.64, 0.7, 0.44, 0.54, 0.65, 0.64, 0.63, 0.69, 0.57, 0.64, 0.48, 0.69, 0.49, 0.53, 0.69, 0.73, 0.64, 0.67, 0.63, 0.68, 0.71, 0.73, 0.65, 0.62, 0.59, 0.68, 0.67, 0.64, 0.61, 0.63, 0.66, 0.47, 0.47, 0.59, 0.64, 0.77, 0.43, 0.62, 0.73, 0.72, 0.73, 0.78, 0.45, 0.72, 0.64, 0.44, 0.65, 0.62, 0.65, 0.66, 0.65, 0.66, 0.56, 0.57, 0.72, 0.68, 0.46, 0.72, 0.65, 0.54, 0.56, 0.54, 0.48, 0.56, 0.42, 0.66, 0.67, 0.64, 0.76, 0.7, 0.71, 0.71, 0.72, 0.74, 0.74, 0.8, 0.73, 0.7, 0.76, 0.79, 0.78, 0.79, 0.75, 0.73, 0.67, 0.81, 0.63, 0.8, 0.75, 0.71, 0.67, 0.74, 0.77, 0.75, 0.79, 0.58, 0.62, 0.74, 0.85, 0.63, 0.79, 0.72, 0.76, 0.89, 0.69, 0.62, 0.73, 0.71, 0.7, 0.71, 0.73, 0.78, 0.78, 0.68, 0.8, 0.81, 0.8, 0.79, 0.82, 0.76, 0.86, 0.9, 0.71, 0.73, 0.74, 0.79, 0.76, 0.75, 0.77, 0.74, 0.47, 0.52, 0.64, 0.61, 0.68, 0.74, 0.74, 0.5, 0.57, 0.68, 0.72, 0.64, 0.38, 0.36, 0.86, 0.79, 0.71, 0.74, 0.69, 0.76, 0.62, 0.59, 0.79, 0.56, 0.84, 0.64, 0.61, 0.64, 0.76, 0.68, 0.72, 0.8, 0.75, 0.45, 0.52, 0.62, 0.61, 0.54, 0.66, 0.65, 0.63, 0.62, 0.64, 0.65, 0.76, 0.68, 0.74, 0.73, 0.8, 0.46, 0.71, 0.62, 0.59, 0.82, 0.7, 0.64, 0.73, 0.78, 0.64, 0.42, 0.52, 0.65, 0.85, 0.72, 0.71, 0.75, 0.84, 0.49, 0.57, 0.65, 0.58, 0.7, 0.72, 0.73, 0.52, 0.69, 0.66, 0.68, 0.62, 0.78, 0.67, 0.84, 0.77, 0.77, 0.82, 0.73, 0.74, 0.71, 0.71, 0.79, 0.8, 0.76, 0.83, 0.7, 0.67, 0.77, 0.75, 0.68, 0.84, 0.64, 0.93, 0.92, 0.93, 0.89, 0.91, 0.84, 0.61, 0.89, 0.95, 0.86, 0.91, 0.53, 0.71, 0.54, 0.93, 0.82, 0.95, 0.86, 0.82, 0.54, 0.71, 0.81, 0.86, 0.96, 0.62, 0.77, 0.79, 0.89, 0.9, 0.67, 0.72, 0.65, 0.79, 0.59, 0.78, 0.73, 0.76, 0.83, 0.92, 0.96, 0.66, 0.45, 0.57, 0.57, 0.82, 0.97, 0.73, 0.69, 0.93, 0.86, 0.89, 0.87, 0.85, 0.9, 0.89, 0.79, 0.81, 0.82, 0.91, 0.9, 0.76, 0.84, 0.78, 0.7, 0.91, 0.87, 0.78, 0.87, 0.78, 0.55, 0.78, 0.84, 0.96, 0.76, 0.74, 0.42, 0.72, 0.95, 0.84, 0.94, 0.85, 0.84, 0.93, 0.73, 0.7, 0.81, 0.8, 0.8, 0.79, 0.73, 0.85, 0.78, 0.82, 0.82, 0.8, 0.84, 0.77, 0.77, 0.91, 0.83, 0.85, 0.83, 0.9, 0.94, 0.76, 0.94, 0.92, 0.87, 0.94, 0.78, 0.96, 0.89, 0.92, 0.93, 0.96, 0.86, 0.93, 0.96, 0.87, 0.91, 0.9, 0.81, 0.94, 0.94, 0.89, 0.95, 0.94, 0.76, 0.71, 0.9, 0.94, 0.88, 0.91, 0.92, 0.97, 0.88, 0.87, 0.89, 0.91, 0.94, 0.86, 0.78, 0.89, 0.88, 0.91, 0.93, 0.93, 0.88, 0.9, 0.87, 0.86, 0.94, 0.97, 0.97, 0.93, 0.92, 0.93, 0.86, 0.95, 0.93, 0.68, 0.61, 0.71, 0.94, 0.91, 0.92, 0.87, 0.94, 0.96, 0.92, 0.96, 0.77, 0.71, 0.79, 0.89, 0.92, 0.94, 0.81], \"xaxis\": \"x2\", \"yaxis\": \"y2\"}],                        {\"barmode\": \"relative\", \"legend\": {\"tracegroupgap\": 0}, \"margin\": {\"t\": 60}, \"template\": {\"data\": {\"bar\": [{\"error_x\": {\"color\": \"#2a3f5f\"}, \"error_y\": {\"color\": \"#2a3f5f\"}, \"marker\": {\"line\": {\"color\": \"#E5ECF6\", \"width\": 0.5}}, \"type\": \"bar\"}], \"barpolar\": [{\"marker\": {\"line\": {\"color\": \"#E5ECF6\", \"width\": 0.5}}, \"type\": \"barpolar\"}], \"carpet\": [{\"aaxis\": {\"endlinecolor\": \"#2a3f5f\", \"gridcolor\": \"white\", \"linecolor\": \"white\", \"minorgridcolor\": \"white\", \"startlinecolor\": \"#2a3f5f\"}, \"baxis\": {\"endlinecolor\": \"#2a3f5f\", \"gridcolor\": \"white\", \"linecolor\": \"white\", \"minorgridcolor\": \"white\", \"startlinecolor\": \"#2a3f5f\"}, \"type\": \"carpet\"}], \"choropleth\": [{\"colorbar\": {\"outlinewidth\": 0, \"ticks\": \"\"}, \"type\": \"choropleth\"}], \"contour\": [{\"colorbar\": {\"outlinewidth\": 0, \"ticks\": \"\"}, \"colorscale\": [[0.0, \"#0d0887\"], [0.1111111111111111, \"#46039f\"], [0.2222222222222222, \"#7201a8\"], [0.3333333333333333, \"#9c179e\"], [0.4444444444444444, \"#bd3786\"], [0.5555555555555556, \"#d8576b\"], [0.6666666666666666, \"#ed7953\"], [0.7777777777777778, \"#fb9f3a\"], [0.8888888888888888, \"#fdca26\"], [1.0, \"#f0f921\"]], \"type\": \"contour\"}], \"contourcarpet\": [{\"colorbar\": {\"outlinewidth\": 0, \"ticks\": \"\"}, \"type\": \"contourcarpet\"}], \"heatmap\": [{\"colorbar\": {\"outlinewidth\": 0, \"ticks\": \"\"}, \"colorscale\": [[0.0, \"#0d0887\"], [0.1111111111111111, \"#46039f\"], [0.2222222222222222, \"#7201a8\"], [0.3333333333333333, \"#9c179e\"], [0.4444444444444444, \"#bd3786\"], [0.5555555555555556, \"#d8576b\"], [0.6666666666666666, \"#ed7953\"], [0.7777777777777778, \"#fb9f3a\"], [0.8888888888888888, \"#fdca26\"], [1.0, \"#f0f921\"]], \"type\": \"heatmap\"}], \"heatmapgl\": [{\"colorbar\": {\"outlinewidth\": 0, \"ticks\": \"\"}, \"colorscale\": [[0.0, \"#0d0887\"], [0.1111111111111111, \"#46039f\"], [0.2222222222222222, \"#7201a8\"], [0.3333333333333333, \"#9c179e\"], [0.4444444444444444, \"#bd3786\"], [0.5555555555555556, \"#d8576b\"], [0.6666666666666666, \"#ed7953\"], [0.7777777777777778, \"#fb9f3a\"], [0.8888888888888888, \"#fdca26\"], [1.0, \"#f0f921\"]], \"type\": \"heatmapgl\"}], \"histogram\": [{\"marker\": {\"colorbar\": {\"outlinewidth\": 0, \"ticks\": \"\"}}, \"type\": \"histogram\"}], \"histogram2d\": [{\"colorbar\": {\"outlinewidth\": 0, \"ticks\": \"\"}, \"colorscale\": [[0.0, \"#0d0887\"], [0.1111111111111111, \"#46039f\"], [0.2222222222222222, \"#7201a8\"], [0.3333333333333333, \"#9c179e\"], [0.4444444444444444, \"#bd3786\"], [0.5555555555555556, \"#d8576b\"], [0.6666666666666666, \"#ed7953\"], [0.7777777777777778, \"#fb9f3a\"], [0.8888888888888888, \"#fdca26\"], [1.0, \"#f0f921\"]], \"type\": \"histogram2d\"}], \"histogram2dcontour\": [{\"colorbar\": {\"outlinewidth\": 0, \"ticks\": \"\"}, \"colorscale\": [[0.0, \"#0d0887\"], [0.1111111111111111, \"#46039f\"], [0.2222222222222222, \"#7201a8\"], [0.3333333333333333, \"#9c179e\"], [0.4444444444444444, \"#bd3786\"], [0.5555555555555556, \"#d8576b\"], [0.6666666666666666, \"#ed7953\"], [0.7777777777777778, \"#fb9f3a\"], [0.8888888888888888, \"#fdca26\"], [1.0, \"#f0f921\"]], \"type\": \"histogram2dcontour\"}], \"mesh3d\": [{\"colorbar\": {\"outlinewidth\": 0, \"ticks\": \"\"}, \"type\": \"mesh3d\"}], \"parcoords\": [{\"line\": {\"colorbar\": {\"outlinewidth\": 0, \"ticks\": \"\"}}, \"type\": \"parcoords\"}], \"pie\": [{\"automargin\": true, \"type\": \"pie\"}], \"scatter\": [{\"marker\": {\"colorbar\": {\"outlinewidth\": 0, \"ticks\": \"\"}}, \"type\": \"scatter\"}], \"scatter3d\": [{\"line\": {\"colorbar\": {\"outlinewidth\": 0, \"ticks\": \"\"}}, \"marker\": {\"colorbar\": {\"outlinewidth\": 0, \"ticks\": \"\"}}, \"type\": \"scatter3d\"}], \"scattercarpet\": [{\"marker\": {\"colorbar\": {\"outlinewidth\": 0, \"ticks\": \"\"}}, \"type\": \"scattercarpet\"}], \"scattergeo\": [{\"marker\": {\"colorbar\": {\"outlinewidth\": 0, \"ticks\": \"\"}}, \"type\": \"scattergeo\"}], \"scattergl\": [{\"marker\": {\"colorbar\": {\"outlinewidth\": 0, \"ticks\": \"\"}}, \"type\": \"scattergl\"}], \"scattermapbox\": [{\"marker\": {\"colorbar\": {\"outlinewidth\": 0, \"ticks\": \"\"}}, \"type\": \"scattermapbox\"}], \"scatterpolar\": [{\"marker\": {\"colorbar\": {\"outlinewidth\": 0, \"ticks\": \"\"}}, \"type\": \"scatterpolar\"}], \"scatterpolargl\": [{\"marker\": {\"colorbar\": {\"outlinewidth\": 0, \"ticks\": \"\"}}, \"type\": \"scatterpolargl\"}], \"scatterternary\": [{\"marker\": {\"colorbar\": {\"outlinewidth\": 0, \"ticks\": \"\"}}, \"type\": \"scatterternary\"}], \"surface\": [{\"colorbar\": {\"outlinewidth\": 0, \"ticks\": \"\"}, \"colorscale\": [[0.0, \"#0d0887\"], [0.1111111111111111, \"#46039f\"], [0.2222222222222222, \"#7201a8\"], [0.3333333333333333, \"#9c179e\"], [0.4444444444444444, \"#bd3786\"], [0.5555555555555556, \"#d8576b\"], [0.6666666666666666, \"#ed7953\"], [0.7777777777777778, \"#fb9f3a\"], [0.8888888888888888, \"#fdca26\"], [1.0, \"#f0f921\"]], \"type\": \"surface\"}], \"table\": [{\"cells\": {\"fill\": {\"color\": \"#EBF0F8\"}, \"line\": {\"color\": \"white\"}}, \"header\": {\"fill\": {\"color\": \"#C8D4E3\"}, \"line\": {\"color\": \"white\"}}, \"type\": \"table\"}]}, \"layout\": {\"annotationdefaults\": {\"arrowcolor\": \"#2a3f5f\", \"arrowhead\": 0, \"arrowwidth\": 1}, \"autotypenumbers\": \"strict\", \"coloraxis\": {\"colorbar\": {\"outlinewidth\": 0, \"ticks\": \"\"}}, \"colorscale\": {\"diverging\": [[0, \"#8e0152\"], [0.1, \"#c51b7d\"], [0.2, \"#de77ae\"], [0.3, \"#f1b6da\"], [0.4, \"#fde0ef\"], [0.5, \"#f7f7f7\"], [0.6, \"#e6f5d0\"], [0.7, \"#b8e186\"], [0.8, \"#7fbc41\"], [0.9, \"#4d9221\"], [1, \"#276419\"]], \"sequential\": [[0.0, \"#0d0887\"], [0.1111111111111111, \"#46039f\"], [0.2222222222222222, \"#7201a8\"], [0.3333333333333333, \"#9c179e\"], [0.4444444444444444, \"#bd3786\"], [0.5555555555555556, \"#d8576b\"], [0.6666666666666666, \"#ed7953\"], [0.7777777777777778, \"#fb9f3a\"], [0.8888888888888888, \"#fdca26\"], [1.0, \"#f0f921\"]], \"sequentialminus\": [[0.0, \"#0d0887\"], [0.1111111111111111, \"#46039f\"], [0.2222222222222222, \"#7201a8\"], [0.3333333333333333, \"#9c179e\"], [0.4444444444444444, \"#bd3786\"], [0.5555555555555556, \"#d8576b\"], [0.6666666666666666, \"#ed7953\"], [0.7777777777777778, \"#fb9f3a\"], [0.8888888888888888, \"#fdca26\"], [1.0, \"#f0f921\"]]}, \"colorway\": [\"#636efa\", \"#EF553B\", \"#00cc96\", \"#ab63fa\", \"#FFA15A\", \"#19d3f3\", \"#FF6692\", \"#B6E880\", \"#FF97FF\", \"#FECB52\"], \"font\": {\"color\": \"#2a3f5f\"}, \"geo\": {\"bgcolor\": \"white\", \"lakecolor\": \"white\", \"landcolor\": \"#E5ECF6\", \"showlakes\": true, \"showland\": true, \"subunitcolor\": \"white\"}, \"hoverlabel\": {\"align\": \"left\"}, \"hovermode\": \"closest\", \"mapbox\": {\"style\": \"light\"}, \"paper_bgcolor\": \"white\", \"plot_bgcolor\": \"#E5ECF6\", \"polar\": {\"angularaxis\": {\"gridcolor\": \"white\", \"linecolor\": \"white\", \"ticks\": \"\"}, \"bgcolor\": \"#E5ECF6\", \"radialaxis\": {\"gridcolor\": \"white\", \"linecolor\": \"white\", \"ticks\": \"\"}}, \"scene\": {\"xaxis\": {\"backgroundcolor\": \"#E5ECF6\", \"gridcolor\": \"white\", \"gridwidth\": 2, \"linecolor\": \"white\", \"showbackground\": true, \"ticks\": \"\", \"zerolinecolor\": \"white\"}, \"yaxis\": {\"backgroundcolor\": \"#E5ECF6\", \"gridcolor\": \"white\", \"gridwidth\": 2, \"linecolor\": \"white\", \"showbackground\": true, \"ticks\": \"\", \"zerolinecolor\": \"white\"}, \"zaxis\": {\"backgroundcolor\": \"#E5ECF6\", \"gridcolor\": \"white\", \"gridwidth\": 2, \"linecolor\": \"white\", \"showbackground\": true, \"ticks\": \"\", \"zerolinecolor\": \"white\"}}, \"shapedefaults\": {\"line\": {\"color\": \"#2a3f5f\"}}, \"ternary\": {\"aaxis\": {\"gridcolor\": \"white\", \"linecolor\": \"white\", \"ticks\": \"\"}, \"baxis\": {\"gridcolor\": \"white\", \"linecolor\": \"white\", \"ticks\": \"\"}, \"bgcolor\": \"#E5ECF6\", \"caxis\": {\"gridcolor\": \"white\", \"linecolor\": \"white\", \"ticks\": \"\"}}, \"title\": {\"x\": 0.05}, \"xaxis\": {\"automargin\": true, \"gridcolor\": \"white\", \"linecolor\": \"white\", \"ticks\": \"\", \"title\": {\"standoff\": 15}, \"zerolinecolor\": \"white\", \"zerolinewidth\": 2}, \"yaxis\": {\"automargin\": true, \"gridcolor\": \"white\", \"linecolor\": \"white\", \"ticks\": \"\", \"title\": {\"standoff\": 15}, \"zerolinecolor\": \"white\", \"zerolinewidth\": 2}}}, \"xaxis\": {\"anchor\": \"y\", \"domain\": [0.0, 1.0], \"title\": {\"text\": \"Chance of Admit\"}}, \"xaxis2\": {\"anchor\": \"y2\", \"domain\": [0.0, 1.0], \"matches\": \"x\", \"showgrid\": true, \"showticklabels\": false}, \"yaxis\": {\"anchor\": \"x\", \"domain\": [0.0, 0.8316], \"title\": {\"text\": \"count\"}}, \"yaxis2\": {\"anchor\": \"x2\", \"domain\": [0.8416, 1.0], \"matches\": \"y2\", \"showgrid\": false, \"showline\": false, \"showticklabels\": false, \"ticks\": \"\"}},                        {\"responsive\": true}                    ).then(function(){\n",
       "                            \n",
       "var gd = document.getElementById('d76dbbab-b67a-4763-a713-adcae0b43e0d');\n",
       "var x = new MutationObserver(function (mutations, observer) {{\n",
       "        var display = window.getComputedStyle(gd).display;\n",
       "        if (!display || display === 'none') {{\n",
       "            console.log([gd, 'removed!']);\n",
       "            Plotly.purge(gd);\n",
       "            observer.disconnect();\n",
       "        }}\n",
       "}});\n",
       "\n",
       "// Listen for the removal of the full notebook cells\n",
       "var notebookContainer = gd.closest('#notebook-container');\n",
       "if (notebookContainer) {{\n",
       "    x.observe(notebookContainer, {childList: true});\n",
       "}}\n",
       "\n",
       "// Listen for the clearing of the current output cell\n",
       "var outputEl = gd.closest('.output');\n",
       "if (outputEl) {{\n",
       "    x.observe(outputEl, {childList: true});\n",
       "}}\n",
       "\n",
       "                        })                };                });            </script>        </div>"
      ]
     },
     "metadata": {},
     "output_type": "display_data"
    }
   ],
   "source": [
    "px.histogram(data_frame=df, x=\"Chance of Admit\", marginal=\"box\")"
   ]
  },
  {
   "cell_type": "code",
   "execution_count": 55,
   "metadata": {
    "execution": {
     "iopub.execute_input": "2020-12-28T20:42:05.434860Z",
     "iopub.status.busy": "2020-12-28T20:42:05.434193Z",
     "iopub.status.idle": "2020-12-28T20:42:05.449008Z",
     "shell.execute_reply": "2020-12-28T20:42:05.448475Z"
    },
    "papermill": {
     "duration": 0.137958,
     "end_time": "2020-12-28T20:42:05.449145",
     "exception": false,
     "start_time": "2020-12-28T20:42:05.311187",
     "status": "completed"
    },
    "tags": []
   },
   "outputs": [
    {
     "data": {
      "text/html": [
       "<div>\n",
       "<style scoped>\n",
       "    .dataframe tbody tr th:only-of-type {\n",
       "        vertical-align: middle;\n",
       "    }\n",
       "\n",
       "    .dataframe tbody tr th {\n",
       "        vertical-align: top;\n",
       "    }\n",
       "\n",
       "    .dataframe thead th {\n",
       "        text-align: right;\n",
       "    }\n",
       "</style>\n",
       "<table border=\"1\" class=\"dataframe\">\n",
       "  <thead>\n",
       "    <tr style=\"text-align: right;\">\n",
       "      <th></th>\n",
       "      <th>GRE Score</th>\n",
       "      <th>TOEFL Score</th>\n",
       "      <th>University Rating</th>\n",
       "      <th>SOP</th>\n",
       "      <th>LOR</th>\n",
       "      <th>CGPA</th>\n",
       "      <th>Research</th>\n",
       "      <th>Chance of Admit</th>\n",
       "    </tr>\n",
       "  </thead>\n",
       "  <tbody>\n",
       "    <tr>\n",
       "      <th>376</th>\n",
       "      <td>297</td>\n",
       "      <td>96</td>\n",
       "      <td>2</td>\n",
       "      <td>2.5</td>\n",
       "      <td>2.0</td>\n",
       "      <td>7.43</td>\n",
       "      <td>False</td>\n",
       "      <td>0.34</td>\n",
       "    </tr>\n",
       "    <tr>\n",
       "      <th>92</th>\n",
       "      <td>298</td>\n",
       "      <td>98</td>\n",
       "      <td>2</td>\n",
       "      <td>4.0</td>\n",
       "      <td>3.0</td>\n",
       "      <td>8.03</td>\n",
       "      <td>False</td>\n",
       "      <td>0.34</td>\n",
       "    </tr>\n",
       "  </tbody>\n",
       "</table>\n",
       "</div>"
      ],
      "text/plain": [
       "     GRE Score  TOEFL Score University Rating  SOP  LOR  CGPA  Research  \\\n",
       "376        297           96                 2  2.5  2.0  7.43     False   \n",
       "92         298           98                 2  4.0  3.0  8.03     False   \n",
       "\n",
       "     Chance of Admit  \n",
       "376             0.34  \n",
       "92              0.34  "
      ]
     },
     "execution_count": 55,
     "metadata": {},
     "output_type": "execute_result"
    }
   ],
   "source": [
    "df[df[\"Chance of Admit\"] < 0.36]"
   ]
  },
  {
   "cell_type": "markdown",
   "metadata": {
    "papermill": {
     "duration": 0.121399,
     "end_time": "2020-12-28T20:42:05.692768",
     "exception": false,
     "start_time": "2020-12-28T20:42:05.571369",
     "status": "completed"
    },
    "tags": []
   },
   "source": [
    "The plot shows that most student estimated their chance of admission between `0.7` and `0.75`.\n",
    "\n",
    "The distribution is *moderately* skewed to the left with a negative skew value `-0.29`.\n",
    "\n",
    "There are also two outlier values `0.34`."
   ]
  },
  {
   "cell_type": "markdown",
   "metadata": {
    "collapsed": "true",
    "papermill": {
     "duration": 0.122161,
     "end_time": "2020-12-28T20:42:05.936733",
     "exception": false,
     "start_time": "2020-12-28T20:42:05.814572",
     "status": "completed"
    },
    "tags": []
   },
   "source": [
    "## Bivariate Analysis"
   ]
  },
  {
   "cell_type": "markdown",
   "metadata": {
    "papermill": {
     "duration": 0.121492,
     "end_time": "2020-12-28T20:42:06.182233",
     "exception": false,
     "start_time": "2020-12-28T20:42:06.060741",
     "status": "completed"
    },
    "tags": []
   },
   "source": [
    "In this section, we'll focus on studying the relationship between two different variables, to answer different question, like\n",
    "- What is the relation between variable `x` and variable `y`? is it linear or non-linear?\n",
    "- In case of a linear relation, is positive linear relation or negative linear relation? and how *strong* is the relation?\n",
    "- How the distribution for two variables changes?"
   ]
  },
  {
   "cell_type": "markdown",
   "metadata": {
    "collapsed": "true",
    "papermill": {
     "duration": 0.125658,
     "end_time": "2020-12-28T20:42:06.429152",
     "exception": false,
     "start_time": "2020-12-28T20:42:06.303494",
     "status": "completed"
    },
    "tags": []
   },
   "source": [
    "### Correlation matrix"
   ]
  },
  {
   "cell_type": "markdown",
   "metadata": {
    "papermill": {
     "duration": 0.120636,
     "end_time": "2020-12-28T20:42:06.670804",
     "exception": false,
     "start_time": "2020-12-28T20:42:06.550168",
     "status": "completed"
    },
    "tags": []
   },
   "source": [
    "We'll start off by computing the correlation matrix using `.corr` method of pandas, which computes the pairwise correlation of columns.\n",
    "\n",
    "The method used for calculating the correlation between two variables `x` and `y` is the [Pearson correlation coefficient](https://en.wikipedia.org/wiki/Pearson_correlation_coefficient).\n",
    "\n",
    "The pearson coefficient is a measure of the linear correlation between two variables `x` and `y`, and it takes values between `-1` and `+1`.\n",
    "\n",
    "A negative value indicates a negative correlation (i.e. when one variable *increases* the other *decreases*), and a positive value is the opposite (the two variables *increases*/*decreases* at the same time)\n",
    "\n",
    "![Correlation coefficient](https://upload.wikimedia.org/wikipedia/commons/3/34/Correlation_coefficient.png)\n",
    "\n",
    "Here, we'll compute the correlations only for `GRE Score`, `TOEFL Score` and `CGPA` variables, because they are *numeric* variables, and they weren't estimated by the students themselves."
   ]
  },
  {
   "cell_type": "code",
   "execution_count": 56,
   "metadata": {
    "execution": {
     "iopub.execute_input": "2020-12-28T20:42:06.921460Z",
     "iopub.status.busy": "2020-12-28T20:42:06.920756Z",
     "iopub.status.idle": "2020-12-28T20:42:06.924181Z",
     "shell.execute_reply": "2020-12-28T20:42:06.923609Z"
    },
    "papermill": {
     "duration": 0.130927,
     "end_time": "2020-12-28T20:42:06.924295",
     "exception": false,
     "start_time": "2020-12-28T20:42:06.793368",
     "status": "completed"
    },
    "tags": []
   },
   "outputs": [],
   "source": [
    "numeric_cols = [\"GRE Score\", \"TOEFL Score\", \"CGPA\"]"
   ]
  },
  {
   "cell_type": "code",
   "execution_count": 57,
   "metadata": {
    "execution": {
     "iopub.execute_input": "2020-12-28T20:42:07.173213Z",
     "iopub.status.busy": "2020-12-28T20:42:07.172457Z",
     "iopub.status.idle": "2020-12-28T20:42:07.182804Z",
     "shell.execute_reply": "2020-12-28T20:42:07.182196Z"
    },
    "papermill": {
     "duration": 0.135206,
     "end_time": "2020-12-28T20:42:07.182935",
     "exception": false,
     "start_time": "2020-12-28T20:42:07.047729",
     "status": "completed"
    },
    "tags": []
   },
   "outputs": [],
   "source": [
    "corr = df[numeric_cols].corr()"
   ]
  },
  {
   "cell_type": "code",
   "execution_count": 58,
   "metadata": {
    "execution": {
     "iopub.execute_input": "2020-12-28T20:42:07.433563Z",
     "iopub.status.busy": "2020-12-28T20:42:07.432597Z",
     "iopub.status.idle": "2020-12-28T20:42:07.510410Z",
     "shell.execute_reply": "2020-12-28T20:42:07.509789Z"
    },
    "papermill": {
     "duration": 0.205273,
     "end_time": "2020-12-28T20:42:07.510543",
     "exception": false,
     "start_time": "2020-12-28T20:42:07.305270",
     "status": "completed"
    },
    "tags": []
   },
   "outputs": [
    {
     "data": {
      "text/html": [
       "<div>                            <div id=\"ac76f842-9713-47e5-b305-c23dd5dc522a\" class=\"plotly-graph-div\" style=\"height:525px; width:100%;\"></div>            <script type=\"text/javascript\">                require([\"plotly\"], function(Plotly) {                    window.PLOTLYENV=window.PLOTLYENV || {};                                    if (document.getElementById(\"ac76f842-9713-47e5-b305-c23dd5dc522a\")) {                    Plotly.newPlot(                        \"ac76f842-9713-47e5-b305-c23dd5dc522a\",                        [{\"coloraxis\": \"coloraxis\", \"hovertemplate\": \"x: %{x}<br>y: %{y}<br>color: %{z}<extra></extra>\", \"name\": \"0\", \"type\": \"heatmap\", \"x\": [\"GRE Score\", \"TOEFL Score\", \"CGPA\"], \"xaxis\": \"x\", \"y\": [\"GRE Score\", \"TOEFL Score\", \"CGPA\"], \"yaxis\": \"y\", \"z\": [[1.0, 0.8272004035317234, 0.8258779536403555], [0.8272004035317234, 1.0, 0.8105735363036247], [0.8258779536403555, 0.8105735363036247, 1.0]]}],                        {\"coloraxis\": {\"cmid\": 0.6, \"colorscale\": [[0.0, \"rgb(255,247,251)\"], [0.125, \"rgb(236,231,242)\"], [0.25, \"rgb(208,209,230)\"], [0.375, \"rgb(166,189,219)\"], [0.5, \"rgb(116,169,207)\"], [0.625, \"rgb(54,144,192)\"], [0.75, \"rgb(5,112,176)\"], [0.875, \"rgb(4,90,141)\"], [1.0, \"rgb(2,56,88)\"]]}, \"template\": {\"data\": {\"bar\": [{\"error_x\": {\"color\": \"#2a3f5f\"}, \"error_y\": {\"color\": \"#2a3f5f\"}, \"marker\": {\"line\": {\"color\": \"#E5ECF6\", \"width\": 0.5}}, \"type\": \"bar\"}], \"barpolar\": [{\"marker\": {\"line\": {\"color\": \"#E5ECF6\", \"width\": 0.5}}, \"type\": \"barpolar\"}], \"carpet\": [{\"aaxis\": {\"endlinecolor\": \"#2a3f5f\", \"gridcolor\": \"white\", \"linecolor\": \"white\", \"minorgridcolor\": \"white\", \"startlinecolor\": \"#2a3f5f\"}, \"baxis\": {\"endlinecolor\": \"#2a3f5f\", \"gridcolor\": \"white\", \"linecolor\": \"white\", \"minorgridcolor\": \"white\", \"startlinecolor\": \"#2a3f5f\"}, \"type\": \"carpet\"}], \"choropleth\": [{\"colorbar\": {\"outlinewidth\": 0, \"ticks\": \"\"}, \"type\": \"choropleth\"}], \"contour\": [{\"colorbar\": {\"outlinewidth\": 0, \"ticks\": \"\"}, \"colorscale\": [[0.0, \"#0d0887\"], [0.1111111111111111, \"#46039f\"], [0.2222222222222222, \"#7201a8\"], [0.3333333333333333, \"#9c179e\"], [0.4444444444444444, \"#bd3786\"], [0.5555555555555556, \"#d8576b\"], [0.6666666666666666, \"#ed7953\"], [0.7777777777777778, \"#fb9f3a\"], [0.8888888888888888, \"#fdca26\"], [1.0, \"#f0f921\"]], \"type\": \"contour\"}], \"contourcarpet\": [{\"colorbar\": {\"outlinewidth\": 0, \"ticks\": \"\"}, \"type\": \"contourcarpet\"}], \"heatmap\": [{\"colorbar\": {\"outlinewidth\": 0, \"ticks\": \"\"}, \"colorscale\": [[0.0, \"#0d0887\"], [0.1111111111111111, \"#46039f\"], [0.2222222222222222, \"#7201a8\"], [0.3333333333333333, \"#9c179e\"], [0.4444444444444444, \"#bd3786\"], [0.5555555555555556, \"#d8576b\"], [0.6666666666666666, \"#ed7953\"], [0.7777777777777778, \"#fb9f3a\"], [0.8888888888888888, \"#fdca26\"], [1.0, \"#f0f921\"]], \"type\": \"heatmap\"}], \"heatmapgl\": [{\"colorbar\": {\"outlinewidth\": 0, \"ticks\": \"\"}, \"colorscale\": [[0.0, \"#0d0887\"], [0.1111111111111111, \"#46039f\"], [0.2222222222222222, \"#7201a8\"], [0.3333333333333333, \"#9c179e\"], [0.4444444444444444, \"#bd3786\"], [0.5555555555555556, \"#d8576b\"], [0.6666666666666666, \"#ed7953\"], [0.7777777777777778, \"#fb9f3a\"], [0.8888888888888888, \"#fdca26\"], [1.0, \"#f0f921\"]], \"type\": \"heatmapgl\"}], \"histogram\": [{\"marker\": {\"colorbar\": {\"outlinewidth\": 0, \"ticks\": \"\"}}, \"type\": \"histogram\"}], \"histogram2d\": [{\"colorbar\": {\"outlinewidth\": 0, \"ticks\": \"\"}, \"colorscale\": [[0.0, \"#0d0887\"], [0.1111111111111111, \"#46039f\"], [0.2222222222222222, \"#7201a8\"], [0.3333333333333333, \"#9c179e\"], [0.4444444444444444, \"#bd3786\"], [0.5555555555555556, \"#d8576b\"], [0.6666666666666666, \"#ed7953\"], [0.7777777777777778, \"#fb9f3a\"], [0.8888888888888888, \"#fdca26\"], [1.0, \"#f0f921\"]], \"type\": \"histogram2d\"}], \"histogram2dcontour\": [{\"colorbar\": {\"outlinewidth\": 0, \"ticks\": \"\"}, \"colorscale\": [[0.0, \"#0d0887\"], [0.1111111111111111, \"#46039f\"], [0.2222222222222222, \"#7201a8\"], [0.3333333333333333, \"#9c179e\"], [0.4444444444444444, \"#bd3786\"], [0.5555555555555556, \"#d8576b\"], [0.6666666666666666, \"#ed7953\"], [0.7777777777777778, \"#fb9f3a\"], [0.8888888888888888, \"#fdca26\"], [1.0, \"#f0f921\"]], \"type\": \"histogram2dcontour\"}], \"mesh3d\": [{\"colorbar\": {\"outlinewidth\": 0, \"ticks\": \"\"}, \"type\": \"mesh3d\"}], \"parcoords\": [{\"line\": {\"colorbar\": {\"outlinewidth\": 0, \"ticks\": \"\"}}, \"type\": \"parcoords\"}], \"pie\": [{\"automargin\": true, \"type\": \"pie\"}], \"scatter\": [{\"marker\": {\"colorbar\": {\"outlinewidth\": 0, \"ticks\": \"\"}}, \"type\": \"scatter\"}], \"scatter3d\": [{\"line\": {\"colorbar\": {\"outlinewidth\": 0, \"ticks\": \"\"}}, \"marker\": {\"colorbar\": {\"outlinewidth\": 0, \"ticks\": \"\"}}, \"type\": \"scatter3d\"}], \"scattercarpet\": [{\"marker\": {\"colorbar\": {\"outlinewidth\": 0, \"ticks\": \"\"}}, \"type\": \"scattercarpet\"}], \"scattergeo\": [{\"marker\": {\"colorbar\": {\"outlinewidth\": 0, \"ticks\": \"\"}}, \"type\": \"scattergeo\"}], \"scattergl\": [{\"marker\": {\"colorbar\": {\"outlinewidth\": 0, \"ticks\": \"\"}}, \"type\": \"scattergl\"}], \"scattermapbox\": [{\"marker\": {\"colorbar\": {\"outlinewidth\": 0, \"ticks\": \"\"}}, \"type\": \"scattermapbox\"}], \"scatterpolar\": [{\"marker\": {\"colorbar\": {\"outlinewidth\": 0, \"ticks\": \"\"}}, \"type\": \"scatterpolar\"}], \"scatterpolargl\": [{\"marker\": {\"colorbar\": {\"outlinewidth\": 0, \"ticks\": \"\"}}, \"type\": \"scatterpolargl\"}], \"scatterternary\": [{\"marker\": {\"colorbar\": {\"outlinewidth\": 0, \"ticks\": \"\"}}, \"type\": \"scatterternary\"}], \"surface\": [{\"colorbar\": {\"outlinewidth\": 0, \"ticks\": \"\"}, \"colorscale\": [[0.0, \"#0d0887\"], [0.1111111111111111, \"#46039f\"], [0.2222222222222222, \"#7201a8\"], [0.3333333333333333, \"#9c179e\"], [0.4444444444444444, \"#bd3786\"], [0.5555555555555556, \"#d8576b\"], [0.6666666666666666, \"#ed7953\"], [0.7777777777777778, \"#fb9f3a\"], [0.8888888888888888, \"#fdca26\"], [1.0, \"#f0f921\"]], \"type\": \"surface\"}], \"table\": [{\"cells\": {\"fill\": {\"color\": \"#EBF0F8\"}, \"line\": {\"color\": \"white\"}}, \"header\": {\"fill\": {\"color\": \"#C8D4E3\"}, \"line\": {\"color\": \"white\"}}, \"type\": \"table\"}]}, \"layout\": {\"annotationdefaults\": {\"arrowcolor\": \"#2a3f5f\", \"arrowhead\": 0, \"arrowwidth\": 1}, \"autotypenumbers\": \"strict\", \"coloraxis\": {\"colorbar\": {\"outlinewidth\": 0, \"ticks\": \"\"}}, \"colorscale\": {\"diverging\": [[0, \"#8e0152\"], [0.1, \"#c51b7d\"], [0.2, \"#de77ae\"], [0.3, \"#f1b6da\"], [0.4, \"#fde0ef\"], [0.5, \"#f7f7f7\"], [0.6, \"#e6f5d0\"], [0.7, \"#b8e186\"], [0.8, \"#7fbc41\"], [0.9, \"#4d9221\"], [1, \"#276419\"]], \"sequential\": [[0.0, \"#0d0887\"], [0.1111111111111111, \"#46039f\"], [0.2222222222222222, \"#7201a8\"], [0.3333333333333333, \"#9c179e\"], [0.4444444444444444, \"#bd3786\"], [0.5555555555555556, \"#d8576b\"], [0.6666666666666666, \"#ed7953\"], [0.7777777777777778, \"#fb9f3a\"], [0.8888888888888888, \"#fdca26\"], [1.0, \"#f0f921\"]], \"sequentialminus\": [[0.0, \"#0d0887\"], [0.1111111111111111, \"#46039f\"], [0.2222222222222222, \"#7201a8\"], [0.3333333333333333, \"#9c179e\"], [0.4444444444444444, \"#bd3786\"], [0.5555555555555556, \"#d8576b\"], [0.6666666666666666, \"#ed7953\"], [0.7777777777777778, \"#fb9f3a\"], [0.8888888888888888, \"#fdca26\"], [1.0, \"#f0f921\"]]}, \"colorway\": [\"#636efa\", \"#EF553B\", \"#00cc96\", \"#ab63fa\", \"#FFA15A\", \"#19d3f3\", \"#FF6692\", \"#B6E880\", \"#FF97FF\", \"#FECB52\"], \"font\": {\"color\": \"#2a3f5f\"}, \"geo\": {\"bgcolor\": \"white\", \"lakecolor\": \"white\", \"landcolor\": \"#E5ECF6\", \"showlakes\": true, \"showland\": true, \"subunitcolor\": \"white\"}, \"hoverlabel\": {\"align\": \"left\"}, \"hovermode\": \"closest\", \"mapbox\": {\"style\": \"light\"}, \"paper_bgcolor\": \"white\", \"plot_bgcolor\": \"#E5ECF6\", \"polar\": {\"angularaxis\": {\"gridcolor\": \"white\", \"linecolor\": \"white\", \"ticks\": \"\"}, \"bgcolor\": \"#E5ECF6\", \"radialaxis\": {\"gridcolor\": \"white\", \"linecolor\": \"white\", \"ticks\": \"\"}}, \"scene\": {\"xaxis\": {\"backgroundcolor\": \"#E5ECF6\", \"gridcolor\": \"white\", \"gridwidth\": 2, \"linecolor\": \"white\", \"showbackground\": true, \"ticks\": \"\", \"zerolinecolor\": \"white\"}, \"yaxis\": {\"backgroundcolor\": \"#E5ECF6\", \"gridcolor\": \"white\", \"gridwidth\": 2, \"linecolor\": \"white\", \"showbackground\": true, \"ticks\": \"\", \"zerolinecolor\": \"white\"}, \"zaxis\": {\"backgroundcolor\": \"#E5ECF6\", \"gridcolor\": \"white\", \"gridwidth\": 2, \"linecolor\": \"white\", \"showbackground\": true, \"ticks\": \"\", \"zerolinecolor\": \"white\"}}, \"shapedefaults\": {\"line\": {\"color\": \"#2a3f5f\"}}, \"ternary\": {\"aaxis\": {\"gridcolor\": \"white\", \"linecolor\": \"white\", \"ticks\": \"\"}, \"baxis\": {\"gridcolor\": \"white\", \"linecolor\": \"white\", \"ticks\": \"\"}, \"bgcolor\": \"#E5ECF6\", \"caxis\": {\"gridcolor\": \"white\", \"linecolor\": \"white\", \"ticks\": \"\"}}, \"title\": {\"x\": 0.05}, \"xaxis\": {\"automargin\": true, \"gridcolor\": \"white\", \"linecolor\": \"white\", \"ticks\": \"\", \"title\": {\"standoff\": 15}, \"zerolinecolor\": \"white\", \"zerolinewidth\": 2}, \"yaxis\": {\"automargin\": true, \"gridcolor\": \"white\", \"linecolor\": \"white\", \"ticks\": \"\", \"title\": {\"standoff\": 15}, \"zerolinecolor\": \"white\", \"zerolinewidth\": 2}}}, \"title\": {\"text\": \"Correlation matrix\"}, \"xaxis\": {\"anchor\": \"y\", \"constrain\": \"domain\", \"domain\": [0.0, 1.0], \"scaleanchor\": \"y\"}, \"yaxis\": {\"anchor\": \"x\", \"autorange\": \"reversed\", \"constrain\": \"domain\", \"domain\": [0.0, 1.0]}},                        {\"responsive\": true}                    ).then(function(){\n",
       "                            \n",
       "var gd = document.getElementById('ac76f842-9713-47e5-b305-c23dd5dc522a');\n",
       "var x = new MutationObserver(function (mutations, observer) {{\n",
       "        var display = window.getComputedStyle(gd).display;\n",
       "        if (!display || display === 'none') {{\n",
       "            console.log([gd, 'removed!']);\n",
       "            Plotly.purge(gd);\n",
       "            observer.disconnect();\n",
       "        }}\n",
       "}});\n",
       "\n",
       "// Listen for the removal of the full notebook cells\n",
       "var notebookContainer = gd.closest('#notebook-container');\n",
       "if (notebookContainer) {{\n",
       "    x.observe(notebookContainer, {childList: true});\n",
       "}}\n",
       "\n",
       "// Listen for the clearing of the current output cell\n",
       "var outputEl = gd.closest('.output');\n",
       "if (outputEl) {{\n",
       "    x.observe(outputEl, {childList: true});\n",
       "}}\n",
       "\n",
       "                        })                };                });            </script>        </div>"
      ]
     },
     "metadata": {},
     "output_type": "display_data"
    }
   ],
   "source": [
    "px.imshow(\n",
    "    corr,\n",
    "    color_continuous_scale=\"PuBu\",\n",
    "    color_continuous_midpoint=0.6,\n",
    "    title=\"Correlation matrix\",\n",
    ")"
   ]
  },
  {
   "cell_type": "markdown",
   "metadata": {
    "papermill": {
     "duration": 0.127855,
     "end_time": "2020-12-28T20:42:07.762573",
     "exception": false,
     "start_time": "2020-12-28T20:42:07.634718",
     "status": "completed"
    },
    "tags": []
   },
   "source": [
    "We can see from the correlation matrix that the three variables have a strong positive correlation. We'll look closer at the relations between variables using scatter plots."
   ]
  },
  {
   "cell_type": "markdown",
   "metadata": {
    "collapsed": "true",
    "papermill": {
     "duration": 0.123555,
     "end_time": "2020-12-28T20:42:08.011244",
     "exception": false,
     "start_time": "2020-12-28T20:42:07.887689",
     "status": "completed"
    },
    "tags": []
   },
   "source": [
    "### Scatter plot"
   ]
  },
  {
   "cell_type": "markdown",
   "metadata": {
    "papermill": {
     "duration": 0.121274,
     "end_time": "2020-12-28T20:42:08.256227",
     "exception": false,
     "start_time": "2020-12-28T20:42:08.134953",
     "status": "completed"
    },
    "tags": []
   },
   "source": [
    "Scatter plots are a good way to show the spread of points for two variables `x` and `y`, and view the relation between the two variables (e.g. linear, non-linear, ...) and the trend of the linear relation (positive, negative)\n",
    "\n",
    "An easy way to show multiple scatter plots on the same figure is either using `scatter_matrix` or `pairplot`."
   ]
  },
  {
   "cell_type": "code",
   "execution_count": 59,
   "metadata": {
    "execution": {
     "iopub.execute_input": "2020-12-28T20:42:08.507164Z",
     "iopub.status.busy": "2020-12-28T20:42:08.506403Z",
     "iopub.status.idle": "2020-12-28T20:42:08.608019Z",
     "shell.execute_reply": "2020-12-28T20:42:08.607430Z"
    },
    "papermill": {
     "duration": 0.229641,
     "end_time": "2020-12-28T20:42:08.608161",
     "exception": false,
     "start_time": "2020-12-28T20:42:08.378520",
     "status": "completed"
    },
    "tags": []
   },
   "outputs": [
    {
     "data": {
      "text/html": [
       "<div>                            <div id=\"d5b5045f-b49d-4b2c-a817-05e342960d72\" class=\"plotly-graph-div\" style=\"height:525px; width:100%;\"></div>            <script type=\"text/javascript\">                require([\"plotly\"], function(Plotly) {                    window.PLOTLYENV=window.PLOTLYENV || {};                                    if (document.getElementById(\"d5b5045f-b49d-4b2c-a817-05e342960d72\")) {                    Plotly.newPlot(                        \"d5b5045f-b49d-4b2c-a817-05e342960d72\",                        [{\"dimensions\": [{\"axis\": {\"matches\": true}, \"label\": \"GRE Score\", \"values\": [318, 295, 301, 318, 294, 300, 304, 312, 315, 310, 317, 311, 312, 290, 300, 303, 300, 332, 311, 299, 298, 298, 297, 296, 295, 312, 302, 301, 316, 294, 302, 315, 300, 299, 317, 306, 316, 312, 296, 301, 299, 317, 316, 320, 304, 315, 314, 307, 299, 305, 300, 312, 302, 314, 297, 310, 321, 304, 293, 302, 307, 308, 309, 318, 316, 306, 309, 308, 325, 296, 312, 316, 311, 314, 306, 305, 308, 320, 311, 312, 309, 305, 316, 329, 332, 299, 320, 325, 320, 326, 298, 309, 318, 311, 298, 310, 300, 305, 315, 306, 295, 299, 307, 312, 316, 313, 295, 311, 312, 307, 306, 301, 308, 317, 314, 300, 297, 308, 305, 303, 296, 304, 315, 304, 295, 305, 304, 317, 297, 305, 310, 310, 306, 307, 298, 329, 301, 296, 317, 313, 322, 319, 311, 317, 313, 316, 315, 312, 298, 314, 308, 298, 315, 304, 309, 312, 311, 305, 316, 314, 325, 324, 318, 318, 316, 319, 320, 324, 313, 310, 320, 313, 324, 324, 317, 323, 315, 326, 299, 327, 308, 319, 301, 320, 313, 312, 326, 308, 313, 318, 322, 300, 327, 319, 320, 324, 312, 300, 319, 312, 324, 313, 314, 322, 322, 311, 317, 312, 321, 321, 324, 310, 320, 330, 305, 323, 321, 323, 309, 316, 321, 312, 307, 325, 311, 327, 318, 314, 327, 312, 304, 301, 315, 314, 299, 303, 331, 323, 322, 326, 316, 313, 301, 311, 315, 299, 320, 316, 308, 320, 313, 301, 316, 322, 321, 323, 325, 307, 311, 314, 317, 319, 318, 303, 312, 302, 322, 319, 327, 317, 321, 308, 318, 304, 300, 321, 322, 300, 319, 319, 313, 299, 316, 315, 323, 309, 300, 314, 317, 317, 297, 302, 298, 311, 313, 317, 302, 298, 310, 301, 311, 324, 312, 325, 316, 321, 319, 307, 311, 310, 312, 324, 326, 312, 326, 315, 318, 312, 315, 317, 326, 306, 334, 331, 328, 324, 330, 326, 322, 329, 333, 324, 330, 298, 316, 297, 327, 320, 336, 330, 324, 305, 314, 323, 326, 340, 307, 319, 327, 329, 327, 308, 321, 309, 325, 314, 323, 322, 327, 328, 337, 339, 310, 290, 310, 301, 314, 340, 325, 321, 334, 322, 323, 321, 320, 329, 327, 325, 329, 328, 338, 332, 324, 327, 328, 325, 338, 332, 327, 329, 334, 325, 328, 314, 340, 319, 316, 304, 324, 338, 327, 340, 321, 328, 335, 312, 308, 328, 324, 325, 307, 312, 325, 311, 314, 324, 327, 324, 308, 326, 322, 325, 321, 327, 331, 331, 324, 340, 320, 320, 332, 318, 336, 324, 322, 321, 333, 329, 330, 337, 332, 338, 330, 323, 332, 328, 339, 334, 340, 322, 304, 340, 331, 320, 326, 336, 336, 322, 327, 329, 325, 334, 329, 322, 334, 326, 330, 335, 331, 324, 324, 323, 322, 336, 340, 334, 330, 323, 331, 321, 340, 331, 304, 305, 327, 335, 328, 324, 321, 334, 335, 333, 339, 303, 309, 323, 333, 331, 332, 324]}, {\"axis\": {\"matches\": true}, \"label\": \"TOEFL Score\", \"values\": [110, 93, 98, 109, 95, 105, 105, 99, 100, 110, 106, 98, 100, 100, 99, 98, 99, 112, 99, 100, 92, 99, 100, 101, 99, 98, 99, 96, 98, 93, 102, 103, 98, 94, 104, 100, 106, 109, 99, 97, 100, 100, 101, 110, 101, 105, 107, 105, 100, 102, 102, 105, 99, 106, 96, 105, 107, 102, 97, 101, 105, 102, 111, 100, 99, 106, 104, 103, 110, 97, 105, 103, 106, 105, 105, 104, 103, 101, 104, 105, 105, 107, 100, 110, 118, 96, 112, 112, 113, 116, 98, 106, 106, 101, 98, 99, 97, 106, 99, 103, 99, 106, 108, 107, 105, 107, 101, 105, 110, 105, 110, 104, 109, 106, 103, 95, 98, 101, 105, 100, 99, 100, 105, 97, 96, 103, 100, 104, 96, 102, 106, 103, 105, 107, 97, 114, 99, 95, 103, 106, 105, 108, 99, 107, 94, 107, 110, 101, 99, 107, 104, 101, 107, 105, 100, 100, 104, 105, 102, 102, 114, 115, 106, 112, 105, 106, 104, 110, 104, 104, 108, 109, 100, 111, 106, 104, 104, 116, 100, 113, 106, 108, 100, 104, 102, 107, 110, 106, 101, 107, 110, 102, 109, 110, 104, 110, 108, 100, 105, 104, 111, 102, 107, 104, 110, 102, 110, 106, 111, 109, 110, 107, 120, 114, 112, 107, 109, 110, 99, 110, 111, 104, 101, 111, 103, 114, 109, 106, 112, 105, 107, 102, 106, 108, 97, 99, 120, 113, 107, 112, 110, 103, 107, 105, 101, 102, 108, 102, 108, 103, 98, 99, 104, 110, 109, 108, 106, 109, 104, 105, 107, 106, 110, 102, 107, 110, 112, 102, 103, 106, 102, 110, 103, 104, 101, 110, 110, 100, 103, 112, 102, 100, 103, 104, 113, 108, 104, 110, 107, 101, 101, 102, 100, 104, 107, 103, 99, 105, 102, 104, 101, 109, 103, 107, 109, 112, 110, 102, 104, 101, 106, 105, 108, 103, 114, 105, 109, 109, 105, 105, 112, 103, 116, 116, 116, 113, 116, 112, 103, 111, 117, 112, 116, 101, 111, 99, 118, 112, 119, 114, 110, 96, 99, 110, 114, 113, 105, 105, 115, 113, 116, 105, 110, 105, 110, 102, 107, 112, 106, 113, 118, 116, 106, 104, 106, 106, 109, 120, 110, 109, 114, 110, 113, 111, 111, 119, 113, 108, 111, 110, 117, 119, 107, 111, 112, 114, 118, 117, 111, 111, 116, 112, 115, 108, 120, 103, 109, 100, 112, 120, 113, 112, 114, 108, 115, 103, 110, 110, 112, 112, 110, 107, 112, 107, 104, 111, 113, 110, 108, 102, 112, 111, 109, 113, 119, 117, 113, 115, 110, 110, 118, 101, 112, 114, 115, 111, 119, 114, 120, 117, 108, 115, 115, 108, 118, 116, 119, 119, 120, 109, 103, 114, 112, 110, 113, 118, 119, 110, 108, 113, 114, 119, 114, 110, 117, 111, 113, 118, 115, 112, 111, 110, 114, 118, 120, 120, 116, 111, 116, 112, 115, 116, 103, 108, 104, 117, 116, 113, 114, 119, 117, 118, 114, 105, 105, 112, 113, 115, 116, 107]}, {\"axis\": {\"matches\": true}, \"label\": \"CGPA\", \"values\": [8.54, 7.2, 8.03, 9.12, 7.64, 7.8, 7.5, 8.01, 7.95, 7.23, 7.65, 7.46, 8.53, 7.56, 8.01, 7.65, 6.8, 8.66, 8.43, 7.89, 7.88, 7.46, 7.9, 7.68, 7.57, 8.18, 7.25, 7.56, 7.43, 7.36, 8.0, 7.86, 8.02, 7.34, 8.47, 8.0, 8.32, 9.02, 7.28, 7.88, 7.88, 8.57, 8.32, 8.56, 7.66, 7.65, 8.56, 7.65, 7.88, 7.64, 7.87, 8.12, 7.97, 8.25, 7.43, 8.01, 8.44, 8.73, 7.8, 7.96, 8.1, 7.98, 8.03, 8.54, 9.0, 8.14, 8.26, 8.36, 8.76, 7.8, 8.45, 8.74, 8.26, 7.64, 8.22, 7.79, 8.49, 8.62, 8.48, 8.46, 7.68, 8.42, 8.16, 9.15, 9.36, 7.86, 8.78, 8.96, 8.64, 9.08, 8.03, 8.0, 7.92, 8.34, 7.5, 7.3, 8.1, 8.16, 7.89, 8.36, 7.65, 8.4, 7.7, 8.27, 8.2, 8.5, 7.86, 8.12, 8.53, 8.12, 8.45, 7.89, 8.45, 8.12, 8.21, 8.22, 7.67, 7.9, 8.23, 8.06, 8.03, 8.22, 8.34, 7.64, 7.34, 8.13, 8.07, 8.76, 7.89, 8.18, 8.33, 8.24, 8.26, 8.52, 7.21, 8.56, 8.22, 7.54, 8.15, 8.43, 8.45, 8.76, 7.98, 8.28, 8.13, 8.64, 8.46, 8.04, 7.6, 8.27, 8.07, 7.86, 8.5, 8.2, 8.1, 7.9, 8.3, 8.13, 8.15, 8.24, 9.04, 8.76, 8.65, 8.67, 8.73, 8.33, 8.57, 8.87, 8.65, 8.37, 8.44, 9.0, 8.64, 8.8, 8.5, 8.44, 8.33, 9.14, 8.02, 8.66, 8.21, 8.54, 8.04, 8.34, 8.9, 8.46, 8.76, 8.24, 8.04, 8.27, 8.64, 8.17, 8.77, 8.79, 8.74, 9.22, 8.53, 8.26, 8.67, 8.09, 8.79, 8.68, 8.17, 8.84, 8.96, 8.64, 9.11, 8.79, 8.9, 8.54, 9.04, 8.67, 9.11, 9.24, 8.65, 8.55, 8.8, 9.1, 8.56, 8.56, 8.83, 8.42, 8.2, 8.7, 8.09, 9.02, 9.22, 8.9, 8.72, 8.02, 7.86, 8.13, 8.42, 8.14, 7.66, 7.66, 8.96, 8.88, 8.46, 9.05, 8.78, 8.75, 8.34, 8.45, 9.13, 8.62, 8.97, 7.4, 8.22, 7.7, 8.3, 8.45, 8.0, 8.67, 8.2, 8.6, 8.4, 8.0, 8.2, 8.3, 8.7, 8.0, 8.8, 8.5, 7.9, 8.5, 8.62, 8.37, 8.3, 7.89, 9.01, 8.0, 8.49, 8.12, 7.88, 8.85, 8.0, 8.66, 8.76, 8.71, 8.27, 7.42, 7.68, 8.1, 9.32, 8.12, 8.16, 8.8, 8.68, 7.94, 7.67, 8.33, 7.95, 8.43, 8.69, 8.54, 7.45, 8.54, 8.02, 8.12, 7.64, 8.94, 8.78, 9.11, 8.76, 8.95, 9.04, 8.27, 8.13, 8.65, 8.57, 8.75, 8.89, 8.45, 9.11, 8.34, 8.5, 8.69, 8.48, 8.56, 9.1, 8.21, 9.54, 9.44, 9.6, 9.25, 9.45, 9.12, 8.02, 9.23, 9.66, 9.22, 9.23, 7.69, 8.54, 7.81, 9.67, 8.86, 9.62, 9.17, 9.15, 8.26, 8.73, 8.88, 9.16, 9.74, 7.94, 8.66, 9.14, 9.36, 9.48, 7.95, 8.35, 8.18, 8.96, 7.88, 8.48, 9.02, 8.75, 8.77, 9.65, 9.8, 9.04, 7.46, 8.36, 8.47, 8.77, 9.92, 8.67, 8.68, 9.43, 9.13, 9.23, 8.97, 8.87, 9.16, 9.11, 9.06, 9.01, 9.14, 9.46, 9.24, 8.87, 9.0, 9.1, 8.4, 9.4, 9.1, 8.4, 9.18, 8.0, 8.92, 9.16, 9.04, 9.5, 8.66, 8.76, 7.84, 8.1, 9.66, 9.04, 9.66, 9.12, 9.18, 9.68, 8.43, 8.6, 9.02, 8.77, 9.0, 8.37, 8.65, 9.17, 9.0, 9.02, 9.01, 8.69, 8.97, 8.34, 8.76, 9.26, 9.11, 9.13, 9.14, 9.34, 9.42, 8.79, 9.45, 9.22, 9.27, 9.64, 8.78, 9.76, 9.08, 9.36, 9.45, 9.78, 9.3, 9.56, 9.87, 9.02, 9.23, 9.34, 8.74, 9.47, 9.5, 9.7, 9.7, 9.6, 8.8, 7.92, 9.6, 9.8, 9.2, 9.4, 9.19, 9.8, 9.1, 9.13, 9.45, 9.46, 9.54, 9.19, 8.97, 9.07, 9.23, 9.31, 9.44, 9.36, 9.08, 9.16, 8.98, 8.94, 9.53, 9.91, 9.87, 9.36, 9.86, 9.26, 9.06, 9.06, 9.38, 8.64, 8.48, 8.84, 9.56, 9.08, 9.25, 9.16, 9.48, 9.82, 9.35, 9.76, 8.65, 8.56, 8.78, 9.28, 9.44, 9.28, 8.66]}], \"hovertemplate\": \"%{xaxis.title.text}=%{x}<br>%{yaxis.title.text}=%{y}<extra></extra>\", \"legendgroup\": \"\", \"marker\": {\"color\": \"#636efa\", \"symbol\": \"circle\"}, \"name\": \"\", \"showlegend\": false, \"type\": \"splom\"}],                        {\"dragmode\": \"select\", \"legend\": {\"tracegroupgap\": 0}, \"template\": {\"data\": {\"bar\": [{\"error_x\": {\"color\": \"#2a3f5f\"}, \"error_y\": {\"color\": \"#2a3f5f\"}, \"marker\": {\"line\": {\"color\": \"#E5ECF6\", \"width\": 0.5}}, \"type\": \"bar\"}], \"barpolar\": [{\"marker\": {\"line\": {\"color\": \"#E5ECF6\", \"width\": 0.5}}, \"type\": \"barpolar\"}], \"carpet\": [{\"aaxis\": {\"endlinecolor\": \"#2a3f5f\", \"gridcolor\": \"white\", \"linecolor\": \"white\", \"minorgridcolor\": \"white\", \"startlinecolor\": \"#2a3f5f\"}, \"baxis\": {\"endlinecolor\": \"#2a3f5f\", \"gridcolor\": \"white\", \"linecolor\": \"white\", \"minorgridcolor\": \"white\", \"startlinecolor\": \"#2a3f5f\"}, \"type\": \"carpet\"}], \"choropleth\": [{\"colorbar\": {\"outlinewidth\": 0, \"ticks\": \"\"}, \"type\": \"choropleth\"}], \"contour\": [{\"colorbar\": {\"outlinewidth\": 0, \"ticks\": \"\"}, \"colorscale\": [[0.0, \"#0d0887\"], [0.1111111111111111, \"#46039f\"], [0.2222222222222222, \"#7201a8\"], [0.3333333333333333, \"#9c179e\"], [0.4444444444444444, \"#bd3786\"], [0.5555555555555556, \"#d8576b\"], [0.6666666666666666, \"#ed7953\"], [0.7777777777777778, \"#fb9f3a\"], [0.8888888888888888, \"#fdca26\"], [1.0, \"#f0f921\"]], \"type\": \"contour\"}], \"contourcarpet\": [{\"colorbar\": {\"outlinewidth\": 0, \"ticks\": \"\"}, \"type\": \"contourcarpet\"}], \"heatmap\": [{\"colorbar\": {\"outlinewidth\": 0, \"ticks\": \"\"}, \"colorscale\": [[0.0, \"#0d0887\"], [0.1111111111111111, \"#46039f\"], [0.2222222222222222, \"#7201a8\"], [0.3333333333333333, \"#9c179e\"], [0.4444444444444444, \"#bd3786\"], [0.5555555555555556, \"#d8576b\"], [0.6666666666666666, \"#ed7953\"], [0.7777777777777778, \"#fb9f3a\"], [0.8888888888888888, \"#fdca26\"], [1.0, \"#f0f921\"]], \"type\": \"heatmap\"}], \"heatmapgl\": [{\"colorbar\": {\"outlinewidth\": 0, \"ticks\": \"\"}, \"colorscale\": [[0.0, \"#0d0887\"], [0.1111111111111111, \"#46039f\"], [0.2222222222222222, \"#7201a8\"], [0.3333333333333333, \"#9c179e\"], [0.4444444444444444, \"#bd3786\"], [0.5555555555555556, \"#d8576b\"], [0.6666666666666666, \"#ed7953\"], [0.7777777777777778, \"#fb9f3a\"], [0.8888888888888888, \"#fdca26\"], [1.0, \"#f0f921\"]], \"type\": \"heatmapgl\"}], \"histogram\": [{\"marker\": {\"colorbar\": {\"outlinewidth\": 0, \"ticks\": \"\"}}, \"type\": \"histogram\"}], \"histogram2d\": [{\"colorbar\": {\"outlinewidth\": 0, \"ticks\": \"\"}, \"colorscale\": [[0.0, \"#0d0887\"], [0.1111111111111111, \"#46039f\"], [0.2222222222222222, \"#7201a8\"], [0.3333333333333333, \"#9c179e\"], [0.4444444444444444, \"#bd3786\"], [0.5555555555555556, \"#d8576b\"], [0.6666666666666666, \"#ed7953\"], [0.7777777777777778, \"#fb9f3a\"], [0.8888888888888888, \"#fdca26\"], [1.0, \"#f0f921\"]], \"type\": \"histogram2d\"}], \"histogram2dcontour\": [{\"colorbar\": {\"outlinewidth\": 0, \"ticks\": \"\"}, \"colorscale\": [[0.0, \"#0d0887\"], [0.1111111111111111, \"#46039f\"], [0.2222222222222222, \"#7201a8\"], [0.3333333333333333, \"#9c179e\"], [0.4444444444444444, \"#bd3786\"], [0.5555555555555556, \"#d8576b\"], [0.6666666666666666, \"#ed7953\"], [0.7777777777777778, \"#fb9f3a\"], [0.8888888888888888, \"#fdca26\"], [1.0, \"#f0f921\"]], \"type\": \"histogram2dcontour\"}], \"mesh3d\": [{\"colorbar\": {\"outlinewidth\": 0, \"ticks\": \"\"}, \"type\": \"mesh3d\"}], \"parcoords\": [{\"line\": {\"colorbar\": {\"outlinewidth\": 0, \"ticks\": \"\"}}, \"type\": \"parcoords\"}], \"pie\": [{\"automargin\": true, \"type\": \"pie\"}], \"scatter\": [{\"marker\": {\"colorbar\": {\"outlinewidth\": 0, \"ticks\": \"\"}}, \"type\": \"scatter\"}], \"scatter3d\": [{\"line\": {\"colorbar\": {\"outlinewidth\": 0, \"ticks\": \"\"}}, \"marker\": {\"colorbar\": {\"outlinewidth\": 0, \"ticks\": \"\"}}, \"type\": \"scatter3d\"}], \"scattercarpet\": [{\"marker\": {\"colorbar\": {\"outlinewidth\": 0, \"ticks\": \"\"}}, \"type\": \"scattercarpet\"}], \"scattergeo\": [{\"marker\": {\"colorbar\": {\"outlinewidth\": 0, \"ticks\": \"\"}}, \"type\": \"scattergeo\"}], \"scattergl\": [{\"marker\": {\"colorbar\": {\"outlinewidth\": 0, \"ticks\": \"\"}}, \"type\": \"scattergl\"}], \"scattermapbox\": [{\"marker\": {\"colorbar\": {\"outlinewidth\": 0, \"ticks\": \"\"}}, \"type\": \"scattermapbox\"}], \"scatterpolar\": [{\"marker\": {\"colorbar\": {\"outlinewidth\": 0, \"ticks\": \"\"}}, \"type\": \"scatterpolar\"}], \"scatterpolargl\": [{\"marker\": {\"colorbar\": {\"outlinewidth\": 0, \"ticks\": \"\"}}, \"type\": \"scatterpolargl\"}], \"scatterternary\": [{\"marker\": {\"colorbar\": {\"outlinewidth\": 0, \"ticks\": \"\"}}, \"type\": \"scatterternary\"}], \"surface\": [{\"colorbar\": {\"outlinewidth\": 0, \"ticks\": \"\"}, \"colorscale\": [[0.0, \"#0d0887\"], [0.1111111111111111, \"#46039f\"], [0.2222222222222222, \"#7201a8\"], [0.3333333333333333, \"#9c179e\"], [0.4444444444444444, \"#bd3786\"], [0.5555555555555556, \"#d8576b\"], [0.6666666666666666, \"#ed7953\"], [0.7777777777777778, \"#fb9f3a\"], [0.8888888888888888, \"#fdca26\"], [1.0, \"#f0f921\"]], \"type\": \"surface\"}], \"table\": [{\"cells\": {\"fill\": {\"color\": \"#EBF0F8\"}, \"line\": {\"color\": \"white\"}}, \"header\": {\"fill\": {\"color\": \"#C8D4E3\"}, \"line\": {\"color\": \"white\"}}, \"type\": \"table\"}]}, \"layout\": {\"annotationdefaults\": {\"arrowcolor\": \"#2a3f5f\", \"arrowhead\": 0, \"arrowwidth\": 1}, \"autotypenumbers\": \"strict\", \"coloraxis\": {\"colorbar\": {\"outlinewidth\": 0, \"ticks\": \"\"}}, \"colorscale\": {\"diverging\": [[0, \"#8e0152\"], [0.1, \"#c51b7d\"], [0.2, \"#de77ae\"], [0.3, \"#f1b6da\"], [0.4, \"#fde0ef\"], [0.5, \"#f7f7f7\"], [0.6, \"#e6f5d0\"], [0.7, \"#b8e186\"], [0.8, \"#7fbc41\"], [0.9, \"#4d9221\"], [1, \"#276419\"]], \"sequential\": [[0.0, \"#0d0887\"], [0.1111111111111111, \"#46039f\"], [0.2222222222222222, \"#7201a8\"], [0.3333333333333333, \"#9c179e\"], [0.4444444444444444, \"#bd3786\"], [0.5555555555555556, \"#d8576b\"], [0.6666666666666666, \"#ed7953\"], [0.7777777777777778, \"#fb9f3a\"], [0.8888888888888888, \"#fdca26\"], [1.0, \"#f0f921\"]], \"sequentialminus\": [[0.0, \"#0d0887\"], [0.1111111111111111, \"#46039f\"], [0.2222222222222222, \"#7201a8\"], [0.3333333333333333, \"#9c179e\"], [0.4444444444444444, \"#bd3786\"], [0.5555555555555556, \"#d8576b\"], [0.6666666666666666, \"#ed7953\"], [0.7777777777777778, \"#fb9f3a\"], [0.8888888888888888, \"#fdca26\"], [1.0, \"#f0f921\"]]}, \"colorway\": [\"#636efa\", \"#EF553B\", \"#00cc96\", \"#ab63fa\", \"#FFA15A\", \"#19d3f3\", \"#FF6692\", \"#B6E880\", \"#FF97FF\", \"#FECB52\"], \"font\": {\"color\": \"#2a3f5f\"}, \"geo\": {\"bgcolor\": \"white\", \"lakecolor\": \"white\", \"landcolor\": \"#E5ECF6\", \"showlakes\": true, \"showland\": true, \"subunitcolor\": \"white\"}, \"hoverlabel\": {\"align\": \"left\"}, \"hovermode\": \"closest\", \"mapbox\": {\"style\": \"light\"}, \"paper_bgcolor\": \"white\", \"plot_bgcolor\": \"#E5ECF6\", \"polar\": {\"angularaxis\": {\"gridcolor\": \"white\", \"linecolor\": \"white\", \"ticks\": \"\"}, \"bgcolor\": \"#E5ECF6\", \"radialaxis\": {\"gridcolor\": \"white\", \"linecolor\": \"white\", \"ticks\": \"\"}}, \"scene\": {\"xaxis\": {\"backgroundcolor\": \"#E5ECF6\", \"gridcolor\": \"white\", \"gridwidth\": 2, \"linecolor\": \"white\", \"showbackground\": true, \"ticks\": \"\", \"zerolinecolor\": \"white\"}, \"yaxis\": {\"backgroundcolor\": \"#E5ECF6\", \"gridcolor\": \"white\", \"gridwidth\": 2, \"linecolor\": \"white\", \"showbackground\": true, \"ticks\": \"\", \"zerolinecolor\": \"white\"}, \"zaxis\": {\"backgroundcolor\": \"#E5ECF6\", \"gridcolor\": \"white\", \"gridwidth\": 2, \"linecolor\": \"white\", \"showbackground\": true, \"ticks\": \"\", \"zerolinecolor\": \"white\"}}, \"shapedefaults\": {\"line\": {\"color\": \"#2a3f5f\"}}, \"ternary\": {\"aaxis\": {\"gridcolor\": \"white\", \"linecolor\": \"white\", \"ticks\": \"\"}, \"baxis\": {\"gridcolor\": \"white\", \"linecolor\": \"white\", \"ticks\": \"\"}, \"bgcolor\": \"#E5ECF6\", \"caxis\": {\"gridcolor\": \"white\", \"linecolor\": \"white\", \"ticks\": \"\"}}, \"title\": {\"x\": 0.05}, \"xaxis\": {\"automargin\": true, \"gridcolor\": \"white\", \"linecolor\": \"white\", \"ticks\": \"\", \"title\": {\"standoff\": 15}, \"zerolinecolor\": \"white\", \"zerolinewidth\": 2}, \"yaxis\": {\"automargin\": true, \"gridcolor\": \"white\", \"linecolor\": \"white\", \"ticks\": \"\", \"title\": {\"standoff\": 15}, \"zerolinecolor\": \"white\", \"zerolinewidth\": 2}}}, \"title\": {\"text\": \"Scatter matrix of student's TOEFL Score, GRE Score, and CGPA\"}},                        {\"responsive\": true}                    ).then(function(){\n",
       "                            \n",
       "var gd = document.getElementById('d5b5045f-b49d-4b2c-a817-05e342960d72');\n",
       "var x = new MutationObserver(function (mutations, observer) {{\n",
       "        var display = window.getComputedStyle(gd).display;\n",
       "        if (!display || display === 'none') {{\n",
       "            console.log([gd, 'removed!']);\n",
       "            Plotly.purge(gd);\n",
       "            observer.disconnect();\n",
       "        }}\n",
       "}});\n",
       "\n",
       "// Listen for the removal of the full notebook cells\n",
       "var notebookContainer = gd.closest('#notebook-container');\n",
       "if (notebookContainer) {{\n",
       "    x.observe(notebookContainer, {childList: true});\n",
       "}}\n",
       "\n",
       "// Listen for the clearing of the current output cell\n",
       "var outputEl = gd.closest('.output');\n",
       "if (outputEl) {{\n",
       "    x.observe(outputEl, {childList: true});\n",
       "}}\n",
       "\n",
       "                        })                };                });            </script>        </div>"
      ]
     },
     "metadata": {},
     "output_type": "display_data"
    }
   ],
   "source": [
    "fig = px.scatter_matrix(\n",
    "    df,\n",
    "    dimensions=numeric_cols,\n",
    "    title=\"Scatter matrix of student's TOEFL Score, GRE Score, and CGPA\",\n",
    ")\n",
    "\n",
    "fig.show()"
   ]
  },
  {
   "cell_type": "code",
   "execution_count": 60,
   "metadata": {
    "execution": {
     "iopub.execute_input": "2020-12-28T20:42:08.880703Z",
     "iopub.status.busy": "2020-12-28T20:42:08.878708Z",
     "iopub.status.idle": "2020-12-28T20:42:13.423243Z",
     "shell.execute_reply": "2020-12-28T20:42:13.423801Z"
    },
    "papermill": {
     "duration": 4.688373,
     "end_time": "2020-12-28T20:42:13.423963",
     "exception": false,
     "start_time": "2020-12-28T20:42:08.735590",
     "status": "completed"
    },
    "tags": []
   },
   "outputs": [
    {
     "data": {
      "text/plain": [
       "<seaborn.axisgrid.PairGrid at 0x7f829dd7e650>"
      ]
     },
     "execution_count": 60,
     "metadata": {},
     "output_type": "execute_result"
    },
    {
     "data": {
      "image/png": "[encoded data removed]",
      "text/plain": [
       "<Figure size 540x540 with 12 Axes>"
      ]
     },
     "metadata": {},
     "output_type": "display_data"
    }
   ],
   "source": [
    "sns.pairplot(data=df, vars=numeric_cols)"
   ]
  },
  {
   "cell_type": "markdown",
   "metadata": {
    "papermill": {
     "duration": 0.135265,
     "end_time": "2020-12-28T20:42:13.688374",
     "exception": false,
     "start_time": "2020-12-28T20:42:13.553109",
     "status": "completed"
    },
    "tags": []
   },
   "source": [
    "It's evident from these plots that the relation between the variables is positive linear relation, with some outlier points, and they all have an upward trend.\n",
    "\n",
    "Let's show the scatter for each two variables at a time:"
   ]
  },
  {
   "cell_type": "markdown",
   "metadata": {
    "papermill": {
     "duration": 0.127685,
     "end_time": "2020-12-28T20:42:13.972226",
     "exception": false,
     "start_time": "2020-12-28T20:42:13.844541",
     "status": "completed"
    },
    "tags": []
   },
   "source": [
    "#### `TOEFL Score` vs. `GRE Score`"
   ]
  },
  {
   "cell_type": "code",
   "execution_count": 61,
   "metadata": {
    "execution": {
     "iopub.execute_input": "2020-12-28T20:42:14.246245Z",
     "iopub.status.busy": "2020-12-28T20:42:14.245340Z",
     "iopub.status.idle": "2020-12-28T20:42:15.433095Z",
     "shell.execute_reply": "2020-12-28T20:42:15.431912Z"
    },
    "papermill": {
     "duration": 1.321683,
     "end_time": "2020-12-28T20:42:15.433226",
     "exception": false,
     "start_time": "2020-12-28T20:42:14.111543",
     "status": "completed"
    },
    "tags": []
   },
   "outputs": [
    {
     "data": {
      "text/html": [
       "<div>                            <div id=\"93fcc72b-52e5-4976-8244-b231742e6092\" class=\"plotly-graph-div\" style=\"height:525px; width:100%;\"></div>            <script type=\"text/javascript\">                require([\"plotly\"], function(Plotly) {                    window.PLOTLYENV=window.PLOTLYENV || {};                                    if (document.getElementById(\"93fcc72b-52e5-4976-8244-b231742e6092\")) {                    Plotly.newPlot(                        \"93fcc72b-52e5-4976-8244-b231742e6092\",                        [{\"hovertemplate\": \"TOEFL Score=%{x}<br>GRE Score=%{y}<extra></extra>\", \"legendgroup\": \"\", \"marker\": {\"color\": \"#636efa\", \"symbol\": \"circle\"}, \"mode\": \"markers\", \"name\": \"\", \"orientation\": \"v\", \"showlegend\": false, \"type\": \"scatter\", \"x\": [110, 93, 98, 109, 95, 105, 105, 99, 100, 110, 106, 98, 100, 100, 99, 98, 99, 112, 99, 100, 92, 99, 100, 101, 99, 98, 99, 96, 98, 93, 102, 103, 98, 94, 104, 100, 106, 109, 99, 97, 100, 100, 101, 110, 101, 105, 107, 105, 100, 102, 102, 105, 99, 106, 96, 105, 107, 102, 97, 101, 105, 102, 111, 100, 99, 106, 104, 103, 110, 97, 105, 103, 106, 105, 105, 104, 103, 101, 104, 105, 105, 107, 100, 110, 118, 96, 112, 112, 113, 116, 98, 106, 106, 101, 98, 99, 97, 106, 99, 103, 99, 106, 108, 107, 105, 107, 101, 105, 110, 105, 110, 104, 109, 106, 103, 95, 98, 101, 105, 100, 99, 100, 105, 97, 96, 103, 100, 104, 96, 102, 106, 103, 105, 107, 97, 114, 99, 95, 103, 106, 105, 108, 99, 107, 94, 107, 110, 101, 99, 107, 104, 101, 107, 105, 100, 100, 104, 105, 102, 102, 114, 115, 106, 112, 105, 106, 104, 110, 104, 104, 108, 109, 100, 111, 106, 104, 104, 116, 100, 113, 106, 108, 100, 104, 102, 107, 110, 106, 101, 107, 110, 102, 109, 110, 104, 110, 108, 100, 105, 104, 111, 102, 107, 104, 110, 102, 110, 106, 111, 109, 110, 107, 120, 114, 112, 107, 109, 110, 99, 110, 111, 104, 101, 111, 103, 114, 109, 106, 112, 105, 107, 102, 106, 108, 97, 99, 120, 113, 107, 112, 110, 103, 107, 105, 101, 102, 108, 102, 108, 103, 98, 99, 104, 110, 109, 108, 106, 109, 104, 105, 107, 106, 110, 102, 107, 110, 112, 102, 103, 106, 102, 110, 103, 104, 101, 110, 110, 100, 103, 112, 102, 100, 103, 104, 113, 108, 104, 110, 107, 101, 101, 102, 100, 104, 107, 103, 99, 105, 102, 104, 101, 109, 103, 107, 109, 112, 110, 102, 104, 101, 106, 105, 108, 103, 114, 105, 109, 109, 105, 105, 112, 103, 116, 116, 116, 113, 116, 112, 103, 111, 117, 112, 116, 101, 111, 99, 118, 112, 119, 114, 110, 96, 99, 110, 114, 113, 105, 105, 115, 113, 116, 105, 110, 105, 110, 102, 107, 112, 106, 113, 118, 116, 106, 104, 106, 106, 109, 120, 110, 109, 114, 110, 113, 111, 111, 119, 113, 108, 111, 110, 117, 119, 107, 111, 112, 114, 118, 117, 111, 111, 116, 112, 115, 108, 120, 103, 109, 100, 112, 120, 113, 112, 114, 108, 115, 103, 110, 110, 112, 112, 110, 107, 112, 107, 104, 111, 113, 110, 108, 102, 112, 111, 109, 113, 119, 117, 113, 115, 110, 110, 118, 101, 112, 114, 115, 111, 119, 114, 120, 117, 108, 115, 115, 108, 118, 116, 119, 119, 120, 109, 103, 114, 112, 110, 113, 118, 119, 110, 108, 113, 114, 119, 114, 110, 117, 111, 113, 118, 115, 112, 111, 110, 114, 118, 120, 120, 116, 111, 116, 112, 115, 116, 103, 108, 104, 117, 116, 113, 114, 119, 117, 118, 114, 105, 105, 112, 113, 115, 116, 107], \"xaxis\": \"x\", \"y\": [318, 295, 301, 318, 294, 300, 304, 312, 315, 310, 317, 311, 312, 290, 300, 303, 300, 332, 311, 299, 298, 298, 297, 296, 295, 312, 302, 301, 316, 294, 302, 315, 300, 299, 317, 306, 316, 312, 296, 301, 299, 317, 316, 320, 304, 315, 314, 307, 299, 305, 300, 312, 302, 314, 297, 310, 321, 304, 293, 302, 307, 308, 309, 318, 316, 306, 309, 308, 325, 296, 312, 316, 311, 314, 306, 305, 308, 320, 311, 312, 309, 305, 316, 329, 332, 299, 320, 325, 320, 326, 298, 309, 318, 311, 298, 310, 300, 305, 315, 306, 295, 299, 307, 312, 316, 313, 295, 311, 312, 307, 306, 301, 308, 317, 314, 300, 297, 308, 305, 303, 296, 304, 315, 304, 295, 305, 304, 317, 297, 305, 310, 310, 306, 307, 298, 329, 301, 296, 317, 313, 322, 319, 311, 317, 313, 316, 315, 312, 298, 314, 308, 298, 315, 304, 309, 312, 311, 305, 316, 314, 325, 324, 318, 318, 316, 319, 320, 324, 313, 310, 320, 313, 324, 324, 317, 323, 315, 326, 299, 327, 308, 319, 301, 320, 313, 312, 326, 308, 313, 318, 322, 300, 327, 319, 320, 324, 312, 300, 319, 312, 324, 313, 314, 322, 322, 311, 317, 312, 321, 321, 324, 310, 320, 330, 305, 323, 321, 323, 309, 316, 321, 312, 307, 325, 311, 327, 318, 314, 327, 312, 304, 301, 315, 314, 299, 303, 331, 323, 322, 326, 316, 313, 301, 311, 315, 299, 320, 316, 308, 320, 313, 301, 316, 322, 321, 323, 325, 307, 311, 314, 317, 319, 318, 303, 312, 302, 322, 319, 327, 317, 321, 308, 318, 304, 300, 321, 322, 300, 319, 319, 313, 299, 316, 315, 323, 309, 300, 314, 317, 317, 297, 302, 298, 311, 313, 317, 302, 298, 310, 301, 311, 324, 312, 325, 316, 321, 319, 307, 311, 310, 312, 324, 326, 312, 326, 315, 318, 312, 315, 317, 326, 306, 334, 331, 328, 324, 330, 326, 322, 329, 333, 324, 330, 298, 316, 297, 327, 320, 336, 330, 324, 305, 314, 323, 326, 340, 307, 319, 327, 329, 327, 308, 321, 309, 325, 314, 323, 322, 327, 328, 337, 339, 310, 290, 310, 301, 314, 340, 325, 321, 334, 322, 323, 321, 320, 329, 327, 325, 329, 328, 338, 332, 324, 327, 328, 325, 338, 332, 327, 329, 334, 325, 328, 314, 340, 319, 316, 304, 324, 338, 327, 340, 321, 328, 335, 312, 308, 328, 324, 325, 307, 312, 325, 311, 314, 324, 327, 324, 308, 326, 322, 325, 321, 327, 331, 331, 324, 340, 320, 320, 332, 318, 336, 324, 322, 321, 333, 329, 330, 337, 332, 338, 330, 323, 332, 328, 339, 334, 340, 322, 304, 340, 331, 320, 326, 336, 336, 322, 327, 329, 325, 334, 329, 322, 334, 326, 330, 335, 331, 324, 324, 323, 322, 336, 340, 334, 330, 323, 331, 321, 340, 331, 304, 305, 327, 335, 328, 324, 321, 334, 335, 333, 339, 303, 309, 323, 333, 331, 332, 324], \"yaxis\": \"y\"}, {\"alignmentgroup\": \"True\", \"bingroup\": \"x\", \"hovertemplate\": \"TOEFL Score=%{x}<br>count=%{y}<extra></extra>\", \"legendgroup\": \"\", \"marker\": {\"color\": \"#636efa\"}, \"name\": \"\", \"offsetgroup\": \"\", \"opacity\": 0.5, \"showlegend\": false, \"type\": \"histogram\", \"x\": [110, 93, 98, 109, 95, 105, 105, 99, 100, 110, 106, 98, 100, 100, 99, 98, 99, 112, 99, 100, 92, 99, 100, 101, 99, 98, 99, 96, 98, 93, 102, 103, 98, 94, 104, 100, 106, 109, 99, 97, 100, 100, 101, 110, 101, 105, 107, 105, 100, 102, 102, 105, 99, 106, 96, 105, 107, 102, 97, 101, 105, 102, 111, 100, 99, 106, 104, 103, 110, 97, 105, 103, 106, 105, 105, 104, 103, 101, 104, 105, 105, 107, 100, 110, 118, 96, 112, 112, 113, 116, 98, 106, 106, 101, 98, 99, 97, 106, 99, 103, 99, 106, 108, 107, 105, 107, 101, 105, 110, 105, 110, 104, 109, 106, 103, 95, 98, 101, 105, 100, 99, 100, 105, 97, 96, 103, 100, 104, 96, 102, 106, 103, 105, 107, 97, 114, 99, 95, 103, 106, 105, 108, 99, 107, 94, 107, 110, 101, 99, 107, 104, 101, 107, 105, 100, 100, 104, 105, 102, 102, 114, 115, 106, 112, 105, 106, 104, 110, 104, 104, 108, 109, 100, 111, 106, 104, 104, 116, 100, 113, 106, 108, 100, 104, 102, 107, 110, 106, 101, 107, 110, 102, 109, 110, 104, 110, 108, 100, 105, 104, 111, 102, 107, 104, 110, 102, 110, 106, 111, 109, 110, 107, 120, 114, 112, 107, 109, 110, 99, 110, 111, 104, 101, 111, 103, 114, 109, 106, 112, 105, 107, 102, 106, 108, 97, 99, 120, 113, 107, 112, 110, 103, 107, 105, 101, 102, 108, 102, 108, 103, 98, 99, 104, 110, 109, 108, 106, 109, 104, 105, 107, 106, 110, 102, 107, 110, 112, 102, 103, 106, 102, 110, 103, 104, 101, 110, 110, 100, 103, 112, 102, 100, 103, 104, 113, 108, 104, 110, 107, 101, 101, 102, 100, 104, 107, 103, 99, 105, 102, 104, 101, 109, 103, 107, 109, 112, 110, 102, 104, 101, 106, 105, 108, 103, 114, 105, 109, 109, 105, 105, 112, 103, 116, 116, 116, 113, 116, 112, 103, 111, 117, 112, 116, 101, 111, 99, 118, 112, 119, 114, 110, 96, 99, 110, 114, 113, 105, 105, 115, 113, 116, 105, 110, 105, 110, 102, 107, 112, 106, 113, 118, 116, 106, 104, 106, 106, 109, 120, 110, 109, 114, 110, 113, 111, 111, 119, 113, 108, 111, 110, 117, 119, 107, 111, 112, 114, 118, 117, 111, 111, 116, 112, 115, 108, 120, 103, 109, 100, 112, 120, 113, 112, 114, 108, 115, 103, 110, 110, 112, 112, 110, 107, 112, 107, 104, 111, 113, 110, 108, 102, 112, 111, 109, 113, 119, 117, 113, 115, 110, 110, 118, 101, 112, 114, 115, 111, 119, 114, 120, 117, 108, 115, 115, 108, 118, 116, 119, 119, 120, 109, 103, 114, 112, 110, 113, 118, 119, 110, 108, 113, 114, 119, 114, 110, 117, 111, 113, 118, 115, 112, 111, 110, 114, 118, 120, 120, 116, 111, 116, 112, 115, 116, 103, 108, 104, 117, 116, 113, 114, 119, 117, 118, 114, 105, 105, 112, 113, 115, 116, 107], \"xaxis\": \"x3\", \"yaxis\": \"y3\"}, {\"alignmentgroup\": \"True\", \"bingroup\": \"y\", \"hovertemplate\": \"GRE Score=%{y}<br>count=%{x}<extra></extra>\", \"legendgroup\": \"\", \"marker\": {\"color\": \"#636efa\"}, \"name\": \"\", \"offsetgroup\": \"\", \"opacity\": 0.5, \"showlegend\": false, \"type\": \"histogram\", \"xaxis\": \"x2\", \"y\": [318, 295, 301, 318, 294, 300, 304, 312, 315, 310, 317, 311, 312, 290, 300, 303, 300, 332, 311, 299, 298, 298, 297, 296, 295, 312, 302, 301, 316, 294, 302, 315, 300, 299, 317, 306, 316, 312, 296, 301, 299, 317, 316, 320, 304, 315, 314, 307, 299, 305, 300, 312, 302, 314, 297, 310, 321, 304, 293, 302, 307, 308, 309, 318, 316, 306, 309, 308, 325, 296, 312, 316, 311, 314, 306, 305, 308, 320, 311, 312, 309, 305, 316, 329, 332, 299, 320, 325, 320, 326, 298, 309, 318, 311, 298, 310, 300, 305, 315, 306, 295, 299, 307, 312, 316, 313, 295, 311, 312, 307, 306, 301, 308, 317, 314, 300, 297, 308, 305, 303, 296, 304, 315, 304, 295, 305, 304, 317, 297, 305, 310, 310, 306, 307, 298, 329, 301, 296, 317, 313, 322, 319, 311, 317, 313, 316, 315, 312, 298, 314, 308, 298, 315, 304, 309, 312, 311, 305, 316, 314, 325, 324, 318, 318, 316, 319, 320, 324, 313, 310, 320, 313, 324, 324, 317, 323, 315, 326, 299, 327, 308, 319, 301, 320, 313, 312, 326, 308, 313, 318, 322, 300, 327, 319, 320, 324, 312, 300, 319, 312, 324, 313, 314, 322, 322, 311, 317, 312, 321, 321, 324, 310, 320, 330, 305, 323, 321, 323, 309, 316, 321, 312, 307, 325, 311, 327, 318, 314, 327, 312, 304, 301, 315, 314, 299, 303, 331, 323, 322, 326, 316, 313, 301, 311, 315, 299, 320, 316, 308, 320, 313, 301, 316, 322, 321, 323, 325, 307, 311, 314, 317, 319, 318, 303, 312, 302, 322, 319, 327, 317, 321, 308, 318, 304, 300, 321, 322, 300, 319, 319, 313, 299, 316, 315, 323, 309, 300, 314, 317, 317, 297, 302, 298, 311, 313, 317, 302, 298, 310, 301, 311, 324, 312, 325, 316, 321, 319, 307, 311, 310, 312, 324, 326, 312, 326, 315, 318, 312, 315, 317, 326, 306, 334, 331, 328, 324, 330, 326, 322, 329, 333, 324, 330, 298, 316, 297, 327, 320, 336, 330, 324, 305, 314, 323, 326, 340, 307, 319, 327, 329, 327, 308, 321, 309, 325, 314, 323, 322, 327, 328, 337, 339, 310, 290, 310, 301, 314, 340, 325, 321, 334, 322, 323, 321, 320, 329, 327, 325, 329, 328, 338, 332, 324, 327, 328, 325, 338, 332, 327, 329, 334, 325, 328, 314, 340, 319, 316, 304, 324, 338, 327, 340, 321, 328, 335, 312, 308, 328, 324, 325, 307, 312, 325, 311, 314, 324, 327, 324, 308, 326, 322, 325, 321, 327, 331, 331, 324, 340, 320, 320, 332, 318, 336, 324, 322, 321, 333, 329, 330, 337, 332, 338, 330, 323, 332, 328, 339, 334, 340, 322, 304, 340, 331, 320, 326, 336, 336, 322, 327, 329, 325, 334, 329, 322, 334, 326, 330, 335, 331, 324, 324, 323, 322, 336, 340, 334, 330, 323, 331, 321, 340, 331, 304, 305, 327, 335, 328, 324, 321, 334, 335, 333, 339, 303, 309, 323, 333, 331, 332, 324], \"yaxis\": \"y2\"}, {\"hovertemplate\": \"<b>OLS trendline</b><br>GRE Score = 1.53626 * TOEFL Score + 151.797<br>R<sup>2</sup>=0.684261<br><br>TOEFL Score=%{x}<br>GRE Score=%{y} <b>(trend)</b><extra></extra>\", \"legendgroup\": \"\", \"line\": {\"color\": \"red\"}, \"marker\": {\"color\": \"#636efa\", \"symbol\": \"circle\"}, \"mode\": \"lines\", \"name\": \"\", \"showlegend\": false, \"type\": \"scatter\", \"x\": [92, 93, 93, 94, 94, 95, 95, 95, 96, 96, 96, 96, 96, 96, 97, 97, 97, 97, 97, 97, 97, 98, 98, 98, 98, 98, 98, 98, 98, 98, 98, 99, 99, 99, 99, 99, 99, 99, 99, 99, 99, 99, 99, 99, 99, 99, 99, 99, 99, 99, 99, 99, 99, 99, 100, 100, 100, 100, 100, 100, 100, 100, 100, 100, 100, 100, 100, 100, 100, 100, 100, 100, 100, 100, 100, 100, 100, 100, 101, 101, 101, 101, 101, 101, 101, 101, 101, 101, 101, 101, 101, 101, 101, 101, 101, 101, 101, 101, 102, 102, 102, 102, 102, 102, 102, 102, 102, 102, 102, 102, 102, 102, 102, 102, 102, 102, 102, 102, 102, 102, 102, 102, 103, 103, 103, 103, 103, 103, 103, 103, 103, 103, 103, 103, 103, 103, 103, 103, 103, 103, 103, 103, 103, 103, 103, 103, 103, 104, 104, 104, 104, 104, 104, 104, 104, 104, 104, 104, 104, 104, 104, 104, 104, 104, 104, 104, 104, 104, 104, 104, 104, 104, 104, 104, 104, 104, 105, 105, 105, 105, 105, 105, 105, 105, 105, 105, 105, 105, 105, 105, 105, 105, 105, 105, 105, 105, 105, 105, 105, 105, 105, 105, 105, 105, 105, 105, 105, 105, 105, 105, 105, 105, 105, 106, 106, 106, 106, 106, 106, 106, 106, 106, 106, 106, 106, 106, 106, 106, 106, 106, 106, 106, 106, 106, 106, 106, 106, 106, 106, 106, 106, 107, 107, 107, 107, 107, 107, 107, 107, 107, 107, 107, 107, 107, 107, 107, 107, 107, 107, 107, 107, 107, 107, 107, 107, 107, 107, 107, 107, 108, 108, 108, 108, 108, 108, 108, 108, 108, 108, 108, 108, 108, 108, 108, 108, 108, 108, 108, 109, 109, 109, 109, 109, 109, 109, 109, 109, 109, 109, 109, 109, 109, 109, 109, 109, 109, 109, 110, 110, 110, 110, 110, 110, 110, 110, 110, 110, 110, 110, 110, 110, 110, 110, 110, 110, 110, 110, 110, 110, 110, 110, 110, 110, 110, 110, 110, 110, 110, 110, 110, 110, 110, 110, 110, 110, 110, 110, 110, 110, 110, 110, 111, 111, 111, 111, 111, 111, 111, 111, 111, 111, 111, 111, 111, 111, 111, 111, 111, 111, 111, 111, 112, 112, 112, 112, 112, 112, 112, 112, 112, 112, 112, 112, 112, 112, 112, 112, 112, 112, 112, 112, 112, 112, 112, 112, 112, 112, 112, 112, 113, 113, 113, 113, 113, 113, 113, 113, 113, 113, 113, 113, 113, 113, 113, 113, 113, 113, 113, 114, 114, 114, 114, 114, 114, 114, 114, 114, 114, 114, 114, 114, 114, 114, 114, 114, 114, 115, 115, 115, 115, 115, 115, 115, 115, 115, 115, 115, 116, 116, 116, 116, 116, 116, 116, 116, 116, 116, 116, 116, 116, 116, 116, 116, 117, 117, 117, 117, 117, 117, 117, 117, 118, 118, 118, 118, 118, 118, 118, 118, 118, 118, 119, 119, 119, 119, 119, 119, 119, 119, 119, 119, 120, 120, 120, 120, 120, 120, 120, 120, 120], \"xaxis\": \"x\", \"y\": [293.13308492213025, 294.66934842120014, 294.66934842120014, 296.20561192027003, 296.20561192027003, 297.74187541933986, 297.74187541933986, 297.74187541933986, 299.27813891840975, 299.27813891840975, 299.27813891840975, 299.27813891840975, 299.27813891840975, 299.27813891840975, 300.81440241747964, 300.81440241747964, 300.81440241747964, 300.81440241747964, 300.81440241747964, 300.81440241747964, 300.81440241747964, 302.3506659165495, 302.3506659165495, 302.3506659165495, 302.3506659165495, 302.3506659165495, 302.3506659165495, 302.3506659165495, 302.3506659165495, 302.3506659165495, 302.3506659165495, 303.8869294156194, 303.8869294156194, 303.8869294156194, 303.8869294156194, 303.8869294156194, 303.8869294156194, 303.8869294156194, 303.8869294156194, 303.8869294156194, 303.8869294156194, 303.8869294156194, 303.8869294156194, 303.8869294156194, 303.8869294156194, 303.8869294156194, 303.8869294156194, 303.8869294156194, 303.8869294156194, 303.8869294156194, 303.8869294156194, 303.8869294156194, 303.8869294156194, 303.8869294156194, 305.42319291468925, 305.42319291468925, 305.42319291468925, 305.42319291468925, 305.42319291468925, 305.42319291468925, 305.42319291468925, 305.42319291468925, 305.42319291468925, 305.42319291468925, 305.42319291468925, 305.42319291468925, 305.42319291468925, 305.42319291468925, 305.42319291468925, 305.42319291468925, 305.42319291468925, 305.42319291468925, 305.42319291468925, 305.42319291468925, 305.42319291468925, 305.42319291468925, 305.42319291468925, 305.42319291468925, 306.95945641375914, 306.95945641375914, 306.95945641375914, 306.95945641375914, 306.95945641375914, 306.95945641375914, 306.95945641375914, 306.95945641375914, 306.95945641375914, 306.95945641375914, 306.95945641375914, 306.95945641375914, 306.95945641375914, 306.95945641375914, 306.95945641375914, 306.95945641375914, 306.95945641375914, 306.95945641375914, 306.95945641375914, 306.95945641375914, 308.49571991282903, 308.49571991282903, 308.49571991282903, 308.49571991282903, 308.49571991282903, 308.49571991282903, 308.49571991282903, 308.49571991282903, 308.49571991282903, 308.49571991282903, 308.49571991282903, 308.49571991282903, 308.49571991282903, 308.49571991282903, 308.49571991282903, 308.49571991282903, 308.49571991282903, 308.49571991282903, 308.49571991282903, 308.49571991282903, 308.49571991282903, 308.49571991282903, 308.49571991282903, 308.49571991282903, 310.03198341189886, 310.03198341189886, 310.03198341189886, 310.03198341189886, 310.03198341189886, 310.03198341189886, 310.03198341189886, 310.03198341189886, 310.03198341189886, 310.03198341189886, 310.03198341189886, 310.03198341189886, 310.03198341189886, 310.03198341189886, 310.03198341189886, 310.03198341189886, 310.03198341189886, 310.03198341189886, 310.03198341189886, 310.03198341189886, 310.03198341189886, 310.03198341189886, 310.03198341189886, 310.03198341189886, 310.03198341189886, 311.56824691096875, 311.56824691096875, 311.56824691096875, 311.56824691096875, 311.56824691096875, 311.56824691096875, 311.56824691096875, 311.56824691096875, 311.56824691096875, 311.56824691096875, 311.56824691096875, 311.56824691096875, 311.56824691096875, 311.56824691096875, 311.56824691096875, 311.56824691096875, 311.56824691096875, 311.56824691096875, 311.56824691096875, 311.56824691096875, 311.56824691096875, 311.56824691096875, 311.56824691096875, 311.56824691096875, 311.56824691096875, 311.56824691096875, 311.56824691096875, 311.56824691096875, 311.56824691096875, 313.10451041003864, 313.10451041003864, 313.10451041003864, 313.10451041003864, 313.10451041003864, 313.10451041003864, 313.10451041003864, 313.10451041003864, 313.10451041003864, 313.10451041003864, 313.10451041003864, 313.10451041003864, 313.10451041003864, 313.10451041003864, 313.10451041003864, 313.10451041003864, 313.10451041003864, 313.10451041003864, 313.10451041003864, 313.10451041003864, 313.10451041003864, 313.10451041003864, 313.10451041003864, 313.10451041003864, 313.10451041003864, 313.10451041003864, 313.10451041003864, 313.10451041003864, 313.10451041003864, 313.10451041003864, 313.10451041003864, 313.10451041003864, 313.10451041003864, 313.10451041003864, 313.10451041003864, 313.10451041003864, 313.10451041003864, 314.6407739091085, 314.6407739091085, 314.6407739091085, 314.6407739091085, 314.6407739091085, 314.6407739091085, 314.6407739091085, 314.6407739091085, 314.6407739091085, 314.6407739091085, 314.6407739091085, 314.6407739091085, 314.6407739091085, 314.6407739091085, 314.6407739091085, 314.6407739091085, 314.6407739091085, 314.6407739091085, 314.6407739091085, 314.6407739091085, 314.6407739091085, 314.6407739091085, 314.6407739091085, 314.6407739091085, 314.6407739091085, 314.6407739091085, 314.6407739091085, 314.6407739091085, 316.1770374081784, 316.1770374081784, 316.1770374081784, 316.1770374081784, 316.1770374081784, 316.1770374081784, 316.1770374081784, 316.1770374081784, 316.1770374081784, 316.1770374081784, 316.1770374081784, 316.1770374081784, 316.1770374081784, 316.1770374081784, 316.1770374081784, 316.1770374081784, 316.1770374081784, 316.1770374081784, 316.1770374081784, 316.1770374081784, 316.1770374081784, 316.1770374081784, 316.1770374081784, 316.1770374081784, 316.1770374081784, 316.1770374081784, 316.1770374081784, 316.1770374081784, 317.71330090724825, 317.71330090724825, 317.71330090724825, 317.71330090724825, 317.71330090724825, 317.71330090724825, 317.71330090724825, 317.71330090724825, 317.71330090724825, 317.71330090724825, 317.71330090724825, 317.71330090724825, 317.71330090724825, 317.71330090724825, 317.71330090724825, 317.71330090724825, 317.71330090724825, 317.71330090724825, 317.71330090724825, 319.24956440631814, 319.24956440631814, 319.24956440631814, 319.24956440631814, 319.24956440631814, 319.24956440631814, 319.24956440631814, 319.24956440631814, 319.24956440631814, 319.24956440631814, 319.24956440631814, 319.24956440631814, 319.24956440631814, 319.24956440631814, 319.24956440631814, 319.24956440631814, 319.24956440631814, 319.24956440631814, 319.24956440631814, 320.78582790538803, 320.78582790538803, 320.78582790538803, 320.78582790538803, 320.78582790538803, 320.78582790538803, 320.78582790538803, 320.78582790538803, 320.78582790538803, 320.78582790538803, 320.78582790538803, 320.78582790538803, 320.78582790538803, 320.78582790538803, 320.78582790538803, 320.78582790538803, 320.78582790538803, 320.78582790538803, 320.78582790538803, 320.78582790538803, 320.78582790538803, 320.78582790538803, 320.78582790538803, 320.78582790538803, 320.78582790538803, 320.78582790538803, 320.78582790538803, 320.78582790538803, 320.78582790538803, 320.78582790538803, 320.78582790538803, 320.78582790538803, 320.78582790538803, 320.78582790538803, 320.78582790538803, 320.78582790538803, 320.78582790538803, 320.78582790538803, 320.78582790538803, 320.78582790538803, 320.78582790538803, 320.78582790538803, 320.78582790538803, 320.78582790538803, 322.32209140445786, 322.32209140445786, 322.32209140445786, 322.32209140445786, 322.32209140445786, 322.32209140445786, 322.32209140445786, 322.32209140445786, 322.32209140445786, 322.32209140445786, 322.32209140445786, 322.32209140445786, 322.32209140445786, 322.32209140445786, 322.32209140445786, 322.32209140445786, 322.32209140445786, 322.32209140445786, 322.32209140445786, 322.32209140445786, 323.85835490352775, 323.85835490352775, 323.85835490352775, 323.85835490352775, 323.85835490352775, 323.85835490352775, 323.85835490352775, 323.85835490352775, 323.85835490352775, 323.85835490352775, 323.85835490352775, 323.85835490352775, 323.85835490352775, 323.85835490352775, 323.85835490352775, 323.85835490352775, 323.85835490352775, 323.85835490352775, 323.85835490352775, 323.85835490352775, 323.85835490352775, 323.85835490352775, 323.85835490352775, 323.85835490352775, 323.85835490352775, 323.85835490352775, 323.85835490352775, 323.85835490352775, 325.39461840259764, 325.39461840259764, 325.39461840259764, 325.39461840259764, 325.39461840259764, 325.39461840259764, 325.39461840259764, 325.39461840259764, 325.39461840259764, 325.39461840259764, 325.39461840259764, 325.39461840259764, 325.39461840259764, 325.39461840259764, 325.39461840259764, 325.39461840259764, 325.39461840259764, 325.39461840259764, 325.39461840259764, 326.9308819016675, 326.9308819016675, 326.9308819016675, 326.9308819016675, 326.9308819016675, 326.9308819016675, 326.9308819016675, 326.9308819016675, 326.9308819016675, 326.9308819016675, 326.9308819016675, 326.9308819016675, 326.9308819016675, 326.9308819016675, 326.9308819016675, 326.9308819016675, 326.9308819016675, 326.9308819016675, 328.4671454007374, 328.4671454007374, 328.4671454007374, 328.4671454007374, 328.4671454007374, 328.4671454007374, 328.4671454007374, 328.4671454007374, 328.4671454007374, 328.4671454007374, 328.4671454007374, 330.00340889980725, 330.00340889980725, 330.00340889980725, 330.00340889980725, 330.00340889980725, 330.00340889980725, 330.00340889980725, 330.00340889980725, 330.00340889980725, 330.00340889980725, 330.00340889980725, 330.00340889980725, 330.00340889980725, 330.00340889980725, 330.00340889980725, 330.00340889980725, 331.53967239887714, 331.53967239887714, 331.53967239887714, 331.53967239887714, 331.53967239887714, 331.53967239887714, 331.53967239887714, 331.53967239887714, 333.07593589794703, 333.07593589794703, 333.07593589794703, 333.07593589794703, 333.07593589794703, 333.07593589794703, 333.07593589794703, 333.07593589794703, 333.07593589794703, 333.07593589794703, 334.61219939701687, 334.61219939701687, 334.61219939701687, 334.61219939701687, 334.61219939701687, 334.61219939701687, 334.61219939701687, 334.61219939701687, 334.61219939701687, 334.61219939701687, 336.14846289608676, 336.14846289608676, 336.14846289608676, 336.14846289608676, 336.14846289608676, 336.14846289608676, 336.14846289608676, 336.14846289608676, 336.14846289608676], \"yaxis\": \"y\"}],                        {\"barmode\": \"overlay\", \"legend\": {\"tracegroupgap\": 0}, \"template\": {\"data\": {\"bar\": [{\"error_x\": {\"color\": \"#2a3f5f\"}, \"error_y\": {\"color\": \"#2a3f5f\"}, \"marker\": {\"line\": {\"color\": \"#E5ECF6\", \"width\": 0.5}}, \"type\": \"bar\"}], \"barpolar\": [{\"marker\": {\"line\": {\"color\": \"#E5ECF6\", \"width\": 0.5}}, \"type\": \"barpolar\"}], \"carpet\": [{\"aaxis\": {\"endlinecolor\": \"#2a3f5f\", \"gridcolor\": \"white\", \"linecolor\": \"white\", \"minorgridcolor\": \"white\", \"startlinecolor\": \"#2a3f5f\"}, \"baxis\": {\"endlinecolor\": \"#2a3f5f\", \"gridcolor\": \"white\", \"linecolor\": \"white\", \"minorgridcolor\": \"white\", \"startlinecolor\": \"#2a3f5f\"}, \"type\": \"carpet\"}], \"choropleth\": [{\"colorbar\": {\"outlinewidth\": 0, \"ticks\": \"\"}, \"type\": \"choropleth\"}], \"contour\": [{\"colorbar\": {\"outlinewidth\": 0, \"ticks\": \"\"}, \"colorscale\": [[0.0, \"#0d0887\"], [0.1111111111111111, \"#46039f\"], [0.2222222222222222, \"#7201a8\"], [0.3333333333333333, \"#9c179e\"], [0.4444444444444444, \"#bd3786\"], [0.5555555555555556, \"#d8576b\"], [0.6666666666666666, \"#ed7953\"], [0.7777777777777778, \"#fb9f3a\"], [0.8888888888888888, \"#fdca26\"], [1.0, \"#f0f921\"]], \"type\": \"contour\"}], \"contourcarpet\": [{\"colorbar\": {\"outlinewidth\": 0, \"ticks\": \"\"}, \"type\": \"contourcarpet\"}], \"heatmap\": [{\"colorbar\": {\"outlinewidth\": 0, \"ticks\": \"\"}, \"colorscale\": [[0.0, \"#0d0887\"], [0.1111111111111111, \"#46039f\"], [0.2222222222222222, \"#7201a8\"], [0.3333333333333333, \"#9c179e\"], [0.4444444444444444, \"#bd3786\"], [0.5555555555555556, \"#d8576b\"], [0.6666666666666666, \"#ed7953\"], [0.7777777777777778, \"#fb9f3a\"], [0.8888888888888888, \"#fdca26\"], [1.0, \"#f0f921\"]], \"type\": \"heatmap\"}], \"heatmapgl\": [{\"colorbar\": {\"outlinewidth\": 0, \"ticks\": \"\"}, \"colorscale\": [[0.0, \"#0d0887\"], [0.1111111111111111, \"#46039f\"], [0.2222222222222222, \"#7201a8\"], [0.3333333333333333, \"#9c179e\"], [0.4444444444444444, \"#bd3786\"], [0.5555555555555556, \"#d8576b\"], [0.6666666666666666, \"#ed7953\"], [0.7777777777777778, \"#fb9f3a\"], [0.8888888888888888, \"#fdca26\"], [1.0, \"#f0f921\"]], \"type\": \"heatmapgl\"}], \"histogram\": [{\"marker\": {\"colorbar\": {\"outlinewidth\": 0, \"ticks\": \"\"}}, \"type\": \"histogram\"}], \"histogram2d\": [{\"colorbar\": {\"outlinewidth\": 0, \"ticks\": \"\"}, \"colorscale\": [[0.0, \"#0d0887\"], [0.1111111111111111, \"#46039f\"], [0.2222222222222222, \"#7201a8\"], [0.3333333333333333, \"#9c179e\"], [0.4444444444444444, \"#bd3786\"], [0.5555555555555556, \"#d8576b\"], [0.6666666666666666, \"#ed7953\"], [0.7777777777777778, \"#fb9f3a\"], [0.8888888888888888, \"#fdca26\"], [1.0, \"#f0f921\"]], \"type\": \"histogram2d\"}], \"histogram2dcontour\": [{\"colorbar\": {\"outlinewidth\": 0, \"ticks\": \"\"}, \"colorscale\": [[0.0, \"#0d0887\"], [0.1111111111111111, \"#46039f\"], [0.2222222222222222, \"#7201a8\"], [0.3333333333333333, \"#9c179e\"], [0.4444444444444444, \"#bd3786\"], [0.5555555555555556, \"#d8576b\"], [0.6666666666666666, \"#ed7953\"], [0.7777777777777778, \"#fb9f3a\"], [0.8888888888888888, \"#fdca26\"], [1.0, \"#f0f921\"]], \"type\": \"histogram2dcontour\"}], \"mesh3d\": [{\"colorbar\": {\"outlinewidth\": 0, \"ticks\": \"\"}, \"type\": \"mesh3d\"}], \"parcoords\": [{\"line\": {\"colorbar\": {\"outlinewidth\": 0, \"ticks\": \"\"}}, \"type\": \"parcoords\"}], \"pie\": [{\"automargin\": true, \"type\": \"pie\"}], \"scatter\": [{\"marker\": {\"colorbar\": {\"outlinewidth\": 0, \"ticks\": \"\"}}, \"type\": \"scatter\"}], \"scatter3d\": [{\"line\": {\"colorbar\": {\"outlinewidth\": 0, \"ticks\": \"\"}}, \"marker\": {\"colorbar\": {\"outlinewidth\": 0, \"ticks\": \"\"}}, \"type\": \"scatter3d\"}], \"scattercarpet\": [{\"marker\": {\"colorbar\": {\"outlinewidth\": 0, \"ticks\": \"\"}}, \"type\": \"scattercarpet\"}], \"scattergeo\": [{\"marker\": {\"colorbar\": {\"outlinewidth\": 0, \"ticks\": \"\"}}, \"type\": \"scattergeo\"}], \"scattergl\": [{\"marker\": {\"colorbar\": {\"outlinewidth\": 0, \"ticks\": \"\"}}, \"type\": \"scattergl\"}], \"scattermapbox\": [{\"marker\": {\"colorbar\": {\"outlinewidth\": 0, \"ticks\": \"\"}}, \"type\": \"scattermapbox\"}], \"scatterpolar\": [{\"marker\": {\"colorbar\": {\"outlinewidth\": 0, \"ticks\": \"\"}}, \"type\": \"scatterpolar\"}], \"scatterpolargl\": [{\"marker\": {\"colorbar\": {\"outlinewidth\": 0, \"ticks\": \"\"}}, \"type\": \"scatterpolargl\"}], \"scatterternary\": [{\"marker\": {\"colorbar\": {\"outlinewidth\": 0, \"ticks\": \"\"}}, \"type\": \"scatterternary\"}], \"surface\": [{\"colorbar\": {\"outlinewidth\": 0, \"ticks\": \"\"}, \"colorscale\": [[0.0, \"#0d0887\"], [0.1111111111111111, \"#46039f\"], [0.2222222222222222, \"#7201a8\"], [0.3333333333333333, \"#9c179e\"], [0.4444444444444444, \"#bd3786\"], [0.5555555555555556, \"#d8576b\"], [0.6666666666666666, \"#ed7953\"], [0.7777777777777778, \"#fb9f3a\"], [0.8888888888888888, \"#fdca26\"], [1.0, \"#f0f921\"]], \"type\": \"surface\"}], \"table\": [{\"cells\": {\"fill\": {\"color\": \"#EBF0F8\"}, \"line\": {\"color\": \"white\"}}, \"header\": {\"fill\": {\"color\": \"#C8D4E3\"}, \"line\": {\"color\": \"white\"}}, \"type\": \"table\"}]}, \"layout\": {\"annotationdefaults\": {\"arrowcolor\": \"#2a3f5f\", \"arrowhead\": 0, \"arrowwidth\": 1}, \"autotypenumbers\": \"strict\", \"coloraxis\": {\"colorbar\": {\"outlinewidth\": 0, \"ticks\": \"\"}}, \"colorscale\": {\"diverging\": [[0, \"#8e0152\"], [0.1, \"#c51b7d\"], [0.2, \"#de77ae\"], [0.3, \"#f1b6da\"], [0.4, \"#fde0ef\"], [0.5, \"#f7f7f7\"], [0.6, \"#e6f5d0\"], [0.7, \"#b8e186\"], [0.8, \"#7fbc41\"], [0.9, \"#4d9221\"], [1, \"#276419\"]], \"sequential\": [[0.0, \"#0d0887\"], [0.1111111111111111, \"#46039f\"], [0.2222222222222222, \"#7201a8\"], [0.3333333333333333, \"#9c179e\"], [0.4444444444444444, \"#bd3786\"], [0.5555555555555556, \"#d8576b\"], [0.6666666666666666, \"#ed7953\"], [0.7777777777777778, \"#fb9f3a\"], [0.8888888888888888, \"#fdca26\"], [1.0, \"#f0f921\"]], \"sequentialminus\": [[0.0, \"#0d0887\"], [0.1111111111111111, \"#46039f\"], [0.2222222222222222, \"#7201a8\"], [0.3333333333333333, \"#9c179e\"], [0.4444444444444444, \"#bd3786\"], [0.5555555555555556, \"#d8576b\"], [0.6666666666666666, \"#ed7953\"], [0.7777777777777778, \"#fb9f3a\"], [0.8888888888888888, \"#fdca26\"], [1.0, \"#f0f921\"]]}, \"colorway\": [\"#636efa\", \"#EF553B\", \"#00cc96\", \"#ab63fa\", \"#FFA15A\", \"#19d3f3\", \"#FF6692\", \"#B6E880\", \"#FF97FF\", \"#FECB52\"], \"font\": {\"color\": \"#2a3f5f\"}, \"geo\": {\"bgcolor\": \"white\", \"lakecolor\": \"white\", \"landcolor\": \"#E5ECF6\", \"showlakes\": true, \"showland\": true, \"subunitcolor\": \"white\"}, \"hoverlabel\": {\"align\": \"left\"}, \"hovermode\": \"closest\", \"mapbox\": {\"style\": \"light\"}, \"paper_bgcolor\": \"white\", \"plot_bgcolor\": \"#E5ECF6\", \"polar\": {\"angularaxis\": {\"gridcolor\": \"white\", \"linecolor\": \"white\", \"ticks\": \"\"}, \"bgcolor\": \"#E5ECF6\", \"radialaxis\": {\"gridcolor\": \"white\", \"linecolor\": \"white\", \"ticks\": \"\"}}, \"scene\": {\"xaxis\": {\"backgroundcolor\": \"#E5ECF6\", \"gridcolor\": \"white\", \"gridwidth\": 2, \"linecolor\": \"white\", \"showbackground\": true, \"ticks\": \"\", \"zerolinecolor\": \"white\"}, \"yaxis\": {\"backgroundcolor\": \"#E5ECF6\", \"gridcolor\": \"white\", \"gridwidth\": 2, \"linecolor\": \"white\", \"showbackground\": true, \"ticks\": \"\", \"zerolinecolor\": \"white\"}, \"zaxis\": {\"backgroundcolor\": \"#E5ECF6\", \"gridcolor\": \"white\", \"gridwidth\": 2, \"linecolor\": \"white\", \"showbackground\": true, \"ticks\": \"\", \"zerolinecolor\": \"white\"}}, \"shapedefaults\": {\"line\": {\"color\": \"#2a3f5f\"}}, \"ternary\": {\"aaxis\": {\"gridcolor\": \"white\", \"linecolor\": \"white\", \"ticks\": \"\"}, \"baxis\": {\"gridcolor\": \"white\", \"linecolor\": \"white\", \"ticks\": \"\"}, \"bgcolor\": \"#E5ECF6\", \"caxis\": {\"gridcolor\": \"white\", \"linecolor\": \"white\", \"ticks\": \"\"}}, \"title\": {\"x\": 0.05}, \"xaxis\": {\"automargin\": true, \"gridcolor\": \"white\", \"linecolor\": \"white\", \"ticks\": \"\", \"title\": {\"standoff\": 15}, \"zerolinecolor\": \"white\", \"zerolinewidth\": 2}, \"yaxis\": {\"automargin\": true, \"gridcolor\": \"white\", \"linecolor\": \"white\", \"ticks\": \"\", \"title\": {\"standoff\": 15}, \"zerolinecolor\": \"white\", \"zerolinewidth\": 2}}}, \"title\": {\"text\": \"Correlation between TOEFL Score and GRE Score is: 0.83\"}, \"xaxis\": {\"anchor\": \"y\", \"domain\": [0.0, 0.7363], \"title\": {\"text\": \"TOEFL Score\"}}, \"xaxis2\": {\"anchor\": \"y2\", \"domain\": [0.7413, 1.0], \"matches\": \"x2\", \"showgrid\": true, \"showline\": false, \"showticklabels\": false, \"ticks\": \"\"}, \"xaxis3\": {\"anchor\": \"y3\", \"domain\": [0.0, 0.7363], \"matches\": \"x\", \"showgrid\": true, \"showticklabels\": false}, \"xaxis4\": {\"anchor\": \"y4\", \"domain\": [0.7413, 1.0], \"matches\": \"x2\", \"showgrid\": true, \"showline\": false, \"showticklabels\": false, \"ticks\": \"\"}, \"yaxis\": {\"anchor\": \"x\", \"domain\": [0.0, 0.7326], \"title\": {\"text\": \"GRE Score\"}}, \"yaxis2\": {\"anchor\": \"x2\", \"domain\": [0.0, 0.7326], \"matches\": \"y\", \"showgrid\": true, \"showticklabels\": false}, \"yaxis3\": {\"anchor\": \"x3\", \"domain\": [0.7426, 1.0], \"matches\": \"y3\", \"showgrid\": true, \"showline\": false, \"showticklabels\": false, \"ticks\": \"\"}, \"yaxis4\": {\"anchor\": \"x4\", \"domain\": [0.7426, 1.0], \"matches\": \"y3\", \"showgrid\": true, \"showline\": false, \"showticklabels\": false, \"ticks\": \"\"}},                        {\"responsive\": true}                    ).then(function(){\n",
       "                            \n",
       "var gd = document.getElementById('93fcc72b-52e5-4976-8244-b231742e6092');\n",
       "var x = new MutationObserver(function (mutations, observer) {{\n",
       "        var display = window.getComputedStyle(gd).display;\n",
       "        if (!display || display === 'none') {{\n",
       "            console.log([gd, 'removed!']);\n",
       "            Plotly.purge(gd);\n",
       "            observer.disconnect();\n",
       "        }}\n",
       "}});\n",
       "\n",
       "// Listen for the removal of the full notebook cells\n",
       "var notebookContainer = gd.closest('#notebook-container');\n",
       "if (notebookContainer) {{\n",
       "    x.observe(notebookContainer, {childList: true});\n",
       "}}\n",
       "\n",
       "// Listen for the clearing of the current output cell\n",
       "var outputEl = gd.closest('.output');\n",
       "if (outputEl) {{\n",
       "    x.observe(outputEl, {childList: true});\n",
       "}}\n",
       "\n",
       "                        })                };                });            </script>        </div>"
      ]
     },
     "metadata": {},
     "output_type": "display_data"
    }
   ],
   "source": [
    "corr_value = df[\"TOEFL Score\"].corr(df[\"GRE Score\"])\n",
    "\n",
    "fig = px.scatter(\n",
    "    data_frame=df,\n",
    "    x=\"TOEFL Score\",\n",
    "    y=\"GRE Score\",\n",
    "    marginal_x=\"histogram\",\n",
    "    marginal_y=\"histogram\",\n",
    "    trendline=\"ols\",\n",
    "    trendline_color_override=\"red\",\n",
    "    title=f\"Correlation between TOEFL Score and GRE Score is: {corr_value:.2f}\",\n",
    ")\n",
    "\n",
    "fig.show()"
   ]
  },
  {
   "cell_type": "markdown",
   "metadata": {
    "papermill": {
     "duration": 0.130341,
     "end_time": "2020-12-28T20:42:15.692721",
     "exception": false,
     "start_time": "2020-12-28T20:42:15.562380",
     "status": "completed"
    },
    "tags": []
   },
   "source": [
    "#### `TOEFL Score` vs. `CGPA`"
   ]
  },
  {
   "cell_type": "code",
   "execution_count": 62,
   "metadata": {
    "execution": {
     "iopub.execute_input": "2020-12-28T20:42:16.006782Z",
     "iopub.status.busy": "2020-12-28T20:42:16.005647Z",
     "iopub.status.idle": "2020-12-28T20:42:16.150740Z",
     "shell.execute_reply": "2020-12-28T20:42:16.151367Z"
    },
    "papermill": {
     "duration": 0.292531,
     "end_time": "2020-12-28T20:42:16.151555",
     "exception": false,
     "start_time": "2020-12-28T20:42:15.859024",
     "status": "completed"
    },
    "tags": []
   },
   "outputs": [
    {
     "data": {
      "text/html": [
       "<div>                            <div id=\"4ba5b216-9949-4fd5-8aea-7fc387310103\" class=\"plotly-graph-div\" style=\"height:525px; width:100%;\"></div>            <script type=\"text/javascript\">                require([\"plotly\"], function(Plotly) {                    window.PLOTLYENV=window.PLOTLYENV || {};                                    if (document.getElementById(\"4ba5b216-9949-4fd5-8aea-7fc387310103\")) {                    Plotly.newPlot(                        \"4ba5b216-9949-4fd5-8aea-7fc387310103\",                        [{\"hovertemplate\": \"TOEFL Score=%{x}<br>CGPA=%{y}<extra></extra>\", \"legendgroup\": \"\", \"marker\": {\"color\": \"#636efa\", \"symbol\": \"circle\"}, \"mode\": \"markers\", \"name\": \"\", \"orientation\": \"v\", \"showlegend\": false, \"type\": \"scatter\", \"x\": [110, 93, 98, 109, 95, 105, 105, 99, 100, 110, 106, 98, 100, 100, 99, 98, 99, 112, 99, 100, 92, 99, 100, 101, 99, 98, 99, 96, 98, 93, 102, 103, 98, 94, 104, 100, 106, 109, 99, 97, 100, 100, 101, 110, 101, 105, 107, 105, 100, 102, 102, 105, 99, 106, 96, 105, 107, 102, 97, 101, 105, 102, 111, 100, 99, 106, 104, 103, 110, 97, 105, 103, 106, 105, 105, 104, 103, 101, 104, 105, 105, 107, 100, 110, 118, 96, 112, 112, 113, 116, 98, 106, 106, 101, 98, 99, 97, 106, 99, 103, 99, 106, 108, 107, 105, 107, 101, 105, 110, 105, 110, 104, 109, 106, 103, 95, 98, 101, 105, 100, 99, 100, 105, 97, 96, 103, 100, 104, 96, 102, 106, 103, 105, 107, 97, 114, 99, 95, 103, 106, 105, 108, 99, 107, 94, 107, 110, 101, 99, 107, 104, 101, 107, 105, 100, 100, 104, 105, 102, 102, 114, 115, 106, 112, 105, 106, 104, 110, 104, 104, 108, 109, 100, 111, 106, 104, 104, 116, 100, 113, 106, 108, 100, 104, 102, 107, 110, 106, 101, 107, 110, 102, 109, 110, 104, 110, 108, 100, 105, 104, 111, 102, 107, 104, 110, 102, 110, 106, 111, 109, 110, 107, 120, 114, 112, 107, 109, 110, 99, 110, 111, 104, 101, 111, 103, 114, 109, 106, 112, 105, 107, 102, 106, 108, 97, 99, 120, 113, 107, 112, 110, 103, 107, 105, 101, 102, 108, 102, 108, 103, 98, 99, 104, 110, 109, 108, 106, 109, 104, 105, 107, 106, 110, 102, 107, 110, 112, 102, 103, 106, 102, 110, 103, 104, 101, 110, 110, 100, 103, 112, 102, 100, 103, 104, 113, 108, 104, 110, 107, 101, 101, 102, 100, 104, 107, 103, 99, 105, 102, 104, 101, 109, 103, 107, 109, 112, 110, 102, 104, 101, 106, 105, 108, 103, 114, 105, 109, 109, 105, 105, 112, 103, 116, 116, 116, 113, 116, 112, 103, 111, 117, 112, 116, 101, 111, 99, 118, 112, 119, 114, 110, 96, 99, 110, 114, 113, 105, 105, 115, 113, 116, 105, 110, 105, 110, 102, 107, 112, 106, 113, 118, 116, 106, 104, 106, 106, 109, 120, 110, 109, 114, 110, 113, 111, 111, 119, 113, 108, 111, 110, 117, 119, 107, 111, 112, 114, 118, 117, 111, 111, 116, 112, 115, 108, 120, 103, 109, 100, 112, 120, 113, 112, 114, 108, 115, 103, 110, 110, 112, 112, 110, 107, 112, 107, 104, 111, 113, 110, 108, 102, 112, 111, 109, 113, 119, 117, 113, 115, 110, 110, 118, 101, 112, 114, 115, 111, 119, 114, 120, 117, 108, 115, 115, 108, 118, 116, 119, 119, 120, 109, 103, 114, 112, 110, 113, 118, 119, 110, 108, 113, 114, 119, 114, 110, 117, 111, 113, 118, 115, 112, 111, 110, 114, 118, 120, 120, 116, 111, 116, 112, 115, 116, 103, 108, 104, 117, 116, 113, 114, 119, 117, 118, 114, 105, 105, 112, 113, 115, 116, 107], \"xaxis\": \"x\", \"y\": [8.54, 7.2, 8.03, 9.12, 7.64, 7.8, 7.5, 8.01, 7.95, 7.23, 7.65, 7.46, 8.53, 7.56, 8.01, 7.65, 6.8, 8.66, 8.43, 7.89, 7.88, 7.46, 7.9, 7.68, 7.57, 8.18, 7.25, 7.56, 7.43, 7.36, 8.0, 7.86, 8.02, 7.34, 8.47, 8.0, 8.32, 9.02, 7.28, 7.88, 7.88, 8.57, 8.32, 8.56, 7.66, 7.65, 8.56, 7.65, 7.88, 7.64, 7.87, 8.12, 7.97, 8.25, 7.43, 8.01, 8.44, 8.73, 7.8, 7.96, 8.1, 7.98, 8.03, 8.54, 9.0, 8.14, 8.26, 8.36, 8.76, 7.8, 8.45, 8.74, 8.26, 7.64, 8.22, 7.79, 8.49, 8.62, 8.48, 8.46, 7.68, 8.42, 8.16, 9.15, 9.36, 7.86, 8.78, 8.96, 8.64, 9.08, 8.03, 8.0, 7.92, 8.34, 7.5, 7.3, 8.1, 8.16, 7.89, 8.36, 7.65, 8.4, 7.7, 8.27, 8.2, 8.5, 7.86, 8.12, 8.53, 8.12, 8.45, 7.89, 8.45, 8.12, 8.21, 8.22, 7.67, 7.9, 8.23, 8.06, 8.03, 8.22, 8.34, 7.64, 7.34, 8.13, 8.07, 8.76, 7.89, 8.18, 8.33, 8.24, 8.26, 8.52, 7.21, 8.56, 8.22, 7.54, 8.15, 8.43, 8.45, 8.76, 7.98, 8.28, 8.13, 8.64, 8.46, 8.04, 7.6, 8.27, 8.07, 7.86, 8.5, 8.2, 8.1, 7.9, 8.3, 8.13, 8.15, 8.24, 9.04, 8.76, 8.65, 8.67, 8.73, 8.33, 8.57, 8.87, 8.65, 8.37, 8.44, 9.0, 8.64, 8.8, 8.5, 8.44, 8.33, 9.14, 8.02, 8.66, 8.21, 8.54, 8.04, 8.34, 8.9, 8.46, 8.76, 8.24, 8.04, 8.27, 8.64, 8.17, 8.77, 8.79, 8.74, 9.22, 8.53, 8.26, 8.67, 8.09, 8.79, 8.68, 8.17, 8.84, 8.96, 8.64, 9.11, 8.79, 8.9, 8.54, 9.04, 8.67, 9.11, 9.24, 8.65, 8.55, 8.8, 9.1, 8.56, 8.56, 8.83, 8.42, 8.2, 8.7, 8.09, 9.02, 9.22, 8.9, 8.72, 8.02, 7.86, 8.13, 8.42, 8.14, 7.66, 7.66, 8.96, 8.88, 8.46, 9.05, 8.78, 8.75, 8.34, 8.45, 9.13, 8.62, 8.97, 7.4, 8.22, 7.7, 8.3, 8.45, 8.0, 8.67, 8.2, 8.6, 8.4, 8.0, 8.2, 8.3, 8.7, 8.0, 8.8, 8.5, 7.9, 8.5, 8.62, 8.37, 8.3, 7.89, 9.01, 8.0, 8.49, 8.12, 7.88, 8.85, 8.0, 8.66, 8.76, 8.71, 8.27, 7.42, 7.68, 8.1, 9.32, 8.12, 8.16, 8.8, 8.68, 7.94, 7.67, 8.33, 7.95, 8.43, 8.69, 8.54, 7.45, 8.54, 8.02, 8.12, 7.64, 8.94, 8.78, 9.11, 8.76, 8.95, 9.04, 8.27, 8.13, 8.65, 8.57, 8.75, 8.89, 8.45, 9.11, 8.34, 8.5, 8.69, 8.48, 8.56, 9.1, 8.21, 9.54, 9.44, 9.6, 9.25, 9.45, 9.12, 8.02, 9.23, 9.66, 9.22, 9.23, 7.69, 8.54, 7.81, 9.67, 8.86, 9.62, 9.17, 9.15, 8.26, 8.73, 8.88, 9.16, 9.74, 7.94, 8.66, 9.14, 9.36, 9.48, 7.95, 8.35, 8.18, 8.96, 7.88, 8.48, 9.02, 8.75, 8.77, 9.65, 9.8, 9.04, 7.46, 8.36, 8.47, 8.77, 9.92, 8.67, 8.68, 9.43, 9.13, 9.23, 8.97, 8.87, 9.16, 9.11, 9.06, 9.01, 9.14, 9.46, 9.24, 8.87, 9.0, 9.1, 8.4, 9.4, 9.1, 8.4, 9.18, 8.0, 8.92, 9.16, 9.04, 9.5, 8.66, 8.76, 7.84, 8.1, 9.66, 9.04, 9.66, 9.12, 9.18, 9.68, 8.43, 8.6, 9.02, 8.77, 9.0, 8.37, 8.65, 9.17, 9.0, 9.02, 9.01, 8.69, 8.97, 8.34, 8.76, 9.26, 9.11, 9.13, 9.14, 9.34, 9.42, 8.79, 9.45, 9.22, 9.27, 9.64, 8.78, 9.76, 9.08, 9.36, 9.45, 9.78, 9.3, 9.56, 9.87, 9.02, 9.23, 9.34, 8.74, 9.47, 9.5, 9.7, 9.7, 9.6, 8.8, 7.92, 9.6, 9.8, 9.2, 9.4, 9.19, 9.8, 9.1, 9.13, 9.45, 9.46, 9.54, 9.19, 8.97, 9.07, 9.23, 9.31, 9.44, 9.36, 9.08, 9.16, 8.98, 8.94, 9.53, 9.91, 9.87, 9.36, 9.86, 9.26, 9.06, 9.06, 9.38, 8.64, 8.48, 8.84, 9.56, 9.08, 9.25, 9.16, 9.48, 9.82, 9.35, 9.76, 8.65, 8.56, 8.78, 9.28, 9.44, 9.28, 8.66], \"yaxis\": \"y\"}, {\"alignmentgroup\": \"True\", \"bingroup\": \"x\", \"hovertemplate\": \"TOEFL Score=%{x}<br>count=%{y}<extra></extra>\", \"legendgroup\": \"\", \"marker\": {\"color\": \"#636efa\"}, \"name\": \"\", \"offsetgroup\": \"\", \"opacity\": 0.5, \"showlegend\": false, \"type\": \"histogram\", \"x\": [110, 93, 98, 109, 95, 105, 105, 99, 100, 110, 106, 98, 100, 100, 99, 98, 99, 112, 99, 100, 92, 99, 100, 101, 99, 98, 99, 96, 98, 93, 102, 103, 98, 94, 104, 100, 106, 109, 99, 97, 100, 100, 101, 110, 101, 105, 107, 105, 100, 102, 102, 105, 99, 106, 96, 105, 107, 102, 97, 101, 105, 102, 111, 100, 99, 106, 104, 103, 110, 97, 105, 103, 106, 105, 105, 104, 103, 101, 104, 105, 105, 107, 100, 110, 118, 96, 112, 112, 113, 116, 98, 106, 106, 101, 98, 99, 97, 106, 99, 103, 99, 106, 108, 107, 105, 107, 101, 105, 110, 105, 110, 104, 109, 106, 103, 95, 98, 101, 105, 100, 99, 100, 105, 97, 96, 103, 100, 104, 96, 102, 106, 103, 105, 107, 97, 114, 99, 95, 103, 106, 105, 108, 99, 107, 94, 107, 110, 101, 99, 107, 104, 101, 107, 105, 100, 100, 104, 105, 102, 102, 114, 115, 106, 112, 105, 106, 104, 110, 104, 104, 108, 109, 100, 111, 106, 104, 104, 116, 100, 113, 106, 108, 100, 104, 102, 107, 110, 106, 101, 107, 110, 102, 109, 110, 104, 110, 108, 100, 105, 104, 111, 102, 107, 104, 110, 102, 110, 106, 111, 109, 110, 107, 120, 114, 112, 107, 109, 110, 99, 110, 111, 104, 101, 111, 103, 114, 109, 106, 112, 105, 107, 102, 106, 108, 97, 99, 120, 113, 107, 112, 110, 103, 107, 105, 101, 102, 108, 102, 108, 103, 98, 99, 104, 110, 109, 108, 106, 109, 104, 105, 107, 106, 110, 102, 107, 110, 112, 102, 103, 106, 102, 110, 103, 104, 101, 110, 110, 100, 103, 112, 102, 100, 103, 104, 113, 108, 104, 110, 107, 101, 101, 102, 100, 104, 107, 103, 99, 105, 102, 104, 101, 109, 103, 107, 109, 112, 110, 102, 104, 101, 106, 105, 108, 103, 114, 105, 109, 109, 105, 105, 112, 103, 116, 116, 116, 113, 116, 112, 103, 111, 117, 112, 116, 101, 111, 99, 118, 112, 119, 114, 110, 96, 99, 110, 114, 113, 105, 105, 115, 113, 116, 105, 110, 105, 110, 102, 107, 112, 106, 113, 118, 116, 106, 104, 106, 106, 109, 120, 110, 109, 114, 110, 113, 111, 111, 119, 113, 108, 111, 110, 117, 119, 107, 111, 112, 114, 118, 117, 111, 111, 116, 112, 115, 108, 120, 103, 109, 100, 112, 120, 113, 112, 114, 108, 115, 103, 110, 110, 112, 112, 110, 107, 112, 107, 104, 111, 113, 110, 108, 102, 112, 111, 109, 113, 119, 117, 113, 115, 110, 110, 118, 101, 112, 114, 115, 111, 119, 114, 120, 117, 108, 115, 115, 108, 118, 116, 119, 119, 120, 109, 103, 114, 112, 110, 113, 118, 119, 110, 108, 113, 114, 119, 114, 110, 117, 111, 113, 118, 115, 112, 111, 110, 114, 118, 120, 120, 116, 111, 116, 112, 115, 116, 103, 108, 104, 117, 116, 113, 114, 119, 117, 118, 114, 105, 105, 112, 113, 115, 116, 107], \"xaxis\": \"x3\", \"yaxis\": \"y3\"}, {\"alignmentgroup\": \"True\", \"bingroup\": \"y\", \"hovertemplate\": \"CGPA=%{y}<br>count=%{x}<extra></extra>\", \"legendgroup\": \"\", \"marker\": {\"color\": \"#636efa\"}, \"name\": \"\", \"offsetgroup\": \"\", \"opacity\": 0.5, \"showlegend\": false, \"type\": \"histogram\", \"xaxis\": \"x2\", \"y\": [8.54, 7.2, 8.03, 9.12, 7.64, 7.8, 7.5, 8.01, 7.95, 7.23, 7.65, 7.46, 8.53, 7.56, 8.01, 7.65, 6.8, 8.66, 8.43, 7.89, 7.88, 7.46, 7.9, 7.68, 7.57, 8.18, 7.25, 7.56, 7.43, 7.36, 8.0, 7.86, 8.02, 7.34, 8.47, 8.0, 8.32, 9.02, 7.28, 7.88, 7.88, 8.57, 8.32, 8.56, 7.66, 7.65, 8.56, 7.65, 7.88, 7.64, 7.87, 8.12, 7.97, 8.25, 7.43, 8.01, 8.44, 8.73, 7.8, 7.96, 8.1, 7.98, 8.03, 8.54, 9.0, 8.14, 8.26, 8.36, 8.76, 7.8, 8.45, 8.74, 8.26, 7.64, 8.22, 7.79, 8.49, 8.62, 8.48, 8.46, 7.68, 8.42, 8.16, 9.15, 9.36, 7.86, 8.78, 8.96, 8.64, 9.08, 8.03, 8.0, 7.92, 8.34, 7.5, 7.3, 8.1, 8.16, 7.89, 8.36, 7.65, 8.4, 7.7, 8.27, 8.2, 8.5, 7.86, 8.12, 8.53, 8.12, 8.45, 7.89, 8.45, 8.12, 8.21, 8.22, 7.67, 7.9, 8.23, 8.06, 8.03, 8.22, 8.34, 7.64, 7.34, 8.13, 8.07, 8.76, 7.89, 8.18, 8.33, 8.24, 8.26, 8.52, 7.21, 8.56, 8.22, 7.54, 8.15, 8.43, 8.45, 8.76, 7.98, 8.28, 8.13, 8.64, 8.46, 8.04, 7.6, 8.27, 8.07, 7.86, 8.5, 8.2, 8.1, 7.9, 8.3, 8.13, 8.15, 8.24, 9.04, 8.76, 8.65, 8.67, 8.73, 8.33, 8.57, 8.87, 8.65, 8.37, 8.44, 9.0, 8.64, 8.8, 8.5, 8.44, 8.33, 9.14, 8.02, 8.66, 8.21, 8.54, 8.04, 8.34, 8.9, 8.46, 8.76, 8.24, 8.04, 8.27, 8.64, 8.17, 8.77, 8.79, 8.74, 9.22, 8.53, 8.26, 8.67, 8.09, 8.79, 8.68, 8.17, 8.84, 8.96, 8.64, 9.11, 8.79, 8.9, 8.54, 9.04, 8.67, 9.11, 9.24, 8.65, 8.55, 8.8, 9.1, 8.56, 8.56, 8.83, 8.42, 8.2, 8.7, 8.09, 9.02, 9.22, 8.9, 8.72, 8.02, 7.86, 8.13, 8.42, 8.14, 7.66, 7.66, 8.96, 8.88, 8.46, 9.05, 8.78, 8.75, 8.34, 8.45, 9.13, 8.62, 8.97, 7.4, 8.22, 7.7, 8.3, 8.45, 8.0, 8.67, 8.2, 8.6, 8.4, 8.0, 8.2, 8.3, 8.7, 8.0, 8.8, 8.5, 7.9, 8.5, 8.62, 8.37, 8.3, 7.89, 9.01, 8.0, 8.49, 8.12, 7.88, 8.85, 8.0, 8.66, 8.76, 8.71, 8.27, 7.42, 7.68, 8.1, 9.32, 8.12, 8.16, 8.8, 8.68, 7.94, 7.67, 8.33, 7.95, 8.43, 8.69, 8.54, 7.45, 8.54, 8.02, 8.12, 7.64, 8.94, 8.78, 9.11, 8.76, 8.95, 9.04, 8.27, 8.13, 8.65, 8.57, 8.75, 8.89, 8.45, 9.11, 8.34, 8.5, 8.69, 8.48, 8.56, 9.1, 8.21, 9.54, 9.44, 9.6, 9.25, 9.45, 9.12, 8.02, 9.23, 9.66, 9.22, 9.23, 7.69, 8.54, 7.81, 9.67, 8.86, 9.62, 9.17, 9.15, 8.26, 8.73, 8.88, 9.16, 9.74, 7.94, 8.66, 9.14, 9.36, 9.48, 7.95, 8.35, 8.18, 8.96, 7.88, 8.48, 9.02, 8.75, 8.77, 9.65, 9.8, 9.04, 7.46, 8.36, 8.47, 8.77, 9.92, 8.67, 8.68, 9.43, 9.13, 9.23, 8.97, 8.87, 9.16, 9.11, 9.06, 9.01, 9.14, 9.46, 9.24, 8.87, 9.0, 9.1, 8.4, 9.4, 9.1, 8.4, 9.18, 8.0, 8.92, 9.16, 9.04, 9.5, 8.66, 8.76, 7.84, 8.1, 9.66, 9.04, 9.66, 9.12, 9.18, 9.68, 8.43, 8.6, 9.02, 8.77, 9.0, 8.37, 8.65, 9.17, 9.0, 9.02, 9.01, 8.69, 8.97, 8.34, 8.76, 9.26, 9.11, 9.13, 9.14, 9.34, 9.42, 8.79, 9.45, 9.22, 9.27, 9.64, 8.78, 9.76, 9.08, 9.36, 9.45, 9.78, 9.3, 9.56, 9.87, 9.02, 9.23, 9.34, 8.74, 9.47, 9.5, 9.7, 9.7, 9.6, 8.8, 7.92, 9.6, 9.8, 9.2, 9.4, 9.19, 9.8, 9.1, 9.13, 9.45, 9.46, 9.54, 9.19, 8.97, 9.07, 9.23, 9.31, 9.44, 9.36, 9.08, 9.16, 8.98, 8.94, 9.53, 9.91, 9.87, 9.36, 9.86, 9.26, 9.06, 9.06, 9.38, 8.64, 8.48, 8.84, 9.56, 9.08, 9.25, 9.16, 9.48, 9.82, 9.35, 9.76, 8.65, 8.56, 8.78, 9.28, 9.44, 9.28, 8.66], \"yaxis\": \"y2\"}, {\"hovertemplate\": \"<b>OLS trendline</b><br>CGPA = 0.0806077 * TOEFL Score + -0.0640586<br>R<sup>2</sup>=0.657029<br><br>TOEFL Score=%{x}<br>CGPA=%{y} <b>(trend)</b><extra></extra>\", \"legendgroup\": \"\", \"line\": {\"color\": \"red\"}, \"marker\": {\"color\": \"#636efa\", \"symbol\": \"circle\"}, \"mode\": \"lines\", \"name\": \"\", \"showlegend\": false, \"type\": \"scatter\", \"x\": [92, 93, 93, 94, 94, 95, 95, 95, 96, 96, 96, 96, 96, 96, 97, 97, 97, 97, 97, 97, 97, 98, 98, 98, 98, 98, 98, 98, 98, 98, 98, 99, 99, 99, 99, 99, 99, 99, 99, 99, 99, 99, 99, 99, 99, 99, 99, 99, 99, 99, 99, 99, 99, 99, 100, 100, 100, 100, 100, 100, 100, 100, 100, 100, 100, 100, 100, 100, 100, 100, 100, 100, 100, 100, 100, 100, 100, 100, 101, 101, 101, 101, 101, 101, 101, 101, 101, 101, 101, 101, 101, 101, 101, 101, 101, 101, 101, 101, 102, 102, 102, 102, 102, 102, 102, 102, 102, 102, 102, 102, 102, 102, 102, 102, 102, 102, 102, 102, 102, 102, 102, 102, 103, 103, 103, 103, 103, 103, 103, 103, 103, 103, 103, 103, 103, 103, 103, 103, 103, 103, 103, 103, 103, 103, 103, 103, 103, 104, 104, 104, 104, 104, 104, 104, 104, 104, 104, 104, 104, 104, 104, 104, 104, 104, 104, 104, 104, 104, 104, 104, 104, 104, 104, 104, 104, 104, 105, 105, 105, 105, 105, 105, 105, 105, 105, 105, 105, 105, 105, 105, 105, 105, 105, 105, 105, 105, 105, 105, 105, 105, 105, 105, 105, 105, 105, 105, 105, 105, 105, 105, 105, 105, 105, 106, 106, 106, 106, 106, 106, 106, 106, 106, 106, 106, 106, 106, 106, 106, 106, 106, 106, 106, 106, 106, 106, 106, 106, 106, 106, 106, 106, 107, 107, 107, 107, 107, 107, 107, 107, 107, 107, 107, 107, 107, 107, 107, 107, 107, 107, 107, 107, 107, 107, 107, 107, 107, 107, 107, 107, 108, 108, 108, 108, 108, 108, 108, 108, 108, 108, 108, 108, 108, 108, 108, 108, 108, 108, 108, 109, 109, 109, 109, 109, 109, 109, 109, 109, 109, 109, 109, 109, 109, 109, 109, 109, 109, 109, 110, 110, 110, 110, 110, 110, 110, 110, 110, 110, 110, 110, 110, 110, 110, 110, 110, 110, 110, 110, 110, 110, 110, 110, 110, 110, 110, 110, 110, 110, 110, 110, 110, 110, 110, 110, 110, 110, 110, 110, 110, 110, 110, 110, 111, 111, 111, 111, 111, 111, 111, 111, 111, 111, 111, 111, 111, 111, 111, 111, 111, 111, 111, 111, 112, 112, 112, 112, 112, 112, 112, 112, 112, 112, 112, 112, 112, 112, 112, 112, 112, 112, 112, 112, 112, 112, 112, 112, 112, 112, 112, 112, 113, 113, 113, 113, 113, 113, 113, 113, 113, 113, 113, 113, 113, 113, 113, 113, 113, 113, 113, 114, 114, 114, 114, 114, 114, 114, 114, 114, 114, 114, 114, 114, 114, 114, 114, 114, 114, 115, 115, 115, 115, 115, 115, 115, 115, 115, 115, 115, 116, 116, 116, 116, 116, 116, 116, 116, 116, 116, 116, 116, 116, 116, 116, 116, 117, 117, 117, 117, 117, 117, 117, 117, 118, 118, 118, 118, 118, 118, 118, 118, 118, 118, 119, 119, 119, 119, 119, 119, 119, 119, 119, 119, 120, 120, 120, 120, 120, 120, 120, 120, 120], \"xaxis\": \"x\", \"y\": [7.351848104799083, 7.432455786157754, 7.432455786157754, 7.513063467516425, 7.513063467516425, 7.593671148875097, 7.593671148875097, 7.593671148875097, 7.674278830233767, 7.674278830233767, 7.674278830233767, 7.674278830233767, 7.674278830233767, 7.674278830233767, 7.754886511592439, 7.754886511592439, 7.754886511592439, 7.754886511592439, 7.754886511592439, 7.754886511592439, 7.754886511592439, 7.83549419295111, 7.83549419295111, 7.83549419295111, 7.83549419295111, 7.83549419295111, 7.83549419295111, 7.83549419295111, 7.83549419295111, 7.83549419295111, 7.83549419295111, 7.916101874309781, 7.916101874309781, 7.916101874309781, 7.916101874309781, 7.916101874309781, 7.916101874309781, 7.916101874309781, 7.916101874309781, 7.916101874309781, 7.916101874309781, 7.916101874309781, 7.916101874309781, 7.916101874309781, 7.916101874309781, 7.916101874309781, 7.916101874309781, 7.916101874309781, 7.916101874309781, 7.916101874309781, 7.916101874309781, 7.916101874309781, 7.916101874309781, 7.916101874309781, 7.996709555668453, 7.996709555668453, 7.996709555668453, 7.996709555668453, 7.996709555668453, 7.996709555668453, 7.996709555668453, 7.996709555668453, 7.996709555668453, 7.996709555668453, 7.996709555668453, 7.996709555668453, 7.996709555668453, 7.996709555668453, 7.996709555668453, 7.996709555668453, 7.996709555668453, 7.996709555668453, 7.996709555668453, 7.996709555668453, 7.996709555668453, 7.996709555668453, 7.996709555668453, 7.996709555668453, 8.077317237027124, 8.077317237027124, 8.077317237027124, 8.077317237027124, 8.077317237027124, 8.077317237027124, 8.077317237027124, 8.077317237027124, 8.077317237027124, 8.077317237027124, 8.077317237027124, 8.077317237027124, 8.077317237027124, 8.077317237027124, 8.077317237027124, 8.077317237027124, 8.077317237027124, 8.077317237027124, 8.077317237027124, 8.077317237027124, 8.157924918385795, 8.157924918385795, 8.157924918385795, 8.157924918385795, 8.157924918385795, 8.157924918385795, 8.157924918385795, 8.157924918385795, 8.157924918385795, 8.157924918385795, 8.157924918385795, 8.157924918385795, 8.157924918385795, 8.157924918385795, 8.157924918385795, 8.157924918385795, 8.157924918385795, 8.157924918385795, 8.157924918385795, 8.157924918385795, 8.157924918385795, 8.157924918385795, 8.157924918385795, 8.157924918385795, 8.238532599744467, 8.238532599744467, 8.238532599744467, 8.238532599744467, 8.238532599744467, 8.238532599744467, 8.238532599744467, 8.238532599744467, 8.238532599744467, 8.238532599744467, 8.238532599744467, 8.238532599744467, 8.238532599744467, 8.238532599744467, 8.238532599744467, 8.238532599744467, 8.238532599744467, 8.238532599744467, 8.238532599744467, 8.238532599744467, 8.238532599744467, 8.238532599744467, 8.238532599744467, 8.238532599744467, 8.238532599744467, 8.319140281103138, 8.319140281103138, 8.319140281103138, 8.319140281103138, 8.319140281103138, 8.319140281103138, 8.319140281103138, 8.319140281103138, 8.319140281103138, 8.319140281103138, 8.319140281103138, 8.319140281103138, 8.319140281103138, 8.319140281103138, 8.319140281103138, 8.319140281103138, 8.319140281103138, 8.319140281103138, 8.319140281103138, 8.319140281103138, 8.319140281103138, 8.319140281103138, 8.319140281103138, 8.319140281103138, 8.319140281103138, 8.319140281103138, 8.319140281103138, 8.319140281103138, 8.319140281103138, 8.39974796246181, 8.39974796246181, 8.39974796246181, 8.39974796246181, 8.39974796246181, 8.39974796246181, 8.39974796246181, 8.39974796246181, 8.39974796246181, 8.39974796246181, 8.39974796246181, 8.39974796246181, 8.39974796246181, 8.39974796246181, 8.39974796246181, 8.39974796246181, 8.39974796246181, 8.39974796246181, 8.39974796246181, 8.39974796246181, 8.39974796246181, 8.39974796246181, 8.39974796246181, 8.39974796246181, 8.39974796246181, 8.39974796246181, 8.39974796246181, 8.39974796246181, 8.39974796246181, 8.39974796246181, 8.39974796246181, 8.39974796246181, 8.39974796246181, 8.39974796246181, 8.39974796246181, 8.39974796246181, 8.39974796246181, 8.48035564382048, 8.48035564382048, 8.48035564382048, 8.48035564382048, 8.48035564382048, 8.48035564382048, 8.48035564382048, 8.48035564382048, 8.48035564382048, 8.48035564382048, 8.48035564382048, 8.48035564382048, 8.48035564382048, 8.48035564382048, 8.48035564382048, 8.48035564382048, 8.48035564382048, 8.48035564382048, 8.48035564382048, 8.48035564382048, 8.48035564382048, 8.48035564382048, 8.48035564382048, 8.48035564382048, 8.48035564382048, 8.48035564382048, 8.48035564382048, 8.48035564382048, 8.560963325179152, 8.560963325179152, 8.560963325179152, 8.560963325179152, 8.560963325179152, 8.560963325179152, 8.560963325179152, 8.560963325179152, 8.560963325179152, 8.560963325179152, 8.560963325179152, 8.560963325179152, 8.560963325179152, 8.560963325179152, 8.560963325179152, 8.560963325179152, 8.560963325179152, 8.560963325179152, 8.560963325179152, 8.560963325179152, 8.560963325179152, 8.560963325179152, 8.560963325179152, 8.560963325179152, 8.560963325179152, 8.560963325179152, 8.560963325179152, 8.560963325179152, 8.641571006537824, 8.641571006537824, 8.641571006537824, 8.641571006537824, 8.641571006537824, 8.641571006537824, 8.641571006537824, 8.641571006537824, 8.641571006537824, 8.641571006537824, 8.641571006537824, 8.641571006537824, 8.641571006537824, 8.641571006537824, 8.641571006537824, 8.641571006537824, 8.641571006537824, 8.641571006537824, 8.641571006537824, 8.722178687896495, 8.722178687896495, 8.722178687896495, 8.722178687896495, 8.722178687896495, 8.722178687896495, 8.722178687896495, 8.722178687896495, 8.722178687896495, 8.722178687896495, 8.722178687896495, 8.722178687896495, 8.722178687896495, 8.722178687896495, 8.722178687896495, 8.722178687896495, 8.722178687896495, 8.722178687896495, 8.722178687896495, 8.802786369255166, 8.802786369255166, 8.802786369255166, 8.802786369255166, 8.802786369255166, 8.802786369255166, 8.802786369255166, 8.802786369255166, 8.802786369255166, 8.802786369255166, 8.802786369255166, 8.802786369255166, 8.802786369255166, 8.802786369255166, 8.802786369255166, 8.802786369255166, 8.802786369255166, 8.802786369255166, 8.802786369255166, 8.802786369255166, 8.802786369255166, 8.802786369255166, 8.802786369255166, 8.802786369255166, 8.802786369255166, 8.802786369255166, 8.802786369255166, 8.802786369255166, 8.802786369255166, 8.802786369255166, 8.802786369255166, 8.802786369255166, 8.802786369255166, 8.802786369255166, 8.802786369255166, 8.802786369255166, 8.802786369255166, 8.802786369255166, 8.802786369255166, 8.802786369255166, 8.802786369255166, 8.802786369255166, 8.802786369255166, 8.802786369255166, 8.883394050613838, 8.883394050613838, 8.883394050613838, 8.883394050613838, 8.883394050613838, 8.883394050613838, 8.883394050613838, 8.883394050613838, 8.883394050613838, 8.883394050613838, 8.883394050613838, 8.883394050613838, 8.883394050613838, 8.883394050613838, 8.883394050613838, 8.883394050613838, 8.883394050613838, 8.883394050613838, 8.883394050613838, 8.883394050613838, 8.964001731972509, 8.964001731972509, 8.964001731972509, 8.964001731972509, 8.964001731972509, 8.964001731972509, 8.964001731972509, 8.964001731972509, 8.964001731972509, 8.964001731972509, 8.964001731972509, 8.964001731972509, 8.964001731972509, 8.964001731972509, 8.964001731972509, 8.964001731972509, 8.964001731972509, 8.964001731972509, 8.964001731972509, 8.964001731972509, 8.964001731972509, 8.964001731972509, 8.964001731972509, 8.964001731972509, 8.964001731972509, 8.964001731972509, 8.964001731972509, 8.964001731972509, 9.04460941333118, 9.04460941333118, 9.04460941333118, 9.04460941333118, 9.04460941333118, 9.04460941333118, 9.04460941333118, 9.04460941333118, 9.04460941333118, 9.04460941333118, 9.04460941333118, 9.04460941333118, 9.04460941333118, 9.04460941333118, 9.04460941333118, 9.04460941333118, 9.04460941333118, 9.04460941333118, 9.04460941333118, 9.125217094689852, 9.125217094689852, 9.125217094689852, 9.125217094689852, 9.125217094689852, 9.125217094689852, 9.125217094689852, 9.125217094689852, 9.125217094689852, 9.125217094689852, 9.125217094689852, 9.125217094689852, 9.125217094689852, 9.125217094689852, 9.125217094689852, 9.125217094689852, 9.125217094689852, 9.125217094689852, 9.205824776048523, 9.205824776048523, 9.205824776048523, 9.205824776048523, 9.205824776048523, 9.205824776048523, 9.205824776048523, 9.205824776048523, 9.205824776048523, 9.205824776048523, 9.205824776048523, 9.286432457407193, 9.286432457407193, 9.286432457407193, 9.286432457407193, 9.286432457407193, 9.286432457407193, 9.286432457407193, 9.286432457407193, 9.286432457407193, 9.286432457407193, 9.286432457407193, 9.286432457407193, 9.286432457407193, 9.286432457407193, 9.286432457407193, 9.286432457407193, 9.367040138765864, 9.367040138765864, 9.367040138765864, 9.367040138765864, 9.367040138765864, 9.367040138765864, 9.367040138765864, 9.367040138765864, 9.447647820124535, 9.447647820124535, 9.447647820124535, 9.447647820124535, 9.447647820124535, 9.447647820124535, 9.447647820124535, 9.447647820124535, 9.447647820124535, 9.447647820124535, 9.528255501483207, 9.528255501483207, 9.528255501483207, 9.528255501483207, 9.528255501483207, 9.528255501483207, 9.528255501483207, 9.528255501483207, 9.528255501483207, 9.528255501483207, 9.608863182841878, 9.608863182841878, 9.608863182841878, 9.608863182841878, 9.608863182841878, 9.608863182841878, 9.608863182841878, 9.608863182841878, 9.608863182841878], \"yaxis\": \"y\"}],                        {\"barmode\": \"overlay\", \"legend\": {\"tracegroupgap\": 0}, \"template\": {\"data\": {\"bar\": [{\"error_x\": {\"color\": \"#2a3f5f\"}, \"error_y\": {\"color\": \"#2a3f5f\"}, \"marker\": {\"line\": {\"color\": \"#E5ECF6\", \"width\": 0.5}}, \"type\": \"bar\"}], \"barpolar\": [{\"marker\": {\"line\": {\"color\": \"#E5ECF6\", \"width\": 0.5}}, \"type\": \"barpolar\"}], \"carpet\": [{\"aaxis\": {\"endlinecolor\": \"#2a3f5f\", \"gridcolor\": \"white\", \"linecolor\": \"white\", \"minorgridcolor\": \"white\", \"startlinecolor\": \"#2a3f5f\"}, \"baxis\": {\"endlinecolor\": \"#2a3f5f\", \"gridcolor\": \"white\", \"linecolor\": \"white\", \"minorgridcolor\": \"white\", \"startlinecolor\": \"#2a3f5f\"}, \"type\": \"carpet\"}], \"choropleth\": [{\"colorbar\": {\"outlinewidth\": 0, \"ticks\": \"\"}, \"type\": \"choropleth\"}], \"contour\": [{\"colorbar\": {\"outlinewidth\": 0, \"ticks\": \"\"}, \"colorscale\": [[0.0, \"#0d0887\"], [0.1111111111111111, \"#46039f\"], [0.2222222222222222, \"#7201a8\"], [0.3333333333333333, \"#9c179e\"], [0.4444444444444444, \"#bd3786\"], [0.5555555555555556, \"#d8576b\"], [0.6666666666666666, \"#ed7953\"], [0.7777777777777778, \"#fb9f3a\"], [0.8888888888888888, \"#fdca26\"], [1.0, \"#f0f921\"]], \"type\": \"contour\"}], \"contourcarpet\": [{\"colorbar\": {\"outlinewidth\": 0, \"ticks\": \"\"}, \"type\": \"contourcarpet\"}], \"heatmap\": [{\"colorbar\": {\"outlinewidth\": 0, \"ticks\": \"\"}, \"colorscale\": [[0.0, \"#0d0887\"], [0.1111111111111111, \"#46039f\"], [0.2222222222222222, \"#7201a8\"], [0.3333333333333333, \"#9c179e\"], [0.4444444444444444, \"#bd3786\"], [0.5555555555555556, \"#d8576b\"], [0.6666666666666666, \"#ed7953\"], [0.7777777777777778, \"#fb9f3a\"], [0.8888888888888888, \"#fdca26\"], [1.0, \"#f0f921\"]], \"type\": \"heatmap\"}], \"heatmapgl\": [{\"colorbar\": {\"outlinewidth\": 0, \"ticks\": \"\"}, \"colorscale\": [[0.0, \"#0d0887\"], [0.1111111111111111, \"#46039f\"], [0.2222222222222222, \"#7201a8\"], [0.3333333333333333, \"#9c179e\"], [0.4444444444444444, \"#bd3786\"], [0.5555555555555556, \"#d8576b\"], [0.6666666666666666, \"#ed7953\"], [0.7777777777777778, \"#fb9f3a\"], [0.8888888888888888, \"#fdca26\"], [1.0, \"#f0f921\"]], \"type\": \"heatmapgl\"}], \"histogram\": [{\"marker\": {\"colorbar\": {\"outlinewidth\": 0, \"ticks\": \"\"}}, \"type\": \"histogram\"}], \"histogram2d\": [{\"colorbar\": {\"outlinewidth\": 0, \"ticks\": \"\"}, \"colorscale\": [[0.0, \"#0d0887\"], [0.1111111111111111, \"#46039f\"], [0.2222222222222222, \"#7201a8\"], [0.3333333333333333, \"#9c179e\"], [0.4444444444444444, \"#bd3786\"], [0.5555555555555556, \"#d8576b\"], [0.6666666666666666, \"#ed7953\"], [0.7777777777777778, \"#fb9f3a\"], [0.8888888888888888, \"#fdca26\"], [1.0, \"#f0f921\"]], \"type\": \"histogram2d\"}], \"histogram2dcontour\": [{\"colorbar\": {\"outlinewidth\": 0, \"ticks\": \"\"}, \"colorscale\": [[0.0, \"#0d0887\"], [0.1111111111111111, \"#46039f\"], [0.2222222222222222, \"#7201a8\"], [0.3333333333333333, \"#9c179e\"], [0.4444444444444444, \"#bd3786\"], [0.5555555555555556, \"#d8576b\"], [0.6666666666666666, \"#ed7953\"], [0.7777777777777778, \"#fb9f3a\"], [0.8888888888888888, \"#fdca26\"], [1.0, \"#f0f921\"]], \"type\": \"histogram2dcontour\"}], \"mesh3d\": [{\"colorbar\": {\"outlinewidth\": 0, \"ticks\": \"\"}, \"type\": \"mesh3d\"}], \"parcoords\": [{\"line\": {\"colorbar\": {\"outlinewidth\": 0, \"ticks\": \"\"}}, \"type\": \"parcoords\"}], \"pie\": [{\"automargin\": true, \"type\": \"pie\"}], \"scatter\": [{\"marker\": {\"colorbar\": {\"outlinewidth\": 0, \"ticks\": \"\"}}, \"type\": \"scatter\"}], \"scatter3d\": [{\"line\": {\"colorbar\": {\"outlinewidth\": 0, \"ticks\": \"\"}}, \"marker\": {\"colorbar\": {\"outlinewidth\": 0, \"ticks\": \"\"}}, \"type\": \"scatter3d\"}], \"scattercarpet\": [{\"marker\": {\"colorbar\": {\"outlinewidth\": 0, \"ticks\": \"\"}}, \"type\": \"scattercarpet\"}], \"scattergeo\": [{\"marker\": {\"colorbar\": {\"outlinewidth\": 0, \"ticks\": \"\"}}, \"type\": \"scattergeo\"}], \"scattergl\": [{\"marker\": {\"colorbar\": {\"outlinewidth\": 0, \"ticks\": \"\"}}, \"type\": \"scattergl\"}], \"scattermapbox\": [{\"marker\": {\"colorbar\": {\"outlinewidth\": 0, \"ticks\": \"\"}}, \"type\": \"scattermapbox\"}], \"scatterpolar\": [{\"marker\": {\"colorbar\": {\"outlinewidth\": 0, \"ticks\": \"\"}}, \"type\": \"scatterpolar\"}], \"scatterpolargl\": [{\"marker\": {\"colorbar\": {\"outlinewidth\": 0, \"ticks\": \"\"}}, \"type\": \"scatterpolargl\"}], \"scatterternary\": [{\"marker\": {\"colorbar\": {\"outlinewidth\": 0, \"ticks\": \"\"}}, \"type\": \"scatterternary\"}], \"surface\": [{\"colorbar\": {\"outlinewidth\": 0, \"ticks\": \"\"}, \"colorscale\": [[0.0, \"#0d0887\"], [0.1111111111111111, \"#46039f\"], [0.2222222222222222, \"#7201a8\"], [0.3333333333333333, \"#9c179e\"], [0.4444444444444444, \"#bd3786\"], [0.5555555555555556, \"#d8576b\"], [0.6666666666666666, \"#ed7953\"], [0.7777777777777778, \"#fb9f3a\"], [0.8888888888888888, \"#fdca26\"], [1.0, \"#f0f921\"]], \"type\": \"surface\"}], \"table\": [{\"cells\": {\"fill\": {\"color\": \"#EBF0F8\"}, \"line\": {\"color\": \"white\"}}, \"header\": {\"fill\": {\"color\": \"#C8D4E3\"}, \"line\": {\"color\": \"white\"}}, \"type\": \"table\"}]}, \"layout\": {\"annotationdefaults\": {\"arrowcolor\": \"#2a3f5f\", \"arrowhead\": 0, \"arrowwidth\": 1}, \"autotypenumbers\": \"strict\", \"coloraxis\": {\"colorbar\": {\"outlinewidth\": 0, \"ticks\": \"\"}}, \"colorscale\": {\"diverging\": [[0, \"#8e0152\"], [0.1, \"#c51b7d\"], [0.2, \"#de77ae\"], [0.3, \"#f1b6da\"], [0.4, \"#fde0ef\"], [0.5, \"#f7f7f7\"], [0.6, \"#e6f5d0\"], [0.7, \"#b8e186\"], [0.8, \"#7fbc41\"], [0.9, \"#4d9221\"], [1, \"#276419\"]], \"sequential\": [[0.0, \"#0d0887\"], [0.1111111111111111, \"#46039f\"], [0.2222222222222222, \"#7201a8\"], [0.3333333333333333, \"#9c179e\"], [0.4444444444444444, \"#bd3786\"], [0.5555555555555556, \"#d8576b\"], [0.6666666666666666, \"#ed7953\"], [0.7777777777777778, \"#fb9f3a\"], [0.8888888888888888, \"#fdca26\"], [1.0, \"#f0f921\"]], \"sequentialminus\": [[0.0, \"#0d0887\"], [0.1111111111111111, \"#46039f\"], [0.2222222222222222, \"#7201a8\"], [0.3333333333333333, \"#9c179e\"], [0.4444444444444444, \"#bd3786\"], [0.5555555555555556, \"#d8576b\"], [0.6666666666666666, \"#ed7953\"], [0.7777777777777778, \"#fb9f3a\"], [0.8888888888888888, \"#fdca26\"], [1.0, \"#f0f921\"]]}, \"colorway\": [\"#636efa\", \"#EF553B\", \"#00cc96\", \"#ab63fa\", \"#FFA15A\", \"#19d3f3\", \"#FF6692\", \"#B6E880\", \"#FF97FF\", \"#FECB52\"], \"font\": {\"color\": \"#2a3f5f\"}, \"geo\": {\"bgcolor\": \"white\", \"lakecolor\": \"white\", \"landcolor\": \"#E5ECF6\", \"showlakes\": true, \"showland\": true, \"subunitcolor\": \"white\"}, \"hoverlabel\": {\"align\": \"left\"}, \"hovermode\": \"closest\", \"mapbox\": {\"style\": \"light\"}, \"paper_bgcolor\": \"white\", \"plot_bgcolor\": \"#E5ECF6\", \"polar\": {\"angularaxis\": {\"gridcolor\": \"white\", \"linecolor\": \"white\", \"ticks\": \"\"}, \"bgcolor\": \"#E5ECF6\", \"radialaxis\": {\"gridcolor\": \"white\", \"linecolor\": \"white\", \"ticks\": \"\"}}, \"scene\": {\"xaxis\": {\"backgroundcolor\": \"#E5ECF6\", \"gridcolor\": \"white\", \"gridwidth\": 2, \"linecolor\": \"white\", \"showbackground\": true, \"ticks\": \"\", \"zerolinecolor\": \"white\"}, \"yaxis\": {\"backgroundcolor\": \"#E5ECF6\", \"gridcolor\": \"white\", \"gridwidth\": 2, \"linecolor\": \"white\", \"showbackground\": true, \"ticks\": \"\", \"zerolinecolor\": \"white\"}, \"zaxis\": {\"backgroundcolor\": \"#E5ECF6\", \"gridcolor\": \"white\", \"gridwidth\": 2, \"linecolor\": \"white\", \"showbackground\": true, \"ticks\": \"\", \"zerolinecolor\": \"white\"}}, \"shapedefaults\": {\"line\": {\"color\": \"#2a3f5f\"}}, \"ternary\": {\"aaxis\": {\"gridcolor\": \"white\", \"linecolor\": \"white\", \"ticks\": \"\"}, \"baxis\": {\"gridcolor\": \"white\", \"linecolor\": \"white\", \"ticks\": \"\"}, \"bgcolor\": \"#E5ECF6\", \"caxis\": {\"gridcolor\": \"white\", \"linecolor\": \"white\", \"ticks\": \"\"}}, \"title\": {\"x\": 0.05}, \"xaxis\": {\"automargin\": true, \"gridcolor\": \"white\", \"linecolor\": \"white\", \"ticks\": \"\", \"title\": {\"standoff\": 15}, \"zerolinecolor\": \"white\", \"zerolinewidth\": 2}, \"yaxis\": {\"automargin\": true, \"gridcolor\": \"white\", \"linecolor\": \"white\", \"ticks\": \"\", \"title\": {\"standoff\": 15}, \"zerolinecolor\": \"white\", \"zerolinewidth\": 2}}}, \"title\": {\"text\": \"Correlation between TOEFL Score and CGPA is: 0.81\"}, \"xaxis\": {\"anchor\": \"y\", \"domain\": [0.0, 0.7363], \"title\": {\"text\": \"TOEFL Score\"}}, \"xaxis2\": {\"anchor\": \"y2\", \"domain\": [0.7413, 1.0], \"matches\": \"x2\", \"showgrid\": true, \"showline\": false, \"showticklabels\": false, \"ticks\": \"\"}, \"xaxis3\": {\"anchor\": \"y3\", \"domain\": [0.0, 0.7363], \"matches\": \"x\", \"showgrid\": true, \"showticklabels\": false}, \"xaxis4\": {\"anchor\": \"y4\", \"domain\": [0.7413, 1.0], \"matches\": \"x2\", \"showgrid\": true, \"showline\": false, \"showticklabels\": false, \"ticks\": \"\"}, \"yaxis\": {\"anchor\": \"x\", \"domain\": [0.0, 0.7326], \"title\": {\"text\": \"CGPA\"}}, \"yaxis2\": {\"anchor\": \"x2\", \"domain\": [0.0, 0.7326], \"matches\": \"y\", \"showgrid\": true, \"showticklabels\": false}, \"yaxis3\": {\"anchor\": \"x3\", \"domain\": [0.7426, 1.0], \"matches\": \"y3\", \"showgrid\": true, \"showline\": false, \"showticklabels\": false, \"ticks\": \"\"}, \"yaxis4\": {\"anchor\": \"x4\", \"domain\": [0.7426, 1.0], \"matches\": \"y3\", \"showgrid\": true, \"showline\": false, \"showticklabels\": false, \"ticks\": \"\"}},                        {\"responsive\": true}                    ).then(function(){\n",
       "                            \n",
       "var gd = document.getElementById('4ba5b216-9949-4fd5-8aea-7fc387310103');\n",
       "var x = new MutationObserver(function (mutations, observer) {{\n",
       "        var display = window.getComputedStyle(gd).display;\n",
       "        if (!display || display === 'none') {{\n",
       "            console.log([gd, 'removed!']);\n",
       "            Plotly.purge(gd);\n",
       "            observer.disconnect();\n",
       "        }}\n",
       "}});\n",
       "\n",
       "// Listen for the removal of the full notebook cells\n",
       "var notebookContainer = gd.closest('#notebook-container');\n",
       "if (notebookContainer) {{\n",
       "    x.observe(notebookContainer, {childList: true});\n",
       "}}\n",
       "\n",
       "// Listen for the clearing of the current output cell\n",
       "var outputEl = gd.closest('.output');\n",
       "if (outputEl) {{\n",
       "    x.observe(outputEl, {childList: true});\n",
       "}}\n",
       "\n",
       "                        })                };                });            </script>        </div>"
      ]
     },
     "metadata": {},
     "output_type": "display_data"
    }
   ],
   "source": [
    "corr_value = df[\"TOEFL Score\"].corr(df[\"CGPA\"])\n",
    "\n",
    "fig = px.scatter(\n",
    "    data_frame=df,\n",
    "    x=\"TOEFL Score\",\n",
    "    y=\"CGPA\",\n",
    "    marginal_x=\"histogram\",\n",
    "    marginal_y=\"histogram\",\n",
    "    trendline=\"ols\",\n",
    "    trendline_color_override=\"red\",\n",
    "    title=f\"Correlation between TOEFL Score and CGPA is: {corr_value:.2f}\",\n",
    ")\n",
    "\n",
    "fig.show()"
   ]
  },
  {
   "cell_type": "markdown",
   "metadata": {
    "papermill": {
     "duration": 0.129985,
     "end_time": "2020-12-28T20:42:16.414281",
     "exception": false,
     "start_time": "2020-12-28T20:42:16.284296",
     "status": "completed"
    },
    "tags": []
   },
   "source": [
    "#### `GRE Score` vs. `CGPA`"
   ]
  },
  {
   "cell_type": "code",
   "execution_count": 63,
   "metadata": {
    "execution": {
     "iopub.execute_input": "2020-12-28T20:42:16.687089Z",
     "iopub.status.busy": "2020-12-28T20:42:16.686426Z",
     "iopub.status.idle": "2020-12-28T20:42:16.835326Z",
     "shell.execute_reply": "2020-12-28T20:42:16.835823Z"
    },
    "papermill": {
     "duration": 0.290719,
     "end_time": "2020-12-28T20:42:16.835981",
     "exception": false,
     "start_time": "2020-12-28T20:42:16.545262",
     "status": "completed"
    },
    "tags": []
   },
   "outputs": [
    {
     "data": {
      "text/html": [
       "<div>                            <div id=\"e9bb420b-d14f-4e4b-8c8e-56423fe7006e\" class=\"plotly-graph-div\" style=\"height:525px; width:100%;\"></div>            <script type=\"text/javascript\">                require([\"plotly\"], function(Plotly) {                    window.PLOTLYENV=window.PLOTLYENV || {};                                    if (document.getElementById(\"e9bb420b-d14f-4e4b-8c8e-56423fe7006e\")) {                    Plotly.newPlot(                        \"e9bb420b-d14f-4e4b-8c8e-56423fe7006e\",                        [{\"hovertemplate\": \"GRE Score=%{x}<br>CGPA=%{y}<extra></extra>\", \"legendgroup\": \"\", \"marker\": {\"color\": \"#636efa\", \"symbol\": \"circle\"}, \"mode\": \"markers\", \"name\": \"\", \"orientation\": \"v\", \"showlegend\": false, \"type\": \"scatter\", \"x\": [318, 295, 301, 318, 294, 300, 304, 312, 315, 310, 317, 311, 312, 290, 300, 303, 300, 332, 311, 299, 298, 298, 297, 296, 295, 312, 302, 301, 316, 294, 302, 315, 300, 299, 317, 306, 316, 312, 296, 301, 299, 317, 316, 320, 304, 315, 314, 307, 299, 305, 300, 312, 302, 314, 297, 310, 321, 304, 293, 302, 307, 308, 309, 318, 316, 306, 309, 308, 325, 296, 312, 316, 311, 314, 306, 305, 308, 320, 311, 312, 309, 305, 316, 329, 332, 299, 320, 325, 320, 326, 298, 309, 318, 311, 298, 310, 300, 305, 315, 306, 295, 299, 307, 312, 316, 313, 295, 311, 312, 307, 306, 301, 308, 317, 314, 300, 297, 308, 305, 303, 296, 304, 315, 304, 295, 305, 304, 317, 297, 305, 310, 310, 306, 307, 298, 329, 301, 296, 317, 313, 322, 319, 311, 317, 313, 316, 315, 312, 298, 314, 308, 298, 315, 304, 309, 312, 311, 305, 316, 314, 325, 324, 318, 318, 316, 319, 320, 324, 313, 310, 320, 313, 324, 324, 317, 323, 315, 326, 299, 327, 308, 319, 301, 320, 313, 312, 326, 308, 313, 318, 322, 300, 327, 319, 320, 324, 312, 300, 319, 312, 324, 313, 314, 322, 322, 311, 317, 312, 321, 321, 324, 310, 320, 330, 305, 323, 321, 323, 309, 316, 321, 312, 307, 325, 311, 327, 318, 314, 327, 312, 304, 301, 315, 314, 299, 303, 331, 323, 322, 326, 316, 313, 301, 311, 315, 299, 320, 316, 308, 320, 313, 301, 316, 322, 321, 323, 325, 307, 311, 314, 317, 319, 318, 303, 312, 302, 322, 319, 327, 317, 321, 308, 318, 304, 300, 321, 322, 300, 319, 319, 313, 299, 316, 315, 323, 309, 300, 314, 317, 317, 297, 302, 298, 311, 313, 317, 302, 298, 310, 301, 311, 324, 312, 325, 316, 321, 319, 307, 311, 310, 312, 324, 326, 312, 326, 315, 318, 312, 315, 317, 326, 306, 334, 331, 328, 324, 330, 326, 322, 329, 333, 324, 330, 298, 316, 297, 327, 320, 336, 330, 324, 305, 314, 323, 326, 340, 307, 319, 327, 329, 327, 308, 321, 309, 325, 314, 323, 322, 327, 328, 337, 339, 310, 290, 310, 301, 314, 340, 325, 321, 334, 322, 323, 321, 320, 329, 327, 325, 329, 328, 338, 332, 324, 327, 328, 325, 338, 332, 327, 329, 334, 325, 328, 314, 340, 319, 316, 304, 324, 338, 327, 340, 321, 328, 335, 312, 308, 328, 324, 325, 307, 312, 325, 311, 314, 324, 327, 324, 308, 326, 322, 325, 321, 327, 331, 331, 324, 340, 320, 320, 332, 318, 336, 324, 322, 321, 333, 329, 330, 337, 332, 338, 330, 323, 332, 328, 339, 334, 340, 322, 304, 340, 331, 320, 326, 336, 336, 322, 327, 329, 325, 334, 329, 322, 334, 326, 330, 335, 331, 324, 324, 323, 322, 336, 340, 334, 330, 323, 331, 321, 340, 331, 304, 305, 327, 335, 328, 324, 321, 334, 335, 333, 339, 303, 309, 323, 333, 331, 332, 324], \"xaxis\": \"x\", \"y\": [8.54, 7.2, 8.03, 9.12, 7.64, 7.8, 7.5, 8.01, 7.95, 7.23, 7.65, 7.46, 8.53, 7.56, 8.01, 7.65, 6.8, 8.66, 8.43, 7.89, 7.88, 7.46, 7.9, 7.68, 7.57, 8.18, 7.25, 7.56, 7.43, 7.36, 8.0, 7.86, 8.02, 7.34, 8.47, 8.0, 8.32, 9.02, 7.28, 7.88, 7.88, 8.57, 8.32, 8.56, 7.66, 7.65, 8.56, 7.65, 7.88, 7.64, 7.87, 8.12, 7.97, 8.25, 7.43, 8.01, 8.44, 8.73, 7.8, 7.96, 8.1, 7.98, 8.03, 8.54, 9.0, 8.14, 8.26, 8.36, 8.76, 7.8, 8.45, 8.74, 8.26, 7.64, 8.22, 7.79, 8.49, 8.62, 8.48, 8.46, 7.68, 8.42, 8.16, 9.15, 9.36, 7.86, 8.78, 8.96, 8.64, 9.08, 8.03, 8.0, 7.92, 8.34, 7.5, 7.3, 8.1, 8.16, 7.89, 8.36, 7.65, 8.4, 7.7, 8.27, 8.2, 8.5, 7.86, 8.12, 8.53, 8.12, 8.45, 7.89, 8.45, 8.12, 8.21, 8.22, 7.67, 7.9, 8.23, 8.06, 8.03, 8.22, 8.34, 7.64, 7.34, 8.13, 8.07, 8.76, 7.89, 8.18, 8.33, 8.24, 8.26, 8.52, 7.21, 8.56, 8.22, 7.54, 8.15, 8.43, 8.45, 8.76, 7.98, 8.28, 8.13, 8.64, 8.46, 8.04, 7.6, 8.27, 8.07, 7.86, 8.5, 8.2, 8.1, 7.9, 8.3, 8.13, 8.15, 8.24, 9.04, 8.76, 8.65, 8.67, 8.73, 8.33, 8.57, 8.87, 8.65, 8.37, 8.44, 9.0, 8.64, 8.8, 8.5, 8.44, 8.33, 9.14, 8.02, 8.66, 8.21, 8.54, 8.04, 8.34, 8.9, 8.46, 8.76, 8.24, 8.04, 8.27, 8.64, 8.17, 8.77, 8.79, 8.74, 9.22, 8.53, 8.26, 8.67, 8.09, 8.79, 8.68, 8.17, 8.84, 8.96, 8.64, 9.11, 8.79, 8.9, 8.54, 9.04, 8.67, 9.11, 9.24, 8.65, 8.55, 8.8, 9.1, 8.56, 8.56, 8.83, 8.42, 8.2, 8.7, 8.09, 9.02, 9.22, 8.9, 8.72, 8.02, 7.86, 8.13, 8.42, 8.14, 7.66, 7.66, 8.96, 8.88, 8.46, 9.05, 8.78, 8.75, 8.34, 8.45, 9.13, 8.62, 8.97, 7.4, 8.22, 7.7, 8.3, 8.45, 8.0, 8.67, 8.2, 8.6, 8.4, 8.0, 8.2, 8.3, 8.7, 8.0, 8.8, 8.5, 7.9, 8.5, 8.62, 8.37, 8.3, 7.89, 9.01, 8.0, 8.49, 8.12, 7.88, 8.85, 8.0, 8.66, 8.76, 8.71, 8.27, 7.42, 7.68, 8.1, 9.32, 8.12, 8.16, 8.8, 8.68, 7.94, 7.67, 8.33, 7.95, 8.43, 8.69, 8.54, 7.45, 8.54, 8.02, 8.12, 7.64, 8.94, 8.78, 9.11, 8.76, 8.95, 9.04, 8.27, 8.13, 8.65, 8.57, 8.75, 8.89, 8.45, 9.11, 8.34, 8.5, 8.69, 8.48, 8.56, 9.1, 8.21, 9.54, 9.44, 9.6, 9.25, 9.45, 9.12, 8.02, 9.23, 9.66, 9.22, 9.23, 7.69, 8.54, 7.81, 9.67, 8.86, 9.62, 9.17, 9.15, 8.26, 8.73, 8.88, 9.16, 9.74, 7.94, 8.66, 9.14, 9.36, 9.48, 7.95, 8.35, 8.18, 8.96, 7.88, 8.48, 9.02, 8.75, 8.77, 9.65, 9.8, 9.04, 7.46, 8.36, 8.47, 8.77, 9.92, 8.67, 8.68, 9.43, 9.13, 9.23, 8.97, 8.87, 9.16, 9.11, 9.06, 9.01, 9.14, 9.46, 9.24, 8.87, 9.0, 9.1, 8.4, 9.4, 9.1, 8.4, 9.18, 8.0, 8.92, 9.16, 9.04, 9.5, 8.66, 8.76, 7.84, 8.1, 9.66, 9.04, 9.66, 9.12, 9.18, 9.68, 8.43, 8.6, 9.02, 8.77, 9.0, 8.37, 8.65, 9.17, 9.0, 9.02, 9.01, 8.69, 8.97, 8.34, 8.76, 9.26, 9.11, 9.13, 9.14, 9.34, 9.42, 8.79, 9.45, 9.22, 9.27, 9.64, 8.78, 9.76, 9.08, 9.36, 9.45, 9.78, 9.3, 9.56, 9.87, 9.02, 9.23, 9.34, 8.74, 9.47, 9.5, 9.7, 9.7, 9.6, 8.8, 7.92, 9.6, 9.8, 9.2, 9.4, 9.19, 9.8, 9.1, 9.13, 9.45, 9.46, 9.54, 9.19, 8.97, 9.07, 9.23, 9.31, 9.44, 9.36, 9.08, 9.16, 8.98, 8.94, 9.53, 9.91, 9.87, 9.36, 9.86, 9.26, 9.06, 9.06, 9.38, 8.64, 8.48, 8.84, 9.56, 9.08, 9.25, 9.16, 9.48, 9.82, 9.35, 9.76, 8.65, 8.56, 8.78, 9.28, 9.44, 9.28, 8.66], \"yaxis\": \"y\"}, {\"alignmentgroup\": \"True\", \"bingroup\": \"x\", \"hovertemplate\": \"GRE Score=%{x}<br>count=%{y}<extra></extra>\", \"legendgroup\": \"\", \"marker\": {\"color\": \"#636efa\"}, \"name\": \"\", \"offsetgroup\": \"\", \"opacity\": 0.5, \"showlegend\": false, \"type\": \"histogram\", \"x\": [318, 295, 301, 318, 294, 300, 304, 312, 315, 310, 317, 311, 312, 290, 300, 303, 300, 332, 311, 299, 298, 298, 297, 296, 295, 312, 302, 301, 316, 294, 302, 315, 300, 299, 317, 306, 316, 312, 296, 301, 299, 317, 316, 320, 304, 315, 314, 307, 299, 305, 300, 312, 302, 314, 297, 310, 321, 304, 293, 302, 307, 308, 309, 318, 316, 306, 309, 308, 325, 296, 312, 316, 311, 314, 306, 305, 308, 320, 311, 312, 309, 305, 316, 329, 332, 299, 320, 325, 320, 326, 298, 309, 318, 311, 298, 310, 300, 305, 315, 306, 295, 299, 307, 312, 316, 313, 295, 311, 312, 307, 306, 301, 308, 317, 314, 300, 297, 308, 305, 303, 296, 304, 315, 304, 295, 305, 304, 317, 297, 305, 310, 310, 306, 307, 298, 329, 301, 296, 317, 313, 322, 319, 311, 317, 313, 316, 315, 312, 298, 314, 308, 298, 315, 304, 309, 312, 311, 305, 316, 314, 325, 324, 318, 318, 316, 319, 320, 324, 313, 310, 320, 313, 324, 324, 317, 323, 315, 326, 299, 327, 308, 319, 301, 320, 313, 312, 326, 308, 313, 318, 322, 300, 327, 319, 320, 324, 312, 300, 319, 312, 324, 313, 314, 322, 322, 311, 317, 312, 321, 321, 324, 310, 320, 330, 305, 323, 321, 323, 309, 316, 321, 312, 307, 325, 311, 327, 318, 314, 327, 312, 304, 301, 315, 314, 299, 303, 331, 323, 322, 326, 316, 313, 301, 311, 315, 299, 320, 316, 308, 320, 313, 301, 316, 322, 321, 323, 325, 307, 311, 314, 317, 319, 318, 303, 312, 302, 322, 319, 327, 317, 321, 308, 318, 304, 300, 321, 322, 300, 319, 319, 313, 299, 316, 315, 323, 309, 300, 314, 317, 317, 297, 302, 298, 311, 313, 317, 302, 298, 310, 301, 311, 324, 312, 325, 316, 321, 319, 307, 311, 310, 312, 324, 326, 312, 326, 315, 318, 312, 315, 317, 326, 306, 334, 331, 328, 324, 330, 326, 322, 329, 333, 324, 330, 298, 316, 297, 327, 320, 336, 330, 324, 305, 314, 323, 326, 340, 307, 319, 327, 329, 327, 308, 321, 309, 325, 314, 323, 322, 327, 328, 337, 339, 310, 290, 310, 301, 314, 340, 325, 321, 334, 322, 323, 321, 320, 329, 327, 325, 329, 328, 338, 332, 324, 327, 328, 325, 338, 332, 327, 329, 334, 325, 328, 314, 340, 319, 316, 304, 324, 338, 327, 340, 321, 328, 335, 312, 308, 328, 324, 325, 307, 312, 325, 311, 314, 324, 327, 324, 308, 326, 322, 325, 321, 327, 331, 331, 324, 340, 320, 320, 332, 318, 336, 324, 322, 321, 333, 329, 330, 337, 332, 338, 330, 323, 332, 328, 339, 334, 340, 322, 304, 340, 331, 320, 326, 336, 336, 322, 327, 329, 325, 334, 329, 322, 334, 326, 330, 335, 331, 324, 324, 323, 322, 336, 340, 334, 330, 323, 331, 321, 340, 331, 304, 305, 327, 335, 328, 324, 321, 334, 335, 333, 339, 303, 309, 323, 333, 331, 332, 324], \"xaxis\": \"x3\", \"yaxis\": \"y3\"}, {\"alignmentgroup\": \"True\", \"bingroup\": \"y\", \"hovertemplate\": \"CGPA=%{y}<br>count=%{x}<extra></extra>\", \"legendgroup\": \"\", \"marker\": {\"color\": \"#636efa\"}, \"name\": \"\", \"offsetgroup\": \"\", \"opacity\": 0.5, \"showlegend\": false, \"type\": \"histogram\", \"xaxis\": \"x2\", \"y\": [8.54, 7.2, 8.03, 9.12, 7.64, 7.8, 7.5, 8.01, 7.95, 7.23, 7.65, 7.46, 8.53, 7.56, 8.01, 7.65, 6.8, 8.66, 8.43, 7.89, 7.88, 7.46, 7.9, 7.68, 7.57, 8.18, 7.25, 7.56, 7.43, 7.36, 8.0, 7.86, 8.02, 7.34, 8.47, 8.0, 8.32, 9.02, 7.28, 7.88, 7.88, 8.57, 8.32, 8.56, 7.66, 7.65, 8.56, 7.65, 7.88, 7.64, 7.87, 8.12, 7.97, 8.25, 7.43, 8.01, 8.44, 8.73, 7.8, 7.96, 8.1, 7.98, 8.03, 8.54, 9.0, 8.14, 8.26, 8.36, 8.76, 7.8, 8.45, 8.74, 8.26, 7.64, 8.22, 7.79, 8.49, 8.62, 8.48, 8.46, 7.68, 8.42, 8.16, 9.15, 9.36, 7.86, 8.78, 8.96, 8.64, 9.08, 8.03, 8.0, 7.92, 8.34, 7.5, 7.3, 8.1, 8.16, 7.89, 8.36, 7.65, 8.4, 7.7, 8.27, 8.2, 8.5, 7.86, 8.12, 8.53, 8.12, 8.45, 7.89, 8.45, 8.12, 8.21, 8.22, 7.67, 7.9, 8.23, 8.06, 8.03, 8.22, 8.34, 7.64, 7.34, 8.13, 8.07, 8.76, 7.89, 8.18, 8.33, 8.24, 8.26, 8.52, 7.21, 8.56, 8.22, 7.54, 8.15, 8.43, 8.45, 8.76, 7.98, 8.28, 8.13, 8.64, 8.46, 8.04, 7.6, 8.27, 8.07, 7.86, 8.5, 8.2, 8.1, 7.9, 8.3, 8.13, 8.15, 8.24, 9.04, 8.76, 8.65, 8.67, 8.73, 8.33, 8.57, 8.87, 8.65, 8.37, 8.44, 9.0, 8.64, 8.8, 8.5, 8.44, 8.33, 9.14, 8.02, 8.66, 8.21, 8.54, 8.04, 8.34, 8.9, 8.46, 8.76, 8.24, 8.04, 8.27, 8.64, 8.17, 8.77, 8.79, 8.74, 9.22, 8.53, 8.26, 8.67, 8.09, 8.79, 8.68, 8.17, 8.84, 8.96, 8.64, 9.11, 8.79, 8.9, 8.54, 9.04, 8.67, 9.11, 9.24, 8.65, 8.55, 8.8, 9.1, 8.56, 8.56, 8.83, 8.42, 8.2, 8.7, 8.09, 9.02, 9.22, 8.9, 8.72, 8.02, 7.86, 8.13, 8.42, 8.14, 7.66, 7.66, 8.96, 8.88, 8.46, 9.05, 8.78, 8.75, 8.34, 8.45, 9.13, 8.62, 8.97, 7.4, 8.22, 7.7, 8.3, 8.45, 8.0, 8.67, 8.2, 8.6, 8.4, 8.0, 8.2, 8.3, 8.7, 8.0, 8.8, 8.5, 7.9, 8.5, 8.62, 8.37, 8.3, 7.89, 9.01, 8.0, 8.49, 8.12, 7.88, 8.85, 8.0, 8.66, 8.76, 8.71, 8.27, 7.42, 7.68, 8.1, 9.32, 8.12, 8.16, 8.8, 8.68, 7.94, 7.67, 8.33, 7.95, 8.43, 8.69, 8.54, 7.45, 8.54, 8.02, 8.12, 7.64, 8.94, 8.78, 9.11, 8.76, 8.95, 9.04, 8.27, 8.13, 8.65, 8.57, 8.75, 8.89, 8.45, 9.11, 8.34, 8.5, 8.69, 8.48, 8.56, 9.1, 8.21, 9.54, 9.44, 9.6, 9.25, 9.45, 9.12, 8.02, 9.23, 9.66, 9.22, 9.23, 7.69, 8.54, 7.81, 9.67, 8.86, 9.62, 9.17, 9.15, 8.26, 8.73, 8.88, 9.16, 9.74, 7.94, 8.66, 9.14, 9.36, 9.48, 7.95, 8.35, 8.18, 8.96, 7.88, 8.48, 9.02, 8.75, 8.77, 9.65, 9.8, 9.04, 7.46, 8.36, 8.47, 8.77, 9.92, 8.67, 8.68, 9.43, 9.13, 9.23, 8.97, 8.87, 9.16, 9.11, 9.06, 9.01, 9.14, 9.46, 9.24, 8.87, 9.0, 9.1, 8.4, 9.4, 9.1, 8.4, 9.18, 8.0, 8.92, 9.16, 9.04, 9.5, 8.66, 8.76, 7.84, 8.1, 9.66, 9.04, 9.66, 9.12, 9.18, 9.68, 8.43, 8.6, 9.02, 8.77, 9.0, 8.37, 8.65, 9.17, 9.0, 9.02, 9.01, 8.69, 8.97, 8.34, 8.76, 9.26, 9.11, 9.13, 9.14, 9.34, 9.42, 8.79, 9.45, 9.22, 9.27, 9.64, 8.78, 9.76, 9.08, 9.36, 9.45, 9.78, 9.3, 9.56, 9.87, 9.02, 9.23, 9.34, 8.74, 9.47, 9.5, 9.7, 9.7, 9.6, 8.8, 7.92, 9.6, 9.8, 9.2, 9.4, 9.19, 9.8, 9.1, 9.13, 9.45, 9.46, 9.54, 9.19, 8.97, 9.07, 9.23, 9.31, 9.44, 9.36, 9.08, 9.16, 8.98, 8.94, 9.53, 9.91, 9.87, 9.36, 9.86, 9.26, 9.06, 9.06, 9.38, 8.64, 8.48, 8.84, 9.56, 9.08, 9.25, 9.16, 9.48, 9.82, 9.35, 9.76, 8.65, 8.56, 8.78, 9.28, 9.44, 9.28, 8.66], \"yaxis\": \"y2\"}, {\"hovertemplate\": \"<b>OLS trendline</b><br>CGPA = 0.0442227 * GRE Score + -5.4188<br>R<sup>2</sup>=0.682074<br><br>GRE Score=%{x}<br>CGPA=%{y} <b>(trend)</b><extra></extra>\", \"legendgroup\": \"\", \"line\": {\"color\": \"red\"}, \"marker\": {\"color\": \"#636efa\", \"symbol\": \"circle\"}, \"mode\": \"lines\", \"name\": \"\", \"showlegend\": false, \"type\": \"scatter\", \"x\": [290, 290, 293, 294, 294, 295, 295, 295, 295, 295, 296, 296, 296, 296, 296, 297, 297, 297, 297, 297, 297, 298, 298, 298, 298, 298, 298, 298, 298, 298, 298, 299, 299, 299, 299, 299, 299, 299, 299, 299, 299, 300, 300, 300, 300, 300, 300, 300, 300, 300, 300, 300, 300, 301, 301, 301, 301, 301, 301, 301, 301, 301, 301, 301, 302, 302, 302, 302, 302, 302, 302, 303, 303, 303, 303, 303, 304, 304, 304, 304, 304, 304, 304, 304, 304, 304, 304, 304, 305, 305, 305, 305, 305, 305, 305, 305, 305, 305, 305, 306, 306, 306, 306, 306, 306, 306, 307, 307, 307, 307, 307, 307, 307, 307, 307, 307, 308, 308, 308, 308, 308, 308, 308, 308, 308, 308, 308, 308, 308, 309, 309, 309, 309, 309, 309, 309, 309, 309, 310, 310, 310, 310, 310, 310, 310, 310, 310, 310, 310, 311, 311, 311, 311, 311, 311, 311, 311, 311, 311, 311, 311, 311, 311, 311, 311, 312, 312, 312, 312, 312, 312, 312, 312, 312, 312, 312, 312, 312, 312, 312, 312, 312, 312, 312, 312, 312, 312, 312, 312, 313, 313, 313, 313, 313, 313, 313, 313, 313, 313, 313, 313, 314, 314, 314, 314, 314, 314, 314, 314, 314, 314, 314, 314, 314, 314, 314, 314, 315, 315, 315, 315, 315, 315, 315, 315, 315, 315, 315, 315, 315, 316, 316, 316, 316, 316, 316, 316, 316, 316, 316, 316, 316, 316, 316, 316, 316, 316, 316, 317, 317, 317, 317, 317, 317, 317, 317, 317, 317, 317, 317, 317, 317, 317, 318, 318, 318, 318, 318, 318, 318, 318, 318, 318, 318, 318, 319, 319, 319, 319, 319, 319, 319, 319, 319, 319, 319, 319, 320, 320, 320, 320, 320, 320, 320, 320, 320, 320, 320, 320, 320, 320, 320, 320, 321, 321, 321, 321, 321, 321, 321, 321, 321, 321, 321, 321, 321, 321, 321, 321, 321, 322, 322, 322, 322, 322, 322, 322, 322, 322, 322, 322, 322, 322, 322, 322, 322, 322, 323, 323, 323, 323, 323, 323, 323, 323, 323, 323, 323, 323, 323, 324, 324, 324, 324, 324, 324, 324, 324, 324, 324, 324, 324, 324, 324, 324, 324, 324, 324, 324, 324, 324, 324, 324, 325, 325, 325, 325, 325, 325, 325, 325, 325, 325, 325, 325, 325, 325, 325, 326, 326, 326, 326, 326, 326, 326, 326, 326, 326, 326, 326, 327, 327, 327, 327, 327, 327, 327, 327, 327, 327, 327, 327, 327, 327, 327, 327, 327, 328, 328, 328, 328, 328, 328, 328, 328, 328, 329, 329, 329, 329, 329, 329, 329, 329, 329, 329, 330, 330, 330, 330, 330, 330, 330, 330, 331, 331, 331, 331, 331, 331, 331, 331, 331, 332, 332, 332, 332, 332, 332, 332, 332, 333, 333, 333, 333, 334, 334, 334, 334, 334, 334, 334, 334, 335, 335, 335, 335, 336, 336, 336, 336, 336, 337, 337, 338, 338, 338, 338, 339, 339, 339, 340, 340, 340, 340, 340, 340, 340, 340, 340], \"xaxis\": \"x\", \"y\": [7.4057776231850365, 7.4057776231850365, 7.538445616931067, 7.582668281513078, 7.582668281513078, 7.626890946095086, 7.626890946095086, 7.626890946095086, 7.626890946095086, 7.626890946095086, 7.6711136106770965, 7.6711136106770965, 7.6711136106770965, 7.6711136106770965, 7.6711136106770965, 7.715336275259107, 7.715336275259107, 7.715336275259107, 7.715336275259107, 7.715336275259107, 7.715336275259107, 7.759558939841117, 7.759558939841117, 7.759558939841117, 7.759558939841117, 7.759558939841117, 7.759558939841117, 7.759558939841117, 7.759558939841117, 7.759558939841117, 7.759558939841117, 7.803781604423127, 7.803781604423127, 7.803781604423127, 7.803781604423127, 7.803781604423127, 7.803781604423127, 7.803781604423127, 7.803781604423127, 7.803781604423127, 7.803781604423127, 7.848004269005138, 7.848004269005138, 7.848004269005138, 7.848004269005138, 7.848004269005138, 7.848004269005138, 7.848004269005138, 7.848004269005138, 7.848004269005138, 7.848004269005138, 7.848004269005138, 7.848004269005138, 7.892226933587148, 7.892226933587148, 7.892226933587148, 7.892226933587148, 7.892226933587148, 7.892226933587148, 7.892226933587148, 7.892226933587148, 7.892226933587148, 7.892226933587148, 7.892226933587148, 7.936449598169158, 7.936449598169158, 7.936449598169158, 7.936449598169158, 7.936449598169158, 7.936449598169158, 7.936449598169158, 7.980672262751169, 7.980672262751169, 7.980672262751169, 7.980672262751169, 7.980672262751169, 8.024894927333179, 8.024894927333179, 8.024894927333179, 8.024894927333179, 8.024894927333179, 8.024894927333179, 8.024894927333179, 8.024894927333179, 8.024894927333179, 8.024894927333179, 8.024894927333179, 8.024894927333179, 8.06911759191519, 8.06911759191519, 8.06911759191519, 8.06911759191519, 8.06911759191519, 8.06911759191519, 8.06911759191519, 8.06911759191519, 8.06911759191519, 8.06911759191519, 8.06911759191519, 8.1133402564972, 8.1133402564972, 8.1133402564972, 8.1133402564972, 8.1133402564972, 8.1133402564972, 8.1133402564972, 8.15756292107921, 8.15756292107921, 8.15756292107921, 8.15756292107921, 8.15756292107921, 8.15756292107921, 8.15756292107921, 8.15756292107921, 8.15756292107921, 8.15756292107921, 8.20178558566122, 8.20178558566122, 8.20178558566122, 8.20178558566122, 8.20178558566122, 8.20178558566122, 8.20178558566122, 8.20178558566122, 8.20178558566122, 8.20178558566122, 8.20178558566122, 8.20178558566122, 8.20178558566122, 8.24600825024323, 8.24600825024323, 8.24600825024323, 8.24600825024323, 8.24600825024323, 8.24600825024323, 8.24600825024323, 8.24600825024323, 8.24600825024323, 8.29023091482524, 8.29023091482524, 8.29023091482524, 8.29023091482524, 8.29023091482524, 8.29023091482524, 8.29023091482524, 8.29023091482524, 8.29023091482524, 8.29023091482524, 8.29023091482524, 8.334453579407251, 8.334453579407251, 8.334453579407251, 8.334453579407251, 8.334453579407251, 8.334453579407251, 8.334453579407251, 8.334453579407251, 8.334453579407251, 8.334453579407251, 8.334453579407251, 8.334453579407251, 8.334453579407251, 8.334453579407251, 8.334453579407251, 8.334453579407251, 8.378676243989261, 8.378676243989261, 8.378676243989261, 8.378676243989261, 8.378676243989261, 8.378676243989261, 8.378676243989261, 8.378676243989261, 8.378676243989261, 8.378676243989261, 8.378676243989261, 8.378676243989261, 8.378676243989261, 8.378676243989261, 8.378676243989261, 8.378676243989261, 8.378676243989261, 8.378676243989261, 8.378676243989261, 8.378676243989261, 8.378676243989261, 8.378676243989261, 8.378676243989261, 8.378676243989261, 8.422898908571272, 8.422898908571272, 8.422898908571272, 8.422898908571272, 8.422898908571272, 8.422898908571272, 8.422898908571272, 8.422898908571272, 8.422898908571272, 8.422898908571272, 8.422898908571272, 8.422898908571272, 8.467121573153282, 8.467121573153282, 8.467121573153282, 8.467121573153282, 8.467121573153282, 8.467121573153282, 8.467121573153282, 8.467121573153282, 8.467121573153282, 8.467121573153282, 8.467121573153282, 8.467121573153282, 8.467121573153282, 8.467121573153282, 8.467121573153282, 8.467121573153282, 8.511344237735292, 8.511344237735292, 8.511344237735292, 8.511344237735292, 8.511344237735292, 8.511344237735292, 8.511344237735292, 8.511344237735292, 8.511344237735292, 8.511344237735292, 8.511344237735292, 8.511344237735292, 8.511344237735292, 8.555566902317302, 8.555566902317302, 8.555566902317302, 8.555566902317302, 8.555566902317302, 8.555566902317302, 8.555566902317302, 8.555566902317302, 8.555566902317302, 8.555566902317302, 8.555566902317302, 8.555566902317302, 8.555566902317302, 8.555566902317302, 8.555566902317302, 8.555566902317302, 8.555566902317302, 8.555566902317302, 8.599789566899313, 8.599789566899313, 8.599789566899313, 8.599789566899313, 8.599789566899313, 8.599789566899313, 8.599789566899313, 8.599789566899313, 8.599789566899313, 8.599789566899313, 8.599789566899313, 8.599789566899313, 8.599789566899313, 8.599789566899313, 8.599789566899313, 8.644012231481323, 8.644012231481323, 8.644012231481323, 8.644012231481323, 8.644012231481323, 8.644012231481323, 8.644012231481323, 8.644012231481323, 8.644012231481323, 8.644012231481323, 8.644012231481323, 8.644012231481323, 8.688234896063333, 8.688234896063333, 8.688234896063333, 8.688234896063333, 8.688234896063333, 8.688234896063333, 8.688234896063333, 8.688234896063333, 8.688234896063333, 8.688234896063333, 8.688234896063333, 8.688234896063333, 8.732457560645344, 8.732457560645344, 8.732457560645344, 8.732457560645344, 8.732457560645344, 8.732457560645344, 8.732457560645344, 8.732457560645344, 8.732457560645344, 8.732457560645344, 8.732457560645344, 8.732457560645344, 8.732457560645344, 8.732457560645344, 8.732457560645344, 8.732457560645344, 8.776680225227352, 8.776680225227352, 8.776680225227352, 8.776680225227352, 8.776680225227352, 8.776680225227352, 8.776680225227352, 8.776680225227352, 8.776680225227352, 8.776680225227352, 8.776680225227352, 8.776680225227352, 8.776680225227352, 8.776680225227352, 8.776680225227352, 8.776680225227352, 8.776680225227352, 8.820902889809362, 8.820902889809362, 8.820902889809362, 8.820902889809362, 8.820902889809362, 8.820902889809362, 8.820902889809362, 8.820902889809362, 8.820902889809362, 8.820902889809362, 8.820902889809362, 8.820902889809362, 8.820902889809362, 8.820902889809362, 8.820902889809362, 8.820902889809362, 8.820902889809362, 8.865125554391373, 8.865125554391373, 8.865125554391373, 8.865125554391373, 8.865125554391373, 8.865125554391373, 8.865125554391373, 8.865125554391373, 8.865125554391373, 8.865125554391373, 8.865125554391373, 8.865125554391373, 8.865125554391373, 8.909348218973383, 8.909348218973383, 8.909348218973383, 8.909348218973383, 8.909348218973383, 8.909348218973383, 8.909348218973383, 8.909348218973383, 8.909348218973383, 8.909348218973383, 8.909348218973383, 8.909348218973383, 8.909348218973383, 8.909348218973383, 8.909348218973383, 8.909348218973383, 8.909348218973383, 8.909348218973383, 8.909348218973383, 8.909348218973383, 8.909348218973383, 8.909348218973383, 8.909348218973383, 8.953570883555393, 8.953570883555393, 8.953570883555393, 8.953570883555393, 8.953570883555393, 8.953570883555393, 8.953570883555393, 8.953570883555393, 8.953570883555393, 8.953570883555393, 8.953570883555393, 8.953570883555393, 8.953570883555393, 8.953570883555393, 8.953570883555393, 8.997793548137404, 8.997793548137404, 8.997793548137404, 8.997793548137404, 8.997793548137404, 8.997793548137404, 8.997793548137404, 8.997793548137404, 8.997793548137404, 8.997793548137404, 8.997793548137404, 8.997793548137404, 9.042016212719414, 9.042016212719414, 9.042016212719414, 9.042016212719414, 9.042016212719414, 9.042016212719414, 9.042016212719414, 9.042016212719414, 9.042016212719414, 9.042016212719414, 9.042016212719414, 9.042016212719414, 9.042016212719414, 9.042016212719414, 9.042016212719414, 9.042016212719414, 9.042016212719414, 9.086238877301424, 9.086238877301424, 9.086238877301424, 9.086238877301424, 9.086238877301424, 9.086238877301424, 9.086238877301424, 9.086238877301424, 9.086238877301424, 9.130461541883435, 9.130461541883435, 9.130461541883435, 9.130461541883435, 9.130461541883435, 9.130461541883435, 9.130461541883435, 9.130461541883435, 9.130461541883435, 9.130461541883435, 9.174684206465445, 9.174684206465445, 9.174684206465445, 9.174684206465445, 9.174684206465445, 9.174684206465445, 9.174684206465445, 9.174684206465445, 9.218906871047455, 9.218906871047455, 9.218906871047455, 9.218906871047455, 9.218906871047455, 9.218906871047455, 9.218906871047455, 9.218906871047455, 9.218906871047455, 9.263129535629465, 9.263129535629465, 9.263129535629465, 9.263129535629465, 9.263129535629465, 9.263129535629465, 9.263129535629465, 9.263129535629465, 9.307352200211476, 9.307352200211476, 9.307352200211476, 9.307352200211476, 9.351574864793486, 9.351574864793486, 9.351574864793486, 9.351574864793486, 9.351574864793486, 9.351574864793486, 9.351574864793486, 9.351574864793486, 9.395797529375496, 9.395797529375496, 9.395797529375496, 9.395797529375496, 9.440020193957507, 9.440020193957507, 9.440020193957507, 9.440020193957507, 9.440020193957507, 9.484242858539517, 9.484242858539517, 9.528465523121527, 9.528465523121527, 9.528465523121527, 9.528465523121527, 9.572688187703537, 9.572688187703537, 9.572688187703537, 9.616910852285548, 9.616910852285548, 9.616910852285548, 9.616910852285548, 9.616910852285548, 9.616910852285548, 9.616910852285548, 9.616910852285548, 9.616910852285548], \"yaxis\": \"y\"}],                        {\"barmode\": \"overlay\", \"legend\": {\"tracegroupgap\": 0}, \"template\": {\"data\": {\"bar\": [{\"error_x\": {\"color\": \"#2a3f5f\"}, \"error_y\": {\"color\": \"#2a3f5f\"}, \"marker\": {\"line\": {\"color\": \"#E5ECF6\", \"width\": 0.5}}, \"type\": \"bar\"}], \"barpolar\": [{\"marker\": {\"line\": {\"color\": \"#E5ECF6\", \"width\": 0.5}}, \"type\": \"barpolar\"}], \"carpet\": [{\"aaxis\": {\"endlinecolor\": \"#2a3f5f\", \"gridcolor\": \"white\", \"linecolor\": \"white\", \"minorgridcolor\": \"white\", \"startlinecolor\": \"#2a3f5f\"}, \"baxis\": {\"endlinecolor\": \"#2a3f5f\", \"gridcolor\": \"white\", \"linecolor\": \"white\", \"minorgridcolor\": \"white\", \"startlinecolor\": \"#2a3f5f\"}, \"type\": \"carpet\"}], \"choropleth\": [{\"colorbar\": {\"outlinewidth\": 0, \"ticks\": \"\"}, \"type\": \"choropleth\"}], \"contour\": [{\"colorbar\": {\"outlinewidth\": 0, \"ticks\": \"\"}, \"colorscale\": [[0.0, \"#0d0887\"], [0.1111111111111111, \"#46039f\"], [0.2222222222222222, \"#7201a8\"], [0.3333333333333333, \"#9c179e\"], [0.4444444444444444, \"#bd3786\"], [0.5555555555555556, \"#d8576b\"], [0.6666666666666666, \"#ed7953\"], [0.7777777777777778, \"#fb9f3a\"], [0.8888888888888888, \"#fdca26\"], [1.0, \"#f0f921\"]], \"type\": \"contour\"}], \"contourcarpet\": [{\"colorbar\": {\"outlinewidth\": 0, \"ticks\": \"\"}, \"type\": \"contourcarpet\"}], \"heatmap\": [{\"colorbar\": {\"outlinewidth\": 0, \"ticks\": \"\"}, \"colorscale\": [[0.0, \"#0d0887\"], [0.1111111111111111, \"#46039f\"], [0.2222222222222222, \"#7201a8\"], [0.3333333333333333, \"#9c179e\"], [0.4444444444444444, \"#bd3786\"], [0.5555555555555556, \"#d8576b\"], [0.6666666666666666, \"#ed7953\"], [0.7777777777777778, \"#fb9f3a\"], [0.8888888888888888, \"#fdca26\"], [1.0, \"#f0f921\"]], \"type\": \"heatmap\"}], \"heatmapgl\": [{\"colorbar\": {\"outlinewidth\": 0, \"ticks\": \"\"}, \"colorscale\": [[0.0, \"#0d0887\"], [0.1111111111111111, \"#46039f\"], [0.2222222222222222, \"#7201a8\"], [0.3333333333333333, \"#9c179e\"], [0.4444444444444444, \"#bd3786\"], [0.5555555555555556, \"#d8576b\"], [0.6666666666666666, \"#ed7953\"], [0.7777777777777778, \"#fb9f3a\"], [0.8888888888888888, \"#fdca26\"], [1.0, \"#f0f921\"]], \"type\": \"heatmapgl\"}], \"histogram\": [{\"marker\": {\"colorbar\": {\"outlinewidth\": 0, \"ticks\": \"\"}}, \"type\": \"histogram\"}], \"histogram2d\": [{\"colorbar\": {\"outlinewidth\": 0, \"ticks\": \"\"}, \"colorscale\": [[0.0, \"#0d0887\"], [0.1111111111111111, \"#46039f\"], [0.2222222222222222, \"#7201a8\"], [0.3333333333333333, \"#9c179e\"], [0.4444444444444444, \"#bd3786\"], [0.5555555555555556, \"#d8576b\"], [0.6666666666666666, \"#ed7953\"], [0.7777777777777778, \"#fb9f3a\"], [0.8888888888888888, \"#fdca26\"], [1.0, \"#f0f921\"]], \"type\": \"histogram2d\"}], \"histogram2dcontour\": [{\"colorbar\": {\"outlinewidth\": 0, \"ticks\": \"\"}, \"colorscale\": [[0.0, \"#0d0887\"], [0.1111111111111111, \"#46039f\"], [0.2222222222222222, \"#7201a8\"], [0.3333333333333333, \"#9c179e\"], [0.4444444444444444, \"#bd3786\"], [0.5555555555555556, \"#d8576b\"], [0.6666666666666666, \"#ed7953\"], [0.7777777777777778, \"#fb9f3a\"], [0.8888888888888888, \"#fdca26\"], [1.0, \"#f0f921\"]], \"type\": \"histogram2dcontour\"}], \"mesh3d\": [{\"colorbar\": {\"outlinewidth\": 0, \"ticks\": \"\"}, \"type\": \"mesh3d\"}], \"parcoords\": [{\"line\": {\"colorbar\": {\"outlinewidth\": 0, \"ticks\": \"\"}}, \"type\": \"parcoords\"}], \"pie\": [{\"automargin\": true, \"type\": \"pie\"}], \"scatter\": [{\"marker\": {\"colorbar\": {\"outlinewidth\": 0, \"ticks\": \"\"}}, \"type\": \"scatter\"}], \"scatter3d\": [{\"line\": {\"colorbar\": {\"outlinewidth\": 0, \"ticks\": \"\"}}, \"marker\": {\"colorbar\": {\"outlinewidth\": 0, \"ticks\": \"\"}}, \"type\": \"scatter3d\"}], \"scattercarpet\": [{\"marker\": {\"colorbar\": {\"outlinewidth\": 0, \"ticks\": \"\"}}, \"type\": \"scattercarpet\"}], \"scattergeo\": [{\"marker\": {\"colorbar\": {\"outlinewidth\": 0, \"ticks\": \"\"}}, \"type\": \"scattergeo\"}], \"scattergl\": [{\"marker\": {\"colorbar\": {\"outlinewidth\": 0, \"ticks\": \"\"}}, \"type\": \"scattergl\"}], \"scattermapbox\": [{\"marker\": {\"colorbar\": {\"outlinewidth\": 0, \"ticks\": \"\"}}, \"type\": \"scattermapbox\"}], \"scatterpolar\": [{\"marker\": {\"colorbar\": {\"outlinewidth\": 0, \"ticks\": \"\"}}, \"type\": \"scatterpolar\"}], \"scatterpolargl\": [{\"marker\": {\"colorbar\": {\"outlinewidth\": 0, \"ticks\": \"\"}}, \"type\": \"scatterpolargl\"}], \"scatterternary\": [{\"marker\": {\"colorbar\": {\"outlinewidth\": 0, \"ticks\": \"\"}}, \"type\": \"scatterternary\"}], \"surface\": [{\"colorbar\": {\"outlinewidth\": 0, \"ticks\": \"\"}, \"colorscale\": [[0.0, \"#0d0887\"], [0.1111111111111111, \"#46039f\"], [0.2222222222222222, \"#7201a8\"], [0.3333333333333333, \"#9c179e\"], [0.4444444444444444, \"#bd3786\"], [0.5555555555555556, \"#d8576b\"], [0.6666666666666666, \"#ed7953\"], [0.7777777777777778, \"#fb9f3a\"], [0.8888888888888888, \"#fdca26\"], [1.0, \"#f0f921\"]], \"type\": \"surface\"}], \"table\": [{\"cells\": {\"fill\": {\"color\": \"#EBF0F8\"}, \"line\": {\"color\": \"white\"}}, \"header\": {\"fill\": {\"color\": \"#C8D4E3\"}, \"line\": {\"color\": \"white\"}}, \"type\": \"table\"}]}, \"layout\": {\"annotationdefaults\": {\"arrowcolor\": \"#2a3f5f\", \"arrowhead\": 0, \"arrowwidth\": 1}, \"autotypenumbers\": \"strict\", \"coloraxis\": {\"colorbar\": {\"outlinewidth\": 0, \"ticks\": \"\"}}, \"colorscale\": {\"diverging\": [[0, \"#8e0152\"], [0.1, \"#c51b7d\"], [0.2, \"#de77ae\"], [0.3, \"#f1b6da\"], [0.4, \"#fde0ef\"], [0.5, \"#f7f7f7\"], [0.6, \"#e6f5d0\"], [0.7, \"#b8e186\"], [0.8, \"#7fbc41\"], [0.9, \"#4d9221\"], [1, \"#276419\"]], \"sequential\": [[0.0, \"#0d0887\"], [0.1111111111111111, \"#46039f\"], [0.2222222222222222, \"#7201a8\"], [0.3333333333333333, \"#9c179e\"], [0.4444444444444444, \"#bd3786\"], [0.5555555555555556, \"#d8576b\"], [0.6666666666666666, \"#ed7953\"], [0.7777777777777778, \"#fb9f3a\"], [0.8888888888888888, \"#fdca26\"], [1.0, \"#f0f921\"]], \"sequentialminus\": [[0.0, \"#0d0887\"], [0.1111111111111111, \"#46039f\"], [0.2222222222222222, \"#7201a8\"], [0.3333333333333333, \"#9c179e\"], [0.4444444444444444, \"#bd3786\"], [0.5555555555555556, \"#d8576b\"], [0.6666666666666666, \"#ed7953\"], [0.7777777777777778, \"#fb9f3a\"], [0.8888888888888888, \"#fdca26\"], [1.0, \"#f0f921\"]]}, \"colorway\": [\"#636efa\", \"#EF553B\", \"#00cc96\", \"#ab63fa\", \"#FFA15A\", \"#19d3f3\", \"#FF6692\", \"#B6E880\", \"#FF97FF\", \"#FECB52\"], \"font\": {\"color\": \"#2a3f5f\"}, \"geo\": {\"bgcolor\": \"white\", \"lakecolor\": \"white\", \"landcolor\": \"#E5ECF6\", \"showlakes\": true, \"showland\": true, \"subunitcolor\": \"white\"}, \"hoverlabel\": {\"align\": \"left\"}, \"hovermode\": \"closest\", \"mapbox\": {\"style\": \"light\"}, \"paper_bgcolor\": \"white\", \"plot_bgcolor\": \"#E5ECF6\", \"polar\": {\"angularaxis\": {\"gridcolor\": \"white\", \"linecolor\": \"white\", \"ticks\": \"\"}, \"bgcolor\": \"#E5ECF6\", \"radialaxis\": {\"gridcolor\": \"white\", \"linecolor\": \"white\", \"ticks\": \"\"}}, \"scene\": {\"xaxis\": {\"backgroundcolor\": \"#E5ECF6\", \"gridcolor\": \"white\", \"gridwidth\": 2, \"linecolor\": \"white\", \"showbackground\": true, \"ticks\": \"\", \"zerolinecolor\": \"white\"}, \"yaxis\": {\"backgroundcolor\": \"#E5ECF6\", \"gridcolor\": \"white\", \"gridwidth\": 2, \"linecolor\": \"white\", \"showbackground\": true, \"ticks\": \"\", \"zerolinecolor\": \"white\"}, \"zaxis\": {\"backgroundcolor\": \"#E5ECF6\", \"gridcolor\": \"white\", \"gridwidth\": 2, \"linecolor\": \"white\", \"showbackground\": true, \"ticks\": \"\", \"zerolinecolor\": \"white\"}}, \"shapedefaults\": {\"line\": {\"color\": \"#2a3f5f\"}}, \"ternary\": {\"aaxis\": {\"gridcolor\": \"white\", \"linecolor\": \"white\", \"ticks\": \"\"}, \"baxis\": {\"gridcolor\": \"white\", \"linecolor\": \"white\", \"ticks\": \"\"}, \"bgcolor\": \"#E5ECF6\", \"caxis\": {\"gridcolor\": \"white\", \"linecolor\": \"white\", \"ticks\": \"\"}}, \"title\": {\"x\": 0.05}, \"xaxis\": {\"automargin\": true, \"gridcolor\": \"white\", \"linecolor\": \"white\", \"ticks\": \"\", \"title\": {\"standoff\": 15}, \"zerolinecolor\": \"white\", \"zerolinewidth\": 2}, \"yaxis\": {\"automargin\": true, \"gridcolor\": \"white\", \"linecolor\": \"white\", \"ticks\": \"\", \"title\": {\"standoff\": 15}, \"zerolinecolor\": \"white\", \"zerolinewidth\": 2}}}, \"title\": {\"text\": \"Correlation between GRE Score and CGPA is: 0.83\"}, \"xaxis\": {\"anchor\": \"y\", \"domain\": [0.0, 0.7363], \"title\": {\"text\": \"GRE Score\"}}, \"xaxis2\": {\"anchor\": \"y2\", \"domain\": [0.7413, 1.0], \"matches\": \"x2\", \"showgrid\": true, \"showline\": false, \"showticklabels\": false, \"ticks\": \"\"}, \"xaxis3\": {\"anchor\": \"y3\", \"domain\": [0.0, 0.7363], \"matches\": \"x\", \"showgrid\": true, \"showticklabels\": false}, \"xaxis4\": {\"anchor\": \"y4\", \"domain\": [0.7413, 1.0], \"matches\": \"x2\", \"showgrid\": true, \"showline\": false, \"showticklabels\": false, \"ticks\": \"\"}, \"yaxis\": {\"anchor\": \"x\", \"domain\": [0.0, 0.7326], \"title\": {\"text\": \"CGPA\"}}, \"yaxis2\": {\"anchor\": \"x2\", \"domain\": [0.0, 0.7326], \"matches\": \"y\", \"showgrid\": true, \"showticklabels\": false}, \"yaxis3\": {\"anchor\": \"x3\", \"domain\": [0.7426, 1.0], \"matches\": \"y3\", \"showgrid\": true, \"showline\": false, \"showticklabels\": false, \"ticks\": \"\"}, \"yaxis4\": {\"anchor\": \"x4\", \"domain\": [0.7426, 1.0], \"matches\": \"y3\", \"showgrid\": true, \"showline\": false, \"showticklabels\": false, \"ticks\": \"\"}},                        {\"responsive\": true}                    ).then(function(){\n",
       "                            \n",
       "var gd = document.getElementById('e9bb420b-d14f-4e4b-8c8e-56423fe7006e');\n",
       "var x = new MutationObserver(function (mutations, observer) {{\n",
       "        var display = window.getComputedStyle(gd).display;\n",
       "        if (!display || display === 'none') {{\n",
       "            console.log([gd, 'removed!']);\n",
       "            Plotly.purge(gd);\n",
       "            observer.disconnect();\n",
       "        }}\n",
       "}});\n",
       "\n",
       "// Listen for the removal of the full notebook cells\n",
       "var notebookContainer = gd.closest('#notebook-container');\n",
       "if (notebookContainer) {{\n",
       "    x.observe(notebookContainer, {childList: true});\n",
       "}}\n",
       "\n",
       "// Listen for the clearing of the current output cell\n",
       "var outputEl = gd.closest('.output');\n",
       "if (outputEl) {{\n",
       "    x.observe(outputEl, {childList: true});\n",
       "}}\n",
       "\n",
       "                        })                };                });            </script>        </div>"
      ]
     },
     "metadata": {},
     "output_type": "display_data"
    }
   ],
   "source": [
    "corr_value = df[\"GRE Score\"].corr(df[\"CGPA\"])\n",
    "\n",
    "fig = px.scatter(\n",
    "    data_frame=df,\n",
    "    x=\"GRE Score\",\n",
    "    y=\"CGPA\",\n",
    "    marginal_x=\"histogram\",\n",
    "    marginal_y=\"histogram\",\n",
    "    trendline=\"ols\",\n",
    "    trendline_color_override=\"red\",\n",
    "    title=f\"Correlation between GRE Score and CGPA is: {corr_value:.2f}\",\n",
    ")\n",
    "\n",
    "fig.show()"
   ]
  },
  {
   "cell_type": "markdown",
   "metadata": {
    "papermill": {
     "duration": 0.133756,
     "end_time": "2020-12-28T20:42:17.105738",
     "exception": false,
     "start_time": "2020-12-28T20:42:16.971982",
     "status": "completed"
    },
    "tags": []
   },
   "source": [
    "From the previous three charts we can say that: students who perform well in their `TOEFL` exams tend to also perform well in `GRE` exams, and they *mostly* have high `GPA` (higher than 9)."
   ]
  },
  {
   "cell_type": "markdown",
   "metadata": {
    "collapsed": "true",
    "papermill": {
     "duration": 0.132559,
     "end_time": "2020-12-28T20:42:17.370548",
     "exception": false,
     "start_time": "2020-12-28T20:42:17.237989",
     "status": "completed"
    },
    "tags": []
   },
   "source": [
    "### Bivariate distributions"
   ]
  },
  {
   "cell_type": "markdown",
   "metadata": {
    "papermill": {
     "duration": 0.133185,
     "end_time": "2020-12-28T20:42:17.635957",
     "exception": false,
     "start_time": "2020-12-28T20:42:17.502772",
     "status": "completed"
    },
    "tags": []
   },
   "source": [
    "Another way to study the relation between two variables is with 2D Histograms (distribution).\n",
    "\n",
    "Just like the distributions we used in the **Univariate Analysis** section, we can show the distribution for two variables `x` and `y`, which would give us better insights on how much the values from the two variables overlap, and show cluster regions in the 2D space.\n",
    "\n",
    "Compared to scatter plots, 2D histograms are better at handling large amounts of data, as they use rectangular bins, and count the number of points withing each bin."
   ]
  },
  {
   "cell_type": "markdown",
   "metadata": {
    "papermill": {
     "duration": 0.132512,
     "end_time": "2020-12-28T20:42:17.902602",
     "exception": false,
     "start_time": "2020-12-28T20:42:17.770090",
     "status": "completed"
    },
    "tags": []
   },
   "source": [
    "#### `TOEFL Score` vs. `GRE Score`"
   ]
  },
  {
   "cell_type": "code",
   "execution_count": 64,
   "metadata": {
    "execution": {
     "iopub.execute_input": "2020-12-28T20:42:18.190669Z",
     "iopub.status.busy": "2020-12-28T20:42:18.188884Z",
     "iopub.status.idle": "2020-12-28T20:42:18.275632Z",
     "shell.execute_reply": "2020-12-28T20:42:18.276191Z"
    },
    "papermill": {
     "duration": 0.237042,
     "end_time": "2020-12-28T20:42:18.276353",
     "exception": false,
     "start_time": "2020-12-28T20:42:18.039311",
     "status": "completed"
    },
    "tags": []
   },
   "outputs": [
    {
     "data": {
      "text/html": [
       "<div>                            <div id=\"5d51f300-595f-41df-834b-2cd65bac376f\" class=\"plotly-graph-div\" style=\"height:525px; width:100%;\"></div>            <script type=\"text/javascript\">                require([\"plotly\"], function(Plotly) {                    window.PLOTLYENV=window.PLOTLYENV || {};                                    if (document.getElementById(\"5d51f300-595f-41df-834b-2cd65bac376f\")) {                    Plotly.newPlot(                        \"5d51f300-595f-41df-834b-2cd65bac376f\",                        [{\"coloraxis\": \"coloraxis\", \"hovertemplate\": \"TOEFL Score=%{x}<br>GRE Score=%{y}<br>count=%{z}<extra></extra>\", \"name\": \"\", \"type\": \"histogram2d\", \"x\": [110, 93, 98, 109, 95, 105, 105, 99, 100, 110, 106, 98, 100, 100, 99, 98, 99, 112, 99, 100, 92, 99, 100, 101, 99, 98, 99, 96, 98, 93, 102, 103, 98, 94, 104, 100, 106, 109, 99, 97, 100, 100, 101, 110, 101, 105, 107, 105, 100, 102, 102, 105, 99, 106, 96, 105, 107, 102, 97, 101, 105, 102, 111, 100, 99, 106, 104, 103, 110, 97, 105, 103, 106, 105, 105, 104, 103, 101, 104, 105, 105, 107, 100, 110, 118, 96, 112, 112, 113, 116, 98, 106, 106, 101, 98, 99, 97, 106, 99, 103, 99, 106, 108, 107, 105, 107, 101, 105, 110, 105, 110, 104, 109, 106, 103, 95, 98, 101, 105, 100, 99, 100, 105, 97, 96, 103, 100, 104, 96, 102, 106, 103, 105, 107, 97, 114, 99, 95, 103, 106, 105, 108, 99, 107, 94, 107, 110, 101, 99, 107, 104, 101, 107, 105, 100, 100, 104, 105, 102, 102, 114, 115, 106, 112, 105, 106, 104, 110, 104, 104, 108, 109, 100, 111, 106, 104, 104, 116, 100, 113, 106, 108, 100, 104, 102, 107, 110, 106, 101, 107, 110, 102, 109, 110, 104, 110, 108, 100, 105, 104, 111, 102, 107, 104, 110, 102, 110, 106, 111, 109, 110, 107, 120, 114, 112, 107, 109, 110, 99, 110, 111, 104, 101, 111, 103, 114, 109, 106, 112, 105, 107, 102, 106, 108, 97, 99, 120, 113, 107, 112, 110, 103, 107, 105, 101, 102, 108, 102, 108, 103, 98, 99, 104, 110, 109, 108, 106, 109, 104, 105, 107, 106, 110, 102, 107, 110, 112, 102, 103, 106, 102, 110, 103, 104, 101, 110, 110, 100, 103, 112, 102, 100, 103, 104, 113, 108, 104, 110, 107, 101, 101, 102, 100, 104, 107, 103, 99, 105, 102, 104, 101, 109, 103, 107, 109, 112, 110, 102, 104, 101, 106, 105, 108, 103, 114, 105, 109, 109, 105, 105, 112, 103, 116, 116, 116, 113, 116, 112, 103, 111, 117, 112, 116, 101, 111, 99, 118, 112, 119, 114, 110, 96, 99, 110, 114, 113, 105, 105, 115, 113, 116, 105, 110, 105, 110, 102, 107, 112, 106, 113, 118, 116, 106, 104, 106, 106, 109, 120, 110, 109, 114, 110, 113, 111, 111, 119, 113, 108, 111, 110, 117, 119, 107, 111, 112, 114, 118, 117, 111, 111, 116, 112, 115, 108, 120, 103, 109, 100, 112, 120, 113, 112, 114, 108, 115, 103, 110, 110, 112, 112, 110, 107, 112, 107, 104, 111, 113, 110, 108, 102, 112, 111, 109, 113, 119, 117, 113, 115, 110, 110, 118, 101, 112, 114, 115, 111, 119, 114, 120, 117, 108, 115, 115, 108, 118, 116, 119, 119, 120, 109, 103, 114, 112, 110, 113, 118, 119, 110, 108, 113, 114, 119, 114, 110, 117, 111, 113, 118, 115, 112, 111, 110, 114, 118, 120, 120, 116, 111, 116, 112, 115, 116, 103, 108, 104, 117, 116, 113, 114, 119, 117, 118, 114, 105, 105, 112, 113, 115, 116, 107], \"xaxis\": \"x\", \"xbingroup\": \"x\", \"y\": [318, 295, 301, 318, 294, 300, 304, 312, 315, 310, 317, 311, 312, 290, 300, 303, 300, 332, 311, 299, 298, 298, 297, 296, 295, 312, 302, 301, 316, 294, 302, 315, 300, 299, 317, 306, 316, 312, 296, 301, 299, 317, 316, 320, 304, 315, 314, 307, 299, 305, 300, 312, 302, 314, 297, 310, 321, 304, 293, 302, 307, 308, 309, 318, 316, 306, 309, 308, 325, 296, 312, 316, 311, 314, 306, 305, 308, 320, 311, 312, 309, 305, 316, 329, 332, 299, 320, 325, 320, 326, 298, 309, 318, 311, 298, 310, 300, 305, 315, 306, 295, 299, 307, 312, 316, 313, 295, 311, 312, 307, 306, 301, 308, 317, 314, 300, 297, 308, 305, 303, 296, 304, 315, 304, 295, 305, 304, 317, 297, 305, 310, 310, 306, 307, 298, 329, 301, 296, 317, 313, 322, 319, 311, 317, 313, 316, 315, 312, 298, 314, 308, 298, 315, 304, 309, 312, 311, 305, 316, 314, 325, 324, 318, 318, 316, 319, 320, 324, 313, 310, 320, 313, 324, 324, 317, 323, 315, 326, 299, 327, 308, 319, 301, 320, 313, 312, 326, 308, 313, 318, 322, 300, 327, 319, 320, 324, 312, 300, 319, 312, 324, 313, 314, 322, 322, 311, 317, 312, 321, 321, 324, 310, 320, 330, 305, 323, 321, 323, 309, 316, 321, 312, 307, 325, 311, 327, 318, 314, 327, 312, 304, 301, 315, 314, 299, 303, 331, 323, 322, 326, 316, 313, 301, 311, 315, 299, 320, 316, 308, 320, 313, 301, 316, 322, 321, 323, 325, 307, 311, 314, 317, 319, 318, 303, 312, 302, 322, 319, 327, 317, 321, 308, 318, 304, 300, 321, 322, 300, 319, 319, 313, 299, 316, 315, 323, 309, 300, 314, 317, 317, 297, 302, 298, 311, 313, 317, 302, 298, 310, 301, 311, 324, 312, 325, 316, 321, 319, 307, 311, 310, 312, 324, 326, 312, 326, 315, 318, 312, 315, 317, 326, 306, 334, 331, 328, 324, 330, 326, 322, 329, 333, 324, 330, 298, 316, 297, 327, 320, 336, 330, 324, 305, 314, 323, 326, 340, 307, 319, 327, 329, 327, 308, 321, 309, 325, 314, 323, 322, 327, 328, 337, 339, 310, 290, 310, 301, 314, 340, 325, 321, 334, 322, 323, 321, 320, 329, 327, 325, 329, 328, 338, 332, 324, 327, 328, 325, 338, 332, 327, 329, 334, 325, 328, 314, 340, 319, 316, 304, 324, 338, 327, 340, 321, 328, 335, 312, 308, 328, 324, 325, 307, 312, 325, 311, 314, 324, 327, 324, 308, 326, 322, 325, 321, 327, 331, 331, 324, 340, 320, 320, 332, 318, 336, 324, 322, 321, 333, 329, 330, 337, 332, 338, 330, 323, 332, 328, 339, 334, 340, 322, 304, 340, 331, 320, 326, 336, 336, 322, 327, 329, 325, 334, 329, 322, 334, 326, 330, 335, 331, 324, 324, 323, 322, 336, 340, 334, 330, 323, 331, 321, 340, 331, 304, 305, 327, 335, 328, 324, 321, 334, 335, 333, 339, 303, 309, 323, 333, 331, 332, 324], \"yaxis\": \"y\", \"ybingroup\": \"y\"}],                        {\"coloraxis\": {\"colorbar\": {\"title\": {\"text\": \"count\"}}, \"colorscale\": [[0.0, \"rgb(255,247,251)\"], [0.125, \"rgb(236,231,242)\"], [0.25, \"rgb(208,209,230)\"], [0.375, \"rgb(166,189,219)\"], [0.5, \"rgb(116,169,207)\"], [0.625, \"rgb(54,144,192)\"], [0.75, \"rgb(5,112,176)\"], [0.875, \"rgb(4,90,141)\"], [1.0, \"rgb(2,56,88)\"]]}, \"legend\": {\"tracegroupgap\": 0}, \"margin\": {\"t\": 60}, \"template\": {\"data\": {\"bar\": [{\"error_x\": {\"color\": \"#2a3f5f\"}, \"error_y\": {\"color\": \"#2a3f5f\"}, \"marker\": {\"line\": {\"color\": \"#E5ECF6\", \"width\": 0.5}}, \"type\": \"bar\"}], \"barpolar\": [{\"marker\": {\"line\": {\"color\": \"#E5ECF6\", \"width\": 0.5}}, \"type\": \"barpolar\"}], \"carpet\": [{\"aaxis\": {\"endlinecolor\": \"#2a3f5f\", \"gridcolor\": \"white\", \"linecolor\": \"white\", \"minorgridcolor\": \"white\", \"startlinecolor\": \"#2a3f5f\"}, \"baxis\": {\"endlinecolor\": \"#2a3f5f\", \"gridcolor\": \"white\", \"linecolor\": \"white\", \"minorgridcolor\": \"white\", \"startlinecolor\": \"#2a3f5f\"}, \"type\": \"carpet\"}], \"choropleth\": [{\"colorbar\": {\"outlinewidth\": 0, \"ticks\": \"\"}, \"type\": \"choropleth\"}], \"contour\": [{\"colorbar\": {\"outlinewidth\": 0, \"ticks\": \"\"}, \"colorscale\": [[0.0, \"#0d0887\"], [0.1111111111111111, \"#46039f\"], [0.2222222222222222, \"#7201a8\"], [0.3333333333333333, \"#9c179e\"], [0.4444444444444444, \"#bd3786\"], [0.5555555555555556, \"#d8576b\"], [0.6666666666666666, \"#ed7953\"], [0.7777777777777778, \"#fb9f3a\"], [0.8888888888888888, \"#fdca26\"], [1.0, \"#f0f921\"]], \"type\": \"contour\"}], \"contourcarpet\": [{\"colorbar\": {\"outlinewidth\": 0, \"ticks\": \"\"}, \"type\": \"contourcarpet\"}], \"heatmap\": [{\"colorbar\": {\"outlinewidth\": 0, \"ticks\": \"\"}, \"colorscale\": [[0.0, \"#0d0887\"], [0.1111111111111111, \"#46039f\"], [0.2222222222222222, \"#7201a8\"], [0.3333333333333333, \"#9c179e\"], [0.4444444444444444, \"#bd3786\"], [0.5555555555555556, \"#d8576b\"], [0.6666666666666666, \"#ed7953\"], [0.7777777777777778, \"#fb9f3a\"], [0.8888888888888888, \"#fdca26\"], [1.0, \"#f0f921\"]], \"type\": \"heatmap\"}], \"heatmapgl\": [{\"colorbar\": {\"outlinewidth\": 0, \"ticks\": \"\"}, \"colorscale\": [[0.0, \"#0d0887\"], [0.1111111111111111, \"#46039f\"], [0.2222222222222222, \"#7201a8\"], [0.3333333333333333, \"#9c179e\"], [0.4444444444444444, \"#bd3786\"], [0.5555555555555556, \"#d8576b\"], [0.6666666666666666, \"#ed7953\"], [0.7777777777777778, \"#fb9f3a\"], [0.8888888888888888, \"#fdca26\"], [1.0, \"#f0f921\"]], \"type\": \"heatmapgl\"}], \"histogram\": [{\"marker\": {\"colorbar\": {\"outlinewidth\": 0, \"ticks\": \"\"}}, \"type\": \"histogram\"}], \"histogram2d\": [{\"colorbar\": {\"outlinewidth\": 0, \"ticks\": \"\"}, \"colorscale\": [[0.0, \"#0d0887\"], [0.1111111111111111, \"#46039f\"], [0.2222222222222222, \"#7201a8\"], [0.3333333333333333, \"#9c179e\"], [0.4444444444444444, \"#bd3786\"], [0.5555555555555556, \"#d8576b\"], [0.6666666666666666, \"#ed7953\"], [0.7777777777777778, \"#fb9f3a\"], [0.8888888888888888, \"#fdca26\"], [1.0, \"#f0f921\"]], \"type\": \"histogram2d\"}], \"histogram2dcontour\": [{\"colorbar\": {\"outlinewidth\": 0, \"ticks\": \"\"}, \"colorscale\": [[0.0, \"#0d0887\"], [0.1111111111111111, \"#46039f\"], [0.2222222222222222, \"#7201a8\"], [0.3333333333333333, \"#9c179e\"], [0.4444444444444444, \"#bd3786\"], [0.5555555555555556, \"#d8576b\"], [0.6666666666666666, \"#ed7953\"], [0.7777777777777778, \"#fb9f3a\"], [0.8888888888888888, \"#fdca26\"], [1.0, \"#f0f921\"]], \"type\": \"histogram2dcontour\"}], \"mesh3d\": [{\"colorbar\": {\"outlinewidth\": 0, \"ticks\": \"\"}, \"type\": \"mesh3d\"}], \"parcoords\": [{\"line\": {\"colorbar\": {\"outlinewidth\": 0, \"ticks\": \"\"}}, \"type\": \"parcoords\"}], \"pie\": [{\"automargin\": true, \"type\": \"pie\"}], \"scatter\": [{\"marker\": {\"colorbar\": {\"outlinewidth\": 0, \"ticks\": \"\"}}, \"type\": \"scatter\"}], \"scatter3d\": [{\"line\": {\"colorbar\": {\"outlinewidth\": 0, \"ticks\": \"\"}}, \"marker\": {\"colorbar\": {\"outlinewidth\": 0, \"ticks\": \"\"}}, \"type\": \"scatter3d\"}], \"scattercarpet\": [{\"marker\": {\"colorbar\": {\"outlinewidth\": 0, \"ticks\": \"\"}}, \"type\": \"scattercarpet\"}], \"scattergeo\": [{\"marker\": {\"colorbar\": {\"outlinewidth\": 0, \"ticks\": \"\"}}, \"type\": \"scattergeo\"}], \"scattergl\": [{\"marker\": {\"colorbar\": {\"outlinewidth\": 0, \"ticks\": \"\"}}, \"type\": \"scattergl\"}], \"scattermapbox\": [{\"marker\": {\"colorbar\": {\"outlinewidth\": 0, \"ticks\": \"\"}}, \"type\": \"scattermapbox\"}], \"scatterpolar\": [{\"marker\": {\"colorbar\": {\"outlinewidth\": 0, \"ticks\": \"\"}}, \"type\": \"scatterpolar\"}], \"scatterpolargl\": [{\"marker\": {\"colorbar\": {\"outlinewidth\": 0, \"ticks\": \"\"}}, \"type\": \"scatterpolargl\"}], \"scatterternary\": [{\"marker\": {\"colorbar\": {\"outlinewidth\": 0, \"ticks\": \"\"}}, \"type\": \"scatterternary\"}], \"surface\": [{\"colorbar\": {\"outlinewidth\": 0, \"ticks\": \"\"}, \"colorscale\": [[0.0, \"#0d0887\"], [0.1111111111111111, \"#46039f\"], [0.2222222222222222, \"#7201a8\"], [0.3333333333333333, \"#9c179e\"], [0.4444444444444444, \"#bd3786\"], [0.5555555555555556, \"#d8576b\"], [0.6666666666666666, \"#ed7953\"], [0.7777777777777778, \"#fb9f3a\"], [0.8888888888888888, \"#fdca26\"], [1.0, \"#f0f921\"]], \"type\": \"surface\"}], \"table\": [{\"cells\": {\"fill\": {\"color\": \"#EBF0F8\"}, \"line\": {\"color\": \"white\"}}, \"header\": {\"fill\": {\"color\": \"#C8D4E3\"}, \"line\": {\"color\": \"white\"}}, \"type\": \"table\"}]}, \"layout\": {\"annotationdefaults\": {\"arrowcolor\": \"#2a3f5f\", \"arrowhead\": 0, \"arrowwidth\": 1}, \"autotypenumbers\": \"strict\", \"coloraxis\": {\"colorbar\": {\"outlinewidth\": 0, \"ticks\": \"\"}}, \"colorscale\": {\"diverging\": [[0, \"#8e0152\"], [0.1, \"#c51b7d\"], [0.2, \"#de77ae\"], [0.3, \"#f1b6da\"], [0.4, \"#fde0ef\"], [0.5, \"#f7f7f7\"], [0.6, \"#e6f5d0\"], [0.7, \"#b8e186\"], [0.8, \"#7fbc41\"], [0.9, \"#4d9221\"], [1, \"#276419\"]], \"sequential\": [[0.0, \"#0d0887\"], [0.1111111111111111, \"#46039f\"], [0.2222222222222222, \"#7201a8\"], [0.3333333333333333, \"#9c179e\"], [0.4444444444444444, \"#bd3786\"], [0.5555555555555556, \"#d8576b\"], [0.6666666666666666, \"#ed7953\"], [0.7777777777777778, \"#fb9f3a\"], [0.8888888888888888, \"#fdca26\"], [1.0, \"#f0f921\"]], \"sequentialminus\": [[0.0, \"#0d0887\"], [0.1111111111111111, \"#46039f\"], [0.2222222222222222, \"#7201a8\"], [0.3333333333333333, \"#9c179e\"], [0.4444444444444444, \"#bd3786\"], [0.5555555555555556, \"#d8576b\"], [0.6666666666666666, \"#ed7953\"], [0.7777777777777778, \"#fb9f3a\"], [0.8888888888888888, \"#fdca26\"], [1.0, \"#f0f921\"]]}, \"colorway\": [\"#636efa\", \"#EF553B\", \"#00cc96\", \"#ab63fa\", \"#FFA15A\", \"#19d3f3\", \"#FF6692\", \"#B6E880\", \"#FF97FF\", \"#FECB52\"], \"font\": {\"color\": \"#2a3f5f\"}, \"geo\": {\"bgcolor\": \"white\", \"lakecolor\": \"white\", \"landcolor\": \"#E5ECF6\", \"showlakes\": true, \"showland\": true, \"subunitcolor\": \"white\"}, \"hoverlabel\": {\"align\": \"left\"}, \"hovermode\": \"closest\", \"mapbox\": {\"style\": \"light\"}, \"paper_bgcolor\": \"white\", \"plot_bgcolor\": \"#E5ECF6\", \"polar\": {\"angularaxis\": {\"gridcolor\": \"white\", \"linecolor\": \"white\", \"ticks\": \"\"}, \"bgcolor\": \"#E5ECF6\", \"radialaxis\": {\"gridcolor\": \"white\", \"linecolor\": \"white\", \"ticks\": \"\"}}, \"scene\": {\"xaxis\": {\"backgroundcolor\": \"#E5ECF6\", \"gridcolor\": \"white\", \"gridwidth\": 2, \"linecolor\": \"white\", \"showbackground\": true, \"ticks\": \"\", \"zerolinecolor\": \"white\"}, \"yaxis\": {\"backgroundcolor\": \"#E5ECF6\", \"gridcolor\": \"white\", \"gridwidth\": 2, \"linecolor\": \"white\", \"showbackground\": true, \"ticks\": \"\", \"zerolinecolor\": \"white\"}, \"zaxis\": {\"backgroundcolor\": \"#E5ECF6\", \"gridcolor\": \"white\", \"gridwidth\": 2, \"linecolor\": \"white\", \"showbackground\": true, \"ticks\": \"\", \"zerolinecolor\": \"white\"}}, \"shapedefaults\": {\"line\": {\"color\": \"#2a3f5f\"}}, \"ternary\": {\"aaxis\": {\"gridcolor\": \"white\", \"linecolor\": \"white\", \"ticks\": \"\"}, \"baxis\": {\"gridcolor\": \"white\", \"linecolor\": \"white\", \"ticks\": \"\"}, \"bgcolor\": \"#E5ECF6\", \"caxis\": {\"gridcolor\": \"white\", \"linecolor\": \"white\", \"ticks\": \"\"}}, \"title\": {\"x\": 0.05}, \"xaxis\": {\"automargin\": true, \"gridcolor\": \"white\", \"linecolor\": \"white\", \"ticks\": \"\", \"title\": {\"standoff\": 15}, \"zerolinecolor\": \"white\", \"zerolinewidth\": 2}, \"yaxis\": {\"automargin\": true, \"gridcolor\": \"white\", \"linecolor\": \"white\", \"ticks\": \"\", \"title\": {\"standoff\": 15}, \"zerolinecolor\": \"white\", \"zerolinewidth\": 2}}}, \"xaxis\": {\"anchor\": \"y\", \"domain\": [0.0, 1.0], \"title\": {\"text\": \"TOEFL Score\"}}, \"yaxis\": {\"anchor\": \"x\", \"domain\": [0.0, 1.0], \"title\": {\"text\": \"GRE Score\"}}},                        {\"responsive\": true}                    ).then(function(){\n",
       "                            \n",
       "var gd = document.getElementById('5d51f300-595f-41df-834b-2cd65bac376f');\n",
       "var x = new MutationObserver(function (mutations, observer) {{\n",
       "        var display = window.getComputedStyle(gd).display;\n",
       "        if (!display || display === 'none') {{\n",
       "            console.log([gd, 'removed!']);\n",
       "            Plotly.purge(gd);\n",
       "            observer.disconnect();\n",
       "        }}\n",
       "}});\n",
       "\n",
       "// Listen for the removal of the full notebook cells\n",
       "var notebookContainer = gd.closest('#notebook-container');\n",
       "if (notebookContainer) {{\n",
       "    x.observe(notebookContainer, {childList: true});\n",
       "}}\n",
       "\n",
       "// Listen for the clearing of the current output cell\n",
       "var outputEl = gd.closest('.output');\n",
       "if (outputEl) {{\n",
       "    x.observe(outputEl, {childList: true});\n",
       "}}\n",
       "\n",
       "                        })                };                });            </script>        </div>"
      ]
     },
     "metadata": {},
     "output_type": "display_data"
    }
   ],
   "source": [
    "fig = px.density_heatmap(\n",
    "    data_frame=df, x=\"TOEFL Score\", y=\"GRE Score\", color_continuous_scale=\"PuBu\"\n",
    ")\n",
    "\n",
    "fig.show()"
   ]
  },
  {
   "cell_type": "markdown",
   "metadata": {
    "papermill": {
     "duration": 0.131665,
     "end_time": "2020-12-28T20:42:18.540033",
     "exception": false,
     "start_time": "2020-12-28T20:42:18.408368",
     "status": "completed"
    },
    "tags": []
   },
   "source": [
    "We can see from this chart some *clusters* (regions).\n",
    "\n",
    "For example there are two clusters of students who scored between `110` and `115` in the `TOEFL` exam and between `320` and `330` in the `GRE` exam. These two clusters account for about 100 students (which is 20% of the total dataset)."
   ]
  },
  {
   "cell_type": "markdown",
   "metadata": {
    "papermill": {
     "duration": 0.135379,
     "end_time": "2020-12-28T20:42:18.809195",
     "exception": false,
     "start_time": "2020-12-28T20:42:18.673816",
     "status": "completed"
    },
    "tags": []
   },
   "source": [
    "#### `TOEFL Score` vs. `CGPA`"
   ]
  },
  {
   "cell_type": "code",
   "execution_count": 65,
   "metadata": {
    "execution": {
     "iopub.execute_input": "2020-12-28T20:42:19.081140Z",
     "iopub.status.busy": "2020-12-28T20:42:19.080477Z",
     "iopub.status.idle": "2020-12-28T20:42:19.147391Z",
     "shell.execute_reply": "2020-12-28T20:42:19.147912Z"
    },
    "papermill": {
     "duration": 0.205608,
     "end_time": "2020-12-28T20:42:19.148052",
     "exception": false,
     "start_time": "2020-12-28T20:42:18.942444",
     "status": "completed"
    },
    "tags": []
   },
   "outputs": [
    {
     "data": {
      "text/html": [
       "<div>                            <div id=\"c496009e-ee5d-4961-9dce-6839902b9d7f\" class=\"plotly-graph-div\" style=\"height:525px; width:100%;\"></div>            <script type=\"text/javascript\">                require([\"plotly\"], function(Plotly) {                    window.PLOTLYENV=window.PLOTLYENV || {};                                    if (document.getElementById(\"c496009e-ee5d-4961-9dce-6839902b9d7f\")) {                    Plotly.newPlot(                        \"c496009e-ee5d-4961-9dce-6839902b9d7f\",                        [{\"coloraxis\": \"coloraxis\", \"hovertemplate\": \"TOEFL Score=%{x}<br>CGPA=%{y}<br>count=%{z}<extra></extra>\", \"name\": \"\", \"type\": \"histogram2d\", \"x\": [110, 93, 98, 109, 95, 105, 105, 99, 100, 110, 106, 98, 100, 100, 99, 98, 99, 112, 99, 100, 92, 99, 100, 101, 99, 98, 99, 96, 98, 93, 102, 103, 98, 94, 104, 100, 106, 109, 99, 97, 100, 100, 101, 110, 101, 105, 107, 105, 100, 102, 102, 105, 99, 106, 96, 105, 107, 102, 97, 101, 105, 102, 111, 100, 99, 106, 104, 103, 110, 97, 105, 103, 106, 105, 105, 104, 103, 101, 104, 105, 105, 107, 100, 110, 118, 96, 112, 112, 113, 116, 98, 106, 106, 101, 98, 99, 97, 106, 99, 103, 99, 106, 108, 107, 105, 107, 101, 105, 110, 105, 110, 104, 109, 106, 103, 95, 98, 101, 105, 100, 99, 100, 105, 97, 96, 103, 100, 104, 96, 102, 106, 103, 105, 107, 97, 114, 99, 95, 103, 106, 105, 108, 99, 107, 94, 107, 110, 101, 99, 107, 104, 101, 107, 105, 100, 100, 104, 105, 102, 102, 114, 115, 106, 112, 105, 106, 104, 110, 104, 104, 108, 109, 100, 111, 106, 104, 104, 116, 100, 113, 106, 108, 100, 104, 102, 107, 110, 106, 101, 107, 110, 102, 109, 110, 104, 110, 108, 100, 105, 104, 111, 102, 107, 104, 110, 102, 110, 106, 111, 109, 110, 107, 120, 114, 112, 107, 109, 110, 99, 110, 111, 104, 101, 111, 103, 114, 109, 106, 112, 105, 107, 102, 106, 108, 97, 99, 120, 113, 107, 112, 110, 103, 107, 105, 101, 102, 108, 102, 108, 103, 98, 99, 104, 110, 109, 108, 106, 109, 104, 105, 107, 106, 110, 102, 107, 110, 112, 102, 103, 106, 102, 110, 103, 104, 101, 110, 110, 100, 103, 112, 102, 100, 103, 104, 113, 108, 104, 110, 107, 101, 101, 102, 100, 104, 107, 103, 99, 105, 102, 104, 101, 109, 103, 107, 109, 112, 110, 102, 104, 101, 106, 105, 108, 103, 114, 105, 109, 109, 105, 105, 112, 103, 116, 116, 116, 113, 116, 112, 103, 111, 117, 112, 116, 101, 111, 99, 118, 112, 119, 114, 110, 96, 99, 110, 114, 113, 105, 105, 115, 113, 116, 105, 110, 105, 110, 102, 107, 112, 106, 113, 118, 116, 106, 104, 106, 106, 109, 120, 110, 109, 114, 110, 113, 111, 111, 119, 113, 108, 111, 110, 117, 119, 107, 111, 112, 114, 118, 117, 111, 111, 116, 112, 115, 108, 120, 103, 109, 100, 112, 120, 113, 112, 114, 108, 115, 103, 110, 110, 112, 112, 110, 107, 112, 107, 104, 111, 113, 110, 108, 102, 112, 111, 109, 113, 119, 117, 113, 115, 110, 110, 118, 101, 112, 114, 115, 111, 119, 114, 120, 117, 108, 115, 115, 108, 118, 116, 119, 119, 120, 109, 103, 114, 112, 110, 113, 118, 119, 110, 108, 113, 114, 119, 114, 110, 117, 111, 113, 118, 115, 112, 111, 110, 114, 118, 120, 120, 116, 111, 116, 112, 115, 116, 103, 108, 104, 117, 116, 113, 114, 119, 117, 118, 114, 105, 105, 112, 113, 115, 116, 107], \"xaxis\": \"x\", \"xbingroup\": \"x\", \"y\": [8.54, 7.2, 8.03, 9.12, 7.64, 7.8, 7.5, 8.01, 7.95, 7.23, 7.65, 7.46, 8.53, 7.56, 8.01, 7.65, 6.8, 8.66, 8.43, 7.89, 7.88, 7.46, 7.9, 7.68, 7.57, 8.18, 7.25, 7.56, 7.43, 7.36, 8.0, 7.86, 8.02, 7.34, 8.47, 8.0, 8.32, 9.02, 7.28, 7.88, 7.88, 8.57, 8.32, 8.56, 7.66, 7.65, 8.56, 7.65, 7.88, 7.64, 7.87, 8.12, 7.97, 8.25, 7.43, 8.01, 8.44, 8.73, 7.8, 7.96, 8.1, 7.98, 8.03, 8.54, 9.0, 8.14, 8.26, 8.36, 8.76, 7.8, 8.45, 8.74, 8.26, 7.64, 8.22, 7.79, 8.49, 8.62, 8.48, 8.46, 7.68, 8.42, 8.16, 9.15, 9.36, 7.86, 8.78, 8.96, 8.64, 9.08, 8.03, 8.0, 7.92, 8.34, 7.5, 7.3, 8.1, 8.16, 7.89, 8.36, 7.65, 8.4, 7.7, 8.27, 8.2, 8.5, 7.86, 8.12, 8.53, 8.12, 8.45, 7.89, 8.45, 8.12, 8.21, 8.22, 7.67, 7.9, 8.23, 8.06, 8.03, 8.22, 8.34, 7.64, 7.34, 8.13, 8.07, 8.76, 7.89, 8.18, 8.33, 8.24, 8.26, 8.52, 7.21, 8.56, 8.22, 7.54, 8.15, 8.43, 8.45, 8.76, 7.98, 8.28, 8.13, 8.64, 8.46, 8.04, 7.6, 8.27, 8.07, 7.86, 8.5, 8.2, 8.1, 7.9, 8.3, 8.13, 8.15, 8.24, 9.04, 8.76, 8.65, 8.67, 8.73, 8.33, 8.57, 8.87, 8.65, 8.37, 8.44, 9.0, 8.64, 8.8, 8.5, 8.44, 8.33, 9.14, 8.02, 8.66, 8.21, 8.54, 8.04, 8.34, 8.9, 8.46, 8.76, 8.24, 8.04, 8.27, 8.64, 8.17, 8.77, 8.79, 8.74, 9.22, 8.53, 8.26, 8.67, 8.09, 8.79, 8.68, 8.17, 8.84, 8.96, 8.64, 9.11, 8.79, 8.9, 8.54, 9.04, 8.67, 9.11, 9.24, 8.65, 8.55, 8.8, 9.1, 8.56, 8.56, 8.83, 8.42, 8.2, 8.7, 8.09, 9.02, 9.22, 8.9, 8.72, 8.02, 7.86, 8.13, 8.42, 8.14, 7.66, 7.66, 8.96, 8.88, 8.46, 9.05, 8.78, 8.75, 8.34, 8.45, 9.13, 8.62, 8.97, 7.4, 8.22, 7.7, 8.3, 8.45, 8.0, 8.67, 8.2, 8.6, 8.4, 8.0, 8.2, 8.3, 8.7, 8.0, 8.8, 8.5, 7.9, 8.5, 8.62, 8.37, 8.3, 7.89, 9.01, 8.0, 8.49, 8.12, 7.88, 8.85, 8.0, 8.66, 8.76, 8.71, 8.27, 7.42, 7.68, 8.1, 9.32, 8.12, 8.16, 8.8, 8.68, 7.94, 7.67, 8.33, 7.95, 8.43, 8.69, 8.54, 7.45, 8.54, 8.02, 8.12, 7.64, 8.94, 8.78, 9.11, 8.76, 8.95, 9.04, 8.27, 8.13, 8.65, 8.57, 8.75, 8.89, 8.45, 9.11, 8.34, 8.5, 8.69, 8.48, 8.56, 9.1, 8.21, 9.54, 9.44, 9.6, 9.25, 9.45, 9.12, 8.02, 9.23, 9.66, 9.22, 9.23, 7.69, 8.54, 7.81, 9.67, 8.86, 9.62, 9.17, 9.15, 8.26, 8.73, 8.88, 9.16, 9.74, 7.94, 8.66, 9.14, 9.36, 9.48, 7.95, 8.35, 8.18, 8.96, 7.88, 8.48, 9.02, 8.75, 8.77, 9.65, 9.8, 9.04, 7.46, 8.36, 8.47, 8.77, 9.92, 8.67, 8.68, 9.43, 9.13, 9.23, 8.97, 8.87, 9.16, 9.11, 9.06, 9.01, 9.14, 9.46, 9.24, 8.87, 9.0, 9.1, 8.4, 9.4, 9.1, 8.4, 9.18, 8.0, 8.92, 9.16, 9.04, 9.5, 8.66, 8.76, 7.84, 8.1, 9.66, 9.04, 9.66, 9.12, 9.18, 9.68, 8.43, 8.6, 9.02, 8.77, 9.0, 8.37, 8.65, 9.17, 9.0, 9.02, 9.01, 8.69, 8.97, 8.34, 8.76, 9.26, 9.11, 9.13, 9.14, 9.34, 9.42, 8.79, 9.45, 9.22, 9.27, 9.64, 8.78, 9.76, 9.08, 9.36, 9.45, 9.78, 9.3, 9.56, 9.87, 9.02, 9.23, 9.34, 8.74, 9.47, 9.5, 9.7, 9.7, 9.6, 8.8, 7.92, 9.6, 9.8, 9.2, 9.4, 9.19, 9.8, 9.1, 9.13, 9.45, 9.46, 9.54, 9.19, 8.97, 9.07, 9.23, 9.31, 9.44, 9.36, 9.08, 9.16, 8.98, 8.94, 9.53, 9.91, 9.87, 9.36, 9.86, 9.26, 9.06, 9.06, 9.38, 8.64, 8.48, 8.84, 9.56, 9.08, 9.25, 9.16, 9.48, 9.82, 9.35, 9.76, 8.65, 8.56, 8.78, 9.28, 9.44, 9.28, 8.66], \"yaxis\": \"y\", \"ybingroup\": \"y\"}],                        {\"coloraxis\": {\"colorbar\": {\"title\": {\"text\": \"count\"}}, \"colorscale\": [[0.0, \"rgb(255,247,251)\"], [0.125, \"rgb(236,231,242)\"], [0.25, \"rgb(208,209,230)\"], [0.375, \"rgb(166,189,219)\"], [0.5, \"rgb(116,169,207)\"], [0.625, \"rgb(54,144,192)\"], [0.75, \"rgb(5,112,176)\"], [0.875, \"rgb(4,90,141)\"], [1.0, \"rgb(2,56,88)\"]]}, \"legend\": {\"tracegroupgap\": 0}, \"margin\": {\"t\": 60}, \"template\": {\"data\": {\"bar\": [{\"error_x\": {\"color\": \"#2a3f5f\"}, \"error_y\": {\"color\": \"#2a3f5f\"}, \"marker\": {\"line\": {\"color\": \"#E5ECF6\", \"width\": 0.5}}, \"type\": \"bar\"}], \"barpolar\": [{\"marker\": {\"line\": {\"color\": \"#E5ECF6\", \"width\": 0.5}}, \"type\": \"barpolar\"}], \"carpet\": [{\"aaxis\": {\"endlinecolor\": \"#2a3f5f\", \"gridcolor\": \"white\", \"linecolor\": \"white\", \"minorgridcolor\": \"white\", \"startlinecolor\": \"#2a3f5f\"}, \"baxis\": {\"endlinecolor\": \"#2a3f5f\", \"gridcolor\": \"white\", \"linecolor\": \"white\", \"minorgridcolor\": \"white\", \"startlinecolor\": \"#2a3f5f\"}, \"type\": \"carpet\"}], \"choropleth\": [{\"colorbar\": {\"outlinewidth\": 0, \"ticks\": \"\"}, \"type\": \"choropleth\"}], \"contour\": [{\"colorbar\": {\"outlinewidth\": 0, \"ticks\": \"\"}, \"colorscale\": [[0.0, \"#0d0887\"], [0.1111111111111111, \"#46039f\"], [0.2222222222222222, \"#7201a8\"], [0.3333333333333333, \"#9c179e\"], [0.4444444444444444, \"#bd3786\"], [0.5555555555555556, \"#d8576b\"], [0.6666666666666666, \"#ed7953\"], [0.7777777777777778, \"#fb9f3a\"], [0.8888888888888888, \"#fdca26\"], [1.0, \"#f0f921\"]], \"type\": \"contour\"}], \"contourcarpet\": [{\"colorbar\": {\"outlinewidth\": 0, \"ticks\": \"\"}, \"type\": \"contourcarpet\"}], \"heatmap\": [{\"colorbar\": {\"outlinewidth\": 0, \"ticks\": \"\"}, \"colorscale\": [[0.0, \"#0d0887\"], [0.1111111111111111, \"#46039f\"], [0.2222222222222222, \"#7201a8\"], [0.3333333333333333, \"#9c179e\"], [0.4444444444444444, \"#bd3786\"], [0.5555555555555556, \"#d8576b\"], [0.6666666666666666, \"#ed7953\"], [0.7777777777777778, \"#fb9f3a\"], [0.8888888888888888, \"#fdca26\"], [1.0, \"#f0f921\"]], \"type\": \"heatmap\"}], \"heatmapgl\": [{\"colorbar\": {\"outlinewidth\": 0, \"ticks\": \"\"}, \"colorscale\": [[0.0, \"#0d0887\"], [0.1111111111111111, \"#46039f\"], [0.2222222222222222, \"#7201a8\"], [0.3333333333333333, \"#9c179e\"], [0.4444444444444444, \"#bd3786\"], [0.5555555555555556, \"#d8576b\"], [0.6666666666666666, \"#ed7953\"], [0.7777777777777778, \"#fb9f3a\"], [0.8888888888888888, \"#fdca26\"], [1.0, \"#f0f921\"]], \"type\": \"heatmapgl\"}], \"histogram\": [{\"marker\": {\"colorbar\": {\"outlinewidth\": 0, \"ticks\": \"\"}}, \"type\": \"histogram\"}], \"histogram2d\": [{\"colorbar\": {\"outlinewidth\": 0, \"ticks\": \"\"}, \"colorscale\": [[0.0, \"#0d0887\"], [0.1111111111111111, \"#46039f\"], [0.2222222222222222, \"#7201a8\"], [0.3333333333333333, \"#9c179e\"], [0.4444444444444444, \"#bd3786\"], [0.5555555555555556, \"#d8576b\"], [0.6666666666666666, \"#ed7953\"], [0.7777777777777778, \"#fb9f3a\"], [0.8888888888888888, \"#fdca26\"], [1.0, \"#f0f921\"]], \"type\": \"histogram2d\"}], \"histogram2dcontour\": [{\"colorbar\": {\"outlinewidth\": 0, \"ticks\": \"\"}, \"colorscale\": [[0.0, \"#0d0887\"], [0.1111111111111111, \"#46039f\"], [0.2222222222222222, \"#7201a8\"], [0.3333333333333333, \"#9c179e\"], [0.4444444444444444, \"#bd3786\"], [0.5555555555555556, \"#d8576b\"], [0.6666666666666666, \"#ed7953\"], [0.7777777777777778, \"#fb9f3a\"], [0.8888888888888888, \"#fdca26\"], [1.0, \"#f0f921\"]], \"type\": \"histogram2dcontour\"}], \"mesh3d\": [{\"colorbar\": {\"outlinewidth\": 0, \"ticks\": \"\"}, \"type\": \"mesh3d\"}], \"parcoords\": [{\"line\": {\"colorbar\": {\"outlinewidth\": 0, \"ticks\": \"\"}}, \"type\": \"parcoords\"}], \"pie\": [{\"automargin\": true, \"type\": \"pie\"}], \"scatter\": [{\"marker\": {\"colorbar\": {\"outlinewidth\": 0, \"ticks\": \"\"}}, \"type\": \"scatter\"}], \"scatter3d\": [{\"line\": {\"colorbar\": {\"outlinewidth\": 0, \"ticks\": \"\"}}, \"marker\": {\"colorbar\": {\"outlinewidth\": 0, \"ticks\": \"\"}}, \"type\": \"scatter3d\"}], \"scattercarpet\": [{\"marker\": {\"colorbar\": {\"outlinewidth\": 0, \"ticks\": \"\"}}, \"type\": \"scattercarpet\"}], \"scattergeo\": [{\"marker\": {\"colorbar\": {\"outlinewidth\": 0, \"ticks\": \"\"}}, \"type\": \"scattergeo\"}], \"scattergl\": [{\"marker\": {\"colorbar\": {\"outlinewidth\": 0, \"ticks\": \"\"}}, \"type\": \"scattergl\"}], \"scattermapbox\": [{\"marker\": {\"colorbar\": {\"outlinewidth\": 0, \"ticks\": \"\"}}, \"type\": \"scattermapbox\"}], \"scatterpolar\": [{\"marker\": {\"colorbar\": {\"outlinewidth\": 0, \"ticks\": \"\"}}, \"type\": \"scatterpolar\"}], \"scatterpolargl\": [{\"marker\": {\"colorbar\": {\"outlinewidth\": 0, \"ticks\": \"\"}}, \"type\": \"scatterpolargl\"}], \"scatterternary\": [{\"marker\": {\"colorbar\": {\"outlinewidth\": 0, \"ticks\": \"\"}}, \"type\": \"scatterternary\"}], \"surface\": [{\"colorbar\": {\"outlinewidth\": 0, \"ticks\": \"\"}, \"colorscale\": [[0.0, \"#0d0887\"], [0.1111111111111111, \"#46039f\"], [0.2222222222222222, \"#7201a8\"], [0.3333333333333333, \"#9c179e\"], [0.4444444444444444, \"#bd3786\"], [0.5555555555555556, \"#d8576b\"], [0.6666666666666666, \"#ed7953\"], [0.7777777777777778, \"#fb9f3a\"], [0.8888888888888888, \"#fdca26\"], [1.0, \"#f0f921\"]], \"type\": \"surface\"}], \"table\": [{\"cells\": {\"fill\": {\"color\": \"#EBF0F8\"}, \"line\": {\"color\": \"white\"}}, \"header\": {\"fill\": {\"color\": \"#C8D4E3\"}, \"line\": {\"color\": \"white\"}}, \"type\": \"table\"}]}, \"layout\": {\"annotationdefaults\": {\"arrowcolor\": \"#2a3f5f\", \"arrowhead\": 0, \"arrowwidth\": 1}, \"autotypenumbers\": \"strict\", \"coloraxis\": {\"colorbar\": {\"outlinewidth\": 0, \"ticks\": \"\"}}, \"colorscale\": {\"diverging\": [[0, \"#8e0152\"], [0.1, \"#c51b7d\"], [0.2, \"#de77ae\"], [0.3, \"#f1b6da\"], [0.4, \"#fde0ef\"], [0.5, \"#f7f7f7\"], [0.6, \"#e6f5d0\"], [0.7, \"#b8e186\"], [0.8, \"#7fbc41\"], [0.9, \"#4d9221\"], [1, \"#276419\"]], \"sequential\": [[0.0, \"#0d0887\"], [0.1111111111111111, \"#46039f\"], [0.2222222222222222, \"#7201a8\"], [0.3333333333333333, \"#9c179e\"], [0.4444444444444444, \"#bd3786\"], [0.5555555555555556, \"#d8576b\"], [0.6666666666666666, \"#ed7953\"], [0.7777777777777778, \"#fb9f3a\"], [0.8888888888888888, \"#fdca26\"], [1.0, \"#f0f921\"]], \"sequentialminus\": [[0.0, \"#0d0887\"], [0.1111111111111111, \"#46039f\"], [0.2222222222222222, \"#7201a8\"], [0.3333333333333333, \"#9c179e\"], [0.4444444444444444, \"#bd3786\"], [0.5555555555555556, \"#d8576b\"], [0.6666666666666666, \"#ed7953\"], [0.7777777777777778, \"#fb9f3a\"], [0.8888888888888888, \"#fdca26\"], [1.0, \"#f0f921\"]]}, \"colorway\": [\"#636efa\", \"#EF553B\", \"#00cc96\", \"#ab63fa\", \"#FFA15A\", \"#19d3f3\", \"#FF6692\", \"#B6E880\", \"#FF97FF\", \"#FECB52\"], \"font\": {\"color\": \"#2a3f5f\"}, \"geo\": {\"bgcolor\": \"white\", \"lakecolor\": \"white\", \"landcolor\": \"#E5ECF6\", \"showlakes\": true, \"showland\": true, \"subunitcolor\": \"white\"}, \"hoverlabel\": {\"align\": \"left\"}, \"hovermode\": \"closest\", \"mapbox\": {\"style\": \"light\"}, \"paper_bgcolor\": \"white\", \"plot_bgcolor\": \"#E5ECF6\", \"polar\": {\"angularaxis\": {\"gridcolor\": \"white\", \"linecolor\": \"white\", \"ticks\": \"\"}, \"bgcolor\": \"#E5ECF6\", \"radialaxis\": {\"gridcolor\": \"white\", \"linecolor\": \"white\", \"ticks\": \"\"}}, \"scene\": {\"xaxis\": {\"backgroundcolor\": \"#E5ECF6\", \"gridcolor\": \"white\", \"gridwidth\": 2, \"linecolor\": \"white\", \"showbackground\": true, \"ticks\": \"\", \"zerolinecolor\": \"white\"}, \"yaxis\": {\"backgroundcolor\": \"#E5ECF6\", \"gridcolor\": \"white\", \"gridwidth\": 2, \"linecolor\": \"white\", \"showbackground\": true, \"ticks\": \"\", \"zerolinecolor\": \"white\"}, \"zaxis\": {\"backgroundcolor\": \"#E5ECF6\", \"gridcolor\": \"white\", \"gridwidth\": 2, \"linecolor\": \"white\", \"showbackground\": true, \"ticks\": \"\", \"zerolinecolor\": \"white\"}}, \"shapedefaults\": {\"line\": {\"color\": \"#2a3f5f\"}}, \"ternary\": {\"aaxis\": {\"gridcolor\": \"white\", \"linecolor\": \"white\", \"ticks\": \"\"}, \"baxis\": {\"gridcolor\": \"white\", \"linecolor\": \"white\", \"ticks\": \"\"}, \"bgcolor\": \"#E5ECF6\", \"caxis\": {\"gridcolor\": \"white\", \"linecolor\": \"white\", \"ticks\": \"\"}}, \"title\": {\"x\": 0.05}, \"xaxis\": {\"automargin\": true, \"gridcolor\": \"white\", \"linecolor\": \"white\", \"ticks\": \"\", \"title\": {\"standoff\": 15}, \"zerolinecolor\": \"white\", \"zerolinewidth\": 2}, \"yaxis\": {\"automargin\": true, \"gridcolor\": \"white\", \"linecolor\": \"white\", \"ticks\": \"\", \"title\": {\"standoff\": 15}, \"zerolinecolor\": \"white\", \"zerolinewidth\": 2}}}, \"xaxis\": {\"anchor\": \"y\", \"domain\": [0.0, 1.0], \"title\": {\"text\": \"TOEFL Score\"}}, \"yaxis\": {\"anchor\": \"x\", \"domain\": [0.0, 1.0], \"title\": {\"text\": \"CGPA\"}}},                        {\"responsive\": true}                    ).then(function(){\n",
       "                            \n",
       "var gd = document.getElementById('c496009e-ee5d-4961-9dce-6839902b9d7f');\n",
       "var x = new MutationObserver(function (mutations, observer) {{\n",
       "        var display = window.getComputedStyle(gd).display;\n",
       "        if (!display || display === 'none') {{\n",
       "            console.log([gd, 'removed!']);\n",
       "            Plotly.purge(gd);\n",
       "            observer.disconnect();\n",
       "        }}\n",
       "}});\n",
       "\n",
       "// Listen for the removal of the full notebook cells\n",
       "var notebookContainer = gd.closest('#notebook-container');\n",
       "if (notebookContainer) {{\n",
       "    x.observe(notebookContainer, {childList: true});\n",
       "}}\n",
       "\n",
       "// Listen for the clearing of the current output cell\n",
       "var outputEl = gd.closest('.output');\n",
       "if (outputEl) {{\n",
       "    x.observe(outputEl, {childList: true});\n",
       "}}\n",
       "\n",
       "                        })                };                });            </script>        </div>"
      ]
     },
     "metadata": {},
     "output_type": "display_data"
    }
   ],
   "source": [
    "fig = px.density_heatmap(\n",
    "    data_frame=df, x=\"TOEFL Score\", y=\"CGPA\", color_continuous_scale=\"PuBu\"\n",
    ")\n",
    "\n",
    "fig.show()"
   ]
  },
  {
   "cell_type": "markdown",
   "metadata": {
    "papermill": {
     "duration": 0.132429,
     "end_time": "2020-12-28T20:42:19.413543",
     "exception": false,
     "start_time": "2020-12-28T20:42:19.281114",
     "status": "completed"
    },
    "tags": []
   },
   "source": [
    "This chart shows that about `170` students has `TOEFL` score in range `[105-115]` and their `CGPA` is in range `[8-9]`"
   ]
  },
  {
   "cell_type": "markdown",
   "metadata": {
    "papermill": {
     "duration": 0.132567,
     "end_time": "2020-12-28T20:42:19.678679",
     "exception": false,
     "start_time": "2020-12-28T20:42:19.546112",
     "status": "completed"
    },
    "tags": []
   },
   "source": [
    "#### `GRE Score` vs. `CGPA`"
   ]
  },
  {
   "cell_type": "code",
   "execution_count": 66,
   "metadata": {
    "execution": {
     "iopub.execute_input": "2020-12-28T20:42:19.956580Z",
     "iopub.status.busy": "2020-12-28T20:42:19.955854Z",
     "iopub.status.idle": "2020-12-28T20:42:20.017896Z",
     "shell.execute_reply": "2020-12-28T20:42:20.017372Z"
    },
    "papermill": {
     "duration": 0.207094,
     "end_time": "2020-12-28T20:42:20.018010",
     "exception": false,
     "start_time": "2020-12-28T20:42:19.810916",
     "status": "completed"
    },
    "tags": []
   },
   "outputs": [
    {
     "data": {
      "text/html": [
       "<div>                            <div id=\"6bc718af-5389-4aad-b8dd-e61a597ae524\" class=\"plotly-graph-div\" style=\"height:525px; width:100%;\"></div>            <script type=\"text/javascript\">                require([\"plotly\"], function(Plotly) {                    window.PLOTLYENV=window.PLOTLYENV || {};                                    if (document.getElementById(\"6bc718af-5389-4aad-b8dd-e61a597ae524\")) {                    Plotly.newPlot(                        \"6bc718af-5389-4aad-b8dd-e61a597ae524\",                        [{\"coloraxis\": \"coloraxis\", \"hovertemplate\": \"GRE Score=%{x}<br>CGPA=%{y}<br>count=%{z}<extra></extra>\", \"name\": \"\", \"type\": \"histogram2d\", \"x\": [318, 295, 301, 318, 294, 300, 304, 312, 315, 310, 317, 311, 312, 290, 300, 303, 300, 332, 311, 299, 298, 298, 297, 296, 295, 312, 302, 301, 316, 294, 302, 315, 300, 299, 317, 306, 316, 312, 296, 301, 299, 317, 316, 320, 304, 315, 314, 307, 299, 305, 300, 312, 302, 314, 297, 310, 321, 304, 293, 302, 307, 308, 309, 318, 316, 306, 309, 308, 325, 296, 312, 316, 311, 314, 306, 305, 308, 320, 311, 312, 309, 305, 316, 329, 332, 299, 320, 325, 320, 326, 298, 309, 318, 311, 298, 310, 300, 305, 315, 306, 295, 299, 307, 312, 316, 313, 295, 311, 312, 307, 306, 301, 308, 317, 314, 300, 297, 308, 305, 303, 296, 304, 315, 304, 295, 305, 304, 317, 297, 305, 310, 310, 306, 307, 298, 329, 301, 296, 317, 313, 322, 319, 311, 317, 313, 316, 315, 312, 298, 314, 308, 298, 315, 304, 309, 312, 311, 305, 316, 314, 325, 324, 318, 318, 316, 319, 320, 324, 313, 310, 320, 313, 324, 324, 317, 323, 315, 326, 299, 327, 308, 319, 301, 320, 313, 312, 326, 308, 313, 318, 322, 300, 327, 319, 320, 324, 312, 300, 319, 312, 324, 313, 314, 322, 322, 311, 317, 312, 321, 321, 324, 310, 320, 330, 305, 323, 321, 323, 309, 316, 321, 312, 307, 325, 311, 327, 318, 314, 327, 312, 304, 301, 315, 314, 299, 303, 331, 323, 322, 326, 316, 313, 301, 311, 315, 299, 320, 316, 308, 320, 313, 301, 316, 322, 321, 323, 325, 307, 311, 314, 317, 319, 318, 303, 312, 302, 322, 319, 327, 317, 321, 308, 318, 304, 300, 321, 322, 300, 319, 319, 313, 299, 316, 315, 323, 309, 300, 314, 317, 317, 297, 302, 298, 311, 313, 317, 302, 298, 310, 301, 311, 324, 312, 325, 316, 321, 319, 307, 311, 310, 312, 324, 326, 312, 326, 315, 318, 312, 315, 317, 326, 306, 334, 331, 328, 324, 330, 326, 322, 329, 333, 324, 330, 298, 316, 297, 327, 320, 336, 330, 324, 305, 314, 323, 326, 340, 307, 319, 327, 329, 327, 308, 321, 309, 325, 314, 323, 322, 327, 328, 337, 339, 310, 290, 310, 301, 314, 340, 325, 321, 334, 322, 323, 321, 320, 329, 327, 325, 329, 328, 338, 332, 324, 327, 328, 325, 338, 332, 327, 329, 334, 325, 328, 314, 340, 319, 316, 304, 324, 338, 327, 340, 321, 328, 335, 312, 308, 328, 324, 325, 307, 312, 325, 311, 314, 324, 327, 324, 308, 326, 322, 325, 321, 327, 331, 331, 324, 340, 320, 320, 332, 318, 336, 324, 322, 321, 333, 329, 330, 337, 332, 338, 330, 323, 332, 328, 339, 334, 340, 322, 304, 340, 331, 320, 326, 336, 336, 322, 327, 329, 325, 334, 329, 322, 334, 326, 330, 335, 331, 324, 324, 323, 322, 336, 340, 334, 330, 323, 331, 321, 340, 331, 304, 305, 327, 335, 328, 324, 321, 334, 335, 333, 339, 303, 309, 323, 333, 331, 332, 324], \"xaxis\": \"x\", \"xbingroup\": \"x\", \"y\": [8.54, 7.2, 8.03, 9.12, 7.64, 7.8, 7.5, 8.01, 7.95, 7.23, 7.65, 7.46, 8.53, 7.56, 8.01, 7.65, 6.8, 8.66, 8.43, 7.89, 7.88, 7.46, 7.9, 7.68, 7.57, 8.18, 7.25, 7.56, 7.43, 7.36, 8.0, 7.86, 8.02, 7.34, 8.47, 8.0, 8.32, 9.02, 7.28, 7.88, 7.88, 8.57, 8.32, 8.56, 7.66, 7.65, 8.56, 7.65, 7.88, 7.64, 7.87, 8.12, 7.97, 8.25, 7.43, 8.01, 8.44, 8.73, 7.8, 7.96, 8.1, 7.98, 8.03, 8.54, 9.0, 8.14, 8.26, 8.36, 8.76, 7.8, 8.45, 8.74, 8.26, 7.64, 8.22, 7.79, 8.49, 8.62, 8.48, 8.46, 7.68, 8.42, 8.16, 9.15, 9.36, 7.86, 8.78, 8.96, 8.64, 9.08, 8.03, 8.0, 7.92, 8.34, 7.5, 7.3, 8.1, 8.16, 7.89, 8.36, 7.65, 8.4, 7.7, 8.27, 8.2, 8.5, 7.86, 8.12, 8.53, 8.12, 8.45, 7.89, 8.45, 8.12, 8.21, 8.22, 7.67, 7.9, 8.23, 8.06, 8.03, 8.22, 8.34, 7.64, 7.34, 8.13, 8.07, 8.76, 7.89, 8.18, 8.33, 8.24, 8.26, 8.52, 7.21, 8.56, 8.22, 7.54, 8.15, 8.43, 8.45, 8.76, 7.98, 8.28, 8.13, 8.64, 8.46, 8.04, 7.6, 8.27, 8.07, 7.86, 8.5, 8.2, 8.1, 7.9, 8.3, 8.13, 8.15, 8.24, 9.04, 8.76, 8.65, 8.67, 8.73, 8.33, 8.57, 8.87, 8.65, 8.37, 8.44, 9.0, 8.64, 8.8, 8.5, 8.44, 8.33, 9.14, 8.02, 8.66, 8.21, 8.54, 8.04, 8.34, 8.9, 8.46, 8.76, 8.24, 8.04, 8.27, 8.64, 8.17, 8.77, 8.79, 8.74, 9.22, 8.53, 8.26, 8.67, 8.09, 8.79, 8.68, 8.17, 8.84, 8.96, 8.64, 9.11, 8.79, 8.9, 8.54, 9.04, 8.67, 9.11, 9.24, 8.65, 8.55, 8.8, 9.1, 8.56, 8.56, 8.83, 8.42, 8.2, 8.7, 8.09, 9.02, 9.22, 8.9, 8.72, 8.02, 7.86, 8.13, 8.42, 8.14, 7.66, 7.66, 8.96, 8.88, 8.46, 9.05, 8.78, 8.75, 8.34, 8.45, 9.13, 8.62, 8.97, 7.4, 8.22, 7.7, 8.3, 8.45, 8.0, 8.67, 8.2, 8.6, 8.4, 8.0, 8.2, 8.3, 8.7, 8.0, 8.8, 8.5, 7.9, 8.5, 8.62, 8.37, 8.3, 7.89, 9.01, 8.0, 8.49, 8.12, 7.88, 8.85, 8.0, 8.66, 8.76, 8.71, 8.27, 7.42, 7.68, 8.1, 9.32, 8.12, 8.16, 8.8, 8.68, 7.94, 7.67, 8.33, 7.95, 8.43, 8.69, 8.54, 7.45, 8.54, 8.02, 8.12, 7.64, 8.94, 8.78, 9.11, 8.76, 8.95, 9.04, 8.27, 8.13, 8.65, 8.57, 8.75, 8.89, 8.45, 9.11, 8.34, 8.5, 8.69, 8.48, 8.56, 9.1, 8.21, 9.54, 9.44, 9.6, 9.25, 9.45, 9.12, 8.02, 9.23, 9.66, 9.22, 9.23, 7.69, 8.54, 7.81, 9.67, 8.86, 9.62, 9.17, 9.15, 8.26, 8.73, 8.88, 9.16, 9.74, 7.94, 8.66, 9.14, 9.36, 9.48, 7.95, 8.35, 8.18, 8.96, 7.88, 8.48, 9.02, 8.75, 8.77, 9.65, 9.8, 9.04, 7.46, 8.36, 8.47, 8.77, 9.92, 8.67, 8.68, 9.43, 9.13, 9.23, 8.97, 8.87, 9.16, 9.11, 9.06, 9.01, 9.14, 9.46, 9.24, 8.87, 9.0, 9.1, 8.4, 9.4, 9.1, 8.4, 9.18, 8.0, 8.92, 9.16, 9.04, 9.5, 8.66, 8.76, 7.84, 8.1, 9.66, 9.04, 9.66, 9.12, 9.18, 9.68, 8.43, 8.6, 9.02, 8.77, 9.0, 8.37, 8.65, 9.17, 9.0, 9.02, 9.01, 8.69, 8.97, 8.34, 8.76, 9.26, 9.11, 9.13, 9.14, 9.34, 9.42, 8.79, 9.45, 9.22, 9.27, 9.64, 8.78, 9.76, 9.08, 9.36, 9.45, 9.78, 9.3, 9.56, 9.87, 9.02, 9.23, 9.34, 8.74, 9.47, 9.5, 9.7, 9.7, 9.6, 8.8, 7.92, 9.6, 9.8, 9.2, 9.4, 9.19, 9.8, 9.1, 9.13, 9.45, 9.46, 9.54, 9.19, 8.97, 9.07, 9.23, 9.31, 9.44, 9.36, 9.08, 9.16, 8.98, 8.94, 9.53, 9.91, 9.87, 9.36, 9.86, 9.26, 9.06, 9.06, 9.38, 8.64, 8.48, 8.84, 9.56, 9.08, 9.25, 9.16, 9.48, 9.82, 9.35, 9.76, 8.65, 8.56, 8.78, 9.28, 9.44, 9.28, 8.66], \"yaxis\": \"y\", \"ybingroup\": \"y\"}],                        {\"coloraxis\": {\"colorbar\": {\"title\": {\"text\": \"count\"}}, \"colorscale\": [[0.0, \"rgb(255,247,251)\"], [0.125, \"rgb(236,231,242)\"], [0.25, \"rgb(208,209,230)\"], [0.375, \"rgb(166,189,219)\"], [0.5, \"rgb(116,169,207)\"], [0.625, \"rgb(54,144,192)\"], [0.75, \"rgb(5,112,176)\"], [0.875, \"rgb(4,90,141)\"], [1.0, \"rgb(2,56,88)\"]]}, \"legend\": {\"tracegroupgap\": 0}, \"margin\": {\"t\": 60}, \"template\": {\"data\": {\"bar\": [{\"error_x\": {\"color\": \"#2a3f5f\"}, \"error_y\": {\"color\": \"#2a3f5f\"}, \"marker\": {\"line\": {\"color\": \"#E5ECF6\", \"width\": 0.5}}, \"type\": \"bar\"}], \"barpolar\": [{\"marker\": {\"line\": {\"color\": \"#E5ECF6\", \"width\": 0.5}}, \"type\": \"barpolar\"}], \"carpet\": [{\"aaxis\": {\"endlinecolor\": \"#2a3f5f\", \"gridcolor\": \"white\", \"linecolor\": \"white\", \"minorgridcolor\": \"white\", \"startlinecolor\": \"#2a3f5f\"}, \"baxis\": {\"endlinecolor\": \"#2a3f5f\", \"gridcolor\": \"white\", \"linecolor\": \"white\", \"minorgridcolor\": \"white\", \"startlinecolor\": \"#2a3f5f\"}, \"type\": \"carpet\"}], \"choropleth\": [{\"colorbar\": {\"outlinewidth\": 0, \"ticks\": \"\"}, \"type\": \"choropleth\"}], \"contour\": [{\"colorbar\": {\"outlinewidth\": 0, \"ticks\": \"\"}, \"colorscale\": [[0.0, \"#0d0887\"], [0.1111111111111111, \"#46039f\"], [0.2222222222222222, \"#7201a8\"], [0.3333333333333333, \"#9c179e\"], [0.4444444444444444, \"#bd3786\"], [0.5555555555555556, \"#d8576b\"], [0.6666666666666666, \"#ed7953\"], [0.7777777777777778, \"#fb9f3a\"], [0.8888888888888888, \"#fdca26\"], [1.0, \"#f0f921\"]], \"type\": \"contour\"}], \"contourcarpet\": [{\"colorbar\": {\"outlinewidth\": 0, \"ticks\": \"\"}, \"type\": \"contourcarpet\"}], \"heatmap\": [{\"colorbar\": {\"outlinewidth\": 0, \"ticks\": \"\"}, \"colorscale\": [[0.0, \"#0d0887\"], [0.1111111111111111, \"#46039f\"], [0.2222222222222222, \"#7201a8\"], [0.3333333333333333, \"#9c179e\"], [0.4444444444444444, \"#bd3786\"], [0.5555555555555556, \"#d8576b\"], [0.6666666666666666, \"#ed7953\"], [0.7777777777777778, \"#fb9f3a\"], [0.8888888888888888, \"#fdca26\"], [1.0, \"#f0f921\"]], \"type\": \"heatmap\"}], \"heatmapgl\": [{\"colorbar\": {\"outlinewidth\": 0, \"ticks\": \"\"}, \"colorscale\": [[0.0, \"#0d0887\"], [0.1111111111111111, \"#46039f\"], [0.2222222222222222, \"#7201a8\"], [0.3333333333333333, \"#9c179e\"], [0.4444444444444444, \"#bd3786\"], [0.5555555555555556, \"#d8576b\"], [0.6666666666666666, \"#ed7953\"], [0.7777777777777778, \"#fb9f3a\"], [0.8888888888888888, \"#fdca26\"], [1.0, \"#f0f921\"]], \"type\": \"heatmapgl\"}], \"histogram\": [{\"marker\": {\"colorbar\": {\"outlinewidth\": 0, \"ticks\": \"\"}}, \"type\": \"histogram\"}], \"histogram2d\": [{\"colorbar\": {\"outlinewidth\": 0, \"ticks\": \"\"}, \"colorscale\": [[0.0, \"#0d0887\"], [0.1111111111111111, \"#46039f\"], [0.2222222222222222, \"#7201a8\"], [0.3333333333333333, \"#9c179e\"], [0.4444444444444444, \"#bd3786\"], [0.5555555555555556, \"#d8576b\"], [0.6666666666666666, \"#ed7953\"], [0.7777777777777778, \"#fb9f3a\"], [0.8888888888888888, \"#fdca26\"], [1.0, \"#f0f921\"]], \"type\": \"histogram2d\"}], \"histogram2dcontour\": [{\"colorbar\": {\"outlinewidth\": 0, \"ticks\": \"\"}, \"colorscale\": [[0.0, \"#0d0887\"], [0.1111111111111111, \"#46039f\"], [0.2222222222222222, \"#7201a8\"], [0.3333333333333333, \"#9c179e\"], [0.4444444444444444, \"#bd3786\"], [0.5555555555555556, \"#d8576b\"], [0.6666666666666666, \"#ed7953\"], [0.7777777777777778, \"#fb9f3a\"], [0.8888888888888888, \"#fdca26\"], [1.0, \"#f0f921\"]], \"type\": \"histogram2dcontour\"}], \"mesh3d\": [{\"colorbar\": {\"outlinewidth\": 0, \"ticks\": \"\"}, \"type\": \"mesh3d\"}], \"parcoords\": [{\"line\": {\"colorbar\": {\"outlinewidth\": 0, \"ticks\": \"\"}}, \"type\": \"parcoords\"}], \"pie\": [{\"automargin\": true, \"type\": \"pie\"}], \"scatter\": [{\"marker\": {\"colorbar\": {\"outlinewidth\": 0, \"ticks\": \"\"}}, \"type\": \"scatter\"}], \"scatter3d\": [{\"line\": {\"colorbar\": {\"outlinewidth\": 0, \"ticks\": \"\"}}, \"marker\": {\"colorbar\": {\"outlinewidth\": 0, \"ticks\": \"\"}}, \"type\": \"scatter3d\"}], \"scattercarpet\": [{\"marker\": {\"colorbar\": {\"outlinewidth\": 0, \"ticks\": \"\"}}, \"type\": \"scattercarpet\"}], \"scattergeo\": [{\"marker\": {\"colorbar\": {\"outlinewidth\": 0, \"ticks\": \"\"}}, \"type\": \"scattergeo\"}], \"scattergl\": [{\"marker\": {\"colorbar\": {\"outlinewidth\": 0, \"ticks\": \"\"}}, \"type\": \"scattergl\"}], \"scattermapbox\": [{\"marker\": {\"colorbar\": {\"outlinewidth\": 0, \"ticks\": \"\"}}, \"type\": \"scattermapbox\"}], \"scatterpolar\": [{\"marker\": {\"colorbar\": {\"outlinewidth\": 0, \"ticks\": \"\"}}, \"type\": \"scatterpolar\"}], \"scatterpolargl\": [{\"marker\": {\"colorbar\": {\"outlinewidth\": 0, \"ticks\": \"\"}}, \"type\": \"scatterpolargl\"}], \"scatterternary\": [{\"marker\": {\"colorbar\": {\"outlinewidth\": 0, \"ticks\": \"\"}}, \"type\": \"scatterternary\"}], \"surface\": [{\"colorbar\": {\"outlinewidth\": 0, \"ticks\": \"\"}, \"colorscale\": [[0.0, \"#0d0887\"], [0.1111111111111111, \"#46039f\"], [0.2222222222222222, \"#7201a8\"], [0.3333333333333333, \"#9c179e\"], [0.4444444444444444, \"#bd3786\"], [0.5555555555555556, \"#d8576b\"], [0.6666666666666666, \"#ed7953\"], [0.7777777777777778, \"#fb9f3a\"], [0.8888888888888888, \"#fdca26\"], [1.0, \"#f0f921\"]], \"type\": \"surface\"}], \"table\": [{\"cells\": {\"fill\": {\"color\": \"#EBF0F8\"}, \"line\": {\"color\": \"white\"}}, \"header\": {\"fill\": {\"color\": \"#C8D4E3\"}, \"line\": {\"color\": \"white\"}}, \"type\": \"table\"}]}, \"layout\": {\"annotationdefaults\": {\"arrowcolor\": \"#2a3f5f\", \"arrowhead\": 0, \"arrowwidth\": 1}, \"autotypenumbers\": \"strict\", \"coloraxis\": {\"colorbar\": {\"outlinewidth\": 0, \"ticks\": \"\"}}, \"colorscale\": {\"diverging\": [[0, \"#8e0152\"], [0.1, \"#c51b7d\"], [0.2, \"#de77ae\"], [0.3, \"#f1b6da\"], [0.4, \"#fde0ef\"], [0.5, \"#f7f7f7\"], [0.6, \"#e6f5d0\"], [0.7, \"#b8e186\"], [0.8, \"#7fbc41\"], [0.9, \"#4d9221\"], [1, \"#276419\"]], \"sequential\": [[0.0, \"#0d0887\"], [0.1111111111111111, \"#46039f\"], [0.2222222222222222, \"#7201a8\"], [0.3333333333333333, \"#9c179e\"], [0.4444444444444444, \"#bd3786\"], [0.5555555555555556, \"#d8576b\"], [0.6666666666666666, \"#ed7953\"], [0.7777777777777778, \"#fb9f3a\"], [0.8888888888888888, \"#fdca26\"], [1.0, \"#f0f921\"]], \"sequentialminus\": [[0.0, \"#0d0887\"], [0.1111111111111111, \"#46039f\"], [0.2222222222222222, \"#7201a8\"], [0.3333333333333333, \"#9c179e\"], [0.4444444444444444, \"#bd3786\"], [0.5555555555555556, \"#d8576b\"], [0.6666666666666666, \"#ed7953\"], [0.7777777777777778, \"#fb9f3a\"], [0.8888888888888888, \"#fdca26\"], [1.0, \"#f0f921\"]]}, \"colorway\": [\"#636efa\", \"#EF553B\", \"#00cc96\", \"#ab63fa\", \"#FFA15A\", \"#19d3f3\", \"#FF6692\", \"#B6E880\", \"#FF97FF\", \"#FECB52\"], \"font\": {\"color\": \"#2a3f5f\"}, \"geo\": {\"bgcolor\": \"white\", \"lakecolor\": \"white\", \"landcolor\": \"#E5ECF6\", \"showlakes\": true, \"showland\": true, \"subunitcolor\": \"white\"}, \"hoverlabel\": {\"align\": \"left\"}, \"hovermode\": \"closest\", \"mapbox\": {\"style\": \"light\"}, \"paper_bgcolor\": \"white\", \"plot_bgcolor\": \"#E5ECF6\", \"polar\": {\"angularaxis\": {\"gridcolor\": \"white\", \"linecolor\": \"white\", \"ticks\": \"\"}, \"bgcolor\": \"#E5ECF6\", \"radialaxis\": {\"gridcolor\": \"white\", \"linecolor\": \"white\", \"ticks\": \"\"}}, \"scene\": {\"xaxis\": {\"backgroundcolor\": \"#E5ECF6\", \"gridcolor\": \"white\", \"gridwidth\": 2, \"linecolor\": \"white\", \"showbackground\": true, \"ticks\": \"\", \"zerolinecolor\": \"white\"}, \"yaxis\": {\"backgroundcolor\": \"#E5ECF6\", \"gridcolor\": \"white\", \"gridwidth\": 2, \"linecolor\": \"white\", \"showbackground\": true, \"ticks\": \"\", \"zerolinecolor\": \"white\"}, \"zaxis\": {\"backgroundcolor\": \"#E5ECF6\", \"gridcolor\": \"white\", \"gridwidth\": 2, \"linecolor\": \"white\", \"showbackground\": true, \"ticks\": \"\", \"zerolinecolor\": \"white\"}}, \"shapedefaults\": {\"line\": {\"color\": \"#2a3f5f\"}}, \"ternary\": {\"aaxis\": {\"gridcolor\": \"white\", \"linecolor\": \"white\", \"ticks\": \"\"}, \"baxis\": {\"gridcolor\": \"white\", \"linecolor\": \"white\", \"ticks\": \"\"}, \"bgcolor\": \"#E5ECF6\", \"caxis\": {\"gridcolor\": \"white\", \"linecolor\": \"white\", \"ticks\": \"\"}}, \"title\": {\"x\": 0.05}, \"xaxis\": {\"automargin\": true, \"gridcolor\": \"white\", \"linecolor\": \"white\", \"ticks\": \"\", \"title\": {\"standoff\": 15}, \"zerolinecolor\": \"white\", \"zerolinewidth\": 2}, \"yaxis\": {\"automargin\": true, \"gridcolor\": \"white\", \"linecolor\": \"white\", \"ticks\": \"\", \"title\": {\"standoff\": 15}, \"zerolinecolor\": \"white\", \"zerolinewidth\": 2}}}, \"xaxis\": {\"anchor\": \"y\", \"domain\": [0.0, 1.0], \"title\": {\"text\": \"GRE Score\"}}, \"yaxis\": {\"anchor\": \"x\", \"domain\": [0.0, 1.0], \"title\": {\"text\": \"CGPA\"}}},                        {\"responsive\": true}                    ).then(function(){\n",
       "                            \n",
       "var gd = document.getElementById('6bc718af-5389-4aad-b8dd-e61a597ae524');\n",
       "var x = new MutationObserver(function (mutations, observer) {{\n",
       "        var display = window.getComputedStyle(gd).display;\n",
       "        if (!display || display === 'none') {{\n",
       "            console.log([gd, 'removed!']);\n",
       "            Plotly.purge(gd);\n",
       "            observer.disconnect();\n",
       "        }}\n",
       "}});\n",
       "\n",
       "// Listen for the removal of the full notebook cells\n",
       "var notebookContainer = gd.closest('#notebook-container');\n",
       "if (notebookContainer) {{\n",
       "    x.observe(notebookContainer, {childList: true});\n",
       "}}\n",
       "\n",
       "// Listen for the clearing of the current output cell\n",
       "var outputEl = gd.closest('.output');\n",
       "if (outputEl) {{\n",
       "    x.observe(outputEl, {childList: true});\n",
       "}}\n",
       "\n",
       "                        })                };                });            </script>        </div>"
      ]
     },
     "metadata": {},
     "output_type": "display_data"
    }
   ],
   "source": [
    "fig = px.density_heatmap(\n",
    "    data_frame=df, x=\"GRE Score\", y=\"CGPA\", color_continuous_scale=\"PuBu\"\n",
    ")\n",
    "\n",
    "fig.show()"
   ]
  },
  {
   "cell_type": "markdown",
   "metadata": {
    "papermill": {
     "duration": 0.139231,
     "end_time": "2020-12-28T20:42:20.299203",
     "exception": false,
     "start_time": "2020-12-28T20:42:20.159972",
     "status": "completed"
    },
    "tags": []
   },
   "source": [
    "This chart shows that almost `120` students has `GRE` scores in the range `[310-320]` and their `CGPA` is in thae range `[8-9]`."
   ]
  },
  {
   "cell_type": "markdown",
   "metadata": {
    "collapsed": "true",
    "papermill": {
     "duration": 0.134155,
     "end_time": "2020-12-28T20:42:20.570003",
     "exception": false,
     "start_time": "2020-12-28T20:42:20.435848",
     "status": "completed"
    },
    "tags": []
   },
   "source": [
    "### `Research`"
   ]
  },
  {
   "cell_type": "markdown",
   "metadata": {
    "papermill": {
     "duration": 0.136119,
     "end_time": "2020-12-28T20:42:20.840911",
     "exception": false,
     "start_time": "2020-12-28T20:42:20.704792",
     "status": "completed"
    },
    "tags": []
   },
   "source": [
    "One interesting question would be: How does research experience affects other variables? Do students who have research experience have beeter *CGPA*? Do they have better scores in *TOEFL* or *GRE* (or both)?\n",
    "\n",
    "We can display the same distributions we used in the *Univariate analysis* section, with conditioning on `Research` variable:"
   ]
  },
  {
   "cell_type": "code",
   "execution_count": 67,
   "metadata": {
    "execution": {
     "iopub.execute_input": "2020-12-28T20:42:21.135136Z",
     "iopub.status.busy": "2020-12-28T20:42:21.130330Z",
     "iopub.status.idle": "2020-12-28T20:42:21.197157Z",
     "shell.execute_reply": "2020-12-28T20:42:21.196453Z"
    },
    "papermill": {
     "duration": 0.219288,
     "end_time": "2020-12-28T20:42:21.197278",
     "exception": false,
     "start_time": "2020-12-28T20:42:20.977990",
     "status": "completed"
    },
    "tags": []
   },
   "outputs": [
    {
     "data": {
      "text/html": [
       "<div>                            <div id=\"58eb94ba-e284-4f7a-a6b4-77271a8313a0\" class=\"plotly-graph-div\" style=\"height:525px; width:100%;\"></div>            <script type=\"text/javascript\">                require([\"plotly\"], function(Plotly) {                    window.PLOTLYENV=window.PLOTLYENV || {};                                    if (document.getElementById(\"58eb94ba-e284-4f7a-a6b4-77271a8313a0\")) {                    Plotly.newPlot(                        \"58eb94ba-e284-4f7a-a6b4-77271a8313a0\",                        [{\"alignmentgroup\": \"True\", \"bingroup\": \"x\", \"hovertemplate\": \"Research=True<br>TOEFL Score=%{x}<br>count=%{y}<extra></extra>\", \"legendgroup\": \"True\", \"marker\": {\"color\": \"#636efa\"}, \"name\": \"True\", \"offsetgroup\": \"True\", \"orientation\": \"v\", \"showlegend\": true, \"type\": \"histogram\", \"x\": [110, 98, 99, 110, 106, 100, 99, 112, 99, 98, 97, 101, 97, 102, 100, 103, 110, 106, 105, 100, 110, 118, 112, 112, 113, 116, 106, 101, 98, 97, 105, 107, 105, 105, 104, 95, 100, 107, 114, 95, 105, 107, 110, 101, 107, 105, 100, 114, 115, 106, 104, 110, 108, 100, 111, 106, 104, 116, 113, 106, 108, 104, 102, 107, 110, 107, 110, 109, 104, 110, 105, 111, 107, 104, 110, 102, 110, 106, 111, 109, 110, 114, 107, 109, 110, 111, 109, 112, 105, 102, 120, 113, 107, 112, 110, 107, 105, 108, 98, 99, 104, 110, 109, 106, 109, 104, 106, 107, 112, 103, 106, 102, 110, 103, 110, 100, 103, 112, 113, 107, 101, 101, 100, 103, 102, 104, 101, 109, 107, 112, 104, 101, 114, 112, 116, 116, 116, 113, 116, 112, 103, 111, 117, 112, 116, 101, 118, 112, 119, 114, 110, 99, 110, 114, 113, 105, 113, 116, 105, 110, 110, 102, 107, 112, 106, 113, 118, 116, 106, 109, 120, 110, 109, 114, 110, 113, 111, 111, 119, 113, 108, 111, 110, 117, 119, 107, 111, 112, 118, 111, 111, 116, 115, 108, 120, 109, 112, 120, 112, 108, 115, 110, 112, 112, 107, 112, 107, 111, 113, 110, 102, 112, 111, 109, 119, 117, 115, 110, 110, 118, 101, 112, 114, 115, 111, 119, 114, 120, 117, 108, 115, 115, 108, 118, 116, 119, 120, 114, 112, 110, 113, 118, 119, 110, 108, 113, 114, 119, 114, 117, 111, 113, 118, 115, 112, 111, 110, 114, 118, 120, 120, 116, 111, 116, 112, 115, 116, 104, 117, 116, 113, 114, 119, 117, 118, 114, 113, 115, 116, 107], \"xaxis\": \"x\", \"yaxis\": \"y\"}, {\"alignmentgroup\": \"True\", \"bingroup\": \"x\", \"hovertemplate\": \"Research=False<br>TOEFL Score=%{x}<br>count=%{y}<extra></extra>\", \"legendgroup\": \"False\", \"marker\": {\"color\": \"#EF553B\"}, \"name\": \"False\", \"offsetgroup\": \"False\", \"orientation\": \"v\", \"showlegend\": true, \"type\": \"histogram\", \"x\": [93, 109, 95, 105, 105, 100, 98, 100, 99, 98, 100, 92, 99, 100, 101, 99, 99, 96, 98, 93, 102, 103, 98, 94, 104, 100, 106, 109, 99, 100, 100, 110, 101, 105, 107, 105, 100, 102, 102, 105, 99, 106, 96, 105, 107, 102, 101, 105, 111, 99, 106, 104, 97, 105, 103, 105, 104, 103, 101, 104, 105, 105, 107, 96, 98, 106, 99, 106, 99, 103, 99, 106, 108, 107, 101, 110, 110, 109, 106, 103, 98, 101, 105, 99, 100, 105, 97, 96, 103, 100, 104, 96, 102, 106, 103, 105, 97, 99, 103, 106, 108, 99, 107, 94, 99, 107, 104, 101, 100, 104, 105, 102, 102, 106, 112, 105, 104, 104, 109, 104, 100, 100, 106, 101, 102, 110, 108, 100, 104, 102, 107, 120, 112, 99, 110, 104, 101, 111, 103, 114, 106, 107, 106, 108, 97, 99, 103, 101, 102, 102, 108, 103, 108, 105, 107, 110, 102, 110, 102, 104, 101, 110, 102, 100, 103, 104, 108, 104, 110, 102, 104, 107, 99, 105, 103, 109, 110, 102, 106, 105, 108, 103, 105, 109, 109, 105, 105, 103, 111, 99, 96, 105, 115, 105, 104, 106, 106, 114, 117, 112, 103, 100, 113, 114, 103, 110, 110, 104, 108, 113, 113, 119, 109, 103, 110, 103, 108, 105, 105, 112], \"xaxis\": \"x\", \"yaxis\": \"y\"}],                        {\"barmode\": \"group\", \"legend\": {\"title\": {\"text\": \"Research\"}, \"tracegroupgap\": 0}, \"margin\": {\"t\": 60}, \"template\": {\"data\": {\"bar\": [{\"error_x\": {\"color\": \"#2a3f5f\"}, \"error_y\": {\"color\": \"#2a3f5f\"}, \"marker\": {\"line\": {\"color\": \"#E5ECF6\", \"width\": 0.5}}, \"type\": \"bar\"}], \"barpolar\": [{\"marker\": {\"line\": {\"color\": \"#E5ECF6\", \"width\": 0.5}}, \"type\": \"barpolar\"}], \"carpet\": [{\"aaxis\": {\"endlinecolor\": \"#2a3f5f\", \"gridcolor\": \"white\", \"linecolor\": \"white\", \"minorgridcolor\": \"white\", \"startlinecolor\": \"#2a3f5f\"}, \"baxis\": {\"endlinecolor\": \"#2a3f5f\", \"gridcolor\": \"white\", \"linecolor\": \"white\", \"minorgridcolor\": \"white\", \"startlinecolor\": \"#2a3f5f\"}, \"type\": \"carpet\"}], \"choropleth\": [{\"colorbar\": {\"outlinewidth\": 0, \"ticks\": \"\"}, \"type\": \"choropleth\"}], \"contour\": [{\"colorbar\": {\"outlinewidth\": 0, \"ticks\": \"\"}, \"colorscale\": [[0.0, \"#0d0887\"], [0.1111111111111111, \"#46039f\"], [0.2222222222222222, \"#7201a8\"], [0.3333333333333333, \"#9c179e\"], [0.4444444444444444, \"#bd3786\"], [0.5555555555555556, \"#d8576b\"], [0.6666666666666666, \"#ed7953\"], [0.7777777777777778, \"#fb9f3a\"], [0.8888888888888888, \"#fdca26\"], [1.0, \"#f0f921\"]], \"type\": \"contour\"}], \"contourcarpet\": [{\"colorbar\": {\"outlinewidth\": 0, \"ticks\": \"\"}, \"type\": \"contourcarpet\"}], \"heatmap\": [{\"colorbar\": {\"outlinewidth\": 0, \"ticks\": \"\"}, \"colorscale\": [[0.0, \"#0d0887\"], [0.1111111111111111, \"#46039f\"], [0.2222222222222222, \"#7201a8\"], [0.3333333333333333, \"#9c179e\"], [0.4444444444444444, \"#bd3786\"], [0.5555555555555556, \"#d8576b\"], [0.6666666666666666, \"#ed7953\"], [0.7777777777777778, \"#fb9f3a\"], [0.8888888888888888, \"#fdca26\"], [1.0, \"#f0f921\"]], \"type\": \"heatmap\"}], \"heatmapgl\": [{\"colorbar\": {\"outlinewidth\": 0, \"ticks\": \"\"}, \"colorscale\": [[0.0, \"#0d0887\"], [0.1111111111111111, \"#46039f\"], [0.2222222222222222, \"#7201a8\"], [0.3333333333333333, \"#9c179e\"], [0.4444444444444444, \"#bd3786\"], [0.5555555555555556, \"#d8576b\"], [0.6666666666666666, \"#ed7953\"], [0.7777777777777778, \"#fb9f3a\"], [0.8888888888888888, \"#fdca26\"], [1.0, \"#f0f921\"]], \"type\": \"heatmapgl\"}], \"histogram\": [{\"marker\": {\"colorbar\": {\"outlinewidth\": 0, \"ticks\": \"\"}}, \"type\": \"histogram\"}], \"histogram2d\": [{\"colorbar\": {\"outlinewidth\": 0, \"ticks\": \"\"}, \"colorscale\": [[0.0, \"#0d0887\"], [0.1111111111111111, \"#46039f\"], [0.2222222222222222, \"#7201a8\"], [0.3333333333333333, \"#9c179e\"], [0.4444444444444444, \"#bd3786\"], [0.5555555555555556, \"#d8576b\"], [0.6666666666666666, \"#ed7953\"], [0.7777777777777778, \"#fb9f3a\"], [0.8888888888888888, \"#fdca26\"], [1.0, \"#f0f921\"]], \"type\": \"histogram2d\"}], \"histogram2dcontour\": [{\"colorbar\": {\"outlinewidth\": 0, \"ticks\": \"\"}, \"colorscale\": [[0.0, \"#0d0887\"], [0.1111111111111111, \"#46039f\"], [0.2222222222222222, \"#7201a8\"], [0.3333333333333333, \"#9c179e\"], [0.4444444444444444, \"#bd3786\"], [0.5555555555555556, \"#d8576b\"], [0.6666666666666666, \"#ed7953\"], [0.7777777777777778, \"#fb9f3a\"], [0.8888888888888888, \"#fdca26\"], [1.0, \"#f0f921\"]], \"type\": \"histogram2dcontour\"}], \"mesh3d\": [{\"colorbar\": {\"outlinewidth\": 0, \"ticks\": \"\"}, \"type\": \"mesh3d\"}], \"parcoords\": [{\"line\": {\"colorbar\": {\"outlinewidth\": 0, \"ticks\": \"\"}}, \"type\": \"parcoords\"}], \"pie\": [{\"automargin\": true, \"type\": \"pie\"}], \"scatter\": [{\"marker\": {\"colorbar\": {\"outlinewidth\": 0, \"ticks\": \"\"}}, \"type\": \"scatter\"}], \"scatter3d\": [{\"line\": {\"colorbar\": {\"outlinewidth\": 0, \"ticks\": \"\"}}, \"marker\": {\"colorbar\": {\"outlinewidth\": 0, \"ticks\": \"\"}}, \"type\": \"scatter3d\"}], \"scattercarpet\": [{\"marker\": {\"colorbar\": {\"outlinewidth\": 0, \"ticks\": \"\"}}, \"type\": \"scattercarpet\"}], \"scattergeo\": [{\"marker\": {\"colorbar\": {\"outlinewidth\": 0, \"ticks\": \"\"}}, \"type\": \"scattergeo\"}], \"scattergl\": [{\"marker\": {\"colorbar\": {\"outlinewidth\": 0, \"ticks\": \"\"}}, \"type\": \"scattergl\"}], \"scattermapbox\": [{\"marker\": {\"colorbar\": {\"outlinewidth\": 0, \"ticks\": \"\"}}, \"type\": \"scattermapbox\"}], \"scatterpolar\": [{\"marker\": {\"colorbar\": {\"outlinewidth\": 0, \"ticks\": \"\"}}, \"type\": \"scatterpolar\"}], \"scatterpolargl\": [{\"marker\": {\"colorbar\": {\"outlinewidth\": 0, \"ticks\": \"\"}}, \"type\": \"scatterpolargl\"}], \"scatterternary\": [{\"marker\": {\"colorbar\": {\"outlinewidth\": 0, \"ticks\": \"\"}}, \"type\": \"scatterternary\"}], \"surface\": [{\"colorbar\": {\"outlinewidth\": 0, \"ticks\": \"\"}, \"colorscale\": [[0.0, \"#0d0887\"], [0.1111111111111111, \"#46039f\"], [0.2222222222222222, \"#7201a8\"], [0.3333333333333333, \"#9c179e\"], [0.4444444444444444, \"#bd3786\"], [0.5555555555555556, \"#d8576b\"], [0.6666666666666666, \"#ed7953\"], [0.7777777777777778, \"#fb9f3a\"], [0.8888888888888888, \"#fdca26\"], [1.0, \"#f0f921\"]], \"type\": \"surface\"}], \"table\": [{\"cells\": {\"fill\": {\"color\": \"#EBF0F8\"}, \"line\": {\"color\": \"white\"}}, \"header\": {\"fill\": {\"color\": \"#C8D4E3\"}, \"line\": {\"color\": \"white\"}}, \"type\": \"table\"}]}, \"layout\": {\"annotationdefaults\": {\"arrowcolor\": \"#2a3f5f\", \"arrowhead\": 0, \"arrowwidth\": 1}, \"autotypenumbers\": \"strict\", \"coloraxis\": {\"colorbar\": {\"outlinewidth\": 0, \"ticks\": \"\"}}, \"colorscale\": {\"diverging\": [[0, \"#8e0152\"], [0.1, \"#c51b7d\"], [0.2, \"#de77ae\"], [0.3, \"#f1b6da\"], [0.4, \"#fde0ef\"], [0.5, \"#f7f7f7\"], [0.6, \"#e6f5d0\"], [0.7, \"#b8e186\"], [0.8, \"#7fbc41\"], [0.9, \"#4d9221\"], [1, \"#276419\"]], \"sequential\": [[0.0, \"#0d0887\"], [0.1111111111111111, \"#46039f\"], [0.2222222222222222, \"#7201a8\"], [0.3333333333333333, \"#9c179e\"], [0.4444444444444444, \"#bd3786\"], [0.5555555555555556, \"#d8576b\"], [0.6666666666666666, \"#ed7953\"], [0.7777777777777778, \"#fb9f3a\"], [0.8888888888888888, \"#fdca26\"], [1.0, \"#f0f921\"]], \"sequentialminus\": [[0.0, \"#0d0887\"], [0.1111111111111111, \"#46039f\"], [0.2222222222222222, \"#7201a8\"], [0.3333333333333333, \"#9c179e\"], [0.4444444444444444, \"#bd3786\"], [0.5555555555555556, \"#d8576b\"], [0.6666666666666666, \"#ed7953\"], [0.7777777777777778, \"#fb9f3a\"], [0.8888888888888888, \"#fdca26\"], [1.0, \"#f0f921\"]]}, \"colorway\": [\"#636efa\", \"#EF553B\", \"#00cc96\", \"#ab63fa\", \"#FFA15A\", \"#19d3f3\", \"#FF6692\", \"#B6E880\", \"#FF97FF\", \"#FECB52\"], \"font\": {\"color\": \"#2a3f5f\"}, \"geo\": {\"bgcolor\": \"white\", \"lakecolor\": \"white\", \"landcolor\": \"#E5ECF6\", \"showlakes\": true, \"showland\": true, \"subunitcolor\": \"white\"}, \"hoverlabel\": {\"align\": \"left\"}, \"hovermode\": \"closest\", \"mapbox\": {\"style\": \"light\"}, \"paper_bgcolor\": \"white\", \"plot_bgcolor\": \"#E5ECF6\", \"polar\": {\"angularaxis\": {\"gridcolor\": \"white\", \"linecolor\": \"white\", \"ticks\": \"\"}, \"bgcolor\": \"#E5ECF6\", \"radialaxis\": {\"gridcolor\": \"white\", \"linecolor\": \"white\", \"ticks\": \"\"}}, \"scene\": {\"xaxis\": {\"backgroundcolor\": \"#E5ECF6\", \"gridcolor\": \"white\", \"gridwidth\": 2, \"linecolor\": \"white\", \"showbackground\": true, \"ticks\": \"\", \"zerolinecolor\": \"white\"}, \"yaxis\": {\"backgroundcolor\": \"#E5ECF6\", \"gridcolor\": \"white\", \"gridwidth\": 2, \"linecolor\": \"white\", \"showbackground\": true, \"ticks\": \"\", \"zerolinecolor\": \"white\"}, \"zaxis\": {\"backgroundcolor\": \"#E5ECF6\", \"gridcolor\": \"white\", \"gridwidth\": 2, \"linecolor\": \"white\", \"showbackground\": true, \"ticks\": \"\", \"zerolinecolor\": \"white\"}}, \"shapedefaults\": {\"line\": {\"color\": \"#2a3f5f\"}}, \"ternary\": {\"aaxis\": {\"gridcolor\": \"white\", \"linecolor\": \"white\", \"ticks\": \"\"}, \"baxis\": {\"gridcolor\": \"white\", \"linecolor\": \"white\", \"ticks\": \"\"}, \"bgcolor\": \"#E5ECF6\", \"caxis\": {\"gridcolor\": \"white\", \"linecolor\": \"white\", \"ticks\": \"\"}}, \"title\": {\"x\": 0.05}, \"xaxis\": {\"automargin\": true, \"gridcolor\": \"white\", \"linecolor\": \"white\", \"ticks\": \"\", \"title\": {\"standoff\": 15}, \"zerolinecolor\": \"white\", \"zerolinewidth\": 2}, \"yaxis\": {\"automargin\": true, \"gridcolor\": \"white\", \"linecolor\": \"white\", \"ticks\": \"\", \"title\": {\"standoff\": 15}, \"zerolinecolor\": \"white\", \"zerolinewidth\": 2}}}, \"xaxis\": {\"anchor\": \"y\", \"domain\": [0.0, 1.0], \"title\": {\"text\": \"TOEFL Score\"}}, \"yaxis\": {\"anchor\": \"x\", \"domain\": [0.0, 1.0], \"title\": {\"text\": \"count\"}}},                        {\"responsive\": true}                    ).then(function(){\n",
       "                            \n",
       "var gd = document.getElementById('58eb94ba-e284-4f7a-a6b4-77271a8313a0');\n",
       "var x = new MutationObserver(function (mutations, observer) {{\n",
       "        var display = window.getComputedStyle(gd).display;\n",
       "        if (!display || display === 'none') {{\n",
       "            console.log([gd, 'removed!']);\n",
       "            Plotly.purge(gd);\n",
       "            observer.disconnect();\n",
       "        }}\n",
       "}});\n",
       "\n",
       "// Listen for the removal of the full notebook cells\n",
       "var notebookContainer = gd.closest('#notebook-container');\n",
       "if (notebookContainer) {{\n",
       "    x.observe(notebookContainer, {childList: true});\n",
       "}}\n",
       "\n",
       "// Listen for the clearing of the current output cell\n",
       "var outputEl = gd.closest('.output');\n",
       "if (outputEl) {{\n",
       "    x.observe(outputEl, {childList: true});\n",
       "}}\n",
       "\n",
       "                        })                };                });            </script>        </div>"
      ]
     },
     "metadata": {},
     "output_type": "display_data"
    }
   ],
   "source": [
    "px.histogram(data_frame=df, x=\"TOEFL Score\", color=\"Research\", barmode=\"group\")"
   ]
  },
  {
   "cell_type": "code",
   "execution_count": 68,
   "metadata": {
    "execution": {
     "iopub.execute_input": "2020-12-28T20:42:21.485424Z",
     "iopub.status.busy": "2020-12-28T20:42:21.484358Z",
     "iopub.status.idle": "2020-12-28T20:42:21.547549Z",
     "shell.execute_reply": "2020-12-28T20:42:21.546531Z"
    },
    "papermill": {
     "duration": 0.215802,
     "end_time": "2020-12-28T20:42:21.547667",
     "exception": false,
     "start_time": "2020-12-28T20:42:21.331865",
     "status": "completed"
    },
    "tags": []
   },
   "outputs": [
    {
     "data": {
      "text/html": [
       "<div>                            <div id=\"eb22874c-378d-41d2-a91b-938d22150fc3\" class=\"plotly-graph-div\" style=\"height:525px; width:100%;\"></div>            <script type=\"text/javascript\">                require([\"plotly\"], function(Plotly) {                    window.PLOTLYENV=window.PLOTLYENV || {};                                    if (document.getElementById(\"eb22874c-378d-41d2-a91b-938d22150fc3\")) {                    Plotly.newPlot(                        \"eb22874c-378d-41d2-a91b-938d22150fc3\",                        [{\"alignmentgroup\": \"True\", \"bingroup\": \"x\", \"hovertemplate\": \"Research=True<br>GRE Score=%{x}<br>count=%{y}<extra></extra>\", \"legendgroup\": \"True\", \"marker\": {\"color\": \"#636efa\"}, \"name\": \"True\", \"offsetgroup\": \"True\", \"orientation\": \"v\", \"showlegend\": true, \"type\": \"histogram\", \"x\": [318, 301, 312, 310, 317, 312, 300, 332, 311, 312, 301, 316, 293, 308, 318, 308, 325, 311, 306, 316, 329, 332, 320, 325, 320, 326, 318, 311, 298, 300, 316, 313, 311, 307, 301, 300, 303, 307, 329, 296, 322, 316, 315, 312, 315, 304, 312, 325, 324, 319, 320, 324, 320, 324, 324, 317, 323, 326, 327, 308, 319, 320, 313, 312, 326, 318, 322, 327, 320, 324, 319, 324, 314, 322, 322, 311, 317, 312, 321, 321, 324, 330, 323, 321, 323, 321, 318, 327, 312, 301, 331, 323, 322, 326, 316, 301, 311, 320, 313, 301, 316, 322, 321, 325, 307, 311, 319, 312, 322, 327, 317, 321, 308, 318, 321, 300, 319, 319, 323, 317, 317, 297, 298, 317, 310, 301, 311, 324, 325, 321, 311, 310, 326, 326, 334, 331, 328, 324, 330, 326, 322, 329, 333, 324, 330, 298, 327, 320, 336, 330, 324, 314, 323, 326, 340, 319, 329, 327, 308, 321, 325, 314, 323, 322, 327, 328, 337, 339, 310, 314, 340, 325, 321, 334, 322, 323, 321, 320, 329, 327, 325, 329, 328, 338, 332, 324, 327, 328, 338, 327, 329, 334, 328, 314, 340, 316, 324, 338, 340, 328, 335, 328, 324, 325, 312, 325, 311, 324, 327, 324, 326, 322, 325, 321, 331, 331, 340, 320, 320, 332, 318, 336, 324, 322, 321, 333, 329, 330, 337, 332, 338, 330, 323, 332, 328, 334, 340, 340, 331, 320, 326, 336, 336, 322, 327, 329, 325, 334, 329, 334, 326, 330, 335, 331, 324, 324, 323, 322, 336, 340, 334, 330, 323, 331, 321, 340, 331, 327, 335, 328, 324, 321, 334, 335, 333, 339, 333, 331, 332, 324], \"xaxis\": \"x\", \"yaxis\": \"y\"}, {\"alignmentgroup\": \"True\", \"bingroup\": \"x\", \"hovertemplate\": \"Research=False<br>GRE Score=%{x}<br>count=%{y}<extra></extra>\", \"legendgroup\": \"False\", \"marker\": {\"color\": \"#EF553B\"}, \"name\": \"False\", \"offsetgroup\": \"False\", \"orientation\": \"v\", \"showlegend\": true, \"type\": \"histogram\", \"x\": [295, 318, 294, 300, 304, 315, 311, 290, 300, 303, 299, 298, 298, 297, 296, 295, 302, 301, 316, 294, 302, 315, 300, 299, 317, 306, 316, 312, 296, 299, 317, 320, 304, 315, 314, 307, 299, 305, 300, 312, 302, 314, 297, 310, 321, 304, 302, 307, 309, 316, 306, 309, 296, 312, 316, 314, 305, 308, 320, 311, 312, 309, 305, 299, 298, 309, 310, 305, 315, 306, 295, 299, 307, 312, 295, 312, 306, 308, 317, 314, 297, 308, 305, 296, 304, 315, 304, 295, 305, 304, 317, 297, 305, 310, 310, 306, 298, 301, 317, 313, 319, 311, 317, 313, 298, 314, 308, 298, 309, 311, 305, 316, 314, 318, 318, 316, 313, 310, 313, 315, 299, 301, 308, 313, 300, 319, 312, 300, 312, 313, 310, 320, 305, 309, 316, 312, 307, 325, 311, 327, 314, 304, 315, 314, 299, 303, 313, 315, 299, 316, 308, 320, 323, 314, 317, 318, 303, 302, 319, 304, 300, 322, 313, 299, 316, 315, 309, 300, 314, 302, 311, 313, 302, 298, 312, 316, 319, 307, 312, 324, 326, 312, 315, 318, 312, 315, 317, 306, 316, 297, 305, 307, 327, 309, 290, 310, 301, 325, 332, 325, 319, 304, 327, 321, 312, 308, 307, 314, 308, 327, 324, 339, 322, 304, 322, 304, 305, 303, 309, 323], \"xaxis\": \"x\", \"yaxis\": \"y\"}],                        {\"barmode\": \"group\", \"legend\": {\"title\": {\"text\": \"Research\"}, \"tracegroupgap\": 0}, \"margin\": {\"t\": 60}, \"template\": {\"data\": {\"bar\": [{\"error_x\": {\"color\": \"#2a3f5f\"}, \"error_y\": {\"color\": \"#2a3f5f\"}, \"marker\": {\"line\": {\"color\": \"#E5ECF6\", \"width\": 0.5}}, \"type\": \"bar\"}], \"barpolar\": [{\"marker\": {\"line\": {\"color\": \"#E5ECF6\", \"width\": 0.5}}, \"type\": \"barpolar\"}], \"carpet\": [{\"aaxis\": {\"endlinecolor\": \"#2a3f5f\", \"gridcolor\": \"white\", \"linecolor\": \"white\", \"minorgridcolor\": \"white\", \"startlinecolor\": \"#2a3f5f\"}, \"baxis\": {\"endlinecolor\": \"#2a3f5f\", \"gridcolor\": \"white\", \"linecolor\": \"white\", \"minorgridcolor\": \"white\", \"startlinecolor\": \"#2a3f5f\"}, \"type\": \"carpet\"}], \"choropleth\": [{\"colorbar\": {\"outlinewidth\": 0, \"ticks\": \"\"}, \"type\": \"choropleth\"}], \"contour\": [{\"colorbar\": {\"outlinewidth\": 0, \"ticks\": \"\"}, \"colorscale\": [[0.0, \"#0d0887\"], [0.1111111111111111, \"#46039f\"], [0.2222222222222222, \"#7201a8\"], [0.3333333333333333, \"#9c179e\"], [0.4444444444444444, \"#bd3786\"], [0.5555555555555556, \"#d8576b\"], [0.6666666666666666, \"#ed7953\"], [0.7777777777777778, \"#fb9f3a\"], [0.8888888888888888, \"#fdca26\"], [1.0, \"#f0f921\"]], \"type\": \"contour\"}], \"contourcarpet\": [{\"colorbar\": {\"outlinewidth\": 0, \"ticks\": \"\"}, \"type\": \"contourcarpet\"}], \"heatmap\": [{\"colorbar\": {\"outlinewidth\": 0, \"ticks\": \"\"}, \"colorscale\": [[0.0, \"#0d0887\"], [0.1111111111111111, \"#46039f\"], [0.2222222222222222, \"#7201a8\"], [0.3333333333333333, \"#9c179e\"], [0.4444444444444444, \"#bd3786\"], [0.5555555555555556, \"#d8576b\"], [0.6666666666666666, \"#ed7953\"], [0.7777777777777778, \"#fb9f3a\"], [0.8888888888888888, \"#fdca26\"], [1.0, \"#f0f921\"]], \"type\": \"heatmap\"}], \"heatmapgl\": [{\"colorbar\": {\"outlinewidth\": 0, \"ticks\": \"\"}, \"colorscale\": [[0.0, \"#0d0887\"], [0.1111111111111111, \"#46039f\"], [0.2222222222222222, \"#7201a8\"], [0.3333333333333333, \"#9c179e\"], [0.4444444444444444, \"#bd3786\"], [0.5555555555555556, \"#d8576b\"], [0.6666666666666666, \"#ed7953\"], [0.7777777777777778, \"#fb9f3a\"], [0.8888888888888888, \"#fdca26\"], [1.0, \"#f0f921\"]], \"type\": \"heatmapgl\"}], \"histogram\": [{\"marker\": {\"colorbar\": {\"outlinewidth\": 0, \"ticks\": \"\"}}, \"type\": \"histogram\"}], \"histogram2d\": [{\"colorbar\": {\"outlinewidth\": 0, \"ticks\": \"\"}, \"colorscale\": [[0.0, \"#0d0887\"], [0.1111111111111111, \"#46039f\"], [0.2222222222222222, \"#7201a8\"], [0.3333333333333333, \"#9c179e\"], [0.4444444444444444, \"#bd3786\"], [0.5555555555555556, \"#d8576b\"], [0.6666666666666666, \"#ed7953\"], [0.7777777777777778, \"#fb9f3a\"], [0.8888888888888888, \"#fdca26\"], [1.0, \"#f0f921\"]], \"type\": \"histogram2d\"}], \"histogram2dcontour\": [{\"colorbar\": {\"outlinewidth\": 0, \"ticks\": \"\"}, \"colorscale\": [[0.0, \"#0d0887\"], [0.1111111111111111, \"#46039f\"], [0.2222222222222222, \"#7201a8\"], [0.3333333333333333, \"#9c179e\"], [0.4444444444444444, \"#bd3786\"], [0.5555555555555556, \"#d8576b\"], [0.6666666666666666, \"#ed7953\"], [0.7777777777777778, \"#fb9f3a\"], [0.8888888888888888, \"#fdca26\"], [1.0, \"#f0f921\"]], \"type\": \"histogram2dcontour\"}], \"mesh3d\": [{\"colorbar\": {\"outlinewidth\": 0, \"ticks\": \"\"}, \"type\": \"mesh3d\"}], \"parcoords\": [{\"line\": {\"colorbar\": {\"outlinewidth\": 0, \"ticks\": \"\"}}, \"type\": \"parcoords\"}], \"pie\": [{\"automargin\": true, \"type\": \"pie\"}], \"scatter\": [{\"marker\": {\"colorbar\": {\"outlinewidth\": 0, \"ticks\": \"\"}}, \"type\": \"scatter\"}], \"scatter3d\": [{\"line\": {\"colorbar\": {\"outlinewidth\": 0, \"ticks\": \"\"}}, \"marker\": {\"colorbar\": {\"outlinewidth\": 0, \"ticks\": \"\"}}, \"type\": \"scatter3d\"}], \"scattercarpet\": [{\"marker\": {\"colorbar\": {\"outlinewidth\": 0, \"ticks\": \"\"}}, \"type\": \"scattercarpet\"}], \"scattergeo\": [{\"marker\": {\"colorbar\": {\"outlinewidth\": 0, \"ticks\": \"\"}}, \"type\": \"scattergeo\"}], \"scattergl\": [{\"marker\": {\"colorbar\": {\"outlinewidth\": 0, \"ticks\": \"\"}}, \"type\": \"scattergl\"}], \"scattermapbox\": [{\"marker\": {\"colorbar\": {\"outlinewidth\": 0, \"ticks\": \"\"}}, \"type\": \"scattermapbox\"}], \"scatterpolar\": [{\"marker\": {\"colorbar\": {\"outlinewidth\": 0, \"ticks\": \"\"}}, \"type\": \"scatterpolar\"}], \"scatterpolargl\": [{\"marker\": {\"colorbar\": {\"outlinewidth\": 0, \"ticks\": \"\"}}, \"type\": \"scatterpolargl\"}], \"scatterternary\": [{\"marker\": {\"colorbar\": {\"outlinewidth\": 0, \"ticks\": \"\"}}, \"type\": \"scatterternary\"}], \"surface\": [{\"colorbar\": {\"outlinewidth\": 0, \"ticks\": \"\"}, \"colorscale\": [[0.0, \"#0d0887\"], [0.1111111111111111, \"#46039f\"], [0.2222222222222222, \"#7201a8\"], [0.3333333333333333, \"#9c179e\"], [0.4444444444444444, \"#bd3786\"], [0.5555555555555556, \"#d8576b\"], [0.6666666666666666, \"#ed7953\"], [0.7777777777777778, \"#fb9f3a\"], [0.8888888888888888, \"#fdca26\"], [1.0, \"#f0f921\"]], \"type\": \"surface\"}], \"table\": [{\"cells\": {\"fill\": {\"color\": \"#EBF0F8\"}, \"line\": {\"color\": \"white\"}}, \"header\": {\"fill\": {\"color\": \"#C8D4E3\"}, \"line\": {\"color\": \"white\"}}, \"type\": \"table\"}]}, \"layout\": {\"annotationdefaults\": {\"arrowcolor\": \"#2a3f5f\", \"arrowhead\": 0, \"arrowwidth\": 1}, \"autotypenumbers\": \"strict\", \"coloraxis\": {\"colorbar\": {\"outlinewidth\": 0, \"ticks\": \"\"}}, \"colorscale\": {\"diverging\": [[0, \"#8e0152\"], [0.1, \"#c51b7d\"], [0.2, \"#de77ae\"], [0.3, \"#f1b6da\"], [0.4, \"#fde0ef\"], [0.5, \"#f7f7f7\"], [0.6, \"#e6f5d0\"], [0.7, \"#b8e186\"], [0.8, \"#7fbc41\"], [0.9, \"#4d9221\"], [1, \"#276419\"]], \"sequential\": [[0.0, \"#0d0887\"], [0.1111111111111111, \"#46039f\"], [0.2222222222222222, \"#7201a8\"], [0.3333333333333333, \"#9c179e\"], [0.4444444444444444, \"#bd3786\"], [0.5555555555555556, \"#d8576b\"], [0.6666666666666666, \"#ed7953\"], [0.7777777777777778, \"#fb9f3a\"], [0.8888888888888888, \"#fdca26\"], [1.0, \"#f0f921\"]], \"sequentialminus\": [[0.0, \"#0d0887\"], [0.1111111111111111, \"#46039f\"], [0.2222222222222222, \"#7201a8\"], [0.3333333333333333, \"#9c179e\"], [0.4444444444444444, \"#bd3786\"], [0.5555555555555556, \"#d8576b\"], [0.6666666666666666, \"#ed7953\"], [0.7777777777777778, \"#fb9f3a\"], [0.8888888888888888, \"#fdca26\"], [1.0, \"#f0f921\"]]}, \"colorway\": [\"#636efa\", \"#EF553B\", \"#00cc96\", \"#ab63fa\", \"#FFA15A\", \"#19d3f3\", \"#FF6692\", \"#B6E880\", \"#FF97FF\", \"#FECB52\"], \"font\": {\"color\": \"#2a3f5f\"}, \"geo\": {\"bgcolor\": \"white\", \"lakecolor\": \"white\", \"landcolor\": \"#E5ECF6\", \"showlakes\": true, \"showland\": true, \"subunitcolor\": \"white\"}, \"hoverlabel\": {\"align\": \"left\"}, \"hovermode\": \"closest\", \"mapbox\": {\"style\": \"light\"}, \"paper_bgcolor\": \"white\", \"plot_bgcolor\": \"#E5ECF6\", \"polar\": {\"angularaxis\": {\"gridcolor\": \"white\", \"linecolor\": \"white\", \"ticks\": \"\"}, \"bgcolor\": \"#E5ECF6\", \"radialaxis\": {\"gridcolor\": \"white\", \"linecolor\": \"white\", \"ticks\": \"\"}}, \"scene\": {\"xaxis\": {\"backgroundcolor\": \"#E5ECF6\", \"gridcolor\": \"white\", \"gridwidth\": 2, \"linecolor\": \"white\", \"showbackground\": true, \"ticks\": \"\", \"zerolinecolor\": \"white\"}, \"yaxis\": {\"backgroundcolor\": \"#E5ECF6\", \"gridcolor\": \"white\", \"gridwidth\": 2, \"linecolor\": \"white\", \"showbackground\": true, \"ticks\": \"\", \"zerolinecolor\": \"white\"}, \"zaxis\": {\"backgroundcolor\": \"#E5ECF6\", \"gridcolor\": \"white\", \"gridwidth\": 2, \"linecolor\": \"white\", \"showbackground\": true, \"ticks\": \"\", \"zerolinecolor\": \"white\"}}, \"shapedefaults\": {\"line\": {\"color\": \"#2a3f5f\"}}, \"ternary\": {\"aaxis\": {\"gridcolor\": \"white\", \"linecolor\": \"white\", \"ticks\": \"\"}, \"baxis\": {\"gridcolor\": \"white\", \"linecolor\": \"white\", \"ticks\": \"\"}, \"bgcolor\": \"#E5ECF6\", \"caxis\": {\"gridcolor\": \"white\", \"linecolor\": \"white\", \"ticks\": \"\"}}, \"title\": {\"x\": 0.05}, \"xaxis\": {\"automargin\": true, \"gridcolor\": \"white\", \"linecolor\": \"white\", \"ticks\": \"\", \"title\": {\"standoff\": 15}, \"zerolinecolor\": \"white\", \"zerolinewidth\": 2}, \"yaxis\": {\"automargin\": true, \"gridcolor\": \"white\", \"linecolor\": \"white\", \"ticks\": \"\", \"title\": {\"standoff\": 15}, \"zerolinecolor\": \"white\", \"zerolinewidth\": 2}}}, \"xaxis\": {\"anchor\": \"y\", \"domain\": [0.0, 1.0], \"title\": {\"text\": \"GRE Score\"}}, \"yaxis\": {\"anchor\": \"x\", \"domain\": [0.0, 1.0], \"title\": {\"text\": \"count\"}}},                        {\"responsive\": true}                    ).then(function(){\n",
       "                            \n",
       "var gd = document.getElementById('eb22874c-378d-41d2-a91b-938d22150fc3');\n",
       "var x = new MutationObserver(function (mutations, observer) {{\n",
       "        var display = window.getComputedStyle(gd).display;\n",
       "        if (!display || display === 'none') {{\n",
       "            console.log([gd, 'removed!']);\n",
       "            Plotly.purge(gd);\n",
       "            observer.disconnect();\n",
       "        }}\n",
       "}});\n",
       "\n",
       "// Listen for the removal of the full notebook cells\n",
       "var notebookContainer = gd.closest('#notebook-container');\n",
       "if (notebookContainer) {{\n",
       "    x.observe(notebookContainer, {childList: true});\n",
       "}}\n",
       "\n",
       "// Listen for the clearing of the current output cell\n",
       "var outputEl = gd.closest('.output');\n",
       "if (outputEl) {{\n",
       "    x.observe(outputEl, {childList: true});\n",
       "}}\n",
       "\n",
       "                        })                };                });            </script>        </div>"
      ]
     },
     "metadata": {},
     "output_type": "display_data"
    }
   ],
   "source": [
    "px.histogram(data_frame=df, x=\"GRE Score\", color=\"Research\", barmode=\"group\")"
   ]
  },
  {
   "cell_type": "code",
   "execution_count": 69,
   "metadata": {
    "execution": {
     "iopub.execute_input": "2020-12-28T20:42:21.867536Z",
     "iopub.status.busy": "2020-12-28T20:42:21.837353Z",
     "iopub.status.idle": "2020-12-28T20:42:21.905151Z",
     "shell.execute_reply": "2020-12-28T20:42:21.904506Z"
    },
    "papermill": {
     "duration": 0.221982,
     "end_time": "2020-12-28T20:42:21.905281",
     "exception": false,
     "start_time": "2020-12-28T20:42:21.683299",
     "status": "completed"
    },
    "tags": []
   },
   "outputs": [
    {
     "data": {
      "text/html": [
       "<div>                            <div id=\"267b5416-464c-4056-9c92-0d0a957a060b\" class=\"plotly-graph-div\" style=\"height:525px; width:100%;\"></div>            <script type=\"text/javascript\">                require([\"plotly\"], function(Plotly) {                    window.PLOTLYENV=window.PLOTLYENV || {};                                    if (document.getElementById(\"267b5416-464c-4056-9c92-0d0a957a060b\")) {                    Plotly.newPlot(                        \"267b5416-464c-4056-9c92-0d0a957a060b\",                        [{\"alignmentgroup\": \"True\", \"bingroup\": \"x\", \"hovertemplate\": \"Research=True<br>CGPA=%{x}<br>count=%{y}<extra></extra>\", \"legendgroup\": \"True\", \"marker\": {\"color\": \"#636efa\"}, \"name\": \"True\", \"offsetgroup\": \"True\", \"orientation\": \"v\", \"showlegend\": true, \"type\": \"histogram\", \"x\": [8.54, 8.03, 8.01, 7.23, 7.65, 8.53, 6.8, 8.66, 8.43, 8.18, 7.88, 8.32, 7.8, 7.98, 8.54, 8.36, 8.76, 8.26, 8.22, 8.16, 9.15, 9.36, 8.78, 8.96, 8.64, 9.08, 7.92, 8.34, 7.5, 8.1, 8.2, 8.5, 8.12, 8.12, 7.89, 8.22, 8.06, 8.52, 8.56, 7.54, 8.45, 8.64, 8.46, 8.04, 8.5, 8.2, 7.9, 9.04, 8.76, 8.33, 8.57, 8.87, 8.44, 8.64, 8.8, 8.5, 8.44, 9.14, 8.66, 8.21, 8.54, 8.34, 8.9, 8.46, 8.76, 8.27, 8.64, 8.77, 8.74, 9.22, 8.67, 8.79, 8.17, 8.84, 8.96, 8.64, 9.11, 8.79, 8.9, 8.54, 9.04, 9.24, 8.55, 8.8, 9.1, 8.83, 9.22, 8.72, 8.02, 8.13, 8.96, 8.88, 8.46, 9.05, 8.78, 8.34, 8.45, 8.97, 8.3, 8.45, 8.0, 8.67, 8.2, 8.4, 8.0, 8.2, 8.0, 7.9, 8.62, 8.3, 7.89, 9.01, 8.0, 8.49, 8.85, 8.66, 8.76, 8.71, 9.32, 8.68, 7.94, 7.67, 7.95, 8.54, 8.02, 8.12, 7.64, 8.94, 9.11, 8.95, 8.13, 8.65, 9.11, 9.1, 9.54, 9.44, 9.6, 9.25, 9.45, 9.12, 8.02, 9.23, 9.66, 9.22, 9.23, 7.69, 9.67, 8.86, 9.62, 9.17, 9.15, 8.73, 8.88, 9.16, 9.74, 8.66, 9.36, 9.48, 7.95, 8.35, 8.96, 7.88, 8.48, 9.02, 8.75, 8.77, 9.65, 9.8, 9.04, 8.77, 9.92, 8.67, 8.68, 9.43, 9.13, 9.23, 8.97, 8.87, 9.16, 9.11, 9.06, 9.01, 9.14, 9.46, 9.24, 8.87, 9.0, 9.1, 9.4, 8.4, 9.18, 8.0, 9.16, 9.04, 9.5, 8.76, 8.1, 9.66, 9.66, 9.18, 9.68, 9.02, 8.77, 9.0, 8.65, 9.17, 9.0, 9.01, 8.69, 8.97, 8.76, 9.26, 9.11, 9.13, 9.34, 9.42, 9.45, 9.22, 9.27, 9.64, 8.78, 9.76, 9.08, 9.36, 9.45, 9.78, 9.3, 9.56, 9.87, 9.02, 9.23, 9.34, 8.74, 9.47, 9.5, 9.7, 9.6, 9.6, 9.8, 9.2, 9.4, 9.19, 9.8, 9.1, 9.13, 9.45, 9.46, 9.54, 9.19, 9.07, 9.23, 9.31, 9.44, 9.36, 9.08, 9.16, 8.98, 8.94, 9.53, 9.91, 9.87, 9.36, 9.86, 9.26, 9.06, 9.06, 9.38, 8.84, 9.56, 9.08, 9.25, 9.16, 9.48, 9.82, 9.35, 9.76, 9.28, 9.44, 9.28, 8.66], \"xaxis\": \"x\", \"yaxis\": \"y\"}, {\"alignmentgroup\": \"True\", \"bingroup\": \"x\", \"hovertemplate\": \"Research=False<br>CGPA=%{x}<br>count=%{y}<extra></extra>\", \"legendgroup\": \"False\", \"marker\": {\"color\": \"#EF553B\"}, \"name\": \"False\", \"offsetgroup\": \"False\", \"orientation\": \"v\", \"showlegend\": true, \"type\": \"histogram\", \"x\": [7.2, 9.12, 7.64, 7.8, 7.5, 7.95, 7.46, 7.56, 8.01, 7.65, 7.89, 7.88, 7.46, 7.9, 7.68, 7.57, 7.25, 7.56, 7.43, 7.36, 8.0, 7.86, 8.02, 7.34, 8.47, 8.0, 8.32, 9.02, 7.28, 7.88, 8.57, 8.56, 7.66, 7.65, 8.56, 7.65, 7.88, 7.64, 7.87, 8.12, 7.97, 8.25, 7.43, 8.01, 8.44, 8.73, 7.96, 8.1, 8.03, 9.0, 8.14, 8.26, 7.8, 8.45, 8.74, 7.64, 7.79, 8.49, 8.62, 8.48, 8.46, 7.68, 8.42, 7.86, 8.03, 8.0, 7.3, 8.16, 7.89, 8.36, 7.65, 8.4, 7.7, 8.27, 7.86, 8.53, 8.45, 8.45, 8.12, 8.21, 7.67, 7.9, 8.23, 8.03, 8.22, 8.34, 7.64, 7.34, 8.13, 8.07, 8.76, 7.89, 8.18, 8.33, 8.24, 8.26, 7.21, 8.22, 8.15, 8.43, 8.76, 7.98, 8.28, 8.13, 7.6, 8.27, 8.07, 7.86, 8.1, 8.3, 8.13, 8.15, 8.24, 8.65, 8.67, 8.73, 8.65, 8.37, 9.0, 8.33, 8.02, 8.04, 8.24, 8.04, 8.17, 8.79, 8.53, 8.26, 8.09, 8.68, 8.67, 9.11, 8.65, 8.56, 8.56, 8.42, 8.2, 8.7, 8.09, 9.02, 8.9, 7.86, 8.42, 8.14, 7.66, 7.66, 8.75, 9.13, 8.62, 7.4, 8.22, 7.7, 8.6, 8.3, 8.7, 8.8, 8.5, 8.5, 8.37, 8.12, 7.88, 8.0, 8.27, 7.42, 7.68, 8.1, 8.12, 8.16, 8.8, 8.33, 8.43, 8.69, 7.45, 8.54, 8.78, 8.76, 9.04, 8.27, 8.57, 8.75, 8.89, 8.45, 8.34, 8.5, 8.69, 8.48, 8.56, 8.21, 8.54, 7.81, 8.26, 7.94, 9.14, 8.18, 7.46, 8.36, 8.47, 8.4, 9.1, 8.92, 8.66, 7.84, 9.04, 9.12, 8.43, 8.6, 8.37, 9.02, 8.34, 9.14, 8.79, 9.7, 8.8, 7.92, 8.97, 8.64, 8.48, 8.65, 8.56, 8.78], \"xaxis\": \"x\", \"yaxis\": \"y\"}],                        {\"barmode\": \"group\", \"legend\": {\"title\": {\"text\": \"Research\"}, \"tracegroupgap\": 0}, \"margin\": {\"t\": 60}, \"template\": {\"data\": {\"bar\": [{\"error_x\": {\"color\": \"#2a3f5f\"}, \"error_y\": {\"color\": \"#2a3f5f\"}, \"marker\": {\"line\": {\"color\": \"#E5ECF6\", \"width\": 0.5}}, \"type\": \"bar\"}], \"barpolar\": [{\"marker\": {\"line\": {\"color\": \"#E5ECF6\", \"width\": 0.5}}, \"type\": \"barpolar\"}], \"carpet\": [{\"aaxis\": {\"endlinecolor\": \"#2a3f5f\", \"gridcolor\": \"white\", \"linecolor\": \"white\", \"minorgridcolor\": \"white\", \"startlinecolor\": \"#2a3f5f\"}, \"baxis\": {\"endlinecolor\": \"#2a3f5f\", \"gridcolor\": \"white\", \"linecolor\": \"white\", \"minorgridcolor\": \"white\", \"startlinecolor\": \"#2a3f5f\"}, \"type\": \"carpet\"}], \"choropleth\": [{\"colorbar\": {\"outlinewidth\": 0, \"ticks\": \"\"}, \"type\": \"choropleth\"}], \"contour\": [{\"colorbar\": {\"outlinewidth\": 0, \"ticks\": \"\"}, \"colorscale\": [[0.0, \"#0d0887\"], [0.1111111111111111, \"#46039f\"], [0.2222222222222222, \"#7201a8\"], [0.3333333333333333, \"#9c179e\"], [0.4444444444444444, \"#bd3786\"], [0.5555555555555556, \"#d8576b\"], [0.6666666666666666, \"#ed7953\"], [0.7777777777777778, \"#fb9f3a\"], [0.8888888888888888, \"#fdca26\"], [1.0, \"#f0f921\"]], \"type\": \"contour\"}], \"contourcarpet\": [{\"colorbar\": {\"outlinewidth\": 0, \"ticks\": \"\"}, \"type\": \"contourcarpet\"}], \"heatmap\": [{\"colorbar\": {\"outlinewidth\": 0, \"ticks\": \"\"}, \"colorscale\": [[0.0, \"#0d0887\"], [0.1111111111111111, \"#46039f\"], [0.2222222222222222, \"#7201a8\"], [0.3333333333333333, \"#9c179e\"], [0.4444444444444444, \"#bd3786\"], [0.5555555555555556, \"#d8576b\"], [0.6666666666666666, \"#ed7953\"], [0.7777777777777778, \"#fb9f3a\"], [0.8888888888888888, \"#fdca26\"], [1.0, \"#f0f921\"]], \"type\": \"heatmap\"}], \"heatmapgl\": [{\"colorbar\": {\"outlinewidth\": 0, \"ticks\": \"\"}, \"colorscale\": [[0.0, \"#0d0887\"], [0.1111111111111111, \"#46039f\"], [0.2222222222222222, \"#7201a8\"], [0.3333333333333333, \"#9c179e\"], [0.4444444444444444, \"#bd3786\"], [0.5555555555555556, \"#d8576b\"], [0.6666666666666666, \"#ed7953\"], [0.7777777777777778, \"#fb9f3a\"], [0.8888888888888888, \"#fdca26\"], [1.0, \"#f0f921\"]], \"type\": \"heatmapgl\"}], \"histogram\": [{\"marker\": {\"colorbar\": {\"outlinewidth\": 0, \"ticks\": \"\"}}, \"type\": \"histogram\"}], \"histogram2d\": [{\"colorbar\": {\"outlinewidth\": 0, \"ticks\": \"\"}, \"colorscale\": [[0.0, \"#0d0887\"], [0.1111111111111111, \"#46039f\"], [0.2222222222222222, \"#7201a8\"], [0.3333333333333333, \"#9c179e\"], [0.4444444444444444, \"#bd3786\"], [0.5555555555555556, \"#d8576b\"], [0.6666666666666666, \"#ed7953\"], [0.7777777777777778, \"#fb9f3a\"], [0.8888888888888888, \"#fdca26\"], [1.0, \"#f0f921\"]], \"type\": \"histogram2d\"}], \"histogram2dcontour\": [{\"colorbar\": {\"outlinewidth\": 0, \"ticks\": \"\"}, \"colorscale\": [[0.0, \"#0d0887\"], [0.1111111111111111, \"#46039f\"], [0.2222222222222222, \"#7201a8\"], [0.3333333333333333, \"#9c179e\"], [0.4444444444444444, \"#bd3786\"], [0.5555555555555556, \"#d8576b\"], [0.6666666666666666, \"#ed7953\"], [0.7777777777777778, \"#fb9f3a\"], [0.8888888888888888, \"#fdca26\"], [1.0, \"#f0f921\"]], \"type\": \"histogram2dcontour\"}], \"mesh3d\": [{\"colorbar\": {\"outlinewidth\": 0, \"ticks\": \"\"}, \"type\": \"mesh3d\"}], \"parcoords\": [{\"line\": {\"colorbar\": {\"outlinewidth\": 0, \"ticks\": \"\"}}, \"type\": \"parcoords\"}], \"pie\": [{\"automargin\": true, \"type\": \"pie\"}], \"scatter\": [{\"marker\": {\"colorbar\": {\"outlinewidth\": 0, \"ticks\": \"\"}}, \"type\": \"scatter\"}], \"scatter3d\": [{\"line\": {\"colorbar\": {\"outlinewidth\": 0, \"ticks\": \"\"}}, \"marker\": {\"colorbar\": {\"outlinewidth\": 0, \"ticks\": \"\"}}, \"type\": \"scatter3d\"}], \"scattercarpet\": [{\"marker\": {\"colorbar\": {\"outlinewidth\": 0, \"ticks\": \"\"}}, \"type\": \"scattercarpet\"}], \"scattergeo\": [{\"marker\": {\"colorbar\": {\"outlinewidth\": 0, \"ticks\": \"\"}}, \"type\": \"scattergeo\"}], \"scattergl\": [{\"marker\": {\"colorbar\": {\"outlinewidth\": 0, \"ticks\": \"\"}}, \"type\": \"scattergl\"}], \"scattermapbox\": [{\"marker\": {\"colorbar\": {\"outlinewidth\": 0, \"ticks\": \"\"}}, \"type\": \"scattermapbox\"}], \"scatterpolar\": [{\"marker\": {\"colorbar\": {\"outlinewidth\": 0, \"ticks\": \"\"}}, \"type\": \"scatterpolar\"}], \"scatterpolargl\": [{\"marker\": {\"colorbar\": {\"outlinewidth\": 0, \"ticks\": \"\"}}, \"type\": \"scatterpolargl\"}], \"scatterternary\": [{\"marker\": {\"colorbar\": {\"outlinewidth\": 0, \"ticks\": \"\"}}, \"type\": \"scatterternary\"}], \"surface\": [{\"colorbar\": {\"outlinewidth\": 0, \"ticks\": \"\"}, \"colorscale\": [[0.0, \"#0d0887\"], [0.1111111111111111, \"#46039f\"], [0.2222222222222222, \"#7201a8\"], [0.3333333333333333, \"#9c179e\"], [0.4444444444444444, \"#bd3786\"], [0.5555555555555556, \"#d8576b\"], [0.6666666666666666, \"#ed7953\"], [0.7777777777777778, \"#fb9f3a\"], [0.8888888888888888, \"#fdca26\"], [1.0, \"#f0f921\"]], \"type\": \"surface\"}], \"table\": [{\"cells\": {\"fill\": {\"color\": \"#EBF0F8\"}, \"line\": {\"color\": \"white\"}}, \"header\": {\"fill\": {\"color\": \"#C8D4E3\"}, \"line\": {\"color\": \"white\"}}, \"type\": \"table\"}]}, \"layout\": {\"annotationdefaults\": {\"arrowcolor\": \"#2a3f5f\", \"arrowhead\": 0, \"arrowwidth\": 1}, \"autotypenumbers\": \"strict\", \"coloraxis\": {\"colorbar\": {\"outlinewidth\": 0, \"ticks\": \"\"}}, \"colorscale\": {\"diverging\": [[0, \"#8e0152\"], [0.1, \"#c51b7d\"], [0.2, \"#de77ae\"], [0.3, \"#f1b6da\"], [0.4, \"#fde0ef\"], [0.5, \"#f7f7f7\"], [0.6, \"#e6f5d0\"], [0.7, \"#b8e186\"], [0.8, \"#7fbc41\"], [0.9, \"#4d9221\"], [1, \"#276419\"]], \"sequential\": [[0.0, \"#0d0887\"], [0.1111111111111111, \"#46039f\"], [0.2222222222222222, \"#7201a8\"], [0.3333333333333333, \"#9c179e\"], [0.4444444444444444, \"#bd3786\"], [0.5555555555555556, \"#d8576b\"], [0.6666666666666666, \"#ed7953\"], [0.7777777777777778, \"#fb9f3a\"], [0.8888888888888888, \"#fdca26\"], [1.0, \"#f0f921\"]], \"sequentialminus\": [[0.0, \"#0d0887\"], [0.1111111111111111, \"#46039f\"], [0.2222222222222222, \"#7201a8\"], [0.3333333333333333, \"#9c179e\"], [0.4444444444444444, \"#bd3786\"], [0.5555555555555556, \"#d8576b\"], [0.6666666666666666, \"#ed7953\"], [0.7777777777777778, \"#fb9f3a\"], [0.8888888888888888, \"#fdca26\"], [1.0, \"#f0f921\"]]}, \"colorway\": [\"#636efa\", \"#EF553B\", \"#00cc96\", \"#ab63fa\", \"#FFA15A\", \"#19d3f3\", \"#FF6692\", \"#B6E880\", \"#FF97FF\", \"#FECB52\"], \"font\": {\"color\": \"#2a3f5f\"}, \"geo\": {\"bgcolor\": \"white\", \"lakecolor\": \"white\", \"landcolor\": \"#E5ECF6\", \"showlakes\": true, \"showland\": true, \"subunitcolor\": \"white\"}, \"hoverlabel\": {\"align\": \"left\"}, \"hovermode\": \"closest\", \"mapbox\": {\"style\": \"light\"}, \"paper_bgcolor\": \"white\", \"plot_bgcolor\": \"#E5ECF6\", \"polar\": {\"angularaxis\": {\"gridcolor\": \"white\", \"linecolor\": \"white\", \"ticks\": \"\"}, \"bgcolor\": \"#E5ECF6\", \"radialaxis\": {\"gridcolor\": \"white\", \"linecolor\": \"white\", \"ticks\": \"\"}}, \"scene\": {\"xaxis\": {\"backgroundcolor\": \"#E5ECF6\", \"gridcolor\": \"white\", \"gridwidth\": 2, \"linecolor\": \"white\", \"showbackground\": true, \"ticks\": \"\", \"zerolinecolor\": \"white\"}, \"yaxis\": {\"backgroundcolor\": \"#E5ECF6\", \"gridcolor\": \"white\", \"gridwidth\": 2, \"linecolor\": \"white\", \"showbackground\": true, \"ticks\": \"\", \"zerolinecolor\": \"white\"}, \"zaxis\": {\"backgroundcolor\": \"#E5ECF6\", \"gridcolor\": \"white\", \"gridwidth\": 2, \"linecolor\": \"white\", \"showbackground\": true, \"ticks\": \"\", \"zerolinecolor\": \"white\"}}, \"shapedefaults\": {\"line\": {\"color\": \"#2a3f5f\"}}, \"ternary\": {\"aaxis\": {\"gridcolor\": \"white\", \"linecolor\": \"white\", \"ticks\": \"\"}, \"baxis\": {\"gridcolor\": \"white\", \"linecolor\": \"white\", \"ticks\": \"\"}, \"bgcolor\": \"#E5ECF6\", \"caxis\": {\"gridcolor\": \"white\", \"linecolor\": \"white\", \"ticks\": \"\"}}, \"title\": {\"x\": 0.05}, \"xaxis\": {\"automargin\": true, \"gridcolor\": \"white\", \"linecolor\": \"white\", \"ticks\": \"\", \"title\": {\"standoff\": 15}, \"zerolinecolor\": \"white\", \"zerolinewidth\": 2}, \"yaxis\": {\"automargin\": true, \"gridcolor\": \"white\", \"linecolor\": \"white\", \"ticks\": \"\", \"title\": {\"standoff\": 15}, \"zerolinecolor\": \"white\", \"zerolinewidth\": 2}}}, \"xaxis\": {\"anchor\": \"y\", \"domain\": [0.0, 1.0], \"title\": {\"text\": \"CGPA\"}}, \"yaxis\": {\"anchor\": \"x\", \"domain\": [0.0, 1.0], \"title\": {\"text\": \"count\"}}},                        {\"responsive\": true}                    ).then(function(){\n",
       "                            \n",
       "var gd = document.getElementById('267b5416-464c-4056-9c92-0d0a957a060b');\n",
       "var x = new MutationObserver(function (mutations, observer) {{\n",
       "        var display = window.getComputedStyle(gd).display;\n",
       "        if (!display || display === 'none') {{\n",
       "            console.log([gd, 'removed!']);\n",
       "            Plotly.purge(gd);\n",
       "            observer.disconnect();\n",
       "        }}\n",
       "}});\n",
       "\n",
       "// Listen for the removal of the full notebook cells\n",
       "var notebookContainer = gd.closest('#notebook-container');\n",
       "if (notebookContainer) {{\n",
       "    x.observe(notebookContainer, {childList: true});\n",
       "}}\n",
       "\n",
       "// Listen for the clearing of the current output cell\n",
       "var outputEl = gd.closest('.output');\n",
       "if (outputEl) {{\n",
       "    x.observe(outputEl, {childList: true});\n",
       "}}\n",
       "\n",
       "                        })                };                });            </script>        </div>"
      ]
     },
     "metadata": {},
     "output_type": "display_data"
    }
   ],
   "source": [
    "px.histogram(data_frame=df, x=\"CGPA\", color=\"Research\", barmode=\"group\")"
   ]
  },
  {
   "cell_type": "markdown",
   "metadata": {
    "papermill": {
     "duration": 0.139396,
     "end_time": "2020-12-28T20:42:22.185974",
     "exception": false,
     "start_time": "2020-12-28T20:42:22.046578",
     "status": "completed"
    },
    "tags": []
   },
   "source": [
    "We can see that students who engage in research activities and have research experience, tend to perform better in both *TOEFL* and *GRE* exams, and they have higher *GPA*, in comparison to students who have no research experience."
   ]
  },
  {
   "cell_type": "markdown",
   "metadata": {
    "collapsed": "true",
    "papermill": {
     "duration": 0.137093,
     "end_time": "2020-12-28T20:42:22.461138",
     "exception": false,
     "start_time": "2020-12-28T20:42:22.324045",
     "status": "completed"
    },
    "tags": []
   },
   "source": [
    "### `University Rating`"
   ]
  },
  {
   "cell_type": "markdown",
   "metadata": {
    "papermill": {
     "duration": 0.14051,
     "end_time": "2020-12-28T20:42:22.740627",
     "exception": false,
     "start_time": "2020-12-28T20:42:22.600117",
     "status": "completed"
    },
    "tags": []
   },
   "source": [
    "The `University Rating` variable represents the ranking of the university from which the student graduated.\n",
    "\n",
    "We might ask: How does the relation between student different scores changes for different university ranking?\n",
    "\n",
    "Let's see how the university ranking affects student's scores and GPA:"
   ]
  },
  {
   "cell_type": "code",
   "execution_count": 70,
   "metadata": {
    "execution": {
     "iopub.execute_input": "2020-12-28T20:42:23.029927Z",
     "iopub.status.busy": "2020-12-28T20:42:23.028860Z",
     "iopub.status.idle": "2020-12-28T20:42:23.107848Z",
     "shell.execute_reply": "2020-12-28T20:42:23.108466Z"
    },
    "papermill": {
     "duration": 0.230829,
     "end_time": "2020-12-28T20:42:23.108631",
     "exception": false,
     "start_time": "2020-12-28T20:42:22.877802",
     "status": "completed"
    },
    "tags": []
   },
   "outputs": [
    {
     "data": {
      "text/html": [
       "<div>                            <div id=\"78aba864-8c28-4f2a-9312-2648f5ee604b\" class=\"plotly-graph-div\" style=\"height:525px; width:100%;\"></div>            <script type=\"text/javascript\">                require([\"plotly\"], function(Plotly) {                    window.PLOTLYENV=window.PLOTLYENV || {};                                    if (document.getElementById(\"78aba864-8c28-4f2a-9312-2648f5ee604b\")) {                    Plotly.newPlot(                        \"78aba864-8c28-4f2a-9312-2648f5ee604b\",                        [{\"alignmentgroup\": \"True\", \"bingroup\": \"x\", \"hovertemplate\": \"University Rating=1<br>TOEFL Score=%{x}<br>count=%{y}<extra></extra>\", \"legendgroup\": \"1\", \"marker\": {\"color\": \"rgb(196, 230, 195)\"}, \"name\": \"1\", \"offsetgroup\": \"1\", \"orientation\": \"v\", \"showlegend\": true, \"type\": \"histogram\", \"x\": [110, 93, 98, 109, 95, 105, 105, 99, 100, 110, 106, 98, 100, 100, 99, 98, 99, 112, 99, 100, 92, 99, 100, 101, 99, 98, 99, 96, 98, 93, 102, 103, 98, 94], \"xaxis\": \"x\", \"yaxis\": \"y\"}, {\"alignmentgroup\": \"True\", \"bingroup\": \"x\", \"hovertemplate\": \"University Rating=2<br>TOEFL Score=%{x}<br>count=%{y}<extra></extra>\", \"legendgroup\": \"2\", \"marker\": {\"color\": \"rgb(150, 210, 164)\"}, \"name\": \"2\", \"offsetgroup\": \"2\", \"orientation\": \"v\", \"showlegend\": true, \"type\": \"histogram\", \"x\": [104, 100, 106, 109, 99, 97, 100, 100, 101, 110, 101, 105, 107, 105, 100, 102, 102, 105, 99, 106, 96, 105, 107, 102, 97, 101, 105, 102, 111, 100, 99, 106, 104, 103, 110, 97, 105, 103, 106, 105, 105, 104, 103, 101, 104, 105, 105, 107, 100, 110, 118, 96, 112, 112, 113, 116, 98, 106, 106, 101, 98, 99, 97, 106, 99, 103, 99, 106, 108, 107, 105, 107, 101, 105, 110, 105, 110, 104, 109, 106, 103, 95, 98, 101, 105, 100, 99, 100, 105, 97, 96, 103, 100, 104, 96, 102, 106, 103, 105, 107, 97, 114, 99, 95, 103, 106, 105, 108, 99, 107, 94, 107, 110, 101, 99, 107, 104, 101, 107, 105, 100, 100, 104, 105, 102, 102], \"xaxis\": \"x\", \"yaxis\": \"y\"}, {\"alignmentgroup\": \"True\", \"bingroup\": \"x\", \"hovertemplate\": \"University Rating=3<br>TOEFL Score=%{x}<br>count=%{y}<extra></extra>\", \"legendgroup\": \"3\", \"marker\": {\"color\": \"rgb(109, 188, 144)\"}, \"name\": \"3\", \"offsetgroup\": \"3\", \"orientation\": \"v\", \"showlegend\": true, \"type\": \"histogram\", \"x\": [114, 115, 106, 112, 105, 106, 104, 110, 104, 104, 108, 109, 100, 111, 106, 104, 104, 116, 100, 113, 106, 108, 100, 104, 102, 107, 110, 106, 101, 107, 110, 102, 109, 110, 104, 110, 108, 100, 105, 104, 111, 102, 107, 104, 110, 102, 110, 106, 111, 109, 110, 107, 120, 114, 112, 107, 109, 110, 99, 110, 111, 104, 101, 111, 103, 114, 109, 106, 112, 105, 107, 102, 106, 108, 97, 99, 120, 113, 107, 112, 110, 103, 107, 105, 101, 102, 108, 102, 108, 103, 98, 99, 104, 110, 109, 108, 106, 109, 104, 105, 107, 106, 110, 102, 107, 110, 112, 102, 103, 106, 102, 110, 103, 104, 101, 110, 110, 100, 103, 112, 102, 100, 103, 104, 113, 108, 104, 110, 107, 101, 101, 102, 100, 104, 107, 103, 99, 105, 102, 104, 101, 109, 103, 107, 109, 112, 110, 102, 104, 101, 106, 105, 108, 103, 114, 105, 109, 109, 105, 105, 112, 103], \"xaxis\": \"x\", \"yaxis\": \"y\"}, {\"alignmentgroup\": \"True\", \"bingroup\": \"x\", \"hovertemplate\": \"University Rating=4<br>TOEFL Score=%{x}<br>count=%{y}<extra></extra>\", \"legendgroup\": \"4\", \"marker\": {\"color\": \"rgb(77, 162, 132)\"}, \"name\": \"4\", \"offsetgroup\": \"4\", \"orientation\": \"v\", \"showlegend\": true, \"type\": \"histogram\", \"x\": [116, 116, 116, 113, 116, 112, 103, 111, 117, 112, 116, 101, 111, 99, 118, 112, 119, 114, 110, 96, 99, 110, 114, 113, 105, 105, 115, 113, 116, 105, 110, 105, 110, 102, 107, 112, 106, 113, 118, 116, 106, 104, 106, 106, 109, 120, 110, 109, 114, 110, 113, 111, 111, 119, 113, 108, 111, 110, 117, 119, 107, 111, 112, 114, 118, 117, 111, 111, 116, 112, 115, 108, 120, 103, 109, 100, 112, 120, 113, 112, 114, 108, 115, 103, 110, 110, 112, 112, 110, 107, 112, 107, 104, 111, 113, 110, 108, 102, 112, 111, 109, 113, 119, 117, 113], \"xaxis\": \"x\", \"yaxis\": \"y\"}, {\"alignmentgroup\": \"True\", \"bingroup\": \"x\", \"hovertemplate\": \"University Rating=5<br>TOEFL Score=%{x}<br>count=%{y}<extra></extra>\", \"legendgroup\": \"5\", \"marker\": {\"color\": \"rgb(54, 135, 122)\"}, \"name\": \"5\", \"offsetgroup\": \"5\", \"orientation\": \"v\", \"showlegend\": true, \"type\": \"histogram\", \"x\": [115, 110, 110, 118, 101, 112, 114, 115, 111, 119, 114, 120, 117, 108, 115, 115, 108, 118, 116, 119, 119, 120, 109, 103, 114, 112, 110, 113, 118, 119, 110, 108, 113, 114, 119, 114, 110, 117, 111, 113, 118, 115, 112, 111, 110, 114, 118, 120, 120, 116, 111, 116, 112, 115, 116, 103, 108, 104, 117, 116, 113, 114, 119, 117, 118, 114, 105, 105, 112, 113, 115, 116, 107], \"xaxis\": \"x\", \"yaxis\": \"y\"}],                        {\"barmode\": \"group\", \"legend\": {\"title\": {\"text\": \"University Rating\"}, \"tracegroupgap\": 0}, \"margin\": {\"t\": 60}, \"template\": {\"data\": {\"bar\": [{\"error_x\": {\"color\": \"#2a3f5f\"}, \"error_y\": {\"color\": \"#2a3f5f\"}, \"marker\": {\"line\": {\"color\": \"#E5ECF6\", \"width\": 0.5}}, \"type\": \"bar\"}], \"barpolar\": [{\"marker\": {\"line\": {\"color\": \"#E5ECF6\", \"width\": 0.5}}, \"type\": \"barpolar\"}], \"carpet\": [{\"aaxis\": {\"endlinecolor\": \"#2a3f5f\", \"gridcolor\": \"white\", \"linecolor\": \"white\", \"minorgridcolor\": \"white\", \"startlinecolor\": \"#2a3f5f\"}, \"baxis\": {\"endlinecolor\": \"#2a3f5f\", \"gridcolor\": \"white\", \"linecolor\": \"white\", \"minorgridcolor\": \"white\", \"startlinecolor\": \"#2a3f5f\"}, \"type\": \"carpet\"}], \"choropleth\": [{\"colorbar\": {\"outlinewidth\": 0, \"ticks\": \"\"}, \"type\": \"choropleth\"}], \"contour\": [{\"colorbar\": {\"outlinewidth\": 0, \"ticks\": \"\"}, \"colorscale\": [[0.0, \"#0d0887\"], [0.1111111111111111, \"#46039f\"], [0.2222222222222222, \"#7201a8\"], [0.3333333333333333, \"#9c179e\"], [0.4444444444444444, \"#bd3786\"], [0.5555555555555556, \"#d8576b\"], [0.6666666666666666, \"#ed7953\"], [0.7777777777777778, \"#fb9f3a\"], [0.8888888888888888, \"#fdca26\"], [1.0, \"#f0f921\"]], \"type\": \"contour\"}], \"contourcarpet\": [{\"colorbar\": {\"outlinewidth\": 0, \"ticks\": \"\"}, \"type\": \"contourcarpet\"}], \"heatmap\": [{\"colorbar\": {\"outlinewidth\": 0, \"ticks\": \"\"}, \"colorscale\": [[0.0, \"#0d0887\"], [0.1111111111111111, \"#46039f\"], [0.2222222222222222, \"#7201a8\"], [0.3333333333333333, \"#9c179e\"], [0.4444444444444444, \"#bd3786\"], [0.5555555555555556, \"#d8576b\"], [0.6666666666666666, \"#ed7953\"], [0.7777777777777778, \"#fb9f3a\"], [0.8888888888888888, \"#fdca26\"], [1.0, \"#f0f921\"]], \"type\": \"heatmap\"}], \"heatmapgl\": [{\"colorbar\": {\"outlinewidth\": 0, \"ticks\": \"\"}, \"colorscale\": [[0.0, \"#0d0887\"], [0.1111111111111111, \"#46039f\"], [0.2222222222222222, \"#7201a8\"], [0.3333333333333333, \"#9c179e\"], [0.4444444444444444, \"#bd3786\"], [0.5555555555555556, \"#d8576b\"], [0.6666666666666666, \"#ed7953\"], [0.7777777777777778, \"#fb9f3a\"], [0.8888888888888888, \"#fdca26\"], [1.0, \"#f0f921\"]], \"type\": \"heatmapgl\"}], \"histogram\": [{\"marker\": {\"colorbar\": {\"outlinewidth\": 0, \"ticks\": \"\"}}, \"type\": \"histogram\"}], \"histogram2d\": [{\"colorbar\": {\"outlinewidth\": 0, \"ticks\": \"\"}, \"colorscale\": [[0.0, \"#0d0887\"], [0.1111111111111111, \"#46039f\"], [0.2222222222222222, \"#7201a8\"], [0.3333333333333333, \"#9c179e\"], [0.4444444444444444, \"#bd3786\"], [0.5555555555555556, \"#d8576b\"], [0.6666666666666666, \"#ed7953\"], [0.7777777777777778, \"#fb9f3a\"], [0.8888888888888888, \"#fdca26\"], [1.0, \"#f0f921\"]], \"type\": \"histogram2d\"}], \"histogram2dcontour\": [{\"colorbar\": {\"outlinewidth\": 0, \"ticks\": \"\"}, \"colorscale\": [[0.0, \"#0d0887\"], [0.1111111111111111, \"#46039f\"], [0.2222222222222222, \"#7201a8\"], [0.3333333333333333, \"#9c179e\"], [0.4444444444444444, \"#bd3786\"], [0.5555555555555556, \"#d8576b\"], [0.6666666666666666, \"#ed7953\"], [0.7777777777777778, \"#fb9f3a\"], [0.8888888888888888, \"#fdca26\"], [1.0, \"#f0f921\"]], \"type\": \"histogram2dcontour\"}], \"mesh3d\": [{\"colorbar\": {\"outlinewidth\": 0, \"ticks\": \"\"}, \"type\": \"mesh3d\"}], \"parcoords\": [{\"line\": {\"colorbar\": {\"outlinewidth\": 0, \"ticks\": \"\"}}, \"type\": \"parcoords\"}], \"pie\": [{\"automargin\": true, \"type\": \"pie\"}], \"scatter\": [{\"marker\": {\"colorbar\": {\"outlinewidth\": 0, \"ticks\": \"\"}}, \"type\": \"scatter\"}], \"scatter3d\": [{\"line\": {\"colorbar\": {\"outlinewidth\": 0, \"ticks\": \"\"}}, \"marker\": {\"colorbar\": {\"outlinewidth\": 0, \"ticks\": \"\"}}, \"type\": \"scatter3d\"}], \"scattercarpet\": [{\"marker\": {\"colorbar\": {\"outlinewidth\": 0, \"ticks\": \"\"}}, \"type\": \"scattercarpet\"}], \"scattergeo\": [{\"marker\": {\"colorbar\": {\"outlinewidth\": 0, \"ticks\": \"\"}}, \"type\": \"scattergeo\"}], \"scattergl\": [{\"marker\": {\"colorbar\": {\"outlinewidth\": 0, \"ticks\": \"\"}}, \"type\": \"scattergl\"}], \"scattermapbox\": [{\"marker\": {\"colorbar\": {\"outlinewidth\": 0, \"ticks\": \"\"}}, \"type\": \"scattermapbox\"}], \"scatterpolar\": [{\"marker\": {\"colorbar\": {\"outlinewidth\": 0, \"ticks\": \"\"}}, \"type\": \"scatterpolar\"}], \"scatterpolargl\": [{\"marker\": {\"colorbar\": {\"outlinewidth\": 0, \"ticks\": \"\"}}, \"type\": \"scatterpolargl\"}], \"scatterternary\": [{\"marker\": {\"colorbar\": {\"outlinewidth\": 0, \"ticks\": \"\"}}, \"type\": \"scatterternary\"}], \"surface\": [{\"colorbar\": {\"outlinewidth\": 0, \"ticks\": \"\"}, \"colorscale\": [[0.0, \"#0d0887\"], [0.1111111111111111, \"#46039f\"], [0.2222222222222222, \"#7201a8\"], [0.3333333333333333, \"#9c179e\"], [0.4444444444444444, \"#bd3786\"], [0.5555555555555556, \"#d8576b\"], [0.6666666666666666, \"#ed7953\"], [0.7777777777777778, \"#fb9f3a\"], [0.8888888888888888, \"#fdca26\"], [1.0, \"#f0f921\"]], \"type\": \"surface\"}], \"table\": [{\"cells\": {\"fill\": {\"color\": \"#EBF0F8\"}, \"line\": {\"color\": \"white\"}}, \"header\": {\"fill\": {\"color\": \"#C8D4E3\"}, \"line\": {\"color\": \"white\"}}, \"type\": \"table\"}]}, \"layout\": {\"annotationdefaults\": {\"arrowcolor\": \"#2a3f5f\", \"arrowhead\": 0, \"arrowwidth\": 1}, \"autotypenumbers\": \"strict\", \"coloraxis\": {\"colorbar\": {\"outlinewidth\": 0, \"ticks\": \"\"}}, \"colorscale\": {\"diverging\": [[0, \"#8e0152\"], [0.1, \"#c51b7d\"], [0.2, \"#de77ae\"], [0.3, \"#f1b6da\"], [0.4, \"#fde0ef\"], [0.5, \"#f7f7f7\"], [0.6, \"#e6f5d0\"], [0.7, \"#b8e186\"], [0.8, \"#7fbc41\"], [0.9, \"#4d9221\"], [1, \"#276419\"]], \"sequential\": [[0.0, \"#0d0887\"], [0.1111111111111111, \"#46039f\"], [0.2222222222222222, \"#7201a8\"], [0.3333333333333333, \"#9c179e\"], [0.4444444444444444, \"#bd3786\"], [0.5555555555555556, \"#d8576b\"], [0.6666666666666666, \"#ed7953\"], [0.7777777777777778, \"#fb9f3a\"], [0.8888888888888888, \"#fdca26\"], [1.0, \"#f0f921\"]], \"sequentialminus\": [[0.0, \"#0d0887\"], [0.1111111111111111, \"#46039f\"], [0.2222222222222222, \"#7201a8\"], [0.3333333333333333, \"#9c179e\"], [0.4444444444444444, \"#bd3786\"], [0.5555555555555556, \"#d8576b\"], [0.6666666666666666, \"#ed7953\"], [0.7777777777777778, \"#fb9f3a\"], [0.8888888888888888, \"#fdca26\"], [1.0, \"#f0f921\"]]}, \"colorway\": [\"#636efa\", \"#EF553B\", \"#00cc96\", \"#ab63fa\", \"#FFA15A\", \"#19d3f3\", \"#FF6692\", \"#B6E880\", \"#FF97FF\", \"#FECB52\"], \"font\": {\"color\": \"#2a3f5f\"}, \"geo\": {\"bgcolor\": \"white\", \"lakecolor\": \"white\", \"landcolor\": \"#E5ECF6\", \"showlakes\": true, \"showland\": true, \"subunitcolor\": \"white\"}, \"hoverlabel\": {\"align\": \"left\"}, \"hovermode\": \"closest\", \"mapbox\": {\"style\": \"light\"}, \"paper_bgcolor\": \"white\", \"plot_bgcolor\": \"#E5ECF6\", \"polar\": {\"angularaxis\": {\"gridcolor\": \"white\", \"linecolor\": \"white\", \"ticks\": \"\"}, \"bgcolor\": \"#E5ECF6\", \"radialaxis\": {\"gridcolor\": \"white\", \"linecolor\": \"white\", \"ticks\": \"\"}}, \"scene\": {\"xaxis\": {\"backgroundcolor\": \"#E5ECF6\", \"gridcolor\": \"white\", \"gridwidth\": 2, \"linecolor\": \"white\", \"showbackground\": true, \"ticks\": \"\", \"zerolinecolor\": \"white\"}, \"yaxis\": {\"backgroundcolor\": \"#E5ECF6\", \"gridcolor\": \"white\", \"gridwidth\": 2, \"linecolor\": \"white\", \"showbackground\": true, \"ticks\": \"\", \"zerolinecolor\": \"white\"}, \"zaxis\": {\"backgroundcolor\": \"#E5ECF6\", \"gridcolor\": \"white\", \"gridwidth\": 2, \"linecolor\": \"white\", \"showbackground\": true, \"ticks\": \"\", \"zerolinecolor\": \"white\"}}, \"shapedefaults\": {\"line\": {\"color\": \"#2a3f5f\"}}, \"ternary\": {\"aaxis\": {\"gridcolor\": \"white\", \"linecolor\": \"white\", \"ticks\": \"\"}, \"baxis\": {\"gridcolor\": \"white\", \"linecolor\": \"white\", \"ticks\": \"\"}, \"bgcolor\": \"#E5ECF6\", \"caxis\": {\"gridcolor\": \"white\", \"linecolor\": \"white\", \"ticks\": \"\"}}, \"title\": {\"x\": 0.05}, \"xaxis\": {\"automargin\": true, \"gridcolor\": \"white\", \"linecolor\": \"white\", \"ticks\": \"\", \"title\": {\"standoff\": 15}, \"zerolinecolor\": \"white\", \"zerolinewidth\": 2}, \"yaxis\": {\"automargin\": true, \"gridcolor\": \"white\", \"linecolor\": \"white\", \"ticks\": \"\", \"title\": {\"standoff\": 15}, \"zerolinecolor\": \"white\", \"zerolinewidth\": 2}}}, \"xaxis\": {\"anchor\": \"y\", \"domain\": [0.0, 1.0], \"title\": {\"text\": \"TOEFL Score\"}}, \"yaxis\": {\"anchor\": \"x\", \"domain\": [0.0, 1.0], \"title\": {\"text\": \"count\"}}},                        {\"responsive\": true}                    ).then(function(){\n",
       "                            \n",
       "var gd = document.getElementById('78aba864-8c28-4f2a-9312-2648f5ee604b');\n",
       "var x = new MutationObserver(function (mutations, observer) {{\n",
       "        var display = window.getComputedStyle(gd).display;\n",
       "        if (!display || display === 'none') {{\n",
       "            console.log([gd, 'removed!']);\n",
       "            Plotly.purge(gd);\n",
       "            observer.disconnect();\n",
       "        }}\n",
       "}});\n",
       "\n",
       "// Listen for the removal of the full notebook cells\n",
       "var notebookContainer = gd.closest('#notebook-container');\n",
       "if (notebookContainer) {{\n",
       "    x.observe(notebookContainer, {childList: true});\n",
       "}}\n",
       "\n",
       "// Listen for the clearing of the current output cell\n",
       "var outputEl = gd.closest('.output');\n",
       "if (outputEl) {{\n",
       "    x.observe(outputEl, {childList: true});\n",
       "}}\n",
       "\n",
       "                        })                };                });            </script>        </div>"
      ]
     },
     "metadata": {},
     "output_type": "display_data"
    }
   ],
   "source": [
    "px.histogram(\n",
    "    data_frame=df,\n",
    "    x=\"TOEFL Score\",\n",
    "    color=\"University Rating\",\n",
    "    barmode=\"group\",\n",
    "    color_discrete_sequence=px.colors.sequential.Blugrn,\n",
    ")"
   ]
  },
  {
   "cell_type": "code",
   "execution_count": 71,
   "metadata": {
    "execution": {
     "iopub.execute_input": "2020-12-28T20:42:23.423192Z",
     "iopub.status.busy": "2020-12-28T20:42:23.397096Z",
     "iopub.status.idle": "2020-12-28T20:42:23.476639Z",
     "shell.execute_reply": "2020-12-28T20:42:23.475938Z"
    },
    "papermill": {
     "duration": 0.229323,
     "end_time": "2020-12-28T20:42:23.476753",
     "exception": false,
     "start_time": "2020-12-28T20:42:23.247430",
     "status": "completed"
    },
    "tags": []
   },
   "outputs": [
    {
     "data": {
      "text/html": [
       "<div>                            <div id=\"b716cf3a-6d3b-4cea-abb6-3e9bb9fcd40e\" class=\"plotly-graph-div\" style=\"height:525px; width:100%;\"></div>            <script type=\"text/javascript\">                require([\"plotly\"], function(Plotly) {                    window.PLOTLYENV=window.PLOTLYENV || {};                                    if (document.getElementById(\"b716cf3a-6d3b-4cea-abb6-3e9bb9fcd40e\")) {                    Plotly.newPlot(                        \"b716cf3a-6d3b-4cea-abb6-3e9bb9fcd40e\",                        [{\"alignmentgroup\": \"True\", \"bingroup\": \"x\", \"hovertemplate\": \"University Rating=1<br>GRE Score=%{x}<br>count=%{y}<extra></extra>\", \"legendgroup\": \"1\", \"marker\": {\"color\": \"rgb(196, 230, 195)\"}, \"name\": \"1\", \"offsetgroup\": \"1\", \"orientation\": \"v\", \"showlegend\": true, \"type\": \"histogram\", \"x\": [318, 295, 301, 318, 294, 300, 304, 312, 315, 310, 317, 311, 312, 290, 300, 303, 300, 332, 311, 299, 298, 298, 297, 296, 295, 312, 302, 301, 316, 294, 302, 315, 300, 299], \"xaxis\": \"x\", \"yaxis\": \"y\"}, {\"alignmentgroup\": \"True\", \"bingroup\": \"x\", \"hovertemplate\": \"University Rating=2<br>GRE Score=%{x}<br>count=%{y}<extra></extra>\", \"legendgroup\": \"2\", \"marker\": {\"color\": \"rgb(150, 210, 164)\"}, \"name\": \"2\", \"offsetgroup\": \"2\", \"orientation\": \"v\", \"showlegend\": true, \"type\": \"histogram\", \"x\": [317, 306, 316, 312, 296, 301, 299, 317, 316, 320, 304, 315, 314, 307, 299, 305, 300, 312, 302, 314, 297, 310, 321, 304, 293, 302, 307, 308, 309, 318, 316, 306, 309, 308, 325, 296, 312, 316, 311, 314, 306, 305, 308, 320, 311, 312, 309, 305, 316, 329, 332, 299, 320, 325, 320, 326, 298, 309, 318, 311, 298, 310, 300, 305, 315, 306, 295, 299, 307, 312, 316, 313, 295, 311, 312, 307, 306, 301, 308, 317, 314, 300, 297, 308, 305, 303, 296, 304, 315, 304, 295, 305, 304, 317, 297, 305, 310, 310, 306, 307, 298, 329, 301, 296, 317, 313, 322, 319, 311, 317, 313, 316, 315, 312, 298, 314, 308, 298, 315, 304, 309, 312, 311, 305, 316, 314], \"xaxis\": \"x\", \"yaxis\": \"y\"}, {\"alignmentgroup\": \"True\", \"bingroup\": \"x\", \"hovertemplate\": \"University Rating=3<br>GRE Score=%{x}<br>count=%{y}<extra></extra>\", \"legendgroup\": \"3\", \"marker\": {\"color\": \"rgb(109, 188, 144)\"}, \"name\": \"3\", \"offsetgroup\": \"3\", \"orientation\": \"v\", \"showlegend\": true, \"type\": \"histogram\", \"x\": [325, 324, 318, 318, 316, 319, 320, 324, 313, 310, 320, 313, 324, 324, 317, 323, 315, 326, 299, 327, 308, 319, 301, 320, 313, 312, 326, 308, 313, 318, 322, 300, 327, 319, 320, 324, 312, 300, 319, 312, 324, 313, 314, 322, 322, 311, 317, 312, 321, 321, 324, 310, 320, 330, 305, 323, 321, 323, 309, 316, 321, 312, 307, 325, 311, 327, 318, 314, 327, 312, 304, 301, 315, 314, 299, 303, 331, 323, 322, 326, 316, 313, 301, 311, 315, 299, 320, 316, 308, 320, 313, 301, 316, 322, 321, 323, 325, 307, 311, 314, 317, 319, 318, 303, 312, 302, 322, 319, 327, 317, 321, 308, 318, 304, 300, 321, 322, 300, 319, 319, 313, 299, 316, 315, 323, 309, 300, 314, 317, 317, 297, 302, 298, 311, 313, 317, 302, 298, 310, 301, 311, 324, 312, 325, 316, 321, 319, 307, 311, 310, 312, 324, 326, 312, 326, 315, 318, 312, 315, 317, 326, 306], \"xaxis\": \"x\", \"yaxis\": \"y\"}, {\"alignmentgroup\": \"True\", \"bingroup\": \"x\", \"hovertemplate\": \"University Rating=4<br>GRE Score=%{x}<br>count=%{y}<extra></extra>\", \"legendgroup\": \"4\", \"marker\": {\"color\": \"rgb(77, 162, 132)\"}, \"name\": \"4\", \"offsetgroup\": \"4\", \"orientation\": \"v\", \"showlegend\": true, \"type\": \"histogram\", \"x\": [334, 331, 328, 324, 330, 326, 322, 329, 333, 324, 330, 298, 316, 297, 327, 320, 336, 330, 324, 305, 314, 323, 326, 340, 307, 319, 327, 329, 327, 308, 321, 309, 325, 314, 323, 322, 327, 328, 337, 339, 310, 290, 310, 301, 314, 340, 325, 321, 334, 322, 323, 321, 320, 329, 327, 325, 329, 328, 338, 332, 324, 327, 328, 325, 338, 332, 327, 329, 334, 325, 328, 314, 340, 319, 316, 304, 324, 338, 327, 340, 321, 328, 335, 312, 308, 328, 324, 325, 307, 312, 325, 311, 314, 324, 327, 324, 308, 326, 322, 325, 321, 327, 331, 331, 324], \"xaxis\": \"x\", \"yaxis\": \"y\"}, {\"alignmentgroup\": \"True\", \"bingroup\": \"x\", \"hovertemplate\": \"University Rating=5<br>GRE Score=%{x}<br>count=%{y}<extra></extra>\", \"legendgroup\": \"5\", \"marker\": {\"color\": \"rgb(54, 135, 122)\"}, \"name\": \"5\", \"offsetgroup\": \"5\", \"orientation\": \"v\", \"showlegend\": true, \"type\": \"histogram\", \"x\": [340, 320, 320, 332, 318, 336, 324, 322, 321, 333, 329, 330, 337, 332, 338, 330, 323, 332, 328, 339, 334, 340, 322, 304, 340, 331, 320, 326, 336, 336, 322, 327, 329, 325, 334, 329, 322, 334, 326, 330, 335, 331, 324, 324, 323, 322, 336, 340, 334, 330, 323, 331, 321, 340, 331, 304, 305, 327, 335, 328, 324, 321, 334, 335, 333, 339, 303, 309, 323, 333, 331, 332, 324], \"xaxis\": \"x\", \"yaxis\": \"y\"}],                        {\"barmode\": \"group\", \"legend\": {\"title\": {\"text\": \"University Rating\"}, \"tracegroupgap\": 0}, \"margin\": {\"t\": 60}, \"template\": {\"data\": {\"bar\": [{\"error_x\": {\"color\": \"#2a3f5f\"}, \"error_y\": {\"color\": \"#2a3f5f\"}, \"marker\": {\"line\": {\"color\": \"#E5ECF6\", \"width\": 0.5}}, \"type\": \"bar\"}], \"barpolar\": [{\"marker\": {\"line\": {\"color\": \"#E5ECF6\", \"width\": 0.5}}, \"type\": \"barpolar\"}], \"carpet\": [{\"aaxis\": {\"endlinecolor\": \"#2a3f5f\", \"gridcolor\": \"white\", \"linecolor\": \"white\", \"minorgridcolor\": \"white\", \"startlinecolor\": \"#2a3f5f\"}, \"baxis\": {\"endlinecolor\": \"#2a3f5f\", \"gridcolor\": \"white\", \"linecolor\": \"white\", \"minorgridcolor\": \"white\", \"startlinecolor\": \"#2a3f5f\"}, \"type\": \"carpet\"}], \"choropleth\": [{\"colorbar\": {\"outlinewidth\": 0, \"ticks\": \"\"}, \"type\": \"choropleth\"}], \"contour\": [{\"colorbar\": {\"outlinewidth\": 0, \"ticks\": \"\"}, \"colorscale\": [[0.0, \"#0d0887\"], [0.1111111111111111, \"#46039f\"], [0.2222222222222222, \"#7201a8\"], [0.3333333333333333, \"#9c179e\"], [0.4444444444444444, \"#bd3786\"], [0.5555555555555556, \"#d8576b\"], [0.6666666666666666, \"#ed7953\"], [0.7777777777777778, \"#fb9f3a\"], [0.8888888888888888, \"#fdca26\"], [1.0, \"#f0f921\"]], \"type\": \"contour\"}], \"contourcarpet\": [{\"colorbar\": {\"outlinewidth\": 0, \"ticks\": \"\"}, \"type\": \"contourcarpet\"}], \"heatmap\": [{\"colorbar\": {\"outlinewidth\": 0, \"ticks\": \"\"}, \"colorscale\": [[0.0, \"#0d0887\"], [0.1111111111111111, \"#46039f\"], [0.2222222222222222, \"#7201a8\"], [0.3333333333333333, \"#9c179e\"], [0.4444444444444444, \"#bd3786\"], [0.5555555555555556, \"#d8576b\"], [0.6666666666666666, \"#ed7953\"], [0.7777777777777778, \"#fb9f3a\"], [0.8888888888888888, \"#fdca26\"], [1.0, \"#f0f921\"]], \"type\": \"heatmap\"}], \"heatmapgl\": [{\"colorbar\": {\"outlinewidth\": 0, \"ticks\": \"\"}, \"colorscale\": [[0.0, \"#0d0887\"], [0.1111111111111111, \"#46039f\"], [0.2222222222222222, \"#7201a8\"], [0.3333333333333333, \"#9c179e\"], [0.4444444444444444, \"#bd3786\"], [0.5555555555555556, \"#d8576b\"], [0.6666666666666666, \"#ed7953\"], [0.7777777777777778, \"#fb9f3a\"], [0.8888888888888888, \"#fdca26\"], [1.0, \"#f0f921\"]], \"type\": \"heatmapgl\"}], \"histogram\": [{\"marker\": {\"colorbar\": {\"outlinewidth\": 0, \"ticks\": \"\"}}, \"type\": \"histogram\"}], \"histogram2d\": [{\"colorbar\": {\"outlinewidth\": 0, \"ticks\": \"\"}, \"colorscale\": [[0.0, \"#0d0887\"], [0.1111111111111111, \"#46039f\"], [0.2222222222222222, \"#7201a8\"], [0.3333333333333333, \"#9c179e\"], [0.4444444444444444, \"#bd3786\"], [0.5555555555555556, \"#d8576b\"], [0.6666666666666666, \"#ed7953\"], [0.7777777777777778, \"#fb9f3a\"], [0.8888888888888888, \"#fdca26\"], [1.0, \"#f0f921\"]], \"type\": \"histogram2d\"}], \"histogram2dcontour\": [{\"colorbar\": {\"outlinewidth\": 0, \"ticks\": \"\"}, \"colorscale\": [[0.0, \"#0d0887\"], [0.1111111111111111, \"#46039f\"], [0.2222222222222222, \"#7201a8\"], [0.3333333333333333, \"#9c179e\"], [0.4444444444444444, \"#bd3786\"], [0.5555555555555556, \"#d8576b\"], [0.6666666666666666, \"#ed7953\"], [0.7777777777777778, \"#fb9f3a\"], [0.8888888888888888, \"#fdca26\"], [1.0, \"#f0f921\"]], \"type\": \"histogram2dcontour\"}], \"mesh3d\": [{\"colorbar\": {\"outlinewidth\": 0, \"ticks\": \"\"}, \"type\": \"mesh3d\"}], \"parcoords\": [{\"line\": {\"colorbar\": {\"outlinewidth\": 0, \"ticks\": \"\"}}, \"type\": \"parcoords\"}], \"pie\": [{\"automargin\": true, \"type\": \"pie\"}], \"scatter\": [{\"marker\": {\"colorbar\": {\"outlinewidth\": 0, \"ticks\": \"\"}}, \"type\": \"scatter\"}], \"scatter3d\": [{\"line\": {\"colorbar\": {\"outlinewidth\": 0, \"ticks\": \"\"}}, \"marker\": {\"colorbar\": {\"outlinewidth\": 0, \"ticks\": \"\"}}, \"type\": \"scatter3d\"}], \"scattercarpet\": [{\"marker\": {\"colorbar\": {\"outlinewidth\": 0, \"ticks\": \"\"}}, \"type\": \"scattercarpet\"}], \"scattergeo\": [{\"marker\": {\"colorbar\": {\"outlinewidth\": 0, \"ticks\": \"\"}}, \"type\": \"scattergeo\"}], \"scattergl\": [{\"marker\": {\"colorbar\": {\"outlinewidth\": 0, \"ticks\": \"\"}}, \"type\": \"scattergl\"}], \"scattermapbox\": [{\"marker\": {\"colorbar\": {\"outlinewidth\": 0, \"ticks\": \"\"}}, \"type\": \"scattermapbox\"}], \"scatterpolar\": [{\"marker\": {\"colorbar\": {\"outlinewidth\": 0, \"ticks\": \"\"}}, \"type\": \"scatterpolar\"}], \"scatterpolargl\": [{\"marker\": {\"colorbar\": {\"outlinewidth\": 0, \"ticks\": \"\"}}, \"type\": \"scatterpolargl\"}], \"scatterternary\": [{\"marker\": {\"colorbar\": {\"outlinewidth\": 0, \"ticks\": \"\"}}, \"type\": \"scatterternary\"}], \"surface\": [{\"colorbar\": {\"outlinewidth\": 0, \"ticks\": \"\"}, \"colorscale\": [[0.0, \"#0d0887\"], [0.1111111111111111, \"#46039f\"], [0.2222222222222222, \"#7201a8\"], [0.3333333333333333, \"#9c179e\"], [0.4444444444444444, \"#bd3786\"], [0.5555555555555556, \"#d8576b\"], [0.6666666666666666, \"#ed7953\"], [0.7777777777777778, \"#fb9f3a\"], [0.8888888888888888, \"#fdca26\"], [1.0, \"#f0f921\"]], \"type\": \"surface\"}], \"table\": [{\"cells\": {\"fill\": {\"color\": \"#EBF0F8\"}, \"line\": {\"color\": \"white\"}}, \"header\": {\"fill\": {\"color\": \"#C8D4E3\"}, \"line\": {\"color\": \"white\"}}, \"type\": \"table\"}]}, \"layout\": {\"annotationdefaults\": {\"arrowcolor\": \"#2a3f5f\", \"arrowhead\": 0, \"arrowwidth\": 1}, \"autotypenumbers\": \"strict\", \"coloraxis\": {\"colorbar\": {\"outlinewidth\": 0, \"ticks\": \"\"}}, \"colorscale\": {\"diverging\": [[0, \"#8e0152\"], [0.1, \"#c51b7d\"], [0.2, \"#de77ae\"], [0.3, \"#f1b6da\"], [0.4, \"#fde0ef\"], [0.5, \"#f7f7f7\"], [0.6, \"#e6f5d0\"], [0.7, \"#b8e186\"], [0.8, \"#7fbc41\"], [0.9, \"#4d9221\"], [1, \"#276419\"]], \"sequential\": [[0.0, \"#0d0887\"], [0.1111111111111111, \"#46039f\"], [0.2222222222222222, \"#7201a8\"], [0.3333333333333333, \"#9c179e\"], [0.4444444444444444, \"#bd3786\"], [0.5555555555555556, \"#d8576b\"], [0.6666666666666666, \"#ed7953\"], [0.7777777777777778, \"#fb9f3a\"], [0.8888888888888888, \"#fdca26\"], [1.0, \"#f0f921\"]], \"sequentialminus\": [[0.0, \"#0d0887\"], [0.1111111111111111, \"#46039f\"], [0.2222222222222222, \"#7201a8\"], [0.3333333333333333, \"#9c179e\"], [0.4444444444444444, \"#bd3786\"], [0.5555555555555556, \"#d8576b\"], [0.6666666666666666, \"#ed7953\"], [0.7777777777777778, \"#fb9f3a\"], [0.8888888888888888, \"#fdca26\"], [1.0, \"#f0f921\"]]}, \"colorway\": [\"#636efa\", \"#EF553B\", \"#00cc96\", \"#ab63fa\", \"#FFA15A\", \"#19d3f3\", \"#FF6692\", \"#B6E880\", \"#FF97FF\", \"#FECB52\"], \"font\": {\"color\": \"#2a3f5f\"}, \"geo\": {\"bgcolor\": \"white\", \"lakecolor\": \"white\", \"landcolor\": \"#E5ECF6\", \"showlakes\": true, \"showland\": true, \"subunitcolor\": \"white\"}, \"hoverlabel\": {\"align\": \"left\"}, \"hovermode\": \"closest\", \"mapbox\": {\"style\": \"light\"}, \"paper_bgcolor\": \"white\", \"plot_bgcolor\": \"#E5ECF6\", \"polar\": {\"angularaxis\": {\"gridcolor\": \"white\", \"linecolor\": \"white\", \"ticks\": \"\"}, \"bgcolor\": \"#E5ECF6\", \"radialaxis\": {\"gridcolor\": \"white\", \"linecolor\": \"white\", \"ticks\": \"\"}}, \"scene\": {\"xaxis\": {\"backgroundcolor\": \"#E5ECF6\", \"gridcolor\": \"white\", \"gridwidth\": 2, \"linecolor\": \"white\", \"showbackground\": true, \"ticks\": \"\", \"zerolinecolor\": \"white\"}, \"yaxis\": {\"backgroundcolor\": \"#E5ECF6\", \"gridcolor\": \"white\", \"gridwidth\": 2, \"linecolor\": \"white\", \"showbackground\": true, \"ticks\": \"\", \"zerolinecolor\": \"white\"}, \"zaxis\": {\"backgroundcolor\": \"#E5ECF6\", \"gridcolor\": \"white\", \"gridwidth\": 2, \"linecolor\": \"white\", \"showbackground\": true, \"ticks\": \"\", \"zerolinecolor\": \"white\"}}, \"shapedefaults\": {\"line\": {\"color\": \"#2a3f5f\"}}, \"ternary\": {\"aaxis\": {\"gridcolor\": \"white\", \"linecolor\": \"white\", \"ticks\": \"\"}, \"baxis\": {\"gridcolor\": \"white\", \"linecolor\": \"white\", \"ticks\": \"\"}, \"bgcolor\": \"#E5ECF6\", \"caxis\": {\"gridcolor\": \"white\", \"linecolor\": \"white\", \"ticks\": \"\"}}, \"title\": {\"x\": 0.05}, \"xaxis\": {\"automargin\": true, \"gridcolor\": \"white\", \"linecolor\": \"white\", \"ticks\": \"\", \"title\": {\"standoff\": 15}, \"zerolinecolor\": \"white\", \"zerolinewidth\": 2}, \"yaxis\": {\"automargin\": true, \"gridcolor\": \"white\", \"linecolor\": \"white\", \"ticks\": \"\", \"title\": {\"standoff\": 15}, \"zerolinecolor\": \"white\", \"zerolinewidth\": 2}}}, \"xaxis\": {\"anchor\": \"y\", \"domain\": [0.0, 1.0], \"title\": {\"text\": \"GRE Score\"}}, \"yaxis\": {\"anchor\": \"x\", \"domain\": [0.0, 1.0], \"title\": {\"text\": \"count\"}}},                        {\"responsive\": true}                    ).then(function(){\n",
       "                            \n",
       "var gd = document.getElementById('b716cf3a-6d3b-4cea-abb6-3e9bb9fcd40e');\n",
       "var x = new MutationObserver(function (mutations, observer) {{\n",
       "        var display = window.getComputedStyle(gd).display;\n",
       "        if (!display || display === 'none') {{\n",
       "            console.log([gd, 'removed!']);\n",
       "            Plotly.purge(gd);\n",
       "            observer.disconnect();\n",
       "        }}\n",
       "}});\n",
       "\n",
       "// Listen for the removal of the full notebook cells\n",
       "var notebookContainer = gd.closest('#notebook-container');\n",
       "if (notebookContainer) {{\n",
       "    x.observe(notebookContainer, {childList: true});\n",
       "}}\n",
       "\n",
       "// Listen for the clearing of the current output cell\n",
       "var outputEl = gd.closest('.output');\n",
       "if (outputEl) {{\n",
       "    x.observe(outputEl, {childList: true});\n",
       "}}\n",
       "\n",
       "                        })                };                });            </script>        </div>"
      ]
     },
     "metadata": {},
     "output_type": "display_data"
    }
   ],
   "source": [
    "px.histogram(\n",
    "    data_frame=df,\n",
    "    x=\"GRE Score\",\n",
    "    color=\"University Rating\",\n",
    "    color_discrete_sequence=px.colors.sequential.Blugrn,\n",
    "    barmode=\"group\",\n",
    ")"
   ]
  },
  {
   "cell_type": "code",
   "execution_count": 72,
   "metadata": {
    "execution": {
     "iopub.execute_input": "2020-12-28T20:42:23.774452Z",
     "iopub.status.busy": "2020-12-28T20:42:23.770586Z",
     "iopub.status.idle": "2020-12-28T20:42:23.846707Z",
     "shell.execute_reply": "2020-12-28T20:42:23.847214Z"
    },
    "papermill": {
     "duration": 0.230505,
     "end_time": "2020-12-28T20:42:23.847375",
     "exception": false,
     "start_time": "2020-12-28T20:42:23.616870",
     "status": "completed"
    },
    "tags": []
   },
   "outputs": [
    {
     "data": {
      "text/html": [
       "<div>                            <div id=\"81939d42-a635-44f0-86ee-b3f1f0642225\" class=\"plotly-graph-div\" style=\"height:525px; width:100%;\"></div>            <script type=\"text/javascript\">                require([\"plotly\"], function(Plotly) {                    window.PLOTLYENV=window.PLOTLYENV || {};                                    if (document.getElementById(\"81939d42-a635-44f0-86ee-b3f1f0642225\")) {                    Plotly.newPlot(                        \"81939d42-a635-44f0-86ee-b3f1f0642225\",                        [{\"alignmentgroup\": \"True\", \"bingroup\": \"x\", \"hovertemplate\": \"University Rating=1<br>CGPA=%{x}<br>count=%{y}<extra></extra>\", \"legendgroup\": \"1\", \"marker\": {\"color\": \"rgb(196, 230, 195)\"}, \"name\": \"1\", \"offsetgroup\": \"1\", \"orientation\": \"v\", \"showlegend\": true, \"type\": \"histogram\", \"x\": [8.54, 7.2, 8.03, 9.12, 7.64, 7.8, 7.5, 8.01, 7.95, 7.23, 7.65, 7.46, 8.53, 7.56, 8.01, 7.65, 6.8, 8.66, 8.43, 7.89, 7.88, 7.46, 7.9, 7.68, 7.57, 8.18, 7.25, 7.56, 7.43, 7.36, 8.0, 7.86, 8.02, 7.34], \"xaxis\": \"x\", \"yaxis\": \"y\"}, {\"alignmentgroup\": \"True\", \"bingroup\": \"x\", \"hovertemplate\": \"University Rating=2<br>CGPA=%{x}<br>count=%{y}<extra></extra>\", \"legendgroup\": \"2\", \"marker\": {\"color\": \"rgb(150, 210, 164)\"}, \"name\": \"2\", \"offsetgroup\": \"2\", \"orientation\": \"v\", \"showlegend\": true, \"type\": \"histogram\", \"x\": [8.47, 8.0, 8.32, 9.02, 7.28, 7.88, 7.88, 8.57, 8.32, 8.56, 7.66, 7.65, 8.56, 7.65, 7.88, 7.64, 7.87, 8.12, 7.97, 8.25, 7.43, 8.01, 8.44, 8.73, 7.8, 7.96, 8.1, 7.98, 8.03, 8.54, 9.0, 8.14, 8.26, 8.36, 8.76, 7.8, 8.45, 8.74, 8.26, 7.64, 8.22, 7.79, 8.49, 8.62, 8.48, 8.46, 7.68, 8.42, 8.16, 9.15, 9.36, 7.86, 8.78, 8.96, 8.64, 9.08, 8.03, 8.0, 7.92, 8.34, 7.5, 7.3, 8.1, 8.16, 7.89, 8.36, 7.65, 8.4, 7.7, 8.27, 8.2, 8.5, 7.86, 8.12, 8.53, 8.12, 8.45, 7.89, 8.45, 8.12, 8.21, 8.22, 7.67, 7.9, 8.23, 8.06, 8.03, 8.22, 8.34, 7.64, 7.34, 8.13, 8.07, 8.76, 7.89, 8.18, 8.33, 8.24, 8.26, 8.52, 7.21, 8.56, 8.22, 7.54, 8.15, 8.43, 8.45, 8.76, 7.98, 8.28, 8.13, 8.64, 8.46, 8.04, 7.6, 8.27, 8.07, 7.86, 8.5, 8.2, 8.1, 7.9, 8.3, 8.13, 8.15, 8.24], \"xaxis\": \"x\", \"yaxis\": \"y\"}, {\"alignmentgroup\": \"True\", \"bingroup\": \"x\", \"hovertemplate\": \"University Rating=3<br>CGPA=%{x}<br>count=%{y}<extra></extra>\", \"legendgroup\": \"3\", \"marker\": {\"color\": \"rgb(109, 188, 144)\"}, \"name\": \"3\", \"offsetgroup\": \"3\", \"orientation\": \"v\", \"showlegend\": true, \"type\": \"histogram\", \"x\": [9.04, 8.76, 8.65, 8.67, 8.73, 8.33, 8.57, 8.87, 8.65, 8.37, 8.44, 9.0, 8.64, 8.8, 8.5, 8.44, 8.33, 9.14, 8.02, 8.66, 8.21, 8.54, 8.04, 8.34, 8.9, 8.46, 8.76, 8.24, 8.04, 8.27, 8.64, 8.17, 8.77, 8.79, 8.74, 9.22, 8.53, 8.26, 8.67, 8.09, 8.79, 8.68, 8.17, 8.84, 8.96, 8.64, 9.11, 8.79, 8.9, 8.54, 9.04, 8.67, 9.11, 9.24, 8.65, 8.55, 8.8, 9.1, 8.56, 8.56, 8.83, 8.42, 8.2, 8.7, 8.09, 9.02, 9.22, 8.9, 8.72, 8.02, 7.86, 8.13, 8.42, 8.14, 7.66, 7.66, 8.96, 8.88, 8.46, 9.05, 8.78, 8.75, 8.34, 8.45, 9.13, 8.62, 8.97, 7.4, 8.22, 7.7, 8.3, 8.45, 8.0, 8.67, 8.2, 8.6, 8.4, 8.0, 8.2, 8.3, 8.7, 8.0, 8.8, 8.5, 7.9, 8.5, 8.62, 8.37, 8.3, 7.89, 9.01, 8.0, 8.49, 8.12, 7.88, 8.85, 8.0, 8.66, 8.76, 8.71, 8.27, 7.42, 7.68, 8.1, 9.32, 8.12, 8.16, 8.8, 8.68, 7.94, 7.67, 8.33, 7.95, 8.43, 8.69, 8.54, 7.45, 8.54, 8.02, 8.12, 7.64, 8.94, 8.78, 9.11, 8.76, 8.95, 9.04, 8.27, 8.13, 8.65, 8.57, 8.75, 8.89, 8.45, 9.11, 8.34, 8.5, 8.69, 8.48, 8.56, 9.1, 8.21], \"xaxis\": \"x\", \"yaxis\": \"y\"}, {\"alignmentgroup\": \"True\", \"bingroup\": \"x\", \"hovertemplate\": \"University Rating=4<br>CGPA=%{x}<br>count=%{y}<extra></extra>\", \"legendgroup\": \"4\", \"marker\": {\"color\": \"rgb(77, 162, 132)\"}, \"name\": \"4\", \"offsetgroup\": \"4\", \"orientation\": \"v\", \"showlegend\": true, \"type\": \"histogram\", \"x\": [9.54, 9.44, 9.6, 9.25, 9.45, 9.12, 8.02, 9.23, 9.66, 9.22, 9.23, 7.69, 8.54, 7.81, 9.67, 8.86, 9.62, 9.17, 9.15, 8.26, 8.73, 8.88, 9.16, 9.74, 7.94, 8.66, 9.14, 9.36, 9.48, 7.95, 8.35, 8.18, 8.96, 7.88, 8.48, 9.02, 8.75, 8.77, 9.65, 9.8, 9.04, 7.46, 8.36, 8.47, 8.77, 9.92, 8.67, 8.68, 9.43, 9.13, 9.23, 8.97, 8.87, 9.16, 9.11, 9.06, 9.01, 9.14, 9.46, 9.24, 8.87, 9.0, 9.1, 8.4, 9.4, 9.1, 8.4, 9.18, 8.0, 8.92, 9.16, 9.04, 9.5, 8.66, 8.76, 7.84, 8.1, 9.66, 9.04, 9.66, 9.12, 9.18, 9.68, 8.43, 8.6, 9.02, 8.77, 9.0, 8.37, 8.65, 9.17, 9.0, 9.02, 9.01, 8.69, 8.97, 8.34, 8.76, 9.26, 9.11, 9.13, 9.14, 9.34, 9.42, 8.79], \"xaxis\": \"x\", \"yaxis\": \"y\"}, {\"alignmentgroup\": \"True\", \"bingroup\": \"x\", \"hovertemplate\": \"University Rating=5<br>CGPA=%{x}<br>count=%{y}<extra></extra>\", \"legendgroup\": \"5\", \"marker\": {\"color\": \"rgb(54, 135, 122)\"}, \"name\": \"5\", \"offsetgroup\": \"5\", \"orientation\": \"v\", \"showlegend\": true, \"type\": \"histogram\", \"x\": [9.45, 9.22, 9.27, 9.64, 8.78, 9.76, 9.08, 9.36, 9.45, 9.78, 9.3, 9.56, 9.87, 9.02, 9.23, 9.34, 8.74, 9.47, 9.5, 9.7, 9.7, 9.6, 8.8, 7.92, 9.6, 9.8, 9.2, 9.4, 9.19, 9.8, 9.1, 9.13, 9.45, 9.46, 9.54, 9.19, 8.97, 9.07, 9.23, 9.31, 9.44, 9.36, 9.08, 9.16, 8.98, 8.94, 9.53, 9.91, 9.87, 9.36, 9.86, 9.26, 9.06, 9.06, 9.38, 8.64, 8.48, 8.84, 9.56, 9.08, 9.25, 9.16, 9.48, 9.82, 9.35, 9.76, 8.65, 8.56, 8.78, 9.28, 9.44, 9.28, 8.66], \"xaxis\": \"x\", \"yaxis\": \"y\"}],                        {\"barmode\": \"group\", \"legend\": {\"title\": {\"text\": \"University Rating\"}, \"tracegroupgap\": 0}, \"margin\": {\"t\": 60}, \"template\": {\"data\": {\"bar\": [{\"error_x\": {\"color\": \"#2a3f5f\"}, \"error_y\": {\"color\": \"#2a3f5f\"}, \"marker\": {\"line\": {\"color\": \"#E5ECF6\", \"width\": 0.5}}, \"type\": \"bar\"}], \"barpolar\": [{\"marker\": {\"line\": {\"color\": \"#E5ECF6\", \"width\": 0.5}}, \"type\": \"barpolar\"}], \"carpet\": [{\"aaxis\": {\"endlinecolor\": \"#2a3f5f\", \"gridcolor\": \"white\", \"linecolor\": \"white\", \"minorgridcolor\": \"white\", \"startlinecolor\": \"#2a3f5f\"}, \"baxis\": {\"endlinecolor\": \"#2a3f5f\", \"gridcolor\": \"white\", \"linecolor\": \"white\", \"minorgridcolor\": \"white\", \"startlinecolor\": \"#2a3f5f\"}, \"type\": \"carpet\"}], \"choropleth\": [{\"colorbar\": {\"outlinewidth\": 0, \"ticks\": \"\"}, \"type\": \"choropleth\"}], \"contour\": [{\"colorbar\": {\"outlinewidth\": 0, \"ticks\": \"\"}, \"colorscale\": [[0.0, \"#0d0887\"], [0.1111111111111111, \"#46039f\"], [0.2222222222222222, \"#7201a8\"], [0.3333333333333333, \"#9c179e\"], [0.4444444444444444, \"#bd3786\"], [0.5555555555555556, \"#d8576b\"], [0.6666666666666666, \"#ed7953\"], [0.7777777777777778, \"#fb9f3a\"], [0.8888888888888888, \"#fdca26\"], [1.0, \"#f0f921\"]], \"type\": \"contour\"}], \"contourcarpet\": [{\"colorbar\": {\"outlinewidth\": 0, \"ticks\": \"\"}, \"type\": \"contourcarpet\"}], \"heatmap\": [{\"colorbar\": {\"outlinewidth\": 0, \"ticks\": \"\"}, \"colorscale\": [[0.0, \"#0d0887\"], [0.1111111111111111, \"#46039f\"], [0.2222222222222222, \"#7201a8\"], [0.3333333333333333, \"#9c179e\"], [0.4444444444444444, \"#bd3786\"], [0.5555555555555556, \"#d8576b\"], [0.6666666666666666, \"#ed7953\"], [0.7777777777777778, \"#fb9f3a\"], [0.8888888888888888, \"#fdca26\"], [1.0, \"#f0f921\"]], \"type\": \"heatmap\"}], \"heatmapgl\": [{\"colorbar\": {\"outlinewidth\": 0, \"ticks\": \"\"}, \"colorscale\": [[0.0, \"#0d0887\"], [0.1111111111111111, \"#46039f\"], [0.2222222222222222, \"#7201a8\"], [0.3333333333333333, \"#9c179e\"], [0.4444444444444444, \"#bd3786\"], [0.5555555555555556, \"#d8576b\"], [0.6666666666666666, \"#ed7953\"], [0.7777777777777778, \"#fb9f3a\"], [0.8888888888888888, \"#fdca26\"], [1.0, \"#f0f921\"]], \"type\": \"heatmapgl\"}], \"histogram\": [{\"marker\": {\"colorbar\": {\"outlinewidth\": 0, \"ticks\": \"\"}}, \"type\": \"histogram\"}], \"histogram2d\": [{\"colorbar\": {\"outlinewidth\": 0, \"ticks\": \"\"}, \"colorscale\": [[0.0, \"#0d0887\"], [0.1111111111111111, \"#46039f\"], [0.2222222222222222, \"#7201a8\"], [0.3333333333333333, \"#9c179e\"], [0.4444444444444444, \"#bd3786\"], [0.5555555555555556, \"#d8576b\"], [0.6666666666666666, \"#ed7953\"], [0.7777777777777778, \"#fb9f3a\"], [0.8888888888888888, \"#fdca26\"], [1.0, \"#f0f921\"]], \"type\": \"histogram2d\"}], \"histogram2dcontour\": [{\"colorbar\": {\"outlinewidth\": 0, \"ticks\": \"\"}, \"colorscale\": [[0.0, \"#0d0887\"], [0.1111111111111111, \"#46039f\"], [0.2222222222222222, \"#7201a8\"], [0.3333333333333333, \"#9c179e\"], [0.4444444444444444, \"#bd3786\"], [0.5555555555555556, \"#d8576b\"], [0.6666666666666666, \"#ed7953\"], [0.7777777777777778, \"#fb9f3a\"], [0.8888888888888888, \"#fdca26\"], [1.0, \"#f0f921\"]], \"type\": \"histogram2dcontour\"}], \"mesh3d\": [{\"colorbar\": {\"outlinewidth\": 0, \"ticks\": \"\"}, \"type\": \"mesh3d\"}], \"parcoords\": [{\"line\": {\"colorbar\": {\"outlinewidth\": 0, \"ticks\": \"\"}}, \"type\": \"parcoords\"}], \"pie\": [{\"automargin\": true, \"type\": \"pie\"}], \"scatter\": [{\"marker\": {\"colorbar\": {\"outlinewidth\": 0, \"ticks\": \"\"}}, \"type\": \"scatter\"}], \"scatter3d\": [{\"line\": {\"colorbar\": {\"outlinewidth\": 0, \"ticks\": \"\"}}, \"marker\": {\"colorbar\": {\"outlinewidth\": 0, \"ticks\": \"\"}}, \"type\": \"scatter3d\"}], \"scattercarpet\": [{\"marker\": {\"colorbar\": {\"outlinewidth\": 0, \"ticks\": \"\"}}, \"type\": \"scattercarpet\"}], \"scattergeo\": [{\"marker\": {\"colorbar\": {\"outlinewidth\": 0, \"ticks\": \"\"}}, \"type\": \"scattergeo\"}], \"scattergl\": [{\"marker\": {\"colorbar\": {\"outlinewidth\": 0, \"ticks\": \"\"}}, \"type\": \"scattergl\"}], \"scattermapbox\": [{\"marker\": {\"colorbar\": {\"outlinewidth\": 0, \"ticks\": \"\"}}, \"type\": \"scattermapbox\"}], \"scatterpolar\": [{\"marker\": {\"colorbar\": {\"outlinewidth\": 0, \"ticks\": \"\"}}, \"type\": \"scatterpolar\"}], \"scatterpolargl\": [{\"marker\": {\"colorbar\": {\"outlinewidth\": 0, \"ticks\": \"\"}}, \"type\": \"scatterpolargl\"}], \"scatterternary\": [{\"marker\": {\"colorbar\": {\"outlinewidth\": 0, \"ticks\": \"\"}}, \"type\": \"scatterternary\"}], \"surface\": [{\"colorbar\": {\"outlinewidth\": 0, \"ticks\": \"\"}, \"colorscale\": [[0.0, \"#0d0887\"], [0.1111111111111111, \"#46039f\"], [0.2222222222222222, \"#7201a8\"], [0.3333333333333333, \"#9c179e\"], [0.4444444444444444, \"#bd3786\"], [0.5555555555555556, \"#d8576b\"], [0.6666666666666666, \"#ed7953\"], [0.7777777777777778, \"#fb9f3a\"], [0.8888888888888888, \"#fdca26\"], [1.0, \"#f0f921\"]], \"type\": \"surface\"}], \"table\": [{\"cells\": {\"fill\": {\"color\": \"#EBF0F8\"}, \"line\": {\"color\": \"white\"}}, \"header\": {\"fill\": {\"color\": \"#C8D4E3\"}, \"line\": {\"color\": \"white\"}}, \"type\": \"table\"}]}, \"layout\": {\"annotationdefaults\": {\"arrowcolor\": \"#2a3f5f\", \"arrowhead\": 0, \"arrowwidth\": 1}, \"autotypenumbers\": \"strict\", \"coloraxis\": {\"colorbar\": {\"outlinewidth\": 0, \"ticks\": \"\"}}, \"colorscale\": {\"diverging\": [[0, \"#8e0152\"], [0.1, \"#c51b7d\"], [0.2, \"#de77ae\"], [0.3, \"#f1b6da\"], [0.4, \"#fde0ef\"], [0.5, \"#f7f7f7\"], [0.6, \"#e6f5d0\"], [0.7, \"#b8e186\"], [0.8, \"#7fbc41\"], [0.9, \"#4d9221\"], [1, \"#276419\"]], \"sequential\": [[0.0, \"#0d0887\"], [0.1111111111111111, \"#46039f\"], [0.2222222222222222, \"#7201a8\"], [0.3333333333333333, \"#9c179e\"], [0.4444444444444444, \"#bd3786\"], [0.5555555555555556, \"#d8576b\"], [0.6666666666666666, \"#ed7953\"], [0.7777777777777778, \"#fb9f3a\"], [0.8888888888888888, \"#fdca26\"], [1.0, \"#f0f921\"]], \"sequentialminus\": [[0.0, \"#0d0887\"], [0.1111111111111111, \"#46039f\"], [0.2222222222222222, \"#7201a8\"], [0.3333333333333333, \"#9c179e\"], [0.4444444444444444, \"#bd3786\"], [0.5555555555555556, \"#d8576b\"], [0.6666666666666666, \"#ed7953\"], [0.7777777777777778, \"#fb9f3a\"], [0.8888888888888888, \"#fdca26\"], [1.0, \"#f0f921\"]]}, \"colorway\": [\"#636efa\", \"#EF553B\", \"#00cc96\", \"#ab63fa\", \"#FFA15A\", \"#19d3f3\", \"#FF6692\", \"#B6E880\", \"#FF97FF\", \"#FECB52\"], \"font\": {\"color\": \"#2a3f5f\"}, \"geo\": {\"bgcolor\": \"white\", \"lakecolor\": \"white\", \"landcolor\": \"#E5ECF6\", \"showlakes\": true, \"showland\": true, \"subunitcolor\": \"white\"}, \"hoverlabel\": {\"align\": \"left\"}, \"hovermode\": \"closest\", \"mapbox\": {\"style\": \"light\"}, \"paper_bgcolor\": \"white\", \"plot_bgcolor\": \"#E5ECF6\", \"polar\": {\"angularaxis\": {\"gridcolor\": \"white\", \"linecolor\": \"white\", \"ticks\": \"\"}, \"bgcolor\": \"#E5ECF6\", \"radialaxis\": {\"gridcolor\": \"white\", \"linecolor\": \"white\", \"ticks\": \"\"}}, \"scene\": {\"xaxis\": {\"backgroundcolor\": \"#E5ECF6\", \"gridcolor\": \"white\", \"gridwidth\": 2, \"linecolor\": \"white\", \"showbackground\": true, \"ticks\": \"\", \"zerolinecolor\": \"white\"}, \"yaxis\": {\"backgroundcolor\": \"#E5ECF6\", \"gridcolor\": \"white\", \"gridwidth\": 2, \"linecolor\": \"white\", \"showbackground\": true, \"ticks\": \"\", \"zerolinecolor\": \"white\"}, \"zaxis\": {\"backgroundcolor\": \"#E5ECF6\", \"gridcolor\": \"white\", \"gridwidth\": 2, \"linecolor\": \"white\", \"showbackground\": true, \"ticks\": \"\", \"zerolinecolor\": \"white\"}}, \"shapedefaults\": {\"line\": {\"color\": \"#2a3f5f\"}}, \"ternary\": {\"aaxis\": {\"gridcolor\": \"white\", \"linecolor\": \"white\", \"ticks\": \"\"}, \"baxis\": {\"gridcolor\": \"white\", \"linecolor\": \"white\", \"ticks\": \"\"}, \"bgcolor\": \"#E5ECF6\", \"caxis\": {\"gridcolor\": \"white\", \"linecolor\": \"white\", \"ticks\": \"\"}}, \"title\": {\"x\": 0.05}, \"xaxis\": {\"automargin\": true, \"gridcolor\": \"white\", \"linecolor\": \"white\", \"ticks\": \"\", \"title\": {\"standoff\": 15}, \"zerolinecolor\": \"white\", \"zerolinewidth\": 2}, \"yaxis\": {\"automargin\": true, \"gridcolor\": \"white\", \"linecolor\": \"white\", \"ticks\": \"\", \"title\": {\"standoff\": 15}, \"zerolinecolor\": \"white\", \"zerolinewidth\": 2}}}, \"xaxis\": {\"anchor\": \"y\", \"domain\": [0.0, 1.0], \"title\": {\"text\": \"CGPA\"}}, \"yaxis\": {\"anchor\": \"x\", \"domain\": [0.0, 1.0], \"title\": {\"text\": \"count\"}}},                        {\"responsive\": true}                    ).then(function(){\n",
       "                            \n",
       "var gd = document.getElementById('81939d42-a635-44f0-86ee-b3f1f0642225');\n",
       "var x = new MutationObserver(function (mutations, observer) {{\n",
       "        var display = window.getComputedStyle(gd).display;\n",
       "        if (!display || display === 'none') {{\n",
       "            console.log([gd, 'removed!']);\n",
       "            Plotly.purge(gd);\n",
       "            observer.disconnect();\n",
       "        }}\n",
       "}});\n",
       "\n",
       "// Listen for the removal of the full notebook cells\n",
       "var notebookContainer = gd.closest('#notebook-container');\n",
       "if (notebookContainer) {{\n",
       "    x.observe(notebookContainer, {childList: true});\n",
       "}}\n",
       "\n",
       "// Listen for the clearing of the current output cell\n",
       "var outputEl = gd.closest('.output');\n",
       "if (outputEl) {{\n",
       "    x.observe(outputEl, {childList: true});\n",
       "}}\n",
       "\n",
       "                        })                };                });            </script>        </div>"
      ]
     },
     "metadata": {},
     "output_type": "display_data"
    }
   ],
   "source": [
    "px.histogram(\n",
    "    data_frame=df,\n",
    "    x=\"CGPA\",\n",
    "    color=\"University Rating\",\n",
    "    color_discrete_sequence=px.colors.sequential.Blugrn,\n",
    "    barmode=\"group\",\n",
    ")"
   ]
  },
  {
   "cell_type": "markdown",
   "metadata": {
    "papermill": {
     "duration": 0.143043,
     "end_time": "2020-12-28T20:42:24.132457",
     "exception": false,
     "start_time": "2020-12-28T20:42:23.989414",
     "status": "completed"
    },
    "tags": []
   },
   "source": [
    "The university ranking plays an important role in student's scores and GPA, we can observe that students who go to higher ranking universities, have higher scores in the *TOEFL* and *GRE* exams, and they have higher *GPA*."
   ]
  },
  {
   "cell_type": "markdown",
   "metadata": {
    "papermill": {
     "duration": 0.141265,
     "end_time": "2020-12-28T20:42:24.414517",
     "exception": false,
     "start_time": "2020-12-28T20:42:24.273252",
     "status": "completed"
    },
    "tags": []
   },
   "source": [
    "## Multivariate Analysis"
   ]
  },
  {
   "cell_type": "markdown",
   "metadata": {
    "papermill": {
     "duration": 0.151007,
     "end_time": "2020-12-28T20:42:24.706795",
     "exception": false,
     "start_time": "2020-12-28T20:42:24.555788",
     "status": "completed"
    },
    "tags": []
   },
   "source": [
    "So far, all the plots we used before were used either to explore one variable, or to show the relation between a pair of variables.\n",
    "\n",
    "However, we are often interested in answering the question: **How does the relation between two variables changes as a function of a *third* variable?**\n",
    "\n",
    "In this section, we'll focus on answering these kinds of questions, where we'll use similar plots to the ones we used before, with conditioning on other variable."
   ]
  },
  {
   "cell_type": "markdown",
   "metadata": {
    "collapsed": "true",
    "papermill": {
     "duration": 0.140544,
     "end_time": "2020-12-28T20:42:25.001651",
     "exception": false,
     "start_time": "2020-12-28T20:42:24.861107",
     "status": "completed"
    },
    "tags": []
   },
   "source": [
    "### Scatter matrix with `Research`"
   ]
  },
  {
   "cell_type": "markdown",
   "metadata": {
    "papermill": {
     "duration": 0.140988,
     "end_time": "2020-12-28T20:42:25.294429",
     "exception": false,
     "start_time": "2020-12-28T20:42:25.153441",
     "status": "completed"
    },
    "tags": []
   },
   "source": [
    "We start by plotting the scatter matrix for variables `TOEFL Score`, `GRE Score` and `CGPA` (just as we did in bivariate analysis section), with showing the relation to `Research` variable with color coding.\n",
    "\n",
    "This will draw an overall picture of how these variables are related to each other, and how this relation changes when whether student has a research experience or not."
   ]
  },
  {
   "cell_type": "code",
   "execution_count": 73,
   "metadata": {
    "execution": {
     "iopub.execute_input": "2020-12-28T20:42:25.581370Z",
     "iopub.status.busy": "2020-12-28T20:42:25.580739Z",
     "iopub.status.idle": "2020-12-28T20:42:25.650140Z",
     "shell.execute_reply": "2020-12-28T20:42:25.649588Z"
    },
    "papermill": {
     "duration": 0.212933,
     "end_time": "2020-12-28T20:42:25.650269",
     "exception": false,
     "start_time": "2020-12-28T20:42:25.437336",
     "status": "completed"
    },
    "tags": []
   },
   "outputs": [
    {
     "data": {
      "text/html": [
       "<div>                            <div id=\"23b4418a-1345-4b9e-abce-aa2e8f302bcb\" class=\"plotly-graph-div\" style=\"height:525px; width:100%;\"></div>            <script type=\"text/javascript\">                require([\"plotly\"], function(Plotly) {                    window.PLOTLYENV=window.PLOTLYENV || {};                                    if (document.getElementById(\"23b4418a-1345-4b9e-abce-aa2e8f302bcb\")) {                    Plotly.newPlot(                        \"23b4418a-1345-4b9e-abce-aa2e8f302bcb\",                        [{\"dimensions\": [{\"axis\": {\"matches\": true}, \"label\": \"GRE Score\", \"values\": [318, 301, 312, 310, 317, 312, 300, 332, 311, 312, 301, 316, 293, 308, 318, 308, 325, 311, 306, 316, 329, 332, 320, 325, 320, 326, 318, 311, 298, 300, 316, 313, 311, 307, 301, 300, 303, 307, 329, 296, 322, 316, 315, 312, 315, 304, 312, 325, 324, 319, 320, 324, 320, 324, 324, 317, 323, 326, 327, 308, 319, 320, 313, 312, 326, 318, 322, 327, 320, 324, 319, 324, 314, 322, 322, 311, 317, 312, 321, 321, 324, 330, 323, 321, 323, 321, 318, 327, 312, 301, 331, 323, 322, 326, 316, 301, 311, 320, 313, 301, 316, 322, 321, 325, 307, 311, 319, 312, 322, 327, 317, 321, 308, 318, 321, 300, 319, 319, 323, 317, 317, 297, 298, 317, 310, 301, 311, 324, 325, 321, 311, 310, 326, 326, 334, 331, 328, 324, 330, 326, 322, 329, 333, 324, 330, 298, 327, 320, 336, 330, 324, 314, 323, 326, 340, 319, 329, 327, 308, 321, 325, 314, 323, 322, 327, 328, 337, 339, 310, 314, 340, 325, 321, 334, 322, 323, 321, 320, 329, 327, 325, 329, 328, 338, 332, 324, 327, 328, 338, 327, 329, 334, 328, 314, 340, 316, 324, 338, 340, 328, 335, 328, 324, 325, 312, 325, 311, 324, 327, 324, 326, 322, 325, 321, 331, 331, 340, 320, 320, 332, 318, 336, 324, 322, 321, 333, 329, 330, 337, 332, 338, 330, 323, 332, 328, 334, 340, 340, 331, 320, 326, 336, 336, 322, 327, 329, 325, 334, 329, 334, 326, 330, 335, 331, 324, 324, 323, 322, 336, 340, 334, 330, 323, 331, 321, 340, 331, 327, 335, 328, 324, 321, 334, 335, 333, 339, 333, 331, 332, 324]}, {\"axis\": {\"matches\": true}, \"label\": \"TOEFL Score\", \"values\": [110, 98, 99, 110, 106, 100, 99, 112, 99, 98, 97, 101, 97, 102, 100, 103, 110, 106, 105, 100, 110, 118, 112, 112, 113, 116, 106, 101, 98, 97, 105, 107, 105, 105, 104, 95, 100, 107, 114, 95, 105, 107, 110, 101, 107, 105, 100, 114, 115, 106, 104, 110, 108, 100, 111, 106, 104, 116, 113, 106, 108, 104, 102, 107, 110, 107, 110, 109, 104, 110, 105, 111, 107, 104, 110, 102, 110, 106, 111, 109, 110, 114, 107, 109, 110, 111, 109, 112, 105, 102, 120, 113, 107, 112, 110, 107, 105, 108, 98, 99, 104, 110, 109, 106, 109, 104, 106, 107, 112, 103, 106, 102, 110, 103, 110, 100, 103, 112, 113, 107, 101, 101, 100, 103, 102, 104, 101, 109, 107, 112, 104, 101, 114, 112, 116, 116, 116, 113, 116, 112, 103, 111, 117, 112, 116, 101, 118, 112, 119, 114, 110, 99, 110, 114, 113, 105, 113, 116, 105, 110, 110, 102, 107, 112, 106, 113, 118, 116, 106, 109, 120, 110, 109, 114, 110, 113, 111, 111, 119, 113, 108, 111, 110, 117, 119, 107, 111, 112, 118, 111, 111, 116, 115, 108, 120, 109, 112, 120, 112, 108, 115, 110, 112, 112, 107, 112, 107, 111, 113, 110, 102, 112, 111, 109, 119, 117, 115, 110, 110, 118, 101, 112, 114, 115, 111, 119, 114, 120, 117, 108, 115, 115, 108, 118, 116, 119, 120, 114, 112, 110, 113, 118, 119, 110, 108, 113, 114, 119, 114, 117, 111, 113, 118, 115, 112, 111, 110, 114, 118, 120, 120, 116, 111, 116, 112, 115, 116, 104, 117, 116, 113, 114, 119, 117, 118, 114, 113, 115, 116, 107]}, {\"axis\": {\"matches\": true}, \"label\": \"CGPA\", \"values\": [8.54, 8.03, 8.01, 7.23, 7.65, 8.53, 6.8, 8.66, 8.43, 8.18, 7.88, 8.32, 7.8, 7.98, 8.54, 8.36, 8.76, 8.26, 8.22, 8.16, 9.15, 9.36, 8.78, 8.96, 8.64, 9.08, 7.92, 8.34, 7.5, 8.1, 8.2, 8.5, 8.12, 8.12, 7.89, 8.22, 8.06, 8.52, 8.56, 7.54, 8.45, 8.64, 8.46, 8.04, 8.5, 8.2, 7.9, 9.04, 8.76, 8.33, 8.57, 8.87, 8.44, 8.64, 8.8, 8.5, 8.44, 9.14, 8.66, 8.21, 8.54, 8.34, 8.9, 8.46, 8.76, 8.27, 8.64, 8.77, 8.74, 9.22, 8.67, 8.79, 8.17, 8.84, 8.96, 8.64, 9.11, 8.79, 8.9, 8.54, 9.04, 9.24, 8.55, 8.8, 9.1, 8.83, 9.22, 8.72, 8.02, 8.13, 8.96, 8.88, 8.46, 9.05, 8.78, 8.34, 8.45, 8.97, 8.3, 8.45, 8.0, 8.67, 8.2, 8.4, 8.0, 8.2, 8.0, 7.9, 8.62, 8.3, 7.89, 9.01, 8.0, 8.49, 8.85, 8.66, 8.76, 8.71, 9.32, 8.68, 7.94, 7.67, 7.95, 8.54, 8.02, 8.12, 7.64, 8.94, 9.11, 8.95, 8.13, 8.65, 9.11, 9.1, 9.54, 9.44, 9.6, 9.25, 9.45, 9.12, 8.02, 9.23, 9.66, 9.22, 9.23, 7.69, 9.67, 8.86, 9.62, 9.17, 9.15, 8.73, 8.88, 9.16, 9.74, 8.66, 9.36, 9.48, 7.95, 8.35, 8.96, 7.88, 8.48, 9.02, 8.75, 8.77, 9.65, 9.8, 9.04, 8.77, 9.92, 8.67, 8.68, 9.43, 9.13, 9.23, 8.97, 8.87, 9.16, 9.11, 9.06, 9.01, 9.14, 9.46, 9.24, 8.87, 9.0, 9.1, 9.4, 8.4, 9.18, 8.0, 9.16, 9.04, 9.5, 8.76, 8.1, 9.66, 9.66, 9.18, 9.68, 9.02, 8.77, 9.0, 8.65, 9.17, 9.0, 9.01, 8.69, 8.97, 8.76, 9.26, 9.11, 9.13, 9.34, 9.42, 9.45, 9.22, 9.27, 9.64, 8.78, 9.76, 9.08, 9.36, 9.45, 9.78, 9.3, 9.56, 9.87, 9.02, 9.23, 9.34, 8.74, 9.47, 9.5, 9.7, 9.6, 9.6, 9.8, 9.2, 9.4, 9.19, 9.8, 9.1, 9.13, 9.45, 9.46, 9.54, 9.19, 9.07, 9.23, 9.31, 9.44, 9.36, 9.08, 9.16, 8.98, 8.94, 9.53, 9.91, 9.87, 9.36, 9.86, 9.26, 9.06, 9.06, 9.38, 8.84, 9.56, 9.08, 9.25, 9.16, 9.48, 9.82, 9.35, 9.76, 9.28, 9.44, 9.28, 8.66]}], \"hovertemplate\": \"Research=True<br>%{xaxis.title.text}=%{x}<br>%{yaxis.title.text}=%{y}<extra></extra>\", \"legendgroup\": \"True\", \"marker\": {\"color\": \"#636efa\", \"symbol\": \"circle\"}, \"name\": \"True\", \"showlegend\": true, \"type\": \"splom\"}, {\"dimensions\": [{\"axis\": {\"matches\": true}, \"label\": \"GRE Score\", \"values\": [295, 318, 294, 300, 304, 315, 311, 290, 300, 303, 299, 298, 298, 297, 296, 295, 302, 301, 316, 294, 302, 315, 300, 299, 317, 306, 316, 312, 296, 299, 317, 320, 304, 315, 314, 307, 299, 305, 300, 312, 302, 314, 297, 310, 321, 304, 302, 307, 309, 316, 306, 309, 296, 312, 316, 314, 305, 308, 320, 311, 312, 309, 305, 299, 298, 309, 310, 305, 315, 306, 295, 299, 307, 312, 295, 312, 306, 308, 317, 314, 297, 308, 305, 296, 304, 315, 304, 295, 305, 304, 317, 297, 305, 310, 310, 306, 298, 301, 317, 313, 319, 311, 317, 313, 298, 314, 308, 298, 309, 311, 305, 316, 314, 318, 318, 316, 313, 310, 313, 315, 299, 301, 308, 313, 300, 319, 312, 300, 312, 313, 310, 320, 305, 309, 316, 312, 307, 325, 311, 327, 314, 304, 315, 314, 299, 303, 313, 315, 299, 316, 308, 320, 323, 314, 317, 318, 303, 302, 319, 304, 300, 322, 313, 299, 316, 315, 309, 300, 314, 302, 311, 313, 302, 298, 312, 316, 319, 307, 312, 324, 326, 312, 315, 318, 312, 315, 317, 306, 316, 297, 305, 307, 327, 309, 290, 310, 301, 325, 332, 325, 319, 304, 327, 321, 312, 308, 307, 314, 308, 327, 324, 339, 322, 304, 322, 304, 305, 303, 309, 323]}, {\"axis\": {\"matches\": true}, \"label\": \"TOEFL Score\", \"values\": [93, 109, 95, 105, 105, 100, 98, 100, 99, 98, 100, 92, 99, 100, 101, 99, 99, 96, 98, 93, 102, 103, 98, 94, 104, 100, 106, 109, 99, 100, 100, 110, 101, 105, 107, 105, 100, 102, 102, 105, 99, 106, 96, 105, 107, 102, 101, 105, 111, 99, 106, 104, 97, 105, 103, 105, 104, 103, 101, 104, 105, 105, 107, 96, 98, 106, 99, 106, 99, 103, 99, 106, 108, 107, 101, 110, 110, 109, 106, 103, 98, 101, 105, 99, 100, 105, 97, 96, 103, 100, 104, 96, 102, 106, 103, 105, 97, 99, 103, 106, 108, 99, 107, 94, 99, 107, 104, 101, 100, 104, 105, 102, 102, 106, 112, 105, 104, 104, 109, 104, 100, 100, 106, 101, 102, 110, 108, 100, 104, 102, 107, 120, 112, 99, 110, 104, 101, 111, 103, 114, 106, 107, 106, 108, 97, 99, 103, 101, 102, 102, 108, 103, 108, 105, 107, 110, 102, 110, 102, 104, 101, 110, 102, 100, 103, 104, 108, 104, 110, 102, 104, 107, 99, 105, 103, 109, 110, 102, 106, 105, 108, 103, 105, 109, 109, 105, 105, 103, 111, 99, 96, 105, 115, 105, 104, 106, 106, 114, 117, 112, 103, 100, 113, 114, 103, 110, 110, 104, 108, 113, 113, 119, 109, 103, 110, 103, 108, 105, 105, 112]}, {\"axis\": {\"matches\": true}, \"label\": \"CGPA\", \"values\": [7.2, 9.12, 7.64, 7.8, 7.5, 7.95, 7.46, 7.56, 8.01, 7.65, 7.89, 7.88, 7.46, 7.9, 7.68, 7.57, 7.25, 7.56, 7.43, 7.36, 8.0, 7.86, 8.02, 7.34, 8.47, 8.0, 8.32, 9.02, 7.28, 7.88, 8.57, 8.56, 7.66, 7.65, 8.56, 7.65, 7.88, 7.64, 7.87, 8.12, 7.97, 8.25, 7.43, 8.01, 8.44, 8.73, 7.96, 8.1, 8.03, 9.0, 8.14, 8.26, 7.8, 8.45, 8.74, 7.64, 7.79, 8.49, 8.62, 8.48, 8.46, 7.68, 8.42, 7.86, 8.03, 8.0, 7.3, 8.16, 7.89, 8.36, 7.65, 8.4, 7.7, 8.27, 7.86, 8.53, 8.45, 8.45, 8.12, 8.21, 7.67, 7.9, 8.23, 8.03, 8.22, 8.34, 7.64, 7.34, 8.13, 8.07, 8.76, 7.89, 8.18, 8.33, 8.24, 8.26, 7.21, 8.22, 8.15, 8.43, 8.76, 7.98, 8.28, 8.13, 7.6, 8.27, 8.07, 7.86, 8.1, 8.3, 8.13, 8.15, 8.24, 8.65, 8.67, 8.73, 8.65, 8.37, 9.0, 8.33, 8.02, 8.04, 8.24, 8.04, 8.17, 8.79, 8.53, 8.26, 8.09, 8.68, 8.67, 9.11, 8.65, 8.56, 8.56, 8.42, 8.2, 8.7, 8.09, 9.02, 8.9, 7.86, 8.42, 8.14, 7.66, 7.66, 8.75, 9.13, 8.62, 7.4, 8.22, 7.7, 8.6, 8.3, 8.7, 8.8, 8.5, 8.5, 8.37, 8.12, 7.88, 8.0, 8.27, 7.42, 7.68, 8.1, 8.12, 8.16, 8.8, 8.33, 8.43, 8.69, 7.45, 8.54, 8.78, 8.76, 9.04, 8.27, 8.57, 8.75, 8.89, 8.45, 8.34, 8.5, 8.69, 8.48, 8.56, 8.21, 8.54, 7.81, 8.26, 7.94, 9.14, 8.18, 7.46, 8.36, 8.47, 8.4, 9.1, 8.92, 8.66, 7.84, 9.04, 9.12, 8.43, 8.6, 8.37, 9.02, 8.34, 9.14, 8.79, 9.7, 8.8, 7.92, 8.97, 8.64, 8.48, 8.65, 8.56, 8.78]}], \"hovertemplate\": \"Research=False<br>%{xaxis.title.text}=%{x}<br>%{yaxis.title.text}=%{y}<extra></extra>\", \"legendgroup\": \"False\", \"marker\": {\"color\": \"#EF553B\", \"symbol\": \"circle\"}, \"name\": \"False\", \"showlegend\": true, \"type\": \"splom\"}],                        {\"dragmode\": \"select\", \"legend\": {\"title\": {\"text\": \"Research\"}, \"tracegroupgap\": 0}, \"template\": {\"data\": {\"bar\": [{\"error_x\": {\"color\": \"#2a3f5f\"}, \"error_y\": {\"color\": \"#2a3f5f\"}, \"marker\": {\"line\": {\"color\": \"#E5ECF6\", \"width\": 0.5}}, \"type\": \"bar\"}], \"barpolar\": [{\"marker\": {\"line\": {\"color\": \"#E5ECF6\", \"width\": 0.5}}, \"type\": \"barpolar\"}], \"carpet\": [{\"aaxis\": {\"endlinecolor\": \"#2a3f5f\", \"gridcolor\": \"white\", \"linecolor\": \"white\", \"minorgridcolor\": \"white\", \"startlinecolor\": \"#2a3f5f\"}, \"baxis\": {\"endlinecolor\": \"#2a3f5f\", \"gridcolor\": \"white\", \"linecolor\": \"white\", \"minorgridcolor\": \"white\", \"startlinecolor\": \"#2a3f5f\"}, \"type\": \"carpet\"}], \"choropleth\": [{\"colorbar\": {\"outlinewidth\": 0, \"ticks\": \"\"}, \"type\": \"choropleth\"}], \"contour\": [{\"colorbar\": {\"outlinewidth\": 0, \"ticks\": \"\"}, \"colorscale\": [[0.0, \"#0d0887\"], [0.1111111111111111, \"#46039f\"], [0.2222222222222222, \"#7201a8\"], [0.3333333333333333, \"#9c179e\"], [0.4444444444444444, \"#bd3786\"], [0.5555555555555556, \"#d8576b\"], [0.6666666666666666, \"#ed7953\"], [0.7777777777777778, \"#fb9f3a\"], [0.8888888888888888, \"#fdca26\"], [1.0, \"#f0f921\"]], \"type\": \"contour\"}], \"contourcarpet\": [{\"colorbar\": {\"outlinewidth\": 0, \"ticks\": \"\"}, \"type\": \"contourcarpet\"}], \"heatmap\": [{\"colorbar\": {\"outlinewidth\": 0, \"ticks\": \"\"}, \"colorscale\": [[0.0, \"#0d0887\"], [0.1111111111111111, \"#46039f\"], [0.2222222222222222, \"#7201a8\"], [0.3333333333333333, \"#9c179e\"], [0.4444444444444444, \"#bd3786\"], [0.5555555555555556, \"#d8576b\"], [0.6666666666666666, \"#ed7953\"], [0.7777777777777778, \"#fb9f3a\"], [0.8888888888888888, \"#fdca26\"], [1.0, \"#f0f921\"]], \"type\": \"heatmap\"}], \"heatmapgl\": [{\"colorbar\": {\"outlinewidth\": 0, \"ticks\": \"\"}, \"colorscale\": [[0.0, \"#0d0887\"], [0.1111111111111111, \"#46039f\"], [0.2222222222222222, \"#7201a8\"], [0.3333333333333333, \"#9c179e\"], [0.4444444444444444, \"#bd3786\"], [0.5555555555555556, \"#d8576b\"], [0.6666666666666666, \"#ed7953\"], [0.7777777777777778, \"#fb9f3a\"], [0.8888888888888888, \"#fdca26\"], [1.0, \"#f0f921\"]], \"type\": \"heatmapgl\"}], \"histogram\": [{\"marker\": {\"colorbar\": {\"outlinewidth\": 0, \"ticks\": \"\"}}, \"type\": \"histogram\"}], \"histogram2d\": [{\"colorbar\": {\"outlinewidth\": 0, \"ticks\": \"\"}, \"colorscale\": [[0.0, \"#0d0887\"], [0.1111111111111111, \"#46039f\"], [0.2222222222222222, \"#7201a8\"], [0.3333333333333333, \"#9c179e\"], [0.4444444444444444, \"#bd3786\"], [0.5555555555555556, \"#d8576b\"], [0.6666666666666666, \"#ed7953\"], [0.7777777777777778, \"#fb9f3a\"], [0.8888888888888888, \"#fdca26\"], [1.0, \"#f0f921\"]], \"type\": \"histogram2d\"}], \"histogram2dcontour\": [{\"colorbar\": {\"outlinewidth\": 0, \"ticks\": \"\"}, \"colorscale\": [[0.0, \"#0d0887\"], [0.1111111111111111, \"#46039f\"], [0.2222222222222222, \"#7201a8\"], [0.3333333333333333, \"#9c179e\"], [0.4444444444444444, \"#bd3786\"], [0.5555555555555556, \"#d8576b\"], [0.6666666666666666, \"#ed7953\"], [0.7777777777777778, \"#fb9f3a\"], [0.8888888888888888, \"#fdca26\"], [1.0, \"#f0f921\"]], \"type\": \"histogram2dcontour\"}], \"mesh3d\": [{\"colorbar\": {\"outlinewidth\": 0, \"ticks\": \"\"}, \"type\": \"mesh3d\"}], \"parcoords\": [{\"line\": {\"colorbar\": {\"outlinewidth\": 0, \"ticks\": \"\"}}, \"type\": \"parcoords\"}], \"pie\": [{\"automargin\": true, \"type\": \"pie\"}], \"scatter\": [{\"marker\": {\"colorbar\": {\"outlinewidth\": 0, \"ticks\": \"\"}}, \"type\": \"scatter\"}], \"scatter3d\": [{\"line\": {\"colorbar\": {\"outlinewidth\": 0, \"ticks\": \"\"}}, \"marker\": {\"colorbar\": {\"outlinewidth\": 0, \"ticks\": \"\"}}, \"type\": \"scatter3d\"}], \"scattercarpet\": [{\"marker\": {\"colorbar\": {\"outlinewidth\": 0, \"ticks\": \"\"}}, \"type\": \"scattercarpet\"}], \"scattergeo\": [{\"marker\": {\"colorbar\": {\"outlinewidth\": 0, \"ticks\": \"\"}}, \"type\": \"scattergeo\"}], \"scattergl\": [{\"marker\": {\"colorbar\": {\"outlinewidth\": 0, \"ticks\": \"\"}}, \"type\": \"scattergl\"}], \"scattermapbox\": [{\"marker\": {\"colorbar\": {\"outlinewidth\": 0, \"ticks\": \"\"}}, \"type\": \"scattermapbox\"}], \"scatterpolar\": [{\"marker\": {\"colorbar\": {\"outlinewidth\": 0, \"ticks\": \"\"}}, \"type\": \"scatterpolar\"}], \"scatterpolargl\": [{\"marker\": {\"colorbar\": {\"outlinewidth\": 0, \"ticks\": \"\"}}, \"type\": \"scatterpolargl\"}], \"scatterternary\": [{\"marker\": {\"colorbar\": {\"outlinewidth\": 0, \"ticks\": \"\"}}, \"type\": \"scatterternary\"}], \"surface\": [{\"colorbar\": {\"outlinewidth\": 0, \"ticks\": \"\"}, \"colorscale\": [[0.0, \"#0d0887\"], [0.1111111111111111, \"#46039f\"], [0.2222222222222222, \"#7201a8\"], [0.3333333333333333, \"#9c179e\"], [0.4444444444444444, \"#bd3786\"], [0.5555555555555556, \"#d8576b\"], [0.6666666666666666, \"#ed7953\"], [0.7777777777777778, \"#fb9f3a\"], [0.8888888888888888, \"#fdca26\"], [1.0, \"#f0f921\"]], \"type\": \"surface\"}], \"table\": [{\"cells\": {\"fill\": {\"color\": \"#EBF0F8\"}, \"line\": {\"color\": \"white\"}}, \"header\": {\"fill\": {\"color\": \"#C8D4E3\"}, \"line\": {\"color\": \"white\"}}, \"type\": \"table\"}]}, \"layout\": {\"annotationdefaults\": {\"arrowcolor\": \"#2a3f5f\", \"arrowhead\": 0, \"arrowwidth\": 1}, \"autotypenumbers\": \"strict\", \"coloraxis\": {\"colorbar\": {\"outlinewidth\": 0, \"ticks\": \"\"}}, \"colorscale\": {\"diverging\": [[0, \"#8e0152\"], [0.1, \"#c51b7d\"], [0.2, \"#de77ae\"], [0.3, \"#f1b6da\"], [0.4, \"#fde0ef\"], [0.5, \"#f7f7f7\"], [0.6, \"#e6f5d0\"], [0.7, \"#b8e186\"], [0.8, \"#7fbc41\"], [0.9, \"#4d9221\"], [1, \"#276419\"]], \"sequential\": [[0.0, \"#0d0887\"], [0.1111111111111111, \"#46039f\"], [0.2222222222222222, \"#7201a8\"], [0.3333333333333333, \"#9c179e\"], [0.4444444444444444, \"#bd3786\"], [0.5555555555555556, \"#d8576b\"], [0.6666666666666666, \"#ed7953\"], [0.7777777777777778, \"#fb9f3a\"], [0.8888888888888888, \"#fdca26\"], [1.0, \"#f0f921\"]], \"sequentialminus\": [[0.0, \"#0d0887\"], [0.1111111111111111, \"#46039f\"], [0.2222222222222222, \"#7201a8\"], [0.3333333333333333, \"#9c179e\"], [0.4444444444444444, \"#bd3786\"], [0.5555555555555556, \"#d8576b\"], [0.6666666666666666, \"#ed7953\"], [0.7777777777777778, \"#fb9f3a\"], [0.8888888888888888, \"#fdca26\"], [1.0, \"#f0f921\"]]}, \"colorway\": [\"#636efa\", \"#EF553B\", \"#00cc96\", \"#ab63fa\", \"#FFA15A\", \"#19d3f3\", \"#FF6692\", \"#B6E880\", \"#FF97FF\", \"#FECB52\"], \"font\": {\"color\": \"#2a3f5f\"}, \"geo\": {\"bgcolor\": \"white\", \"lakecolor\": \"white\", \"landcolor\": \"#E5ECF6\", \"showlakes\": true, \"showland\": true, \"subunitcolor\": \"white\"}, \"hoverlabel\": {\"align\": \"left\"}, \"hovermode\": \"closest\", \"mapbox\": {\"style\": \"light\"}, \"paper_bgcolor\": \"white\", \"plot_bgcolor\": \"#E5ECF6\", \"polar\": {\"angularaxis\": {\"gridcolor\": \"white\", \"linecolor\": \"white\", \"ticks\": \"\"}, \"bgcolor\": \"#E5ECF6\", \"radialaxis\": {\"gridcolor\": \"white\", \"linecolor\": \"white\", \"ticks\": \"\"}}, \"scene\": {\"xaxis\": {\"backgroundcolor\": \"#E5ECF6\", \"gridcolor\": \"white\", \"gridwidth\": 2, \"linecolor\": \"white\", \"showbackground\": true, \"ticks\": \"\", \"zerolinecolor\": \"white\"}, \"yaxis\": {\"backgroundcolor\": \"#E5ECF6\", \"gridcolor\": \"white\", \"gridwidth\": 2, \"linecolor\": \"white\", \"showbackground\": true, \"ticks\": \"\", \"zerolinecolor\": \"white\"}, \"zaxis\": {\"backgroundcolor\": \"#E5ECF6\", \"gridcolor\": \"white\", \"gridwidth\": 2, \"linecolor\": \"white\", \"showbackground\": true, \"ticks\": \"\", \"zerolinecolor\": \"white\"}}, \"shapedefaults\": {\"line\": {\"color\": \"#2a3f5f\"}}, \"ternary\": {\"aaxis\": {\"gridcolor\": \"white\", \"linecolor\": \"white\", \"ticks\": \"\"}, \"baxis\": {\"gridcolor\": \"white\", \"linecolor\": \"white\", \"ticks\": \"\"}, \"bgcolor\": \"#E5ECF6\", \"caxis\": {\"gridcolor\": \"white\", \"linecolor\": \"white\", \"ticks\": \"\"}}, \"title\": {\"x\": 0.05}, \"xaxis\": {\"automargin\": true, \"gridcolor\": \"white\", \"linecolor\": \"white\", \"ticks\": \"\", \"title\": {\"standoff\": 15}, \"zerolinecolor\": \"white\", \"zerolinewidth\": 2}, \"yaxis\": {\"automargin\": true, \"gridcolor\": \"white\", \"linecolor\": \"white\", \"ticks\": \"\", \"title\": {\"standoff\": 15}, \"zerolinecolor\": \"white\", \"zerolinewidth\": 2}}}, \"title\": {\"text\": \"Scatter matrix for TOEFL Score, GRE Score, and CGPA conditioning on Research variable\"}},                        {\"responsive\": true}                    ).then(function(){\n",
       "                            \n",
       "var gd = document.getElementById('23b4418a-1345-4b9e-abce-aa2e8f302bcb');\n",
       "var x = new MutationObserver(function (mutations, observer) {{\n",
       "        var display = window.getComputedStyle(gd).display;\n",
       "        if (!display || display === 'none') {{\n",
       "            console.log([gd, 'removed!']);\n",
       "            Plotly.purge(gd);\n",
       "            observer.disconnect();\n",
       "        }}\n",
       "}});\n",
       "\n",
       "// Listen for the removal of the full notebook cells\n",
       "var notebookContainer = gd.closest('#notebook-container');\n",
       "if (notebookContainer) {{\n",
       "    x.observe(notebookContainer, {childList: true});\n",
       "}}\n",
       "\n",
       "// Listen for the clearing of the current output cell\n",
       "var outputEl = gd.closest('.output');\n",
       "if (outputEl) {{\n",
       "    x.observe(outputEl, {childList: true});\n",
       "}}\n",
       "\n",
       "                        })                };                });            </script>        </div>"
      ]
     },
     "metadata": {},
     "output_type": "display_data"
    }
   ],
   "source": [
    "px.scatter_matrix(\n",
    "    data_frame=df,\n",
    "    dimensions=numeric_cols,\n",
    "    color=\"Research\",\n",
    "    title=\"Scatter matrix for TOEFL Score, GRE Score, and CGPA conditioning on Research variable\",\n",
    ")"
   ]
  },
  {
   "cell_type": "markdown",
   "metadata": {
    "papermill": {
     "duration": 0.143858,
     "end_time": "2020-12-28T20:42:25.935394",
     "exception": false,
     "start_time": "2020-12-28T20:42:25.791536",
     "status": "completed"
    },
    "tags": []
   },
   "source": [
    "We can how students who have research experience tend to have higher scores and better GPA."
   ]
  },
  {
   "cell_type": "markdown",
   "metadata": {
    "collapsed": "true",
    "papermill": {
     "duration": 0.141704,
     "end_time": "2020-12-28T20:42:26.219142",
     "exception": false,
     "start_time": "2020-12-28T20:42:26.077438",
     "status": "completed"
    },
    "tags": []
   },
   "source": [
    "### Bivariate distribution with `University Rating`"
   ]
  },
  {
   "cell_type": "markdown",
   "metadata": {
    "papermill": {
     "duration": 0.139839,
     "end_time": "2020-12-28T20:42:26.499335",
     "exception": false,
     "start_time": "2020-12-28T20:42:26.359496",
     "status": "completed"
    },
    "tags": []
   },
   "source": [
    "As we saw earlier, the ranking of student's university plays an important role in other variables, and higher university ranking is linked with better performance in TOEFL and GRE exams, and higher GPA.\n",
    "\n",
    "Here, we'll show the bivariate distribution of each pair of variables, for different university ranking values.\n",
    "\n",
    "This way, we will be able to study the relation between two variables `x` and `y` as a function of the university ranking value."
   ]
  },
  {
   "cell_type": "markdown",
   "metadata": {
    "collapsed": "true",
    "papermill": {
     "duration": 0.143793,
     "end_time": "2020-12-28T20:42:26.784992",
     "exception": false,
     "start_time": "2020-12-28T20:42:26.641199",
     "status": "completed"
    },
    "tags": []
   },
   "source": [
    "#### `TOEFL Score` vs. `GRE Score`"
   ]
  },
  {
   "cell_type": "code",
   "execution_count": 74,
   "metadata": {
    "execution": {
     "iopub.execute_input": "2020-12-28T20:42:27.081809Z",
     "iopub.status.busy": "2020-12-28T20:42:27.081108Z",
     "iopub.status.idle": "2020-12-28T20:42:27.251354Z",
     "shell.execute_reply": "2020-12-28T20:42:27.250815Z"
    },
    "papermill": {
     "duration": 0.325141,
     "end_time": "2020-12-28T20:42:27.251470",
     "exception": false,
     "start_time": "2020-12-28T20:42:26.926329",
     "status": "completed"
    },
    "tags": []
   },
   "outputs": [
    {
     "data": {
      "text/html": [
       "<div>                            <div id=\"7fe3a3cc-95d4-46c5-a062-22b260bb0c89\" class=\"plotly-graph-div\" style=\"height:525px; width:100%;\"></div>            <script type=\"text/javascript\">                require([\"plotly\"], function(Plotly) {                    window.PLOTLYENV=window.PLOTLYENV || {};                                    if (document.getElementById(\"7fe3a3cc-95d4-46c5-a062-22b260bb0c89\")) {                    Plotly.newPlot(                        \"7fe3a3cc-95d4-46c5-a062-22b260bb0c89\",                        [{\"coloraxis\": \"coloraxis\", \"hovertemplate\": \"University Rating=1<br>TOEFL Score=%{x}<br>GRE Score=%{y}<br>count=%{z}<extra></extra>\", \"name\": \"\", \"type\": \"histogram2d\", \"x\": [110, 93, 98, 109, 95, 105, 105, 99, 100, 110, 106, 98, 100, 100, 99, 98, 99, 112, 99, 100, 92, 99, 100, 101, 99, 98, 99, 96, 98, 93, 102, 103, 98, 94], \"xaxis\": \"x\", \"xbingroup\": \"x\", \"y\": [318, 295, 301, 318, 294, 300, 304, 312, 315, 310, 317, 311, 312, 290, 300, 303, 300, 332, 311, 299, 298, 298, 297, 296, 295, 312, 302, 301, 316, 294, 302, 315, 300, 299], \"yaxis\": \"y\", \"ybingroup\": \"y\"}, {\"coloraxis\": \"coloraxis\", \"hovertemplate\": \"University Rating=2<br>TOEFL Score=%{x}<br>GRE Score=%{y}<br>count=%{z}<extra></extra>\", \"name\": \"\", \"type\": \"histogram2d\", \"x\": [104, 100, 106, 109, 99, 97, 100, 100, 101, 110, 101, 105, 107, 105, 100, 102, 102, 105, 99, 106, 96, 105, 107, 102, 97, 101, 105, 102, 111, 100, 99, 106, 104, 103, 110, 97, 105, 103, 106, 105, 105, 104, 103, 101, 104, 105, 105, 107, 100, 110, 118, 96, 112, 112, 113, 116, 98, 106, 106, 101, 98, 99, 97, 106, 99, 103, 99, 106, 108, 107, 105, 107, 101, 105, 110, 105, 110, 104, 109, 106, 103, 95, 98, 101, 105, 100, 99, 100, 105, 97, 96, 103, 100, 104, 96, 102, 106, 103, 105, 107, 97, 114, 99, 95, 103, 106, 105, 108, 99, 107, 94, 107, 110, 101, 99, 107, 104, 101, 107, 105, 100, 100, 104, 105, 102, 102], \"xaxis\": \"x2\", \"xbingroup\": \"x\", \"y\": [317, 306, 316, 312, 296, 301, 299, 317, 316, 320, 304, 315, 314, 307, 299, 305, 300, 312, 302, 314, 297, 310, 321, 304, 293, 302, 307, 308, 309, 318, 316, 306, 309, 308, 325, 296, 312, 316, 311, 314, 306, 305, 308, 320, 311, 312, 309, 305, 316, 329, 332, 299, 320, 325, 320, 326, 298, 309, 318, 311, 298, 310, 300, 305, 315, 306, 295, 299, 307, 312, 316, 313, 295, 311, 312, 307, 306, 301, 308, 317, 314, 300, 297, 308, 305, 303, 296, 304, 315, 304, 295, 305, 304, 317, 297, 305, 310, 310, 306, 307, 298, 329, 301, 296, 317, 313, 322, 319, 311, 317, 313, 316, 315, 312, 298, 314, 308, 298, 315, 304, 309, 312, 311, 305, 316, 314], \"yaxis\": \"y2\", \"ybingroup\": \"y\"}, {\"coloraxis\": \"coloraxis\", \"hovertemplate\": \"University Rating=3<br>TOEFL Score=%{x}<br>GRE Score=%{y}<br>count=%{z}<extra></extra>\", \"name\": \"\", \"type\": \"histogram2d\", \"x\": [114, 115, 106, 112, 105, 106, 104, 110, 104, 104, 108, 109, 100, 111, 106, 104, 104, 116, 100, 113, 106, 108, 100, 104, 102, 107, 110, 106, 101, 107, 110, 102, 109, 110, 104, 110, 108, 100, 105, 104, 111, 102, 107, 104, 110, 102, 110, 106, 111, 109, 110, 107, 120, 114, 112, 107, 109, 110, 99, 110, 111, 104, 101, 111, 103, 114, 109, 106, 112, 105, 107, 102, 106, 108, 97, 99, 120, 113, 107, 112, 110, 103, 107, 105, 101, 102, 108, 102, 108, 103, 98, 99, 104, 110, 109, 108, 106, 109, 104, 105, 107, 106, 110, 102, 107, 110, 112, 102, 103, 106, 102, 110, 103, 104, 101, 110, 110, 100, 103, 112, 102, 100, 103, 104, 113, 108, 104, 110, 107, 101, 101, 102, 100, 104, 107, 103, 99, 105, 102, 104, 101, 109, 103, 107, 109, 112, 110, 102, 104, 101, 106, 105, 108, 103, 114, 105, 109, 109, 105, 105, 112, 103], \"xaxis\": \"x3\", \"xbingroup\": \"x\", \"y\": [325, 324, 318, 318, 316, 319, 320, 324, 313, 310, 320, 313, 324, 324, 317, 323, 315, 326, 299, 327, 308, 319, 301, 320, 313, 312, 326, 308, 313, 318, 322, 300, 327, 319, 320, 324, 312, 300, 319, 312, 324, 313, 314, 322, 322, 311, 317, 312, 321, 321, 324, 310, 320, 330, 305, 323, 321, 323, 309, 316, 321, 312, 307, 325, 311, 327, 318, 314, 327, 312, 304, 301, 315, 314, 299, 303, 331, 323, 322, 326, 316, 313, 301, 311, 315, 299, 320, 316, 308, 320, 313, 301, 316, 322, 321, 323, 325, 307, 311, 314, 317, 319, 318, 303, 312, 302, 322, 319, 327, 317, 321, 308, 318, 304, 300, 321, 322, 300, 319, 319, 313, 299, 316, 315, 323, 309, 300, 314, 317, 317, 297, 302, 298, 311, 313, 317, 302, 298, 310, 301, 311, 324, 312, 325, 316, 321, 319, 307, 311, 310, 312, 324, 326, 312, 326, 315, 318, 312, 315, 317, 326, 306], \"yaxis\": \"y3\", \"ybingroup\": \"y\"}, {\"coloraxis\": \"coloraxis\", \"hovertemplate\": \"University Rating=4<br>TOEFL Score=%{x}<br>GRE Score=%{y}<br>count=%{z}<extra></extra>\", \"name\": \"\", \"type\": \"histogram2d\", \"x\": [116, 116, 116, 113, 116, 112, 103, 111, 117, 112, 116, 101, 111, 99, 118, 112, 119, 114, 110, 96, 99, 110, 114, 113, 105, 105, 115, 113, 116, 105, 110, 105, 110, 102, 107, 112, 106, 113, 118, 116, 106, 104, 106, 106, 109, 120, 110, 109, 114, 110, 113, 111, 111, 119, 113, 108, 111, 110, 117, 119, 107, 111, 112, 114, 118, 117, 111, 111, 116, 112, 115, 108, 120, 103, 109, 100, 112, 120, 113, 112, 114, 108, 115, 103, 110, 110, 112, 112, 110, 107, 112, 107, 104, 111, 113, 110, 108, 102, 112, 111, 109, 113, 119, 117, 113], \"xaxis\": \"x4\", \"xbingroup\": \"x\", \"y\": [334, 331, 328, 324, 330, 326, 322, 329, 333, 324, 330, 298, 316, 297, 327, 320, 336, 330, 324, 305, 314, 323, 326, 340, 307, 319, 327, 329, 327, 308, 321, 309, 325, 314, 323, 322, 327, 328, 337, 339, 310, 290, 310, 301, 314, 340, 325, 321, 334, 322, 323, 321, 320, 329, 327, 325, 329, 328, 338, 332, 324, 327, 328, 325, 338, 332, 327, 329, 334, 325, 328, 314, 340, 319, 316, 304, 324, 338, 327, 340, 321, 328, 335, 312, 308, 328, 324, 325, 307, 312, 325, 311, 314, 324, 327, 324, 308, 326, 322, 325, 321, 327, 331, 331, 324], \"yaxis\": \"y4\", \"ybingroup\": \"y\"}, {\"coloraxis\": \"coloraxis\", \"hovertemplate\": \"University Rating=5<br>TOEFL Score=%{x}<br>GRE Score=%{y}<br>count=%{z}<extra></extra>\", \"name\": \"\", \"type\": \"histogram2d\", \"x\": [115, 110, 110, 118, 101, 112, 114, 115, 111, 119, 114, 120, 117, 108, 115, 115, 108, 118, 116, 119, 119, 120, 109, 103, 114, 112, 110, 113, 118, 119, 110, 108, 113, 114, 119, 114, 110, 117, 111, 113, 118, 115, 112, 111, 110, 114, 118, 120, 120, 116, 111, 116, 112, 115, 116, 103, 108, 104, 117, 116, 113, 114, 119, 117, 118, 114, 105, 105, 112, 113, 115, 116, 107], \"xaxis\": \"x5\", \"xbingroup\": \"x\", \"y\": [340, 320, 320, 332, 318, 336, 324, 322, 321, 333, 329, 330, 337, 332, 338, 330, 323, 332, 328, 339, 334, 340, 322, 304, 340, 331, 320, 326, 336, 336, 322, 327, 329, 325, 334, 329, 322, 334, 326, 330, 335, 331, 324, 324, 323, 322, 336, 340, 334, 330, 323, 331, 321, 340, 331, 304, 305, 327, 335, 328, 324, 321, 334, 335, 333, 339, 303, 309, 323, 333, 331, 332, 324], \"yaxis\": \"y5\", \"ybingroup\": \"y\"}],                        {\"annotations\": [{\"font\": {}, \"showarrow\": false, \"text\": \"University Rating=1\", \"x\": 0.09200000000000001, \"xanchor\": \"center\", \"xref\": \"paper\", \"y\": 1.0, \"yanchor\": \"bottom\", \"yref\": \"paper\"}, {\"font\": {}, \"showarrow\": false, \"text\": \"University Rating=2\", \"x\": 0.29600000000000004, \"xanchor\": \"center\", \"xref\": \"paper\", \"y\": 1.0, \"yanchor\": \"bottom\", \"yref\": \"paper\"}, {\"font\": {}, \"showarrow\": false, \"text\": \"University Rating=3\", \"x\": 0.5, \"xanchor\": \"center\", \"xref\": \"paper\", \"y\": 1.0, \"yanchor\": \"bottom\", \"yref\": \"paper\"}, {\"font\": {}, \"showarrow\": false, \"text\": \"University Rating=4\", \"x\": 0.7040000000000002, \"xanchor\": \"center\", \"xref\": \"paper\", \"y\": 1.0, \"yanchor\": \"bottom\", \"yref\": \"paper\"}, {\"font\": {}, \"showarrow\": false, \"text\": \"University Rating=5\", \"x\": 0.908, \"xanchor\": \"center\", \"xref\": \"paper\", \"y\": 1.0, \"yanchor\": \"bottom\", \"yref\": \"paper\"}], \"coloraxis\": {\"colorbar\": {\"title\": {\"text\": \"count\"}}, \"colorscale\": [[0.0, \"rgb(255,247,251)\"], [0.125, \"rgb(236,231,242)\"], [0.25, \"rgb(208,209,230)\"], [0.375, \"rgb(166,189,219)\"], [0.5, \"rgb(116,169,207)\"], [0.625, \"rgb(54,144,192)\"], [0.75, \"rgb(5,112,176)\"], [0.875, \"rgb(4,90,141)\"], [1.0, \"rgb(2,56,88)\"]]}, \"legend\": {\"tracegroupgap\": 0}, \"template\": {\"data\": {\"bar\": [{\"error_x\": {\"color\": \"#2a3f5f\"}, \"error_y\": {\"color\": \"#2a3f5f\"}, \"marker\": {\"line\": {\"color\": \"#E5ECF6\", \"width\": 0.5}}, \"type\": \"bar\"}], \"barpolar\": [{\"marker\": {\"line\": {\"color\": \"#E5ECF6\", \"width\": 0.5}}, \"type\": \"barpolar\"}], \"carpet\": [{\"aaxis\": {\"endlinecolor\": \"#2a3f5f\", \"gridcolor\": \"white\", \"linecolor\": \"white\", \"minorgridcolor\": \"white\", \"startlinecolor\": \"#2a3f5f\"}, \"baxis\": {\"endlinecolor\": \"#2a3f5f\", \"gridcolor\": \"white\", \"linecolor\": \"white\", \"minorgridcolor\": \"white\", \"startlinecolor\": \"#2a3f5f\"}, \"type\": \"carpet\"}], \"choropleth\": [{\"colorbar\": {\"outlinewidth\": 0, \"ticks\": \"\"}, \"type\": \"choropleth\"}], \"contour\": [{\"colorbar\": {\"outlinewidth\": 0, \"ticks\": \"\"}, \"colorscale\": [[0.0, \"#0d0887\"], [0.1111111111111111, \"#46039f\"], [0.2222222222222222, \"#7201a8\"], [0.3333333333333333, \"#9c179e\"], [0.4444444444444444, \"#bd3786\"], [0.5555555555555556, \"#d8576b\"], [0.6666666666666666, \"#ed7953\"], [0.7777777777777778, \"#fb9f3a\"], [0.8888888888888888, \"#fdca26\"], [1.0, \"#f0f921\"]], \"type\": \"contour\"}], \"contourcarpet\": [{\"colorbar\": {\"outlinewidth\": 0, \"ticks\": \"\"}, \"type\": \"contourcarpet\"}], \"heatmap\": [{\"colorbar\": {\"outlinewidth\": 0, \"ticks\": \"\"}, \"colorscale\": [[0.0, \"#0d0887\"], [0.1111111111111111, \"#46039f\"], [0.2222222222222222, \"#7201a8\"], [0.3333333333333333, \"#9c179e\"], [0.4444444444444444, \"#bd3786\"], [0.5555555555555556, \"#d8576b\"], [0.6666666666666666, \"#ed7953\"], [0.7777777777777778, \"#fb9f3a\"], [0.8888888888888888, \"#fdca26\"], [1.0, \"#f0f921\"]], \"type\": \"heatmap\"}], \"heatmapgl\": [{\"colorbar\": {\"outlinewidth\": 0, \"ticks\": \"\"}, \"colorscale\": [[0.0, \"#0d0887\"], [0.1111111111111111, \"#46039f\"], [0.2222222222222222, \"#7201a8\"], [0.3333333333333333, \"#9c179e\"], [0.4444444444444444, \"#bd3786\"], [0.5555555555555556, \"#d8576b\"], [0.6666666666666666, \"#ed7953\"], [0.7777777777777778, \"#fb9f3a\"], [0.8888888888888888, \"#fdca26\"], [1.0, \"#f0f921\"]], \"type\": \"heatmapgl\"}], \"histogram\": [{\"marker\": {\"colorbar\": {\"outlinewidth\": 0, \"ticks\": \"\"}}, \"type\": \"histogram\"}], \"histogram2d\": [{\"colorbar\": {\"outlinewidth\": 0, \"ticks\": \"\"}, \"colorscale\": [[0.0, \"#0d0887\"], [0.1111111111111111, \"#46039f\"], [0.2222222222222222, \"#7201a8\"], [0.3333333333333333, \"#9c179e\"], [0.4444444444444444, \"#bd3786\"], [0.5555555555555556, \"#d8576b\"], [0.6666666666666666, \"#ed7953\"], [0.7777777777777778, \"#fb9f3a\"], [0.8888888888888888, \"#fdca26\"], [1.0, \"#f0f921\"]], \"type\": \"histogram2d\"}], \"histogram2dcontour\": [{\"colorbar\": {\"outlinewidth\": 0, \"ticks\": \"\"}, \"colorscale\": [[0.0, \"#0d0887\"], [0.1111111111111111, \"#46039f\"], [0.2222222222222222, \"#7201a8\"], [0.3333333333333333, \"#9c179e\"], [0.4444444444444444, \"#bd3786\"], [0.5555555555555556, \"#d8576b\"], [0.6666666666666666, \"#ed7953\"], [0.7777777777777778, \"#fb9f3a\"], [0.8888888888888888, \"#fdca26\"], [1.0, \"#f0f921\"]], \"type\": \"histogram2dcontour\"}], \"mesh3d\": [{\"colorbar\": {\"outlinewidth\": 0, \"ticks\": \"\"}, \"type\": \"mesh3d\"}], \"parcoords\": [{\"line\": {\"colorbar\": {\"outlinewidth\": 0, \"ticks\": \"\"}}, \"type\": \"parcoords\"}], \"pie\": [{\"automargin\": true, \"type\": \"pie\"}], \"scatter\": [{\"marker\": {\"colorbar\": {\"outlinewidth\": 0, \"ticks\": \"\"}}, \"type\": \"scatter\"}], \"scatter3d\": [{\"line\": {\"colorbar\": {\"outlinewidth\": 0, \"ticks\": \"\"}}, \"marker\": {\"colorbar\": {\"outlinewidth\": 0, \"ticks\": \"\"}}, \"type\": \"scatter3d\"}], \"scattercarpet\": [{\"marker\": {\"colorbar\": {\"outlinewidth\": 0, \"ticks\": \"\"}}, \"type\": \"scattercarpet\"}], \"scattergeo\": [{\"marker\": {\"colorbar\": {\"outlinewidth\": 0, \"ticks\": \"\"}}, \"type\": \"scattergeo\"}], \"scattergl\": [{\"marker\": {\"colorbar\": {\"outlinewidth\": 0, \"ticks\": \"\"}}, \"type\": \"scattergl\"}], \"scattermapbox\": [{\"marker\": {\"colorbar\": {\"outlinewidth\": 0, \"ticks\": \"\"}}, \"type\": \"scattermapbox\"}], \"scatterpolar\": [{\"marker\": {\"colorbar\": {\"outlinewidth\": 0, \"ticks\": \"\"}}, \"type\": \"scatterpolar\"}], \"scatterpolargl\": [{\"marker\": {\"colorbar\": {\"outlinewidth\": 0, \"ticks\": \"\"}}, \"type\": \"scatterpolargl\"}], \"scatterternary\": [{\"marker\": {\"colorbar\": {\"outlinewidth\": 0, \"ticks\": \"\"}}, \"type\": \"scatterternary\"}], \"surface\": [{\"colorbar\": {\"outlinewidth\": 0, \"ticks\": \"\"}, \"colorscale\": [[0.0, \"#0d0887\"], [0.1111111111111111, \"#46039f\"], [0.2222222222222222, \"#7201a8\"], [0.3333333333333333, \"#9c179e\"], [0.4444444444444444, \"#bd3786\"], [0.5555555555555556, \"#d8576b\"], [0.6666666666666666, \"#ed7953\"], [0.7777777777777778, \"#fb9f3a\"], [0.8888888888888888, \"#fdca26\"], [1.0, \"#f0f921\"]], \"type\": \"surface\"}], \"table\": [{\"cells\": {\"fill\": {\"color\": \"#EBF0F8\"}, \"line\": {\"color\": \"white\"}}, \"header\": {\"fill\": {\"color\": \"#C8D4E3\"}, \"line\": {\"color\": \"white\"}}, \"type\": \"table\"}]}, \"layout\": {\"annotationdefaults\": {\"arrowcolor\": \"#2a3f5f\", \"arrowhead\": 0, \"arrowwidth\": 1}, \"autotypenumbers\": \"strict\", \"coloraxis\": {\"colorbar\": {\"outlinewidth\": 0, \"ticks\": \"\"}}, \"colorscale\": {\"diverging\": [[0, \"#8e0152\"], [0.1, \"#c51b7d\"], [0.2, \"#de77ae\"], [0.3, \"#f1b6da\"], [0.4, \"#fde0ef\"], [0.5, \"#f7f7f7\"], [0.6, \"#e6f5d0\"], [0.7, \"#b8e186\"], [0.8, \"#7fbc41\"], [0.9, \"#4d9221\"], [1, \"#276419\"]], \"sequential\": [[0.0, \"#0d0887\"], [0.1111111111111111, \"#46039f\"], [0.2222222222222222, \"#7201a8\"], [0.3333333333333333, \"#9c179e\"], [0.4444444444444444, \"#bd3786\"], [0.5555555555555556, \"#d8576b\"], [0.6666666666666666, \"#ed7953\"], [0.7777777777777778, \"#fb9f3a\"], [0.8888888888888888, \"#fdca26\"], [1.0, \"#f0f921\"]], \"sequentialminus\": [[0.0, \"#0d0887\"], [0.1111111111111111, \"#46039f\"], [0.2222222222222222, \"#7201a8\"], [0.3333333333333333, \"#9c179e\"], [0.4444444444444444, \"#bd3786\"], [0.5555555555555556, \"#d8576b\"], [0.6666666666666666, \"#ed7953\"], [0.7777777777777778, \"#fb9f3a\"], [0.8888888888888888, \"#fdca26\"], [1.0, \"#f0f921\"]]}, \"colorway\": [\"#636efa\", \"#EF553B\", \"#00cc96\", \"#ab63fa\", \"#FFA15A\", \"#19d3f3\", \"#FF6692\", \"#B6E880\", \"#FF97FF\", \"#FECB52\"], \"font\": {\"color\": \"#2a3f5f\"}, \"geo\": {\"bgcolor\": \"white\", \"lakecolor\": \"white\", \"landcolor\": \"#E5ECF6\", \"showlakes\": true, \"showland\": true, \"subunitcolor\": \"white\"}, \"hoverlabel\": {\"align\": \"left\"}, \"hovermode\": \"closest\", \"mapbox\": {\"style\": \"light\"}, \"paper_bgcolor\": \"white\", \"plot_bgcolor\": \"#E5ECF6\", \"polar\": {\"angularaxis\": {\"gridcolor\": \"white\", \"linecolor\": \"white\", \"ticks\": \"\"}, \"bgcolor\": \"#E5ECF6\", \"radialaxis\": {\"gridcolor\": \"white\", \"linecolor\": \"white\", \"ticks\": \"\"}}, \"scene\": {\"xaxis\": {\"backgroundcolor\": \"#E5ECF6\", \"gridcolor\": \"white\", \"gridwidth\": 2, \"linecolor\": \"white\", \"showbackground\": true, \"ticks\": \"\", \"zerolinecolor\": \"white\"}, \"yaxis\": {\"backgroundcolor\": \"#E5ECF6\", \"gridcolor\": \"white\", \"gridwidth\": 2, \"linecolor\": \"white\", \"showbackground\": true, \"ticks\": \"\", \"zerolinecolor\": \"white\"}, \"zaxis\": {\"backgroundcolor\": \"#E5ECF6\", \"gridcolor\": \"white\", \"gridwidth\": 2, \"linecolor\": \"white\", \"showbackground\": true, \"ticks\": \"\", \"zerolinecolor\": \"white\"}}, \"shapedefaults\": {\"line\": {\"color\": \"#2a3f5f\"}}, \"ternary\": {\"aaxis\": {\"gridcolor\": \"white\", \"linecolor\": \"white\", \"ticks\": \"\"}, \"baxis\": {\"gridcolor\": \"white\", \"linecolor\": \"white\", \"ticks\": \"\"}, \"bgcolor\": \"#E5ECF6\", \"caxis\": {\"gridcolor\": \"white\", \"linecolor\": \"white\", \"ticks\": \"\"}}, \"title\": {\"x\": 0.05}, \"xaxis\": {\"automargin\": true, \"gridcolor\": \"white\", \"linecolor\": \"white\", \"ticks\": \"\", \"title\": {\"standoff\": 15}, \"zerolinecolor\": \"white\", \"zerolinewidth\": 2}, \"yaxis\": {\"automargin\": true, \"gridcolor\": \"white\", \"linecolor\": \"white\", \"ticks\": \"\", \"title\": {\"standoff\": 15}, \"zerolinecolor\": \"white\", \"zerolinewidth\": 2}}}, \"title\": {\"text\": \"TOEFL Score vs. GRE Score for different university ranking values\"}, \"xaxis\": {\"anchor\": \"y\", \"domain\": [0.0, 0.18400000000000002], \"title\": {\"text\": \"TOEFL Score\"}}, \"xaxis2\": {\"anchor\": \"y2\", \"domain\": [0.20400000000000001, 0.388], \"matches\": \"x\", \"title\": {\"text\": \"TOEFL Score\"}}, \"xaxis3\": {\"anchor\": \"y3\", \"domain\": [0.40800000000000003, 0.5920000000000001], \"matches\": \"x\", \"title\": {\"text\": \"TOEFL Score\"}}, \"xaxis4\": {\"anchor\": \"y4\", \"domain\": [0.6120000000000001, 0.7960000000000002], \"matches\": \"x\", \"title\": {\"text\": \"TOEFL Score\"}}, \"xaxis5\": {\"anchor\": \"y5\", \"domain\": [0.8160000000000001, 1.0], \"matches\": \"x\", \"title\": {\"text\": \"TOEFL Score\"}}, \"yaxis\": {\"anchor\": \"x\", \"domain\": [0.0, 1.0], \"title\": {\"text\": \"GRE Score\"}}, \"yaxis2\": {\"anchor\": \"x2\", \"domain\": [0.0, 1.0], \"matches\": \"y\", \"showticklabels\": false}, \"yaxis3\": {\"anchor\": \"x3\", \"domain\": [0.0, 1.0], \"matches\": \"y\", \"showticklabels\": false}, \"yaxis4\": {\"anchor\": \"x4\", \"domain\": [0.0, 1.0], \"matches\": \"y\", \"showticklabels\": false}, \"yaxis5\": {\"anchor\": \"x5\", \"domain\": [0.0, 1.0], \"matches\": \"y\", \"showticklabels\": false}},                        {\"responsive\": true}                    ).then(function(){\n",
       "                            \n",
       "var gd = document.getElementById('7fe3a3cc-95d4-46c5-a062-22b260bb0c89');\n",
       "var x = new MutationObserver(function (mutations, observer) {{\n",
       "        var display = window.getComputedStyle(gd).display;\n",
       "        if (!display || display === 'none') {{\n",
       "            console.log([gd, 'removed!']);\n",
       "            Plotly.purge(gd);\n",
       "            observer.disconnect();\n",
       "        }}\n",
       "}});\n",
       "\n",
       "// Listen for the removal of the full notebook cells\n",
       "var notebookContainer = gd.closest('#notebook-container');\n",
       "if (notebookContainer) {{\n",
       "    x.observe(notebookContainer, {childList: true});\n",
       "}}\n",
       "\n",
       "// Listen for the clearing of the current output cell\n",
       "var outputEl = gd.closest('.output');\n",
       "if (outputEl) {{\n",
       "    x.observe(outputEl, {childList: true});\n",
       "}}\n",
       "\n",
       "                        })                };                });            </script>        </div>"
      ]
     },
     "metadata": {},
     "output_type": "display_data"
    }
   ],
   "source": [
    "px.density_heatmap(\n",
    "    data_frame=df,\n",
    "    x=\"TOEFL Score\",\n",
    "    y=\"GRE Score\",\n",
    "    color_continuous_scale=\"PuBu\",\n",
    "    facet_col=\"University Rating\",\n",
    "    title=\"TOEFL Score vs. GRE Score for different university ranking values\",\n",
    ")"
   ]
  },
  {
   "cell_type": "markdown",
   "metadata": {
    "collapsed": "true",
    "papermill": {
     "duration": 0.142117,
     "end_time": "2020-12-28T20:42:27.536092",
     "exception": false,
     "start_time": "2020-12-28T20:42:27.393975",
     "status": "completed"
    },
    "tags": []
   },
   "source": [
    "#### `TOEFL Score` vs. `CGPA`"
   ]
  },
  {
   "cell_type": "code",
   "execution_count": 75,
   "metadata": {
    "execution": {
     "iopub.execute_input": "2020-12-28T20:42:27.838540Z",
     "iopub.status.busy": "2020-12-28T20:42:27.837665Z",
     "iopub.status.idle": "2020-12-28T20:42:27.979912Z",
     "shell.execute_reply": "2020-12-28T20:42:27.980483Z"
    },
    "papermill": {
     "duration": 0.299966,
     "end_time": "2020-12-28T20:42:27.980647",
     "exception": false,
     "start_time": "2020-12-28T20:42:27.680681",
     "status": "completed"
    },
    "tags": []
   },
   "outputs": [
    {
     "data": {
      "text/html": [
       "<div>                            <div id=\"99ccba8d-0cdf-4dea-ab2d-06e83889bf0d\" class=\"plotly-graph-div\" style=\"height:525px; width:100%;\"></div>            <script type=\"text/javascript\">                require([\"plotly\"], function(Plotly) {                    window.PLOTLYENV=window.PLOTLYENV || {};                                    if (document.getElementById(\"99ccba8d-0cdf-4dea-ab2d-06e83889bf0d\")) {                    Plotly.newPlot(                        \"99ccba8d-0cdf-4dea-ab2d-06e83889bf0d\",                        [{\"coloraxis\": \"coloraxis\", \"hovertemplate\": \"University Rating=1<br>TOEFL Score=%{x}<br>CGPA=%{y}<br>count=%{z}<extra></extra>\", \"name\": \"\", \"type\": \"histogram2d\", \"x\": [110, 93, 98, 109, 95, 105, 105, 99, 100, 110, 106, 98, 100, 100, 99, 98, 99, 112, 99, 100, 92, 99, 100, 101, 99, 98, 99, 96, 98, 93, 102, 103, 98, 94], \"xaxis\": \"x\", \"xbingroup\": \"x\", \"y\": [8.54, 7.2, 8.03, 9.12, 7.64, 7.8, 7.5, 8.01, 7.95, 7.23, 7.65, 7.46, 8.53, 7.56, 8.01, 7.65, 6.8, 8.66, 8.43, 7.89, 7.88, 7.46, 7.9, 7.68, 7.57, 8.18, 7.25, 7.56, 7.43, 7.36, 8.0, 7.86, 8.02, 7.34], \"yaxis\": \"y\", \"ybingroup\": \"y\"}, {\"coloraxis\": \"coloraxis\", \"hovertemplate\": \"University Rating=2<br>TOEFL Score=%{x}<br>CGPA=%{y}<br>count=%{z}<extra></extra>\", \"name\": \"\", \"type\": \"histogram2d\", \"x\": [104, 100, 106, 109, 99, 97, 100, 100, 101, 110, 101, 105, 107, 105, 100, 102, 102, 105, 99, 106, 96, 105, 107, 102, 97, 101, 105, 102, 111, 100, 99, 106, 104, 103, 110, 97, 105, 103, 106, 105, 105, 104, 103, 101, 104, 105, 105, 107, 100, 110, 118, 96, 112, 112, 113, 116, 98, 106, 106, 101, 98, 99, 97, 106, 99, 103, 99, 106, 108, 107, 105, 107, 101, 105, 110, 105, 110, 104, 109, 106, 103, 95, 98, 101, 105, 100, 99, 100, 105, 97, 96, 103, 100, 104, 96, 102, 106, 103, 105, 107, 97, 114, 99, 95, 103, 106, 105, 108, 99, 107, 94, 107, 110, 101, 99, 107, 104, 101, 107, 105, 100, 100, 104, 105, 102, 102], \"xaxis\": \"x2\", \"xbingroup\": \"x\", \"y\": [8.47, 8.0, 8.32, 9.02, 7.28, 7.88, 7.88, 8.57, 8.32, 8.56, 7.66, 7.65, 8.56, 7.65, 7.88, 7.64, 7.87, 8.12, 7.97, 8.25, 7.43, 8.01, 8.44, 8.73, 7.8, 7.96, 8.1, 7.98, 8.03, 8.54, 9.0, 8.14, 8.26, 8.36, 8.76, 7.8, 8.45, 8.74, 8.26, 7.64, 8.22, 7.79, 8.49, 8.62, 8.48, 8.46, 7.68, 8.42, 8.16, 9.15, 9.36, 7.86, 8.78, 8.96, 8.64, 9.08, 8.03, 8.0, 7.92, 8.34, 7.5, 7.3, 8.1, 8.16, 7.89, 8.36, 7.65, 8.4, 7.7, 8.27, 8.2, 8.5, 7.86, 8.12, 8.53, 8.12, 8.45, 7.89, 8.45, 8.12, 8.21, 8.22, 7.67, 7.9, 8.23, 8.06, 8.03, 8.22, 8.34, 7.64, 7.34, 8.13, 8.07, 8.76, 7.89, 8.18, 8.33, 8.24, 8.26, 8.52, 7.21, 8.56, 8.22, 7.54, 8.15, 8.43, 8.45, 8.76, 7.98, 8.28, 8.13, 8.64, 8.46, 8.04, 7.6, 8.27, 8.07, 7.86, 8.5, 8.2, 8.1, 7.9, 8.3, 8.13, 8.15, 8.24], \"yaxis\": \"y2\", \"ybingroup\": \"y\"}, {\"coloraxis\": \"coloraxis\", \"hovertemplate\": \"University Rating=3<br>TOEFL Score=%{x}<br>CGPA=%{y}<br>count=%{z}<extra></extra>\", \"name\": \"\", \"type\": \"histogram2d\", \"x\": [114, 115, 106, 112, 105, 106, 104, 110, 104, 104, 108, 109, 100, 111, 106, 104, 104, 116, 100, 113, 106, 108, 100, 104, 102, 107, 110, 106, 101, 107, 110, 102, 109, 110, 104, 110, 108, 100, 105, 104, 111, 102, 107, 104, 110, 102, 110, 106, 111, 109, 110, 107, 120, 114, 112, 107, 109, 110, 99, 110, 111, 104, 101, 111, 103, 114, 109, 106, 112, 105, 107, 102, 106, 108, 97, 99, 120, 113, 107, 112, 110, 103, 107, 105, 101, 102, 108, 102, 108, 103, 98, 99, 104, 110, 109, 108, 106, 109, 104, 105, 107, 106, 110, 102, 107, 110, 112, 102, 103, 106, 102, 110, 103, 104, 101, 110, 110, 100, 103, 112, 102, 100, 103, 104, 113, 108, 104, 110, 107, 101, 101, 102, 100, 104, 107, 103, 99, 105, 102, 104, 101, 109, 103, 107, 109, 112, 110, 102, 104, 101, 106, 105, 108, 103, 114, 105, 109, 109, 105, 105, 112, 103], \"xaxis\": \"x3\", \"xbingroup\": \"x\", \"y\": [9.04, 8.76, 8.65, 8.67, 8.73, 8.33, 8.57, 8.87, 8.65, 8.37, 8.44, 9.0, 8.64, 8.8, 8.5, 8.44, 8.33, 9.14, 8.02, 8.66, 8.21, 8.54, 8.04, 8.34, 8.9, 8.46, 8.76, 8.24, 8.04, 8.27, 8.64, 8.17, 8.77, 8.79, 8.74, 9.22, 8.53, 8.26, 8.67, 8.09, 8.79, 8.68, 8.17, 8.84, 8.96, 8.64, 9.11, 8.79, 8.9, 8.54, 9.04, 8.67, 9.11, 9.24, 8.65, 8.55, 8.8, 9.1, 8.56, 8.56, 8.83, 8.42, 8.2, 8.7, 8.09, 9.02, 9.22, 8.9, 8.72, 8.02, 7.86, 8.13, 8.42, 8.14, 7.66, 7.66, 8.96, 8.88, 8.46, 9.05, 8.78, 8.75, 8.34, 8.45, 9.13, 8.62, 8.97, 7.4, 8.22, 7.7, 8.3, 8.45, 8.0, 8.67, 8.2, 8.6, 8.4, 8.0, 8.2, 8.3, 8.7, 8.0, 8.8, 8.5, 7.9, 8.5, 8.62, 8.37, 8.3, 7.89, 9.01, 8.0, 8.49, 8.12, 7.88, 8.85, 8.0, 8.66, 8.76, 8.71, 8.27, 7.42, 7.68, 8.1, 9.32, 8.12, 8.16, 8.8, 8.68, 7.94, 7.67, 8.33, 7.95, 8.43, 8.69, 8.54, 7.45, 8.54, 8.02, 8.12, 7.64, 8.94, 8.78, 9.11, 8.76, 8.95, 9.04, 8.27, 8.13, 8.65, 8.57, 8.75, 8.89, 8.45, 9.11, 8.34, 8.5, 8.69, 8.48, 8.56, 9.1, 8.21], \"yaxis\": \"y3\", \"ybingroup\": \"y\"}, {\"coloraxis\": \"coloraxis\", \"hovertemplate\": \"University Rating=4<br>TOEFL Score=%{x}<br>CGPA=%{y}<br>count=%{z}<extra></extra>\", \"name\": \"\", \"type\": \"histogram2d\", \"x\": [116, 116, 116, 113, 116, 112, 103, 111, 117, 112, 116, 101, 111, 99, 118, 112, 119, 114, 110, 96, 99, 110, 114, 113, 105, 105, 115, 113, 116, 105, 110, 105, 110, 102, 107, 112, 106, 113, 118, 116, 106, 104, 106, 106, 109, 120, 110, 109, 114, 110, 113, 111, 111, 119, 113, 108, 111, 110, 117, 119, 107, 111, 112, 114, 118, 117, 111, 111, 116, 112, 115, 108, 120, 103, 109, 100, 112, 120, 113, 112, 114, 108, 115, 103, 110, 110, 112, 112, 110, 107, 112, 107, 104, 111, 113, 110, 108, 102, 112, 111, 109, 113, 119, 117, 113], \"xaxis\": \"x4\", \"xbingroup\": \"x\", \"y\": [9.54, 9.44, 9.6, 9.25, 9.45, 9.12, 8.02, 9.23, 9.66, 9.22, 9.23, 7.69, 8.54, 7.81, 9.67, 8.86, 9.62, 9.17, 9.15, 8.26, 8.73, 8.88, 9.16, 9.74, 7.94, 8.66, 9.14, 9.36, 9.48, 7.95, 8.35, 8.18, 8.96, 7.88, 8.48, 9.02, 8.75, 8.77, 9.65, 9.8, 9.04, 7.46, 8.36, 8.47, 8.77, 9.92, 8.67, 8.68, 9.43, 9.13, 9.23, 8.97, 8.87, 9.16, 9.11, 9.06, 9.01, 9.14, 9.46, 9.24, 8.87, 9.0, 9.1, 8.4, 9.4, 9.1, 8.4, 9.18, 8.0, 8.92, 9.16, 9.04, 9.5, 8.66, 8.76, 7.84, 8.1, 9.66, 9.04, 9.66, 9.12, 9.18, 9.68, 8.43, 8.6, 9.02, 8.77, 9.0, 8.37, 8.65, 9.17, 9.0, 9.02, 9.01, 8.69, 8.97, 8.34, 8.76, 9.26, 9.11, 9.13, 9.14, 9.34, 9.42, 8.79], \"yaxis\": \"y4\", \"ybingroup\": \"y\"}, {\"coloraxis\": \"coloraxis\", \"hovertemplate\": \"University Rating=5<br>TOEFL Score=%{x}<br>CGPA=%{y}<br>count=%{z}<extra></extra>\", \"name\": \"\", \"type\": \"histogram2d\", \"x\": [115, 110, 110, 118, 101, 112, 114, 115, 111, 119, 114, 120, 117, 108, 115, 115, 108, 118, 116, 119, 119, 120, 109, 103, 114, 112, 110, 113, 118, 119, 110, 108, 113, 114, 119, 114, 110, 117, 111, 113, 118, 115, 112, 111, 110, 114, 118, 120, 120, 116, 111, 116, 112, 115, 116, 103, 108, 104, 117, 116, 113, 114, 119, 117, 118, 114, 105, 105, 112, 113, 115, 116, 107], \"xaxis\": \"x5\", \"xbingroup\": \"x\", \"y\": [9.45, 9.22, 9.27, 9.64, 8.78, 9.76, 9.08, 9.36, 9.45, 9.78, 9.3, 9.56, 9.87, 9.02, 9.23, 9.34, 8.74, 9.47, 9.5, 9.7, 9.7, 9.6, 8.8, 7.92, 9.6, 9.8, 9.2, 9.4, 9.19, 9.8, 9.1, 9.13, 9.45, 9.46, 9.54, 9.19, 8.97, 9.07, 9.23, 9.31, 9.44, 9.36, 9.08, 9.16, 8.98, 8.94, 9.53, 9.91, 9.87, 9.36, 9.86, 9.26, 9.06, 9.06, 9.38, 8.64, 8.48, 8.84, 9.56, 9.08, 9.25, 9.16, 9.48, 9.82, 9.35, 9.76, 8.65, 8.56, 8.78, 9.28, 9.44, 9.28, 8.66], \"yaxis\": \"y5\", \"ybingroup\": \"y\"}],                        {\"annotations\": [{\"font\": {}, \"showarrow\": false, \"text\": \"University Rating=1\", \"x\": 0.09200000000000001, \"xanchor\": \"center\", \"xref\": \"paper\", \"y\": 1.0, \"yanchor\": \"bottom\", \"yref\": \"paper\"}, {\"font\": {}, \"showarrow\": false, \"text\": \"University Rating=2\", \"x\": 0.29600000000000004, \"xanchor\": \"center\", \"xref\": \"paper\", \"y\": 1.0, \"yanchor\": \"bottom\", \"yref\": \"paper\"}, {\"font\": {}, \"showarrow\": false, \"text\": \"University Rating=3\", \"x\": 0.5, \"xanchor\": \"center\", \"xref\": \"paper\", \"y\": 1.0, \"yanchor\": \"bottom\", \"yref\": \"paper\"}, {\"font\": {}, \"showarrow\": false, \"text\": \"University Rating=4\", \"x\": 0.7040000000000002, \"xanchor\": \"center\", \"xref\": \"paper\", \"y\": 1.0, \"yanchor\": \"bottom\", \"yref\": \"paper\"}, {\"font\": {}, \"showarrow\": false, \"text\": \"University Rating=5\", \"x\": 0.908, \"xanchor\": \"center\", \"xref\": \"paper\", \"y\": 1.0, \"yanchor\": \"bottom\", \"yref\": \"paper\"}], \"coloraxis\": {\"colorbar\": {\"title\": {\"text\": \"count\"}}, \"colorscale\": [[0.0, \"rgb(255,247,251)\"], [0.125, \"rgb(236,231,242)\"], [0.25, \"rgb(208,209,230)\"], [0.375, \"rgb(166,189,219)\"], [0.5, \"rgb(116,169,207)\"], [0.625, \"rgb(54,144,192)\"], [0.75, \"rgb(5,112,176)\"], [0.875, \"rgb(4,90,141)\"], [1.0, \"rgb(2,56,88)\"]]}, \"legend\": {\"tracegroupgap\": 0}, \"template\": {\"data\": {\"bar\": [{\"error_x\": {\"color\": \"#2a3f5f\"}, \"error_y\": {\"color\": \"#2a3f5f\"}, \"marker\": {\"line\": {\"color\": \"#E5ECF6\", \"width\": 0.5}}, \"type\": \"bar\"}], \"barpolar\": [{\"marker\": {\"line\": {\"color\": \"#E5ECF6\", \"width\": 0.5}}, \"type\": \"barpolar\"}], \"carpet\": [{\"aaxis\": {\"endlinecolor\": \"#2a3f5f\", \"gridcolor\": \"white\", \"linecolor\": \"white\", \"minorgridcolor\": \"white\", \"startlinecolor\": \"#2a3f5f\"}, \"baxis\": {\"endlinecolor\": \"#2a3f5f\", \"gridcolor\": \"white\", \"linecolor\": \"white\", \"minorgridcolor\": \"white\", \"startlinecolor\": \"#2a3f5f\"}, \"type\": \"carpet\"}], \"choropleth\": [{\"colorbar\": {\"outlinewidth\": 0, \"ticks\": \"\"}, \"type\": \"choropleth\"}], \"contour\": [{\"colorbar\": {\"outlinewidth\": 0, \"ticks\": \"\"}, \"colorscale\": [[0.0, \"#0d0887\"], [0.1111111111111111, \"#46039f\"], [0.2222222222222222, \"#7201a8\"], [0.3333333333333333, \"#9c179e\"], [0.4444444444444444, \"#bd3786\"], [0.5555555555555556, \"#d8576b\"], [0.6666666666666666, \"#ed7953\"], [0.7777777777777778, \"#fb9f3a\"], [0.8888888888888888, \"#fdca26\"], [1.0, \"#f0f921\"]], \"type\": \"contour\"}], \"contourcarpet\": [{\"colorbar\": {\"outlinewidth\": 0, \"ticks\": \"\"}, \"type\": \"contourcarpet\"}], \"heatmap\": [{\"colorbar\": {\"outlinewidth\": 0, \"ticks\": \"\"}, \"colorscale\": [[0.0, \"#0d0887\"], [0.1111111111111111, \"#46039f\"], [0.2222222222222222, \"#7201a8\"], [0.3333333333333333, \"#9c179e\"], [0.4444444444444444, \"#bd3786\"], [0.5555555555555556, \"#d8576b\"], [0.6666666666666666, \"#ed7953\"], [0.7777777777777778, \"#fb9f3a\"], [0.8888888888888888, \"#fdca26\"], [1.0, \"#f0f921\"]], \"type\": \"heatmap\"}], \"heatmapgl\": [{\"colorbar\": {\"outlinewidth\": 0, \"ticks\": \"\"}, \"colorscale\": [[0.0, \"#0d0887\"], [0.1111111111111111, \"#46039f\"], [0.2222222222222222, \"#7201a8\"], [0.3333333333333333, \"#9c179e\"], [0.4444444444444444, \"#bd3786\"], [0.5555555555555556, \"#d8576b\"], [0.6666666666666666, \"#ed7953\"], [0.7777777777777778, \"#fb9f3a\"], [0.8888888888888888, \"#fdca26\"], [1.0, \"#f0f921\"]], \"type\": \"heatmapgl\"}], \"histogram\": [{\"marker\": {\"colorbar\": {\"outlinewidth\": 0, \"ticks\": \"\"}}, \"type\": \"histogram\"}], \"histogram2d\": [{\"colorbar\": {\"outlinewidth\": 0, \"ticks\": \"\"}, \"colorscale\": [[0.0, \"#0d0887\"], [0.1111111111111111, \"#46039f\"], [0.2222222222222222, \"#7201a8\"], [0.3333333333333333, \"#9c179e\"], [0.4444444444444444, \"#bd3786\"], [0.5555555555555556, \"#d8576b\"], [0.6666666666666666, \"#ed7953\"], [0.7777777777777778, \"#fb9f3a\"], [0.8888888888888888, \"#fdca26\"], [1.0, \"#f0f921\"]], \"type\": \"histogram2d\"}], \"histogram2dcontour\": [{\"colorbar\": {\"outlinewidth\": 0, \"ticks\": \"\"}, \"colorscale\": [[0.0, \"#0d0887\"], [0.1111111111111111, \"#46039f\"], [0.2222222222222222, \"#7201a8\"], [0.3333333333333333, \"#9c179e\"], [0.4444444444444444, \"#bd3786\"], [0.5555555555555556, \"#d8576b\"], [0.6666666666666666, \"#ed7953\"], [0.7777777777777778, \"#fb9f3a\"], [0.8888888888888888, \"#fdca26\"], [1.0, \"#f0f921\"]], \"type\": \"histogram2dcontour\"}], \"mesh3d\": [{\"colorbar\": {\"outlinewidth\": 0, \"ticks\": \"\"}, \"type\": \"mesh3d\"}], \"parcoords\": [{\"line\": {\"colorbar\": {\"outlinewidth\": 0, \"ticks\": \"\"}}, \"type\": \"parcoords\"}], \"pie\": [{\"automargin\": true, \"type\": \"pie\"}], \"scatter\": [{\"marker\": {\"colorbar\": {\"outlinewidth\": 0, \"ticks\": \"\"}}, \"type\": \"scatter\"}], \"scatter3d\": [{\"line\": {\"colorbar\": {\"outlinewidth\": 0, \"ticks\": \"\"}}, \"marker\": {\"colorbar\": {\"outlinewidth\": 0, \"ticks\": \"\"}}, \"type\": \"scatter3d\"}], \"scattercarpet\": [{\"marker\": {\"colorbar\": {\"outlinewidth\": 0, \"ticks\": \"\"}}, \"type\": \"scattercarpet\"}], \"scattergeo\": [{\"marker\": {\"colorbar\": {\"outlinewidth\": 0, \"ticks\": \"\"}}, \"type\": \"scattergeo\"}], \"scattergl\": [{\"marker\": {\"colorbar\": {\"outlinewidth\": 0, \"ticks\": \"\"}}, \"type\": \"scattergl\"}], \"scattermapbox\": [{\"marker\": {\"colorbar\": {\"outlinewidth\": 0, \"ticks\": \"\"}}, \"type\": \"scattermapbox\"}], \"scatterpolar\": [{\"marker\": {\"colorbar\": {\"outlinewidth\": 0, \"ticks\": \"\"}}, \"type\": \"scatterpolar\"}], \"scatterpolargl\": [{\"marker\": {\"colorbar\": {\"outlinewidth\": 0, \"ticks\": \"\"}}, \"type\": \"scatterpolargl\"}], \"scatterternary\": [{\"marker\": {\"colorbar\": {\"outlinewidth\": 0, \"ticks\": \"\"}}, \"type\": \"scatterternary\"}], \"surface\": [{\"colorbar\": {\"outlinewidth\": 0, \"ticks\": \"\"}, \"colorscale\": [[0.0, \"#0d0887\"], [0.1111111111111111, \"#46039f\"], [0.2222222222222222, \"#7201a8\"], [0.3333333333333333, \"#9c179e\"], [0.4444444444444444, \"#bd3786\"], [0.5555555555555556, \"#d8576b\"], [0.6666666666666666, \"#ed7953\"], [0.7777777777777778, \"#fb9f3a\"], [0.8888888888888888, \"#fdca26\"], [1.0, \"#f0f921\"]], \"type\": \"surface\"}], \"table\": [{\"cells\": {\"fill\": {\"color\": \"#EBF0F8\"}, \"line\": {\"color\": \"white\"}}, \"header\": {\"fill\": {\"color\": \"#C8D4E3\"}, \"line\": {\"color\": \"white\"}}, \"type\": \"table\"}]}, \"layout\": {\"annotationdefaults\": {\"arrowcolor\": \"#2a3f5f\", \"arrowhead\": 0, \"arrowwidth\": 1}, \"autotypenumbers\": \"strict\", \"coloraxis\": {\"colorbar\": {\"outlinewidth\": 0, \"ticks\": \"\"}}, \"colorscale\": {\"diverging\": [[0, \"#8e0152\"], [0.1, \"#c51b7d\"], [0.2, \"#de77ae\"], [0.3, \"#f1b6da\"], [0.4, \"#fde0ef\"], [0.5, \"#f7f7f7\"], [0.6, \"#e6f5d0\"], [0.7, \"#b8e186\"], [0.8, \"#7fbc41\"], [0.9, \"#4d9221\"], [1, \"#276419\"]], \"sequential\": [[0.0, \"#0d0887\"], [0.1111111111111111, \"#46039f\"], [0.2222222222222222, \"#7201a8\"], [0.3333333333333333, \"#9c179e\"], [0.4444444444444444, \"#bd3786\"], [0.5555555555555556, \"#d8576b\"], [0.6666666666666666, \"#ed7953\"], [0.7777777777777778, \"#fb9f3a\"], [0.8888888888888888, \"#fdca26\"], [1.0, \"#f0f921\"]], \"sequentialminus\": [[0.0, \"#0d0887\"], [0.1111111111111111, \"#46039f\"], [0.2222222222222222, \"#7201a8\"], [0.3333333333333333, \"#9c179e\"], [0.4444444444444444, \"#bd3786\"], [0.5555555555555556, \"#d8576b\"], [0.6666666666666666, \"#ed7953\"], [0.7777777777777778, \"#fb9f3a\"], [0.8888888888888888, \"#fdca26\"], [1.0, \"#f0f921\"]]}, \"colorway\": [\"#636efa\", \"#EF553B\", \"#00cc96\", \"#ab63fa\", \"#FFA15A\", \"#19d3f3\", \"#FF6692\", \"#B6E880\", \"#FF97FF\", \"#FECB52\"], \"font\": {\"color\": \"#2a3f5f\"}, \"geo\": {\"bgcolor\": \"white\", \"lakecolor\": \"white\", \"landcolor\": \"#E5ECF6\", \"showlakes\": true, \"showland\": true, \"subunitcolor\": \"white\"}, \"hoverlabel\": {\"align\": \"left\"}, \"hovermode\": \"closest\", \"mapbox\": {\"style\": \"light\"}, \"paper_bgcolor\": \"white\", \"plot_bgcolor\": \"#E5ECF6\", \"polar\": {\"angularaxis\": {\"gridcolor\": \"white\", \"linecolor\": \"white\", \"ticks\": \"\"}, \"bgcolor\": \"#E5ECF6\", \"radialaxis\": {\"gridcolor\": \"white\", \"linecolor\": \"white\", \"ticks\": \"\"}}, \"scene\": {\"xaxis\": {\"backgroundcolor\": \"#E5ECF6\", \"gridcolor\": \"white\", \"gridwidth\": 2, \"linecolor\": \"white\", \"showbackground\": true, \"ticks\": \"\", \"zerolinecolor\": \"white\"}, \"yaxis\": {\"backgroundcolor\": \"#E5ECF6\", \"gridcolor\": \"white\", \"gridwidth\": 2, \"linecolor\": \"white\", \"showbackground\": true, \"ticks\": \"\", \"zerolinecolor\": \"white\"}, \"zaxis\": {\"backgroundcolor\": \"#E5ECF6\", \"gridcolor\": \"white\", \"gridwidth\": 2, \"linecolor\": \"white\", \"showbackground\": true, \"ticks\": \"\", \"zerolinecolor\": \"white\"}}, \"shapedefaults\": {\"line\": {\"color\": \"#2a3f5f\"}}, \"ternary\": {\"aaxis\": {\"gridcolor\": \"white\", \"linecolor\": \"white\", \"ticks\": \"\"}, \"baxis\": {\"gridcolor\": \"white\", \"linecolor\": \"white\", \"ticks\": \"\"}, \"bgcolor\": \"#E5ECF6\", \"caxis\": {\"gridcolor\": \"white\", \"linecolor\": \"white\", \"ticks\": \"\"}}, \"title\": {\"x\": 0.05}, \"xaxis\": {\"automargin\": true, \"gridcolor\": \"white\", \"linecolor\": \"white\", \"ticks\": \"\", \"title\": {\"standoff\": 15}, \"zerolinecolor\": \"white\", \"zerolinewidth\": 2}, \"yaxis\": {\"automargin\": true, \"gridcolor\": \"white\", \"linecolor\": \"white\", \"ticks\": \"\", \"title\": {\"standoff\": 15}, \"zerolinecolor\": \"white\", \"zerolinewidth\": 2}}}, \"title\": {\"text\": \"TOEFL Score vs. CGPA for different university ranking values\"}, \"xaxis\": {\"anchor\": \"y\", \"domain\": [0.0, 0.18400000000000002], \"title\": {\"text\": \"TOEFL Score\"}}, \"xaxis2\": {\"anchor\": \"y2\", \"domain\": [0.20400000000000001, 0.388], \"matches\": \"x\", \"title\": {\"text\": \"TOEFL Score\"}}, \"xaxis3\": {\"anchor\": \"y3\", \"domain\": [0.40800000000000003, 0.5920000000000001], \"matches\": \"x\", \"title\": {\"text\": \"TOEFL Score\"}}, \"xaxis4\": {\"anchor\": \"y4\", \"domain\": [0.6120000000000001, 0.7960000000000002], \"matches\": \"x\", \"title\": {\"text\": \"TOEFL Score\"}}, \"xaxis5\": {\"anchor\": \"y5\", \"domain\": [0.8160000000000001, 1.0], \"matches\": \"x\", \"title\": {\"text\": \"TOEFL Score\"}}, \"yaxis\": {\"anchor\": \"x\", \"domain\": [0.0, 1.0], \"title\": {\"text\": \"CGPA\"}}, \"yaxis2\": {\"anchor\": \"x2\", \"domain\": [0.0, 1.0], \"matches\": \"y\", \"showticklabels\": false}, \"yaxis3\": {\"anchor\": \"x3\", \"domain\": [0.0, 1.0], \"matches\": \"y\", \"showticklabels\": false}, \"yaxis4\": {\"anchor\": \"x4\", \"domain\": [0.0, 1.0], \"matches\": \"y\", \"showticklabels\": false}, \"yaxis5\": {\"anchor\": \"x5\", \"domain\": [0.0, 1.0], \"matches\": \"y\", \"showticklabels\": false}},                        {\"responsive\": true}                    ).then(function(){\n",
       "                            \n",
       "var gd = document.getElementById('99ccba8d-0cdf-4dea-ab2d-06e83889bf0d');\n",
       "var x = new MutationObserver(function (mutations, observer) {{\n",
       "        var display = window.getComputedStyle(gd).display;\n",
       "        if (!display || display === 'none') {{\n",
       "            console.log([gd, 'removed!']);\n",
       "            Plotly.purge(gd);\n",
       "            observer.disconnect();\n",
       "        }}\n",
       "}});\n",
       "\n",
       "// Listen for the removal of the full notebook cells\n",
       "var notebookContainer = gd.closest('#notebook-container');\n",
       "if (notebookContainer) {{\n",
       "    x.observe(notebookContainer, {childList: true});\n",
       "}}\n",
       "\n",
       "// Listen for the clearing of the current output cell\n",
       "var outputEl = gd.closest('.output');\n",
       "if (outputEl) {{\n",
       "    x.observe(outputEl, {childList: true});\n",
       "}}\n",
       "\n",
       "                        })                };                });            </script>        </div>"
      ]
     },
     "metadata": {},
     "output_type": "display_data"
    }
   ],
   "source": [
    "px.density_heatmap(\n",
    "    data_frame=df,\n",
    "    x=\"TOEFL Score\",\n",
    "    y=\"CGPA\",\n",
    "    facet_col=\"University Rating\",\n",
    "    color_continuous_scale=\"PuBu\",\n",
    "    title=\"TOEFL Score vs. CGPA for different university ranking values\",\n",
    ")"
   ]
  },
  {
   "cell_type": "markdown",
   "metadata": {
    "collapsed": "true",
    "papermill": {
     "duration": 0.144786,
     "end_time": "2020-12-28T20:42:28.273176",
     "exception": false,
     "start_time": "2020-12-28T20:42:28.128390",
     "status": "completed"
    },
    "tags": []
   },
   "source": [
    "#### `GRE Score` vs. `CGPA`"
   ]
  },
  {
   "cell_type": "code",
   "execution_count": 76,
   "metadata": {
    "execution": {
     "iopub.execute_input": "2020-12-28T20:42:28.595833Z",
     "iopub.status.busy": "2020-12-28T20:42:28.575465Z",
     "iopub.status.idle": "2020-12-28T20:42:28.725487Z",
     "shell.execute_reply": "2020-12-28T20:42:28.724900Z"
    },
    "papermill": {
     "duration": 0.307872,
     "end_time": "2020-12-28T20:42:28.725615",
     "exception": false,
     "start_time": "2020-12-28T20:42:28.417743",
     "status": "completed"
    },
    "tags": []
   },
   "outputs": [
    {
     "data": {
      "text/html": [
       "<div>                            <div id=\"099f1573-e53f-4c93-8dc7-b4e724ca385b\" class=\"plotly-graph-div\" style=\"height:525px; width:100%;\"></div>            <script type=\"text/javascript\">                require([\"plotly\"], function(Plotly) {                    window.PLOTLYENV=window.PLOTLYENV || {};                                    if (document.getElementById(\"099f1573-e53f-4c93-8dc7-b4e724ca385b\")) {                    Plotly.newPlot(                        \"099f1573-e53f-4c93-8dc7-b4e724ca385b\",                        [{\"coloraxis\": \"coloraxis\", \"hovertemplate\": \"University Rating=1<br>GRE Score=%{x}<br>CGPA=%{y}<br>count=%{z}<extra></extra>\", \"name\": \"\", \"type\": \"histogram2d\", \"x\": [318, 295, 301, 318, 294, 300, 304, 312, 315, 310, 317, 311, 312, 290, 300, 303, 300, 332, 311, 299, 298, 298, 297, 296, 295, 312, 302, 301, 316, 294, 302, 315, 300, 299], \"xaxis\": \"x\", \"xbingroup\": \"x\", \"y\": [8.54, 7.2, 8.03, 9.12, 7.64, 7.8, 7.5, 8.01, 7.95, 7.23, 7.65, 7.46, 8.53, 7.56, 8.01, 7.65, 6.8, 8.66, 8.43, 7.89, 7.88, 7.46, 7.9, 7.68, 7.57, 8.18, 7.25, 7.56, 7.43, 7.36, 8.0, 7.86, 8.02, 7.34], \"yaxis\": \"y\", \"ybingroup\": \"y\"}, {\"coloraxis\": \"coloraxis\", \"hovertemplate\": \"University Rating=2<br>GRE Score=%{x}<br>CGPA=%{y}<br>count=%{z}<extra></extra>\", \"name\": \"\", \"type\": \"histogram2d\", \"x\": [317, 306, 316, 312, 296, 301, 299, 317, 316, 320, 304, 315, 314, 307, 299, 305, 300, 312, 302, 314, 297, 310, 321, 304, 293, 302, 307, 308, 309, 318, 316, 306, 309, 308, 325, 296, 312, 316, 311, 314, 306, 305, 308, 320, 311, 312, 309, 305, 316, 329, 332, 299, 320, 325, 320, 326, 298, 309, 318, 311, 298, 310, 300, 305, 315, 306, 295, 299, 307, 312, 316, 313, 295, 311, 312, 307, 306, 301, 308, 317, 314, 300, 297, 308, 305, 303, 296, 304, 315, 304, 295, 305, 304, 317, 297, 305, 310, 310, 306, 307, 298, 329, 301, 296, 317, 313, 322, 319, 311, 317, 313, 316, 315, 312, 298, 314, 308, 298, 315, 304, 309, 312, 311, 305, 316, 314], \"xaxis\": \"x2\", \"xbingroup\": \"x\", \"y\": [8.47, 8.0, 8.32, 9.02, 7.28, 7.88, 7.88, 8.57, 8.32, 8.56, 7.66, 7.65, 8.56, 7.65, 7.88, 7.64, 7.87, 8.12, 7.97, 8.25, 7.43, 8.01, 8.44, 8.73, 7.8, 7.96, 8.1, 7.98, 8.03, 8.54, 9.0, 8.14, 8.26, 8.36, 8.76, 7.8, 8.45, 8.74, 8.26, 7.64, 8.22, 7.79, 8.49, 8.62, 8.48, 8.46, 7.68, 8.42, 8.16, 9.15, 9.36, 7.86, 8.78, 8.96, 8.64, 9.08, 8.03, 8.0, 7.92, 8.34, 7.5, 7.3, 8.1, 8.16, 7.89, 8.36, 7.65, 8.4, 7.7, 8.27, 8.2, 8.5, 7.86, 8.12, 8.53, 8.12, 8.45, 7.89, 8.45, 8.12, 8.21, 8.22, 7.67, 7.9, 8.23, 8.06, 8.03, 8.22, 8.34, 7.64, 7.34, 8.13, 8.07, 8.76, 7.89, 8.18, 8.33, 8.24, 8.26, 8.52, 7.21, 8.56, 8.22, 7.54, 8.15, 8.43, 8.45, 8.76, 7.98, 8.28, 8.13, 8.64, 8.46, 8.04, 7.6, 8.27, 8.07, 7.86, 8.5, 8.2, 8.1, 7.9, 8.3, 8.13, 8.15, 8.24], \"yaxis\": \"y2\", \"ybingroup\": \"y\"}, {\"coloraxis\": \"coloraxis\", \"hovertemplate\": \"University Rating=3<br>GRE Score=%{x}<br>CGPA=%{y}<br>count=%{z}<extra></extra>\", \"name\": \"\", \"type\": \"histogram2d\", \"x\": [325, 324, 318, 318, 316, 319, 320, 324, 313, 310, 320, 313, 324, 324, 317, 323, 315, 326, 299, 327, 308, 319, 301, 320, 313, 312, 326, 308, 313, 318, 322, 300, 327, 319, 320, 324, 312, 300, 319, 312, 324, 313, 314, 322, 322, 311, 317, 312, 321, 321, 324, 310, 320, 330, 305, 323, 321, 323, 309, 316, 321, 312, 307, 325, 311, 327, 318, 314, 327, 312, 304, 301, 315, 314, 299, 303, 331, 323, 322, 326, 316, 313, 301, 311, 315, 299, 320, 316, 308, 320, 313, 301, 316, 322, 321, 323, 325, 307, 311, 314, 317, 319, 318, 303, 312, 302, 322, 319, 327, 317, 321, 308, 318, 304, 300, 321, 322, 300, 319, 319, 313, 299, 316, 315, 323, 309, 300, 314, 317, 317, 297, 302, 298, 311, 313, 317, 302, 298, 310, 301, 311, 324, 312, 325, 316, 321, 319, 307, 311, 310, 312, 324, 326, 312, 326, 315, 318, 312, 315, 317, 326, 306], \"xaxis\": \"x3\", \"xbingroup\": \"x\", \"y\": [9.04, 8.76, 8.65, 8.67, 8.73, 8.33, 8.57, 8.87, 8.65, 8.37, 8.44, 9.0, 8.64, 8.8, 8.5, 8.44, 8.33, 9.14, 8.02, 8.66, 8.21, 8.54, 8.04, 8.34, 8.9, 8.46, 8.76, 8.24, 8.04, 8.27, 8.64, 8.17, 8.77, 8.79, 8.74, 9.22, 8.53, 8.26, 8.67, 8.09, 8.79, 8.68, 8.17, 8.84, 8.96, 8.64, 9.11, 8.79, 8.9, 8.54, 9.04, 8.67, 9.11, 9.24, 8.65, 8.55, 8.8, 9.1, 8.56, 8.56, 8.83, 8.42, 8.2, 8.7, 8.09, 9.02, 9.22, 8.9, 8.72, 8.02, 7.86, 8.13, 8.42, 8.14, 7.66, 7.66, 8.96, 8.88, 8.46, 9.05, 8.78, 8.75, 8.34, 8.45, 9.13, 8.62, 8.97, 7.4, 8.22, 7.7, 8.3, 8.45, 8.0, 8.67, 8.2, 8.6, 8.4, 8.0, 8.2, 8.3, 8.7, 8.0, 8.8, 8.5, 7.9, 8.5, 8.62, 8.37, 8.3, 7.89, 9.01, 8.0, 8.49, 8.12, 7.88, 8.85, 8.0, 8.66, 8.76, 8.71, 8.27, 7.42, 7.68, 8.1, 9.32, 8.12, 8.16, 8.8, 8.68, 7.94, 7.67, 8.33, 7.95, 8.43, 8.69, 8.54, 7.45, 8.54, 8.02, 8.12, 7.64, 8.94, 8.78, 9.11, 8.76, 8.95, 9.04, 8.27, 8.13, 8.65, 8.57, 8.75, 8.89, 8.45, 9.11, 8.34, 8.5, 8.69, 8.48, 8.56, 9.1, 8.21], \"yaxis\": \"y3\", \"ybingroup\": \"y\"}, {\"coloraxis\": \"coloraxis\", \"hovertemplate\": \"University Rating=4<br>GRE Score=%{x}<br>CGPA=%{y}<br>count=%{z}<extra></extra>\", \"name\": \"\", \"type\": \"histogram2d\", \"x\": [334, 331, 328, 324, 330, 326, 322, 329, 333, 324, 330, 298, 316, 297, 327, 320, 336, 330, 324, 305, 314, 323, 326, 340, 307, 319, 327, 329, 327, 308, 321, 309, 325, 314, 323, 322, 327, 328, 337, 339, 310, 290, 310, 301, 314, 340, 325, 321, 334, 322, 323, 321, 320, 329, 327, 325, 329, 328, 338, 332, 324, 327, 328, 325, 338, 332, 327, 329, 334, 325, 328, 314, 340, 319, 316, 304, 324, 338, 327, 340, 321, 328, 335, 312, 308, 328, 324, 325, 307, 312, 325, 311, 314, 324, 327, 324, 308, 326, 322, 325, 321, 327, 331, 331, 324], \"xaxis\": \"x4\", \"xbingroup\": \"x\", \"y\": [9.54, 9.44, 9.6, 9.25, 9.45, 9.12, 8.02, 9.23, 9.66, 9.22, 9.23, 7.69, 8.54, 7.81, 9.67, 8.86, 9.62, 9.17, 9.15, 8.26, 8.73, 8.88, 9.16, 9.74, 7.94, 8.66, 9.14, 9.36, 9.48, 7.95, 8.35, 8.18, 8.96, 7.88, 8.48, 9.02, 8.75, 8.77, 9.65, 9.8, 9.04, 7.46, 8.36, 8.47, 8.77, 9.92, 8.67, 8.68, 9.43, 9.13, 9.23, 8.97, 8.87, 9.16, 9.11, 9.06, 9.01, 9.14, 9.46, 9.24, 8.87, 9.0, 9.1, 8.4, 9.4, 9.1, 8.4, 9.18, 8.0, 8.92, 9.16, 9.04, 9.5, 8.66, 8.76, 7.84, 8.1, 9.66, 9.04, 9.66, 9.12, 9.18, 9.68, 8.43, 8.6, 9.02, 8.77, 9.0, 8.37, 8.65, 9.17, 9.0, 9.02, 9.01, 8.69, 8.97, 8.34, 8.76, 9.26, 9.11, 9.13, 9.14, 9.34, 9.42, 8.79], \"yaxis\": \"y4\", \"ybingroup\": \"y\"}, {\"coloraxis\": \"coloraxis\", \"hovertemplate\": \"University Rating=5<br>GRE Score=%{x}<br>CGPA=%{y}<br>count=%{z}<extra></extra>\", \"name\": \"\", \"type\": \"histogram2d\", \"x\": [340, 320, 320, 332, 318, 336, 324, 322, 321, 333, 329, 330, 337, 332, 338, 330, 323, 332, 328, 339, 334, 340, 322, 304, 340, 331, 320, 326, 336, 336, 322, 327, 329, 325, 334, 329, 322, 334, 326, 330, 335, 331, 324, 324, 323, 322, 336, 340, 334, 330, 323, 331, 321, 340, 331, 304, 305, 327, 335, 328, 324, 321, 334, 335, 333, 339, 303, 309, 323, 333, 331, 332, 324], \"xaxis\": \"x5\", \"xbingroup\": \"x\", \"y\": [9.45, 9.22, 9.27, 9.64, 8.78, 9.76, 9.08, 9.36, 9.45, 9.78, 9.3, 9.56, 9.87, 9.02, 9.23, 9.34, 8.74, 9.47, 9.5, 9.7, 9.7, 9.6, 8.8, 7.92, 9.6, 9.8, 9.2, 9.4, 9.19, 9.8, 9.1, 9.13, 9.45, 9.46, 9.54, 9.19, 8.97, 9.07, 9.23, 9.31, 9.44, 9.36, 9.08, 9.16, 8.98, 8.94, 9.53, 9.91, 9.87, 9.36, 9.86, 9.26, 9.06, 9.06, 9.38, 8.64, 8.48, 8.84, 9.56, 9.08, 9.25, 9.16, 9.48, 9.82, 9.35, 9.76, 8.65, 8.56, 8.78, 9.28, 9.44, 9.28, 8.66], \"yaxis\": \"y5\", \"ybingroup\": \"y\"}],                        {\"annotations\": [{\"font\": {}, \"showarrow\": false, \"text\": \"University Rating=1\", \"x\": 0.09200000000000001, \"xanchor\": \"center\", \"xref\": \"paper\", \"y\": 1.0, \"yanchor\": \"bottom\", \"yref\": \"paper\"}, {\"font\": {}, \"showarrow\": false, \"text\": \"University Rating=2\", \"x\": 0.29600000000000004, \"xanchor\": \"center\", \"xref\": \"paper\", \"y\": 1.0, \"yanchor\": \"bottom\", \"yref\": \"paper\"}, {\"font\": {}, \"showarrow\": false, \"text\": \"University Rating=3\", \"x\": 0.5, \"xanchor\": \"center\", \"xref\": \"paper\", \"y\": 1.0, \"yanchor\": \"bottom\", \"yref\": \"paper\"}, {\"font\": {}, \"showarrow\": false, \"text\": \"University Rating=4\", \"x\": 0.7040000000000002, \"xanchor\": \"center\", \"xref\": \"paper\", \"y\": 1.0, \"yanchor\": \"bottom\", \"yref\": \"paper\"}, {\"font\": {}, \"showarrow\": false, \"text\": \"University Rating=5\", \"x\": 0.908, \"xanchor\": \"center\", \"xref\": \"paper\", \"y\": 1.0, \"yanchor\": \"bottom\", \"yref\": \"paper\"}], \"coloraxis\": {\"colorbar\": {\"title\": {\"text\": \"count\"}}, \"colorscale\": [[0.0, \"rgb(255,247,251)\"], [0.125, \"rgb(236,231,242)\"], [0.25, \"rgb(208,209,230)\"], [0.375, \"rgb(166,189,219)\"], [0.5, \"rgb(116,169,207)\"], [0.625, \"rgb(54,144,192)\"], [0.75, \"rgb(5,112,176)\"], [0.875, \"rgb(4,90,141)\"], [1.0, \"rgb(2,56,88)\"]]}, \"legend\": {\"tracegroupgap\": 0}, \"template\": {\"data\": {\"bar\": [{\"error_x\": {\"color\": \"#2a3f5f\"}, \"error_y\": {\"color\": \"#2a3f5f\"}, \"marker\": {\"line\": {\"color\": \"#E5ECF6\", \"width\": 0.5}}, \"type\": \"bar\"}], \"barpolar\": [{\"marker\": {\"line\": {\"color\": \"#E5ECF6\", \"width\": 0.5}}, \"type\": \"barpolar\"}], \"carpet\": [{\"aaxis\": {\"endlinecolor\": \"#2a3f5f\", \"gridcolor\": \"white\", \"linecolor\": \"white\", \"minorgridcolor\": \"white\", \"startlinecolor\": \"#2a3f5f\"}, \"baxis\": {\"endlinecolor\": \"#2a3f5f\", \"gridcolor\": \"white\", \"linecolor\": \"white\", \"minorgridcolor\": \"white\", \"startlinecolor\": \"#2a3f5f\"}, \"type\": \"carpet\"}], \"choropleth\": [{\"colorbar\": {\"outlinewidth\": 0, \"ticks\": \"\"}, \"type\": \"choropleth\"}], \"contour\": [{\"colorbar\": {\"outlinewidth\": 0, \"ticks\": \"\"}, \"colorscale\": [[0.0, \"#0d0887\"], [0.1111111111111111, \"#46039f\"], [0.2222222222222222, \"#7201a8\"], [0.3333333333333333, \"#9c179e\"], [0.4444444444444444, \"#bd3786\"], [0.5555555555555556, \"#d8576b\"], [0.6666666666666666, \"#ed7953\"], [0.7777777777777778, \"#fb9f3a\"], [0.8888888888888888, \"#fdca26\"], [1.0, \"#f0f921\"]], \"type\": \"contour\"}], \"contourcarpet\": [{\"colorbar\": {\"outlinewidth\": 0, \"ticks\": \"\"}, \"type\": \"contourcarpet\"}], \"heatmap\": [{\"colorbar\": {\"outlinewidth\": 0, \"ticks\": \"\"}, \"colorscale\": [[0.0, \"#0d0887\"], [0.1111111111111111, \"#46039f\"], [0.2222222222222222, \"#7201a8\"], [0.3333333333333333, \"#9c179e\"], [0.4444444444444444, \"#bd3786\"], [0.5555555555555556, \"#d8576b\"], [0.6666666666666666, \"#ed7953\"], [0.7777777777777778, \"#fb9f3a\"], [0.8888888888888888, \"#fdca26\"], [1.0, \"#f0f921\"]], \"type\": \"heatmap\"}], \"heatmapgl\": [{\"colorbar\": {\"outlinewidth\": 0, \"ticks\": \"\"}, \"colorscale\": [[0.0, \"#0d0887\"], [0.1111111111111111, \"#46039f\"], [0.2222222222222222, \"#7201a8\"], [0.3333333333333333, \"#9c179e\"], [0.4444444444444444, \"#bd3786\"], [0.5555555555555556, \"#d8576b\"], [0.6666666666666666, \"#ed7953\"], [0.7777777777777778, \"#fb9f3a\"], [0.8888888888888888, \"#fdca26\"], [1.0, \"#f0f921\"]], \"type\": \"heatmapgl\"}], \"histogram\": [{\"marker\": {\"colorbar\": {\"outlinewidth\": 0, \"ticks\": \"\"}}, \"type\": \"histogram\"}], \"histogram2d\": [{\"colorbar\": {\"outlinewidth\": 0, \"ticks\": \"\"}, \"colorscale\": [[0.0, \"#0d0887\"], [0.1111111111111111, \"#46039f\"], [0.2222222222222222, \"#7201a8\"], [0.3333333333333333, \"#9c179e\"], [0.4444444444444444, \"#bd3786\"], [0.5555555555555556, \"#d8576b\"], [0.6666666666666666, \"#ed7953\"], [0.7777777777777778, \"#fb9f3a\"], [0.8888888888888888, \"#fdca26\"], [1.0, \"#f0f921\"]], \"type\": \"histogram2d\"}], \"histogram2dcontour\": [{\"colorbar\": {\"outlinewidth\": 0, \"ticks\": \"\"}, \"colorscale\": [[0.0, \"#0d0887\"], [0.1111111111111111, \"#46039f\"], [0.2222222222222222, \"#7201a8\"], [0.3333333333333333, \"#9c179e\"], [0.4444444444444444, \"#bd3786\"], [0.5555555555555556, \"#d8576b\"], [0.6666666666666666, \"#ed7953\"], [0.7777777777777778, \"#fb9f3a\"], [0.8888888888888888, \"#fdca26\"], [1.0, \"#f0f921\"]], \"type\": \"histogram2dcontour\"}], \"mesh3d\": [{\"colorbar\": {\"outlinewidth\": 0, \"ticks\": \"\"}, \"type\": \"mesh3d\"}], \"parcoords\": [{\"line\": {\"colorbar\": {\"outlinewidth\": 0, \"ticks\": \"\"}}, \"type\": \"parcoords\"}], \"pie\": [{\"automargin\": true, \"type\": \"pie\"}], \"scatter\": [{\"marker\": {\"colorbar\": {\"outlinewidth\": 0, \"ticks\": \"\"}}, \"type\": \"scatter\"}], \"scatter3d\": [{\"line\": {\"colorbar\": {\"outlinewidth\": 0, \"ticks\": \"\"}}, \"marker\": {\"colorbar\": {\"outlinewidth\": 0, \"ticks\": \"\"}}, \"type\": \"scatter3d\"}], \"scattercarpet\": [{\"marker\": {\"colorbar\": {\"outlinewidth\": 0, \"ticks\": \"\"}}, \"type\": \"scattercarpet\"}], \"scattergeo\": [{\"marker\": {\"colorbar\": {\"outlinewidth\": 0, \"ticks\": \"\"}}, \"type\": \"scattergeo\"}], \"scattergl\": [{\"marker\": {\"colorbar\": {\"outlinewidth\": 0, \"ticks\": \"\"}}, \"type\": \"scattergl\"}], \"scattermapbox\": [{\"marker\": {\"colorbar\": {\"outlinewidth\": 0, \"ticks\": \"\"}}, \"type\": \"scattermapbox\"}], \"scatterpolar\": [{\"marker\": {\"colorbar\": {\"outlinewidth\": 0, \"ticks\": \"\"}}, \"type\": \"scatterpolar\"}], \"scatterpolargl\": [{\"marker\": {\"colorbar\": {\"outlinewidth\": 0, \"ticks\": \"\"}}, \"type\": \"scatterpolargl\"}], \"scatterternary\": [{\"marker\": {\"colorbar\": {\"outlinewidth\": 0, \"ticks\": \"\"}}, \"type\": \"scatterternary\"}], \"surface\": [{\"colorbar\": {\"outlinewidth\": 0, \"ticks\": \"\"}, \"colorscale\": [[0.0, \"#0d0887\"], [0.1111111111111111, \"#46039f\"], [0.2222222222222222, \"#7201a8\"], [0.3333333333333333, \"#9c179e\"], [0.4444444444444444, \"#bd3786\"], [0.5555555555555556, \"#d8576b\"], [0.6666666666666666, \"#ed7953\"], [0.7777777777777778, \"#fb9f3a\"], [0.8888888888888888, \"#fdca26\"], [1.0, \"#f0f921\"]], \"type\": \"surface\"}], \"table\": [{\"cells\": {\"fill\": {\"color\": \"#EBF0F8\"}, \"line\": {\"color\": \"white\"}}, \"header\": {\"fill\": {\"color\": \"#C8D4E3\"}, \"line\": {\"color\": \"white\"}}, \"type\": \"table\"}]}, \"layout\": {\"annotationdefaults\": {\"arrowcolor\": \"#2a3f5f\", \"arrowhead\": 0, \"arrowwidth\": 1}, \"autotypenumbers\": \"strict\", \"coloraxis\": {\"colorbar\": {\"outlinewidth\": 0, \"ticks\": \"\"}}, \"colorscale\": {\"diverging\": [[0, \"#8e0152\"], [0.1, \"#c51b7d\"], [0.2, \"#de77ae\"], [0.3, \"#f1b6da\"], [0.4, \"#fde0ef\"], [0.5, \"#f7f7f7\"], [0.6, \"#e6f5d0\"], [0.7, \"#b8e186\"], [0.8, \"#7fbc41\"], [0.9, \"#4d9221\"], [1, \"#276419\"]], \"sequential\": [[0.0, \"#0d0887\"], [0.1111111111111111, \"#46039f\"], [0.2222222222222222, \"#7201a8\"], [0.3333333333333333, \"#9c179e\"], [0.4444444444444444, \"#bd3786\"], [0.5555555555555556, \"#d8576b\"], [0.6666666666666666, \"#ed7953\"], [0.7777777777777778, \"#fb9f3a\"], [0.8888888888888888, \"#fdca26\"], [1.0, \"#f0f921\"]], \"sequentialminus\": [[0.0, \"#0d0887\"], [0.1111111111111111, \"#46039f\"], [0.2222222222222222, \"#7201a8\"], [0.3333333333333333, \"#9c179e\"], [0.4444444444444444, \"#bd3786\"], [0.5555555555555556, \"#d8576b\"], [0.6666666666666666, \"#ed7953\"], [0.7777777777777778, \"#fb9f3a\"], [0.8888888888888888, \"#fdca26\"], [1.0, \"#f0f921\"]]}, \"colorway\": [\"#636efa\", \"#EF553B\", \"#00cc96\", \"#ab63fa\", \"#FFA15A\", \"#19d3f3\", \"#FF6692\", \"#B6E880\", \"#FF97FF\", \"#FECB52\"], \"font\": {\"color\": \"#2a3f5f\"}, \"geo\": {\"bgcolor\": \"white\", \"lakecolor\": \"white\", \"landcolor\": \"#E5ECF6\", \"showlakes\": true, \"showland\": true, \"subunitcolor\": \"white\"}, \"hoverlabel\": {\"align\": \"left\"}, \"hovermode\": \"closest\", \"mapbox\": {\"style\": \"light\"}, \"paper_bgcolor\": \"white\", \"plot_bgcolor\": \"#E5ECF6\", \"polar\": {\"angularaxis\": {\"gridcolor\": \"white\", \"linecolor\": \"white\", \"ticks\": \"\"}, \"bgcolor\": \"#E5ECF6\", \"radialaxis\": {\"gridcolor\": \"white\", \"linecolor\": \"white\", \"ticks\": \"\"}}, \"scene\": {\"xaxis\": {\"backgroundcolor\": \"#E5ECF6\", \"gridcolor\": \"white\", \"gridwidth\": 2, \"linecolor\": \"white\", \"showbackground\": true, \"ticks\": \"\", \"zerolinecolor\": \"white\"}, \"yaxis\": {\"backgroundcolor\": \"#E5ECF6\", \"gridcolor\": \"white\", \"gridwidth\": 2, \"linecolor\": \"white\", \"showbackground\": true, \"ticks\": \"\", \"zerolinecolor\": \"white\"}, \"zaxis\": {\"backgroundcolor\": \"#E5ECF6\", \"gridcolor\": \"white\", \"gridwidth\": 2, \"linecolor\": \"white\", \"showbackground\": true, \"ticks\": \"\", \"zerolinecolor\": \"white\"}}, \"shapedefaults\": {\"line\": {\"color\": \"#2a3f5f\"}}, \"ternary\": {\"aaxis\": {\"gridcolor\": \"white\", \"linecolor\": \"white\", \"ticks\": \"\"}, \"baxis\": {\"gridcolor\": \"white\", \"linecolor\": \"white\", \"ticks\": \"\"}, \"bgcolor\": \"#E5ECF6\", \"caxis\": {\"gridcolor\": \"white\", \"linecolor\": \"white\", \"ticks\": \"\"}}, \"title\": {\"x\": 0.05}, \"xaxis\": {\"automargin\": true, \"gridcolor\": \"white\", \"linecolor\": \"white\", \"ticks\": \"\", \"title\": {\"standoff\": 15}, \"zerolinecolor\": \"white\", \"zerolinewidth\": 2}, \"yaxis\": {\"automargin\": true, \"gridcolor\": \"white\", \"linecolor\": \"white\", \"ticks\": \"\", \"title\": {\"standoff\": 15}, \"zerolinecolor\": \"white\", \"zerolinewidth\": 2}}}, \"title\": {\"text\": \"GRE Score vs. CGPA for different university ranking values\"}, \"xaxis\": {\"anchor\": \"y\", \"domain\": [0.0, 0.18400000000000002], \"title\": {\"text\": \"GRE Score\"}}, \"xaxis2\": {\"anchor\": \"y2\", \"domain\": [0.20400000000000001, 0.388], \"matches\": \"x\", \"title\": {\"text\": \"GRE Score\"}}, \"xaxis3\": {\"anchor\": \"y3\", \"domain\": [0.40800000000000003, 0.5920000000000001], \"matches\": \"x\", \"title\": {\"text\": \"GRE Score\"}}, \"xaxis4\": {\"anchor\": \"y4\", \"domain\": [0.6120000000000001, 0.7960000000000002], \"matches\": \"x\", \"title\": {\"text\": \"GRE Score\"}}, \"xaxis5\": {\"anchor\": \"y5\", \"domain\": [0.8160000000000001, 1.0], \"matches\": \"x\", \"title\": {\"text\": \"GRE Score\"}}, \"yaxis\": {\"anchor\": \"x\", \"domain\": [0.0, 1.0], \"title\": {\"text\": \"CGPA\"}}, \"yaxis2\": {\"anchor\": \"x2\", \"domain\": [0.0, 1.0], \"matches\": \"y\", \"showticklabels\": false}, \"yaxis3\": {\"anchor\": \"x3\", \"domain\": [0.0, 1.0], \"matches\": \"y\", \"showticklabels\": false}, \"yaxis4\": {\"anchor\": \"x4\", \"domain\": [0.0, 1.0], \"matches\": \"y\", \"showticklabels\": false}, \"yaxis5\": {\"anchor\": \"x5\", \"domain\": [0.0, 1.0], \"matches\": \"y\", \"showticklabels\": false}},                        {\"responsive\": true}                    ).then(function(){\n",
       "                            \n",
       "var gd = document.getElementById('099f1573-e53f-4c93-8dc7-b4e724ca385b');\n",
       "var x = new MutationObserver(function (mutations, observer) {{\n",
       "        var display = window.getComputedStyle(gd).display;\n",
       "        if (!display || display === 'none') {{\n",
       "            console.log([gd, 'removed!']);\n",
       "            Plotly.purge(gd);\n",
       "            observer.disconnect();\n",
       "        }}\n",
       "}});\n",
       "\n",
       "// Listen for the removal of the full notebook cells\n",
       "var notebookContainer = gd.closest('#notebook-container');\n",
       "if (notebookContainer) {{\n",
       "    x.observe(notebookContainer, {childList: true});\n",
       "}}\n",
       "\n",
       "// Listen for the clearing of the current output cell\n",
       "var outputEl = gd.closest('.output');\n",
       "if (outputEl) {{\n",
       "    x.observe(outputEl, {childList: true});\n",
       "}}\n",
       "\n",
       "                        })                };                });            </script>        </div>"
      ]
     },
     "metadata": {},
     "output_type": "display_data"
    }
   ],
   "source": [
    "px.density_heatmap(\n",
    "    data_frame=df,\n",
    "    x=\"GRE Score\",\n",
    "    y=\"CGPA\",\n",
    "    facet_col=\"University Rating\",\n",
    "    color_continuous_scale=\"PuBu\",\n",
    "    title=\"GRE Score vs. CGPA for different university ranking values\",\n",
    ")"
   ]
  },
  {
   "cell_type": "markdown",
   "metadata": {
    "papermill": {
     "duration": 0.147186,
     "end_time": "2020-12-28T20:42:29.019234",
     "exception": false,
     "start_time": "2020-12-28T20:42:28.872048",
     "status": "completed"
    },
    "tags": []
   },
   "source": [
    "All these charts support our previous hypothesis: **University ranking influences positively student's performance.**"
   ]
  },
  {
   "cell_type": "markdown",
   "metadata": {
    "papermill": {
     "duration": 0.144313,
     "end_time": "2020-12-28T20:42:29.308710",
     "exception": false,
     "start_time": "2020-12-28T20:42:29.164397",
     "status": "completed"
    },
    "tags": []
   },
   "source": [
    "### `Research` and `University Rating`"
   ]
  },
  {
   "cell_type": "markdown",
   "metadata": {
    "papermill": {
     "duration": 0.144451,
     "end_time": "2020-12-28T20:42:29.597481",
     "exception": false,
     "start_time": "2020-12-28T20:42:29.453030",
     "status": "completed"
    },
    "tags": []
   },
   "source": [
    "In all previous plots we used either the `Research` variable or `University Rating` variable, however, it would very helpful to see how these two variables interact with each other, and how other vriables interact with them.\n",
    "\n",
    "Here, we'll use scatterplot to show relation between two variables `x` and `y`, and show how this relation changes for different values of `Research` and `University Rating`.\n",
    "\n",
    "This would be useful for answering questions:\n",
    "\n",
    "- Do students who go to higher-ranking universitries, are more involved in research activiteis?\n",
    "- How research experience and university ranking influence student's performance in exams and GPA?\n",
    "- Are there any outlier points? "
   ]
  },
  {
   "cell_type": "markdown",
   "metadata": {
    "papermill": {
     "duration": 0.147103,
     "end_time": "2020-12-28T20:42:29.891446",
     "exception": false,
     "start_time": "2020-12-28T20:42:29.744343",
     "status": "completed"
    },
    "tags": []
   },
   "source": [
    "#### `TOEFL Score` vs. `GRE Score`"
   ]
  },
  {
   "cell_type": "code",
   "execution_count": 77,
   "metadata": {
    "execution": {
     "iopub.execute_input": "2020-12-28T20:42:30.207611Z",
     "iopub.status.busy": "2020-12-28T20:42:30.203458Z",
     "iopub.status.idle": "2020-12-28T20:42:30.457470Z",
     "shell.execute_reply": "2020-12-28T20:42:30.456616Z"
    },
    "papermill": {
     "duration": 0.421171,
     "end_time": "2020-12-28T20:42:30.457611",
     "exception": false,
     "start_time": "2020-12-28T20:42:30.036440",
     "status": "completed"
    },
    "tags": []
   },
   "outputs": [
    {
     "data": {
      "text/html": [
       "<div>                            <div id=\"7951e5d3-16b3-4a10-b173-6d582a4af83e\" class=\"plotly-graph-div\" style=\"height:525px; width:100%;\"></div>            <script type=\"text/javascript\">                require([\"plotly\"], function(Plotly) {                    window.PLOTLYENV=window.PLOTLYENV || {};                                    if (document.getElementById(\"7951e5d3-16b3-4a10-b173-6d582a4af83e\")) {                    Plotly.newPlot(                        \"7951e5d3-16b3-4a10-b173-6d582a4af83e\",                        [{\"hovertemplate\": \"Research=True<br>University Rating=1<br>TOEFL Score=%{x}<br>GRE Score=%{y}<extra></extra>\", \"legendgroup\": \"True\", \"marker\": {\"color\": \"#636efa\", \"symbol\": \"circle\"}, \"mode\": \"markers\", \"name\": \"True\", \"orientation\": \"v\", \"showlegend\": true, \"type\": \"scatter\", \"x\": [110, 98, 99, 110, 106, 100, 99, 112, 99, 98], \"xaxis\": \"x\", \"y\": [318, 301, 312, 310, 317, 312, 300, 332, 311, 312], \"yaxis\": \"y\"}, {\"hovertemplate\": \"<b>OLS trendline</b><br>GRE Score = 1.11733 * TOEFL Score + 197.303<br>R<sup>2</sup>=0.505367<br><br>Research=True<br>University Rating=1<br>TOEFL Score=%{x}<br>GRE Score=%{y} <b>(trend)</b><extra></extra>\", \"legendgroup\": \"True\", \"marker\": {\"color\": \"#636efa\", \"symbol\": \"circle\"}, \"mode\": \"lines\", \"name\": \"True\", \"showlegend\": false, \"type\": \"scatter\", \"x\": [98, 98, 99, 99, 99, 100, 106, 110, 110, 112], \"xaxis\": \"x\", \"y\": [306.8016276703967, 306.8016276703967, 307.91895557816207, 307.91895557816207, 307.91895557816207, 309.0362834859274, 315.74025093251953, 320.20956256358096, 320.20956256358096, 322.44421837911165], \"yaxis\": \"y\"}, {\"hovertemplate\": \"Research=True<br>University Rating=2<br>TOEFL Score=%{x}<br>GRE Score=%{y}<extra></extra>\", \"legendgroup\": \"True\", \"marker\": {\"color\": \"#636efa\", \"symbol\": \"circle\"}, \"mode\": \"markers\", \"name\": \"True\", \"orientation\": \"v\", \"showlegend\": false, \"type\": \"scatter\", \"x\": [97, 101, 97, 102, 100, 103, 110, 106, 105, 100, 110, 118, 112, 112, 113, 116, 106, 101, 98, 97, 105, 107, 105, 105, 104, 95, 100, 107, 114, 95, 105, 107, 110, 101, 107, 105, 100], \"xaxis\": \"x2\", \"y\": [301, 316, 293, 308, 318, 308, 325, 311, 306, 316, 329, 332, 320, 325, 320, 326, 318, 311, 298, 300, 316, 313, 311, 307, 301, 300, 303, 307, 329, 296, 322, 316, 315, 312, 315, 304, 312], \"yaxis\": \"y2\"}, {\"hovertemplate\": \"<b>OLS trendline</b><br>GRE Score = 1.37421 * TOEFL Score + 168.475<br>R<sup>2</sup>=0.662485<br><br>Research=True<br>University Rating=2<br>TOEFL Score=%{x}<br>GRE Score=%{y} <b>(trend)</b><extra></extra>\", \"legendgroup\": \"True\", \"marker\": {\"color\": \"#636efa\", \"symbol\": \"circle\"}, \"mode\": \"lines\", \"name\": \"True\", \"showlegend\": false, \"type\": \"scatter\", \"x\": [95, 95, 97, 97, 97, 98, 100, 100, 100, 100, 101, 101, 101, 102, 103, 104, 105, 105, 105, 105, 105, 105, 106, 106, 107, 107, 107, 107, 110, 110, 110, 112, 112, 113, 114, 116, 118], \"xaxis\": \"x2\", \"y\": [299.02462989072944, 299.02462989072944, 301.77304370814215, 301.77304370814215, 301.77304370814215, 303.1472506168485, 305.89566443426133, 305.89566443426133, 305.89566443426133, 305.89566443426133, 307.2698713429677, 307.2698713429677, 307.2698713429677, 308.64407825167405, 310.0182851603804, 311.3924920690868, 312.7666989777932, 312.7666989777932, 312.7666989777932, 312.7666989777932, 312.7666989777932, 312.7666989777932, 314.1409058864996, 314.1409058864996, 315.51511279520594, 315.51511279520594, 315.51511279520594, 315.51511279520594, 319.6377335213251, 319.6377335213251, 319.6377335213251, 322.3861473387378, 322.3861473387378, 323.7603542474442, 325.1345611561506, 327.88297497356336, 330.6313887909761], \"yaxis\": \"y2\"}, {\"hovertemplate\": \"Research=True<br>University Rating=3<br>TOEFL Score=%{x}<br>GRE Score=%{y}<extra></extra>\", \"legendgroup\": \"True\", \"marker\": {\"color\": \"#636efa\", \"symbol\": \"circle\"}, \"mode\": \"markers\", \"name\": \"True\", \"orientation\": \"v\", \"showlegend\": false, \"type\": \"scatter\", \"x\": [114, 115, 106, 104, 110, 108, 100, 111, 106, 104, 116, 113, 106, 108, 104, 102, 107, 110, 107, 110, 109, 104, 110, 105, 111, 107, 104, 110, 102, 110, 106, 111, 109, 110, 114, 107, 109, 110, 111, 109, 112, 105, 102, 120, 113, 107, 112, 110, 107, 105, 108, 98, 99, 104, 110, 109, 106, 109, 104, 106, 107, 112, 103, 106, 102, 110, 103, 110, 100, 103, 112, 113, 107, 101, 101, 100, 103, 102, 104, 101, 109, 107, 112, 104, 101, 114, 112], \"xaxis\": \"x3\", \"y\": [325, 324, 319, 320, 324, 320, 324, 324, 317, 323, 326, 327, 308, 319, 320, 313, 312, 326, 318, 322, 327, 320, 324, 319, 324, 314, 322, 322, 311, 317, 312, 321, 321, 324, 330, 323, 321, 323, 321, 318, 327, 312, 301, 331, 323, 322, 326, 316, 301, 311, 320, 313, 301, 316, 322, 321, 325, 307, 311, 319, 312, 322, 327, 317, 321, 308, 318, 321, 300, 319, 319, 323, 317, 317, 297, 298, 317, 310, 301, 311, 324, 325, 321, 311, 310, 326, 326], \"yaxis\": \"y3\"}, {\"hovertemplate\": \"<b>OLS trendline</b><br>GRE Score = 1.1016 * TOEFL Score + 199.835<br>R<sup>2</sup>=0.402016<br><br>Research=True<br>University Rating=3<br>TOEFL Score=%{x}<br>GRE Score=%{y} <b>(trend)</b><extra></extra>\", \"legendgroup\": \"True\", \"marker\": {\"color\": \"#636efa\", \"symbol\": \"circle\"}, \"mode\": \"lines\", \"name\": \"True\", \"showlegend\": false, \"type\": \"scatter\", \"x\": [98, 99, 100, 100, 100, 101, 101, 101, 101, 102, 102, 102, 102, 102, 103, 103, 103, 103, 104, 104, 104, 104, 104, 104, 104, 104, 104, 105, 105, 105, 106, 106, 106, 106, 106, 106, 106, 107, 107, 107, 107, 107, 107, 107, 107, 107, 108, 108, 108, 109, 109, 109, 109, 109, 109, 109, 110, 110, 110, 110, 110, 110, 110, 110, 110, 110, 110, 110, 111, 111, 111, 111, 112, 112, 112, 112, 112, 112, 113, 113, 113, 114, 114, 114, 115, 116, 120], \"xaxis\": \"x3\", \"y\": [307.79201480401485, 308.89361717041425, 309.9952195368136, 309.9952195368136, 309.9952195368136, 311.09682190321297, 311.09682190321297, 311.09682190321297, 311.09682190321297, 312.19842426961236, 312.19842426961236, 312.19842426961236, 312.19842426961236, 312.19842426961236, 313.3000266360117, 313.3000266360117, 313.3000266360117, 313.3000266360117, 314.4016290024111, 314.4016290024111, 314.4016290024111, 314.4016290024111, 314.4016290024111, 314.4016290024111, 314.4016290024111, 314.4016290024111, 314.4016290024111, 315.5032313688105, 315.5032313688105, 315.5032313688105, 316.60483373520987, 316.60483373520987, 316.60483373520987, 316.60483373520987, 316.60483373520987, 316.60483373520987, 316.60483373520987, 317.7064361016092, 317.7064361016092, 317.7064361016092, 317.7064361016092, 317.7064361016092, 317.7064361016092, 317.7064361016092, 317.7064361016092, 317.7064361016092, 318.8080384680086, 318.8080384680086, 318.8080384680086, 319.909640834408, 319.909640834408, 319.909640834408, 319.909640834408, 319.909640834408, 319.909640834408, 319.909640834408, 321.0112432008073, 321.0112432008073, 321.0112432008073, 321.0112432008073, 321.0112432008073, 321.0112432008073, 321.0112432008073, 321.0112432008073, 321.0112432008073, 321.0112432008073, 321.0112432008073, 321.0112432008073, 322.1128455672067, 322.1128455672067, 322.1128455672067, 322.1128455672067, 323.2144479336061, 323.2144479336061, 323.2144479336061, 323.2144479336061, 323.2144479336061, 323.2144479336061, 324.31605030000543, 324.31605030000543, 324.31605030000543, 325.4176526664048, 325.4176526664048, 325.4176526664048, 326.5192550328042, 327.6208573992036, 332.02726686480105], \"yaxis\": \"y3\"}, {\"hovertemplate\": \"Research=True<br>University Rating=4<br>TOEFL Score=%{x}<br>GRE Score=%{y}<extra></extra>\", \"legendgroup\": \"True\", \"marker\": {\"color\": \"#636efa\", \"symbol\": \"circle\"}, \"mode\": \"markers\", \"name\": \"True\", \"orientation\": \"v\", \"showlegend\": false, \"type\": \"scatter\", \"x\": [116, 116, 116, 113, 116, 112, 103, 111, 117, 112, 116, 101, 118, 112, 119, 114, 110, 99, 110, 114, 113, 105, 113, 116, 105, 110, 110, 102, 107, 112, 106, 113, 118, 116, 106, 109, 120, 110, 109, 114, 110, 113, 111, 111, 119, 113, 108, 111, 110, 117, 119, 107, 111, 112, 118, 111, 111, 116, 115, 108, 120, 109, 112, 120, 112, 108, 115, 110, 112, 112, 107, 112, 107, 111, 113, 110, 102, 112, 111, 109, 119, 117], \"xaxis\": \"x4\", \"y\": [334, 331, 328, 324, 330, 326, 322, 329, 333, 324, 330, 298, 327, 320, 336, 330, 324, 314, 323, 326, 340, 319, 329, 327, 308, 321, 325, 314, 323, 322, 327, 328, 337, 339, 310, 314, 340, 325, 321, 334, 322, 323, 321, 320, 329, 327, 325, 329, 328, 338, 332, 324, 327, 328, 338, 327, 329, 334, 328, 314, 340, 316, 324, 338, 340, 328, 335, 328, 324, 325, 312, 325, 311, 324, 327, 324, 326, 322, 325, 321, 331, 331], \"yaxis\": \"y4\"}, {\"hovertemplate\": \"<b>OLS trendline</b><br>GRE Score = 1.30957 * TOEFL Score + 179.551<br>R<sup>2</sup>=0.586914<br><br>Research=True<br>University Rating=4<br>TOEFL Score=%{x}<br>GRE Score=%{y} <b>(trend)</b><extra></extra>\", \"legendgroup\": \"True\", \"marker\": {\"color\": \"#636efa\", \"symbol\": \"circle\"}, \"mode\": \"lines\", \"name\": \"True\", \"showlegend\": false, \"type\": \"scatter\", \"x\": [99, 101, 102, 102, 103, 105, 105, 106, 106, 107, 107, 107, 107, 108, 108, 108, 109, 109, 109, 109, 110, 110, 110, 110, 110, 110, 110, 110, 110, 111, 111, 111, 111, 111, 111, 111, 111, 111, 112, 112, 112, 112, 112, 112, 112, 112, 112, 112, 112, 113, 113, 113, 113, 113, 113, 113, 114, 114, 114, 115, 115, 116, 116, 116, 116, 116, 116, 116, 116, 117, 117, 117, 118, 118, 118, 119, 119, 119, 119, 120, 120, 120], \"xaxis\": \"x4\", \"y\": [309.19914671858817, 311.8182911464887, 313.12786336043905, 313.12786336043905, 314.4374355743893, 317.05658000228993, 317.05658000228993, 318.3661522162402, 318.3661522162402, 319.6757244301905, 319.6757244301905, 319.6757244301905, 319.6757244301905, 320.9852966441408, 320.9852966441408, 320.9852966441408, 322.29486885809104, 322.29486885809104, 322.29486885809104, 322.29486885809104, 323.60444107204137, 323.60444107204137, 323.60444107204137, 323.60444107204137, 323.60444107204137, 323.60444107204137, 323.60444107204137, 323.60444107204137, 323.60444107204137, 324.91401328599164, 324.91401328599164, 324.91401328599164, 324.91401328599164, 324.91401328599164, 324.91401328599164, 324.91401328599164, 324.91401328599164, 324.91401328599164, 326.2235854999419, 326.2235854999419, 326.2235854999419, 326.2235854999419, 326.2235854999419, 326.2235854999419, 326.2235854999419, 326.2235854999419, 326.2235854999419, 326.2235854999419, 326.2235854999419, 327.53315771389225, 327.53315771389225, 327.53315771389225, 327.53315771389225, 327.53315771389225, 327.53315771389225, 327.53315771389225, 328.8427299278425, 328.8427299278425, 328.8427299278425, 330.1523021417928, 330.1523021417928, 331.46187435574313, 331.46187435574313, 331.46187435574313, 331.46187435574313, 331.46187435574313, 331.46187435574313, 331.46187435574313, 331.46187435574313, 332.77144656969335, 332.77144656969335, 332.77144656969335, 334.0810187836437, 334.0810187836437, 334.0810187836437, 335.39059099759396, 335.39059099759396, 335.39059099759396, 335.39059099759396, 336.70016321154424, 336.70016321154424, 336.70016321154424], \"yaxis\": \"y4\"}, {\"hovertemplate\": \"Research=True<br>University Rating=5<br>TOEFL Score=%{x}<br>GRE Score=%{y}<extra></extra>\", \"legendgroup\": \"True\", \"marker\": {\"color\": \"#636efa\", \"symbol\": \"circle\"}, \"mode\": \"markers\", \"name\": \"True\", \"orientation\": \"v\", \"showlegend\": false, \"type\": \"scatter\", \"x\": [115, 110, 110, 118, 101, 112, 114, 115, 111, 119, 114, 120, 117, 108, 115, 115, 108, 118, 116, 119, 120, 114, 112, 110, 113, 118, 119, 110, 108, 113, 114, 119, 114, 117, 111, 113, 118, 115, 112, 111, 110, 114, 118, 120, 120, 116, 111, 116, 112, 115, 116, 104, 117, 116, 113, 114, 119, 117, 118, 114, 113, 115, 116, 107], \"xaxis\": \"x5\", \"y\": [340, 320, 320, 332, 318, 336, 324, 322, 321, 333, 329, 330, 337, 332, 338, 330, 323, 332, 328, 334, 340, 340, 331, 320, 326, 336, 336, 322, 327, 329, 325, 334, 329, 334, 326, 330, 335, 331, 324, 324, 323, 322, 336, 340, 334, 330, 323, 331, 321, 340, 331, 327, 335, 328, 324, 321, 334, 335, 333, 339, 333, 331, 332, 324], \"yaxis\": \"y5\"}, {\"hovertemplate\": \"<b>OLS trendline</b><br>GRE Score = 0.997451 * TOEFL Score + 215.885<br>R<sup>2</sup>=0.424151<br><br>Research=True<br>University Rating=5<br>TOEFL Score=%{x}<br>GRE Score=%{y} <b>(trend)</b><extra></extra>\", \"legendgroup\": \"True\", \"marker\": {\"color\": \"#636efa\", \"symbol\": \"circle\"}, \"mode\": \"lines\", \"name\": \"True\", \"showlegend\": false, \"type\": \"scatter\", \"x\": [101, 104, 107, 108, 108, 108, 110, 110, 110, 110, 110, 111, 111, 111, 111, 112, 112, 112, 112, 113, 113, 113, 113, 113, 114, 114, 114, 114, 114, 114, 114, 114, 115, 115, 115, 115, 115, 115, 115, 116, 116, 116, 116, 116, 116, 117, 117, 117, 117, 118, 118, 118, 118, 118, 118, 119, 119, 119, 119, 119, 120, 120, 120, 120], \"xaxis\": \"x5\", \"y\": [316.6273226451017, 319.6196762063597, 322.6120297676178, 323.6094809547038, 323.6094809547038, 323.6094809547038, 325.6043833288759, 325.6043833288759, 325.6043833288759, 325.6043833288759, 325.6043833288759, 326.60183451596185, 326.60183451596185, 326.60183451596185, 326.60183451596185, 327.5992857030479, 327.5992857030479, 327.5992857030479, 327.5992857030479, 328.5967368901339, 328.5967368901339, 328.5967368901339, 328.5967368901339, 328.5967368901339, 329.59418807721994, 329.59418807721994, 329.59418807721994, 329.59418807721994, 329.59418807721994, 329.59418807721994, 329.59418807721994, 329.59418807721994, 330.59163926430597, 330.59163926430597, 330.59163926430597, 330.59163926430597, 330.59163926430597, 330.59163926430597, 330.59163926430597, 331.589090451392, 331.589090451392, 331.589090451392, 331.589090451392, 331.589090451392, 331.589090451392, 332.586541638478, 332.586541638478, 332.586541638478, 332.586541638478, 333.583992825564, 333.583992825564, 333.583992825564, 333.583992825564, 333.583992825564, 333.583992825564, 334.58144401265, 334.58144401265, 334.58144401265, 334.58144401265, 334.58144401265, 335.57889519973605, 335.57889519973605, 335.57889519973605, 335.57889519973605], \"yaxis\": \"y5\"}, {\"hovertemplate\": \"Research=False<br>University Rating=1<br>TOEFL Score=%{x}<br>GRE Score=%{y}<extra></extra>\", \"legendgroup\": \"False\", \"marker\": {\"color\": \"#EF553B\", \"symbol\": \"diamond\"}, \"mode\": \"markers\", \"name\": \"False\", \"orientation\": \"v\", \"showlegend\": true, \"type\": \"scatter\", \"x\": [93, 109, 95, 105, 105, 100, 98, 100, 99, 98, 100, 92, 99, 100, 101, 99, 99, 96, 98, 93, 102, 103, 98, 94], \"xaxis\": \"x\", \"y\": [295, 318, 294, 300, 304, 315, 311, 290, 300, 303, 299, 298, 298, 297, 296, 295, 302, 301, 316, 294, 302, 315, 300, 299], \"yaxis\": \"y\"}, {\"hovertemplate\": \"<b>OLS trendline</b><br>GRE Score = 0.892105 * TOEFL Score + 213.432<br>R<sup>2</sup>=0.220989<br><br>Research=False<br>University Rating=1<br>TOEFL Score=%{x}<br>GRE Score=%{y} <b>(trend)</b><extra></extra>\", \"legendgroup\": \"False\", \"marker\": {\"color\": \"#EF553B\", \"symbol\": \"diamond\"}, \"mode\": \"lines\", \"name\": \"False\", \"showlegend\": false, \"type\": \"scatter\", \"x\": [92, 93, 93, 94, 95, 96, 98, 98, 98, 98, 99, 99, 99, 99, 100, 100, 100, 100, 101, 102, 103, 105, 105, 109], \"xaxis\": \"x\", \"y\": [295.505263157895, 296.3973684210529, 296.3973684210529, 297.28947368421075, 298.1815789473686, 299.0736842105265, 300.8578947368423, 300.8578947368423, 300.8578947368423, 300.8578947368423, 301.75000000000017, 301.75000000000017, 301.75000000000017, 301.75000000000017, 302.6421052631581, 302.6421052631581, 302.6421052631581, 302.6421052631581, 303.534210526316, 304.42631578947385, 305.3184210526317, 307.10263157894747, 307.10263157894747, 310.6710526315791], \"yaxis\": \"y\"}, {\"hovertemplate\": \"Research=False<br>University Rating=2<br>TOEFL Score=%{x}<br>GRE Score=%{y}<extra></extra>\", \"legendgroup\": \"False\", \"marker\": {\"color\": \"#EF553B\", \"symbol\": \"diamond\"}, \"mode\": \"markers\", \"name\": \"False\", \"orientation\": \"v\", \"showlegend\": false, \"type\": \"scatter\", \"x\": [104, 100, 106, 109, 99, 100, 100, 110, 101, 105, 107, 105, 100, 102, 102, 105, 99, 106, 96, 105, 107, 102, 101, 105, 111, 99, 106, 104, 97, 105, 103, 105, 104, 103, 101, 104, 105, 105, 107, 96, 98, 106, 99, 106, 99, 103, 99, 106, 108, 107, 101, 110, 110, 109, 106, 103, 98, 101, 105, 99, 100, 105, 97, 96, 103, 100, 104, 96, 102, 106, 103, 105, 97, 99, 103, 106, 108, 99, 107, 94, 99, 107, 104, 101, 100, 104, 105, 102, 102], \"xaxis\": \"x2\", \"y\": [317, 306, 316, 312, 296, 299, 317, 320, 304, 315, 314, 307, 299, 305, 300, 312, 302, 314, 297, 310, 321, 304, 302, 307, 309, 316, 306, 309, 296, 312, 316, 314, 305, 308, 320, 311, 312, 309, 305, 299, 298, 309, 310, 305, 315, 306, 295, 299, 307, 312, 295, 312, 306, 308, 317, 314, 297, 308, 305, 296, 304, 315, 304, 295, 305, 304, 317, 297, 305, 310, 310, 306, 298, 301, 317, 313, 319, 311, 317, 313, 298, 314, 308, 298, 309, 311, 305, 316, 314], \"yaxis\": \"y2\"}, {\"hovertemplate\": \"<b>OLS trendline</b><br>GRE Score = 0.97515 * TOEFL Score + 207.422<br>R<sup>2</sup>=0.280513<br><br>Research=False<br>University Rating=2<br>TOEFL Score=%{x}<br>GRE Score=%{y} <b>(trend)</b><extra></extra>\", \"legendgroup\": \"False\", \"marker\": {\"color\": \"#EF553B\", \"symbol\": \"diamond\"}, \"mode\": \"lines\", \"name\": \"False\", \"showlegend\": false, \"type\": \"scatter\", \"x\": [94, 96, 96, 96, 96, 97, 97, 97, 98, 98, 99, 99, 99, 99, 99, 99, 99, 99, 99, 99, 100, 100, 100, 100, 100, 100, 100, 101, 101, 101, 101, 101, 101, 102, 102, 102, 102, 102, 102, 103, 103, 103, 103, 103, 103, 103, 104, 104, 104, 104, 104, 104, 104, 105, 105, 105, 105, 105, 105, 105, 105, 105, 105, 105, 105, 105, 106, 106, 106, 106, 106, 106, 106, 106, 106, 107, 107, 107, 107, 107, 107, 108, 108, 109, 109, 110, 110, 110, 111], \"xaxis\": \"x2\", \"y\": [299.086303134392, 301.0366036925714, 301.0366036925714, 301.0366036925714, 301.0366036925714, 302.01175397166116, 302.01175397166116, 302.01175397166116, 302.98690425075085, 302.98690425075085, 303.9620545298406, 303.9620545298406, 303.9620545298406, 303.9620545298406, 303.9620545298406, 303.9620545298406, 303.9620545298406, 303.9620545298406, 303.9620545298406, 303.9620545298406, 304.93720480893035, 304.93720480893035, 304.93720480893035, 304.93720480893035, 304.93720480893035, 304.93720480893035, 304.93720480893035, 305.91235508802004, 305.91235508802004, 305.91235508802004, 305.91235508802004, 305.91235508802004, 305.91235508802004, 306.8875053671098, 306.8875053671098, 306.8875053671098, 306.8875053671098, 306.8875053671098, 306.8875053671098, 307.8626556461995, 307.8626556461995, 307.8626556461995, 307.8626556461995, 307.8626556461995, 307.8626556461995, 307.8626556461995, 308.8378059252892, 308.8378059252892, 308.8378059252892, 308.8378059252892, 308.8378059252892, 308.8378059252892, 308.8378059252892, 309.81295620437896, 309.81295620437896, 309.81295620437896, 309.81295620437896, 309.81295620437896, 309.81295620437896, 309.81295620437896, 309.81295620437896, 309.81295620437896, 309.81295620437896, 309.81295620437896, 309.81295620437896, 309.81295620437896, 310.7881064834687, 310.7881064834687, 310.7881064834687, 310.7881064834687, 310.7881064834687, 310.7881064834687, 310.7881064834687, 310.7881064834687, 310.7881064834687, 311.76325676255846, 311.76325676255846, 311.76325676255846, 311.76325676255846, 311.76325676255846, 311.76325676255846, 312.7384070416482, 312.7384070416482, 313.7135573207379, 313.7135573207379, 314.68870759982764, 314.68870759982764, 314.68870759982764, 315.6638578789174], \"yaxis\": \"y2\"}, {\"hovertemplate\": \"Research=False<br>University Rating=3<br>TOEFL Score=%{x}<br>GRE Score=%{y}<extra></extra>\", \"legendgroup\": \"False\", \"marker\": {\"color\": \"#EF553B\", \"symbol\": \"diamond\"}, \"mode\": \"markers\", \"name\": \"False\", \"orientation\": \"v\", \"showlegend\": false, \"type\": \"scatter\", \"x\": [106, 112, 105, 104, 104, 109, 104, 100, 100, 106, 101, 102, 110, 108, 100, 104, 102, 107, 120, 112, 99, 110, 104, 101, 111, 103, 114, 106, 107, 106, 108, 97, 99, 103, 101, 102, 102, 108, 103, 108, 105, 107, 110, 102, 110, 102, 104, 101, 110, 102, 100, 103, 104, 108, 104, 110, 102, 104, 107, 99, 105, 103, 109, 110, 102, 106, 105, 108, 103, 105, 109, 109, 105, 105, 103], \"xaxis\": \"x3\", \"y\": [318, 318, 316, 313, 310, 313, 315, 299, 301, 308, 313, 300, 319, 312, 300, 312, 313, 310, 320, 305, 309, 316, 312, 307, 325, 311, 327, 314, 304, 315, 314, 299, 303, 313, 315, 299, 316, 308, 320, 323, 314, 317, 318, 303, 302, 319, 304, 300, 322, 313, 299, 316, 315, 309, 300, 314, 302, 311, 313, 302, 298, 312, 316, 319, 307, 312, 324, 326, 312, 315, 318, 312, 315, 317, 306], \"yaxis\": \"y3\"}, {\"hovertemplate\": \"<b>OLS trendline</b><br>GRE Score = 1.00396 * TOEFL Score + 205.957<br>R<sup>2</sup>=0.309899<br><br>Research=False<br>University Rating=3<br>TOEFL Score=%{x}<br>GRE Score=%{y} <b>(trend)</b><extra></extra>\", \"legendgroup\": \"False\", \"marker\": {\"color\": \"#EF553B\", \"symbol\": \"diamond\"}, \"mode\": \"lines\", \"name\": \"False\", \"showlegend\": false, \"type\": \"scatter\", \"x\": [97, 99, 99, 99, 100, 100, 100, 100, 101, 101, 101, 101, 102, 102, 102, 102, 102, 102, 102, 102, 102, 103, 103, 103, 103, 103, 103, 103, 104, 104, 104, 104, 104, 104, 104, 104, 104, 105, 105, 105, 105, 105, 105, 105, 106, 106, 106, 106, 106, 107, 107, 107, 107, 108, 108, 108, 108, 108, 108, 109, 109, 109, 109, 110, 110, 110, 110, 110, 110, 110, 111, 112, 112, 114, 120], \"xaxis\": \"x3\", \"y\": [303.340914118844, 305.34883412238366, 305.34883412238366, 305.34883412238366, 306.3527941241535, 306.3527941241535, 306.3527941241535, 306.3527941241535, 307.3567541259233, 307.3567541259233, 307.3567541259233, 307.3567541259233, 308.3607141276932, 308.3607141276932, 308.3607141276932, 308.3607141276932, 308.3607141276932, 308.3607141276932, 308.3607141276932, 308.3607141276932, 308.3607141276932, 309.364674129463, 309.364674129463, 309.364674129463, 309.364674129463, 309.364674129463, 309.364674129463, 309.364674129463, 310.36863413123285, 310.36863413123285, 310.36863413123285, 310.36863413123285, 310.36863413123285, 310.36863413123285, 310.36863413123285, 310.36863413123285, 310.36863413123285, 311.3725941330027, 311.3725941330027, 311.3725941330027, 311.3725941330027, 311.3725941330027, 311.3725941330027, 311.3725941330027, 312.3765541347725, 312.3765541347725, 312.3765541347725, 312.3765541347725, 312.3765541347725, 313.3805141365424, 313.3805141365424, 313.3805141365424, 313.3805141365424, 314.3844741383122, 314.3844741383122, 314.3844741383122, 314.3844741383122, 314.3844741383122, 314.3844741383122, 315.38843414008204, 315.38843414008204, 315.38843414008204, 315.38843414008204, 316.39239414185187, 316.39239414185187, 316.39239414185187, 316.39239414185187, 316.39239414185187, 316.39239414185187, 316.39239414185187, 317.3963541436217, 318.4003141453916, 318.4003141453916, 320.40823414893123, 326.4319941595503], \"yaxis\": \"y3\"}, {\"hovertemplate\": \"Research=False<br>University Rating=4<br>TOEFL Score=%{x}<br>GRE Score=%{y}<extra></extra>\", \"legendgroup\": \"False\", \"marker\": {\"color\": \"#EF553B\", \"symbol\": \"diamond\"}, \"mode\": \"markers\", \"name\": \"False\", \"orientation\": \"v\", \"showlegend\": false, \"type\": \"scatter\", \"x\": [111, 99, 96, 105, 115, 105, 104, 106, 106, 114, 117, 112, 103, 100, 113, 114, 103, 110, 110, 104, 108, 113, 113], \"xaxis\": \"x4\", \"y\": [316, 297, 305, 307, 327, 309, 290, 310, 301, 325, 332, 325, 319, 304, 327, 321, 312, 308, 307, 314, 308, 327, 324], \"yaxis\": \"y4\"}, {\"hovertemplate\": \"<b>OLS trendline</b><br>GRE Score = 1.49459 * TOEFL Score + 152.475<br>R<sup>2</sup>=0.589208<br><br>Research=False<br>University Rating=4<br>TOEFL Score=%{x}<br>GRE Score=%{y} <b>(trend)</b><extra></extra>\", \"legendgroup\": \"False\", \"marker\": {\"color\": \"#EF553B\", \"symbol\": \"diamond\"}, \"mode\": \"lines\", \"name\": \"False\", \"showlegend\": false, \"type\": \"scatter\", \"x\": [96, 99, 100, 103, 103, 104, 104, 105, 105, 106, 106, 108, 110, 110, 111, 112, 113, 113, 113, 114, 114, 115, 117], \"xaxis\": \"x4\", \"y\": [295.95557469849825, 300.43933054393267, 301.9339158257442, 306.4176716711786, 306.4176716711786, 307.91225695299005, 307.91225695299005, 309.4068422348015, 309.4068422348015, 310.901427516613, 310.901427516613, 313.8905980802359, 316.8797686438589, 316.8797686438589, 318.37435392567033, 319.86893920748184, 321.3635244892933, 321.3635244892933, 321.3635244892933, 322.85810977110475, 322.85810977110475, 324.35269505291626, 327.34186561653917], \"yaxis\": \"y4\"}, {\"hovertemplate\": \"Research=False<br>University Rating=5<br>TOEFL Score=%{x}<br>GRE Score=%{y}<extra></extra>\", \"legendgroup\": \"False\", \"marker\": {\"color\": \"#EF553B\", \"symbol\": \"diamond\"}, \"mode\": \"markers\", \"name\": \"False\", \"orientation\": \"v\", \"showlegend\": false, \"type\": \"scatter\", \"x\": [119, 109, 103, 110, 103, 108, 105, 105, 112], \"xaxis\": \"x5\", \"y\": [339, 322, 304, 322, 304, 305, 303, 309, 323], \"yaxis\": \"y5\"}, {\"hovertemplate\": \"<b>OLS trendline</b><br>GRE Score = 2.29958 * TOEFL Score + 65.6903<br>R<sup>2</sup>=0.880719<br><br>Research=False<br>University Rating=5<br>TOEFL Score=%{x}<br>GRE Score=%{y} <b>(trend)</b><extra></extra>\", \"legendgroup\": \"False\", \"marker\": {\"color\": \"#EF553B\", \"symbol\": \"diamond\"}, \"mode\": \"lines\", \"name\": \"False\", \"showlegend\": false, \"type\": \"scatter\", \"x\": [103, 103, 105, 105, 108, 109, 110, 112, 119], \"xaxis\": \"x5\", \"y\": [302.5466595970311, 302.5466595970311, 307.1458112407215, 307.1458112407215, 314.0445387062571, 316.3441145281022, 318.6436903499474, 323.24284199363774, 339.33987274655397], \"yaxis\": \"y5\"}],                        {\"annotations\": [{\"font\": {}, \"showarrow\": false, \"text\": \"University Rating=1\", \"x\": 0.09200000000000001, \"xanchor\": \"center\", \"xref\": \"paper\", \"y\": 1.0, \"yanchor\": \"bottom\", \"yref\": \"paper\"}, {\"font\": {}, \"showarrow\": false, \"text\": \"University Rating=2\", \"x\": 0.29600000000000004, \"xanchor\": \"center\", \"xref\": \"paper\", \"y\": 1.0, \"yanchor\": \"bottom\", \"yref\": \"paper\"}, {\"font\": {}, \"showarrow\": false, \"text\": \"University Rating=3\", \"x\": 0.5, \"xanchor\": \"center\", \"xref\": \"paper\", \"y\": 1.0, \"yanchor\": \"bottom\", \"yref\": \"paper\"}, {\"font\": {}, \"showarrow\": false, \"text\": \"University Rating=4\", \"x\": 0.7040000000000002, \"xanchor\": \"center\", \"xref\": \"paper\", \"y\": 1.0, \"yanchor\": \"bottom\", \"yref\": \"paper\"}, {\"font\": {}, \"showarrow\": false, \"text\": \"University Rating=5\", \"x\": 0.908, \"xanchor\": \"center\", \"xref\": \"paper\", \"y\": 1.0, \"yanchor\": \"bottom\", \"yref\": \"paper\"}], \"legend\": {\"title\": {\"text\": \"Research\"}, \"tracegroupgap\": 0}, \"margin\": {\"t\": 60}, \"template\": {\"data\": {\"bar\": [{\"error_x\": {\"color\": \"#2a3f5f\"}, \"error_y\": {\"color\": \"#2a3f5f\"}, \"marker\": {\"line\": {\"color\": \"#E5ECF6\", \"width\": 0.5}}, \"type\": \"bar\"}], \"barpolar\": [{\"marker\": {\"line\": {\"color\": \"#E5ECF6\", \"width\": 0.5}}, \"type\": \"barpolar\"}], \"carpet\": [{\"aaxis\": {\"endlinecolor\": \"#2a3f5f\", \"gridcolor\": \"white\", \"linecolor\": \"white\", \"minorgridcolor\": \"white\", \"startlinecolor\": \"#2a3f5f\"}, \"baxis\": {\"endlinecolor\": \"#2a3f5f\", \"gridcolor\": \"white\", \"linecolor\": \"white\", \"minorgridcolor\": \"white\", \"startlinecolor\": \"#2a3f5f\"}, \"type\": \"carpet\"}], \"choropleth\": [{\"colorbar\": {\"outlinewidth\": 0, \"ticks\": \"\"}, \"type\": \"choropleth\"}], \"contour\": [{\"colorbar\": {\"outlinewidth\": 0, \"ticks\": \"\"}, \"colorscale\": [[0.0, \"#0d0887\"], [0.1111111111111111, \"#46039f\"], [0.2222222222222222, \"#7201a8\"], [0.3333333333333333, \"#9c179e\"], [0.4444444444444444, \"#bd3786\"], [0.5555555555555556, \"#d8576b\"], [0.6666666666666666, \"#ed7953\"], [0.7777777777777778, \"#fb9f3a\"], [0.8888888888888888, \"#fdca26\"], [1.0, \"#f0f921\"]], \"type\": \"contour\"}], \"contourcarpet\": [{\"colorbar\": {\"outlinewidth\": 0, \"ticks\": \"\"}, \"type\": \"contourcarpet\"}], \"heatmap\": [{\"colorbar\": {\"outlinewidth\": 0, \"ticks\": \"\"}, \"colorscale\": [[0.0, \"#0d0887\"], [0.1111111111111111, \"#46039f\"], [0.2222222222222222, \"#7201a8\"], [0.3333333333333333, \"#9c179e\"], [0.4444444444444444, \"#bd3786\"], [0.5555555555555556, \"#d8576b\"], [0.6666666666666666, \"#ed7953\"], [0.7777777777777778, \"#fb9f3a\"], [0.8888888888888888, \"#fdca26\"], [1.0, \"#f0f921\"]], \"type\": \"heatmap\"}], \"heatmapgl\": [{\"colorbar\": {\"outlinewidth\": 0, \"ticks\": \"\"}, \"colorscale\": [[0.0, \"#0d0887\"], [0.1111111111111111, \"#46039f\"], [0.2222222222222222, \"#7201a8\"], [0.3333333333333333, \"#9c179e\"], [0.4444444444444444, \"#bd3786\"], [0.5555555555555556, \"#d8576b\"], [0.6666666666666666, \"#ed7953\"], [0.7777777777777778, \"#fb9f3a\"], [0.8888888888888888, \"#fdca26\"], [1.0, \"#f0f921\"]], \"type\": \"heatmapgl\"}], \"histogram\": [{\"marker\": {\"colorbar\": {\"outlinewidth\": 0, \"ticks\": \"\"}}, \"type\": \"histogram\"}], \"histogram2d\": [{\"colorbar\": {\"outlinewidth\": 0, \"ticks\": \"\"}, \"colorscale\": [[0.0, \"#0d0887\"], [0.1111111111111111, \"#46039f\"], [0.2222222222222222, \"#7201a8\"], [0.3333333333333333, \"#9c179e\"], [0.4444444444444444, \"#bd3786\"], [0.5555555555555556, \"#d8576b\"], [0.6666666666666666, \"#ed7953\"], [0.7777777777777778, \"#fb9f3a\"], [0.8888888888888888, \"#fdca26\"], [1.0, \"#f0f921\"]], \"type\": \"histogram2d\"}], \"histogram2dcontour\": [{\"colorbar\": {\"outlinewidth\": 0, \"ticks\": \"\"}, \"colorscale\": [[0.0, \"#0d0887\"], [0.1111111111111111, \"#46039f\"], [0.2222222222222222, \"#7201a8\"], [0.3333333333333333, \"#9c179e\"], [0.4444444444444444, \"#bd3786\"], [0.5555555555555556, \"#d8576b\"], [0.6666666666666666, \"#ed7953\"], [0.7777777777777778, \"#fb9f3a\"], [0.8888888888888888, \"#fdca26\"], [1.0, \"#f0f921\"]], \"type\": \"histogram2dcontour\"}], \"mesh3d\": [{\"colorbar\": {\"outlinewidth\": 0, \"ticks\": \"\"}, \"type\": \"mesh3d\"}], \"parcoords\": [{\"line\": {\"colorbar\": {\"outlinewidth\": 0, \"ticks\": \"\"}}, \"type\": \"parcoords\"}], \"pie\": [{\"automargin\": true, \"type\": \"pie\"}], \"scatter\": [{\"marker\": {\"colorbar\": {\"outlinewidth\": 0, \"ticks\": \"\"}}, \"type\": \"scatter\"}], \"scatter3d\": [{\"line\": {\"colorbar\": {\"outlinewidth\": 0, \"ticks\": \"\"}}, \"marker\": {\"colorbar\": {\"outlinewidth\": 0, \"ticks\": \"\"}}, \"type\": \"scatter3d\"}], \"scattercarpet\": [{\"marker\": {\"colorbar\": {\"outlinewidth\": 0, \"ticks\": \"\"}}, \"type\": \"scattercarpet\"}], \"scattergeo\": [{\"marker\": {\"colorbar\": {\"outlinewidth\": 0, \"ticks\": \"\"}}, \"type\": \"scattergeo\"}], \"scattergl\": [{\"marker\": {\"colorbar\": {\"outlinewidth\": 0, \"ticks\": \"\"}}, \"type\": \"scattergl\"}], \"scattermapbox\": [{\"marker\": {\"colorbar\": {\"outlinewidth\": 0, \"ticks\": \"\"}}, \"type\": \"scattermapbox\"}], \"scatterpolar\": [{\"marker\": {\"colorbar\": {\"outlinewidth\": 0, \"ticks\": \"\"}}, \"type\": \"scatterpolar\"}], \"scatterpolargl\": [{\"marker\": {\"colorbar\": {\"outlinewidth\": 0, \"ticks\": \"\"}}, \"type\": \"scatterpolargl\"}], \"scatterternary\": [{\"marker\": {\"colorbar\": {\"outlinewidth\": 0, \"ticks\": \"\"}}, \"type\": \"scatterternary\"}], \"surface\": [{\"colorbar\": {\"outlinewidth\": 0, \"ticks\": \"\"}, \"colorscale\": [[0.0, \"#0d0887\"], [0.1111111111111111, \"#46039f\"], [0.2222222222222222, \"#7201a8\"], [0.3333333333333333, \"#9c179e\"], [0.4444444444444444, \"#bd3786\"], [0.5555555555555556, \"#d8576b\"], [0.6666666666666666, \"#ed7953\"], [0.7777777777777778, \"#fb9f3a\"], [0.8888888888888888, \"#fdca26\"], [1.0, \"#f0f921\"]], \"type\": \"surface\"}], \"table\": [{\"cells\": {\"fill\": {\"color\": \"#EBF0F8\"}, \"line\": {\"color\": \"white\"}}, \"header\": {\"fill\": {\"color\": \"#C8D4E3\"}, \"line\": {\"color\": \"white\"}}, \"type\": \"table\"}]}, \"layout\": {\"annotationdefaults\": {\"arrowcolor\": \"#2a3f5f\", \"arrowhead\": 0, \"arrowwidth\": 1}, \"autotypenumbers\": \"strict\", \"coloraxis\": {\"colorbar\": {\"outlinewidth\": 0, \"ticks\": \"\"}}, \"colorscale\": {\"diverging\": [[0, \"#8e0152\"], [0.1, \"#c51b7d\"], [0.2, \"#de77ae\"], [0.3, \"#f1b6da\"], [0.4, \"#fde0ef\"], [0.5, \"#f7f7f7\"], [0.6, \"#e6f5d0\"], [0.7, \"#b8e186\"], [0.8, \"#7fbc41\"], [0.9, \"#4d9221\"], [1, \"#276419\"]], \"sequential\": [[0.0, \"#0d0887\"], [0.1111111111111111, \"#46039f\"], [0.2222222222222222, \"#7201a8\"], [0.3333333333333333, \"#9c179e\"], [0.4444444444444444, \"#bd3786\"], [0.5555555555555556, \"#d8576b\"], [0.6666666666666666, \"#ed7953\"], [0.7777777777777778, \"#fb9f3a\"], [0.8888888888888888, \"#fdca26\"], [1.0, \"#f0f921\"]], \"sequentialminus\": [[0.0, \"#0d0887\"], [0.1111111111111111, \"#46039f\"], [0.2222222222222222, \"#7201a8\"], [0.3333333333333333, \"#9c179e\"], [0.4444444444444444, \"#bd3786\"], [0.5555555555555556, \"#d8576b\"], [0.6666666666666666, \"#ed7953\"], [0.7777777777777778, \"#fb9f3a\"], [0.8888888888888888, \"#fdca26\"], [1.0, \"#f0f921\"]]}, \"colorway\": [\"#636efa\", \"#EF553B\", \"#00cc96\", \"#ab63fa\", \"#FFA15A\", \"#19d3f3\", \"#FF6692\", \"#B6E880\", \"#FF97FF\", \"#FECB52\"], \"font\": {\"color\": \"#2a3f5f\"}, \"geo\": {\"bgcolor\": \"white\", \"lakecolor\": \"white\", \"landcolor\": \"#E5ECF6\", \"showlakes\": true, \"showland\": true, \"subunitcolor\": \"white\"}, \"hoverlabel\": {\"align\": \"left\"}, \"hovermode\": \"closest\", \"mapbox\": {\"style\": \"light\"}, \"paper_bgcolor\": \"white\", \"plot_bgcolor\": \"#E5ECF6\", \"polar\": {\"angularaxis\": {\"gridcolor\": \"white\", \"linecolor\": \"white\", \"ticks\": \"\"}, \"bgcolor\": \"#E5ECF6\", \"radialaxis\": {\"gridcolor\": \"white\", \"linecolor\": \"white\", \"ticks\": \"\"}}, \"scene\": {\"xaxis\": {\"backgroundcolor\": \"#E5ECF6\", \"gridcolor\": \"white\", \"gridwidth\": 2, \"linecolor\": \"white\", \"showbackground\": true, \"ticks\": \"\", \"zerolinecolor\": \"white\"}, \"yaxis\": {\"backgroundcolor\": \"#E5ECF6\", \"gridcolor\": \"white\", \"gridwidth\": 2, \"linecolor\": \"white\", \"showbackground\": true, \"ticks\": \"\", \"zerolinecolor\": \"white\"}, \"zaxis\": {\"backgroundcolor\": \"#E5ECF6\", \"gridcolor\": \"white\", \"gridwidth\": 2, \"linecolor\": \"white\", \"showbackground\": true, \"ticks\": \"\", \"zerolinecolor\": \"white\"}}, \"shapedefaults\": {\"line\": {\"color\": \"#2a3f5f\"}}, \"ternary\": {\"aaxis\": {\"gridcolor\": \"white\", \"linecolor\": \"white\", \"ticks\": \"\"}, \"baxis\": {\"gridcolor\": \"white\", \"linecolor\": \"white\", \"ticks\": \"\"}, \"bgcolor\": \"#E5ECF6\", \"caxis\": {\"gridcolor\": \"white\", \"linecolor\": \"white\", \"ticks\": \"\"}}, \"title\": {\"x\": 0.05}, \"xaxis\": {\"automargin\": true, \"gridcolor\": \"white\", \"linecolor\": \"white\", \"ticks\": \"\", \"title\": {\"standoff\": 15}, \"zerolinecolor\": \"white\", \"zerolinewidth\": 2}, \"yaxis\": {\"automargin\": true, \"gridcolor\": \"white\", \"linecolor\": \"white\", \"ticks\": \"\", \"title\": {\"standoff\": 15}, \"zerolinecolor\": \"white\", \"zerolinewidth\": 2}}}, \"xaxis\": {\"anchor\": \"y\", \"domain\": [0.0, 0.18400000000000002], \"title\": {\"text\": \"TOEFL Score\"}}, \"xaxis2\": {\"anchor\": \"y2\", \"domain\": [0.20400000000000001, 0.388], \"matches\": \"x\", \"title\": {\"text\": \"TOEFL Score\"}}, \"xaxis3\": {\"anchor\": \"y3\", \"domain\": [0.40800000000000003, 0.5920000000000001], \"matches\": \"x\", \"title\": {\"text\": \"TOEFL Score\"}}, \"xaxis4\": {\"anchor\": \"y4\", \"domain\": [0.6120000000000001, 0.7960000000000002], \"matches\": \"x\", \"title\": {\"text\": \"TOEFL Score\"}}, \"xaxis5\": {\"anchor\": \"y5\", \"domain\": [0.8160000000000001, 1.0], \"matches\": \"x\", \"title\": {\"text\": \"TOEFL Score\"}}, \"yaxis\": {\"anchor\": \"x\", \"domain\": [0.0, 1.0], \"title\": {\"text\": \"GRE Score\"}}, \"yaxis2\": {\"anchor\": \"x2\", \"domain\": [0.0, 1.0], \"matches\": \"y\", \"showticklabels\": false}, \"yaxis3\": {\"anchor\": \"x3\", \"domain\": [0.0, 1.0], \"matches\": \"y\", \"showticklabels\": false}, \"yaxis4\": {\"anchor\": \"x4\", \"domain\": [0.0, 1.0], \"matches\": \"y\", \"showticklabels\": false}, \"yaxis5\": {\"anchor\": \"x5\", \"domain\": [0.0, 1.0], \"matches\": \"y\", \"showticklabels\": false}},                        {\"responsive\": true}                    ).then(function(){\n",
       "                            \n",
       "var gd = document.getElementById('7951e5d3-16b3-4a10-b173-6d582a4af83e');\n",
       "var x = new MutationObserver(function (mutations, observer) {{\n",
       "        var display = window.getComputedStyle(gd).display;\n",
       "        if (!display || display === 'none') {{\n",
       "            console.log([gd, 'removed!']);\n",
       "            Plotly.purge(gd);\n",
       "            observer.disconnect();\n",
       "        }}\n",
       "}});\n",
       "\n",
       "// Listen for the removal of the full notebook cells\n",
       "var notebookContainer = gd.closest('#notebook-container');\n",
       "if (notebookContainer) {{\n",
       "    x.observe(notebookContainer, {childList: true});\n",
       "}}\n",
       "\n",
       "// Listen for the clearing of the current output cell\n",
       "var outputEl = gd.closest('.output');\n",
       "if (outputEl) {{\n",
       "    x.observe(outputEl, {childList: true});\n",
       "}}\n",
       "\n",
       "                        })                };                });            </script>        </div>"
      ]
     },
     "metadata": {},
     "output_type": "display_data"
    }
   ],
   "source": [
    "px.scatter(\n",
    "    data_frame=df,\n",
    "    x=\"TOEFL Score\",\n",
    "    y=\"GRE Score\",\n",
    "    color=\"Research\",\n",
    "    facet_col=\"University Rating\",\n",
    "    trendline=\"ols\",\n",
    "    symbol=\"Research\",\n",
    ")"
   ]
  },
  {
   "cell_type": "markdown",
   "metadata": {
    "papermill": {
     "duration": 0.146276,
     "end_time": "2020-12-28T20:42:30.753445",
     "exception": false,
     "start_time": "2020-12-28T20:42:30.607169",
     "status": "completed"
    },
    "tags": []
   },
   "source": [
    "#### `TOEFL Score` vs. `CGPA`"
   ]
  },
  {
   "cell_type": "code",
   "execution_count": 78,
   "metadata": {
    "execution": {
     "iopub.execute_input": "2020-12-28T20:42:31.067839Z",
     "iopub.status.busy": "2020-12-28T20:42:31.066706Z",
     "iopub.status.idle": "2020-12-28T20:42:31.309335Z",
     "shell.execute_reply": "2020-12-28T20:42:31.308759Z"
    },
    "papermill": {
     "duration": 0.407128,
     "end_time": "2020-12-28T20:42:31.309453",
     "exception": false,
     "start_time": "2020-12-28T20:42:30.902325",
     "status": "completed"
    },
    "tags": []
   },
   "outputs": [
    {
     "data": {
      "text/html": [
       "<div>                            <div id=\"6bddcc94-668d-4279-a9be-36a1ccb1bc82\" class=\"plotly-graph-div\" style=\"height:525px; width:100%;\"></div>            <script type=\"text/javascript\">                require([\"plotly\"], function(Plotly) {                    window.PLOTLYENV=window.PLOTLYENV || {};                                    if (document.getElementById(\"6bddcc94-668d-4279-a9be-36a1ccb1bc82\")) {                    Plotly.newPlot(                        \"6bddcc94-668d-4279-a9be-36a1ccb1bc82\",                        [{\"hovertemplate\": \"Research=True<br>University Rating=1<br>TOEFL Score=%{x}<br>CGPA=%{y}<extra></extra>\", \"legendgroup\": \"True\", \"marker\": {\"color\": \"#636efa\", \"symbol\": \"circle\"}, \"mode\": \"markers\", \"name\": \"True\", \"orientation\": \"v\", \"showlegend\": true, \"type\": \"scatter\", \"x\": [110, 98, 99, 110, 106, 100, 99, 112, 99, 98], \"xaxis\": \"x\", \"y\": [8.54, 8.03, 8.01, 7.23, 7.65, 8.53, 6.8, 8.66, 8.43, 8.18], \"yaxis\": \"y\"}, {\"hovertemplate\": \"<b>OLS trendline</b><br>CGPA = 0.0124585 * TOEFL Score + 6.72153<br>R<sup>2</sup>=0.013536<br><br>Research=True<br>University Rating=1<br>TOEFL Score=%{x}<br>CGPA=%{y} <b>(trend)</b><extra></extra>\", \"legendgroup\": \"True\", \"marker\": {\"color\": \"#636efa\", \"symbol\": \"circle\"}, \"mode\": \"lines\", \"name\": \"True\", \"showlegend\": false, \"type\": \"scatter\", \"x\": [98, 98, 99, 99, 99, 100, 106, 110, 110, 112], \"xaxis\": \"x\", \"y\": [7.942461851475078, 7.942461851475078, 7.954920311970161, 7.954920311970161, 7.954920311970161, 7.967378772465244, 8.042129535435743, 8.091963377416077, 8.091963377416077, 8.116880298406242], \"yaxis\": \"y\"}, {\"hovertemplate\": \"Research=True<br>University Rating=2<br>TOEFL Score=%{x}<br>CGPA=%{y}<extra></extra>\", \"legendgroup\": \"True\", \"marker\": {\"color\": \"#636efa\", \"symbol\": \"circle\"}, \"mode\": \"markers\", \"name\": \"True\", \"orientation\": \"v\", \"showlegend\": false, \"type\": \"scatter\", \"x\": [97, 101, 97, 102, 100, 103, 110, 106, 105, 100, 110, 118, 112, 112, 113, 116, 106, 101, 98, 97, 105, 107, 105, 105, 104, 95, 100, 107, 114, 95, 105, 107, 110, 101, 107, 105, 100], \"xaxis\": \"x2\", \"y\": [7.88, 8.32, 7.8, 7.98, 8.54, 8.36, 8.76, 8.26, 8.22, 8.16, 9.15, 9.36, 8.78, 8.96, 8.64, 9.08, 7.92, 8.34, 7.5, 8.1, 8.2, 8.5, 8.12, 8.12, 7.89, 8.22, 8.06, 8.52, 8.56, 7.54, 8.45, 8.64, 8.46, 8.04, 8.5, 8.2, 7.9], \"yaxis\": \"y2\"}, {\"hovertemplate\": \"<b>OLS trendline</b><br>CGPA = 0.0588405 * TOEFL Score + 2.16119<br>R<sup>2</sup>=0.668881<br><br>Research=True<br>University Rating=2<br>TOEFL Score=%{x}<br>CGPA=%{y} <b>(trend)</b><extra></extra>\", \"legendgroup\": \"True\", \"marker\": {\"color\": \"#636efa\", \"symbol\": \"circle\"}, \"mode\": \"lines\", \"name\": \"True\", \"showlegend\": false, \"type\": \"scatter\", \"x\": [95, 95, 97, 97, 97, 98, 100, 100, 100, 100, 101, 101, 101, 102, 103, 104, 105, 105, 105, 105, 105, 105, 106, 106, 107, 107, 107, 107, 110, 110, 110, 112, 112, 113, 114, 116, 118], \"xaxis\": \"x2\", \"y\": [7.751042254141698, 7.751042254141698, 7.868723343320408, 7.868723343320408, 7.868723343320408, 7.927563887909763, 8.045244977088473, 8.045244977088473, 8.045244977088473, 8.045244977088473, 8.104085521677828, 8.104085521677828, 8.104085521677828, 8.162926066267183, 8.221766610856537, 8.280607155445892, 8.339447700035247, 8.339447700035247, 8.339447700035247, 8.339447700035247, 8.339447700035247, 8.339447700035247, 8.398288244624602, 8.398288244624602, 8.457128789213957, 8.457128789213957, 8.457128789213957, 8.457128789213957, 8.633650422982022, 8.633650422982022, 8.633650422982022, 8.751331512160732, 8.751331512160732, 8.810172056750087, 8.869012601339442, 8.986693690518152, 9.104374779696862], \"yaxis\": \"y2\"}, {\"hovertemplate\": \"Research=True<br>University Rating=3<br>TOEFL Score=%{x}<br>CGPA=%{y}<extra></extra>\", \"legendgroup\": \"True\", \"marker\": {\"color\": \"#636efa\", \"symbol\": \"circle\"}, \"mode\": \"markers\", \"name\": \"True\", \"orientation\": \"v\", \"showlegend\": false, \"type\": \"scatter\", \"x\": [114, 115, 106, 104, 110, 108, 100, 111, 106, 104, 116, 113, 106, 108, 104, 102, 107, 110, 107, 110, 109, 104, 110, 105, 111, 107, 104, 110, 102, 110, 106, 111, 109, 110, 114, 107, 109, 110, 111, 109, 112, 105, 102, 120, 113, 107, 112, 110, 107, 105, 108, 98, 99, 104, 110, 109, 106, 109, 104, 106, 107, 112, 103, 106, 102, 110, 103, 110, 100, 103, 112, 113, 107, 101, 101, 100, 103, 102, 104, 101, 109, 107, 112, 104, 101, 114, 112], \"xaxis\": \"x3\", \"y\": [9.04, 8.76, 8.33, 8.57, 8.87, 8.44, 8.64, 8.8, 8.5, 8.44, 9.14, 8.66, 8.21, 8.54, 8.34, 8.9, 8.46, 8.76, 8.27, 8.64, 8.77, 8.74, 9.22, 8.67, 8.79, 8.17, 8.84, 8.96, 8.64, 9.11, 8.79, 8.9, 8.54, 9.04, 9.24, 8.55, 8.8, 9.1, 8.83, 9.22, 8.72, 8.02, 8.13, 8.96, 8.88, 8.46, 9.05, 8.78, 8.34, 8.45, 8.97, 8.3, 8.45, 8.0, 8.67, 8.2, 8.4, 8.0, 8.2, 8.0, 7.9, 8.62, 8.3, 7.89, 9.01, 8.0, 8.49, 8.85, 8.66, 8.76, 8.71, 9.32, 8.68, 7.94, 7.67, 7.95, 8.54, 8.02, 8.12, 7.64, 8.94, 9.11, 8.95, 8.13, 8.65, 9.11, 9.1], \"yaxis\": \"y3\"}, {\"hovertemplate\": \"<b>OLS trendline</b><br>CGPA = 0.0512541 * TOEFL Score + 3.0904<br>R<sup>2</sup>=0.323601<br><br>Research=True<br>University Rating=3<br>TOEFL Score=%{x}<br>CGPA=%{y} <b>(trend)</b><extra></extra>\", \"legendgroup\": \"True\", \"marker\": {\"color\": \"#636efa\", \"symbol\": \"circle\"}, \"mode\": \"lines\", \"name\": \"True\", \"showlegend\": false, \"type\": \"scatter\", \"x\": [98, 99, 100, 100, 100, 101, 101, 101, 101, 102, 102, 102, 102, 102, 103, 103, 103, 103, 104, 104, 104, 104, 104, 104, 104, 104, 104, 105, 105, 105, 106, 106, 106, 106, 106, 106, 106, 107, 107, 107, 107, 107, 107, 107, 107, 107, 108, 108, 108, 109, 109, 109, 109, 109, 109, 109, 110, 110, 110, 110, 110, 110, 110, 110, 110, 110, 110, 110, 111, 111, 111, 111, 112, 112, 112, 112, 112, 112, 113, 113, 113, 114, 114, 114, 115, 116, 120], \"xaxis\": \"x3\", \"y\": [8.113295575618238, 8.164549641114789, 8.21580370661134, 8.21580370661134, 8.21580370661134, 8.26705777210789, 8.26705777210789, 8.26705777210789, 8.26705777210789, 8.318311837604442, 8.318311837604442, 8.318311837604442, 8.318311837604442, 8.318311837604442, 8.369565903100995, 8.369565903100995, 8.369565903100995, 8.369565903100995, 8.420819968597545, 8.420819968597545, 8.420819968597545, 8.420819968597545, 8.420819968597545, 8.420819968597545, 8.420819968597545, 8.420819968597545, 8.420819968597545, 8.472074034094096, 8.472074034094096, 8.472074034094096, 8.523328099590648, 8.523328099590648, 8.523328099590648, 8.523328099590648, 8.523328099590648, 8.523328099590648, 8.523328099590648, 8.5745821650872, 8.5745821650872, 8.5745821650872, 8.5745821650872, 8.5745821650872, 8.5745821650872, 8.5745821650872, 8.5745821650872, 8.5745821650872, 8.62583623058375, 8.62583623058375, 8.62583623058375, 8.677090296080301, 8.677090296080301, 8.677090296080301, 8.677090296080301, 8.677090296080301, 8.677090296080301, 8.677090296080301, 8.728344361576852, 8.728344361576852, 8.728344361576852, 8.728344361576852, 8.728344361576852, 8.728344361576852, 8.728344361576852, 8.728344361576852, 8.728344361576852, 8.728344361576852, 8.728344361576852, 8.728344361576852, 8.779598427073404, 8.779598427073404, 8.779598427073404, 8.779598427073404, 8.830852492569957, 8.830852492569957, 8.830852492569957, 8.830852492569957, 8.830852492569957, 8.830852492569957, 8.882106558066507, 8.882106558066507, 8.882106558066507, 8.933360623563058, 8.933360623563058, 8.933360623563058, 8.98461468905961, 9.035868754556162, 9.240885016542366], \"yaxis\": \"y3\"}, {\"hovertemplate\": \"Research=True<br>University Rating=4<br>TOEFL Score=%{x}<br>CGPA=%{y}<extra></extra>\", \"legendgroup\": \"True\", \"marker\": {\"color\": \"#636efa\", \"symbol\": \"circle\"}, \"mode\": \"markers\", \"name\": \"True\", \"orientation\": \"v\", \"showlegend\": false, \"type\": \"scatter\", \"x\": [116, 116, 116, 113, 116, 112, 103, 111, 117, 112, 116, 101, 118, 112, 119, 114, 110, 99, 110, 114, 113, 105, 113, 116, 105, 110, 110, 102, 107, 112, 106, 113, 118, 116, 106, 109, 120, 110, 109, 114, 110, 113, 111, 111, 119, 113, 108, 111, 110, 117, 119, 107, 111, 112, 118, 111, 111, 116, 115, 108, 120, 109, 112, 120, 112, 108, 115, 110, 112, 112, 107, 112, 107, 111, 113, 110, 102, 112, 111, 109, 119, 117], \"xaxis\": \"x4\", \"y\": [9.54, 9.44, 9.6, 9.25, 9.45, 9.12, 8.02, 9.23, 9.66, 9.22, 9.23, 7.69, 9.67, 8.86, 9.62, 9.17, 9.15, 8.73, 8.88, 9.16, 9.74, 8.66, 9.36, 9.48, 7.95, 8.35, 8.96, 7.88, 8.48, 9.02, 8.75, 8.77, 9.65, 9.8, 9.04, 8.77, 9.92, 8.67, 8.68, 9.43, 9.13, 9.23, 8.97, 8.87, 9.16, 9.11, 9.06, 9.01, 9.14, 9.46, 9.24, 8.87, 9.0, 9.1, 9.4, 8.4, 9.18, 8.0, 9.16, 9.04, 9.5, 8.76, 8.1, 9.66, 9.66, 9.18, 9.68, 9.02, 8.77, 9.0, 8.65, 9.17, 9.0, 9.01, 8.69, 8.97, 8.76, 9.26, 9.11, 9.13, 9.34, 9.42], \"yaxis\": \"y4\"}, {\"hovertemplate\": \"<b>OLS trendline</b><br>CGPA = 0.0699424 * TOEFL Score + 1.23229<br>R<sup>2</sup>=0.490934<br><br>Research=True<br>University Rating=4<br>TOEFL Score=%{x}<br>CGPA=%{y} <b>(trend)</b><extra></extra>\", \"legendgroup\": \"True\", \"marker\": {\"color\": \"#636efa\", \"symbol\": \"circle\"}, \"mode\": \"lines\", \"name\": \"True\", \"showlegend\": false, \"type\": \"scatter\", \"x\": [99, 101, 102, 102, 103, 105, 105, 106, 106, 107, 107, 107, 107, 108, 108, 108, 109, 109, 109, 109, 110, 110, 110, 110, 110, 110, 110, 110, 110, 111, 111, 111, 111, 111, 111, 111, 111, 111, 112, 112, 112, 112, 112, 112, 112, 112, 112, 112, 112, 113, 113, 113, 113, 113, 113, 113, 114, 114, 114, 115, 115, 116, 116, 116, 116, 116, 116, 116, 116, 117, 117, 117, 118, 118, 118, 119, 119, 119, 119, 120, 120, 120], \"xaxis\": \"x4\", \"y\": [8.156592028404539, 8.29647692131486, 8.366419367770018, 8.366419367770018, 8.436361814225178, 8.576246707135498, 8.576246707135498, 8.646189153590658, 8.646189153590658, 8.716131600045816, 8.716131600045816, 8.716131600045816, 8.716131600045816, 8.786074046500978, 8.786074046500978, 8.786074046500978, 8.856016492956137, 8.856016492956137, 8.856016492956137, 8.856016492956137, 8.925958939411297, 8.925958939411297, 8.925958939411297, 8.925958939411297, 8.925958939411297, 8.925958939411297, 8.925958939411297, 8.925958939411297, 8.925958939411297, 8.995901385866457, 8.995901385866457, 8.995901385866457, 8.995901385866457, 8.995901385866457, 8.995901385866457, 8.995901385866457, 8.995901385866457, 8.995901385866457, 9.065843832321615, 9.065843832321615, 9.065843832321615, 9.065843832321615, 9.065843832321615, 9.065843832321615, 9.065843832321615, 9.065843832321615, 9.065843832321615, 9.065843832321615, 9.065843832321615, 9.135786278776777, 9.135786278776777, 9.135786278776777, 9.135786278776777, 9.135786278776777, 9.135786278776777, 9.135786278776777, 9.205728725231936, 9.205728725231936, 9.205728725231936, 9.275671171687094, 9.275671171687094, 9.345613618142256, 9.345613618142256, 9.345613618142256, 9.345613618142256, 9.345613618142256, 9.345613618142256, 9.345613618142256, 9.345613618142256, 9.415556064597414, 9.415556064597414, 9.415556064597414, 9.485498511052576, 9.485498511052576, 9.485498511052576, 9.555440957507734, 9.555440957507734, 9.555440957507734, 9.555440957507734, 9.625383403962896, 9.625383403962896, 9.625383403962896], \"yaxis\": \"y4\"}, {\"hovertemplate\": \"Research=True<br>University Rating=5<br>TOEFL Score=%{x}<br>CGPA=%{y}<extra></extra>\", \"legendgroup\": \"True\", \"marker\": {\"color\": \"#636efa\", \"symbol\": \"circle\"}, \"mode\": \"markers\", \"name\": \"True\", \"orientation\": \"v\", \"showlegend\": false, \"type\": \"scatter\", \"x\": [115, 110, 110, 118, 101, 112, 114, 115, 111, 119, 114, 120, 117, 108, 115, 115, 108, 118, 116, 119, 120, 114, 112, 110, 113, 118, 119, 110, 108, 113, 114, 119, 114, 117, 111, 113, 118, 115, 112, 111, 110, 114, 118, 120, 120, 116, 111, 116, 112, 115, 116, 104, 117, 116, 113, 114, 119, 117, 118, 114, 113, 115, 116, 107], \"xaxis\": \"x5\", \"y\": [9.45, 9.22, 9.27, 9.64, 8.78, 9.76, 9.08, 9.36, 9.45, 9.78, 9.3, 9.56, 9.87, 9.02, 9.23, 9.34, 8.74, 9.47, 9.5, 9.7, 9.6, 9.6, 9.8, 9.2, 9.4, 9.19, 9.8, 9.1, 9.13, 9.45, 9.46, 9.54, 9.19, 9.07, 9.23, 9.31, 9.44, 9.36, 9.08, 9.16, 8.98, 8.94, 9.53, 9.91, 9.87, 9.36, 9.86, 9.26, 9.06, 9.06, 9.38, 8.84, 9.56, 9.08, 9.25, 9.16, 9.48, 9.82, 9.35, 9.76, 9.28, 9.44, 9.28, 8.66], \"yaxis\": \"y5\"}, {\"hovertemplate\": \"<b>OLS trendline</b><br>CGPA = 0.0481833 * TOEFL Score + 3.85508<br>R<sup>2</sup>=0.417951<br><br>Research=True<br>University Rating=5<br>TOEFL Score=%{x}<br>CGPA=%{y} <b>(trend)</b><extra></extra>\", \"legendgroup\": \"True\", \"marker\": {\"color\": \"#636efa\", \"symbol\": \"circle\"}, \"mode\": \"lines\", \"name\": \"True\", \"showlegend\": false, \"type\": \"scatter\", \"x\": [101, 104, 107, 108, 108, 108, 110, 110, 110, 110, 110, 111, 111, 111, 111, 112, 112, 112, 112, 113, 113, 113, 113, 113, 114, 114, 114, 114, 114, 114, 114, 114, 115, 115, 115, 115, 115, 115, 115, 116, 116, 116, 116, 116, 116, 117, 117, 117, 117, 118, 118, 118, 118, 118, 118, 119, 119, 119, 119, 119, 120, 120, 120, 120], \"xaxis\": \"x5\", \"y\": [8.721586085369498, 8.866135873755095, 9.010685662140688, 9.058868924935886, 9.058868924935886, 9.058868924935886, 9.155235450526284, 9.155235450526284, 9.155235450526284, 9.155235450526284, 9.155235450526284, 9.203418713321483, 9.203418713321483, 9.203418713321483, 9.203418713321483, 9.251601976116682, 9.251601976116682, 9.251601976116682, 9.251601976116682, 9.299785238911879, 9.299785238911879, 9.299785238911879, 9.299785238911879, 9.299785238911879, 9.347968501707077, 9.347968501707077, 9.347968501707077, 9.347968501707077, 9.347968501707077, 9.347968501707077, 9.347968501707077, 9.347968501707077, 9.396151764502275, 9.396151764502275, 9.396151764502275, 9.396151764502275, 9.396151764502275, 9.396151764502275, 9.396151764502275, 9.444335027297473, 9.444335027297473, 9.444335027297473, 9.444335027297473, 9.444335027297473, 9.444335027297473, 9.492518290092672, 9.492518290092672, 9.492518290092672, 9.492518290092672, 9.540701552887871, 9.540701552887871, 9.540701552887871, 9.540701552887871, 9.540701552887871, 9.540701552887871, 9.58888481568307, 9.58888481568307, 9.58888481568307, 9.58888481568307, 9.58888481568307, 9.637068078478267, 9.637068078478267, 9.637068078478267, 9.637068078478267], \"yaxis\": \"y5\"}, {\"hovertemplate\": \"Research=False<br>University Rating=1<br>TOEFL Score=%{x}<br>CGPA=%{y}<extra></extra>\", \"legendgroup\": \"False\", \"marker\": {\"color\": \"#EF553B\", \"symbol\": \"diamond\"}, \"mode\": \"markers\", \"name\": \"False\", \"orientation\": \"v\", \"showlegend\": true, \"type\": \"scatter\", \"x\": [93, 109, 95, 105, 105, 100, 98, 100, 99, 98, 100, 92, 99, 100, 101, 99, 99, 96, 98, 93, 102, 103, 98, 94], \"xaxis\": \"x\", \"y\": [7.2, 9.12, 7.64, 7.8, 7.5, 7.95, 7.46, 7.56, 8.01, 7.65, 7.89, 7.88, 7.46, 7.9, 7.68, 7.57, 7.25, 7.56, 7.43, 7.36, 8.0, 7.86, 8.02, 7.34], \"yaxis\": \"y\"}, {\"hovertemplate\": \"<b>OLS trendline</b><br>CGPA = 0.0581053 * TOEFL Score + 1.95966<br>R<sup>2</sup>=0.366939<br><br>Research=False<br>University Rating=1<br>TOEFL Score=%{x}<br>CGPA=%{y} <b>(trend)</b><extra></extra>\", \"legendgroup\": \"False\", \"marker\": {\"color\": \"#EF553B\", \"symbol\": \"diamond\"}, \"mode\": \"lines\", \"name\": \"False\", \"showlegend\": false, \"type\": \"scatter\", \"x\": [92, 93, 93, 94, 95, 96, 98, 98, 98, 98, 99, 99, 99, 99, 100, 100, 100, 100, 101, 102, 103, 105, 105, 109], \"xaxis\": \"x\", \"y\": [7.305346491228072, 7.3634517543859666, 7.3634517543859666, 7.421557017543861, 7.479662280701755, 7.53776754385965, 7.653978070175439, 7.653978070175439, 7.653978070175439, 7.653978070175439, 7.712083333333334, 7.712083333333334, 7.712083333333334, 7.712083333333334, 7.770188596491229, 7.770188596491229, 7.770188596491229, 7.770188596491229, 7.828293859649123, 7.886399122807018, 7.944504385964913, 8.060714912280702, 8.060714912280702, 8.293135964912281], \"yaxis\": \"y\"}, {\"hovertemplate\": \"Research=False<br>University Rating=2<br>TOEFL Score=%{x}<br>CGPA=%{y}<extra></extra>\", \"legendgroup\": \"False\", \"marker\": {\"color\": \"#EF553B\", \"symbol\": \"diamond\"}, \"mode\": \"markers\", \"name\": \"False\", \"orientation\": \"v\", \"showlegend\": false, \"type\": \"scatter\", \"x\": [104, 100, 106, 109, 99, 100, 100, 110, 101, 105, 107, 105, 100, 102, 102, 105, 99, 106, 96, 105, 107, 102, 101, 105, 111, 99, 106, 104, 97, 105, 103, 105, 104, 103, 101, 104, 105, 105, 107, 96, 98, 106, 99, 106, 99, 103, 99, 106, 108, 107, 101, 110, 110, 109, 106, 103, 98, 101, 105, 99, 100, 105, 97, 96, 103, 100, 104, 96, 102, 106, 103, 105, 97, 99, 103, 106, 108, 99, 107, 94, 99, 107, 104, 101, 100, 104, 105, 102, 102], \"xaxis\": \"x2\", \"y\": [8.47, 8.0, 8.32, 9.02, 7.28, 7.88, 8.57, 8.56, 7.66, 7.65, 8.56, 7.65, 7.88, 7.64, 7.87, 8.12, 7.97, 8.25, 7.43, 8.01, 8.44, 8.73, 7.96, 8.1, 8.03, 9.0, 8.14, 8.26, 7.8, 8.45, 8.74, 7.64, 7.79, 8.49, 8.62, 8.48, 8.46, 7.68, 8.42, 7.86, 8.03, 8.0, 7.3, 8.16, 7.89, 8.36, 7.65, 8.4, 7.7, 8.27, 7.86, 8.53, 8.45, 8.45, 8.12, 8.21, 7.67, 7.9, 8.23, 8.03, 8.22, 8.34, 7.64, 7.34, 8.13, 8.07, 8.76, 7.89, 8.18, 8.33, 8.24, 8.26, 7.21, 8.22, 8.15, 8.43, 8.76, 7.98, 8.28, 8.13, 7.6, 8.27, 8.07, 7.86, 8.1, 8.3, 8.13, 8.15, 8.24], \"yaxis\": \"y2\"}, {\"hovertemplate\": \"<b>OLS trendline</b><br>CGPA = 0.0498282 * TOEFL Score + 2.98925<br>R<sup>2</sup>=0.252022<br><br>Research=False<br>University Rating=2<br>TOEFL Score=%{x}<br>CGPA=%{y} <b>(trend)</b><extra></extra>\", \"legendgroup\": \"False\", \"marker\": {\"color\": \"#EF553B\", \"symbol\": \"diamond\"}, \"mode\": \"lines\", \"name\": \"False\", \"showlegend\": false, \"type\": \"scatter\", \"x\": [94, 96, 96, 96, 96, 97, 97, 97, 98, 98, 99, 99, 99, 99, 99, 99, 99, 99, 99, 99, 100, 100, 100, 100, 100, 100, 100, 101, 101, 101, 101, 101, 101, 102, 102, 102, 102, 102, 102, 103, 103, 103, 103, 103, 103, 103, 104, 104, 104, 104, 104, 104, 104, 105, 105, 105, 105, 105, 105, 105, 105, 105, 105, 105, 105, 105, 106, 106, 106, 106, 106, 106, 106, 106, 106, 107, 107, 107, 107, 107, 107, 108, 108, 109, 109, 110, 110, 110, 111], \"xaxis\": \"x2\", \"y\": [7.673102189781034, 7.772758515815096, 7.772758515815096, 7.772758515815096, 7.772758515815096, 7.822586678832128, 7.822586678832128, 7.822586678832128, 7.872414841849159, 7.872414841849159, 7.922243004866191, 7.922243004866191, 7.922243004866191, 7.922243004866191, 7.922243004866191, 7.922243004866191, 7.922243004866191, 7.922243004866191, 7.922243004866191, 7.922243004866191, 7.972071167883222, 7.972071167883222, 7.972071167883222, 7.972071167883222, 7.972071167883222, 7.972071167883222, 7.972071167883222, 8.021899330900254, 8.021899330900254, 8.021899330900254, 8.021899330900254, 8.021899330900254, 8.021899330900254, 8.071727493917285, 8.071727493917285, 8.071727493917285, 8.071727493917285, 8.071727493917285, 8.071727493917285, 8.121555656934316, 8.121555656934316, 8.121555656934316, 8.121555656934316, 8.121555656934316, 8.121555656934316, 8.121555656934316, 8.171383819951348, 8.171383819951348, 8.171383819951348, 8.171383819951348, 8.171383819951348, 8.171383819951348, 8.171383819951348, 8.221211982968379, 8.221211982968379, 8.221211982968379, 8.221211982968379, 8.221211982968379, 8.221211982968379, 8.221211982968379, 8.221211982968379, 8.221211982968379, 8.221211982968379, 8.221211982968379, 8.221211982968379, 8.221211982968379, 8.27104014598541, 8.27104014598541, 8.27104014598541, 8.27104014598541, 8.27104014598541, 8.27104014598541, 8.27104014598541, 8.27104014598541, 8.27104014598541, 8.320868309002442, 8.320868309002442, 8.320868309002442, 8.320868309002442, 8.320868309002442, 8.320868309002442, 8.370696472019473, 8.370696472019473, 8.420524635036504, 8.420524635036504, 8.470352798053536, 8.470352798053536, 8.470352798053536, 8.520180961070569], \"yaxis\": \"y2\"}, {\"hovertemplate\": \"Research=False<br>University Rating=3<br>TOEFL Score=%{x}<br>CGPA=%{y}<extra></extra>\", \"legendgroup\": \"False\", \"marker\": {\"color\": \"#EF553B\", \"symbol\": \"diamond\"}, \"mode\": \"markers\", \"name\": \"False\", \"orientation\": \"v\", \"showlegend\": false, \"type\": \"scatter\", \"x\": [106, 112, 105, 104, 104, 109, 104, 100, 100, 106, 101, 102, 110, 108, 100, 104, 102, 107, 120, 112, 99, 110, 104, 101, 111, 103, 114, 106, 107, 106, 108, 97, 99, 103, 101, 102, 102, 108, 103, 108, 105, 107, 110, 102, 110, 102, 104, 101, 110, 102, 100, 103, 104, 108, 104, 110, 102, 104, 107, 99, 105, 103, 109, 110, 102, 106, 105, 108, 103, 105, 109, 109, 105, 105, 103], \"xaxis\": \"x3\", \"y\": [8.65, 8.67, 8.73, 8.65, 8.37, 9.0, 8.33, 8.02, 8.04, 8.24, 8.04, 8.17, 8.79, 8.53, 8.26, 8.09, 8.68, 8.67, 9.11, 8.65, 8.56, 8.56, 8.42, 8.2, 8.7, 8.09, 9.02, 8.9, 7.86, 8.42, 8.14, 7.66, 7.66, 8.75, 9.13, 8.62, 7.4, 8.22, 7.7, 8.6, 8.3, 8.7, 8.8, 8.5, 8.5, 8.37, 8.12, 7.88, 8.0, 8.27, 7.42, 7.68, 8.1, 8.12, 8.16, 8.8, 8.33, 8.43, 8.69, 7.45, 8.54, 8.78, 8.76, 9.04, 8.27, 8.57, 8.75, 8.89, 8.45, 8.34, 8.5, 8.69, 8.48, 8.56, 8.21], \"yaxis\": \"y3\"}, {\"hovertemplate\": \"<b>OLS trendline</b><br>CGPA = 0.0574643 * TOEFL Score + 2.35219<br>R<sup>2</sup>=0.339237<br><br>Research=False<br>University Rating=3<br>TOEFL Score=%{x}<br>CGPA=%{y} <b>(trend)</b><extra></extra>\", \"legendgroup\": \"False\", \"marker\": {\"color\": \"#EF553B\", \"symbol\": \"diamond\"}, \"mode\": \"lines\", \"name\": \"False\", \"showlegend\": false, \"type\": \"scatter\", \"x\": [97, 99, 99, 99, 100, 100, 100, 100, 101, 101, 101, 101, 102, 102, 102, 102, 102, 102, 102, 102, 102, 103, 103, 103, 103, 103, 103, 103, 104, 104, 104, 104, 104, 104, 104, 104, 104, 105, 105, 105, 105, 105, 105, 105, 106, 106, 106, 106, 106, 107, 107, 107, 107, 108, 108, 108, 108, 108, 108, 109, 109, 109, 109, 110, 110, 110, 110, 110, 110, 110, 111, 112, 112, 114, 120], \"xaxis\": \"x3\", \"y\": [7.926225830715438, 8.041154373700262, 8.041154373700262, 8.041154373700262, 8.098618645192674, 8.098618645192674, 8.098618645192674, 8.098618645192674, 8.156082916685087, 8.156082916685087, 8.156082916685087, 8.156082916685087, 8.213547188177499, 8.213547188177499, 8.213547188177499, 8.213547188177499, 8.213547188177499, 8.213547188177499, 8.213547188177499, 8.213547188177499, 8.213547188177499, 8.27101145966991, 8.27101145966991, 8.27101145966991, 8.27101145966991, 8.27101145966991, 8.27101145966991, 8.27101145966991, 8.328475731162323, 8.328475731162323, 8.328475731162323, 8.328475731162323, 8.328475731162323, 8.328475731162323, 8.328475731162323, 8.328475731162323, 8.328475731162323, 8.385940002654735, 8.385940002654735, 8.385940002654735, 8.385940002654735, 8.385940002654735, 8.385940002654735, 8.385940002654735, 8.443404274147147, 8.443404274147147, 8.443404274147147, 8.443404274147147, 8.443404274147147, 8.500868545639559, 8.500868545639559, 8.500868545639559, 8.500868545639559, 8.558332817131971, 8.558332817131971, 8.558332817131971, 8.558332817131971, 8.558332817131971, 8.558332817131971, 8.615797088624383, 8.615797088624383, 8.615797088624383, 8.615797088624383, 8.673261360116795, 8.673261360116795, 8.673261360116795, 8.673261360116795, 8.673261360116795, 8.673261360116795, 8.673261360116795, 8.730725631609207, 8.78818990310162, 8.78818990310162, 8.903118446086443, 9.247904075040916], \"yaxis\": \"y3\"}, {\"hovertemplate\": \"Research=False<br>University Rating=4<br>TOEFL Score=%{x}<br>CGPA=%{y}<extra></extra>\", \"legendgroup\": \"False\", \"marker\": {\"color\": \"#EF553B\", \"symbol\": \"diamond\"}, \"mode\": \"markers\", \"name\": \"False\", \"orientation\": \"v\", \"showlegend\": false, \"type\": \"scatter\", \"x\": [111, 99, 96, 105, 115, 105, 104, 106, 106, 114, 117, 112, 103, 100, 113, 114, 103, 110, 110, 104, 108, 113, 113], \"xaxis\": \"x4\", \"y\": [8.54, 7.81, 8.26, 7.94, 9.14, 8.18, 7.46, 8.36, 8.47, 8.4, 9.1, 8.92, 8.66, 7.84, 9.04, 9.12, 8.43, 8.6, 8.37, 9.02, 8.34, 9.14, 8.79], \"yaxis\": \"y4\"}, {\"hovertemplate\": \"<b>OLS trendline</b><br>CGPA = 0.0582021 * TOEFL Score + 2.24046<br>R<sup>2</sup>=0.482579<br><br>Research=False<br>University Rating=4<br>TOEFL Score=%{x}<br>CGPA=%{y} <b>(trend)</b><extra></extra>\", \"legendgroup\": \"False\", \"marker\": {\"color\": \"#EF553B\", \"symbol\": \"diamond\"}, \"mode\": \"lines\", \"name\": \"False\", \"showlegend\": false, \"type\": \"scatter\", \"x\": [96, 99, 100, 103, 103, 104, 104, 105, 105, 106, 106, 108, 110, 110, 111, 112, 113, 113, 113, 114, 114, 115, 117], \"xaxis\": \"x4\", \"y\": [7.827862416933292, 8.002468619246855, 8.060670686684709, 8.23527688899827, 8.23527688899827, 8.293478956436124, 8.293478956436124, 8.351681023873978, 8.351681023873978, 8.409883091311832, 8.409883091311832, 8.526287226187538, 8.642691361063246, 8.642691361063246, 8.7008934285011, 8.759095495938954, 8.817297563376808, 8.817297563376808, 8.817297563376808, 8.875499630814662, 8.875499630814662, 8.933701698252516, 9.050105833128224], \"yaxis\": \"y4\"}, {\"hovertemplate\": \"Research=False<br>University Rating=5<br>TOEFL Score=%{x}<br>CGPA=%{y}<extra></extra>\", \"legendgroup\": \"False\", \"marker\": {\"color\": \"#EF553B\", \"symbol\": \"diamond\"}, \"mode\": \"markers\", \"name\": \"False\", \"orientation\": \"v\", \"showlegend\": false, \"type\": \"scatter\", \"x\": [119, 109, 103, 110, 103, 108, 105, 105, 112], \"xaxis\": \"x5\", \"y\": [9.7, 8.8, 7.92, 8.97, 8.64, 8.48, 8.65, 8.56, 8.78], \"yaxis\": \"y5\"}, {\"hovertemplate\": \"<b>OLS trendline</b><br>CGPA = 0.0796235 * TOEFL Score + 0.105186<br>R<sup>2</sup>=0.751724<br><br>Research=False<br>University Rating=5<br>TOEFL Score=%{x}<br>CGPA=%{y} <b>(trend)</b><extra></extra>\", \"legendgroup\": \"False\", \"marker\": {\"color\": \"#EF553B\", \"symbol\": \"diamond\"}, \"mode\": \"lines\", \"name\": \"False\", \"showlegend\": false, \"type\": \"scatter\", \"x\": [103, 103, 105, 105, 108, 109, 110, 112, 119], \"xaxis\": \"x5\", \"y\": [8.3064103923648, 8.3064103923648, 8.465657476139986, 8.465657476139986, 8.704528101802763, 8.784151643690358, 8.86377518557795, 9.023022269353136, 9.580387062566285], \"yaxis\": \"y5\"}],                        {\"annotations\": [{\"font\": {}, \"showarrow\": false, \"text\": \"University Rating=1\", \"x\": 0.09200000000000001, \"xanchor\": \"center\", \"xref\": \"paper\", \"y\": 1.0, \"yanchor\": \"bottom\", \"yref\": \"paper\"}, {\"font\": {}, \"showarrow\": false, \"text\": \"University Rating=2\", \"x\": 0.29600000000000004, \"xanchor\": \"center\", \"xref\": \"paper\", \"y\": 1.0, \"yanchor\": \"bottom\", \"yref\": \"paper\"}, {\"font\": {}, \"showarrow\": false, \"text\": \"University Rating=3\", \"x\": 0.5, \"xanchor\": \"center\", \"xref\": \"paper\", \"y\": 1.0, \"yanchor\": \"bottom\", \"yref\": \"paper\"}, {\"font\": {}, \"showarrow\": false, \"text\": \"University Rating=4\", \"x\": 0.7040000000000002, \"xanchor\": \"center\", \"xref\": \"paper\", \"y\": 1.0, \"yanchor\": \"bottom\", \"yref\": \"paper\"}, {\"font\": {}, \"showarrow\": false, \"text\": \"University Rating=5\", \"x\": 0.908, \"xanchor\": \"center\", \"xref\": \"paper\", \"y\": 1.0, \"yanchor\": \"bottom\", \"yref\": \"paper\"}], \"legend\": {\"title\": {\"text\": \"Research\"}, \"tracegroupgap\": 0}, \"margin\": {\"t\": 60}, \"template\": {\"data\": {\"bar\": [{\"error_x\": {\"color\": \"#2a3f5f\"}, \"error_y\": {\"color\": \"#2a3f5f\"}, \"marker\": {\"line\": {\"color\": \"#E5ECF6\", \"width\": 0.5}}, \"type\": \"bar\"}], \"barpolar\": [{\"marker\": {\"line\": {\"color\": \"#E5ECF6\", \"width\": 0.5}}, \"type\": \"barpolar\"}], \"carpet\": [{\"aaxis\": {\"endlinecolor\": \"#2a3f5f\", \"gridcolor\": \"white\", \"linecolor\": \"white\", \"minorgridcolor\": \"white\", \"startlinecolor\": \"#2a3f5f\"}, \"baxis\": {\"endlinecolor\": \"#2a3f5f\", \"gridcolor\": \"white\", \"linecolor\": \"white\", \"minorgridcolor\": \"white\", \"startlinecolor\": \"#2a3f5f\"}, \"type\": \"carpet\"}], \"choropleth\": [{\"colorbar\": {\"outlinewidth\": 0, \"ticks\": \"\"}, \"type\": \"choropleth\"}], \"contour\": [{\"colorbar\": {\"outlinewidth\": 0, \"ticks\": \"\"}, \"colorscale\": [[0.0, \"#0d0887\"], [0.1111111111111111, \"#46039f\"], [0.2222222222222222, \"#7201a8\"], [0.3333333333333333, \"#9c179e\"], [0.4444444444444444, \"#bd3786\"], [0.5555555555555556, \"#d8576b\"], [0.6666666666666666, \"#ed7953\"], [0.7777777777777778, \"#fb9f3a\"], [0.8888888888888888, \"#fdca26\"], [1.0, \"#f0f921\"]], \"type\": \"contour\"}], \"contourcarpet\": [{\"colorbar\": {\"outlinewidth\": 0, \"ticks\": \"\"}, \"type\": \"contourcarpet\"}], \"heatmap\": [{\"colorbar\": {\"outlinewidth\": 0, \"ticks\": \"\"}, \"colorscale\": [[0.0, \"#0d0887\"], [0.1111111111111111, \"#46039f\"], [0.2222222222222222, \"#7201a8\"], [0.3333333333333333, \"#9c179e\"], [0.4444444444444444, \"#bd3786\"], [0.5555555555555556, \"#d8576b\"], [0.6666666666666666, \"#ed7953\"], [0.7777777777777778, \"#fb9f3a\"], [0.8888888888888888, \"#fdca26\"], [1.0, \"#f0f921\"]], \"type\": \"heatmap\"}], \"heatmapgl\": [{\"colorbar\": {\"outlinewidth\": 0, \"ticks\": \"\"}, \"colorscale\": [[0.0, \"#0d0887\"], [0.1111111111111111, \"#46039f\"], [0.2222222222222222, \"#7201a8\"], [0.3333333333333333, \"#9c179e\"], [0.4444444444444444, \"#bd3786\"], [0.5555555555555556, \"#d8576b\"], [0.6666666666666666, \"#ed7953\"], [0.7777777777777778, \"#fb9f3a\"], [0.8888888888888888, \"#fdca26\"], [1.0, \"#f0f921\"]], \"type\": \"heatmapgl\"}], \"histogram\": [{\"marker\": {\"colorbar\": {\"outlinewidth\": 0, \"ticks\": \"\"}}, \"type\": \"histogram\"}], \"histogram2d\": [{\"colorbar\": {\"outlinewidth\": 0, \"ticks\": \"\"}, \"colorscale\": [[0.0, \"#0d0887\"], [0.1111111111111111, \"#46039f\"], [0.2222222222222222, \"#7201a8\"], [0.3333333333333333, \"#9c179e\"], [0.4444444444444444, \"#bd3786\"], [0.5555555555555556, \"#d8576b\"], [0.6666666666666666, \"#ed7953\"], [0.7777777777777778, \"#fb9f3a\"], [0.8888888888888888, \"#fdca26\"], [1.0, \"#f0f921\"]], \"type\": \"histogram2d\"}], \"histogram2dcontour\": [{\"colorbar\": {\"outlinewidth\": 0, \"ticks\": \"\"}, \"colorscale\": [[0.0, \"#0d0887\"], [0.1111111111111111, \"#46039f\"], [0.2222222222222222, \"#7201a8\"], [0.3333333333333333, \"#9c179e\"], [0.4444444444444444, \"#bd3786\"], [0.5555555555555556, \"#d8576b\"], [0.6666666666666666, \"#ed7953\"], [0.7777777777777778, \"#fb9f3a\"], [0.8888888888888888, \"#fdca26\"], [1.0, \"#f0f921\"]], \"type\": \"histogram2dcontour\"}], \"mesh3d\": [{\"colorbar\": {\"outlinewidth\": 0, \"ticks\": \"\"}, \"type\": \"mesh3d\"}], \"parcoords\": [{\"line\": {\"colorbar\": {\"outlinewidth\": 0, \"ticks\": \"\"}}, \"type\": \"parcoords\"}], \"pie\": [{\"automargin\": true, \"type\": \"pie\"}], \"scatter\": [{\"marker\": {\"colorbar\": {\"outlinewidth\": 0, \"ticks\": \"\"}}, \"type\": \"scatter\"}], \"scatter3d\": [{\"line\": {\"colorbar\": {\"outlinewidth\": 0, \"ticks\": \"\"}}, \"marker\": {\"colorbar\": {\"outlinewidth\": 0, \"ticks\": \"\"}}, \"type\": \"scatter3d\"}], \"scattercarpet\": [{\"marker\": {\"colorbar\": {\"outlinewidth\": 0, \"ticks\": \"\"}}, \"type\": \"scattercarpet\"}], \"scattergeo\": [{\"marker\": {\"colorbar\": {\"outlinewidth\": 0, \"ticks\": \"\"}}, \"type\": \"scattergeo\"}], \"scattergl\": [{\"marker\": {\"colorbar\": {\"outlinewidth\": 0, \"ticks\": \"\"}}, \"type\": \"scattergl\"}], \"scattermapbox\": [{\"marker\": {\"colorbar\": {\"outlinewidth\": 0, \"ticks\": \"\"}}, \"type\": \"scattermapbox\"}], \"scatterpolar\": [{\"marker\": {\"colorbar\": {\"outlinewidth\": 0, \"ticks\": \"\"}}, \"type\": \"scatterpolar\"}], \"scatterpolargl\": [{\"marker\": {\"colorbar\": {\"outlinewidth\": 0, \"ticks\": \"\"}}, \"type\": \"scatterpolargl\"}], \"scatterternary\": [{\"marker\": {\"colorbar\": {\"outlinewidth\": 0, \"ticks\": \"\"}}, \"type\": \"scatterternary\"}], \"surface\": [{\"colorbar\": {\"outlinewidth\": 0, \"ticks\": \"\"}, \"colorscale\": [[0.0, \"#0d0887\"], [0.1111111111111111, \"#46039f\"], [0.2222222222222222, \"#7201a8\"], [0.3333333333333333, \"#9c179e\"], [0.4444444444444444, \"#bd3786\"], [0.5555555555555556, \"#d8576b\"], [0.6666666666666666, \"#ed7953\"], [0.7777777777777778, \"#fb9f3a\"], [0.8888888888888888, \"#fdca26\"], [1.0, \"#f0f921\"]], \"type\": \"surface\"}], \"table\": [{\"cells\": {\"fill\": {\"color\": \"#EBF0F8\"}, \"line\": {\"color\": \"white\"}}, \"header\": {\"fill\": {\"color\": \"#C8D4E3\"}, \"line\": {\"color\": \"white\"}}, \"type\": \"table\"}]}, \"layout\": {\"annotationdefaults\": {\"arrowcolor\": \"#2a3f5f\", \"arrowhead\": 0, \"arrowwidth\": 1}, \"autotypenumbers\": \"strict\", \"coloraxis\": {\"colorbar\": {\"outlinewidth\": 0, \"ticks\": \"\"}}, \"colorscale\": {\"diverging\": [[0, \"#8e0152\"], [0.1, \"#c51b7d\"], [0.2, \"#de77ae\"], [0.3, \"#f1b6da\"], [0.4, \"#fde0ef\"], [0.5, \"#f7f7f7\"], [0.6, \"#e6f5d0\"], [0.7, \"#b8e186\"], [0.8, \"#7fbc41\"], [0.9, \"#4d9221\"], [1, \"#276419\"]], \"sequential\": [[0.0, \"#0d0887\"], [0.1111111111111111, \"#46039f\"], [0.2222222222222222, \"#7201a8\"], [0.3333333333333333, \"#9c179e\"], [0.4444444444444444, \"#bd3786\"], [0.5555555555555556, \"#d8576b\"], [0.6666666666666666, \"#ed7953\"], [0.7777777777777778, \"#fb9f3a\"], [0.8888888888888888, \"#fdca26\"], [1.0, \"#f0f921\"]], \"sequentialminus\": [[0.0, \"#0d0887\"], [0.1111111111111111, \"#46039f\"], [0.2222222222222222, \"#7201a8\"], [0.3333333333333333, \"#9c179e\"], [0.4444444444444444, \"#bd3786\"], [0.5555555555555556, \"#d8576b\"], [0.6666666666666666, \"#ed7953\"], [0.7777777777777778, \"#fb9f3a\"], [0.8888888888888888, \"#fdca26\"], [1.0, \"#f0f921\"]]}, \"colorway\": [\"#636efa\", \"#EF553B\", \"#00cc96\", \"#ab63fa\", \"#FFA15A\", \"#19d3f3\", \"#FF6692\", \"#B6E880\", \"#FF97FF\", \"#FECB52\"], \"font\": {\"color\": \"#2a3f5f\"}, \"geo\": {\"bgcolor\": \"white\", \"lakecolor\": \"white\", \"landcolor\": \"#E5ECF6\", \"showlakes\": true, \"showland\": true, \"subunitcolor\": \"white\"}, \"hoverlabel\": {\"align\": \"left\"}, \"hovermode\": \"closest\", \"mapbox\": {\"style\": \"light\"}, \"paper_bgcolor\": \"white\", \"plot_bgcolor\": \"#E5ECF6\", \"polar\": {\"angularaxis\": {\"gridcolor\": \"white\", \"linecolor\": \"white\", \"ticks\": \"\"}, \"bgcolor\": \"#E5ECF6\", \"radialaxis\": {\"gridcolor\": \"white\", \"linecolor\": \"white\", \"ticks\": \"\"}}, \"scene\": {\"xaxis\": {\"backgroundcolor\": \"#E5ECF6\", \"gridcolor\": \"white\", \"gridwidth\": 2, \"linecolor\": \"white\", \"showbackground\": true, \"ticks\": \"\", \"zerolinecolor\": \"white\"}, \"yaxis\": {\"backgroundcolor\": \"#E5ECF6\", \"gridcolor\": \"white\", \"gridwidth\": 2, \"linecolor\": \"white\", \"showbackground\": true, \"ticks\": \"\", \"zerolinecolor\": \"white\"}, \"zaxis\": {\"backgroundcolor\": \"#E5ECF6\", \"gridcolor\": \"white\", \"gridwidth\": 2, \"linecolor\": \"white\", \"showbackground\": true, \"ticks\": \"\", \"zerolinecolor\": \"white\"}}, \"shapedefaults\": {\"line\": {\"color\": \"#2a3f5f\"}}, \"ternary\": {\"aaxis\": {\"gridcolor\": \"white\", \"linecolor\": \"white\", \"ticks\": \"\"}, \"baxis\": {\"gridcolor\": \"white\", \"linecolor\": \"white\", \"ticks\": \"\"}, \"bgcolor\": \"#E5ECF6\", \"caxis\": {\"gridcolor\": \"white\", \"linecolor\": \"white\", \"ticks\": \"\"}}, \"title\": {\"x\": 0.05}, \"xaxis\": {\"automargin\": true, \"gridcolor\": \"white\", \"linecolor\": \"white\", \"ticks\": \"\", \"title\": {\"standoff\": 15}, \"zerolinecolor\": \"white\", \"zerolinewidth\": 2}, \"yaxis\": {\"automargin\": true, \"gridcolor\": \"white\", \"linecolor\": \"white\", \"ticks\": \"\", \"title\": {\"standoff\": 15}, \"zerolinecolor\": \"white\", \"zerolinewidth\": 2}}}, \"xaxis\": {\"anchor\": \"y\", \"domain\": [0.0, 0.18400000000000002], \"title\": {\"text\": \"TOEFL Score\"}}, \"xaxis2\": {\"anchor\": \"y2\", \"domain\": [0.20400000000000001, 0.388], \"matches\": \"x\", \"title\": {\"text\": \"TOEFL Score\"}}, \"xaxis3\": {\"anchor\": \"y3\", \"domain\": [0.40800000000000003, 0.5920000000000001], \"matches\": \"x\", \"title\": {\"text\": \"TOEFL Score\"}}, \"xaxis4\": {\"anchor\": \"y4\", \"domain\": [0.6120000000000001, 0.7960000000000002], \"matches\": \"x\", \"title\": {\"text\": \"TOEFL Score\"}}, \"xaxis5\": {\"anchor\": \"y5\", \"domain\": [0.8160000000000001, 1.0], \"matches\": \"x\", \"title\": {\"text\": \"TOEFL Score\"}}, \"yaxis\": {\"anchor\": \"x\", \"domain\": [0.0, 1.0], \"title\": {\"text\": \"CGPA\"}}, \"yaxis2\": {\"anchor\": \"x2\", \"domain\": [0.0, 1.0], \"matches\": \"y\", \"showticklabels\": false}, \"yaxis3\": {\"anchor\": \"x3\", \"domain\": [0.0, 1.0], \"matches\": \"y\", \"showticklabels\": false}, \"yaxis4\": {\"anchor\": \"x4\", \"domain\": [0.0, 1.0], \"matches\": \"y\", \"showticklabels\": false}, \"yaxis5\": {\"anchor\": \"x5\", \"domain\": [0.0, 1.0], \"matches\": \"y\", \"showticklabels\": false}},                        {\"responsive\": true}                    ).then(function(){\n",
       "                            \n",
       "var gd = document.getElementById('6bddcc94-668d-4279-a9be-36a1ccb1bc82');\n",
       "var x = new MutationObserver(function (mutations, observer) {{\n",
       "        var display = window.getComputedStyle(gd).display;\n",
       "        if (!display || display === 'none') {{\n",
       "            console.log([gd, 'removed!']);\n",
       "            Plotly.purge(gd);\n",
       "            observer.disconnect();\n",
       "        }}\n",
       "}});\n",
       "\n",
       "// Listen for the removal of the full notebook cells\n",
       "var notebookContainer = gd.closest('#notebook-container');\n",
       "if (notebookContainer) {{\n",
       "    x.observe(notebookContainer, {childList: true});\n",
       "}}\n",
       "\n",
       "// Listen for the clearing of the current output cell\n",
       "var outputEl = gd.closest('.output');\n",
       "if (outputEl) {{\n",
       "    x.observe(outputEl, {childList: true});\n",
       "}}\n",
       "\n",
       "                        })                };                });            </script>        </div>"
      ]
     },
     "metadata": {},
     "output_type": "display_data"
    }
   ],
   "source": [
    "px.scatter(\n",
    "    data_frame=df,\n",
    "    x=\"TOEFL Score\",\n",
    "    y=\"CGPA\",\n",
    "    color=\"Research\",\n",
    "    facet_col=\"University Rating\",\n",
    "    trendline=\"ols\",\n",
    "    symbol=\"Research\",\n",
    ")"
   ]
  },
  {
   "cell_type": "markdown",
   "metadata": {
    "papermill": {
     "duration": 0.145818,
     "end_time": "2020-12-28T20:42:31.603004",
     "exception": false,
     "start_time": "2020-12-28T20:42:31.457186",
     "status": "completed"
    },
    "tags": []
   },
   "source": [
    "#### `GRE Score` vs. `CGPA`"
   ]
  },
  {
   "cell_type": "code",
   "execution_count": 79,
   "metadata": {
    "execution": {
     "iopub.execute_input": "2020-12-28T20:42:31.907996Z",
     "iopub.status.busy": "2020-12-28T20:42:31.907300Z",
     "iopub.status.idle": "2020-12-28T20:42:32.160635Z",
     "shell.execute_reply": "2020-12-28T20:42:32.161193Z"
    },
    "papermill": {
     "duration": 0.41238,
     "end_time": "2020-12-28T20:42:32.161333",
     "exception": false,
     "start_time": "2020-12-28T20:42:31.748953",
     "status": "completed"
    },
    "tags": []
   },
   "outputs": [
    {
     "data": {
      "text/html": [
       "<div>                            <div id=\"d2f9fed8-f095-4158-875d-cdf71f8cbd54\" class=\"plotly-graph-div\" style=\"height:525px; width:100%;\"></div>            <script type=\"text/javascript\">                require([\"plotly\"], function(Plotly) {                    window.PLOTLYENV=window.PLOTLYENV || {};                                    if (document.getElementById(\"d2f9fed8-f095-4158-875d-cdf71f8cbd54\")) {                    Plotly.newPlot(                        \"d2f9fed8-f095-4158-875d-cdf71f8cbd54\",                        [{\"hovertemplate\": \"Research=True<br>University Rating=1<br>GRE Score=%{x}<br>CGPA=%{y}<extra></extra>\", \"legendgroup\": \"True\", \"marker\": {\"color\": \"#636efa\", \"symbol\": \"circle\"}, \"mode\": \"markers\", \"name\": \"True\", \"orientation\": \"v\", \"showlegend\": true, \"type\": \"scatter\", \"x\": [318, 301, 312, 310, 317, 312, 300, 332, 311, 312], \"xaxis\": \"x\", \"y\": [8.54, 8.03, 8.01, 7.23, 7.65, 8.53, 6.8, 8.66, 8.43, 8.18], \"yaxis\": \"y\"}, {\"hovertemplate\": \"<b>OLS trendline</b><br>CGPA = 0.0409609 * GRE Score + -4.79427<br>R<sup>2</sup>=0.361465<br><br>Research=True<br>University Rating=1<br>GRE Score=%{x}<br>CGPA=%{y} <b>(trend)</b><extra></extra>\", \"legendgroup\": \"True\", \"marker\": {\"color\": \"#636efa\", \"symbol\": \"circle\"}, \"mode\": \"lines\", \"name\": \"True\", \"showlegend\": false, \"type\": \"scatter\", \"x\": [300, 301, 310, 311, 312, 312, 312, 317, 318, 332], \"xaxis\": \"x\", \"y\": [7.493989018531228, 7.534949897048729, 7.903597803706247, 7.944558682223749, 7.985519560741252, 7.985519560741252, 7.985519560741252, 8.190323953328761, 8.231284831846263, 8.80473713109129], \"yaxis\": \"y\"}, {\"hovertemplate\": \"Research=True<br>University Rating=2<br>GRE Score=%{x}<br>CGPA=%{y}<extra></extra>\", \"legendgroup\": \"True\", \"marker\": {\"color\": \"#636efa\", \"symbol\": \"circle\"}, \"mode\": \"markers\", \"name\": \"True\", \"orientation\": \"v\", \"showlegend\": false, \"type\": \"scatter\", \"x\": [301, 316, 293, 308, 318, 308, 325, 311, 306, 316, 329, 332, 320, 325, 320, 326, 318, 311, 298, 300, 316, 313, 311, 307, 301, 300, 303, 307, 329, 296, 322, 316, 315, 312, 315, 304, 312], \"xaxis\": \"x2\", \"y\": [7.88, 8.32, 7.8, 7.98, 8.54, 8.36, 8.76, 8.26, 8.22, 8.16, 9.15, 9.36, 8.78, 8.96, 8.64, 9.08, 7.92, 8.34, 7.5, 8.1, 8.2, 8.5, 8.12, 8.12, 7.89, 8.22, 8.06, 8.52, 8.56, 7.54, 8.45, 8.64, 8.46, 8.04, 8.5, 8.2, 7.9], \"yaxis\": \"y2\"}, {\"hovertemplate\": \"<b>OLS trendline</b><br>CGPA = 0.0354404 * GRE Score + -2.74759<br>R<sup>2</sup>=0.691703<br><br>Research=True<br>University Rating=2<br>GRE Score=%{x}<br>CGPA=%{y} <b>(trend)</b><extra></extra>\", \"legendgroup\": \"True\", \"marker\": {\"color\": \"#636efa\", \"symbol\": \"circle\"}, \"mode\": \"lines\", \"name\": \"True\", \"showlegend\": false, \"type\": \"scatter\", \"x\": [293, 296, 298, 300, 300, 301, 301, 303, 304, 306, 307, 307, 308, 308, 311, 311, 311, 312, 312, 313, 315, 315, 316, 316, 316, 316, 318, 318, 320, 320, 322, 325, 325, 326, 329, 329, 332], \"xaxis\": \"x2\", \"y\": [7.636442593050566, 7.742763694818837, 7.813644429331017, 7.884525163843197, 7.884525163843197, 7.919965531099287, 7.919965531099287, 7.990846265611468, 8.026286632867558, 8.097167367379738, 8.132607734635828, 8.132607734635828, 8.16804810189192, 8.16804810189192, 8.27436920366019, 8.27436920366019, 8.27436920366019, 8.30980957091628, 8.30980957091628, 8.345249938172369, 8.41613067268455, 8.41613067268455, 8.45157103994064, 8.45157103994064, 8.45157103994064, 8.45157103994064, 8.52245177445282, 8.52245177445282, 8.593332508965, 8.593332508965, 8.664213243477182, 8.770534345245451, 8.770534345245451, 8.805974712501541, 8.912295814269813, 8.912295814269813, 9.018616916038082], \"yaxis\": \"y2\"}, {\"hovertemplate\": \"Research=True<br>University Rating=3<br>GRE Score=%{x}<br>CGPA=%{y}<extra></extra>\", \"legendgroup\": \"True\", \"marker\": {\"color\": \"#636efa\", \"symbol\": \"circle\"}, \"mode\": \"markers\", \"name\": \"True\", \"orientation\": \"v\", \"showlegend\": false, \"type\": \"scatter\", \"x\": [325, 324, 319, 320, 324, 320, 324, 324, 317, 323, 326, 327, 308, 319, 320, 313, 312, 326, 318, 322, 327, 320, 324, 319, 324, 314, 322, 322, 311, 317, 312, 321, 321, 324, 330, 323, 321, 323, 321, 318, 327, 312, 301, 331, 323, 322, 326, 316, 301, 311, 320, 313, 301, 316, 322, 321, 325, 307, 311, 319, 312, 322, 327, 317, 321, 308, 318, 321, 300, 319, 319, 323, 317, 317, 297, 298, 317, 310, 301, 311, 324, 325, 321, 311, 310, 326, 326], \"xaxis\": \"x3\", \"y\": [9.04, 8.76, 8.33, 8.57, 8.87, 8.44, 8.64, 8.8, 8.5, 8.44, 9.14, 8.66, 8.21, 8.54, 8.34, 8.9, 8.46, 8.76, 8.27, 8.64, 8.77, 8.74, 9.22, 8.67, 8.79, 8.17, 8.84, 8.96, 8.64, 9.11, 8.79, 8.9, 8.54, 9.04, 9.24, 8.55, 8.8, 9.1, 8.83, 9.22, 8.72, 8.02, 8.13, 8.96, 8.88, 8.46, 9.05, 8.78, 8.34, 8.45, 8.97, 8.3, 8.45, 8.0, 8.67, 8.2, 8.4, 8.0, 8.2, 8.0, 7.9, 8.62, 8.3, 7.89, 9.01, 8.0, 8.49, 8.85, 8.66, 8.76, 8.71, 9.32, 8.68, 7.94, 7.67, 7.95, 8.54, 8.02, 8.12, 7.64, 8.94, 9.11, 8.95, 8.13, 8.65, 9.11, 9.1], \"yaxis\": \"y3\"}, {\"hovertemplate\": \"<b>OLS trendline</b><br>CGPA = 0.0324996 * GRE Score + -1.7463<br>R<sup>2</sup>=0.392748<br><br>Research=True<br>University Rating=3<br>GRE Score=%{x}<br>CGPA=%{y} <b>(trend)</b><extra></extra>\", \"legendgroup\": \"True\", \"marker\": {\"color\": \"#636efa\", \"symbol\": \"circle\"}, \"mode\": \"lines\", \"name\": \"True\", \"showlegend\": false, \"type\": \"scatter\", \"x\": [297, 298, 300, 301, 301, 301, 301, 307, 308, 308, 310, 310, 311, 311, 311, 311, 311, 312, 312, 312, 312, 313, 313, 314, 316, 316, 317, 317, 317, 317, 317, 317, 318, 318, 318, 319, 319, 319, 319, 319, 319, 320, 320, 320, 320, 320, 321, 321, 321, 321, 321, 321, 321, 321, 322, 322, 322, 322, 322, 322, 323, 323, 323, 323, 323, 324, 324, 324, 324, 324, 324, 324, 324, 325, 325, 325, 326, 326, 326, 326, 326, 327, 327, 327, 327, 330, 331], \"xaxis\": \"x3\", \"y\": [7.90607224959713, 7.93857182000995, 8.003570960835596, 8.036070531248416, 8.036070531248416, 8.036070531248416, 8.036070531248416, 8.231067953725347, 8.263567524138168, 8.263567524138168, 8.328566664963812, 8.328566664963812, 8.361066235376633, 8.361066235376633, 8.361066235376633, 8.361066235376633, 8.361066235376633, 8.393565805789454, 8.393565805789454, 8.393565805789454, 8.393565805789454, 8.426065376202278, 8.426065376202278, 8.458564946615098, 8.523564087440743, 8.523564087440743, 8.556063657853564, 8.556063657853564, 8.556063657853564, 8.556063657853564, 8.556063657853564, 8.556063657853564, 8.588563228266384, 8.588563228266384, 8.588563228266384, 8.621062798679208, 8.621062798679208, 8.621062798679208, 8.621062798679208, 8.621062798679208, 8.621062798679208, 8.653562369092029, 8.653562369092029, 8.653562369092029, 8.653562369092029, 8.653562369092029, 8.68606193950485, 8.68606193950485, 8.68606193950485, 8.68606193950485, 8.68606193950485, 8.68606193950485, 8.68606193950485, 8.68606193950485, 8.718561509917674, 8.718561509917674, 8.718561509917674, 8.718561509917674, 8.718561509917674, 8.718561509917674, 8.751061080330494, 8.751061080330494, 8.751061080330494, 8.751061080330494, 8.751061080330494, 8.783560650743315, 8.783560650743315, 8.783560650743315, 8.783560650743315, 8.783560650743315, 8.783560650743315, 8.783560650743315, 8.783560650743315, 8.816060221156135, 8.816060221156135, 8.816060221156135, 8.84855979156896, 8.84855979156896, 8.84855979156896, 8.84855979156896, 8.84855979156896, 8.88105936198178, 8.88105936198178, 8.88105936198178, 8.88105936198178, 8.978558073220245, 9.011057643633066], \"yaxis\": \"y3\"}, {\"hovertemplate\": \"Research=True<br>University Rating=4<br>GRE Score=%{x}<br>CGPA=%{y}<extra></extra>\", \"legendgroup\": \"True\", \"marker\": {\"color\": \"#636efa\", \"symbol\": \"circle\"}, \"mode\": \"markers\", \"name\": \"True\", \"orientation\": \"v\", \"showlegend\": false, \"type\": \"scatter\", \"x\": [334, 331, 328, 324, 330, 326, 322, 329, 333, 324, 330, 298, 327, 320, 336, 330, 324, 314, 323, 326, 340, 319, 329, 327, 308, 321, 325, 314, 323, 322, 327, 328, 337, 339, 310, 314, 340, 325, 321, 334, 322, 323, 321, 320, 329, 327, 325, 329, 328, 338, 332, 324, 327, 328, 338, 327, 329, 334, 328, 314, 340, 316, 324, 338, 340, 328, 335, 328, 324, 325, 312, 325, 311, 324, 327, 324, 326, 322, 325, 321, 331, 331], \"xaxis\": \"x4\", \"y\": [9.54, 9.44, 9.6, 9.25, 9.45, 9.12, 8.02, 9.23, 9.66, 9.22, 9.23, 7.69, 9.67, 8.86, 9.62, 9.17, 9.15, 8.73, 8.88, 9.16, 9.74, 8.66, 9.36, 9.48, 7.95, 8.35, 8.96, 7.88, 8.48, 9.02, 8.75, 8.77, 9.65, 9.8, 9.04, 8.77, 9.92, 8.67, 8.68, 9.43, 9.13, 9.23, 8.97, 8.87, 9.16, 9.11, 9.06, 9.01, 9.14, 9.46, 9.24, 8.87, 9.0, 9.1, 9.4, 8.4, 9.18, 8.0, 9.16, 9.04, 9.5, 8.76, 8.1, 9.66, 9.66, 9.18, 9.68, 9.02, 8.77, 9.0, 8.65, 9.17, 9.0, 9.01, 8.69, 8.97, 8.76, 9.26, 9.11, 9.13, 9.34, 9.42], \"yaxis\": \"y4\"}, {\"hovertemplate\": \"<b>OLS trendline</b><br>CGPA = 0.0405946 * GRE Score + -4.17994<br>R<sup>2</sup>=0.483240<br><br>Research=True<br>University Rating=4<br>GRE Score=%{x}<br>CGPA=%{y} <b>(trend)</b><extra></extra>\", \"legendgroup\": \"True\", \"marker\": {\"color\": \"#636efa\", \"symbol\": \"circle\"}, \"mode\": \"lines\", \"name\": \"True\", \"showlegend\": false, \"type\": \"scatter\", \"x\": [298, 308, 310, 311, 312, 314, 314, 314, 314, 316, 319, 320, 320, 321, 321, 321, 321, 322, 322, 322, 322, 323, 323, 323, 324, 324, 324, 324, 324, 324, 324, 324, 325, 325, 325, 325, 325, 325, 326, 326, 326, 327, 327, 327, 327, 327, 327, 327, 328, 328, 328, 328, 328, 328, 328, 329, 329, 329, 329, 329, 330, 330, 330, 331, 331, 331, 332, 333, 334, 334, 334, 335, 336, 337, 338, 338, 338, 339, 340, 340, 340, 340], \"xaxis\": \"x4\", \"y\": [7.9172531822947665, 8.323199345412485, 8.404388578036027, 8.444983194347799, 8.48557781065957, 8.566767043283114, 8.566767043283114, 8.566767043283114, 8.566767043283114, 8.647956275906658, 8.769740124841974, 8.810334741153744, 8.810334741153744, 8.850929357465516, 8.850929357465516, 8.850929357465516, 8.850929357465516, 8.891523973777288, 8.891523973777288, 8.891523973777288, 8.891523973777288, 8.93211859008906, 8.93211859008906, 8.93211859008906, 8.972713206400831, 8.972713206400831, 8.972713206400831, 8.972713206400831, 8.972713206400831, 8.972713206400831, 8.972713206400831, 8.972713206400831, 9.013307822712603, 9.013307822712603, 9.013307822712603, 9.013307822712603, 9.013307822712603, 9.013307822712603, 9.053902439024375, 9.053902439024375, 9.053902439024375, 9.094497055336147, 9.094497055336147, 9.094497055336147, 9.094497055336147, 9.094497055336147, 9.094497055336147, 9.094497055336147, 9.135091671647919, 9.135091671647919, 9.135091671647919, 9.135091671647919, 9.135091671647919, 9.135091671647919, 9.135091671647919, 9.17568628795969, 9.17568628795969, 9.17568628795969, 9.17568628795969, 9.17568628795969, 9.216280904271462, 9.216280904271462, 9.216280904271462, 9.256875520583234, 9.256875520583234, 9.256875520583234, 9.297470136895004, 9.338064753206776, 9.378659369518548, 9.378659369518548, 9.378659369518548, 9.41925398583032, 9.459848602142092, 9.500443218453864, 9.541037834765635, 9.541037834765635, 9.541037834765635, 9.581632451077407, 9.62222706738918, 9.62222706738918, 9.62222706738918, 9.62222706738918], \"yaxis\": \"y4\"}, {\"hovertemplate\": \"Research=True<br>University Rating=5<br>GRE Score=%{x}<br>CGPA=%{y}<extra></extra>\", \"legendgroup\": \"True\", \"marker\": {\"color\": \"#636efa\", \"symbol\": \"circle\"}, \"mode\": \"markers\", \"name\": \"True\", \"orientation\": \"v\", \"showlegend\": false, \"type\": \"scatter\", \"x\": [340, 320, 320, 332, 318, 336, 324, 322, 321, 333, 329, 330, 337, 332, 338, 330, 323, 332, 328, 334, 340, 340, 331, 320, 326, 336, 336, 322, 327, 329, 325, 334, 329, 334, 326, 330, 335, 331, 324, 324, 323, 322, 336, 340, 334, 330, 323, 331, 321, 340, 331, 327, 335, 328, 324, 321, 334, 335, 333, 339, 333, 331, 332, 324], \"xaxis\": \"x5\", \"y\": [9.45, 9.22, 9.27, 9.64, 8.78, 9.76, 9.08, 9.36, 9.45, 9.78, 9.3, 9.56, 9.87, 9.02, 9.23, 9.34, 8.74, 9.47, 9.5, 9.7, 9.6, 9.6, 9.8, 9.2, 9.4, 9.19, 9.8, 9.1, 9.13, 9.45, 9.46, 9.54, 9.19, 9.07, 9.23, 9.31, 9.44, 9.36, 9.08, 9.16, 8.98, 8.94, 9.53, 9.91, 9.87, 9.36, 9.86, 9.26, 9.06, 9.06, 9.38, 8.84, 9.56, 9.08, 9.25, 9.16, 9.48, 9.82, 9.35, 9.76, 9.28, 9.44, 9.28, 8.66], \"yaxis\": \"y5\"}, {\"hovertemplate\": \"<b>OLS trendline</b><br>CGPA = 0.0271578 * GRE Score + 0.40053<br>R<sup>2</sup>=0.311449<br><br>Research=True<br>University Rating=5<br>GRE Score=%{x}<br>CGPA=%{y} <b>(trend)</b><extra></extra>\", \"legendgroup\": \"True\", \"marker\": {\"color\": \"#636efa\", \"symbol\": \"circle\"}, \"mode\": \"lines\", \"name\": \"True\", \"showlegend\": false, \"type\": \"scatter\", \"x\": [318, 320, 320, 320, 321, 321, 321, 322, 322, 322, 323, 323, 323, 324, 324, 324, 324, 324, 325, 326, 326, 327, 327, 328, 328, 329, 329, 329, 330, 330, 330, 330, 331, 331, 331, 331, 331, 332, 332, 332, 332, 333, 333, 333, 334, 334, 334, 334, 334, 335, 335, 335, 336, 336, 336, 336, 337, 338, 339, 340, 340, 340, 340, 340], \"xaxis\": \"x5\", \"y\": [9.036721109151063, 9.091036777183824, 9.091036777183824, 9.091036777183824, 9.118194611200204, 9.118194611200204, 9.118194611200204, 9.145352445216583, 9.145352445216583, 9.145352445216583, 9.172510279232963, 9.172510279232963, 9.172510279232963, 9.199668113249343, 9.199668113249343, 9.199668113249343, 9.199668113249343, 9.199668113249343, 9.226825947265723, 9.253983781282104, 9.253983781282104, 9.281141615298482, 9.281141615298482, 9.308299449314863, 9.308299449314863, 9.335457283331243, 9.335457283331243, 9.335457283331243, 9.362615117347623, 9.362615117347623, 9.362615117347623, 9.362615117347623, 9.389772951364002, 9.389772951364002, 9.389772951364002, 9.389772951364002, 9.389772951364002, 9.416930785380382, 9.416930785380382, 9.416930785380382, 9.416930785380382, 9.444088619396762, 9.444088619396762, 9.444088619396762, 9.471246453413142, 9.471246453413142, 9.471246453413142, 9.471246453413142, 9.471246453413142, 9.498404287429523, 9.498404287429523, 9.498404287429523, 9.525562121445901, 9.525562121445901, 9.525562121445901, 9.525562121445901, 9.552719955462281, 9.579877789478662, 9.607035623495042, 9.634193457511422, 9.634193457511422, 9.634193457511422, 9.634193457511422, 9.634193457511422], \"yaxis\": \"y5\"}, {\"hovertemplate\": \"Research=False<br>University Rating=1<br>GRE Score=%{x}<br>CGPA=%{y}<extra></extra>\", \"legendgroup\": \"False\", \"marker\": {\"color\": \"#EF553B\", \"symbol\": \"diamond\"}, \"mode\": \"markers\", \"name\": \"False\", \"orientation\": \"v\", \"showlegend\": true, \"type\": \"scatter\", \"x\": [295, 318, 294, 300, 304, 315, 311, 290, 300, 303, 299, 298, 298, 297, 296, 295, 302, 301, 316, 294, 302, 315, 300, 299], \"xaxis\": \"x\", \"y\": [7.2, 9.12, 7.64, 7.8, 7.5, 7.95, 7.46, 7.56, 8.01, 7.65, 7.89, 7.88, 7.46, 7.9, 7.68, 7.57, 7.25, 7.56, 7.43, 7.36, 8.0, 7.86, 8.02, 7.34], \"yaxis\": \"y\"}, {\"hovertemplate\": \"<b>OLS trendline</b><br>CGPA = 0.0216094 * GRE Score + 1.19144<br>R<sup>2</sup>=0.182772<br><br>Research=False<br>University Rating=1<br>GRE Score=%{x}<br>CGPA=%{y} <b>(trend)</b><extra></extra>\", \"legendgroup\": \"False\", \"marker\": {\"color\": \"#EF553B\", \"symbol\": \"diamond\"}, \"mode\": \"lines\", \"name\": \"False\", \"showlegend\": false, \"type\": \"scatter\", \"x\": [290, 294, 294, 295, 295, 296, 297, 298, 298, 299, 299, 300, 300, 300, 301, 302, 302, 303, 304, 311, 315, 315, 316, 318], \"xaxis\": \"x\", \"y\": [7.458172573377199, 7.544610278894189, 7.544610278894189, 7.566219705273436, 7.566219705273436, 7.587829131652684, 7.609438558031931, 7.631047984411178, 7.631047984411178, 7.652657410790425, 7.652657410790425, 7.674266837169673, 7.674266837169673, 7.674266837169673, 7.695876263548921, 7.717485689928168, 7.717485689928168, 7.739095116307415, 7.760704542686662, 7.911970527341394, 7.998408232858383, 7.998408232858383, 8.02001765923763, 8.063236511996125], \"yaxis\": \"y\"}, {\"hovertemplate\": \"Research=False<br>University Rating=2<br>GRE Score=%{x}<br>CGPA=%{y}<extra></extra>\", \"legendgroup\": \"False\", \"marker\": {\"color\": \"#EF553B\", \"symbol\": \"diamond\"}, \"mode\": \"markers\", \"name\": \"False\", \"orientation\": \"v\", \"showlegend\": false, \"type\": \"scatter\", \"x\": [317, 306, 316, 312, 296, 299, 317, 320, 304, 315, 314, 307, 299, 305, 300, 312, 302, 314, 297, 310, 321, 304, 302, 307, 309, 316, 306, 309, 296, 312, 316, 314, 305, 308, 320, 311, 312, 309, 305, 299, 298, 309, 310, 305, 315, 306, 295, 299, 307, 312, 295, 312, 306, 308, 317, 314, 297, 308, 305, 296, 304, 315, 304, 295, 305, 304, 317, 297, 305, 310, 310, 306, 298, 301, 317, 313, 319, 311, 317, 313, 298, 314, 308, 298, 309, 311, 305, 316, 314], \"xaxis\": \"x2\", \"y\": [8.47, 8.0, 8.32, 9.02, 7.28, 7.88, 8.57, 8.56, 7.66, 7.65, 8.56, 7.65, 7.88, 7.64, 7.87, 8.12, 7.97, 8.25, 7.43, 8.01, 8.44, 8.73, 7.96, 8.1, 8.03, 9.0, 8.14, 8.26, 7.8, 8.45, 8.74, 7.64, 7.79, 8.49, 8.62, 8.48, 8.46, 7.68, 8.42, 7.86, 8.03, 8.0, 7.3, 8.16, 7.89, 8.36, 7.65, 8.4, 7.7, 8.27, 7.86, 8.53, 8.45, 8.45, 8.12, 8.21, 7.67, 7.9, 8.23, 8.03, 8.22, 8.34, 7.64, 7.34, 8.13, 8.07, 8.76, 7.89, 8.18, 8.33, 8.24, 8.26, 7.21, 8.22, 8.15, 8.43, 8.76, 7.98, 8.28, 8.13, 7.6, 8.27, 8.07, 7.86, 8.1, 8.3, 8.13, 8.15, 8.24], \"yaxis\": \"y2\"}, {\"hovertemplate\": \"<b>OLS trendline</b><br>CGPA = 0.0320093 * GRE Score + -1.73478<br>R<sup>2</sup>=0.352557<br><br>Research=False<br>University Rating=2<br>GRE Score=%{x}<br>CGPA=%{y} <b>(trend)</b><extra></extra>\", \"legendgroup\": \"False\", \"marker\": {\"color\": \"#EF553B\", \"symbol\": \"diamond\"}, \"mode\": \"lines\", \"name\": \"False\", \"showlegend\": false, \"type\": \"scatter\", \"x\": [295, 295, 295, 296, 296, 296, 297, 297, 297, 298, 298, 298, 298, 299, 299, 299, 299, 300, 301, 302, 302, 304, 304, 304, 304, 304, 305, 305, 305, 305, 305, 305, 305, 305, 306, 306, 306, 306, 306, 307, 307, 307, 308, 308, 308, 308, 309, 309, 309, 309, 309, 310, 310, 310, 310, 311, 311, 311, 312, 312, 312, 312, 312, 312, 313, 313, 314, 314, 314, 314, 314, 314, 315, 315, 315, 316, 316, 316, 316, 317, 317, 317, 317, 317, 317, 319, 320, 320, 321], \"xaxis\": \"x2\", \"y\": [7.7079492619390955, 7.7079492619390955, 7.7079492619390955, 7.739958518706194, 7.739958518706194, 7.739958518706194, 7.771967775473293, 7.771967775473293, 7.771967775473293, 7.80397703224039, 7.80397703224039, 7.80397703224039, 7.80397703224039, 7.835986289007488, 7.835986289007488, 7.835986289007488, 7.835986289007488, 7.867995545774585, 7.900004802541684, 7.932014059308781, 7.932014059308781, 7.996032572842978, 7.996032572842978, 7.996032572842978, 7.996032572842978, 7.996032572842978, 8.028041829610075, 8.028041829610075, 8.028041829610075, 8.028041829610075, 8.028041829610075, 8.028041829610075, 8.028041829610075, 8.028041829610075, 8.060051086377173, 8.060051086377173, 8.060051086377173, 8.060051086377173, 8.060051086377173, 8.09206034314427, 8.09206034314427, 8.09206034314427, 8.124069599911369, 8.124069599911369, 8.124069599911369, 8.124069599911369, 8.156078856678466, 8.156078856678466, 8.156078856678466, 8.156078856678466, 8.156078856678466, 8.188088113445565, 8.188088113445565, 8.188088113445565, 8.188088113445565, 8.220097370212663, 8.220097370212663, 8.220097370212663, 8.25210662697976, 8.25210662697976, 8.25210662697976, 8.25210662697976, 8.25210662697976, 8.25210662697976, 8.284115883746859, 8.284115883746859, 8.316125140513956, 8.316125140513956, 8.316125140513956, 8.316125140513956, 8.316125140513956, 8.316125140513956, 8.348134397281054, 8.348134397281054, 8.348134397281054, 8.380143654048151, 8.380143654048151, 8.380143654048151, 8.380143654048151, 8.41215291081525, 8.41215291081525, 8.41215291081525, 8.41215291081525, 8.41215291081525, 8.41215291081525, 8.476171424349445, 8.508180681116544, 8.508180681116544, 8.54018993788364], \"yaxis\": \"y2\"}, {\"hovertemplate\": \"Research=False<br>University Rating=3<br>GRE Score=%{x}<br>CGPA=%{y}<extra></extra>\", \"legendgroup\": \"False\", \"marker\": {\"color\": \"#EF553B\", \"symbol\": \"diamond\"}, \"mode\": \"markers\", \"name\": \"False\", \"orientation\": \"v\", \"showlegend\": false, \"type\": \"scatter\", \"x\": [318, 318, 316, 313, 310, 313, 315, 299, 301, 308, 313, 300, 319, 312, 300, 312, 313, 310, 320, 305, 309, 316, 312, 307, 325, 311, 327, 314, 304, 315, 314, 299, 303, 313, 315, 299, 316, 308, 320, 323, 314, 317, 318, 303, 302, 319, 304, 300, 322, 313, 299, 316, 315, 309, 300, 314, 302, 311, 313, 302, 298, 312, 316, 319, 307, 312, 324, 326, 312, 315, 318, 312, 315, 317, 306], \"xaxis\": \"x3\", \"y\": [8.65, 8.67, 8.73, 8.65, 8.37, 9.0, 8.33, 8.02, 8.04, 8.24, 8.04, 8.17, 8.79, 8.53, 8.26, 8.09, 8.68, 8.67, 9.11, 8.65, 8.56, 8.56, 8.42, 8.2, 8.7, 8.09, 9.02, 8.9, 7.86, 8.42, 8.14, 7.66, 7.66, 8.75, 9.13, 8.62, 7.4, 8.22, 7.7, 8.6, 8.3, 8.7, 8.8, 8.5, 8.5, 8.37, 8.12, 7.88, 8.0, 8.27, 7.42, 7.68, 8.1, 8.12, 8.16, 8.8, 8.33, 8.43, 8.69, 7.45, 8.54, 8.78, 8.76, 9.04, 8.27, 8.57, 8.75, 8.89, 8.45, 8.34, 8.5, 8.69, 8.48, 8.56, 8.21], \"yaxis\": \"y3\"}, {\"hovertemplate\": \"<b>OLS trendline</b><br>CGPA = 0.0260198 * GRE Score + 0.289946<br>R<sup>2</sup>=0.226218<br><br>Research=False<br>University Rating=3<br>GRE Score=%{x}<br>CGPA=%{y} <b>(trend)</b><extra></extra>\", \"legendgroup\": \"False\", \"marker\": {\"color\": \"#EF553B\", \"symbol\": \"diamond\"}, \"mode\": \"lines\", \"name\": \"False\", \"showlegend\": false, \"type\": \"scatter\", \"x\": [298, 299, 299, 299, 299, 300, 300, 300, 300, 301, 302, 302, 302, 303, 303, 304, 304, 305, 306, 307, 307, 308, 308, 309, 309, 310, 310, 311, 311, 312, 312, 312, 312, 312, 312, 312, 313, 313, 313, 313, 313, 313, 313, 314, 314, 314, 314, 315, 315, 315, 315, 315, 315, 316, 316, 316, 316, 316, 317, 317, 318, 318, 318, 318, 319, 319, 319, 320, 320, 322, 323, 324, 325, 326, 327], \"xaxis\": \"x3\", \"y\": [8.043838543579675, 8.069858316668684, 8.069858316668684, 8.069858316668684, 8.069858316668684, 8.095878089757694, 8.095878089757694, 8.095878089757694, 8.095878089757694, 8.121897862846701, 8.147917635935713, 8.147917635935713, 8.147917635935713, 8.17393740902472, 8.17393740902472, 8.199957182113732, 8.199957182113732, 8.22597695520274, 8.25199672829175, 8.278016501380758, 8.278016501380758, 8.30403627446977, 8.30403627446977, 8.330056047558777, 8.330056047558777, 8.356075820647789, 8.356075820647789, 8.382095593736796, 8.382095593736796, 8.408115366825808, 8.408115366825808, 8.408115366825808, 8.408115366825808, 8.408115366825808, 8.408115366825808, 8.408115366825808, 8.434135139914815, 8.434135139914815, 8.434135139914815, 8.434135139914815, 8.434135139914815, 8.434135139914815, 8.434135139914815, 8.460154913003826, 8.460154913003826, 8.460154913003826, 8.460154913003826, 8.486174686092834, 8.486174686092834, 8.486174686092834, 8.486174686092834, 8.486174686092834, 8.486174686092834, 8.512194459181845, 8.512194459181845, 8.512194459181845, 8.512194459181845, 8.512194459181845, 8.538214232270853, 8.538214232270853, 8.564234005359864, 8.564234005359864, 8.564234005359864, 8.564234005359864, 8.590253778448872, 8.590253778448872, 8.590253778448872, 8.616273551537883, 8.616273551537883, 8.668313097715899, 8.69433287080491, 8.720352643893918, 8.746372416982929, 8.772392190071937, 8.798411963160948], \"yaxis\": \"y3\"}, {\"hovertemplate\": \"Research=False<br>University Rating=4<br>GRE Score=%{x}<br>CGPA=%{y}<extra></extra>\", \"legendgroup\": \"False\", \"marker\": {\"color\": \"#EF553B\", \"symbol\": \"diamond\"}, \"mode\": \"markers\", \"name\": \"False\", \"orientation\": \"v\", \"showlegend\": false, \"type\": \"scatter\", \"x\": [316, 297, 305, 307, 327, 309, 290, 310, 301, 325, 332, 325, 319, 304, 327, 321, 312, 308, 307, 314, 308, 327, 324], \"xaxis\": \"x4\", \"y\": [8.54, 7.81, 8.26, 7.94, 9.14, 8.18, 7.46, 8.36, 8.47, 8.4, 9.1, 8.92, 8.66, 7.84, 9.04, 9.12, 8.43, 8.6, 8.37, 9.02, 8.34, 9.14, 8.79], \"yaxis\": \"y4\"}, {\"hovertemplate\": \"<b>OLS trendline</b><br>CGPA = 0.0371653 * GRE Score + -3.13988<br>R<sup>2</sup>=0.746000<br><br>Research=False<br>University Rating=4<br>GRE Score=%{x}<br>CGPA=%{y} <b>(trend)</b><extra></extra>\", \"legendgroup\": \"False\", \"marker\": {\"color\": \"#EF553B\", \"symbol\": \"diamond\"}, \"mode\": \"lines\", \"name\": \"False\", \"showlegend\": false, \"type\": \"scatter\", \"x\": [290, 297, 301, 304, 305, 307, 307, 308, 308, 309, 310, 312, 314, 316, 319, 321, 324, 325, 325, 327, 327, 327, 332], \"xaxis\": \"x4\", \"y\": [7.638040705034552, 7.898197487583973, 8.046858506183641, 8.158354270133392, 8.19551952478331, 8.269850034083145, 8.269850034083145, 8.307015288733062, 8.307015288733062, 8.34418054338298, 8.381345798032896, 8.45567630733273, 8.530006816632564, 8.604337325932399, 8.71583308988215, 8.790163599181986, 8.901659363131737, 8.938824617781654, 8.938824617781654, 9.013155127081488, 9.013155127081488, 9.013155127081488, 9.198981400331073], \"yaxis\": \"y4\"}, {\"hovertemplate\": \"Research=False<br>University Rating=5<br>GRE Score=%{x}<br>CGPA=%{y}<extra></extra>\", \"legendgroup\": \"False\", \"marker\": {\"color\": \"#EF553B\", \"symbol\": \"diamond\"}, \"mode\": \"markers\", \"name\": \"False\", \"orientation\": \"v\", \"showlegend\": false, \"type\": \"scatter\", \"x\": [339, 322, 304, 322, 304, 305, 303, 309, 323], \"xaxis\": \"x5\", \"y\": [9.7, 8.8, 7.92, 8.97, 8.64, 8.48, 8.65, 8.56, 8.78], \"yaxis\": \"y5\"}, {\"hovertemplate\": \"<b>OLS trendline</b><br>CGPA = 0.031949 * GRE Score + -1.3275<br>R<sup>2</sup>=0.726686<br><br>Research=False<br>University Rating=5<br>GRE Score=%{x}<br>CGPA=%{y} <b>(trend)</b><extra></extra>\", \"legendgroup\": \"False\", \"marker\": {\"color\": \"#EF553B\", \"symbol\": \"diamond\"}, \"mode\": \"lines\", \"name\": \"False\", \"showlegend\": false, \"type\": \"scatter\", \"x\": [303, 304, 304, 305, 309, 322, 322, 323, 339], \"xaxis\": \"x5\", \"y\": [8.353034263511137, 8.38498322147652, 8.38498322147652, 8.416932179441904, 8.544728011303437, 8.960064464853419, 8.960064464853419, 8.992013422818802, 9.503196750264935], \"yaxis\": \"y5\"}],                        {\"annotations\": [{\"font\": {}, \"showarrow\": false, \"text\": \"University Rating=1\", \"x\": 0.09200000000000001, \"xanchor\": \"center\", \"xref\": \"paper\", \"y\": 1.0, \"yanchor\": \"bottom\", \"yref\": \"paper\"}, {\"font\": {}, \"showarrow\": false, \"text\": \"University Rating=2\", \"x\": 0.29600000000000004, \"xanchor\": \"center\", \"xref\": \"paper\", \"y\": 1.0, \"yanchor\": \"bottom\", \"yref\": \"paper\"}, {\"font\": {}, \"showarrow\": false, \"text\": \"University Rating=3\", \"x\": 0.5, \"xanchor\": \"center\", \"xref\": \"paper\", \"y\": 1.0, \"yanchor\": \"bottom\", \"yref\": \"paper\"}, {\"font\": {}, \"showarrow\": false, \"text\": \"University Rating=4\", \"x\": 0.7040000000000002, \"xanchor\": \"center\", \"xref\": \"paper\", \"y\": 1.0, \"yanchor\": \"bottom\", \"yref\": \"paper\"}, {\"font\": {}, \"showarrow\": false, \"text\": \"University Rating=5\", \"x\": 0.908, \"xanchor\": \"center\", \"xref\": \"paper\", \"y\": 1.0, \"yanchor\": \"bottom\", \"yref\": \"paper\"}], \"legend\": {\"title\": {\"text\": \"Research\"}, \"tracegroupgap\": 0}, \"margin\": {\"t\": 60}, \"template\": {\"data\": {\"bar\": [{\"error_x\": {\"color\": \"#2a3f5f\"}, \"error_y\": {\"color\": \"#2a3f5f\"}, \"marker\": {\"line\": {\"color\": \"#E5ECF6\", \"width\": 0.5}}, \"type\": \"bar\"}], \"barpolar\": [{\"marker\": {\"line\": {\"color\": \"#E5ECF6\", \"width\": 0.5}}, \"type\": \"barpolar\"}], \"carpet\": [{\"aaxis\": {\"endlinecolor\": \"#2a3f5f\", \"gridcolor\": \"white\", \"linecolor\": \"white\", \"minorgridcolor\": \"white\", \"startlinecolor\": \"#2a3f5f\"}, \"baxis\": {\"endlinecolor\": \"#2a3f5f\", \"gridcolor\": \"white\", \"linecolor\": \"white\", \"minorgridcolor\": \"white\", \"startlinecolor\": \"#2a3f5f\"}, \"type\": \"carpet\"}], \"choropleth\": [{\"colorbar\": {\"outlinewidth\": 0, \"ticks\": \"\"}, \"type\": \"choropleth\"}], \"contour\": [{\"colorbar\": {\"outlinewidth\": 0, \"ticks\": \"\"}, \"colorscale\": [[0.0, \"#0d0887\"], [0.1111111111111111, \"#46039f\"], [0.2222222222222222, \"#7201a8\"], [0.3333333333333333, \"#9c179e\"], [0.4444444444444444, \"#bd3786\"], [0.5555555555555556, \"#d8576b\"], [0.6666666666666666, \"#ed7953\"], [0.7777777777777778, \"#fb9f3a\"], [0.8888888888888888, \"#fdca26\"], [1.0, \"#f0f921\"]], \"type\": \"contour\"}], \"contourcarpet\": [{\"colorbar\": {\"outlinewidth\": 0, \"ticks\": \"\"}, \"type\": \"contourcarpet\"}], \"heatmap\": [{\"colorbar\": {\"outlinewidth\": 0, \"ticks\": \"\"}, \"colorscale\": [[0.0, \"#0d0887\"], [0.1111111111111111, \"#46039f\"], [0.2222222222222222, \"#7201a8\"], [0.3333333333333333, \"#9c179e\"], [0.4444444444444444, \"#bd3786\"], [0.5555555555555556, \"#d8576b\"], [0.6666666666666666, \"#ed7953\"], [0.7777777777777778, \"#fb9f3a\"], [0.8888888888888888, \"#fdca26\"], [1.0, \"#f0f921\"]], \"type\": \"heatmap\"}], \"heatmapgl\": [{\"colorbar\": {\"outlinewidth\": 0, \"ticks\": \"\"}, \"colorscale\": [[0.0, \"#0d0887\"], [0.1111111111111111, \"#46039f\"], [0.2222222222222222, \"#7201a8\"], [0.3333333333333333, \"#9c179e\"], [0.4444444444444444, \"#bd3786\"], [0.5555555555555556, \"#d8576b\"], [0.6666666666666666, \"#ed7953\"], [0.7777777777777778, \"#fb9f3a\"], [0.8888888888888888, \"#fdca26\"], [1.0, \"#f0f921\"]], \"type\": \"heatmapgl\"}], \"histogram\": [{\"marker\": {\"colorbar\": {\"outlinewidth\": 0, \"ticks\": \"\"}}, \"type\": \"histogram\"}], \"histogram2d\": [{\"colorbar\": {\"outlinewidth\": 0, \"ticks\": \"\"}, \"colorscale\": [[0.0, \"#0d0887\"], [0.1111111111111111, \"#46039f\"], [0.2222222222222222, \"#7201a8\"], [0.3333333333333333, \"#9c179e\"], [0.4444444444444444, \"#bd3786\"], [0.5555555555555556, \"#d8576b\"], [0.6666666666666666, \"#ed7953\"], [0.7777777777777778, \"#fb9f3a\"], [0.8888888888888888, \"#fdca26\"], [1.0, \"#f0f921\"]], \"type\": \"histogram2d\"}], \"histogram2dcontour\": [{\"colorbar\": {\"outlinewidth\": 0, \"ticks\": \"\"}, \"colorscale\": [[0.0, \"#0d0887\"], [0.1111111111111111, \"#46039f\"], [0.2222222222222222, \"#7201a8\"], [0.3333333333333333, \"#9c179e\"], [0.4444444444444444, \"#bd3786\"], [0.5555555555555556, \"#d8576b\"], [0.6666666666666666, \"#ed7953\"], [0.7777777777777778, \"#fb9f3a\"], [0.8888888888888888, \"#fdca26\"], [1.0, \"#f0f921\"]], \"type\": \"histogram2dcontour\"}], \"mesh3d\": [{\"colorbar\": {\"outlinewidth\": 0, \"ticks\": \"\"}, \"type\": \"mesh3d\"}], \"parcoords\": [{\"line\": {\"colorbar\": {\"outlinewidth\": 0, \"ticks\": \"\"}}, \"type\": \"parcoords\"}], \"pie\": [{\"automargin\": true, \"type\": \"pie\"}], \"scatter\": [{\"marker\": {\"colorbar\": {\"outlinewidth\": 0, \"ticks\": \"\"}}, \"type\": \"scatter\"}], \"scatter3d\": [{\"line\": {\"colorbar\": {\"outlinewidth\": 0, \"ticks\": \"\"}}, \"marker\": {\"colorbar\": {\"outlinewidth\": 0, \"ticks\": \"\"}}, \"type\": \"scatter3d\"}], \"scattercarpet\": [{\"marker\": {\"colorbar\": {\"outlinewidth\": 0, \"ticks\": \"\"}}, \"type\": \"scattercarpet\"}], \"scattergeo\": [{\"marker\": {\"colorbar\": {\"outlinewidth\": 0, \"ticks\": \"\"}}, \"type\": \"scattergeo\"}], \"scattergl\": [{\"marker\": {\"colorbar\": {\"outlinewidth\": 0, \"ticks\": \"\"}}, \"type\": \"scattergl\"}], \"scattermapbox\": [{\"marker\": {\"colorbar\": {\"outlinewidth\": 0, \"ticks\": \"\"}}, \"type\": \"scattermapbox\"}], \"scatterpolar\": [{\"marker\": {\"colorbar\": {\"outlinewidth\": 0, \"ticks\": \"\"}}, \"type\": \"scatterpolar\"}], \"scatterpolargl\": [{\"marker\": {\"colorbar\": {\"outlinewidth\": 0, \"ticks\": \"\"}}, \"type\": \"scatterpolargl\"}], \"scatterternary\": [{\"marker\": {\"colorbar\": {\"outlinewidth\": 0, \"ticks\": \"\"}}, \"type\": \"scatterternary\"}], \"surface\": [{\"colorbar\": {\"outlinewidth\": 0, \"ticks\": \"\"}, \"colorscale\": [[0.0, \"#0d0887\"], [0.1111111111111111, \"#46039f\"], [0.2222222222222222, \"#7201a8\"], [0.3333333333333333, \"#9c179e\"], [0.4444444444444444, \"#bd3786\"], [0.5555555555555556, \"#d8576b\"], [0.6666666666666666, \"#ed7953\"], [0.7777777777777778, \"#fb9f3a\"], [0.8888888888888888, \"#fdca26\"], [1.0, \"#f0f921\"]], \"type\": \"surface\"}], \"table\": [{\"cells\": {\"fill\": {\"color\": \"#EBF0F8\"}, \"line\": {\"color\": \"white\"}}, \"header\": {\"fill\": {\"color\": \"#C8D4E3\"}, \"line\": {\"color\": \"white\"}}, \"type\": \"table\"}]}, \"layout\": {\"annotationdefaults\": {\"arrowcolor\": \"#2a3f5f\", \"arrowhead\": 0, \"arrowwidth\": 1}, \"autotypenumbers\": \"strict\", \"coloraxis\": {\"colorbar\": {\"outlinewidth\": 0, \"ticks\": \"\"}}, \"colorscale\": {\"diverging\": [[0, \"#8e0152\"], [0.1, \"#c51b7d\"], [0.2, \"#de77ae\"], [0.3, \"#f1b6da\"], [0.4, \"#fde0ef\"], [0.5, \"#f7f7f7\"], [0.6, \"#e6f5d0\"], [0.7, \"#b8e186\"], [0.8, \"#7fbc41\"], [0.9, \"#4d9221\"], [1, \"#276419\"]], \"sequential\": [[0.0, \"#0d0887\"], [0.1111111111111111, \"#46039f\"], [0.2222222222222222, \"#7201a8\"], [0.3333333333333333, \"#9c179e\"], [0.4444444444444444, \"#bd3786\"], [0.5555555555555556, \"#d8576b\"], [0.6666666666666666, \"#ed7953\"], [0.7777777777777778, \"#fb9f3a\"], [0.8888888888888888, \"#fdca26\"], [1.0, \"#f0f921\"]], \"sequentialminus\": [[0.0, \"#0d0887\"], [0.1111111111111111, \"#46039f\"], [0.2222222222222222, \"#7201a8\"], [0.3333333333333333, \"#9c179e\"], [0.4444444444444444, \"#bd3786\"], [0.5555555555555556, \"#d8576b\"], [0.6666666666666666, \"#ed7953\"], [0.7777777777777778, \"#fb9f3a\"], [0.8888888888888888, \"#fdca26\"], [1.0, \"#f0f921\"]]}, \"colorway\": [\"#636efa\", \"#EF553B\", \"#00cc96\", \"#ab63fa\", \"#FFA15A\", \"#19d3f3\", \"#FF6692\", \"#B6E880\", \"#FF97FF\", \"#FECB52\"], \"font\": {\"color\": \"#2a3f5f\"}, \"geo\": {\"bgcolor\": \"white\", \"lakecolor\": \"white\", \"landcolor\": \"#E5ECF6\", \"showlakes\": true, \"showland\": true, \"subunitcolor\": \"white\"}, \"hoverlabel\": {\"align\": \"left\"}, \"hovermode\": \"closest\", \"mapbox\": {\"style\": \"light\"}, \"paper_bgcolor\": \"white\", \"plot_bgcolor\": \"#E5ECF6\", \"polar\": {\"angularaxis\": {\"gridcolor\": \"white\", \"linecolor\": \"white\", \"ticks\": \"\"}, \"bgcolor\": \"#E5ECF6\", \"radialaxis\": {\"gridcolor\": \"white\", \"linecolor\": \"white\", \"ticks\": \"\"}}, \"scene\": {\"xaxis\": {\"backgroundcolor\": \"#E5ECF6\", \"gridcolor\": \"white\", \"gridwidth\": 2, \"linecolor\": \"white\", \"showbackground\": true, \"ticks\": \"\", \"zerolinecolor\": \"white\"}, \"yaxis\": {\"backgroundcolor\": \"#E5ECF6\", \"gridcolor\": \"white\", \"gridwidth\": 2, \"linecolor\": \"white\", \"showbackground\": true, \"ticks\": \"\", \"zerolinecolor\": \"white\"}, \"zaxis\": {\"backgroundcolor\": \"#E5ECF6\", \"gridcolor\": \"white\", \"gridwidth\": 2, \"linecolor\": \"white\", \"showbackground\": true, \"ticks\": \"\", \"zerolinecolor\": \"white\"}}, \"shapedefaults\": {\"line\": {\"color\": \"#2a3f5f\"}}, \"ternary\": {\"aaxis\": {\"gridcolor\": \"white\", \"linecolor\": \"white\", \"ticks\": \"\"}, \"baxis\": {\"gridcolor\": \"white\", \"linecolor\": \"white\", \"ticks\": \"\"}, \"bgcolor\": \"#E5ECF6\", \"caxis\": {\"gridcolor\": \"white\", \"linecolor\": \"white\", \"ticks\": \"\"}}, \"title\": {\"x\": 0.05}, \"xaxis\": {\"automargin\": true, \"gridcolor\": \"white\", \"linecolor\": \"white\", \"ticks\": \"\", \"title\": {\"standoff\": 15}, \"zerolinecolor\": \"white\", \"zerolinewidth\": 2}, \"yaxis\": {\"automargin\": true, \"gridcolor\": \"white\", \"linecolor\": \"white\", \"ticks\": \"\", \"title\": {\"standoff\": 15}, \"zerolinecolor\": \"white\", \"zerolinewidth\": 2}}}, \"xaxis\": {\"anchor\": \"y\", \"domain\": [0.0, 0.18400000000000002], \"title\": {\"text\": \"GRE Score\"}}, \"xaxis2\": {\"anchor\": \"y2\", \"domain\": [0.20400000000000001, 0.388], \"matches\": \"x\", \"title\": {\"text\": \"GRE Score\"}}, \"xaxis3\": {\"anchor\": \"y3\", \"domain\": [0.40800000000000003, 0.5920000000000001], \"matches\": \"x\", \"title\": {\"text\": \"GRE Score\"}}, \"xaxis4\": {\"anchor\": \"y4\", \"domain\": [0.6120000000000001, 0.7960000000000002], \"matches\": \"x\", \"title\": {\"text\": \"GRE Score\"}}, \"xaxis5\": {\"anchor\": \"y5\", \"domain\": [0.8160000000000001, 1.0], \"matches\": \"x\", \"title\": {\"text\": \"GRE Score\"}}, \"yaxis\": {\"anchor\": \"x\", \"domain\": [0.0, 1.0], \"title\": {\"text\": \"CGPA\"}}, \"yaxis2\": {\"anchor\": \"x2\", \"domain\": [0.0, 1.0], \"matches\": \"y\", \"showticklabels\": false}, \"yaxis3\": {\"anchor\": \"x3\", \"domain\": [0.0, 1.0], \"matches\": \"y\", \"showticklabels\": false}, \"yaxis4\": {\"anchor\": \"x4\", \"domain\": [0.0, 1.0], \"matches\": \"y\", \"showticklabels\": false}, \"yaxis5\": {\"anchor\": \"x5\", \"domain\": [0.0, 1.0], \"matches\": \"y\", \"showticklabels\": false}},                        {\"responsive\": true}                    ).then(function(){\n",
       "                            \n",
       "var gd = document.getElementById('d2f9fed8-f095-4158-875d-cdf71f8cbd54');\n",
       "var x = new MutationObserver(function (mutations, observer) {{\n",
       "        var display = window.getComputedStyle(gd).display;\n",
       "        if (!display || display === 'none') {{\n",
       "            console.log([gd, 'removed!']);\n",
       "            Plotly.purge(gd);\n",
       "            observer.disconnect();\n",
       "        }}\n",
       "}});\n",
       "\n",
       "// Listen for the removal of the full notebook cells\n",
       "var notebookContainer = gd.closest('#notebook-container');\n",
       "if (notebookContainer) {{\n",
       "    x.observe(notebookContainer, {childList: true});\n",
       "}}\n",
       "\n",
       "// Listen for the clearing of the current output cell\n",
       "var outputEl = gd.closest('.output');\n",
       "if (outputEl) {{\n",
       "    x.observe(outputEl, {childList: true});\n",
       "}}\n",
       "\n",
       "                        })                };                });            </script>        </div>"
      ]
     },
     "metadata": {},
     "output_type": "display_data"
    }
   ],
   "source": [
    "px.scatter(\n",
    "    data_frame=df,\n",
    "    x=\"GRE Score\",\n",
    "    y=\"CGPA\",\n",
    "    color=\"Research\",\n",
    "    facet_col=\"University Rating\",\n",
    "    trendline=\"ols\",\n",
    "    symbol=\"Research\",\n",
    ")"
   ]
  },
  {
   "cell_type": "markdown",
   "metadata": {
    "papermill": {
     "duration": 0.147655,
     "end_time": "2020-12-28T20:42:32.464402",
     "exception": false,
     "start_time": "2020-12-28T20:42:32.316747",
     "status": "completed"
    },
    "tags": []
   },
   "source": [
    "As we can see, higher university ranking is linked with research experience, and they both affects student's scores and GPA.\n",
    "\n",
    "We can also see that there are some *outlier* points, where student goes to a low-ranking university and has no research experience, but have *good* scores.\n",
    "\n",
    "This way of studying a how the relation between two variables changes as a function to other variables is very useful when we have a ver large amount of data, and we want to study the relation between two *quanitative variables*, and how this relation changes with respect to other *categorical variables*, as we will have fewer points to investigate, rather than a single scatter plot with too many points."
   ]
  }
 ],
 "metadata": {
  "kernelspec": {
   "display_name": "Python 3",
   "language": "python",
   "name": "python3"
  },
  "language_info": {
   "codemirror_mode": {
    "name": "ipython",
    "version": 3
   },
   "file_extension": ".py",
   "mimetype": "text/x-python",
   "name": "python",
   "nbconvert_exporter": "python",
   "pygments_lexer": "ipython3",
   "version": "3.7.6"
  },
  "papermill": {
   "duration": 73.027055,
   "end_time": "2020-12-28T20:42:32.720286",
   "environment_variables": {},
   "exception": null,
   "input_path": "__notebook__.ipynb",
   "output_path": "__notebook__.ipynb",
   "parameters": {},
   "start_time": "2020-12-28T20:41:19.693231",
   "version": "2.1.0"
  }
 },
 "nbformat": 4,
 "nbformat_minor": 4
}
